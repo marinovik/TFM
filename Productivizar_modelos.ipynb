{
  "nbformat": 4,
  "nbformat_minor": 0,
  "metadata": {
    "colab": {
      "name": "Productivizar modelos.ipynb",
      "provenance": [],
      "collapsed_sections": []
    },
    "kernelspec": {
      "name": "python3",
      "display_name": "Python 3"
    },
    "language_info": {
      "name": "python"
    }
  },
  "cells": [
    {
      "cell_type": "markdown",
      "metadata": {
        "id": "05VFtsAfmPE0"
      },
      "source": [
        "### A. PREPARAMOS LA BBDD PARA INTRODUCIR EN LOS MODELOS\n",
        "\n",
        "### LIMPIEZA UTILIZADA"
      ]
    },
    {
      "cell_type": "code",
      "metadata": {
        "id": "qfq3oA45Pl03"
      },
      "source": [
        "# Abrimos el fichero anterior de la carpeta\n",
        "df = pd.read_csv(\"./full-data.csv\")"
      ],
      "execution_count": 148,
      "outputs": []
    },
    {
      "cell_type": "code",
      "metadata": {
        "id": "YWt99ltGg5Zs",
        "colab": {
          "base_uri": "https://localhost:8080/"
        },
        "outputId": "64257ae9-4916-4ec8-eb24-da530e83b7a9"
      },
      "source": [
        "df.keys()"
      ],
      "execution_count": 149,
      "outputs": [
        {
          "output_type": "execute_result",
          "data": {
            "text/plain": [
              "Index(['Unnamed: 0', 'Unnamed: 0.1', 'Unnamed: 0.1.1', 'Unnamed: 0.1.1.1',\n",
              "       'text', 'created_at', 'created_at_time', 'created_at_hour', 'retweeted',\n",
              "       'retweet_count', 'favorite_count', 'user_ verified', 'user_id',\n",
              "       'user_name', 'user_location', 'user_notificacion', 'user_followers',\n",
              "       'user_friends', 'user_withheld_in_countries', 'mentions_in_tweet',\n",
              "       'is_reply', 'source_device', 'finished_tweet', 'status_count',\n",
              "       'hashtags_text', 'hastags_indices', 'hastags_in_tweet',\n",
              "       'possitivity_textblob', 'possitivity_vader', 'possitivity_ibm',\n",
              "       'sentiment_mean', 'sentiment_norm', 'sentiment'],\n",
              "      dtype='object')"
            ]
          },
          "metadata": {},
          "execution_count": 149
        }
      ]
    },
    {
      "cell_type": "code",
      "metadata": {
        "id": "xBsr9cVo1Ejk"
      },
      "source": [
        "# Defino las variables dependientes que eliminaremos del df\n",
        "vars = ['Unnamed: 0', 'Unnamed: 0.1', 'Unnamed: 0.1.1', 'Unnamed: 0.1.1.1', 'text', \n",
        "        'user_id', 'created_at_time', 'user_name', 'hashtags_text', 'hastags_indices',\n",
        "        'possitivity_textblob', 'possitivity_vader', 'possitivity_ibm', \n",
        "        'sentiment_mean', 'sentiment_norm', 'user_withheld_in_countries']\n",
        "df_limpio = df.drop(vars,axis=1)"
      ],
      "execution_count": 150,
      "outputs": []
    },
    {
      "cell_type": "code",
      "metadata": {
        "colab": {
          "base_uri": "https://localhost:8080/"
        },
        "id": "Yff-0Qpu3nDr",
        "outputId": "976d20c5-fb5d-4564-90cb-763346c3e4c0"
      },
      "source": [
        "df_limpio.shape"
      ],
      "execution_count": 151,
      "outputs": [
        {
          "output_type": "execute_result",
          "data": {
            "text/plain": [
              "(7809, 17)"
            ]
          },
          "metadata": {},
          "execution_count": 151
        }
      ]
    },
    {
      "cell_type": "code",
      "metadata": {
        "colab": {
          "base_uri": "https://localhost:8080/"
        },
        "id": "HDKMax89_Ksd",
        "outputId": "230a5d9d-b834-4148-ba82-ecffd8b07428"
      },
      "source": [
        "df_limpio.dtypes"
      ],
      "execution_count": 152,
      "outputs": [
        {
          "output_type": "execute_result",
          "data": {
            "text/plain": [
              "created_at            object\n",
              "created_at_hour        int64\n",
              "retweeted             object\n",
              "retweet_count          int64\n",
              "favorite_count         int64\n",
              "user_ verified       float64\n",
              "user_location         object\n",
              "user_notificacion       bool\n",
              "user_followers         int64\n",
              "user_friends           int64\n",
              "mentions_in_tweet      int64\n",
              "is_reply              object\n",
              "source_device         object\n",
              "finished_tweet          bool\n",
              "status_count           int64\n",
              "hastags_in_tweet       int64\n",
              "sentiment             object\n",
              "dtype: object"
            ]
          },
          "metadata": {},
          "execution_count": 152
        }
      ]
    },
    {
      "cell_type": "code",
      "metadata": {
        "colab": {
          "base_uri": "https://localhost:8080/"
        },
        "id": "ZD8CgIUH3ov7",
        "outputId": "bd1f2eae-cb71-4c9b-d86c-e4d87745c6b3"
      },
      "source": [
        "df_limpio.isna().sum()"
      ],
      "execution_count": 153,
      "outputs": [
        {
          "output_type": "execute_result",
          "data": {
            "text/plain": [
              "created_at              0\n",
              "created_at_hour         0\n",
              "retweeted               0\n",
              "retweet_count           0\n",
              "favorite_count          0\n",
              "user_ verified       7809\n",
              "user_location        2686\n",
              "user_notificacion       0\n",
              "user_followers          0\n",
              "user_friends            0\n",
              "mentions_in_tweet       0\n",
              "is_reply                0\n",
              "source_device           0\n",
              "finished_tweet          0\n",
              "status_count            0\n",
              "hastags_in_tweet        0\n",
              "sentiment               0\n",
              "dtype: int64"
            ]
          },
          "metadata": {},
          "execution_count": 153
        }
      ]
    },
    {
      "cell_type": "markdown",
      "metadata": {
        "id": "6k3dfuDqoHrb"
      },
      "source": [
        "#### Quitamos categóricas y convertimos en dummies (OneHotEncoder)\n",
        "Para que los modelos funcionen, tenemos que tener las categorías como dummies, sino pueden dar fallos, por ello realizamos la siguiente transformación. \n",
        "\n",
        "Para ello es necesario hacer algo de limpieza en las variables categóricas, recategorizar o agrupar categorías. Estudiamos las clases de las variables categóricas. "
      ]
    },
    {
      "cell_type": "code",
      "metadata": {
        "colab": {
          "base_uri": "https://localhost:8080/"
        },
        "id": "EDNL_OrgrKXw",
        "outputId": "b0eb59f0-c9bd-46e4-e5da-d66ac4359e57"
      },
      "source": [
        "# Vemos el resumen de las categóricas\n",
        "df_limpio.select_dtypes(['object']).keys()"
      ],
      "execution_count": 154,
      "outputs": [
        {
          "output_type": "execute_result",
          "data": {
            "text/plain": [
              "Index(['created_at', 'retweeted', 'user_location', 'is_reply', 'source_device',\n",
              "       'sentiment'],\n",
              "      dtype='object')"
            ]
          },
          "metadata": {},
          "execution_count": 154
        }
      ]
    },
    {
      "cell_type": "code",
      "metadata": {
        "colab": {
          "base_uri": "https://localhost:8080/"
        },
        "id": "nqoisDYNrkE1",
        "outputId": "97536017-b01e-4801-f6be-c8aa981eba23"
      },
      "source": [
        "df_limpio[['created_at']].value_counts() # OK"
      ],
      "execution_count": 155,
      "outputs": [
        {
          "output_type": "execute_result",
          "data": {
            "text/plain": [
              "created_at\n",
              "Mon Aug 09    5827\n",
              "Wed Aug 11    1982\n",
              "dtype: int64"
            ]
          },
          "metadata": {},
          "execution_count": 155
        }
      ]
    },
    {
      "cell_type": "code",
      "metadata": {
        "colab": {
          "base_uri": "https://localhost:8080/"
        },
        "id": "_hrfMNxMrp7H",
        "outputId": "8deede03-72c1-426c-da48-49e280d3a511"
      },
      "source": [
        "df_limpio[['retweeted']].value_counts() # OK"
      ],
      "execution_count": 156,
      "outputs": [
        {
          "output_type": "execute_result",
          "data": {
            "text/plain": [
              "retweeted\n",
              "No           6325\n",
              "Si           1484\n",
              "dtype: int64"
            ]
          },
          "metadata": {},
          "execution_count": 156
        }
      ]
    },
    {
      "cell_type": "code",
      "metadata": {
        "colab": {
          "base_uri": "https://localhost:8080/"
        },
        "id": "PDZSszPxruvA",
        "outputId": "47882529-d925-4211-a19b-e8e2c8827ef0"
      },
      "source": [
        "df_limpio[['is_reply']].value_counts()"
      ],
      "execution_count": 157,
      "outputs": [
        {
          "output_type": "execute_result",
          "data": {
            "text/plain": [
              "is_reply       \n",
              "No                 4181\n",
              "Uber_Support        237\n",
              "Uber                101\n",
              "Uber_Kryptonian      59\n",
              "joncoopertweets      39\n",
              "                   ... \n",
              "caz_000               1\n",
              "cbundy711             1\n",
              "ccbx22                1\n",
              "ccgr8_                1\n",
              "0510Kels              1\n",
              "Length: 2548, dtype: int64"
            ]
          },
          "metadata": {},
          "execution_count": 157
        }
      ]
    },
    {
      "cell_type": "code",
      "metadata": {
        "id": "X8A9Ms1_rz2C"
      },
      "source": [
        "# Cambio is_reply a una variable binaria (Si reply o No o Uber, porque nos interesa)\n",
        "\n",
        "cond1 = df_limpio['is_reply'].isin(['No','Uber_Support','Uber'])\n",
        "df_limpio['is_reply'] = df_limpio['is_reply'].where(cond1,'Si')"
      ],
      "execution_count": 158,
      "outputs": []
    },
    {
      "cell_type": "code",
      "metadata": {
        "colab": {
          "base_uri": "https://localhost:8080/"
        },
        "id": "MU2Ywn5ftTY5",
        "outputId": "8fa1b9ee-2e9e-45f0-f80d-2e55dab048e4"
      },
      "source": [
        "df_limpio[['is_reply']].value_counts()"
      ],
      "execution_count": 159,
      "outputs": [
        {
          "output_type": "execute_result",
          "data": {
            "text/plain": [
              "is_reply    \n",
              "No              4181\n",
              "Si              3290\n",
              "Uber_Support     237\n",
              "Uber             101\n",
              "dtype: int64"
            ]
          },
          "metadata": {},
          "execution_count": 159
        }
      ]
    },
    {
      "cell_type": "code",
      "metadata": {
        "id": "jRLyLV2TtaeP"
      },
      "source": [
        "# Uno categorías Uber_support y Uber\n",
        "cond2 = df_limpio['is_reply'].isin(['Si','No','Uber'])\n",
        "df_limpio['is_reply'] = df_limpio['is_reply'].where(cond2,'Uber')"
      ],
      "execution_count": 160,
      "outputs": []
    },
    {
      "cell_type": "code",
      "metadata": {
        "colab": {
          "base_uri": "https://localhost:8080/"
        },
        "id": "2q72pAOjtoxF",
        "outputId": "eef5e1c7-b521-4167-8c77-12b99f5ec694"
      },
      "source": [
        "df_limpio[['is_reply']].value_counts() # OK"
      ],
      "execution_count": 161,
      "outputs": [
        {
          "output_type": "execute_result",
          "data": {
            "text/plain": [
              "is_reply\n",
              "No          4181\n",
              "Si          3290\n",
              "Uber         338\n",
              "dtype: int64"
            ]
          },
          "metadata": {},
          "execution_count": 161
        }
      ]
    },
    {
      "cell_type": "code",
      "metadata": {
        "colab": {
          "base_uri": "https://localhost:8080/"
        },
        "id": "KSp-S5duuEpU",
        "outputId": "97381d5f-6453-4f72-c61b-738432c3cdeb"
      },
      "source": [
        "df_limpio[['source_device']].value_counts()"
      ],
      "execution_count": 162,
      "outputs": [
        {
          "output_type": "execute_result",
          "data": {
            "text/plain": [
              "source_device      \n",
              "Twitter for iPhone     3408\n",
              "Twitter for Android    1843\n",
              "Twitter Web App        1254\n",
              "Sprinklr                523\n",
              "test-shield-bot         223\n",
              "                       ... \n",
              "True Anthem               1\n",
              "Tweepsmap                 1\n",
              "Tweetlogix                1\n",
              "Twitter for  iPhone       1\n",
              "Abbie's Research          1\n",
              "Length: 152, dtype: int64"
            ]
          },
          "metadata": {},
          "execution_count": 162
        }
      ]
    },
    {
      "cell_type": "code",
      "metadata": {
        "id": "grGKS2hEuPKN"
      },
      "source": [
        "# Creamos 5 categorías, las 4 más representadas y 'Otros'\n",
        "# Uno categorías Uber_support y Uber\n",
        "cond3 = df_limpio['source_device'].isin(['Twitter for iPhone','Twitter for Android',\n",
        "                                         'Twitter Web App','Sprinklr'])\n",
        "df_limpio['source_device'] = df_limpio['source_device'].where(cond3,'Otro')"
      ],
      "execution_count": 163,
      "outputs": []
    },
    {
      "cell_type": "code",
      "metadata": {
        "colab": {
          "base_uri": "https://localhost:8080/"
        },
        "id": "UCv7BxtEupOy",
        "outputId": "65db98ee-832f-41c8-d566-12538713617f"
      },
      "source": [
        "df_limpio[['source_device']].value_counts()"
      ],
      "execution_count": 164,
      "outputs": [
        {
          "output_type": "execute_result",
          "data": {
            "text/plain": [
              "source_device      \n",
              "Twitter for iPhone     3408\n",
              "Twitter for Android    1843\n",
              "Twitter Web App        1254\n",
              "Otro                    781\n",
              "Sprinklr                523\n",
              "dtype: int64"
            ]
          },
          "metadata": {},
          "execution_count": 164
        }
      ]
    },
    {
      "cell_type": "code",
      "metadata": {
        "colab": {
          "base_uri": "https://localhost:8080/"
        },
        "id": "vfjQgeaYNnil",
        "outputId": "adacf630-f0a5-4ea9-82c8-98cdfe6caf63"
      },
      "source": [
        "df_limpio[['user_location']].value_counts()[0:20]"
      ],
      "execution_count": 165,
      "outputs": [
        {
          "output_type": "execute_result",
          "data": {
            "text/plain": [
              "user_location             \n",
              "Stockholm, Sweden             225\n",
              "London, England               121\n",
              "United States                  77\n",
              "Los Angeles, CA                59\n",
              "India                          54\n",
              "Chicago, IL                    52\n",
              "New York, NY                   51\n",
              "California, USA                50\n",
              "London                         43\n",
              "Atlanta, GA                    37\n",
              "Washington, DC                 35\n",
              "Lagos, Nigeria                 31\n",
              "New York, USA                  31\n",
              "United Kingdom                 27\n",
              "United Kingdom                 25\n",
              "Johannesburg, South Africa     25\n",
              "UK                             24\n",
              "York, England                  23\n",
              "New Delhi, India               23\n",
              "Brooklyn, NY                   22\n",
              "dtype: int64"
            ]
          },
          "metadata": {},
          "execution_count": 165
        }
      ]
    },
    {
      "cell_type": "code",
      "metadata": {
        "id": "uAuNAyQSoRj_"
      },
      "source": [
        "# Creamos  categorías representadas con más de 50 repeticiones\n",
        "# A esta variable habrá que tratarla un poquito mejor en el futuro. \n",
        "\n",
        "cond3 = df_limpio['user_location'].isin(['Stockholm, Sweden', 'United States', \n",
        "                                         'Los Angeles, CA', 'India', 'Chicago, IL',\n",
        "                                         'New York, NY','California, USA'])\n",
        "df_limpio['user_location'] = df_limpio['user_location'].where(cond3,'Otro')"
      ],
      "execution_count": 166,
      "outputs": []
    },
    {
      "cell_type": "code",
      "metadata": {
        "id": "WwSZ4vkCvkzV",
        "colab": {
          "base_uri": "https://localhost:8080/"
        },
        "outputId": "2177fe89-2441-400d-ee07-aec56c6ac896"
      },
      "source": [
        "df_limpio[['user_location']].value_counts()"
      ],
      "execution_count": 167,
      "outputs": [
        {
          "output_type": "execute_result",
          "data": {
            "text/plain": [
              "user_location    \n",
              "Otro                 7241\n",
              "Stockholm, Sweden     225\n",
              "United States          77\n",
              "Los Angeles, CA        59\n",
              "India                  54\n",
              "Chicago, IL            52\n",
              "New York, NY           51\n",
              "California, USA        50\n",
              "dtype: int64"
            ]
          },
          "metadata": {},
          "execution_count": 167
        }
      ]
    },
    {
      "cell_type": "code",
      "metadata": {
        "colab": {
          "base_uri": "https://localhost:8080/",
          "height": 524
        },
        "id": "FRgjWwzf6K8c",
        "outputId": "eb66a968-89c3-4722-9302-abed604ee087"
      },
      "source": [
        "df_limpio"
      ],
      "execution_count": 168,
      "outputs": [
        {
          "output_type": "execute_result",
          "data": {
            "text/html": [
              "<div>\n",
              "<style scoped>\n",
              "    .dataframe tbody tr th:only-of-type {\n",
              "        vertical-align: middle;\n",
              "    }\n",
              "\n",
              "    .dataframe tbody tr th {\n",
              "        vertical-align: top;\n",
              "    }\n",
              "\n",
              "    .dataframe thead th {\n",
              "        text-align: right;\n",
              "    }\n",
              "</style>\n",
              "<table border=\"1\" class=\"dataframe\">\n",
              "  <thead>\n",
              "    <tr style=\"text-align: right;\">\n",
              "      <th></th>\n",
              "      <th>created_at</th>\n",
              "      <th>created_at_hour</th>\n",
              "      <th>retweeted</th>\n",
              "      <th>retweet_count</th>\n",
              "      <th>favorite_count</th>\n",
              "      <th>user_ verified</th>\n",
              "      <th>user_location</th>\n",
              "      <th>user_notificacion</th>\n",
              "      <th>user_followers</th>\n",
              "      <th>user_friends</th>\n",
              "      <th>mentions_in_tweet</th>\n",
              "      <th>is_reply</th>\n",
              "      <th>source_device</th>\n",
              "      <th>finished_tweet</th>\n",
              "      <th>status_count</th>\n",
              "      <th>hastags_in_tweet</th>\n",
              "      <th>sentiment</th>\n",
              "    </tr>\n",
              "  </thead>\n",
              "  <tbody>\n",
              "    <tr>\n",
              "      <th>0</th>\n",
              "      <td>Wed Aug 11</td>\n",
              "      <td>9</td>\n",
              "      <td>Si</td>\n",
              "      <td>1</td>\n",
              "      <td>0</td>\n",
              "      <td>NaN</td>\n",
              "      <td>Stockholm, Sweden</td>\n",
              "      <td>False</td>\n",
              "      <td>20504</td>\n",
              "      <td>98</td>\n",
              "      <td>2</td>\n",
              "      <td>No</td>\n",
              "      <td>Otro</td>\n",
              "      <td>False</td>\n",
              "      <td>695888</td>\n",
              "      <td>0</td>\n",
              "      <td>Negativo</td>\n",
              "    </tr>\n",
              "    <tr>\n",
              "      <th>1</th>\n",
              "      <td>Wed Aug 11</td>\n",
              "      <td>9</td>\n",
              "      <td>No</td>\n",
              "      <td>0</td>\n",
              "      <td>0</td>\n",
              "      <td>NaN</td>\n",
              "      <td>Otro</td>\n",
              "      <td>False</td>\n",
              "      <td>2733</td>\n",
              "      <td>970</td>\n",
              "      <td>1</td>\n",
              "      <td>No</td>\n",
              "      <td>Twitter Web App</td>\n",
              "      <td>False</td>\n",
              "      <td>58398</td>\n",
              "      <td>0</td>\n",
              "      <td>Neutro</td>\n",
              "    </tr>\n",
              "    <tr>\n",
              "      <th>2</th>\n",
              "      <td>Wed Aug 11</td>\n",
              "      <td>9</td>\n",
              "      <td>No</td>\n",
              "      <td>0</td>\n",
              "      <td>0</td>\n",
              "      <td>NaN</td>\n",
              "      <td>Otro</td>\n",
              "      <td>False</td>\n",
              "      <td>353</td>\n",
              "      <td>943</td>\n",
              "      <td>1</td>\n",
              "      <td>Si</td>\n",
              "      <td>Twitter for iPhone</td>\n",
              "      <td>False</td>\n",
              "      <td>5974</td>\n",
              "      <td>0</td>\n",
              "      <td>Neutro</td>\n",
              "    </tr>\n",
              "    <tr>\n",
              "      <th>3</th>\n",
              "      <td>Wed Aug 11</td>\n",
              "      <td>9</td>\n",
              "      <td>No</td>\n",
              "      <td>0</td>\n",
              "      <td>0</td>\n",
              "      <td>NaN</td>\n",
              "      <td>Otro</td>\n",
              "      <td>False</td>\n",
              "      <td>6</td>\n",
              "      <td>1</td>\n",
              "      <td>3</td>\n",
              "      <td>Si</td>\n",
              "      <td>Twitter for Android</td>\n",
              "      <td>False</td>\n",
              "      <td>169</td>\n",
              "      <td>0</td>\n",
              "      <td>Positivo</td>\n",
              "    </tr>\n",
              "    <tr>\n",
              "      <th>4</th>\n",
              "      <td>Wed Aug 11</td>\n",
              "      <td>9</td>\n",
              "      <td>No</td>\n",
              "      <td>0</td>\n",
              "      <td>0</td>\n",
              "      <td>NaN</td>\n",
              "      <td>Otro</td>\n",
              "      <td>False</td>\n",
              "      <td>5562</td>\n",
              "      <td>3</td>\n",
              "      <td>0</td>\n",
              "      <td>No</td>\n",
              "      <td>Otro</td>\n",
              "      <td>False</td>\n",
              "      <td>113083</td>\n",
              "      <td>0</td>\n",
              "      <td>Negativo</td>\n",
              "    </tr>\n",
              "    <tr>\n",
              "      <th>...</th>\n",
              "      <td>...</td>\n",
              "      <td>...</td>\n",
              "      <td>...</td>\n",
              "      <td>...</td>\n",
              "      <td>...</td>\n",
              "      <td>...</td>\n",
              "      <td>...</td>\n",
              "      <td>...</td>\n",
              "      <td>...</td>\n",
              "      <td>...</td>\n",
              "      <td>...</td>\n",
              "      <td>...</td>\n",
              "      <td>...</td>\n",
              "      <td>...</td>\n",
              "      <td>...</td>\n",
              "      <td>...</td>\n",
              "      <td>...</td>\n",
              "    </tr>\n",
              "    <tr>\n",
              "      <th>7804</th>\n",
              "      <td>Mon Aug 09</td>\n",
              "      <td>13</td>\n",
              "      <td>No</td>\n",
              "      <td>0</td>\n",
              "      <td>0</td>\n",
              "      <td>NaN</td>\n",
              "      <td>Otro</td>\n",
              "      <td>False</td>\n",
              "      <td>0</td>\n",
              "      <td>4</td>\n",
              "      <td>0</td>\n",
              "      <td>Si</td>\n",
              "      <td>Twitter for iPhone</td>\n",
              "      <td>False</td>\n",
              "      <td>21</td>\n",
              "      <td>0</td>\n",
              "      <td>Neutro</td>\n",
              "    </tr>\n",
              "    <tr>\n",
              "      <th>7805</th>\n",
              "      <td>Mon Aug 09</td>\n",
              "      <td>13</td>\n",
              "      <td>No</td>\n",
              "      <td>0</td>\n",
              "      <td>1</td>\n",
              "      <td>NaN</td>\n",
              "      <td>Otro</td>\n",
              "      <td>False</td>\n",
              "      <td>477</td>\n",
              "      <td>435</td>\n",
              "      <td>1</td>\n",
              "      <td>Si</td>\n",
              "      <td>Twitter for iPhone</td>\n",
              "      <td>False</td>\n",
              "      <td>5828</td>\n",
              "      <td>0</td>\n",
              "      <td>Negativo</td>\n",
              "    </tr>\n",
              "    <tr>\n",
              "      <th>7806</th>\n",
              "      <td>Mon Aug 09</td>\n",
              "      <td>13</td>\n",
              "      <td>No</td>\n",
              "      <td>0</td>\n",
              "      <td>2</td>\n",
              "      <td>NaN</td>\n",
              "      <td>Otro</td>\n",
              "      <td>False</td>\n",
              "      <td>3215</td>\n",
              "      <td>4690</td>\n",
              "      <td>1</td>\n",
              "      <td>Si</td>\n",
              "      <td>Otro</td>\n",
              "      <td>False</td>\n",
              "      <td>29551</td>\n",
              "      <td>0</td>\n",
              "      <td>Muy Negativo</td>\n",
              "    </tr>\n",
              "    <tr>\n",
              "      <th>7807</th>\n",
              "      <td>Mon Aug 09</td>\n",
              "      <td>13</td>\n",
              "      <td>No</td>\n",
              "      <td>0</td>\n",
              "      <td>0</td>\n",
              "      <td>NaN</td>\n",
              "      <td>Otro</td>\n",
              "      <td>False</td>\n",
              "      <td>409</td>\n",
              "      <td>870</td>\n",
              "      <td>0</td>\n",
              "      <td>No</td>\n",
              "      <td>Twitter for iPhone</td>\n",
              "      <td>False</td>\n",
              "      <td>54109</td>\n",
              "      <td>0</td>\n",
              "      <td>Muy Negativo</td>\n",
              "    </tr>\n",
              "    <tr>\n",
              "      <th>7808</th>\n",
              "      <td>Mon Aug 09</td>\n",
              "      <td>13</td>\n",
              "      <td>No</td>\n",
              "      <td>0</td>\n",
              "      <td>4</td>\n",
              "      <td>NaN</td>\n",
              "      <td>Otro</td>\n",
              "      <td>False</td>\n",
              "      <td>2501</td>\n",
              "      <td>874</td>\n",
              "      <td>2</td>\n",
              "      <td>No</td>\n",
              "      <td>Otro</td>\n",
              "      <td>False</td>\n",
              "      <td>12472</td>\n",
              "      <td>0</td>\n",
              "      <td>Neutro</td>\n",
              "    </tr>\n",
              "  </tbody>\n",
              "</table>\n",
              "<p>7809 rows × 17 columns</p>\n",
              "</div>"
            ],
            "text/plain": [
              "      created_at  created_at_hour  ... hastags_in_tweet     sentiment\n",
              "0     Wed Aug 11                9  ...                0      Negativo\n",
              "1     Wed Aug 11                9  ...                0        Neutro\n",
              "2     Wed Aug 11                9  ...                0        Neutro\n",
              "3     Wed Aug 11                9  ...                0      Positivo\n",
              "4     Wed Aug 11                9  ...                0      Negativo\n",
              "...          ...              ...  ...              ...           ...\n",
              "7804  Mon Aug 09               13  ...                0        Neutro\n",
              "7805  Mon Aug 09               13  ...                0      Negativo\n",
              "7806  Mon Aug 09               13  ...                0  Muy Negativo\n",
              "7807  Mon Aug 09               13  ...                0  Muy Negativo\n",
              "7808  Mon Aug 09               13  ...                0        Neutro\n",
              "\n",
              "[7809 rows x 17 columns]"
            ]
          },
          "metadata": {},
          "execution_count": 168
        }
      ]
    },
    {
      "cell_type": "code",
      "metadata": {
        "id": "u0NCVqgoycUv"
      },
      "source": [
        "from sklearn.compose import ColumnTransformer\n",
        "from sklearn.preprocessing import OneHotEncoder\n",
        "\n",
        "# Creamos un One Hot Encoder que nos ayude a dummificar las nuevas entradas\n",
        "# de las variables categóricas que incluyamos\n",
        "\n",
        "col_transformer = ColumnTransformer([\n",
        "    ('created_at', OneHotEncoder(drop='first'), ['created_at']),\n",
        "    ('retweeted', OneHotEncoder(drop=['No']), ['retweeted']), \n",
        "    ('is_reply', OneHotEncoder(drop=['No']), ['is_reply']), \n",
        "    ('source_device', OneHotEncoder(drop=['Otro']), ['source_device']),\n",
        "    ('user_location', OneHotEncoder(drop=['Otro']), ['user_location'])\n",
        "])"
      ],
      "execution_count": 169,
      "outputs": []
    },
    {
      "cell_type": "markdown",
      "metadata": {
        "id": "7gtRzSrfRgLK"
      },
      "source": [
        "### B. RESULTADO DE APLICAR PRIMEROS MODELOS\n",
        "\n",
        "- LR: 0.424510 (0.017124)\n",
        "- RFC: 0.414779 (0.018737)\n",
        "- SVM: 0.416700 (0.017998)"
      ]
    }
  ]
}