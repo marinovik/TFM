{
 "cells": [
  {
   "cell_type": "markdown",
   "source": [
    "## Conexion a la API de IBM Watson"
   ],
   "metadata": {}
  },
  {
   "cell_type": "code",
   "execution_count": 40,
   "source": [
    "nlu_apikey = \"-AqVH2-6FPhc1fTcVHf9WHQXok1CCHul044GKRgQMi_a\"\n",
    "nlu_url = \"https://api.au-syd.natural-language-understanding.watson.cloud.ibm.com/instances/07732151-0ad7-45f7-af60-85562116af50\""
   ],
   "outputs": [],
   "metadata": {}
  },
  {
   "cell_type": "code",
   "execution_count": 41,
   "source": [
    "import json\n",
    "from ibm_watson import NaturalLanguageUnderstandingV1\n",
    "from ibm_cloud_sdk_core.authenticators import IAMAuthenticator\n",
    "from ibm_watson.natural_language_understanding_v1 import Features, CategoriesOptions, ConceptsOptions, EmotionOptions, EntitiesOptions, KeywordsOptions, RelationsOptions, SentimentOptions\n",
    "\n",
    "authenticator = IAMAuthenticator(nlu_apikey)\n",
    "natural_language_undestanding = NaturalLanguageUnderstandingV1(\n",
    "    version = '2020-08-01', \n",
    "    authenticator = authenticator\n",
    ")\n",
    "natural_language_undestanding.set_service_url(nlu_url)"
   ],
   "outputs": [],
   "metadata": {}
  },
  {
   "cell_type": "markdown",
   "source": [
    "## Importar dataset"
   ],
   "metadata": {}
  },
  {
   "cell_type": "code",
   "execution_count": 27,
   "source": [
    "import pandas as pd\n",
    "dataset = pd.read_excel('extraccion_uber_completa_SIN_DUPLICADOS.xlsx')"
   ],
   "outputs": [],
   "metadata": {}
  },
  {
   "cell_type": "code",
   "execution_count": 47,
   "source": [
    "#dataset solamente con el texto de los tweets\n",
    "tweets = list(dataset['text'][:100])"
   ],
   "outputs": [],
   "metadata": {}
  },
  {
   "cell_type": "markdown",
   "source": [
    "## Creación de un dataframe con los tweets y las características de sentimiento y categoría obtenidas a partir de IBM Watson"
   ],
   "metadata": {}
  },
  {
   "cell_type": "markdown",
   "source": [
    "Análisis de los tweets con el modelo de IBM"
   ],
   "metadata": {}
  },
  {
   "cell_type": "code",
   "execution_count": 52,
   "source": [
    "output = []\n",
    "for tweet in tweets:\n",
    "\n",
    "    response = natural_language_undestanding.analyze(text=tweet, features=Features(keywords=KeywordsOptions(), \n",
    "                                                              entities=EntitiesOptions(), \n",
    "                                                              categories=CategoriesOptions(),\n",
    "                                                              emotion=EmotionOptions(),\n",
    "                                                              sentiment=SentimentOptions())).get_result()\n",
    "    output.append(response)"
   ],
   "outputs": [],
   "metadata": {}
  },
  {
   "cell_type": "markdown",
   "source": [
    "Del output del modelo, extraemos las características de sentimiento y categpría (topic?)"
   ],
   "metadata": {}
  },
  {
   "cell_type": "code",
   "execution_count": 60,
   "source": [
    "score = []\n",
    "for tweet in output:\n",
    "    score.append(tweet['sentiment']['document']['score'])\n",
    "\n",
    "sentiment = []\n",
    "for tweet in output:\n",
    "    sentiment.append(tweet['sentiment']['document']['label'])\n",
    "\n",
    "category = []\n",
    "for tweet in output:\n",
    "    category.append(tweet['categories'][0]['label'])"
   ],
   "outputs": [],
   "metadata": {}
  },
  {
   "cell_type": "code",
   "execution_count": 64,
   "source": [
    "df = pd.DataFrame(list(zip(tweets, score, sentiment, category)), columns=['tweet', 'sentiment_score', 'sentiment', 'topic'])"
   ],
   "outputs": [],
   "metadata": {}
  },
  {
   "cell_type": "code",
   "execution_count": 65,
   "source": [
    "df"
   ],
   "outputs": [
    {
     "output_type": "execute_result",
     "data": {
      "text/plain": [
       "                                                tweet  sentiment_score  \\\n",
       "0   @Uber_Support hi guys why all my trips this we...        -0.912398   \n",
       "1   So are we getting Uber eats league 1 or not @S...         0.000000   \n",
       "2   @footballdaily 2-3 years of Messi, a bit of ca...        -0.807459   \n",
       "3   @Prashan32439454 @Uber_Support @rameshjoshi80 ...         0.863584   \n",
       "4   Uber's Gopuff partnership, Drizly deal being p...        -0.788377   \n",
       "..                                                ...              ...   \n",
       "95  @Ligue1_ENG @PSG_English Can I use “Messi” as ...         0.000000   \n",
       "96  Doctors Appointment App Like Uber \\nhttps://t....         0.000000   \n",
       "97  @SidityDes I trade &amp; Uber on the side. Plu...         0.362398   \n",
       "98  @Uber_India @Uber @Uber_Support Me and my husb...        -0.791676   \n",
       "99  @NazneenTowhid @thephukdi @GaurangBhardwa1 Do ...        -0.930699   \n",
       "\n",
       "   sentiment                                              topic  \n",
       "0   negative          /travel/specialty travel/adventure travel  \n",
       "1    neutral                                   /sports/baseball  \n",
       "2   negative                                     /sports/soccer  \n",
       "3   positive                    /science/mathematics/arithmetic  \n",
       "4   negative                                              /news  \n",
       "..       ...                                                ...  \n",
       "95   neutral              /real estate/buying and selling homes  \n",
       "96   neutral  /technology and computing/internet technology/...  \n",
       "97  positive              /real estate/buying and selling homes  \n",
       "98  negative                /automotive and vehicles/auto parts  \n",
       "99  negative                /religion and spirituality/hinduism  \n",
       "\n",
       "[100 rows x 4 columns]"
      ],
      "text/html": [
       "<div>\n",
       "<style scoped>\n",
       "    .dataframe tbody tr th:only-of-type {\n",
       "        vertical-align: middle;\n",
       "    }\n",
       "\n",
       "    .dataframe tbody tr th {\n",
       "        vertical-align: top;\n",
       "    }\n",
       "\n",
       "    .dataframe thead th {\n",
       "        text-align: right;\n",
       "    }\n",
       "</style>\n",
       "<table border=\"1\" class=\"dataframe\">\n",
       "  <thead>\n",
       "    <tr style=\"text-align: right;\">\n",
       "      <th></th>\n",
       "      <th>tweet</th>\n",
       "      <th>sentiment_score</th>\n",
       "      <th>sentiment</th>\n",
       "      <th>topic</th>\n",
       "    </tr>\n",
       "  </thead>\n",
       "  <tbody>\n",
       "    <tr>\n",
       "      <th>0</th>\n",
       "      <td>@Uber_Support hi guys why all my trips this we...</td>\n",
       "      <td>-0.912398</td>\n",
       "      <td>negative</td>\n",
       "      <td>/travel/specialty travel/adventure travel</td>\n",
       "    </tr>\n",
       "    <tr>\n",
       "      <th>1</th>\n",
       "      <td>So are we getting Uber eats league 1 or not @S...</td>\n",
       "      <td>0.000000</td>\n",
       "      <td>neutral</td>\n",
       "      <td>/sports/baseball</td>\n",
       "    </tr>\n",
       "    <tr>\n",
       "      <th>2</th>\n",
       "      <td>@footballdaily 2-3 years of Messi, a bit of ca...</td>\n",
       "      <td>-0.807459</td>\n",
       "      <td>negative</td>\n",
       "      <td>/sports/soccer</td>\n",
       "    </tr>\n",
       "    <tr>\n",
       "      <th>3</th>\n",
       "      <td>@Prashan32439454 @Uber_Support @rameshjoshi80 ...</td>\n",
       "      <td>0.863584</td>\n",
       "      <td>positive</td>\n",
       "      <td>/science/mathematics/arithmetic</td>\n",
       "    </tr>\n",
       "    <tr>\n",
       "      <th>4</th>\n",
       "      <td>Uber's Gopuff partnership, Drizly deal being p...</td>\n",
       "      <td>-0.788377</td>\n",
       "      <td>negative</td>\n",
       "      <td>/news</td>\n",
       "    </tr>\n",
       "    <tr>\n",
       "      <th>...</th>\n",
       "      <td>...</td>\n",
       "      <td>...</td>\n",
       "      <td>...</td>\n",
       "      <td>...</td>\n",
       "    </tr>\n",
       "    <tr>\n",
       "      <th>95</th>\n",
       "      <td>@Ligue1_ENG @PSG_English Can I use “Messi” as ...</td>\n",
       "      <td>0.000000</td>\n",
       "      <td>neutral</td>\n",
       "      <td>/real estate/buying and selling homes</td>\n",
       "    </tr>\n",
       "    <tr>\n",
       "      <th>96</th>\n",
       "      <td>Doctors Appointment App Like Uber \\nhttps://t....</td>\n",
       "      <td>0.000000</td>\n",
       "      <td>neutral</td>\n",
       "      <td>/technology and computing/internet technology/...</td>\n",
       "    </tr>\n",
       "    <tr>\n",
       "      <th>97</th>\n",
       "      <td>@SidityDes I trade &amp;amp; Uber on the side. Plu...</td>\n",
       "      <td>0.362398</td>\n",
       "      <td>positive</td>\n",
       "      <td>/real estate/buying and selling homes</td>\n",
       "    </tr>\n",
       "    <tr>\n",
       "      <th>98</th>\n",
       "      <td>@Uber_India @Uber @Uber_Support Me and my husb...</td>\n",
       "      <td>-0.791676</td>\n",
       "      <td>negative</td>\n",
       "      <td>/automotive and vehicles/auto parts</td>\n",
       "    </tr>\n",
       "    <tr>\n",
       "      <th>99</th>\n",
       "      <td>@NazneenTowhid @thephukdi @GaurangBhardwa1 Do ...</td>\n",
       "      <td>-0.930699</td>\n",
       "      <td>negative</td>\n",
       "      <td>/religion and spirituality/hinduism</td>\n",
       "    </tr>\n",
       "  </tbody>\n",
       "</table>\n",
       "<p>100 rows × 4 columns</p>\n",
       "</div>"
      ]
     },
     "metadata": {},
     "execution_count": 65
    }
   ],
   "metadata": {}
  }
 ],
 "metadata": {
  "orig_nbformat": 4,
  "language_info": {
   "name": "python",
   "version": "3.9.0",
   "mimetype": "text/x-python",
   "codemirror_mode": {
    "name": "ipython",
    "version": 3
   },
   "pygments_lexer": "ipython3",
   "nbconvert_exporter": "python",
   "file_extension": ".py"
  },
  "kernelspec": {
   "name": "python3",
   "display_name": "Python 3.9.0 64-bit"
  },
  "interpreter": {
   "hash": "aee8b7b246df8f9039afb4144a1f6fd8d2ca17a180786b69acc140d282b71a49"
  }
 },
 "nbformat": 4,
 "nbformat_minor": 2
}