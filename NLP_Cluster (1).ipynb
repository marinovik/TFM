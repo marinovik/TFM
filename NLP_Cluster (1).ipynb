{
  "nbformat": 4,
  "nbformat_minor": 0,
  "metadata": {
    "colab": {
      "name": "NLP-Cluster.ipynb",
      "provenance": [],
      "collapsed_sections": []
    },
    "kernelspec": {
      "display_name": "Python 3",
      "name": "python3"
    },
    "widgets": {
      "application/vnd.jupyter.widget-state+json": {
        "e0e301fd3a49434d8a333984a147710d": {
          "model_module": "@jupyter-widgets/controls",
          "model_name": "HBoxModel",
          "model_module_version": "1.5.0",
          "state": {
            "_view_name": "HBoxView",
            "_dom_classes": [],
            "_model_name": "HBoxModel",
            "_view_module": "@jupyter-widgets/controls",
            "_model_module_version": "1.5.0",
            "_view_count": null,
            "_view_module_version": "1.5.0",
            "box_style": "",
            "layout": "IPY_MODEL_4203ca9096494091a20ccb907349fb81",
            "_model_module": "@jupyter-widgets/controls",
            "children": [
              "IPY_MODEL_ea3f5f6e125142bc86d6664286fdd8be",
              "IPY_MODEL_e75cf4e8efe248dc9b0c770371145ef9",
              "IPY_MODEL_c11c990239d945a1bb61663417e7166f"
            ]
          }
        },
        "4203ca9096494091a20ccb907349fb81": {
          "model_module": "@jupyter-widgets/base",
          "model_name": "LayoutModel",
          "model_module_version": "1.2.0",
          "state": {
            "_view_name": "LayoutView",
            "grid_template_rows": null,
            "right": null,
            "justify_content": null,
            "_view_module": "@jupyter-widgets/base",
            "overflow": null,
            "_model_module_version": "1.2.0",
            "_view_count": null,
            "flex_flow": null,
            "width": null,
            "min_width": null,
            "border": null,
            "align_items": null,
            "bottom": null,
            "_model_module": "@jupyter-widgets/base",
            "top": null,
            "grid_column": null,
            "overflow_y": null,
            "overflow_x": null,
            "grid_auto_flow": null,
            "grid_area": null,
            "grid_template_columns": null,
            "flex": null,
            "_model_name": "LayoutModel",
            "justify_items": null,
            "grid_row": null,
            "max_height": null,
            "align_content": null,
            "visibility": null,
            "align_self": null,
            "height": null,
            "min_height": null,
            "padding": null,
            "grid_auto_rows": null,
            "grid_gap": null,
            "max_width": null,
            "order": null,
            "_view_module_version": "1.2.0",
            "grid_template_areas": null,
            "object_position": null,
            "object_fit": null,
            "grid_auto_columns": null,
            "margin": null,
            "display": null,
            "left": null
          }
        },
        "ea3f5f6e125142bc86d6664286fdd8be": {
          "model_module": "@jupyter-widgets/controls",
          "model_name": "HTMLModel",
          "model_module_version": "1.5.0",
          "state": {
            "_view_name": "HTMLView",
            "style": "IPY_MODEL_e3cf625a7ee14816a440b04aea01028d",
            "_dom_classes": [],
            "description": "",
            "_model_name": "HTMLModel",
            "placeholder": "​",
            "_view_module": "@jupyter-widgets/controls",
            "_model_module_version": "1.5.0",
            "value": "100%",
            "_view_count": null,
            "_view_module_version": "1.5.0",
            "description_tooltip": null,
            "_model_module": "@jupyter-widgets/controls",
            "layout": "IPY_MODEL_ed10d5a4a4e14405b25959ee7201b207"
          }
        },
        "e75cf4e8efe248dc9b0c770371145ef9": {
          "model_module": "@jupyter-widgets/controls",
          "model_name": "FloatProgressModel",
          "model_module_version": "1.5.0",
          "state": {
            "_view_name": "ProgressView",
            "style": "IPY_MODEL_5f125b8224de41d3be0e783015f56ebc",
            "_dom_classes": [],
            "description": "",
            "_model_name": "FloatProgressModel",
            "bar_style": "success",
            "max": 7809,
            "_view_module": "@jupyter-widgets/controls",
            "_model_module_version": "1.5.0",
            "value": 7809,
            "_view_count": null,
            "_view_module_version": "1.5.0",
            "orientation": "horizontal",
            "min": 0,
            "description_tooltip": null,
            "_model_module": "@jupyter-widgets/controls",
            "layout": "IPY_MODEL_eb97188a46624e04be92d2bba8c3903f"
          }
        },
        "c11c990239d945a1bb61663417e7166f": {
          "model_module": "@jupyter-widgets/controls",
          "model_name": "HTMLModel",
          "model_module_version": "1.5.0",
          "state": {
            "_view_name": "HTMLView",
            "style": "IPY_MODEL_131a70b5de8749b9874accbc44aecf62",
            "_dom_classes": [],
            "description": "",
            "_model_name": "HTMLModel",
            "placeholder": "​",
            "_view_module": "@jupyter-widgets/controls",
            "_model_module_version": "1.5.0",
            "value": " 7809/7809 [00:02&lt;00:00, 2752.24it/s]",
            "_view_count": null,
            "_view_module_version": "1.5.0",
            "description_tooltip": null,
            "_model_module": "@jupyter-widgets/controls",
            "layout": "IPY_MODEL_97f163e260c342f998e2ed669d883189"
          }
        },
        "e3cf625a7ee14816a440b04aea01028d": {
          "model_module": "@jupyter-widgets/controls",
          "model_name": "DescriptionStyleModel",
          "model_module_version": "1.5.0",
          "state": {
            "_view_name": "StyleView",
            "_model_name": "DescriptionStyleModel",
            "description_width": "",
            "_view_module": "@jupyter-widgets/base",
            "_model_module_version": "1.5.0",
            "_view_count": null,
            "_view_module_version": "1.2.0",
            "_model_module": "@jupyter-widgets/controls"
          }
        },
        "ed10d5a4a4e14405b25959ee7201b207": {
          "model_module": "@jupyter-widgets/base",
          "model_name": "LayoutModel",
          "model_module_version": "1.2.0",
          "state": {
            "_view_name": "LayoutView",
            "grid_template_rows": null,
            "right": null,
            "justify_content": null,
            "_view_module": "@jupyter-widgets/base",
            "overflow": null,
            "_model_module_version": "1.2.0",
            "_view_count": null,
            "flex_flow": null,
            "width": null,
            "min_width": null,
            "border": null,
            "align_items": null,
            "bottom": null,
            "_model_module": "@jupyter-widgets/base",
            "top": null,
            "grid_column": null,
            "overflow_y": null,
            "overflow_x": null,
            "grid_auto_flow": null,
            "grid_area": null,
            "grid_template_columns": null,
            "flex": null,
            "_model_name": "LayoutModel",
            "justify_items": null,
            "grid_row": null,
            "max_height": null,
            "align_content": null,
            "visibility": null,
            "align_self": null,
            "height": null,
            "min_height": null,
            "padding": null,
            "grid_auto_rows": null,
            "grid_gap": null,
            "max_width": null,
            "order": null,
            "_view_module_version": "1.2.0",
            "grid_template_areas": null,
            "object_position": null,
            "object_fit": null,
            "grid_auto_columns": null,
            "margin": null,
            "display": null,
            "left": null
          }
        },
        "5f125b8224de41d3be0e783015f56ebc": {
          "model_module": "@jupyter-widgets/controls",
          "model_name": "ProgressStyleModel",
          "model_module_version": "1.5.0",
          "state": {
            "_view_name": "StyleView",
            "_model_name": "ProgressStyleModel",
            "description_width": "",
            "_view_module": "@jupyter-widgets/base",
            "_model_module_version": "1.5.0",
            "_view_count": null,
            "_view_module_version": "1.2.0",
            "bar_color": null,
            "_model_module": "@jupyter-widgets/controls"
          }
        },
        "eb97188a46624e04be92d2bba8c3903f": {
          "model_module": "@jupyter-widgets/base",
          "model_name": "LayoutModel",
          "model_module_version": "1.2.0",
          "state": {
            "_view_name": "LayoutView",
            "grid_template_rows": null,
            "right": null,
            "justify_content": null,
            "_view_module": "@jupyter-widgets/base",
            "overflow": null,
            "_model_module_version": "1.2.0",
            "_view_count": null,
            "flex_flow": null,
            "width": null,
            "min_width": null,
            "border": null,
            "align_items": null,
            "bottom": null,
            "_model_module": "@jupyter-widgets/base",
            "top": null,
            "grid_column": null,
            "overflow_y": null,
            "overflow_x": null,
            "grid_auto_flow": null,
            "grid_area": null,
            "grid_template_columns": null,
            "flex": null,
            "_model_name": "LayoutModel",
            "justify_items": null,
            "grid_row": null,
            "max_height": null,
            "align_content": null,
            "visibility": null,
            "align_self": null,
            "height": null,
            "min_height": null,
            "padding": null,
            "grid_auto_rows": null,
            "grid_gap": null,
            "max_width": null,
            "order": null,
            "_view_module_version": "1.2.0",
            "grid_template_areas": null,
            "object_position": null,
            "object_fit": null,
            "grid_auto_columns": null,
            "margin": null,
            "display": null,
            "left": null
          }
        },
        "131a70b5de8749b9874accbc44aecf62": {
          "model_module": "@jupyter-widgets/controls",
          "model_name": "DescriptionStyleModel",
          "model_module_version": "1.5.0",
          "state": {
            "_view_name": "StyleView",
            "_model_name": "DescriptionStyleModel",
            "description_width": "",
            "_view_module": "@jupyter-widgets/base",
            "_model_module_version": "1.5.0",
            "_view_count": null,
            "_view_module_version": "1.2.0",
            "_model_module": "@jupyter-widgets/controls"
          }
        },
        "97f163e260c342f998e2ed669d883189": {
          "model_module": "@jupyter-widgets/base",
          "model_name": "LayoutModel",
          "model_module_version": "1.2.0",
          "state": {
            "_view_name": "LayoutView",
            "grid_template_rows": null,
            "right": null,
            "justify_content": null,
            "_view_module": "@jupyter-widgets/base",
            "overflow": null,
            "_model_module_version": "1.2.0",
            "_view_count": null,
            "flex_flow": null,
            "width": null,
            "min_width": null,
            "border": null,
            "align_items": null,
            "bottom": null,
            "_model_module": "@jupyter-widgets/base",
            "top": null,
            "grid_column": null,
            "overflow_y": null,
            "overflow_x": null,
            "grid_auto_flow": null,
            "grid_area": null,
            "grid_template_columns": null,
            "flex": null,
            "_model_name": "LayoutModel",
            "justify_items": null,
            "grid_row": null,
            "max_height": null,
            "align_content": null,
            "visibility": null,
            "align_self": null,
            "height": null,
            "min_height": null,
            "padding": null,
            "grid_auto_rows": null,
            "grid_gap": null,
            "max_width": null,
            "order": null,
            "_view_module_version": "1.2.0",
            "grid_template_areas": null,
            "object_position": null,
            "object_fit": null,
            "grid_auto_columns": null,
            "margin": null,
            "display": null,
            "left": null
          }
        },
        "9c2643ac73e04c6ebb9f25570a8311f0": {
          "model_module": "@jupyter-widgets/controls",
          "model_name": "HBoxModel",
          "model_module_version": "1.5.0",
          "state": {
            "_view_name": "HBoxView",
            "_dom_classes": [],
            "_model_name": "HBoxModel",
            "_view_module": "@jupyter-widgets/controls",
            "_model_module_version": "1.5.0",
            "_view_count": null,
            "_view_module_version": "1.5.0",
            "box_style": "",
            "layout": "IPY_MODEL_d17953d720934b9aaf01583d26f5e123",
            "_model_module": "@jupyter-widgets/controls",
            "children": [
              "IPY_MODEL_546322a072d2411fae1f3c893b67ab6a",
              "IPY_MODEL_9f5cc2622f2b47418952c75c0dfcde34",
              "IPY_MODEL_99e81d5ad50d4f3d8c73dafe9f148bb5"
            ]
          }
        },
        "d17953d720934b9aaf01583d26f5e123": {
          "model_module": "@jupyter-widgets/base",
          "model_name": "LayoutModel",
          "model_module_version": "1.2.0",
          "state": {
            "_view_name": "LayoutView",
            "grid_template_rows": null,
            "right": null,
            "justify_content": null,
            "_view_module": "@jupyter-widgets/base",
            "overflow": null,
            "_model_module_version": "1.2.0",
            "_view_count": null,
            "flex_flow": null,
            "width": null,
            "min_width": null,
            "border": null,
            "align_items": null,
            "bottom": null,
            "_model_module": "@jupyter-widgets/base",
            "top": null,
            "grid_column": null,
            "overflow_y": null,
            "overflow_x": null,
            "grid_auto_flow": null,
            "grid_area": null,
            "grid_template_columns": null,
            "flex": null,
            "_model_name": "LayoutModel",
            "justify_items": null,
            "grid_row": null,
            "max_height": null,
            "align_content": null,
            "visibility": null,
            "align_self": null,
            "height": null,
            "min_height": null,
            "padding": null,
            "grid_auto_rows": null,
            "grid_gap": null,
            "max_width": null,
            "order": null,
            "_view_module_version": "1.2.0",
            "grid_template_areas": null,
            "object_position": null,
            "object_fit": null,
            "grid_auto_columns": null,
            "margin": null,
            "display": null,
            "left": null
          }
        },
        "546322a072d2411fae1f3c893b67ab6a": {
          "model_module": "@jupyter-widgets/controls",
          "model_name": "HTMLModel",
          "model_module_version": "1.5.0",
          "state": {
            "_view_name": "HTMLView",
            "style": "IPY_MODEL_650db8c1d9a34633923401c44d3d3a97",
            "_dom_classes": [],
            "description": "",
            "_model_name": "HTMLModel",
            "placeholder": "​",
            "_view_module": "@jupyter-widgets/controls",
            "_model_module_version": "1.5.0",
            "value": "100%",
            "_view_count": null,
            "_view_module_version": "1.5.0",
            "description_tooltip": null,
            "_model_module": "@jupyter-widgets/controls",
            "layout": "IPY_MODEL_2e2df774b2e248aea7aa78519e299aca"
          }
        },
        "9f5cc2622f2b47418952c75c0dfcde34": {
          "model_module": "@jupyter-widgets/controls",
          "model_name": "FloatProgressModel",
          "model_module_version": "1.5.0",
          "state": {
            "_view_name": "ProgressView",
            "style": "IPY_MODEL_7b0651a72a504aa3b8dcc3e2d95448a9",
            "_dom_classes": [],
            "description": "",
            "_model_name": "FloatProgressModel",
            "bar_style": "success",
            "max": 7809,
            "_view_module": "@jupyter-widgets/controls",
            "_model_module_version": "1.5.0",
            "value": 7809,
            "_view_count": null,
            "_view_module_version": "1.5.0",
            "orientation": "horizontal",
            "min": 0,
            "description_tooltip": null,
            "_model_module": "@jupyter-widgets/controls",
            "layout": "IPY_MODEL_b952f179735341d7b854782225bb0cb8"
          }
        },
        "99e81d5ad50d4f3d8c73dafe9f148bb5": {
          "model_module": "@jupyter-widgets/controls",
          "model_name": "HTMLModel",
          "model_module_version": "1.5.0",
          "state": {
            "_view_name": "HTMLView",
            "style": "IPY_MODEL_4ab49b41a33a4c36acee83b9790acd37",
            "_dom_classes": [],
            "description": "",
            "_model_name": "HTMLModel",
            "placeholder": "​",
            "_view_module": "@jupyter-widgets/controls",
            "_model_module_version": "1.5.0",
            "value": " 7809/7809 [00:01&lt;00:00, 5903.06it/s]",
            "_view_count": null,
            "_view_module_version": "1.5.0",
            "description_tooltip": null,
            "_model_module": "@jupyter-widgets/controls",
            "layout": "IPY_MODEL_d01ec24f4da449d6a139b40907668fd6"
          }
        },
        "650db8c1d9a34633923401c44d3d3a97": {
          "model_module": "@jupyter-widgets/controls",
          "model_name": "DescriptionStyleModel",
          "model_module_version": "1.5.0",
          "state": {
            "_view_name": "StyleView",
            "_model_name": "DescriptionStyleModel",
            "description_width": "",
            "_view_module": "@jupyter-widgets/base",
            "_model_module_version": "1.5.0",
            "_view_count": null,
            "_view_module_version": "1.2.0",
            "_model_module": "@jupyter-widgets/controls"
          }
        },
        "2e2df774b2e248aea7aa78519e299aca": {
          "model_module": "@jupyter-widgets/base",
          "model_name": "LayoutModel",
          "model_module_version": "1.2.0",
          "state": {
            "_view_name": "LayoutView",
            "grid_template_rows": null,
            "right": null,
            "justify_content": null,
            "_view_module": "@jupyter-widgets/base",
            "overflow": null,
            "_model_module_version": "1.2.0",
            "_view_count": null,
            "flex_flow": null,
            "width": null,
            "min_width": null,
            "border": null,
            "align_items": null,
            "bottom": null,
            "_model_module": "@jupyter-widgets/base",
            "top": null,
            "grid_column": null,
            "overflow_y": null,
            "overflow_x": null,
            "grid_auto_flow": null,
            "grid_area": null,
            "grid_template_columns": null,
            "flex": null,
            "_model_name": "LayoutModel",
            "justify_items": null,
            "grid_row": null,
            "max_height": null,
            "align_content": null,
            "visibility": null,
            "align_self": null,
            "height": null,
            "min_height": null,
            "padding": null,
            "grid_auto_rows": null,
            "grid_gap": null,
            "max_width": null,
            "order": null,
            "_view_module_version": "1.2.0",
            "grid_template_areas": null,
            "object_position": null,
            "object_fit": null,
            "grid_auto_columns": null,
            "margin": null,
            "display": null,
            "left": null
          }
        },
        "7b0651a72a504aa3b8dcc3e2d95448a9": {
          "model_module": "@jupyter-widgets/controls",
          "model_name": "ProgressStyleModel",
          "model_module_version": "1.5.0",
          "state": {
            "_view_name": "StyleView",
            "_model_name": "ProgressStyleModel",
            "description_width": "",
            "_view_module": "@jupyter-widgets/base",
            "_model_module_version": "1.5.0",
            "_view_count": null,
            "_view_module_version": "1.2.0",
            "bar_color": null,
            "_model_module": "@jupyter-widgets/controls"
          }
        },
        "b952f179735341d7b854782225bb0cb8": {
          "model_module": "@jupyter-widgets/base",
          "model_name": "LayoutModel",
          "model_module_version": "1.2.0",
          "state": {
            "_view_name": "LayoutView",
            "grid_template_rows": null,
            "right": null,
            "justify_content": null,
            "_view_module": "@jupyter-widgets/base",
            "overflow": null,
            "_model_module_version": "1.2.0",
            "_view_count": null,
            "flex_flow": null,
            "width": null,
            "min_width": null,
            "border": null,
            "align_items": null,
            "bottom": null,
            "_model_module": "@jupyter-widgets/base",
            "top": null,
            "grid_column": null,
            "overflow_y": null,
            "overflow_x": null,
            "grid_auto_flow": null,
            "grid_area": null,
            "grid_template_columns": null,
            "flex": null,
            "_model_name": "LayoutModel",
            "justify_items": null,
            "grid_row": null,
            "max_height": null,
            "align_content": null,
            "visibility": null,
            "align_self": null,
            "height": null,
            "min_height": null,
            "padding": null,
            "grid_auto_rows": null,
            "grid_gap": null,
            "max_width": null,
            "order": null,
            "_view_module_version": "1.2.0",
            "grid_template_areas": null,
            "object_position": null,
            "object_fit": null,
            "grid_auto_columns": null,
            "margin": null,
            "display": null,
            "left": null
          }
        },
        "4ab49b41a33a4c36acee83b9790acd37": {
          "model_module": "@jupyter-widgets/controls",
          "model_name": "DescriptionStyleModel",
          "model_module_version": "1.5.0",
          "state": {
            "_view_name": "StyleView",
            "_model_name": "DescriptionStyleModel",
            "description_width": "",
            "_view_module": "@jupyter-widgets/base",
            "_model_module_version": "1.5.0",
            "_view_count": null,
            "_view_module_version": "1.2.0",
            "_model_module": "@jupyter-widgets/controls"
          }
        },
        "d01ec24f4da449d6a139b40907668fd6": {
          "model_module": "@jupyter-widgets/base",
          "model_name": "LayoutModel",
          "model_module_version": "1.2.0",
          "state": {
            "_view_name": "LayoutView",
            "grid_template_rows": null,
            "right": null,
            "justify_content": null,
            "_view_module": "@jupyter-widgets/base",
            "overflow": null,
            "_model_module_version": "1.2.0",
            "_view_count": null,
            "flex_flow": null,
            "width": null,
            "min_width": null,
            "border": null,
            "align_items": null,
            "bottom": null,
            "_model_module": "@jupyter-widgets/base",
            "top": null,
            "grid_column": null,
            "overflow_y": null,
            "overflow_x": null,
            "grid_auto_flow": null,
            "grid_area": null,
            "grid_template_columns": null,
            "flex": null,
            "_model_name": "LayoutModel",
            "justify_items": null,
            "grid_row": null,
            "max_height": null,
            "align_content": null,
            "visibility": null,
            "align_self": null,
            "height": null,
            "min_height": null,
            "padding": null,
            "grid_auto_rows": null,
            "grid_gap": null,
            "max_width": null,
            "order": null,
            "_view_module_version": "1.2.0",
            "grid_template_areas": null,
            "object_position": null,
            "object_fit": null,
            "grid_auto_columns": null,
            "margin": null,
            "display": null,
            "left": null
          }
        },
        "ace11e39bb3442caaf16cdf2440eebbb": {
          "model_module": "@jupyter-widgets/controls",
          "model_name": "HBoxModel",
          "model_module_version": "1.5.0",
          "state": {
            "_view_name": "HBoxView",
            "_dom_classes": [],
            "_model_name": "HBoxModel",
            "_view_module": "@jupyter-widgets/controls",
            "_model_module_version": "1.5.0",
            "_view_count": null,
            "_view_module_version": "1.5.0",
            "box_style": "",
            "layout": "IPY_MODEL_e2ef19478e984babbc5271c8e854dddd",
            "_model_module": "@jupyter-widgets/controls",
            "children": [
              "IPY_MODEL_da6715e9271943699089ca8f88c8f343",
              "IPY_MODEL_b6234673d30c44c1aee65d3ee010b4f7",
              "IPY_MODEL_eb8d5a0d40854c20bdd16ad3383577cf"
            ]
          }
        },
        "e2ef19478e984babbc5271c8e854dddd": {
          "model_module": "@jupyter-widgets/base",
          "model_name": "LayoutModel",
          "model_module_version": "1.2.0",
          "state": {
            "_view_name": "LayoutView",
            "grid_template_rows": null,
            "right": null,
            "justify_content": null,
            "_view_module": "@jupyter-widgets/base",
            "overflow": null,
            "_model_module_version": "1.2.0",
            "_view_count": null,
            "flex_flow": null,
            "width": null,
            "min_width": null,
            "border": null,
            "align_items": null,
            "bottom": null,
            "_model_module": "@jupyter-widgets/base",
            "top": null,
            "grid_column": null,
            "overflow_y": null,
            "overflow_x": null,
            "grid_auto_flow": null,
            "grid_area": null,
            "grid_template_columns": null,
            "flex": null,
            "_model_name": "LayoutModel",
            "justify_items": null,
            "grid_row": null,
            "max_height": null,
            "align_content": null,
            "visibility": null,
            "align_self": null,
            "height": null,
            "min_height": null,
            "padding": null,
            "grid_auto_rows": null,
            "grid_gap": null,
            "max_width": null,
            "order": null,
            "_view_module_version": "1.2.0",
            "grid_template_areas": null,
            "object_position": null,
            "object_fit": null,
            "grid_auto_columns": null,
            "margin": null,
            "display": null,
            "left": null
          }
        },
        "da6715e9271943699089ca8f88c8f343": {
          "model_module": "@jupyter-widgets/controls",
          "model_name": "HTMLModel",
          "model_module_version": "1.5.0",
          "state": {
            "_view_name": "HTMLView",
            "style": "IPY_MODEL_9107a1d16c9d4c2aa518e51de1fbfc9c",
            "_dom_classes": [],
            "description": "",
            "_model_name": "HTMLModel",
            "placeholder": "​",
            "_view_module": "@jupyter-widgets/controls",
            "_model_module_version": "1.5.0",
            "value": "100%",
            "_view_count": null,
            "_view_module_version": "1.5.0",
            "description_tooltip": null,
            "_model_module": "@jupyter-widgets/controls",
            "layout": "IPY_MODEL_dae04de6219b4ba2b6f7e2157abf337c"
          }
        },
        "b6234673d30c44c1aee65d3ee010b4f7": {
          "model_module": "@jupyter-widgets/controls",
          "model_name": "FloatProgressModel",
          "model_module_version": "1.5.0",
          "state": {
            "_view_name": "ProgressView",
            "style": "IPY_MODEL_7a0b1d707edd47f5a4901419c036ca2e",
            "_dom_classes": [],
            "description": "",
            "_model_name": "FloatProgressModel",
            "bar_style": "success",
            "max": 7809,
            "_view_module": "@jupyter-widgets/controls",
            "_model_module_version": "1.5.0",
            "value": 7809,
            "_view_count": null,
            "_view_module_version": "1.5.0",
            "orientation": "horizontal",
            "min": 0,
            "description_tooltip": null,
            "_model_module": "@jupyter-widgets/controls",
            "layout": "IPY_MODEL_a39b2bedd4034d7599149ec43e1b8cdb"
          }
        },
        "eb8d5a0d40854c20bdd16ad3383577cf": {
          "model_module": "@jupyter-widgets/controls",
          "model_name": "HTMLModel",
          "model_module_version": "1.5.0",
          "state": {
            "_view_name": "HTMLView",
            "style": "IPY_MODEL_e7826bb807404924bf285d56c13539fd",
            "_dom_classes": [],
            "description": "",
            "_model_name": "HTMLModel",
            "placeholder": "​",
            "_view_module": "@jupyter-widgets/controls",
            "_model_module_version": "1.5.0",
            "value": " 7809/7809 [00:00&lt;00:00, 31489.95it/s]",
            "_view_count": null,
            "_view_module_version": "1.5.0",
            "description_tooltip": null,
            "_model_module": "@jupyter-widgets/controls",
            "layout": "IPY_MODEL_c33c736af6e642f2a01d18a58351470b"
          }
        },
        "9107a1d16c9d4c2aa518e51de1fbfc9c": {
          "model_module": "@jupyter-widgets/controls",
          "model_name": "DescriptionStyleModel",
          "model_module_version": "1.5.0",
          "state": {
            "_view_name": "StyleView",
            "_model_name": "DescriptionStyleModel",
            "description_width": "",
            "_view_module": "@jupyter-widgets/base",
            "_model_module_version": "1.5.0",
            "_view_count": null,
            "_view_module_version": "1.2.0",
            "_model_module": "@jupyter-widgets/controls"
          }
        },
        "dae04de6219b4ba2b6f7e2157abf337c": {
          "model_module": "@jupyter-widgets/base",
          "model_name": "LayoutModel",
          "model_module_version": "1.2.0",
          "state": {
            "_view_name": "LayoutView",
            "grid_template_rows": null,
            "right": null,
            "justify_content": null,
            "_view_module": "@jupyter-widgets/base",
            "overflow": null,
            "_model_module_version": "1.2.0",
            "_view_count": null,
            "flex_flow": null,
            "width": null,
            "min_width": null,
            "border": null,
            "align_items": null,
            "bottom": null,
            "_model_module": "@jupyter-widgets/base",
            "top": null,
            "grid_column": null,
            "overflow_y": null,
            "overflow_x": null,
            "grid_auto_flow": null,
            "grid_area": null,
            "grid_template_columns": null,
            "flex": null,
            "_model_name": "LayoutModel",
            "justify_items": null,
            "grid_row": null,
            "max_height": null,
            "align_content": null,
            "visibility": null,
            "align_self": null,
            "height": null,
            "min_height": null,
            "padding": null,
            "grid_auto_rows": null,
            "grid_gap": null,
            "max_width": null,
            "order": null,
            "_view_module_version": "1.2.0",
            "grid_template_areas": null,
            "object_position": null,
            "object_fit": null,
            "grid_auto_columns": null,
            "margin": null,
            "display": null,
            "left": null
          }
        },
        "7a0b1d707edd47f5a4901419c036ca2e": {
          "model_module": "@jupyter-widgets/controls",
          "model_name": "ProgressStyleModel",
          "model_module_version": "1.5.0",
          "state": {
            "_view_name": "StyleView",
            "_model_name": "ProgressStyleModel",
            "description_width": "",
            "_view_module": "@jupyter-widgets/base",
            "_model_module_version": "1.5.0",
            "_view_count": null,
            "_view_module_version": "1.2.0",
            "bar_color": null,
            "_model_module": "@jupyter-widgets/controls"
          }
        },
        "a39b2bedd4034d7599149ec43e1b8cdb": {
          "model_module": "@jupyter-widgets/base",
          "model_name": "LayoutModel",
          "model_module_version": "1.2.0",
          "state": {
            "_view_name": "LayoutView",
            "grid_template_rows": null,
            "right": null,
            "justify_content": null,
            "_view_module": "@jupyter-widgets/base",
            "overflow": null,
            "_model_module_version": "1.2.0",
            "_view_count": null,
            "flex_flow": null,
            "width": null,
            "min_width": null,
            "border": null,
            "align_items": null,
            "bottom": null,
            "_model_module": "@jupyter-widgets/base",
            "top": null,
            "grid_column": null,
            "overflow_y": null,
            "overflow_x": null,
            "grid_auto_flow": null,
            "grid_area": null,
            "grid_template_columns": null,
            "flex": null,
            "_model_name": "LayoutModel",
            "justify_items": null,
            "grid_row": null,
            "max_height": null,
            "align_content": null,
            "visibility": null,
            "align_self": null,
            "height": null,
            "min_height": null,
            "padding": null,
            "grid_auto_rows": null,
            "grid_gap": null,
            "max_width": null,
            "order": null,
            "_view_module_version": "1.2.0",
            "grid_template_areas": null,
            "object_position": null,
            "object_fit": null,
            "grid_auto_columns": null,
            "margin": null,
            "display": null,
            "left": null
          }
        },
        "e7826bb807404924bf285d56c13539fd": {
          "model_module": "@jupyter-widgets/controls",
          "model_name": "DescriptionStyleModel",
          "model_module_version": "1.5.0",
          "state": {
            "_view_name": "StyleView",
            "_model_name": "DescriptionStyleModel",
            "description_width": "",
            "_view_module": "@jupyter-widgets/base",
            "_model_module_version": "1.5.0",
            "_view_count": null,
            "_view_module_version": "1.2.0",
            "_model_module": "@jupyter-widgets/controls"
          }
        },
        "c33c736af6e642f2a01d18a58351470b": {
          "model_module": "@jupyter-widgets/base",
          "model_name": "LayoutModel",
          "model_module_version": "1.2.0",
          "state": {
            "_view_name": "LayoutView",
            "grid_template_rows": null,
            "right": null,
            "justify_content": null,
            "_view_module": "@jupyter-widgets/base",
            "overflow": null,
            "_model_module_version": "1.2.0",
            "_view_count": null,
            "flex_flow": null,
            "width": null,
            "min_width": null,
            "border": null,
            "align_items": null,
            "bottom": null,
            "_model_module": "@jupyter-widgets/base",
            "top": null,
            "grid_column": null,
            "overflow_y": null,
            "overflow_x": null,
            "grid_auto_flow": null,
            "grid_area": null,
            "grid_template_columns": null,
            "flex": null,
            "_model_name": "LayoutModel",
            "justify_items": null,
            "grid_row": null,
            "max_height": null,
            "align_content": null,
            "visibility": null,
            "align_self": null,
            "height": null,
            "min_height": null,
            "padding": null,
            "grid_auto_rows": null,
            "grid_gap": null,
            "max_width": null,
            "order": null,
            "_view_module_version": "1.2.0",
            "grid_template_areas": null,
            "object_position": null,
            "object_fit": null,
            "grid_auto_columns": null,
            "margin": null,
            "display": null,
            "left": null
          }
        },
        "859886d0309b4de584a17a06fb90305f": {
          "model_module": "@jupyter-widgets/controls",
          "model_name": "HBoxModel",
          "model_module_version": "1.5.0",
          "state": {
            "_view_name": "HBoxView",
            "_dom_classes": [],
            "_model_name": "HBoxModel",
            "_view_module": "@jupyter-widgets/controls",
            "_model_module_version": "1.5.0",
            "_view_count": null,
            "_view_module_version": "1.5.0",
            "box_style": "",
            "layout": "IPY_MODEL_2eaec72a0b5f47b1b1d0a808d15f6d85",
            "_model_module": "@jupyter-widgets/controls",
            "children": [
              "IPY_MODEL_4f1256a49a4146eeb514e05d137149f0",
              "IPY_MODEL_0d4194e89463422883f76e0b3f289cea",
              "IPY_MODEL_47c004ba64e1490281b55d3720d7e6c9"
            ]
          }
        },
        "2eaec72a0b5f47b1b1d0a808d15f6d85": {
          "model_module": "@jupyter-widgets/base",
          "model_name": "LayoutModel",
          "model_module_version": "1.2.0",
          "state": {
            "_view_name": "LayoutView",
            "grid_template_rows": null,
            "right": null,
            "justify_content": null,
            "_view_module": "@jupyter-widgets/base",
            "overflow": null,
            "_model_module_version": "1.2.0",
            "_view_count": null,
            "flex_flow": null,
            "width": null,
            "min_width": null,
            "border": null,
            "align_items": null,
            "bottom": null,
            "_model_module": "@jupyter-widgets/base",
            "top": null,
            "grid_column": null,
            "overflow_y": null,
            "overflow_x": null,
            "grid_auto_flow": null,
            "grid_area": null,
            "grid_template_columns": null,
            "flex": null,
            "_model_name": "LayoutModel",
            "justify_items": null,
            "grid_row": null,
            "max_height": null,
            "align_content": null,
            "visibility": null,
            "align_self": null,
            "height": null,
            "min_height": null,
            "padding": null,
            "grid_auto_rows": null,
            "grid_gap": null,
            "max_width": null,
            "order": null,
            "_view_module_version": "1.2.0",
            "grid_template_areas": null,
            "object_position": null,
            "object_fit": null,
            "grid_auto_columns": null,
            "margin": null,
            "display": null,
            "left": null
          }
        },
        "4f1256a49a4146eeb514e05d137149f0": {
          "model_module": "@jupyter-widgets/controls",
          "model_name": "HTMLModel",
          "model_module_version": "1.5.0",
          "state": {
            "_view_name": "HTMLView",
            "style": "IPY_MODEL_16eb4d8bbc0341698d444778f64ba9e9",
            "_dom_classes": [],
            "description": "",
            "_model_name": "HTMLModel",
            "placeholder": "​",
            "_view_module": "@jupyter-widgets/controls",
            "_model_module_version": "1.5.0",
            "value": "100%",
            "_view_count": null,
            "_view_module_version": "1.5.0",
            "description_tooltip": null,
            "_model_module": "@jupyter-widgets/controls",
            "layout": "IPY_MODEL_b5a73cfdfd444642b517a13fbaa496f1"
          }
        },
        "0d4194e89463422883f76e0b3f289cea": {
          "model_module": "@jupyter-widgets/controls",
          "model_name": "FloatProgressModel",
          "model_module_version": "1.5.0",
          "state": {
            "_view_name": "ProgressView",
            "style": "IPY_MODEL_4d8cbdf393314bf9922a77933e0f706d",
            "_dom_classes": [],
            "description": "",
            "_model_name": "FloatProgressModel",
            "bar_style": "success",
            "max": 7809,
            "_view_module": "@jupyter-widgets/controls",
            "_model_module_version": "1.5.0",
            "value": 7809,
            "_view_count": null,
            "_view_module_version": "1.5.0",
            "orientation": "horizontal",
            "min": 0,
            "description_tooltip": null,
            "_model_module": "@jupyter-widgets/controls",
            "layout": "IPY_MODEL_b0b97ee1b2384ef28e7d976d49e08970"
          }
        },
        "47c004ba64e1490281b55d3720d7e6c9": {
          "model_module": "@jupyter-widgets/controls",
          "model_name": "HTMLModel",
          "model_module_version": "1.5.0",
          "state": {
            "_view_name": "HTMLView",
            "style": "IPY_MODEL_b89833138a784c9888ebfcfd1a47f9e1",
            "_dom_classes": [],
            "description": "",
            "_model_name": "HTMLModel",
            "placeholder": "​",
            "_view_module": "@jupyter-widgets/controls",
            "_model_module_version": "1.5.0",
            "value": " 7809/7809 [01:32&lt;00:00, 84.77it/s]",
            "_view_count": null,
            "_view_module_version": "1.5.0",
            "description_tooltip": null,
            "_model_module": "@jupyter-widgets/controls",
            "layout": "IPY_MODEL_843a66d60354412dbfef7657dd82e48d"
          }
        },
        "16eb4d8bbc0341698d444778f64ba9e9": {
          "model_module": "@jupyter-widgets/controls",
          "model_name": "DescriptionStyleModel",
          "model_module_version": "1.5.0",
          "state": {
            "_view_name": "StyleView",
            "_model_name": "DescriptionStyleModel",
            "description_width": "",
            "_view_module": "@jupyter-widgets/base",
            "_model_module_version": "1.5.0",
            "_view_count": null,
            "_view_module_version": "1.2.0",
            "_model_module": "@jupyter-widgets/controls"
          }
        },
        "b5a73cfdfd444642b517a13fbaa496f1": {
          "model_module": "@jupyter-widgets/base",
          "model_name": "LayoutModel",
          "model_module_version": "1.2.0",
          "state": {
            "_view_name": "LayoutView",
            "grid_template_rows": null,
            "right": null,
            "justify_content": null,
            "_view_module": "@jupyter-widgets/base",
            "overflow": null,
            "_model_module_version": "1.2.0",
            "_view_count": null,
            "flex_flow": null,
            "width": null,
            "min_width": null,
            "border": null,
            "align_items": null,
            "bottom": null,
            "_model_module": "@jupyter-widgets/base",
            "top": null,
            "grid_column": null,
            "overflow_y": null,
            "overflow_x": null,
            "grid_auto_flow": null,
            "grid_area": null,
            "grid_template_columns": null,
            "flex": null,
            "_model_name": "LayoutModel",
            "justify_items": null,
            "grid_row": null,
            "max_height": null,
            "align_content": null,
            "visibility": null,
            "align_self": null,
            "height": null,
            "min_height": null,
            "padding": null,
            "grid_auto_rows": null,
            "grid_gap": null,
            "max_width": null,
            "order": null,
            "_view_module_version": "1.2.0",
            "grid_template_areas": null,
            "object_position": null,
            "object_fit": null,
            "grid_auto_columns": null,
            "margin": null,
            "display": null,
            "left": null
          }
        },
        "4d8cbdf393314bf9922a77933e0f706d": {
          "model_module": "@jupyter-widgets/controls",
          "model_name": "ProgressStyleModel",
          "model_module_version": "1.5.0",
          "state": {
            "_view_name": "StyleView",
            "_model_name": "ProgressStyleModel",
            "description_width": "",
            "_view_module": "@jupyter-widgets/base",
            "_model_module_version": "1.5.0",
            "_view_count": null,
            "_view_module_version": "1.2.0",
            "bar_color": null,
            "_model_module": "@jupyter-widgets/controls"
          }
        },
        "b0b97ee1b2384ef28e7d976d49e08970": {
          "model_module": "@jupyter-widgets/base",
          "model_name": "LayoutModel",
          "model_module_version": "1.2.0",
          "state": {
            "_view_name": "LayoutView",
            "grid_template_rows": null,
            "right": null,
            "justify_content": null,
            "_view_module": "@jupyter-widgets/base",
            "overflow": null,
            "_model_module_version": "1.2.0",
            "_view_count": null,
            "flex_flow": null,
            "width": null,
            "min_width": null,
            "border": null,
            "align_items": null,
            "bottom": null,
            "_model_module": "@jupyter-widgets/base",
            "top": null,
            "grid_column": null,
            "overflow_y": null,
            "overflow_x": null,
            "grid_auto_flow": null,
            "grid_area": null,
            "grid_template_columns": null,
            "flex": null,
            "_model_name": "LayoutModel",
            "justify_items": null,
            "grid_row": null,
            "max_height": null,
            "align_content": null,
            "visibility": null,
            "align_self": null,
            "height": null,
            "min_height": null,
            "padding": null,
            "grid_auto_rows": null,
            "grid_gap": null,
            "max_width": null,
            "order": null,
            "_view_module_version": "1.2.0",
            "grid_template_areas": null,
            "object_position": null,
            "object_fit": null,
            "grid_auto_columns": null,
            "margin": null,
            "display": null,
            "left": null
          }
        },
        "b89833138a784c9888ebfcfd1a47f9e1": {
          "model_module": "@jupyter-widgets/controls",
          "model_name": "DescriptionStyleModel",
          "model_module_version": "1.5.0",
          "state": {
            "_view_name": "StyleView",
            "_model_name": "DescriptionStyleModel",
            "description_width": "",
            "_view_module": "@jupyter-widgets/base",
            "_model_module_version": "1.5.0",
            "_view_count": null,
            "_view_module_version": "1.2.0",
            "_model_module": "@jupyter-widgets/controls"
          }
        },
        "843a66d60354412dbfef7657dd82e48d": {
          "model_module": "@jupyter-widgets/base",
          "model_name": "LayoutModel",
          "model_module_version": "1.2.0",
          "state": {
            "_view_name": "LayoutView",
            "grid_template_rows": null,
            "right": null,
            "justify_content": null,
            "_view_module": "@jupyter-widgets/base",
            "overflow": null,
            "_model_module_version": "1.2.0",
            "_view_count": null,
            "flex_flow": null,
            "width": null,
            "min_width": null,
            "border": null,
            "align_items": null,
            "bottom": null,
            "_model_module": "@jupyter-widgets/base",
            "top": null,
            "grid_column": null,
            "overflow_y": null,
            "overflow_x": null,
            "grid_auto_flow": null,
            "grid_area": null,
            "grid_template_columns": null,
            "flex": null,
            "_model_name": "LayoutModel",
            "justify_items": null,
            "grid_row": null,
            "max_height": null,
            "align_content": null,
            "visibility": null,
            "align_self": null,
            "height": null,
            "min_height": null,
            "padding": null,
            "grid_auto_rows": null,
            "grid_gap": null,
            "max_width": null,
            "order": null,
            "_view_module_version": "1.2.0",
            "grid_template_areas": null,
            "object_position": null,
            "object_fit": null,
            "grid_auto_columns": null,
            "margin": null,
            "display": null,
            "left": null
          }
        },
        "67a51f173a3d430fbe2049f045dc27c5": {
          "model_module": "@jupyter-widgets/controls",
          "model_name": "HBoxModel",
          "model_module_version": "1.5.0",
          "state": {
            "_view_name": "HBoxView",
            "_dom_classes": [],
            "_model_name": "HBoxModel",
            "_view_module": "@jupyter-widgets/controls",
            "_model_module_version": "1.5.0",
            "_view_count": null,
            "_view_module_version": "1.5.0",
            "box_style": "",
            "layout": "IPY_MODEL_fe36a4fc7f884fddb06df9b753822c69",
            "_model_module": "@jupyter-widgets/controls",
            "children": [
              "IPY_MODEL_b3df322f0e8141539200897f84b1f6e6",
              "IPY_MODEL_8aa11efd5c964a2d99e360cc765f9e9b",
              "IPY_MODEL_a97785ff2b1a497581526ddccb90cc85"
            ]
          }
        },
        "fe36a4fc7f884fddb06df9b753822c69": {
          "model_module": "@jupyter-widgets/base",
          "model_name": "LayoutModel",
          "model_module_version": "1.2.0",
          "state": {
            "_view_name": "LayoutView",
            "grid_template_rows": null,
            "right": null,
            "justify_content": null,
            "_view_module": "@jupyter-widgets/base",
            "overflow": null,
            "_model_module_version": "1.2.0",
            "_view_count": null,
            "flex_flow": null,
            "width": null,
            "min_width": null,
            "border": null,
            "align_items": null,
            "bottom": null,
            "_model_module": "@jupyter-widgets/base",
            "top": null,
            "grid_column": null,
            "overflow_y": null,
            "overflow_x": null,
            "grid_auto_flow": null,
            "grid_area": null,
            "grid_template_columns": null,
            "flex": null,
            "_model_name": "LayoutModel",
            "justify_items": null,
            "grid_row": null,
            "max_height": null,
            "align_content": null,
            "visibility": null,
            "align_self": null,
            "height": null,
            "min_height": null,
            "padding": null,
            "grid_auto_rows": null,
            "grid_gap": null,
            "max_width": null,
            "order": null,
            "_view_module_version": "1.2.0",
            "grid_template_areas": null,
            "object_position": null,
            "object_fit": null,
            "grid_auto_columns": null,
            "margin": null,
            "display": null,
            "left": null
          }
        },
        "b3df322f0e8141539200897f84b1f6e6": {
          "model_module": "@jupyter-widgets/controls",
          "model_name": "HTMLModel",
          "model_module_version": "1.5.0",
          "state": {
            "_view_name": "HTMLView",
            "style": "IPY_MODEL_17ccca6e2ffe4a0eb34a826b2221787f",
            "_dom_classes": [],
            "description": "",
            "_model_name": "HTMLModel",
            "placeholder": "​",
            "_view_module": "@jupyter-widgets/controls",
            "_model_module_version": "1.5.0",
            "value": "100%",
            "_view_count": null,
            "_view_module_version": "1.5.0",
            "description_tooltip": null,
            "_model_module": "@jupyter-widgets/controls",
            "layout": "IPY_MODEL_cc73486e334d48ac8733cb533a48048b"
          }
        },
        "8aa11efd5c964a2d99e360cc765f9e9b": {
          "model_module": "@jupyter-widgets/controls",
          "model_name": "FloatProgressModel",
          "model_module_version": "1.5.0",
          "state": {
            "_view_name": "ProgressView",
            "style": "IPY_MODEL_81fc96d206f648e188c1df639fce55d0",
            "_dom_classes": [],
            "description": "",
            "_model_name": "FloatProgressModel",
            "bar_style": "success",
            "max": 7809,
            "_view_module": "@jupyter-widgets/controls",
            "_model_module_version": "1.5.0",
            "value": 7809,
            "_view_count": null,
            "_view_module_version": "1.5.0",
            "orientation": "horizontal",
            "min": 0,
            "description_tooltip": null,
            "_model_module": "@jupyter-widgets/controls",
            "layout": "IPY_MODEL_27ab90b9ab3a4921a424f60f5ce5d712"
          }
        },
        "a97785ff2b1a497581526ddccb90cc85": {
          "model_module": "@jupyter-widgets/controls",
          "model_name": "HTMLModel",
          "model_module_version": "1.5.0",
          "state": {
            "_view_name": "HTMLView",
            "style": "IPY_MODEL_92bf7ed8b4714e1cbae34281dda6b668",
            "_dom_classes": [],
            "description": "",
            "_model_name": "HTMLModel",
            "placeholder": "​",
            "_view_module": "@jupyter-widgets/controls",
            "_model_module_version": "1.5.0",
            "value": " 7809/7809 [00:10&lt;00:00, 652.20it/s]",
            "_view_count": null,
            "_view_module_version": "1.5.0",
            "description_tooltip": null,
            "_model_module": "@jupyter-widgets/controls",
            "layout": "IPY_MODEL_d3349a8751954ed5b423e931532bd167"
          }
        },
        "17ccca6e2ffe4a0eb34a826b2221787f": {
          "model_module": "@jupyter-widgets/controls",
          "model_name": "DescriptionStyleModel",
          "model_module_version": "1.5.0",
          "state": {
            "_view_name": "StyleView",
            "_model_name": "DescriptionStyleModel",
            "description_width": "",
            "_view_module": "@jupyter-widgets/base",
            "_model_module_version": "1.5.0",
            "_view_count": null,
            "_view_module_version": "1.2.0",
            "_model_module": "@jupyter-widgets/controls"
          }
        },
        "cc73486e334d48ac8733cb533a48048b": {
          "model_module": "@jupyter-widgets/base",
          "model_name": "LayoutModel",
          "model_module_version": "1.2.0",
          "state": {
            "_view_name": "LayoutView",
            "grid_template_rows": null,
            "right": null,
            "justify_content": null,
            "_view_module": "@jupyter-widgets/base",
            "overflow": null,
            "_model_module_version": "1.2.0",
            "_view_count": null,
            "flex_flow": null,
            "width": null,
            "min_width": null,
            "border": null,
            "align_items": null,
            "bottom": null,
            "_model_module": "@jupyter-widgets/base",
            "top": null,
            "grid_column": null,
            "overflow_y": null,
            "overflow_x": null,
            "grid_auto_flow": null,
            "grid_area": null,
            "grid_template_columns": null,
            "flex": null,
            "_model_name": "LayoutModel",
            "justify_items": null,
            "grid_row": null,
            "max_height": null,
            "align_content": null,
            "visibility": null,
            "align_self": null,
            "height": null,
            "min_height": null,
            "padding": null,
            "grid_auto_rows": null,
            "grid_gap": null,
            "max_width": null,
            "order": null,
            "_view_module_version": "1.2.0",
            "grid_template_areas": null,
            "object_position": null,
            "object_fit": null,
            "grid_auto_columns": null,
            "margin": null,
            "display": null,
            "left": null
          }
        },
        "81fc96d206f648e188c1df639fce55d0": {
          "model_module": "@jupyter-widgets/controls",
          "model_name": "ProgressStyleModel",
          "model_module_version": "1.5.0",
          "state": {
            "_view_name": "StyleView",
            "_model_name": "ProgressStyleModel",
            "description_width": "",
            "_view_module": "@jupyter-widgets/base",
            "_model_module_version": "1.5.0",
            "_view_count": null,
            "_view_module_version": "1.2.0",
            "bar_color": null,
            "_model_module": "@jupyter-widgets/controls"
          }
        },
        "27ab90b9ab3a4921a424f60f5ce5d712": {
          "model_module": "@jupyter-widgets/base",
          "model_name": "LayoutModel",
          "model_module_version": "1.2.0",
          "state": {
            "_view_name": "LayoutView",
            "grid_template_rows": null,
            "right": null,
            "justify_content": null,
            "_view_module": "@jupyter-widgets/base",
            "overflow": null,
            "_model_module_version": "1.2.0",
            "_view_count": null,
            "flex_flow": null,
            "width": null,
            "min_width": null,
            "border": null,
            "align_items": null,
            "bottom": null,
            "_model_module": "@jupyter-widgets/base",
            "top": null,
            "grid_column": null,
            "overflow_y": null,
            "overflow_x": null,
            "grid_auto_flow": null,
            "grid_area": null,
            "grid_template_columns": null,
            "flex": null,
            "_model_name": "LayoutModel",
            "justify_items": null,
            "grid_row": null,
            "max_height": null,
            "align_content": null,
            "visibility": null,
            "align_self": null,
            "height": null,
            "min_height": null,
            "padding": null,
            "grid_auto_rows": null,
            "grid_gap": null,
            "max_width": null,
            "order": null,
            "_view_module_version": "1.2.0",
            "grid_template_areas": null,
            "object_position": null,
            "object_fit": null,
            "grid_auto_columns": null,
            "margin": null,
            "display": null,
            "left": null
          }
        },
        "92bf7ed8b4714e1cbae34281dda6b668": {
          "model_module": "@jupyter-widgets/controls",
          "model_name": "DescriptionStyleModel",
          "model_module_version": "1.5.0",
          "state": {
            "_view_name": "StyleView",
            "_model_name": "DescriptionStyleModel",
            "description_width": "",
            "_view_module": "@jupyter-widgets/base",
            "_model_module_version": "1.5.0",
            "_view_count": null,
            "_view_module_version": "1.2.0",
            "_model_module": "@jupyter-widgets/controls"
          }
        },
        "d3349a8751954ed5b423e931532bd167": {
          "model_module": "@jupyter-widgets/base",
          "model_name": "LayoutModel",
          "model_module_version": "1.2.0",
          "state": {
            "_view_name": "LayoutView",
            "grid_template_rows": null,
            "right": null,
            "justify_content": null,
            "_view_module": "@jupyter-widgets/base",
            "overflow": null,
            "_model_module_version": "1.2.0",
            "_view_count": null,
            "flex_flow": null,
            "width": null,
            "min_width": null,
            "border": null,
            "align_items": null,
            "bottom": null,
            "_model_module": "@jupyter-widgets/base",
            "top": null,
            "grid_column": null,
            "overflow_y": null,
            "overflow_x": null,
            "grid_auto_flow": null,
            "grid_area": null,
            "grid_template_columns": null,
            "flex": null,
            "_model_name": "LayoutModel",
            "justify_items": null,
            "grid_row": null,
            "max_height": null,
            "align_content": null,
            "visibility": null,
            "align_self": null,
            "height": null,
            "min_height": null,
            "padding": null,
            "grid_auto_rows": null,
            "grid_gap": null,
            "max_width": null,
            "order": null,
            "_view_module_version": "1.2.0",
            "grid_template_areas": null,
            "object_position": null,
            "object_fit": null,
            "grid_auto_columns": null,
            "margin": null,
            "display": null,
            "left": null
          }
        },
        "22332122aa7a48fd92336aa9cd41f303": {
          "model_module": "@jupyter-widgets/controls",
          "model_name": "HBoxModel",
          "model_module_version": "1.5.0",
          "state": {
            "_view_name": "HBoxView",
            "_dom_classes": [],
            "_model_name": "HBoxModel",
            "_view_module": "@jupyter-widgets/controls",
            "_model_module_version": "1.5.0",
            "_view_count": null,
            "_view_module_version": "1.5.0",
            "box_style": "",
            "layout": "IPY_MODEL_12f3e298cbbd4cc2822b76e6d9d5e762",
            "_model_module": "@jupyter-widgets/controls",
            "children": [
              "IPY_MODEL_455993822cf24406812b3c66393ad911",
              "IPY_MODEL_18b78504d90e40de9a77188eea927902",
              "IPY_MODEL_7a4e97301460424bb86e96b9da7710b7"
            ]
          }
        },
        "12f3e298cbbd4cc2822b76e6d9d5e762": {
          "model_module": "@jupyter-widgets/base",
          "model_name": "LayoutModel",
          "model_module_version": "1.2.0",
          "state": {
            "_view_name": "LayoutView",
            "grid_template_rows": null,
            "right": null,
            "justify_content": null,
            "_view_module": "@jupyter-widgets/base",
            "overflow": null,
            "_model_module_version": "1.2.0",
            "_view_count": null,
            "flex_flow": null,
            "width": null,
            "min_width": null,
            "border": null,
            "align_items": null,
            "bottom": null,
            "_model_module": "@jupyter-widgets/base",
            "top": null,
            "grid_column": null,
            "overflow_y": null,
            "overflow_x": null,
            "grid_auto_flow": null,
            "grid_area": null,
            "grid_template_columns": null,
            "flex": null,
            "_model_name": "LayoutModel",
            "justify_items": null,
            "grid_row": null,
            "max_height": null,
            "align_content": null,
            "visibility": null,
            "align_self": null,
            "height": null,
            "min_height": null,
            "padding": null,
            "grid_auto_rows": null,
            "grid_gap": null,
            "max_width": null,
            "order": null,
            "_view_module_version": "1.2.0",
            "grid_template_areas": null,
            "object_position": null,
            "object_fit": null,
            "grid_auto_columns": null,
            "margin": null,
            "display": null,
            "left": null
          }
        },
        "455993822cf24406812b3c66393ad911": {
          "model_module": "@jupyter-widgets/controls",
          "model_name": "HTMLModel",
          "model_module_version": "1.5.0",
          "state": {
            "_view_name": "HTMLView",
            "style": "IPY_MODEL_cdd2b47547894780bf89b62da98bfe1c",
            "_dom_classes": [],
            "description": "",
            "_model_name": "HTMLModel",
            "placeholder": "​",
            "_view_module": "@jupyter-widgets/controls",
            "_model_module_version": "1.5.0",
            "value": "100%",
            "_view_count": null,
            "_view_module_version": "1.5.0",
            "description_tooltip": null,
            "_model_module": "@jupyter-widgets/controls",
            "layout": "IPY_MODEL_07915e83184d40189b142e6a325c7ead"
          }
        },
        "18b78504d90e40de9a77188eea927902": {
          "model_module": "@jupyter-widgets/controls",
          "model_name": "FloatProgressModel",
          "model_module_version": "1.5.0",
          "state": {
            "_view_name": "ProgressView",
            "style": "IPY_MODEL_f722645310184154bb366d0355513038",
            "_dom_classes": [],
            "description": "",
            "_model_name": "FloatProgressModel",
            "bar_style": "success",
            "max": 7809,
            "_view_module": "@jupyter-widgets/controls",
            "_model_module_version": "1.5.0",
            "value": 7809,
            "_view_count": null,
            "_view_module_version": "1.5.0",
            "orientation": "horizontal",
            "min": 0,
            "description_tooltip": null,
            "_model_module": "@jupyter-widgets/controls",
            "layout": "IPY_MODEL_ba79e3770e8246b096d396aaf2594409"
          }
        },
        "7a4e97301460424bb86e96b9da7710b7": {
          "model_module": "@jupyter-widgets/controls",
          "model_name": "HTMLModel",
          "model_module_version": "1.5.0",
          "state": {
            "_view_name": "HTMLView",
            "style": "IPY_MODEL_884eedc62abe4054a66dc2c5db1fd62e",
            "_dom_classes": [],
            "description": "",
            "_model_name": "HTMLModel",
            "placeholder": "​",
            "_view_module": "@jupyter-widgets/controls",
            "_model_module_version": "1.5.0",
            "value": " 7809/7809 [00:09&lt;00:00, 640.52it/s]",
            "_view_count": null,
            "_view_module_version": "1.5.0",
            "description_tooltip": null,
            "_model_module": "@jupyter-widgets/controls",
            "layout": "IPY_MODEL_c8df4c81c6b2410090507ed169f48425"
          }
        },
        "cdd2b47547894780bf89b62da98bfe1c": {
          "model_module": "@jupyter-widgets/controls",
          "model_name": "DescriptionStyleModel",
          "model_module_version": "1.5.0",
          "state": {
            "_view_name": "StyleView",
            "_model_name": "DescriptionStyleModel",
            "description_width": "",
            "_view_module": "@jupyter-widgets/base",
            "_model_module_version": "1.5.0",
            "_view_count": null,
            "_view_module_version": "1.2.0",
            "_model_module": "@jupyter-widgets/controls"
          }
        },
        "07915e83184d40189b142e6a325c7ead": {
          "model_module": "@jupyter-widgets/base",
          "model_name": "LayoutModel",
          "model_module_version": "1.2.0",
          "state": {
            "_view_name": "LayoutView",
            "grid_template_rows": null,
            "right": null,
            "justify_content": null,
            "_view_module": "@jupyter-widgets/base",
            "overflow": null,
            "_model_module_version": "1.2.0",
            "_view_count": null,
            "flex_flow": null,
            "width": null,
            "min_width": null,
            "border": null,
            "align_items": null,
            "bottom": null,
            "_model_module": "@jupyter-widgets/base",
            "top": null,
            "grid_column": null,
            "overflow_y": null,
            "overflow_x": null,
            "grid_auto_flow": null,
            "grid_area": null,
            "grid_template_columns": null,
            "flex": null,
            "_model_name": "LayoutModel",
            "justify_items": null,
            "grid_row": null,
            "max_height": null,
            "align_content": null,
            "visibility": null,
            "align_self": null,
            "height": null,
            "min_height": null,
            "padding": null,
            "grid_auto_rows": null,
            "grid_gap": null,
            "max_width": null,
            "order": null,
            "_view_module_version": "1.2.0",
            "grid_template_areas": null,
            "object_position": null,
            "object_fit": null,
            "grid_auto_columns": null,
            "margin": null,
            "display": null,
            "left": null
          }
        },
        "f722645310184154bb366d0355513038": {
          "model_module": "@jupyter-widgets/controls",
          "model_name": "ProgressStyleModel",
          "model_module_version": "1.5.0",
          "state": {
            "_view_name": "StyleView",
            "_model_name": "ProgressStyleModel",
            "description_width": "",
            "_view_module": "@jupyter-widgets/base",
            "_model_module_version": "1.5.0",
            "_view_count": null,
            "_view_module_version": "1.2.0",
            "bar_color": null,
            "_model_module": "@jupyter-widgets/controls"
          }
        },
        "ba79e3770e8246b096d396aaf2594409": {
          "model_module": "@jupyter-widgets/base",
          "model_name": "LayoutModel",
          "model_module_version": "1.2.0",
          "state": {
            "_view_name": "LayoutView",
            "grid_template_rows": null,
            "right": null,
            "justify_content": null,
            "_view_module": "@jupyter-widgets/base",
            "overflow": null,
            "_model_module_version": "1.2.0",
            "_view_count": null,
            "flex_flow": null,
            "width": null,
            "min_width": null,
            "border": null,
            "align_items": null,
            "bottom": null,
            "_model_module": "@jupyter-widgets/base",
            "top": null,
            "grid_column": null,
            "overflow_y": null,
            "overflow_x": null,
            "grid_auto_flow": null,
            "grid_area": null,
            "grid_template_columns": null,
            "flex": null,
            "_model_name": "LayoutModel",
            "justify_items": null,
            "grid_row": null,
            "max_height": null,
            "align_content": null,
            "visibility": null,
            "align_self": null,
            "height": null,
            "min_height": null,
            "padding": null,
            "grid_auto_rows": null,
            "grid_gap": null,
            "max_width": null,
            "order": null,
            "_view_module_version": "1.2.0",
            "grid_template_areas": null,
            "object_position": null,
            "object_fit": null,
            "grid_auto_columns": null,
            "margin": null,
            "display": null,
            "left": null
          }
        },
        "884eedc62abe4054a66dc2c5db1fd62e": {
          "model_module": "@jupyter-widgets/controls",
          "model_name": "DescriptionStyleModel",
          "model_module_version": "1.5.0",
          "state": {
            "_view_name": "StyleView",
            "_model_name": "DescriptionStyleModel",
            "description_width": "",
            "_view_module": "@jupyter-widgets/base",
            "_model_module_version": "1.5.0",
            "_view_count": null,
            "_view_module_version": "1.2.0",
            "_model_module": "@jupyter-widgets/controls"
          }
        },
        "c8df4c81c6b2410090507ed169f48425": {
          "model_module": "@jupyter-widgets/base",
          "model_name": "LayoutModel",
          "model_module_version": "1.2.0",
          "state": {
            "_view_name": "LayoutView",
            "grid_template_rows": null,
            "right": null,
            "justify_content": null,
            "_view_module": "@jupyter-widgets/base",
            "overflow": null,
            "_model_module_version": "1.2.0",
            "_view_count": null,
            "flex_flow": null,
            "width": null,
            "min_width": null,
            "border": null,
            "align_items": null,
            "bottom": null,
            "_model_module": "@jupyter-widgets/base",
            "top": null,
            "grid_column": null,
            "overflow_y": null,
            "overflow_x": null,
            "grid_auto_flow": null,
            "grid_area": null,
            "grid_template_columns": null,
            "flex": null,
            "_model_name": "LayoutModel",
            "justify_items": null,
            "grid_row": null,
            "max_height": null,
            "align_content": null,
            "visibility": null,
            "align_self": null,
            "height": null,
            "min_height": null,
            "padding": null,
            "grid_auto_rows": null,
            "grid_gap": null,
            "max_width": null,
            "order": null,
            "_view_module_version": "1.2.0",
            "grid_template_areas": null,
            "object_position": null,
            "object_fit": null,
            "grid_auto_columns": null,
            "margin": null,
            "display": null,
            "left": null
          }
        },
        "e295c56b69b74e8fb82fd0f31625c525": {
          "model_module": "@jupyter-widgets/controls",
          "model_name": "HBoxModel",
          "model_module_version": "1.5.0",
          "state": {
            "_view_name": "HBoxView",
            "_dom_classes": [],
            "_model_name": "HBoxModel",
            "_view_module": "@jupyter-widgets/controls",
            "_model_module_version": "1.5.0",
            "_view_count": null,
            "_view_module_version": "1.5.0",
            "box_style": "",
            "layout": "IPY_MODEL_9dc319fda36145cca50706a04f3f902b",
            "_model_module": "@jupyter-widgets/controls",
            "children": [
              "IPY_MODEL_391a46b0091d4950b5623aef721044ca",
              "IPY_MODEL_363b2f18365f41e294fee3f869398668",
              "IPY_MODEL_ff55a61570a6463eae3fbe9643c9dae3"
            ]
          }
        },
        "9dc319fda36145cca50706a04f3f902b": {
          "model_module": "@jupyter-widgets/base",
          "model_name": "LayoutModel",
          "model_module_version": "1.2.0",
          "state": {
            "_view_name": "LayoutView",
            "grid_template_rows": null,
            "right": null,
            "justify_content": null,
            "_view_module": "@jupyter-widgets/base",
            "overflow": null,
            "_model_module_version": "1.2.0",
            "_view_count": null,
            "flex_flow": null,
            "width": null,
            "min_width": null,
            "border": null,
            "align_items": null,
            "bottom": null,
            "_model_module": "@jupyter-widgets/base",
            "top": null,
            "grid_column": null,
            "overflow_y": null,
            "overflow_x": null,
            "grid_auto_flow": null,
            "grid_area": null,
            "grid_template_columns": null,
            "flex": null,
            "_model_name": "LayoutModel",
            "justify_items": null,
            "grid_row": null,
            "max_height": null,
            "align_content": null,
            "visibility": null,
            "align_self": null,
            "height": null,
            "min_height": null,
            "padding": null,
            "grid_auto_rows": null,
            "grid_gap": null,
            "max_width": null,
            "order": null,
            "_view_module_version": "1.2.0",
            "grid_template_areas": null,
            "object_position": null,
            "object_fit": null,
            "grid_auto_columns": null,
            "margin": null,
            "display": null,
            "left": null
          }
        },
        "391a46b0091d4950b5623aef721044ca": {
          "model_module": "@jupyter-widgets/controls",
          "model_name": "HTMLModel",
          "model_module_version": "1.5.0",
          "state": {
            "_view_name": "HTMLView",
            "style": "IPY_MODEL_180607f0cd574460913145676b739cd2",
            "_dom_classes": [],
            "description": "",
            "_model_name": "HTMLModel",
            "placeholder": "​",
            "_view_module": "@jupyter-widgets/controls",
            "_model_module_version": "1.5.0",
            "value": "100%",
            "_view_count": null,
            "_view_module_version": "1.5.0",
            "description_tooltip": null,
            "_model_module": "@jupyter-widgets/controls",
            "layout": "IPY_MODEL_ddaa479abb2143d19a8818cf41cf61be"
          }
        },
        "363b2f18365f41e294fee3f869398668": {
          "model_module": "@jupyter-widgets/controls",
          "model_name": "FloatProgressModel",
          "model_module_version": "1.5.0",
          "state": {
            "_view_name": "ProgressView",
            "style": "IPY_MODEL_36c3caaf3b9a4a8a948f2129c6448799",
            "_dom_classes": [],
            "description": "",
            "_model_name": "FloatProgressModel",
            "bar_style": "success",
            "max": 7809,
            "_view_module": "@jupyter-widgets/controls",
            "_model_module_version": "1.5.0",
            "value": 7809,
            "_view_count": null,
            "_view_module_version": "1.5.0",
            "orientation": "horizontal",
            "min": 0,
            "description_tooltip": null,
            "_model_module": "@jupyter-widgets/controls",
            "layout": "IPY_MODEL_c053c2b64b0e43bc91ba1c3044ace775"
          }
        },
        "ff55a61570a6463eae3fbe9643c9dae3": {
          "model_module": "@jupyter-widgets/controls",
          "model_name": "HTMLModel",
          "model_module_version": "1.5.0",
          "state": {
            "_view_name": "HTMLView",
            "style": "IPY_MODEL_2290ef6131ab4931b73aa5249afdbe37",
            "_dom_classes": [],
            "description": "",
            "_model_name": "HTMLModel",
            "placeholder": "​",
            "_view_module": "@jupyter-widgets/controls",
            "_model_module_version": "1.5.0",
            "value": " 7809/7809 [00:09&lt;00:00, 662.81it/s]",
            "_view_count": null,
            "_view_module_version": "1.5.0",
            "description_tooltip": null,
            "_model_module": "@jupyter-widgets/controls",
            "layout": "IPY_MODEL_be8d01d2f2f44fe5a75cdad31f7f9223"
          }
        },
        "180607f0cd574460913145676b739cd2": {
          "model_module": "@jupyter-widgets/controls",
          "model_name": "DescriptionStyleModel",
          "model_module_version": "1.5.0",
          "state": {
            "_view_name": "StyleView",
            "_model_name": "DescriptionStyleModel",
            "description_width": "",
            "_view_module": "@jupyter-widgets/base",
            "_model_module_version": "1.5.0",
            "_view_count": null,
            "_view_module_version": "1.2.0",
            "_model_module": "@jupyter-widgets/controls"
          }
        },
        "ddaa479abb2143d19a8818cf41cf61be": {
          "model_module": "@jupyter-widgets/base",
          "model_name": "LayoutModel",
          "model_module_version": "1.2.0",
          "state": {
            "_view_name": "LayoutView",
            "grid_template_rows": null,
            "right": null,
            "justify_content": null,
            "_view_module": "@jupyter-widgets/base",
            "overflow": null,
            "_model_module_version": "1.2.0",
            "_view_count": null,
            "flex_flow": null,
            "width": null,
            "min_width": null,
            "border": null,
            "align_items": null,
            "bottom": null,
            "_model_module": "@jupyter-widgets/base",
            "top": null,
            "grid_column": null,
            "overflow_y": null,
            "overflow_x": null,
            "grid_auto_flow": null,
            "grid_area": null,
            "grid_template_columns": null,
            "flex": null,
            "_model_name": "LayoutModel",
            "justify_items": null,
            "grid_row": null,
            "max_height": null,
            "align_content": null,
            "visibility": null,
            "align_self": null,
            "height": null,
            "min_height": null,
            "padding": null,
            "grid_auto_rows": null,
            "grid_gap": null,
            "max_width": null,
            "order": null,
            "_view_module_version": "1.2.0",
            "grid_template_areas": null,
            "object_position": null,
            "object_fit": null,
            "grid_auto_columns": null,
            "margin": null,
            "display": null,
            "left": null
          }
        },
        "36c3caaf3b9a4a8a948f2129c6448799": {
          "model_module": "@jupyter-widgets/controls",
          "model_name": "ProgressStyleModel",
          "model_module_version": "1.5.0",
          "state": {
            "_view_name": "StyleView",
            "_model_name": "ProgressStyleModel",
            "description_width": "",
            "_view_module": "@jupyter-widgets/base",
            "_model_module_version": "1.5.0",
            "_view_count": null,
            "_view_module_version": "1.2.0",
            "bar_color": null,
            "_model_module": "@jupyter-widgets/controls"
          }
        },
        "c053c2b64b0e43bc91ba1c3044ace775": {
          "model_module": "@jupyter-widgets/base",
          "model_name": "LayoutModel",
          "model_module_version": "1.2.0",
          "state": {
            "_view_name": "LayoutView",
            "grid_template_rows": null,
            "right": null,
            "justify_content": null,
            "_view_module": "@jupyter-widgets/base",
            "overflow": null,
            "_model_module_version": "1.2.0",
            "_view_count": null,
            "flex_flow": null,
            "width": null,
            "min_width": null,
            "border": null,
            "align_items": null,
            "bottom": null,
            "_model_module": "@jupyter-widgets/base",
            "top": null,
            "grid_column": null,
            "overflow_y": null,
            "overflow_x": null,
            "grid_auto_flow": null,
            "grid_area": null,
            "grid_template_columns": null,
            "flex": null,
            "_model_name": "LayoutModel",
            "justify_items": null,
            "grid_row": null,
            "max_height": null,
            "align_content": null,
            "visibility": null,
            "align_self": null,
            "height": null,
            "min_height": null,
            "padding": null,
            "grid_auto_rows": null,
            "grid_gap": null,
            "max_width": null,
            "order": null,
            "_view_module_version": "1.2.0",
            "grid_template_areas": null,
            "object_position": null,
            "object_fit": null,
            "grid_auto_columns": null,
            "margin": null,
            "display": null,
            "left": null
          }
        },
        "2290ef6131ab4931b73aa5249afdbe37": {
          "model_module": "@jupyter-widgets/controls",
          "model_name": "DescriptionStyleModel",
          "model_module_version": "1.5.0",
          "state": {
            "_view_name": "StyleView",
            "_model_name": "DescriptionStyleModel",
            "description_width": "",
            "_view_module": "@jupyter-widgets/base",
            "_model_module_version": "1.5.0",
            "_view_count": null,
            "_view_module_version": "1.2.0",
            "_model_module": "@jupyter-widgets/controls"
          }
        },
        "be8d01d2f2f44fe5a75cdad31f7f9223": {
          "model_module": "@jupyter-widgets/base",
          "model_name": "LayoutModel",
          "model_module_version": "1.2.0",
          "state": {
            "_view_name": "LayoutView",
            "grid_template_rows": null,
            "right": null,
            "justify_content": null,
            "_view_module": "@jupyter-widgets/base",
            "overflow": null,
            "_model_module_version": "1.2.0",
            "_view_count": null,
            "flex_flow": null,
            "width": null,
            "min_width": null,
            "border": null,
            "align_items": null,
            "bottom": null,
            "_model_module": "@jupyter-widgets/base",
            "top": null,
            "grid_column": null,
            "overflow_y": null,
            "overflow_x": null,
            "grid_auto_flow": null,
            "grid_area": null,
            "grid_template_columns": null,
            "flex": null,
            "_model_name": "LayoutModel",
            "justify_items": null,
            "grid_row": null,
            "max_height": null,
            "align_content": null,
            "visibility": null,
            "align_self": null,
            "height": null,
            "min_height": null,
            "padding": null,
            "grid_auto_rows": null,
            "grid_gap": null,
            "max_width": null,
            "order": null,
            "_view_module_version": "1.2.0",
            "grid_template_areas": null,
            "object_position": null,
            "object_fit": null,
            "grid_auto_columns": null,
            "margin": null,
            "display": null,
            "left": null
          }
        },
        "6f641a0508c74f2cbd8f88afd60e737f": {
          "model_module": "@jupyter-widgets/controls",
          "model_name": "HBoxModel",
          "model_module_version": "1.5.0",
          "state": {
            "_view_name": "HBoxView",
            "_dom_classes": [],
            "_model_name": "HBoxModel",
            "_view_module": "@jupyter-widgets/controls",
            "_model_module_version": "1.5.0",
            "_view_count": null,
            "_view_module_version": "1.5.0",
            "box_style": "",
            "layout": "IPY_MODEL_c3a466dee4274470af8e53fd7fd1bcf3",
            "_model_module": "@jupyter-widgets/controls",
            "children": [
              "IPY_MODEL_45fe92b9bf1c436cbf38935c0cb24f65",
              "IPY_MODEL_3bb2c04f62a249208b129266e1961a28",
              "IPY_MODEL_3546329d91ef41e5b2e5838c2aecce8d"
            ]
          }
        },
        "c3a466dee4274470af8e53fd7fd1bcf3": {
          "model_module": "@jupyter-widgets/base",
          "model_name": "LayoutModel",
          "model_module_version": "1.2.0",
          "state": {
            "_view_name": "LayoutView",
            "grid_template_rows": null,
            "right": null,
            "justify_content": null,
            "_view_module": "@jupyter-widgets/base",
            "overflow": null,
            "_model_module_version": "1.2.0",
            "_view_count": null,
            "flex_flow": null,
            "width": null,
            "min_width": null,
            "border": null,
            "align_items": null,
            "bottom": null,
            "_model_module": "@jupyter-widgets/base",
            "top": null,
            "grid_column": null,
            "overflow_y": null,
            "overflow_x": null,
            "grid_auto_flow": null,
            "grid_area": null,
            "grid_template_columns": null,
            "flex": null,
            "_model_name": "LayoutModel",
            "justify_items": null,
            "grid_row": null,
            "max_height": null,
            "align_content": null,
            "visibility": null,
            "align_self": null,
            "height": null,
            "min_height": null,
            "padding": null,
            "grid_auto_rows": null,
            "grid_gap": null,
            "max_width": null,
            "order": null,
            "_view_module_version": "1.2.0",
            "grid_template_areas": null,
            "object_position": null,
            "object_fit": null,
            "grid_auto_columns": null,
            "margin": null,
            "display": null,
            "left": null
          }
        },
        "45fe92b9bf1c436cbf38935c0cb24f65": {
          "model_module": "@jupyter-widgets/controls",
          "model_name": "HTMLModel",
          "model_module_version": "1.5.0",
          "state": {
            "_view_name": "HTMLView",
            "style": "IPY_MODEL_240a4bde04474f24ba202febf5238b9b",
            "_dom_classes": [],
            "description": "",
            "_model_name": "HTMLModel",
            "placeholder": "​",
            "_view_module": "@jupyter-widgets/controls",
            "_model_module_version": "1.5.0",
            "value": "100%",
            "_view_count": null,
            "_view_module_version": "1.5.0",
            "description_tooltip": null,
            "_model_module": "@jupyter-widgets/controls",
            "layout": "IPY_MODEL_3c2ffe38dda747e4ab01ad845904342f"
          }
        },
        "3bb2c04f62a249208b129266e1961a28": {
          "model_module": "@jupyter-widgets/controls",
          "model_name": "FloatProgressModel",
          "model_module_version": "1.5.0",
          "state": {
            "_view_name": "ProgressView",
            "style": "IPY_MODEL_9fe4487893014075a70b8c310bb87e06",
            "_dom_classes": [],
            "description": "",
            "_model_name": "FloatProgressModel",
            "bar_style": "success",
            "max": 7809,
            "_view_module": "@jupyter-widgets/controls",
            "_model_module_version": "1.5.0",
            "value": 7809,
            "_view_count": null,
            "_view_module_version": "1.5.0",
            "orientation": "horizontal",
            "min": 0,
            "description_tooltip": null,
            "_model_module": "@jupyter-widgets/controls",
            "layout": "IPY_MODEL_1bbe5b4517b547e8b0d08cc1602050fc"
          }
        },
        "3546329d91ef41e5b2e5838c2aecce8d": {
          "model_module": "@jupyter-widgets/controls",
          "model_name": "HTMLModel",
          "model_module_version": "1.5.0",
          "state": {
            "_view_name": "HTMLView",
            "style": "IPY_MODEL_3d84ecd8cf704e11a79ea112921187e1",
            "_dom_classes": [],
            "description": "",
            "_model_name": "HTMLModel",
            "placeholder": "​",
            "_view_module": "@jupyter-widgets/controls",
            "_model_module_version": "1.5.0",
            "value": " 7809/7809 [00:09&lt;00:00, 626.84it/s]",
            "_view_count": null,
            "_view_module_version": "1.5.0",
            "description_tooltip": null,
            "_model_module": "@jupyter-widgets/controls",
            "layout": "IPY_MODEL_85ba2122792b4e4baa5ff6043a9ba161"
          }
        },
        "240a4bde04474f24ba202febf5238b9b": {
          "model_module": "@jupyter-widgets/controls",
          "model_name": "DescriptionStyleModel",
          "model_module_version": "1.5.0",
          "state": {
            "_view_name": "StyleView",
            "_model_name": "DescriptionStyleModel",
            "description_width": "",
            "_view_module": "@jupyter-widgets/base",
            "_model_module_version": "1.5.0",
            "_view_count": null,
            "_view_module_version": "1.2.0",
            "_model_module": "@jupyter-widgets/controls"
          }
        },
        "3c2ffe38dda747e4ab01ad845904342f": {
          "model_module": "@jupyter-widgets/base",
          "model_name": "LayoutModel",
          "model_module_version": "1.2.0",
          "state": {
            "_view_name": "LayoutView",
            "grid_template_rows": null,
            "right": null,
            "justify_content": null,
            "_view_module": "@jupyter-widgets/base",
            "overflow": null,
            "_model_module_version": "1.2.0",
            "_view_count": null,
            "flex_flow": null,
            "width": null,
            "min_width": null,
            "border": null,
            "align_items": null,
            "bottom": null,
            "_model_module": "@jupyter-widgets/base",
            "top": null,
            "grid_column": null,
            "overflow_y": null,
            "overflow_x": null,
            "grid_auto_flow": null,
            "grid_area": null,
            "grid_template_columns": null,
            "flex": null,
            "_model_name": "LayoutModel",
            "justify_items": null,
            "grid_row": null,
            "max_height": null,
            "align_content": null,
            "visibility": null,
            "align_self": null,
            "height": null,
            "min_height": null,
            "padding": null,
            "grid_auto_rows": null,
            "grid_gap": null,
            "max_width": null,
            "order": null,
            "_view_module_version": "1.2.0",
            "grid_template_areas": null,
            "object_position": null,
            "object_fit": null,
            "grid_auto_columns": null,
            "margin": null,
            "display": null,
            "left": null
          }
        },
        "9fe4487893014075a70b8c310bb87e06": {
          "model_module": "@jupyter-widgets/controls",
          "model_name": "ProgressStyleModel",
          "model_module_version": "1.5.0",
          "state": {
            "_view_name": "StyleView",
            "_model_name": "ProgressStyleModel",
            "description_width": "",
            "_view_module": "@jupyter-widgets/base",
            "_model_module_version": "1.5.0",
            "_view_count": null,
            "_view_module_version": "1.2.0",
            "bar_color": null,
            "_model_module": "@jupyter-widgets/controls"
          }
        },
        "1bbe5b4517b547e8b0d08cc1602050fc": {
          "model_module": "@jupyter-widgets/base",
          "model_name": "LayoutModel",
          "model_module_version": "1.2.0",
          "state": {
            "_view_name": "LayoutView",
            "grid_template_rows": null,
            "right": null,
            "justify_content": null,
            "_view_module": "@jupyter-widgets/base",
            "overflow": null,
            "_model_module_version": "1.2.0",
            "_view_count": null,
            "flex_flow": null,
            "width": null,
            "min_width": null,
            "border": null,
            "align_items": null,
            "bottom": null,
            "_model_module": "@jupyter-widgets/base",
            "top": null,
            "grid_column": null,
            "overflow_y": null,
            "overflow_x": null,
            "grid_auto_flow": null,
            "grid_area": null,
            "grid_template_columns": null,
            "flex": null,
            "_model_name": "LayoutModel",
            "justify_items": null,
            "grid_row": null,
            "max_height": null,
            "align_content": null,
            "visibility": null,
            "align_self": null,
            "height": null,
            "min_height": null,
            "padding": null,
            "grid_auto_rows": null,
            "grid_gap": null,
            "max_width": null,
            "order": null,
            "_view_module_version": "1.2.0",
            "grid_template_areas": null,
            "object_position": null,
            "object_fit": null,
            "grid_auto_columns": null,
            "margin": null,
            "display": null,
            "left": null
          }
        },
        "3d84ecd8cf704e11a79ea112921187e1": {
          "model_module": "@jupyter-widgets/controls",
          "model_name": "DescriptionStyleModel",
          "model_module_version": "1.5.0",
          "state": {
            "_view_name": "StyleView",
            "_model_name": "DescriptionStyleModel",
            "description_width": "",
            "_view_module": "@jupyter-widgets/base",
            "_model_module_version": "1.5.0",
            "_view_count": null,
            "_view_module_version": "1.2.0",
            "_model_module": "@jupyter-widgets/controls"
          }
        },
        "85ba2122792b4e4baa5ff6043a9ba161": {
          "model_module": "@jupyter-widgets/base",
          "model_name": "LayoutModel",
          "model_module_version": "1.2.0",
          "state": {
            "_view_name": "LayoutView",
            "grid_template_rows": null,
            "right": null,
            "justify_content": null,
            "_view_module": "@jupyter-widgets/base",
            "overflow": null,
            "_model_module_version": "1.2.0",
            "_view_count": null,
            "flex_flow": null,
            "width": null,
            "min_width": null,
            "border": null,
            "align_items": null,
            "bottom": null,
            "_model_module": "@jupyter-widgets/base",
            "top": null,
            "grid_column": null,
            "overflow_y": null,
            "overflow_x": null,
            "grid_auto_flow": null,
            "grid_area": null,
            "grid_template_columns": null,
            "flex": null,
            "_model_name": "LayoutModel",
            "justify_items": null,
            "grid_row": null,
            "max_height": null,
            "align_content": null,
            "visibility": null,
            "align_self": null,
            "height": null,
            "min_height": null,
            "padding": null,
            "grid_auto_rows": null,
            "grid_gap": null,
            "max_width": null,
            "order": null,
            "_view_module_version": "1.2.0",
            "grid_template_areas": null,
            "object_position": null,
            "object_fit": null,
            "grid_auto_columns": null,
            "margin": null,
            "display": null,
            "left": null
          }
        },
        "46cea8425d144124a0ca66c61c47c7d6": {
          "model_module": "@jupyter-widgets/controls",
          "model_name": "HBoxModel",
          "model_module_version": "1.5.0",
          "state": {
            "_view_name": "HBoxView",
            "_dom_classes": [],
            "_model_name": "HBoxModel",
            "_view_module": "@jupyter-widgets/controls",
            "_model_module_version": "1.5.0",
            "_view_count": null,
            "_view_module_version": "1.5.0",
            "box_style": "",
            "layout": "IPY_MODEL_dbcf900f83bd453d9c64d66a4da44901",
            "_model_module": "@jupyter-widgets/controls",
            "children": [
              "IPY_MODEL_39fae90f9e1b47baaea34cd64a4e24a7",
              "IPY_MODEL_29a474b704dd4bd09892dbd8f01b862e",
              "IPY_MODEL_c43f5656b5bc4aec9ce2f541f161c0ee"
            ]
          }
        },
        "dbcf900f83bd453d9c64d66a4da44901": {
          "model_module": "@jupyter-widgets/base",
          "model_name": "LayoutModel",
          "model_module_version": "1.2.0",
          "state": {
            "_view_name": "LayoutView",
            "grid_template_rows": null,
            "right": null,
            "justify_content": null,
            "_view_module": "@jupyter-widgets/base",
            "overflow": null,
            "_model_module_version": "1.2.0",
            "_view_count": null,
            "flex_flow": null,
            "width": null,
            "min_width": null,
            "border": null,
            "align_items": null,
            "bottom": null,
            "_model_module": "@jupyter-widgets/base",
            "top": null,
            "grid_column": null,
            "overflow_y": null,
            "overflow_x": null,
            "grid_auto_flow": null,
            "grid_area": null,
            "grid_template_columns": null,
            "flex": null,
            "_model_name": "LayoutModel",
            "justify_items": null,
            "grid_row": null,
            "max_height": null,
            "align_content": null,
            "visibility": null,
            "align_self": null,
            "height": null,
            "min_height": null,
            "padding": null,
            "grid_auto_rows": null,
            "grid_gap": null,
            "max_width": null,
            "order": null,
            "_view_module_version": "1.2.0",
            "grid_template_areas": null,
            "object_position": null,
            "object_fit": null,
            "grid_auto_columns": null,
            "margin": null,
            "display": null,
            "left": null
          }
        },
        "39fae90f9e1b47baaea34cd64a4e24a7": {
          "model_module": "@jupyter-widgets/controls",
          "model_name": "HTMLModel",
          "model_module_version": "1.5.0",
          "state": {
            "_view_name": "HTMLView",
            "style": "IPY_MODEL_1ce840308e77459cbbdc80c32acb9d50",
            "_dom_classes": [],
            "description": "",
            "_model_name": "HTMLModel",
            "placeholder": "​",
            "_view_module": "@jupyter-widgets/controls",
            "_model_module_version": "1.5.0",
            "value": "100%",
            "_view_count": null,
            "_view_module_version": "1.5.0",
            "description_tooltip": null,
            "_model_module": "@jupyter-widgets/controls",
            "layout": "IPY_MODEL_5dfdcf7359a747a99f95d05d799dea03"
          }
        },
        "29a474b704dd4bd09892dbd8f01b862e": {
          "model_module": "@jupyter-widgets/controls",
          "model_name": "FloatProgressModel",
          "model_module_version": "1.5.0",
          "state": {
            "_view_name": "ProgressView",
            "style": "IPY_MODEL_47ba93523a68472e94487dce96d7a8c2",
            "_dom_classes": [],
            "description": "",
            "_model_name": "FloatProgressModel",
            "bar_style": "success",
            "max": 7809,
            "_view_module": "@jupyter-widgets/controls",
            "_model_module_version": "1.5.0",
            "value": 7809,
            "_view_count": null,
            "_view_module_version": "1.5.0",
            "orientation": "horizontal",
            "min": 0,
            "description_tooltip": null,
            "_model_module": "@jupyter-widgets/controls",
            "layout": "IPY_MODEL_89998db031ef4e56a7622b8f4eb2f8e7"
          }
        },
        "c43f5656b5bc4aec9ce2f541f161c0ee": {
          "model_module": "@jupyter-widgets/controls",
          "model_name": "HTMLModel",
          "model_module_version": "1.5.0",
          "state": {
            "_view_name": "HTMLView",
            "style": "IPY_MODEL_5a45df438ec844d99cc5b829ac3b5f5d",
            "_dom_classes": [],
            "description": "",
            "_model_name": "HTMLModel",
            "placeholder": "​",
            "_view_module": "@jupyter-widgets/controls",
            "_model_module_version": "1.5.0",
            "value": " 7809/7809 [00:09&lt;00:00, 700.08it/s]",
            "_view_count": null,
            "_view_module_version": "1.5.0",
            "description_tooltip": null,
            "_model_module": "@jupyter-widgets/controls",
            "layout": "IPY_MODEL_e9df0104f317407996f9cfa19615624c"
          }
        },
        "1ce840308e77459cbbdc80c32acb9d50": {
          "model_module": "@jupyter-widgets/controls",
          "model_name": "DescriptionStyleModel",
          "model_module_version": "1.5.0",
          "state": {
            "_view_name": "StyleView",
            "_model_name": "DescriptionStyleModel",
            "description_width": "",
            "_view_module": "@jupyter-widgets/base",
            "_model_module_version": "1.5.0",
            "_view_count": null,
            "_view_module_version": "1.2.0",
            "_model_module": "@jupyter-widgets/controls"
          }
        },
        "5dfdcf7359a747a99f95d05d799dea03": {
          "model_module": "@jupyter-widgets/base",
          "model_name": "LayoutModel",
          "model_module_version": "1.2.0",
          "state": {
            "_view_name": "LayoutView",
            "grid_template_rows": null,
            "right": null,
            "justify_content": null,
            "_view_module": "@jupyter-widgets/base",
            "overflow": null,
            "_model_module_version": "1.2.0",
            "_view_count": null,
            "flex_flow": null,
            "width": null,
            "min_width": null,
            "border": null,
            "align_items": null,
            "bottom": null,
            "_model_module": "@jupyter-widgets/base",
            "top": null,
            "grid_column": null,
            "overflow_y": null,
            "overflow_x": null,
            "grid_auto_flow": null,
            "grid_area": null,
            "grid_template_columns": null,
            "flex": null,
            "_model_name": "LayoutModel",
            "justify_items": null,
            "grid_row": null,
            "max_height": null,
            "align_content": null,
            "visibility": null,
            "align_self": null,
            "height": null,
            "min_height": null,
            "padding": null,
            "grid_auto_rows": null,
            "grid_gap": null,
            "max_width": null,
            "order": null,
            "_view_module_version": "1.2.0",
            "grid_template_areas": null,
            "object_position": null,
            "object_fit": null,
            "grid_auto_columns": null,
            "margin": null,
            "display": null,
            "left": null
          }
        },
        "47ba93523a68472e94487dce96d7a8c2": {
          "model_module": "@jupyter-widgets/controls",
          "model_name": "ProgressStyleModel",
          "model_module_version": "1.5.0",
          "state": {
            "_view_name": "StyleView",
            "_model_name": "ProgressStyleModel",
            "description_width": "",
            "_view_module": "@jupyter-widgets/base",
            "_model_module_version": "1.5.0",
            "_view_count": null,
            "_view_module_version": "1.2.0",
            "bar_color": null,
            "_model_module": "@jupyter-widgets/controls"
          }
        },
        "89998db031ef4e56a7622b8f4eb2f8e7": {
          "model_module": "@jupyter-widgets/base",
          "model_name": "LayoutModel",
          "model_module_version": "1.2.0",
          "state": {
            "_view_name": "LayoutView",
            "grid_template_rows": null,
            "right": null,
            "justify_content": null,
            "_view_module": "@jupyter-widgets/base",
            "overflow": null,
            "_model_module_version": "1.2.0",
            "_view_count": null,
            "flex_flow": null,
            "width": null,
            "min_width": null,
            "border": null,
            "align_items": null,
            "bottom": null,
            "_model_module": "@jupyter-widgets/base",
            "top": null,
            "grid_column": null,
            "overflow_y": null,
            "overflow_x": null,
            "grid_auto_flow": null,
            "grid_area": null,
            "grid_template_columns": null,
            "flex": null,
            "_model_name": "LayoutModel",
            "justify_items": null,
            "grid_row": null,
            "max_height": null,
            "align_content": null,
            "visibility": null,
            "align_self": null,
            "height": null,
            "min_height": null,
            "padding": null,
            "grid_auto_rows": null,
            "grid_gap": null,
            "max_width": null,
            "order": null,
            "_view_module_version": "1.2.0",
            "grid_template_areas": null,
            "object_position": null,
            "object_fit": null,
            "grid_auto_columns": null,
            "margin": null,
            "display": null,
            "left": null
          }
        },
        "5a45df438ec844d99cc5b829ac3b5f5d": {
          "model_module": "@jupyter-widgets/controls",
          "model_name": "DescriptionStyleModel",
          "model_module_version": "1.5.0",
          "state": {
            "_view_name": "StyleView",
            "_model_name": "DescriptionStyleModel",
            "description_width": "",
            "_view_module": "@jupyter-widgets/base",
            "_model_module_version": "1.5.0",
            "_view_count": null,
            "_view_module_version": "1.2.0",
            "_model_module": "@jupyter-widgets/controls"
          }
        },
        "e9df0104f317407996f9cfa19615624c": {
          "model_module": "@jupyter-widgets/base",
          "model_name": "LayoutModel",
          "model_module_version": "1.2.0",
          "state": {
            "_view_name": "LayoutView",
            "grid_template_rows": null,
            "right": null,
            "justify_content": null,
            "_view_module": "@jupyter-widgets/base",
            "overflow": null,
            "_model_module_version": "1.2.0",
            "_view_count": null,
            "flex_flow": null,
            "width": null,
            "min_width": null,
            "border": null,
            "align_items": null,
            "bottom": null,
            "_model_module": "@jupyter-widgets/base",
            "top": null,
            "grid_column": null,
            "overflow_y": null,
            "overflow_x": null,
            "grid_auto_flow": null,
            "grid_area": null,
            "grid_template_columns": null,
            "flex": null,
            "_model_name": "LayoutModel",
            "justify_items": null,
            "grid_row": null,
            "max_height": null,
            "align_content": null,
            "visibility": null,
            "align_self": null,
            "height": null,
            "min_height": null,
            "padding": null,
            "grid_auto_rows": null,
            "grid_gap": null,
            "max_width": null,
            "order": null,
            "_view_module_version": "1.2.0",
            "grid_template_areas": null,
            "object_position": null,
            "object_fit": null,
            "grid_auto_columns": null,
            "margin": null,
            "display": null,
            "left": null
          }
        }
      }
    }
  },
  "cells": [
    {
      "cell_type": "code",
      "metadata": {
        "id": "W5jpuslMM_9T"
      },
      "source": [
        "import pandas as pd\n",
        "\n",
        "# Cojo la bbdd con el topic modelling y las var obj sentiment\n",
        "dataset = pd.read_csv(\"full-data.csv\")"
      ],
      "execution_count": 532,
      "outputs": []
    },
    {
      "cell_type": "code",
      "metadata": {
        "colab": {
          "base_uri": "https://localhost:8080/",
          "height": 411
        },
        "id": "5_nNkF_fdiX3",
        "outputId": "511b49d2-5c6e-4ec4-fca2-772ced6955cf"
      },
      "source": [
        "# Mostramos el dataset\n",
        "dataset.head()"
      ],
      "execution_count": 533,
      "outputs": [
        {
          "output_type": "execute_result",
          "data": {
            "text/html": [
              "<div>\n",
              "<style scoped>\n",
              "    .dataframe tbody tr th:only-of-type {\n",
              "        vertical-align: middle;\n",
              "    }\n",
              "\n",
              "    .dataframe tbody tr th {\n",
              "        vertical-align: top;\n",
              "    }\n",
              "\n",
              "    .dataframe thead th {\n",
              "        text-align: right;\n",
              "    }\n",
              "</style>\n",
              "<table border=\"1\" class=\"dataframe\">\n",
              "  <thead>\n",
              "    <tr style=\"text-align: right;\">\n",
              "      <th></th>\n",
              "      <th>Unnamed: 0</th>\n",
              "      <th>text</th>\n",
              "      <th>created_at</th>\n",
              "      <th>created_at_time</th>\n",
              "      <th>created_at_hour</th>\n",
              "      <th>retweeted</th>\n",
              "      <th>retweet_count</th>\n",
              "      <th>favorite_count</th>\n",
              "      <th>user_ verified</th>\n",
              "      <th>user_id</th>\n",
              "      <th>user_name</th>\n",
              "      <th>user_location</th>\n",
              "      <th>user_notificacion</th>\n",
              "      <th>user_followers</th>\n",
              "      <th>user_friends</th>\n",
              "      <th>user_withheld_in_countries</th>\n",
              "      <th>mentions_in_tweet</th>\n",
              "      <th>is_reply</th>\n",
              "      <th>source_device</th>\n",
              "      <th>finished_tweet</th>\n",
              "      <th>status_count</th>\n",
              "      <th>hashtags_text</th>\n",
              "      <th>hastags_indices</th>\n",
              "      <th>hastags_in_tweet</th>\n",
              "      <th>possitivity_textblob</th>\n",
              "      <th>possitivity_vader</th>\n",
              "      <th>possitivity_ibm</th>\n",
              "      <th>sentiment_mean</th>\n",
              "      <th>sentiment_norm</th>\n",
              "      <th>sentiment</th>\n",
              "      <th>categories</th>\n",
              "      <th>topic_1</th>\n",
              "      <th>topic_2</th>\n",
              "      <th>topic_3</th>\n",
              "    </tr>\n",
              "  </thead>\n",
              "  <tbody>\n",
              "    <tr>\n",
              "      <th>0</th>\n",
              "      <td>0</td>\n",
              "      <td>@Uber_Support hi guys why all my trips this we...</td>\n",
              "      <td>Wed Aug 11</td>\n",
              "      <td>09:43:42</td>\n",
              "      <td>9</td>\n",
              "      <td>Si</td>\n",
              "      <td>1</td>\n",
              "      <td>0</td>\n",
              "      <td>NaN</td>\n",
              "      <td>1137383922843771008</td>\n",
              "      <td>ShieldVoC</td>\n",
              "      <td>Stockholm, Sweden</td>\n",
              "      <td>False</td>\n",
              "      <td>20504</td>\n",
              "      <td>98</td>\n",
              "      <td>[]</td>\n",
              "      <td>2</td>\n",
              "      <td>No</td>\n",
              "      <td>test-shield-bot</td>\n",
              "      <td>False</td>\n",
              "      <td>695888</td>\n",
              "      <td>[]</td>\n",
              "      <td>[]</td>\n",
              "      <td>0</td>\n",
              "      <td>0.000000</td>\n",
              "      <td>0.0000</td>\n",
              "      <td>-0.912398</td>\n",
              "      <td>-0.304133</td>\n",
              "      <td>0.347934</td>\n",
              "      <td>Negativo</td>\n",
              "      <td>[{'score': 0.693098, 'label': '/travel/special...</td>\n",
              "      <td>travel</td>\n",
              "      <td>specialty travel</td>\n",
              "      <td>adventure travel</td>\n",
              "    </tr>\n",
              "    <tr>\n",
              "      <th>1</th>\n",
              "      <td>1</td>\n",
              "      <td>So are we getting Uber eats league 1 or not @S...</td>\n",
              "      <td>Wed Aug 11</td>\n",
              "      <td>09:43:39</td>\n",
              "      <td>9</td>\n",
              "      <td>No</td>\n",
              "      <td>0</td>\n",
              "      <td>0</td>\n",
              "      <td>NaN</td>\n",
              "      <td>528288653</td>\n",
              "      <td>__Soini</td>\n",
              "      <td>Namibia, Okaanga village</td>\n",
              "      <td>False</td>\n",
              "      <td>2733</td>\n",
              "      <td>970</td>\n",
              "      <td>[]</td>\n",
              "      <td>1</td>\n",
              "      <td>No</td>\n",
              "      <td>Twitter Web App</td>\n",
              "      <td>False</td>\n",
              "      <td>58398</td>\n",
              "      <td>[]</td>\n",
              "      <td>[]</td>\n",
              "      <td>0</td>\n",
              "      <td>0.000000</td>\n",
              "      <td>0.0000</td>\n",
              "      <td>0.000000</td>\n",
              "      <td>0.000000</td>\n",
              "      <td>0.500000</td>\n",
              "      <td>Neutro</td>\n",
              "      <td>[{'score': 0.59693, 'label': '/sports/baseball...</td>\n",
              "      <td>sports</td>\n",
              "      <td>baseball</td>\n",
              "      <td>NaN</td>\n",
              "    </tr>\n",
              "    <tr>\n",
              "      <th>2</th>\n",
              "      <td>2</td>\n",
              "      <td>@footballdaily 2-3 years of Messi, a bit of ca...</td>\n",
              "      <td>Wed Aug 11</td>\n",
              "      <td>09:43:36</td>\n",
              "      <td>9</td>\n",
              "      <td>No</td>\n",
              "      <td>0</td>\n",
              "      <td>0</td>\n",
              "      <td>NaN</td>\n",
              "      <td>826917817</td>\n",
              "      <td>ASHJY97</td>\n",
              "      <td>Leeds, England</td>\n",
              "      <td>False</td>\n",
              "      <td>353</td>\n",
              "      <td>943</td>\n",
              "      <td>[]</td>\n",
              "      <td>1</td>\n",
              "      <td>footballdaily</td>\n",
              "      <td>Twitter for iPhone</td>\n",
              "      <td>False</td>\n",
              "      <td>5974</td>\n",
              "      <td>[]</td>\n",
              "      <td>[]</td>\n",
              "      <td>0</td>\n",
              "      <td>-0.333333</td>\n",
              "      <td>0.5859</td>\n",
              "      <td>-0.807459</td>\n",
              "      <td>-0.184964</td>\n",
              "      <td>0.407518</td>\n",
              "      <td>Neutro</td>\n",
              "      <td>[{'score': 0.785107, 'label': '/sports/soccer'}]</td>\n",
              "      <td>sports</td>\n",
              "      <td>soccer</td>\n",
              "      <td>NaN</td>\n",
              "    </tr>\n",
              "    <tr>\n",
              "      <th>3</th>\n",
              "      <td>3</td>\n",
              "      <td>@Prashan32439454 @Uber_Support @rameshjoshi80 ...</td>\n",
              "      <td>Wed Aug 11</td>\n",
              "      <td>09:43:36</td>\n",
              "      <td>9</td>\n",
              "      <td>No</td>\n",
              "      <td>0</td>\n",
              "      <td>0</td>\n",
              "      <td>NaN</td>\n",
              "      <td>1382729072837479936</td>\n",
              "      <td>GurmeetSinghSh6</td>\n",
              "      <td>NaN</td>\n",
              "      <td>False</td>\n",
              "      <td>6</td>\n",
              "      <td>1</td>\n",
              "      <td>[]</td>\n",
              "      <td>3</td>\n",
              "      <td>Prashan32439454</td>\n",
              "      <td>Twitter for Android</td>\n",
              "      <td>False</td>\n",
              "      <td>169</td>\n",
              "      <td>[]</td>\n",
              "      <td>[]</td>\n",
              "      <td>0</td>\n",
              "      <td>0.455000</td>\n",
              "      <td>0.4754</td>\n",
              "      <td>0.863584</td>\n",
              "      <td>0.597995</td>\n",
              "      <td>0.798997</td>\n",
              "      <td>Positivo</td>\n",
              "      <td>[{'score': 0.685688, 'label': '/science/mathem...</td>\n",
              "      <td>science</td>\n",
              "      <td>mathematics</td>\n",
              "      <td>arithmetic</td>\n",
              "    </tr>\n",
              "    <tr>\n",
              "      <th>4</th>\n",
              "      <td>4</td>\n",
              "      <td>Uber's Gopuff partnership, Drizly deal being p...</td>\n",
              "      <td>Wed Aug 11</td>\n",
              "      <td>09:43:33</td>\n",
              "      <td>9</td>\n",
              "      <td>No</td>\n",
              "      <td>0</td>\n",
              "      <td>0</td>\n",
              "      <td>NaN</td>\n",
              "      <td>3646985662</td>\n",
              "      <td>sbwcws</td>\n",
              "      <td>NaN</td>\n",
              "      <td>False</td>\n",
              "      <td>5562</td>\n",
              "      <td>3</td>\n",
              "      <td>[]</td>\n",
              "      <td>0</td>\n",
              "      <td>No</td>\n",
              "      <td>News Bot Algo</td>\n",
              "      <td>False</td>\n",
              "      <td>113083</td>\n",
              "      <td>[]</td>\n",
              "      <td>[]</td>\n",
              "      <td>0</td>\n",
              "      <td>0.000000</td>\n",
              "      <td>0.0000</td>\n",
              "      <td>-0.788377</td>\n",
              "      <td>-0.262792</td>\n",
              "      <td>0.368604</td>\n",
              "      <td>Negativo</td>\n",
              "      <td>[{'score': 0.778195, 'label': '/news'}, {'scor...</td>\n",
              "      <td>news</td>\n",
              "      <td>NaN</td>\n",
              "      <td>NaN</td>\n",
              "    </tr>\n",
              "  </tbody>\n",
              "</table>\n",
              "</div>"
            ],
            "text/plain": [
              "   Unnamed: 0  ...           topic_3\n",
              "0           0  ...  adventure travel\n",
              "1           1  ...               NaN\n",
              "2           2  ...               NaN\n",
              "3           3  ...        arithmetic\n",
              "4           4  ...               NaN\n",
              "\n",
              "[5 rows x 34 columns]"
            ]
          },
          "metadata": {},
          "execution_count": 533
        }
      ]
    },
    {
      "cell_type": "code",
      "metadata": {
        "colab": {
          "base_uri": "https://localhost:8080/"
        },
        "id": "Qrrx47_PTKUx",
        "outputId": "b366347d-f765-4a09-bc5a-2b1e5ee8d9ad"
      },
      "source": [
        "# Mostramos el total de reviews que se consideran con valoración positiva \n",
        "dataset.sentiment.value_counts()"
      ],
      "execution_count": 534,
      "outputs": [
        {
          "output_type": "execute_result",
          "data": {
            "text/plain": [
              "Neutro          3018\n",
              "Negativo        2458\n",
              "Positivo        1433\n",
              "Muy Negativo     505\n",
              "Muy Positivo     395\n",
              "Name: sentiment, dtype: int64"
            ]
          },
          "metadata": {},
          "execution_count": 534
        }
      ]
    },
    {
      "cell_type": "code",
      "metadata": {
        "colab": {
          "base_uri": "https://localhost:8080/",
          "height": 337
        },
        "id": "HRt25fHQxwOP",
        "outputId": "855bf2b3-3765-4075-a24e-f31d5ecad125"
      },
      "source": [
        "# De forma gráfica\n",
        "\n",
        "import seaborn as sns\n",
        "import matplotlib.pyplot as plt\n",
        "\n",
        "sns.countplot(x = dataset.sentiment, data = dataset)\n",
        "plt.show()"
      ],
      "execution_count": 535,
      "outputs": [
        {
          "output_type": "display_data",
          "data": {
            "image/png": "[encoded data removed]",
            "text/plain": [
              "<Figure size 720x360 with 1 Axes>"
            ]
          },
          "metadata": {}
        }
      ]
    },
    {
      "cell_type": "code",
      "metadata": {
        "colab": {
          "base_uri": "https://localhost:8080/"
        },
        "id": "QCUU-SIZTnG6",
        "outputId": "90fe3d03-927e-4d0b-cd9f-1930977aebe6"
      },
      "source": [
        "import numpy as np\n",
        "\n",
        "# Contamos el número de valores nulos o NA\n",
        "np.sum(dataset.isnull())"
      ],
      "execution_count": 536,
      "outputs": [
        {
          "output_type": "execute_result",
          "data": {
            "text/plain": [
              "Unnamed: 0                       0\n",
              "text                             0\n",
              "created_at                       0\n",
              "created_at_time                  0\n",
              "created_at_hour                  0\n",
              "retweeted                        0\n",
              "retweet_count                    0\n",
              "favorite_count                   0\n",
              "user_ verified                7809\n",
              "user_id                          0\n",
              "user_name                        0\n",
              "user_location                 2686\n",
              "user_notificacion                0\n",
              "user_followers                   0\n",
              "user_friends                     0\n",
              "user_withheld_in_countries       0\n",
              "mentions_in_tweet                0\n",
              "is_reply                         0\n",
              "source_device                    0\n",
              "finished_tweet                   0\n",
              "status_count                     0\n",
              "hashtags_text                    0\n",
              "hastags_indices                  0\n",
              "hastags_in_tweet                 0\n",
              "possitivity_textblob             0\n",
              "possitivity_vader                0\n",
              "possitivity_ibm                  0\n",
              "sentiment_mean                   0\n",
              "sentiment_norm                   0\n",
              "sentiment                        0\n",
              "categories                       0\n",
              "topic_1                          0\n",
              "topic_2                        831\n",
              "topic_3                       4465\n",
              "dtype: int64"
            ]
          },
          "metadata": {},
          "execution_count": 536
        }
      ]
    },
    {
      "cell_type": "code",
      "metadata": {
        "colab": {
          "base_uri": "https://localhost:8080/"
        },
        "id": "yvEpLugPrRpg",
        "outputId": "29c09519-79e1-4b9b-8f4c-edc7f8bc63dc"
      },
      "source": [
        "# Cambio los nan de location por 'Vacio'\n",
        "dataset['user_location'] = dataset['user_location'].replace(np.nan,'Vacio')\n",
        "np.sum(dataset.isnull())"
      ],
      "execution_count": 537,
      "outputs": [
        {
          "output_type": "execute_result",
          "data": {
            "text/plain": [
              "Unnamed: 0                       0\n",
              "text                             0\n",
              "created_at                       0\n",
              "created_at_time                  0\n",
              "created_at_hour                  0\n",
              "retweeted                        0\n",
              "retweet_count                    0\n",
              "favorite_count                   0\n",
              "user_ verified                7809\n",
              "user_id                          0\n",
              "user_name                        0\n",
              "user_location                    0\n",
              "user_notificacion                0\n",
              "user_followers                   0\n",
              "user_friends                     0\n",
              "user_withheld_in_countries       0\n",
              "mentions_in_tweet                0\n",
              "is_reply                         0\n",
              "source_device                    0\n",
              "finished_tweet                   0\n",
              "status_count                     0\n",
              "hashtags_text                    0\n",
              "hastags_indices                  0\n",
              "hastags_in_tweet                 0\n",
              "possitivity_textblob             0\n",
              "possitivity_vader                0\n",
              "possitivity_ibm                  0\n",
              "sentiment_mean                   0\n",
              "sentiment_norm                   0\n",
              "sentiment                        0\n",
              "categories                       0\n",
              "topic_1                          0\n",
              "topic_2                        831\n",
              "topic_3                       4465\n",
              "dtype: int64"
            ]
          },
          "metadata": {},
          "execution_count": 537
        }
      ]
    },
    {
      "cell_type": "code",
      "metadata": {
        "id": "NtfStlvRl_xz"
      },
      "source": [
        "# Contamos las veces que aparece cada location\n",
        "\n",
        "locations = dataset.user_location.drop_duplicates()\n",
        "freq = [0]*len(locations)\n",
        "\n",
        "for location in dataset.user_location:\n",
        "\n",
        "  ind = np.where(locations == str(location))\n",
        "  indice = ind[0][0]\n",
        "\n",
        "  freq[indice] = freq[indice] + 1\n"
      ],
      "execution_count": 538,
      "outputs": []
    },
    {
      "cell_type": "code",
      "metadata": {
        "colab": {
          "base_uri": "https://localhost:8080/",
          "height": 419
        },
        "id": "44tuWii9qmDu",
        "outputId": "b26e0239-b133-4946-f9aa-83aad2238b05"
      },
      "source": [
        "frecuencias = pd.DataFrame({'locations':locations, 'freq':freq})\n",
        "frecuencias"
      ],
      "execution_count": 539,
      "outputs": [
        {
          "output_type": "execute_result",
          "data": {
            "text/html": [
              "<div>\n",
              "<style scoped>\n",
              "    .dataframe tbody tr th:only-of-type {\n",
              "        vertical-align: middle;\n",
              "    }\n",
              "\n",
              "    .dataframe tbody tr th {\n",
              "        vertical-align: top;\n",
              "    }\n",
              "\n",
              "    .dataframe thead th {\n",
              "        text-align: right;\n",
              "    }\n",
              "</style>\n",
              "<table border=\"1\" class=\"dataframe\">\n",
              "  <thead>\n",
              "    <tr style=\"text-align: right;\">\n",
              "      <th></th>\n",
              "      <th>locations</th>\n",
              "      <th>freq</th>\n",
              "    </tr>\n",
              "  </thead>\n",
              "  <tbody>\n",
              "    <tr>\n",
              "      <th>0</th>\n",
              "      <td>Stockholm, Sweden</td>\n",
              "      <td>225</td>\n",
              "    </tr>\n",
              "    <tr>\n",
              "      <th>1</th>\n",
              "      <td>Namibia, Okaanga village</td>\n",
              "      <td>1</td>\n",
              "    </tr>\n",
              "    <tr>\n",
              "      <th>2</th>\n",
              "      <td>Leeds, England</td>\n",
              "      <td>3</td>\n",
              "    </tr>\n",
              "    <tr>\n",
              "      <th>3</th>\n",
              "      <td>Vacio</td>\n",
              "      <td>2686</td>\n",
              "    </tr>\n",
              "    <tr>\n",
              "      <th>7</th>\n",
              "      <td>Bengaluru, India</td>\n",
              "      <td>9</td>\n",
              "    </tr>\n",
              "    <tr>\n",
              "      <th>...</th>\n",
              "      <td>...</td>\n",
              "      <td>...</td>\n",
              "    </tr>\n",
              "    <tr>\n",
              "      <th>7794</th>\n",
              "      <td>New York/Delaware</td>\n",
              "      <td>1</td>\n",
              "    </tr>\n",
              "    <tr>\n",
              "      <th>7797</th>\n",
              "      <td>Melbourne</td>\n",
              "      <td>1</td>\n",
              "    </tr>\n",
              "    <tr>\n",
              "      <th>7798</th>\n",
              "      <td>@liltunechi's heart</td>\n",
              "      <td>1</td>\n",
              "    </tr>\n",
              "    <tr>\n",
              "      <th>7799</th>\n",
              "      <td>crawley</td>\n",
              "      <td>1</td>\n",
              "    </tr>\n",
              "    <tr>\n",
              "      <th>7801</th>\n",
              "      <td>We$tside HARLEM, NYC x Cali</td>\n",
              "      <td>1</td>\n",
              "    </tr>\n",
              "  </tbody>\n",
              "</table>\n",
              "<p>2691 rows × 2 columns</p>\n",
              "</div>"
            ],
            "text/plain": [
              "                        locations  freq\n",
              "0               Stockholm, Sweden   225\n",
              "1       Namibia, Okaanga village      1\n",
              "2                  Leeds, England     3\n",
              "3                           Vacio  2686\n",
              "7                Bengaluru, India     9\n",
              "...                           ...   ...\n",
              "7794            New York/Delaware     1\n",
              "7797                    Melbourne     1\n",
              "7798          @liltunechi's heart     1\n",
              "7799                      crawley     1\n",
              "7801  We$tside HARLEM, NYC x Cali     1\n",
              "\n",
              "[2691 rows x 2 columns]"
            ]
          },
          "metadata": {},
          "execution_count": 539
        }
      ]
    },
    {
      "cell_type": "code",
      "metadata": {
        "id": "O6spIvPRtLUM"
      },
      "source": [
        "lista = frecuencias['locations'].loc[frecuencias['freq']>4]"
      ],
      "execution_count": 540,
      "outputs": []
    },
    {
      "cell_type": "code",
      "metadata": {
        "id": "TV_0UyuQth5-"
      },
      "source": [
        "lista = list(lista)"
      ],
      "execution_count": 541,
      "outputs": []
    },
    {
      "cell_type": "code",
      "metadata": {
        "colab": {
          "base_uri": "https://localhost:8080/"
        },
        "id": "QEm6T0Gkt5MO",
        "outputId": "99ecb338-06d0-448d-836c-7debc8ae5990"
      },
      "source": [
        "# Creamos la categoría otros\n",
        "condicion = dataset['user_location'].isin(lista)\n",
        "dataset['user_location'] = dataset['user_location'].where(condicion,'Otros')\n",
        "\n",
        "dataset['user_location'].value_counts()"
      ],
      "execution_count": 542,
      "outputs": [
        {
          "output_type": "execute_result",
          "data": {
            "text/plain": [
              "Otros                     3102\n",
              "Vacio                     2686\n",
              "Stockholm, Sweden          225\n",
              "London, England            121\n",
              "United States               77\n",
              "                          ... \n",
              "Liverpool, England           5\n",
              "Dallas texas                 5\n",
              "Lagos                        5\n",
              "Indonesia                    5\n",
              "West Midlands, England       5\n",
              "Name: user_location, Length: 133, dtype: int64"
            ]
          },
          "metadata": {},
          "execution_count": 542
        }
      ]
    },
    {
      "cell_type": "markdown",
      "metadata": {
        "id": "waz4VOWsxxGT"
      },
      "source": [
        "### TOKENIZACIÓN Y LIMPIEZA DE TOKEN"
      ]
    },
    {
      "cell_type": "code",
      "metadata": {
        "colab": {
          "base_uri": "https://localhost:8080/"
        },
        "id": "D4DA1cn5xyab",
        "outputId": "46492d4e-ebdd-44cc-becb-2a1d297f5054"
      },
      "source": [
        "# Importamos pandas y numpy \n",
        "import pandas as pd\n",
        "import numpy as np\n",
        "from tqdm.autonotebook import tqdm\n",
        "tqdm.pandas()\n",
        "import string\n",
        "import seaborn as sns\n",
        "import matplotlib.pyplot as plt\n",
        "import sys \n",
        "!{sys.executable} -m pip install contractions\n",
        "import contractions  \n",
        "# Instalamos nltk\n",
        "!pip install nltk\n",
        "import nltk\n",
        "nltk.download('punkt')\n",
        "nltk.download('wordnet')\n",
        "nltk.download('averaged_perceptron_tagger')\n",
        "nltk.download('tagsets')\n",
        "nltk.download('maxent_ne_chunker')\n",
        "nltk.download('words')\n",
        "nltk.download('stopwords')\n",
        "from nltk.corpus import stopwords\n",
        "from nltk import pos_tag\n",
        "from nltk.tokenize import word_tokenize\n",
        "# Instalamos spacy y su modelo pre-entrenado en inglés\n",
        "!pip install spacy\n",
        "!python -m spacy download en_core_web_sm\n",
        "import spacy\n",
        "import en_core_web_sm"
      ],
      "execution_count": 543,
      "outputs": [
        {
          "output_type": "stream",
          "text": [
            "Requirement already satisfied: contractions in /usr/local/lib/python3.7/dist-packages (0.0.52)\n",
            "Requirement already satisfied: textsearch>=0.0.21 in /usr/local/lib/python3.7/dist-packages (from contractions) (0.0.21)\n",
            "Requirement already satisfied: pyahocorasick in /usr/local/lib/python3.7/dist-packages (from textsearch>=0.0.21->contractions) (1.4.2)\n",
            "Requirement already satisfied: anyascii in /usr/local/lib/python3.7/dist-packages (from textsearch>=0.0.21->contractions) (0.2.0)\n",
            "Requirement already satisfied: nltk in /usr/local/lib/python3.7/dist-packages (3.2.5)\n",
            "Requirement already satisfied: six in /usr/local/lib/python3.7/dist-packages (from nltk) (1.15.0)\n",
            "[nltk_data] Downloading package punkt to /root/nltk_data...\n",
            "[nltk_data]   Package punkt is already up-to-date!\n",
            "[nltk_data] Downloading package wordnet to /root/nltk_data...\n",
            "[nltk_data]   Package wordnet is already up-to-date!\n",
            "[nltk_data] Downloading package averaged_perceptron_tagger to\n",
            "[nltk_data]     /root/nltk_data...\n",
            "[nltk_data]   Package averaged_perceptron_tagger is already up-to-\n",
            "[nltk_data]       date!\n",
            "[nltk_data] Downloading package tagsets to /root/nltk_data...\n",
            "[nltk_data]   Package tagsets is already up-to-date!\n",
            "[nltk_data] Downloading package maxent_ne_chunker to\n",
            "[nltk_data]     /root/nltk_data...\n",
            "[nltk_data]   Package maxent_ne_chunker is already up-to-date!\n",
            "[nltk_data] Downloading package words to /root/nltk_data...\n",
            "[nltk_data]   Package words is already up-to-date!\n",
            "[nltk_data] Downloading package stopwords to /root/nltk_data...\n",
            "[nltk_data]   Package stopwords is already up-to-date!\n",
            "Requirement already satisfied: spacy in /usr/local/lib/python3.7/dist-packages (2.2.4)\n",
            "Requirement already satisfied: preshed<3.1.0,>=3.0.2 in /usr/local/lib/python3.7/dist-packages (from spacy) (3.0.5)\n",
            "Requirement already satisfied: blis<0.5.0,>=0.4.0 in /usr/local/lib/python3.7/dist-packages (from spacy) (0.4.1)\n",
            "Requirement already satisfied: wasabi<1.1.0,>=0.4.0 in /usr/local/lib/python3.7/dist-packages (from spacy) (0.8.2)\n",
            "Requirement already satisfied: catalogue<1.1.0,>=0.0.7 in /usr/local/lib/python3.7/dist-packages (from spacy) (1.0.0)\n",
            "Requirement already satisfied: murmurhash<1.1.0,>=0.28.0 in /usr/local/lib/python3.7/dist-packages (from spacy) (1.0.5)\n",
            "Requirement already satisfied: tqdm<5.0.0,>=4.38.0 in /usr/local/lib/python3.7/dist-packages (from spacy) (4.62.0)\n",
            "Requirement already satisfied: plac<1.2.0,>=0.9.6 in /usr/local/lib/python3.7/dist-packages (from spacy) (1.1.3)\n",
            "Requirement already satisfied: numpy>=1.15.0 in /usr/local/lib/python3.7/dist-packages (from spacy) (1.19.5)\n",
            "Requirement already satisfied: srsly<1.1.0,>=1.0.2 in /usr/local/lib/python3.7/dist-packages (from spacy) (1.0.5)\n",
            "Requirement already satisfied: thinc==7.4.0 in /usr/local/lib/python3.7/dist-packages (from spacy) (7.4.0)\n",
            "Requirement already satisfied: cymem<2.1.0,>=2.0.2 in /usr/local/lib/python3.7/dist-packages (from spacy) (2.0.5)\n",
            "Requirement already satisfied: requests<3.0.0,>=2.13.0 in /usr/local/lib/python3.7/dist-packages (from spacy) (2.23.0)\n",
            "Requirement already satisfied: setuptools in /usr/local/lib/python3.7/dist-packages (from spacy) (57.4.0)\n",
            "Requirement already satisfied: importlib-metadata>=0.20 in /usr/local/lib/python3.7/dist-packages (from catalogue<1.1.0,>=0.0.7->spacy) (4.6.4)\n",
            "Requirement already satisfied: zipp>=0.5 in /usr/local/lib/python3.7/dist-packages (from importlib-metadata>=0.20->catalogue<1.1.0,>=0.0.7->spacy) (3.5.0)\n",
            "Requirement already satisfied: typing-extensions>=3.6.4 in /usr/local/lib/python3.7/dist-packages (from importlib-metadata>=0.20->catalogue<1.1.0,>=0.0.7->spacy) (3.7.4.3)\n",
            "Requirement already satisfied: certifi>=2017.4.17 in /usr/local/lib/python3.7/dist-packages (from requests<3.0.0,>=2.13.0->spacy) (2021.5.30)\n",
            "Requirement already satisfied: idna<3,>=2.5 in /usr/local/lib/python3.7/dist-packages (from requests<3.0.0,>=2.13.0->spacy) (2.10)\n",
            "Requirement already satisfied: urllib3!=1.25.0,!=1.25.1,<1.26,>=1.21.1 in /usr/local/lib/python3.7/dist-packages (from requests<3.0.0,>=2.13.0->spacy) (1.24.3)\n",
            "Requirement already satisfied: chardet<4,>=3.0.2 in /usr/local/lib/python3.7/dist-packages (from requests<3.0.0,>=2.13.0->spacy) (3.0.4)\n",
            "Collecting en_core_web_sm==2.2.5\n",
            "  Downloading https://github.com/explosion/spacy-models/releases/download/en_core_web_sm-2.2.5/en_core_web_sm-2.2.5.tar.gz (12.0 MB)\n",
            "\u001b[K     |████████████████████████████████| 12.0 MB 24.5 MB/s \n",
            "\u001b[?25hRequirement already satisfied: spacy>=2.2.2 in /usr/local/lib/python3.7/dist-packages (from en_core_web_sm==2.2.5) (2.2.4)\n",
            "Requirement already satisfied: catalogue<1.1.0,>=0.0.7 in /usr/local/lib/python3.7/dist-packages (from spacy>=2.2.2->en_core_web_sm==2.2.5) (1.0.0)\n",
            "Requirement already satisfied: tqdm<5.0.0,>=4.38.0 in /usr/local/lib/python3.7/dist-packages (from spacy>=2.2.2->en_core_web_sm==2.2.5) (4.62.0)\n",
            "Requirement already satisfied: setuptools in /usr/local/lib/python3.7/dist-packages (from spacy>=2.2.2->en_core_web_sm==2.2.5) (57.4.0)\n",
            "Requirement already satisfied: murmurhash<1.1.0,>=0.28.0 in /usr/local/lib/python3.7/dist-packages (from spacy>=2.2.2->en_core_web_sm==2.2.5) (1.0.5)\n",
            "Requirement already satisfied: numpy>=1.15.0 in /usr/local/lib/python3.7/dist-packages (from spacy>=2.2.2->en_core_web_sm==2.2.5) (1.19.5)\n",
            "Requirement already satisfied: thinc==7.4.0 in /usr/local/lib/python3.7/dist-packages (from spacy>=2.2.2->en_core_web_sm==2.2.5) (7.4.0)\n",
            "Requirement already satisfied: cymem<2.1.0,>=2.0.2 in /usr/local/lib/python3.7/dist-packages (from spacy>=2.2.2->en_core_web_sm==2.2.5) (2.0.5)\n",
            "Requirement already satisfied: requests<3.0.0,>=2.13.0 in /usr/local/lib/python3.7/dist-packages (from spacy>=2.2.2->en_core_web_sm==2.2.5) (2.23.0)\n",
            "Requirement already satisfied: srsly<1.1.0,>=1.0.2 in /usr/local/lib/python3.7/dist-packages (from spacy>=2.2.2->en_core_web_sm==2.2.5) (1.0.5)\n",
            "Requirement already satisfied: plac<1.2.0,>=0.9.6 in /usr/local/lib/python3.7/dist-packages (from spacy>=2.2.2->en_core_web_sm==2.2.5) (1.1.3)\n",
            "Requirement already satisfied: blis<0.5.0,>=0.4.0 in /usr/local/lib/python3.7/dist-packages (from spacy>=2.2.2->en_core_web_sm==2.2.5) (0.4.1)\n",
            "Requirement already satisfied: preshed<3.1.0,>=3.0.2 in /usr/local/lib/python3.7/dist-packages (from spacy>=2.2.2->en_core_web_sm==2.2.5) (3.0.5)\n",
            "Requirement already satisfied: wasabi<1.1.0,>=0.4.0 in /usr/local/lib/python3.7/dist-packages (from spacy>=2.2.2->en_core_web_sm==2.2.5) (0.8.2)\n",
            "Requirement already satisfied: importlib-metadata>=0.20 in /usr/local/lib/python3.7/dist-packages (from catalogue<1.1.0,>=0.0.7->spacy>=2.2.2->en_core_web_sm==2.2.5) (4.6.4)\n",
            "Requirement already satisfied: zipp>=0.5 in /usr/local/lib/python3.7/dist-packages (from importlib-metadata>=0.20->catalogue<1.1.0,>=0.0.7->spacy>=2.2.2->en_core_web_sm==2.2.5) (3.5.0)\n",
            "Requirement already satisfied: typing-extensions>=3.6.4 in /usr/local/lib/python3.7/dist-packages (from importlib-metadata>=0.20->catalogue<1.1.0,>=0.0.7->spacy>=2.2.2->en_core_web_sm==2.2.5) (3.7.4.3)\n",
            "Requirement already satisfied: certifi>=2017.4.17 in /usr/local/lib/python3.7/dist-packages (from requests<3.0.0,>=2.13.0->spacy>=2.2.2->en_core_web_sm==2.2.5) (2021.5.30)\n",
            "Requirement already satisfied: chardet<4,>=3.0.2 in /usr/local/lib/python3.7/dist-packages (from requests<3.0.0,>=2.13.0->spacy>=2.2.2->en_core_web_sm==2.2.5) (3.0.4)\n",
            "Requirement already satisfied: idna<3,>=2.5 in /usr/local/lib/python3.7/dist-packages (from requests<3.0.0,>=2.13.0->spacy>=2.2.2->en_core_web_sm==2.2.5) (2.10)\n",
            "Requirement already satisfied: urllib3!=1.25.0,!=1.25.1,<1.26,>=1.21.1 in /usr/local/lib/python3.7/dist-packages (from requests<3.0.0,>=2.13.0->spacy>=2.2.2->en_core_web_sm==2.2.5) (1.24.3)\n",
            "\u001b[38;5;2m✔ Download and installation successful\u001b[0m\n",
            "You can now load the model via spacy.load('en_core_web_sm')\n"
          ],
          "name": "stdout"
        }
      ]
    },
    {
      "cell_type": "code",
      "metadata": {
        "id": "G3aY40U8VvdR"
      },
      "source": [
        "def replace_contraction(text):\n",
        "  expanded_words = []\n",
        "\n",
        "  for t in text.split():\n",
        "    expanded_words.append(contractions.fix(t))\n",
        "  \n",
        "  expanded_text =  ' '.join(expanded_words)\n",
        "  return expanded_text"
      ],
      "execution_count": 544,
      "outputs": []
    },
    {
      "cell_type": "code",
      "metadata": {
        "id": "k3MpZvA7yqlS"
      },
      "source": [
        "dataset['text_limpio'] = dataset['text'].apply(lambda x: replace_contraction(x))"
      ],
      "execution_count": 545,
      "outputs": []
    },
    {
      "cell_type": "code",
      "metadata": {
        "colab": {
          "base_uri": "https://localhost:8080/"
        },
        "id": "iPWRdG4Wy-qG",
        "outputId": "f030c2ff-f274-4e77-c03a-de0fa59a1641"
      },
      "source": [
        "dataset['text_limpio']"
      ],
      "execution_count": 546,
      "outputs": [
        {
          "output_type": "execute_result",
          "data": {
            "text/plain": [
              "0       @Uber_Support hi guys why all my trips this we...\n",
              "1       So are we getting Uber eats league 1 or not @S...\n",
              "2       @footballdaily 2-3 years of Messi, a bit of ca...\n",
              "3       @Prashan32439454 @Uber_Support @rameshjoshi80 ...\n",
              "4       Uber's Gopuff partnership, Drizly deal being p...\n",
              "                              ...                        \n",
              "7804    Over 3,800 rides in over 3.5 years one blown t...\n",
              "7805    @CoolABADev obviously i will want Messi to suc...\n",
              "7806    @catekitchen Shit, that is absolutely a crap s...\n",
              "7807    Simply do not take a Uber then dumb ass https:...\n",
              "7808    Uber, Lyft prices keep climbing to new highs, ...\n",
              "Name: text_limpio, Length: 7809, dtype: object"
            ]
          },
          "metadata": {},
          "execution_count": 546
        }
      ]
    },
    {
      "cell_type": "code",
      "metadata": {
        "colab": {
          "base_uri": "https://localhost:8080/",
          "height": 49,
          "referenced_widgets": [
            "e0e301fd3a49434d8a333984a147710d",
            "4203ca9096494091a20ccb907349fb81",
            "ea3f5f6e125142bc86d6664286fdd8be",
            "e75cf4e8efe248dc9b0c770371145ef9",
            "c11c990239d945a1bb61663417e7166f",
            "e3cf625a7ee14816a440b04aea01028d",
            "ed10d5a4a4e14405b25959ee7201b207",
            "5f125b8224de41d3be0e783015f56ebc",
            "eb97188a46624e04be92d2bba8c3903f",
            "131a70b5de8749b9874accbc44aecf62",
            "97f163e260c342f998e2ed669d883189"
          ]
        },
        "id": "057HdwxUxpRa",
        "outputId": "3978a4fc-23a8-4fd5-bcad-62ffae1d4ed0"
      },
      "source": [
        "def tokenization(text):\n",
        "  tokens = word_tokenize(text)\n",
        "  return tokens\n",
        "\n",
        "dataset['text_limpio'] = dataset['text_limpio'].progress_apply(lambda x: tokenization(x))"
      ],
      "execution_count": 547,
      "outputs": [
        {
          "output_type": "display_data",
          "data": {
            "application/vnd.jupyter.widget-view+json": {
              "model_id": "e0e301fd3a49434d8a333984a147710d",
              "version_minor": 0,
              "version_major": 2
            },
            "text/plain": [
              "  0%|          | 0/7809 [00:00<?, ?it/s]"
            ]
          },
          "metadata": {}
        }
      ]
    },
    {
      "cell_type": "code",
      "metadata": {
        "colab": {
          "base_uri": "https://localhost:8080/"
        },
        "id": "3sZVv99rzh1Q",
        "outputId": "f81959ae-d622-447b-887a-33e68c62f3a5"
      },
      "source": [
        "dataset['text_limpio']"
      ],
      "execution_count": 548,
      "outputs": [
        {
          "output_type": "execute_result",
          "data": {
            "text/plain": [
              "0       [@, Uber_Support, hi, guys, why, all, my, trip...\n",
              "1       [So, are, we, getting, Uber, eats, league, 1, ...\n",
              "2       [@, footballdaily, 2-3, years, of, Messi, ,, a...\n",
              "3       [@, Prashan32439454, @, Uber_Support, @, rames...\n",
              "4       [Uber, 's, Gopuff, partnership, ,, Drizly, dea...\n",
              "                              ...                        \n",
              "7804    [Over, 3,800, rides, in, over, 3.5, years, one...\n",
              "7805    [@, CoolABADev, obviously, i, will, want, Mess...\n",
              "7806    [@, catekitchen, Shit, ,, that, is, absolutely...\n",
              "7807    [Simply, do, not, take, a, Uber, then, dumb, a...\n",
              "7808    [Uber, ,, Lyft, prices, keep, climbing, to, ne...\n",
              "Name: text_limpio, Length: 7809, dtype: object"
            ]
          },
          "metadata": {},
          "execution_count": 548
        }
      ]
    },
    {
      "cell_type": "code",
      "metadata": {
        "colab": {
          "base_uri": "https://localhost:8080/",
          "height": 253,
          "referenced_widgets": [
            "9c2643ac73e04c6ebb9f25570a8311f0",
            "d17953d720934b9aaf01583d26f5e123",
            "546322a072d2411fae1f3c893b67ab6a",
            "9f5cc2622f2b47418952c75c0dfcde34",
            "99e81d5ad50d4f3d8c73dafe9f148bb5",
            "650db8c1d9a34633923401c44d3d3a97",
            "2e2df774b2e248aea7aa78519e299aca",
            "7b0651a72a504aa3b8dcc3e2d95448a9",
            "b952f179735341d7b854782225bb0cb8",
            "4ab49b41a33a4c36acee83b9790acd37",
            "d01ec24f4da449d6a139b40907668fd6"
          ]
        },
        "id": "CUiJLHPvzInO",
        "outputId": "9740e453-51ae-4ff9-af31-9c6695c32f9d"
      },
      "source": [
        "def quitar_stopwords(tokens):\n",
        "  stop_words = set(stopwords.words('english'))\n",
        "  filtered_sentence = [w for w in tokens if not w in stop_words]\n",
        "  return filtered_sentence\n",
        "\n",
        "dataset['text_limpio'] = dataset['text_limpio'].progress_apply(lambda x: quitar_stopwords(x))\n",
        "dataset['text_limpio']"
      ],
      "execution_count": 549,
      "outputs": [
        {
          "output_type": "display_data",
          "data": {
            "application/vnd.jupyter.widget-view+json": {
              "model_id": "9c2643ac73e04c6ebb9f25570a8311f0",
              "version_minor": 0,
              "version_major": 2
            },
            "text/plain": [
              "  0%|          | 0/7809 [00:00<?, ?it/s]"
            ]
          },
          "metadata": {}
        },
        {
          "output_type": "execute_result",
          "data": {
            "text/plain": [
              "0       [@, Uber_Support, hi, guys, trips, week, added...\n",
              "1       [So, getting, Uber, eats, league, 1, @, SuperS...\n",
              "2       [@, footballdaily, 2-3, years, Messi, ,, bit, ...\n",
              "3       [@, Prashan32439454, @, Uber_Support, @, rames...\n",
              "4       [Uber, 's, Gopuff, partnership, ,, Drizly, dea...\n",
              "                              ...                        \n",
              "7804    [Over, 3,800, rides, 3.5, years, one, blown, t...\n",
              "7805    [@, CoolABADev, obviously, want, Messi, succee...\n",
              "7806    [@, catekitchen, Shit, ,, absolutely, crap, si...\n",
              "7807    [Simply, take, Uber, dumb, ass, https, :, //t....\n",
              "7808    [Uber, ,, Lyft, prices, keep, climbing, new, h...\n",
              "Name: text_limpio, Length: 7809, dtype: object"
            ]
          },
          "metadata": {},
          "execution_count": 549
        }
      ]
    },
    {
      "cell_type": "code",
      "metadata": {
        "colab": {
          "base_uri": "https://localhost:8080/",
          "height": 253,
          "referenced_widgets": [
            "ace11e39bb3442caaf16cdf2440eebbb",
            "e2ef19478e984babbc5271c8e854dddd",
            "da6715e9271943699089ca8f88c8f343",
            "b6234673d30c44c1aee65d3ee010b4f7",
            "eb8d5a0d40854c20bdd16ad3383577cf",
            "9107a1d16c9d4c2aa518e51de1fbfc9c",
            "dae04de6219b4ba2b6f7e2157abf337c",
            "7a0b1d707edd47f5a4901419c036ca2e",
            "a39b2bedd4034d7599149ec43e1b8cdb",
            "e7826bb807404924bf285d56c13539fd",
            "c33c736af6e642f2a01d18a58351470b"
          ]
        },
        "id": "4RpkFNzfzv2s",
        "outputId": "41822c54-34c7-4cf4-cccc-66a17766ef54"
      },
      "source": [
        "def quitar_puntuacion(tokens):\n",
        "  words = [word for word in tokens if word.isalnum()]\n",
        "  return words\n",
        "\n",
        "dataset['text_limpio'] = dataset['text_limpio'].progress_apply(lambda x: quitar_puntuacion(x))\n",
        "dataset['text_limpio']"
      ],
      "execution_count": 550,
      "outputs": [
        {
          "output_type": "display_data",
          "data": {
            "application/vnd.jupyter.widget-view+json": {
              "model_id": "ace11e39bb3442caaf16cdf2440eebbb",
              "version_minor": 0,
              "version_major": 2
            },
            "text/plain": [
              "  0%|          | 0/7809 [00:00<?, ?it/s]"
            ]
          },
          "metadata": {}
        },
        {
          "output_type": "execute_result",
          "data": {
            "text/plain": [
              "0          [hi, guys, trips, week, added, towards, quest]\n",
              "1       [So, getting, Uber, eats, league, 1, SuperSpor...\n",
              "2       [footballdaily, years, Messi, bit, casual, int...\n",
              "3            [Prashan32439454, rameshjoshi80, Very, True]\n",
              "4       [Uber, Gopuff, partnership, Drizly, deal, prob...\n",
              "                              ...                        \n",
              "7804    [Over, rides, years, one, blown, transmission,...\n",
              "7805    [CoolABADev, obviously, want, Messi, succeed, ...\n",
              "7806    [catekitchen, Shit, absolutely, crap, situatio...\n",
              "7807               [Simply, take, Uber, dumb, ass, https]\n",
              "7808    [Uber, Lyft, prices, keep, climbing, new, high...\n",
              "Name: text_limpio, Length: 7809, dtype: object"
            ]
          },
          "metadata": {},
          "execution_count": 550
        }
      ]
    },
    {
      "cell_type": "code",
      "metadata": {
        "colab": {
          "base_uri": "https://localhost:8080/",
          "height": 253,
          "referenced_widgets": [
            "859886d0309b4de584a17a06fb90305f",
            "2eaec72a0b5f47b1b1d0a808d15f6d85",
            "4f1256a49a4146eeb514e05d137149f0",
            "0d4194e89463422883f76e0b3f289cea",
            "47c004ba64e1490281b55d3720d7e6c9",
            "16eb4d8bbc0341698d444778f64ba9e9",
            "b5a73cfdfd444642b517a13fbaa496f1",
            "4d8cbdf393314bf9922a77933e0f706d",
            "b0b97ee1b2384ef28e7d976d49e08970",
            "b89833138a784c9888ebfcfd1a47f9e1",
            "843a66d60354412dbfef7657dd82e48d"
          ]
        },
        "id": "so4ugbsF2XiF",
        "outputId": "454feb25-0772-467e-829d-5fcb6bf23b33"
      },
      "source": [
        "nlp = en_core_web_sm.load()\n",
        "\n",
        "def lematizar(tokens):\n",
        "  sentence = ' '.join(tokens)\n",
        "  mytokens = nlp(sentence)\n",
        "  mytokens = [word.lemma_ if word.lemma_ != '-PRON-' else word.lower_ for word in mytokens]\n",
        "  return ' '.join(mytokens)\n",
        "\n",
        "dataset['text_limpio'] = dataset['text_limpio'].progress_apply(lambda x: lematizar(x))\n",
        "dataset['text_limpio']"
      ],
      "execution_count": 551,
      "outputs": [
        {
          "output_type": "display_data",
          "data": {
            "application/vnd.jupyter.widget-view+json": {
              "model_id": "859886d0309b4de584a17a06fb90305f",
              "version_minor": 0,
              "version_major": 2
            },
            "text/plain": [
              "  0%|          | 0/7809 [00:00<?, ?it/s]"
            ]
          },
          "metadata": {}
        },
        {
          "output_type": "execute_result",
          "data": {
            "text/plain": [
              "0                      hi guy trip week add towards quest\n",
              "1                   so get Uber eat league 1 supersporttv\n",
              "2       footballdaily year Messi bit casual interest U...\n",
              "3                 Prashan32439454 rameshjoshi80 very true\n",
              "4       Uber Gopuff partnership Drizly deal probe FTC ...\n",
              "                              ...                        \n",
              "7804    over ride year one blow transmission 2 car lat...\n",
              "7805    CoolABADev obviously want Messi succeed win sh...\n",
              "7806    catekitchen Shit absolutely crap situation i u...\n",
              "7807                      simply take Uber dumb ass https\n",
              "7808    Uber Lyft price keep climb new high report fin...\n",
              "Name: text_limpio, Length: 7809, dtype: object"
            ]
          },
          "metadata": {},
          "execution_count": 551
        }
      ]
    },
    {
      "cell_type": "markdown",
      "metadata": {
        "id": "jC7tn1mWM13r"
      },
      "source": [
        "### Importancia de los token"
      ]
    },
    {
      "cell_type": "markdown",
      "metadata": {
        "id": "ovMindyzWtI6"
      },
      "source": [
        "Con las sentencias anteriores hemos obtenido una manera de tokenizar de forma lematizada y obviando las palabras que no aportan significado a las opiniones, cualquiera de los textos que forman parte del corpues bajo estudio.\n",
        "\n",
        "El ejercicio pide tokenizar con la librería NLTK, por lo que haremos ahora una función que realice esta acción, a pesar de haber obtenido una función muy completa con la librería spacy. A esta función anterior se le podrían aplicar todas las condiciones que queramos."
      ]
    },
    {
      "cell_type": "markdown",
      "metadata": {
        "id": "-xMau-NWYjV9"
      },
      "source": [
        "Observamos que con la función creada, limpiar, el verbo 'got' ha sido eliminado por falta de significado, aunque ambas tokenizaciones se realicen de igual manera. \n",
        "\n",
        "A partir de estas tokenizaciones, en particular, de la primera (pos ser una bbdd limpia) podemos obtener el vocabulario del corpus o lo que es lo mismo, el conjunto de palabras que aparecen en las opiniones y el número de veces que aparece cada una. En este caso elegimos la función TfidVectoricer porque no solo tiene en cuenta la frecuencia con la que aparece cada token sino el número de opiniones en las que aparece."
      ]
    },
    {
      "cell_type": "code",
      "metadata": {
        "id": "SUHKtLt0aBJZ"
      },
      "source": [
        "# Importamos la librería que vamos a utilizar\n",
        "from sklearn.feature_extraction.text import TfidfVectorizer\n",
        "from sklearn.feature_extraction import text"
      ],
      "execution_count": 552,
      "outputs": []
    },
    {
      "cell_type": "code",
      "metadata": {
        "id": "NCvYooGEaruL"
      },
      "source": [
        "# Creamos el vectorizador con el tokenizador creado anteriormente (limpiar)\n",
        "tfidf_vectorizer = TfidfVectorizer(norm=None,smooth_idf=False,tokenizer=word_tokenize) \n",
        "\n",
        "# Hacemos fit con nuestro corpus\n",
        "tweets_fit = tfidf_vectorizer.fit(dataset['text_limpio'])"
      ],
      "execution_count": 553,
      "outputs": []
    },
    {
      "cell_type": "code",
      "metadata": {
        "colab": {
          "base_uri": "https://localhost:8080/"
        },
        "id": "eaMn5lS_brdm",
        "outputId": "875fafa9-3792-4781-c9ad-94169c72149f"
      },
      "source": [
        "# Obtenemos el diccionario que mapea la posición en el vector del vocabulario\n",
        "diccionario = tweets_fit.vocabulary_\n",
        "list(diccionario.items())[0:10]"
      ],
      "execution_count": 554,
      "outputs": [
        {
          "output_type": "execute_result",
          "data": {
            "text/plain": [
              "[('hi', 6684),\n",
              " ('guy', 6400),\n",
              " ('trip', 14897),\n",
              " ('week', 15865),\n",
              " ('add', 595),\n",
              " ('towards', 14782),\n",
              " ('quest', 11644),\n",
              " ('so', 13383),\n",
              " ('get', 6007),\n",
              " ('uber', 15051)]"
            ]
          },
          "metadata": {},
          "execution_count": 554
        }
      ]
    },
    {
      "cell_type": "markdown",
      "metadata": {
        "id": "NgSQuMdFsVbv"
      },
      "source": [
        "Una vez que tenemos las reviews en el formato deseado, creamos dos columnas para contar el número de token y el número de carácteres en cada documento, de forma que posteriormente podamos representar las distribuciones de una forma más sencilla."
      ]
    },
    {
      "cell_type": "code",
      "metadata": {
        "id": "Jr6XELaR4veE"
      },
      "source": [
        "# Creamos una columna con el número de carácteres que tiene cada opinión\n",
        "dataset['caracteres'] = dataset['text_limpio'].apply(lambda x: len(x))"
      ],
      "execution_count": 555,
      "outputs": []
    },
    {
      "cell_type": "code",
      "metadata": {
        "colab": {
          "base_uri": "https://localhost:8080/",
          "height": 411
        },
        "id": "t4PyFt_B4vjo",
        "outputId": "368b2a64-86b5-468d-da5d-2a2d2a2ed510"
      },
      "source": [
        "# Comprobamos que la columna se ha creado correctamente\n",
        "dataset.head()"
      ],
      "execution_count": 556,
      "outputs": [
        {
          "output_type": "execute_result",
          "data": {
            "text/html": [
              "<div>\n",
              "<style scoped>\n",
              "    .dataframe tbody tr th:only-of-type {\n",
              "        vertical-align: middle;\n",
              "    }\n",
              "\n",
              "    .dataframe tbody tr th {\n",
              "        vertical-align: top;\n",
              "    }\n",
              "\n",
              "    .dataframe thead th {\n",
              "        text-align: right;\n",
              "    }\n",
              "</style>\n",
              "<table border=\"1\" class=\"dataframe\">\n",
              "  <thead>\n",
              "    <tr style=\"text-align: right;\">\n",
              "      <th></th>\n",
              "      <th>Unnamed: 0</th>\n",
              "      <th>text</th>\n",
              "      <th>created_at</th>\n",
              "      <th>created_at_time</th>\n",
              "      <th>created_at_hour</th>\n",
              "      <th>retweeted</th>\n",
              "      <th>retweet_count</th>\n",
              "      <th>favorite_count</th>\n",
              "      <th>user_ verified</th>\n",
              "      <th>user_id</th>\n",
              "      <th>user_name</th>\n",
              "      <th>user_location</th>\n",
              "      <th>user_notificacion</th>\n",
              "      <th>user_followers</th>\n",
              "      <th>user_friends</th>\n",
              "      <th>user_withheld_in_countries</th>\n",
              "      <th>mentions_in_tweet</th>\n",
              "      <th>is_reply</th>\n",
              "      <th>source_device</th>\n",
              "      <th>finished_tweet</th>\n",
              "      <th>status_count</th>\n",
              "      <th>hashtags_text</th>\n",
              "      <th>hastags_indices</th>\n",
              "      <th>hastags_in_tweet</th>\n",
              "      <th>possitivity_textblob</th>\n",
              "      <th>possitivity_vader</th>\n",
              "      <th>possitivity_ibm</th>\n",
              "      <th>sentiment_mean</th>\n",
              "      <th>sentiment_norm</th>\n",
              "      <th>sentiment</th>\n",
              "      <th>categories</th>\n",
              "      <th>topic_1</th>\n",
              "      <th>topic_2</th>\n",
              "      <th>topic_3</th>\n",
              "      <th>text_limpio</th>\n",
              "      <th>caracteres</th>\n",
              "    </tr>\n",
              "  </thead>\n",
              "  <tbody>\n",
              "    <tr>\n",
              "      <th>0</th>\n",
              "      <td>0</td>\n",
              "      <td>@Uber_Support hi guys why all my trips this we...</td>\n",
              "      <td>Wed Aug 11</td>\n",
              "      <td>09:43:42</td>\n",
              "      <td>9</td>\n",
              "      <td>Si</td>\n",
              "      <td>1</td>\n",
              "      <td>0</td>\n",
              "      <td>NaN</td>\n",
              "      <td>1137383922843771008</td>\n",
              "      <td>ShieldVoC</td>\n",
              "      <td>Stockholm, Sweden</td>\n",
              "      <td>False</td>\n",
              "      <td>20504</td>\n",
              "      <td>98</td>\n",
              "      <td>[]</td>\n",
              "      <td>2</td>\n",
              "      <td>No</td>\n",
              "      <td>test-shield-bot</td>\n",
              "      <td>False</td>\n",
              "      <td>695888</td>\n",
              "      <td>[]</td>\n",
              "      <td>[]</td>\n",
              "      <td>0</td>\n",
              "      <td>0.000000</td>\n",
              "      <td>0.0000</td>\n",
              "      <td>-0.912398</td>\n",
              "      <td>-0.304133</td>\n",
              "      <td>0.347934</td>\n",
              "      <td>Negativo</td>\n",
              "      <td>[{'score': 0.693098, 'label': '/travel/special...</td>\n",
              "      <td>travel</td>\n",
              "      <td>specialty travel</td>\n",
              "      <td>adventure travel</td>\n",
              "      <td>hi guy trip week add towards quest</td>\n",
              "      <td>34</td>\n",
              "    </tr>\n",
              "    <tr>\n",
              "      <th>1</th>\n",
              "      <td>1</td>\n",
              "      <td>So are we getting Uber eats league 1 or not @S...</td>\n",
              "      <td>Wed Aug 11</td>\n",
              "      <td>09:43:39</td>\n",
              "      <td>9</td>\n",
              "      <td>No</td>\n",
              "      <td>0</td>\n",
              "      <td>0</td>\n",
              "      <td>NaN</td>\n",
              "      <td>528288653</td>\n",
              "      <td>__Soini</td>\n",
              "      <td>Otros</td>\n",
              "      <td>False</td>\n",
              "      <td>2733</td>\n",
              "      <td>970</td>\n",
              "      <td>[]</td>\n",
              "      <td>1</td>\n",
              "      <td>No</td>\n",
              "      <td>Twitter Web App</td>\n",
              "      <td>False</td>\n",
              "      <td>58398</td>\n",
              "      <td>[]</td>\n",
              "      <td>[]</td>\n",
              "      <td>0</td>\n",
              "      <td>0.000000</td>\n",
              "      <td>0.0000</td>\n",
              "      <td>0.000000</td>\n",
              "      <td>0.000000</td>\n",
              "      <td>0.500000</td>\n",
              "      <td>Neutro</td>\n",
              "      <td>[{'score': 0.59693, 'label': '/sports/baseball...</td>\n",
              "      <td>sports</td>\n",
              "      <td>baseball</td>\n",
              "      <td>NaN</td>\n",
              "      <td>so get Uber eat league 1 supersporttv</td>\n",
              "      <td>37</td>\n",
              "    </tr>\n",
              "    <tr>\n",
              "      <th>2</th>\n",
              "      <td>2</td>\n",
              "      <td>@footballdaily 2-3 years of Messi, a bit of ca...</td>\n",
              "      <td>Wed Aug 11</td>\n",
              "      <td>09:43:36</td>\n",
              "      <td>9</td>\n",
              "      <td>No</td>\n",
              "      <td>0</td>\n",
              "      <td>0</td>\n",
              "      <td>NaN</td>\n",
              "      <td>826917817</td>\n",
              "      <td>ASHJY97</td>\n",
              "      <td>Otros</td>\n",
              "      <td>False</td>\n",
              "      <td>353</td>\n",
              "      <td>943</td>\n",
              "      <td>[]</td>\n",
              "      <td>1</td>\n",
              "      <td>footballdaily</td>\n",
              "      <td>Twitter for iPhone</td>\n",
              "      <td>False</td>\n",
              "      <td>5974</td>\n",
              "      <td>[]</td>\n",
              "      <td>[]</td>\n",
              "      <td>0</td>\n",
              "      <td>-0.333333</td>\n",
              "      <td>0.5859</td>\n",
              "      <td>-0.807459</td>\n",
              "      <td>-0.184964</td>\n",
              "      <td>0.407518</td>\n",
              "      <td>Neutro</td>\n",
              "      <td>[{'score': 0.785107, 'label': '/sports/soccer'}]</td>\n",
              "      <td>sports</td>\n",
              "      <td>soccer</td>\n",
              "      <td>NaN</td>\n",
              "      <td>footballdaily year Messi bit casual interest U...</td>\n",
              "      <td>83</td>\n",
              "    </tr>\n",
              "    <tr>\n",
              "      <th>3</th>\n",
              "      <td>3</td>\n",
              "      <td>@Prashan32439454 @Uber_Support @rameshjoshi80 ...</td>\n",
              "      <td>Wed Aug 11</td>\n",
              "      <td>09:43:36</td>\n",
              "      <td>9</td>\n",
              "      <td>No</td>\n",
              "      <td>0</td>\n",
              "      <td>0</td>\n",
              "      <td>NaN</td>\n",
              "      <td>1382729072837479936</td>\n",
              "      <td>GurmeetSinghSh6</td>\n",
              "      <td>Vacio</td>\n",
              "      <td>False</td>\n",
              "      <td>6</td>\n",
              "      <td>1</td>\n",
              "      <td>[]</td>\n",
              "      <td>3</td>\n",
              "      <td>Prashan32439454</td>\n",
              "      <td>Twitter for Android</td>\n",
              "      <td>False</td>\n",
              "      <td>169</td>\n",
              "      <td>[]</td>\n",
              "      <td>[]</td>\n",
              "      <td>0</td>\n",
              "      <td>0.455000</td>\n",
              "      <td>0.4754</td>\n",
              "      <td>0.863584</td>\n",
              "      <td>0.597995</td>\n",
              "      <td>0.798997</td>\n",
              "      <td>Positivo</td>\n",
              "      <td>[{'score': 0.685688, 'label': '/science/mathem...</td>\n",
              "      <td>science</td>\n",
              "      <td>mathematics</td>\n",
              "      <td>arithmetic</td>\n",
              "      <td>Prashan32439454 rameshjoshi80 very true</td>\n",
              "      <td>39</td>\n",
              "    </tr>\n",
              "    <tr>\n",
              "      <th>4</th>\n",
              "      <td>4</td>\n",
              "      <td>Uber's Gopuff partnership, Drizly deal being p...</td>\n",
              "      <td>Wed Aug 11</td>\n",
              "      <td>09:43:33</td>\n",
              "      <td>9</td>\n",
              "      <td>No</td>\n",
              "      <td>0</td>\n",
              "      <td>0</td>\n",
              "      <td>NaN</td>\n",
              "      <td>3646985662</td>\n",
              "      <td>sbwcws</td>\n",
              "      <td>Vacio</td>\n",
              "      <td>False</td>\n",
              "      <td>5562</td>\n",
              "      <td>3</td>\n",
              "      <td>[]</td>\n",
              "      <td>0</td>\n",
              "      <td>No</td>\n",
              "      <td>News Bot Algo</td>\n",
              "      <td>False</td>\n",
              "      <td>113083</td>\n",
              "      <td>[]</td>\n",
              "      <td>[]</td>\n",
              "      <td>0</td>\n",
              "      <td>0.000000</td>\n",
              "      <td>0.0000</td>\n",
              "      <td>-0.788377</td>\n",
              "      <td>-0.262792</td>\n",
              "      <td>0.368604</td>\n",
              "      <td>Negativo</td>\n",
              "      <td>[{'score': 0.778195, 'label': '/news'}, {'scor...</td>\n",
              "      <td>news</td>\n",
              "      <td>NaN</td>\n",
              "      <td>NaN</td>\n",
              "      <td>Uber Gopuff partnership Drizly deal probe FTC ...</td>\n",
              "      <td>69</td>\n",
              "    </tr>\n",
              "  </tbody>\n",
              "</table>\n",
              "</div>"
            ],
            "text/plain": [
              "   Unnamed: 0  ... caracteres\n",
              "0           0  ...         34\n",
              "1           1  ...         37\n",
              "2           2  ...         83\n",
              "3           3  ...         39\n",
              "4           4  ...         69\n",
              "\n",
              "[5 rows x 36 columns]"
            ]
          },
          "metadata": {},
          "execution_count": 556
        }
      ]
    },
    {
      "cell_type": "code",
      "metadata": {
        "id": "LRzxcxZd4vpM"
      },
      "source": [
        "# Creamos una columna con el número de tokens que tiene cada opinión\n",
        "dataset['tokens'] = dataset['text_limpio'].apply(lambda x: len(word_tokenize(x)))"
      ],
      "execution_count": 557,
      "outputs": []
    },
    {
      "cell_type": "code",
      "metadata": {
        "colab": {
          "base_uri": "https://localhost:8080/",
          "height": 411
        },
        "id": "UQQLsn_e4vu8",
        "outputId": "7fe639c1-b5cd-4ceb-bf4b-5a53e5a83960"
      },
      "source": [
        "# Comprobamos que la columna se ha creado correctamente\n",
        "dataset.head()"
      ],
      "execution_count": 558,
      "outputs": [
        {
          "output_type": "execute_result",
          "data": {
            "text/html": [
              "<div>\n",
              "<style scoped>\n",
              "    .dataframe tbody tr th:only-of-type {\n",
              "        vertical-align: middle;\n",
              "    }\n",
              "\n",
              "    .dataframe tbody tr th {\n",
              "        vertical-align: top;\n",
              "    }\n",
              "\n",
              "    .dataframe thead th {\n",
              "        text-align: right;\n",
              "    }\n",
              "</style>\n",
              "<table border=\"1\" class=\"dataframe\">\n",
              "  <thead>\n",
              "    <tr style=\"text-align: right;\">\n",
              "      <th></th>\n",
              "      <th>Unnamed: 0</th>\n",
              "      <th>text</th>\n",
              "      <th>created_at</th>\n",
              "      <th>created_at_time</th>\n",
              "      <th>created_at_hour</th>\n",
              "      <th>retweeted</th>\n",
              "      <th>retweet_count</th>\n",
              "      <th>favorite_count</th>\n",
              "      <th>user_ verified</th>\n",
              "      <th>user_id</th>\n",
              "      <th>user_name</th>\n",
              "      <th>user_location</th>\n",
              "      <th>user_notificacion</th>\n",
              "      <th>user_followers</th>\n",
              "      <th>user_friends</th>\n",
              "      <th>user_withheld_in_countries</th>\n",
              "      <th>mentions_in_tweet</th>\n",
              "      <th>is_reply</th>\n",
              "      <th>source_device</th>\n",
              "      <th>finished_tweet</th>\n",
              "      <th>status_count</th>\n",
              "      <th>hashtags_text</th>\n",
              "      <th>hastags_indices</th>\n",
              "      <th>hastags_in_tweet</th>\n",
              "      <th>possitivity_textblob</th>\n",
              "      <th>possitivity_vader</th>\n",
              "      <th>possitivity_ibm</th>\n",
              "      <th>sentiment_mean</th>\n",
              "      <th>sentiment_norm</th>\n",
              "      <th>sentiment</th>\n",
              "      <th>categories</th>\n",
              "      <th>topic_1</th>\n",
              "      <th>topic_2</th>\n",
              "      <th>topic_3</th>\n",
              "      <th>text_limpio</th>\n",
              "      <th>caracteres</th>\n",
              "      <th>tokens</th>\n",
              "    </tr>\n",
              "  </thead>\n",
              "  <tbody>\n",
              "    <tr>\n",
              "      <th>0</th>\n",
              "      <td>0</td>\n",
              "      <td>@Uber_Support hi guys why all my trips this we...</td>\n",
              "      <td>Wed Aug 11</td>\n",
              "      <td>09:43:42</td>\n",
              "      <td>9</td>\n",
              "      <td>Si</td>\n",
              "      <td>1</td>\n",
              "      <td>0</td>\n",
              "      <td>NaN</td>\n",
              "      <td>1137383922843771008</td>\n",
              "      <td>ShieldVoC</td>\n",
              "      <td>Stockholm, Sweden</td>\n",
              "      <td>False</td>\n",
              "      <td>20504</td>\n",
              "      <td>98</td>\n",
              "      <td>[]</td>\n",
              "      <td>2</td>\n",
              "      <td>No</td>\n",
              "      <td>test-shield-bot</td>\n",
              "      <td>False</td>\n",
              "      <td>695888</td>\n",
              "      <td>[]</td>\n",
              "      <td>[]</td>\n",
              "      <td>0</td>\n",
              "      <td>0.000000</td>\n",
              "      <td>0.0000</td>\n",
              "      <td>-0.912398</td>\n",
              "      <td>-0.304133</td>\n",
              "      <td>0.347934</td>\n",
              "      <td>Negativo</td>\n",
              "      <td>[{'score': 0.693098, 'label': '/travel/special...</td>\n",
              "      <td>travel</td>\n",
              "      <td>specialty travel</td>\n",
              "      <td>adventure travel</td>\n",
              "      <td>hi guy trip week add towards quest</td>\n",
              "      <td>34</td>\n",
              "      <td>7</td>\n",
              "    </tr>\n",
              "    <tr>\n",
              "      <th>1</th>\n",
              "      <td>1</td>\n",
              "      <td>So are we getting Uber eats league 1 or not @S...</td>\n",
              "      <td>Wed Aug 11</td>\n",
              "      <td>09:43:39</td>\n",
              "      <td>9</td>\n",
              "      <td>No</td>\n",
              "      <td>0</td>\n",
              "      <td>0</td>\n",
              "      <td>NaN</td>\n",
              "      <td>528288653</td>\n",
              "      <td>__Soini</td>\n",
              "      <td>Otros</td>\n",
              "      <td>False</td>\n",
              "      <td>2733</td>\n",
              "      <td>970</td>\n",
              "      <td>[]</td>\n",
              "      <td>1</td>\n",
              "      <td>No</td>\n",
              "      <td>Twitter Web App</td>\n",
              "      <td>False</td>\n",
              "      <td>58398</td>\n",
              "      <td>[]</td>\n",
              "      <td>[]</td>\n",
              "      <td>0</td>\n",
              "      <td>0.000000</td>\n",
              "      <td>0.0000</td>\n",
              "      <td>0.000000</td>\n",
              "      <td>0.000000</td>\n",
              "      <td>0.500000</td>\n",
              "      <td>Neutro</td>\n",
              "      <td>[{'score': 0.59693, 'label': '/sports/baseball...</td>\n",
              "      <td>sports</td>\n",
              "      <td>baseball</td>\n",
              "      <td>NaN</td>\n",
              "      <td>so get Uber eat league 1 supersporttv</td>\n",
              "      <td>37</td>\n",
              "      <td>7</td>\n",
              "    </tr>\n",
              "    <tr>\n",
              "      <th>2</th>\n",
              "      <td>2</td>\n",
              "      <td>@footballdaily 2-3 years of Messi, a bit of ca...</td>\n",
              "      <td>Wed Aug 11</td>\n",
              "      <td>09:43:36</td>\n",
              "      <td>9</td>\n",
              "      <td>No</td>\n",
              "      <td>0</td>\n",
              "      <td>0</td>\n",
              "      <td>NaN</td>\n",
              "      <td>826917817</td>\n",
              "      <td>ASHJY97</td>\n",
              "      <td>Otros</td>\n",
              "      <td>False</td>\n",
              "      <td>353</td>\n",
              "      <td>943</td>\n",
              "      <td>[]</td>\n",
              "      <td>1</td>\n",
              "      <td>footballdaily</td>\n",
              "      <td>Twitter for iPhone</td>\n",
              "      <td>False</td>\n",
              "      <td>5974</td>\n",
              "      <td>[]</td>\n",
              "      <td>[]</td>\n",
              "      <td>0</td>\n",
              "      <td>-0.333333</td>\n",
              "      <td>0.5859</td>\n",
              "      <td>-0.807459</td>\n",
              "      <td>-0.184964</td>\n",
              "      <td>0.407518</td>\n",
              "      <td>Neutro</td>\n",
              "      <td>[{'score': 0.785107, 'label': '/sports/soccer'}]</td>\n",
              "      <td>sports</td>\n",
              "      <td>soccer</td>\n",
              "      <td>NaN</td>\n",
              "      <td>footballdaily year Messi bit casual interest U...</td>\n",
              "      <td>83</td>\n",
              "      <td>12</td>\n",
              "    </tr>\n",
              "    <tr>\n",
              "      <th>3</th>\n",
              "      <td>3</td>\n",
              "      <td>@Prashan32439454 @Uber_Support @rameshjoshi80 ...</td>\n",
              "      <td>Wed Aug 11</td>\n",
              "      <td>09:43:36</td>\n",
              "      <td>9</td>\n",
              "      <td>No</td>\n",
              "      <td>0</td>\n",
              "      <td>0</td>\n",
              "      <td>NaN</td>\n",
              "      <td>1382729072837479936</td>\n",
              "      <td>GurmeetSinghSh6</td>\n",
              "      <td>Vacio</td>\n",
              "      <td>False</td>\n",
              "      <td>6</td>\n",
              "      <td>1</td>\n",
              "      <td>[]</td>\n",
              "      <td>3</td>\n",
              "      <td>Prashan32439454</td>\n",
              "      <td>Twitter for Android</td>\n",
              "      <td>False</td>\n",
              "      <td>169</td>\n",
              "      <td>[]</td>\n",
              "      <td>[]</td>\n",
              "      <td>0</td>\n",
              "      <td>0.455000</td>\n",
              "      <td>0.4754</td>\n",
              "      <td>0.863584</td>\n",
              "      <td>0.597995</td>\n",
              "      <td>0.798997</td>\n",
              "      <td>Positivo</td>\n",
              "      <td>[{'score': 0.685688, 'label': '/science/mathem...</td>\n",
              "      <td>science</td>\n",
              "      <td>mathematics</td>\n",
              "      <td>arithmetic</td>\n",
              "      <td>Prashan32439454 rameshjoshi80 very true</td>\n",
              "      <td>39</td>\n",
              "      <td>4</td>\n",
              "    </tr>\n",
              "    <tr>\n",
              "      <th>4</th>\n",
              "      <td>4</td>\n",
              "      <td>Uber's Gopuff partnership, Drizly deal being p...</td>\n",
              "      <td>Wed Aug 11</td>\n",
              "      <td>09:43:33</td>\n",
              "      <td>9</td>\n",
              "      <td>No</td>\n",
              "      <td>0</td>\n",
              "      <td>0</td>\n",
              "      <td>NaN</td>\n",
              "      <td>3646985662</td>\n",
              "      <td>sbwcws</td>\n",
              "      <td>Vacio</td>\n",
              "      <td>False</td>\n",
              "      <td>5562</td>\n",
              "      <td>3</td>\n",
              "      <td>[]</td>\n",
              "      <td>0</td>\n",
              "      <td>No</td>\n",
              "      <td>News Bot Algo</td>\n",
              "      <td>False</td>\n",
              "      <td>113083</td>\n",
              "      <td>[]</td>\n",
              "      <td>[]</td>\n",
              "      <td>0</td>\n",
              "      <td>0.000000</td>\n",
              "      <td>0.0000</td>\n",
              "      <td>-0.788377</td>\n",
              "      <td>-0.262792</td>\n",
              "      <td>0.368604</td>\n",
              "      <td>Negativo</td>\n",
              "      <td>[{'score': 0.778195, 'label': '/news'}, {'scor...</td>\n",
              "      <td>news</td>\n",
              "      <td>NaN</td>\n",
              "      <td>NaN</td>\n",
              "      <td>Uber Gopuff partnership Drizly deal probe FTC ...</td>\n",
              "      <td>69</td>\n",
              "      <td>10</td>\n",
              "    </tr>\n",
              "  </tbody>\n",
              "</table>\n",
              "</div>"
            ],
            "text/plain": [
              "   Unnamed: 0  ... tokens\n",
              "0           0  ...      7\n",
              "1           1  ...      7\n",
              "2           2  ...     12\n",
              "3           3  ...      4\n",
              "4           4  ...     10\n",
              "\n",
              "[5 rows x 37 columns]"
            ]
          },
          "metadata": {},
          "execution_count": 558
        }
      ]
    },
    {
      "cell_type": "markdown",
      "metadata": {
        "id": "sC9_gOQBsPeB"
      },
      "source": [
        "Una vez que hemos preparado nuestro dataset, podemos proceder a la representación gráfica de las distribuciones de ambas clases en base primero al número de carácteres y en segundo lugar al número de tokens por documento."
      ]
    },
    {
      "cell_type": "code",
      "metadata": {
        "id": "Z67ZF5NxDddt"
      },
      "source": [
        "import seaborn as sns\n",
        "import matplotlib.pyplot as plt"
      ],
      "execution_count": 559,
      "outputs": []
    },
    {
      "cell_type": "code",
      "metadata": {
        "colab": {
          "base_uri": "https://localhost:8080/",
          "height": 409
        },
        "id": "GmvWxUJBvIz7",
        "outputId": "27f653ba-217f-47a4-f109-224bfc4fe6d6"
      },
      "source": [
        "# Distribución del número de carácteres\n",
        "fig = plt.figure(figsize=(10,6))\n",
        "\n",
        "plt1 = sns.distplot(dataset.tokens.loc[dataset['sentiment'].isin(['Positivo', 'Muy Positivo'])], hist=True, label = 'Positivo')\n",
        "plt2 = sns.distplot(dataset.tokens.loc[dataset['sentiment'].isin(['Negativo', 'Muy Negativo'])], hist=True, label = 'Negativo')\n",
        "\n",
        "plt.title('Distribución de tokens por clase')\n",
        "plt.legend()\n",
        "plt.show()"
      ],
      "execution_count": 560,
      "outputs": [
        {
          "output_type": "display_data",
          "data": {
            "image/png": "[encoded data removed]",
            "text/plain": [
              "<Figure size 720x432 with 1 Axes>"
            ]
          },
          "metadata": {}
        }
      ]
    },
    {
      "cell_type": "code",
      "metadata": {
        "colab": {
          "base_uri": "https://localhost:8080/",
          "height": 409
        },
        "id": "yqKArUsv6M37",
        "outputId": "cc5c3c55-7661-470e-87f2-e81724beeafc"
      },
      "source": [
        "# Distribución del número de carácteres\n",
        "fig = plt.figure(figsize=(10,6))\n",
        "\n",
        "plt1 = sns.distplot(dataset.caracteres.loc[dataset['sentiment'].isin(['Positivo', 'Muy Positivo'])], hist=True, label = 'Positivo')\n",
        "plt2 = sns.distplot(dataset.caracteres.loc[dataset['sentiment'].isin(['Negativo', 'Muy Negativo'])], hist=True, label = 'Negativo')\n",
        "\n",
        "plt.title('Distribución de caracteres por clase')\n",
        "plt.legend()\n",
        "plt.show()"
      ],
      "execution_count": 561,
      "outputs": [
        {
          "output_type": "display_data",
          "data": {
            "image/png": "[encoded data removed]",
            "text/plain": [
              "<Figure size 720x432 with 1 Axes>"
            ]
          },
          "metadata": {}
        }
      ]
    },
    {
      "cell_type": "markdown",
      "metadata": {
        "id": "kud9wtGivgyW"
      },
      "source": [
        "De los gráficos anteriores podríamos observar una ligera diferencia en cuanto a la longitud de los tweets en base a la clasificación de las mismas, teniendo mayor número de carácteres y/o tokens aquellas que son POSITIVAS. Podemos comprobar esto analíticamente y ver si realmente se cumple, porque la diferencia es bastante ligera entre ambas distribuciones."
      ]
    },
    {
      "cell_type": "code",
      "metadata": {
        "colab": {
          "base_uri": "https://localhost:8080/"
        },
        "id": "l2Fvx7pTwd8h",
        "outputId": "c01eb1dd-5f61-4353-9851-3371dea31bd8"
      },
      "source": [
        "# Número medio de tokens en las opiniones positivas\n",
        "positivas = dataset.loc[dataset['sentiment'].isin(['Positivo', 'Muy Positivo'])]\n",
        "\n",
        "token_media_pos = sum(positivas['tokens'])/len(positivas['tokens'])\n",
        "token_media_pos"
      ],
      "execution_count": 562,
      "outputs": [
        {
          "output_type": "execute_result",
          "data": {
            "text/plain": [
              "16.835339168490155"
            ]
          },
          "metadata": {},
          "execution_count": 562
        }
      ]
    },
    {
      "cell_type": "code",
      "metadata": {
        "colab": {
          "base_uri": "https://localhost:8080/"
        },
        "id": "AEddN3MoxAES",
        "outputId": "f52da8a0-34a8-4dfc-fe8d-222df2f63e8a"
      },
      "source": [
        "# Número medio de tokens en las opiniones negativas\n",
        "negativas = dataset.loc[dataset['sentiment'].isin(['Negativo', 'Muy Negativo'])]\n",
        "\n",
        "token_media_neg = sum(negativas['tokens'])/len(negativas['tokens'])\n",
        "token_media_neg"
      ],
      "execution_count": 563,
      "outputs": [
        {
          "output_type": "execute_result",
          "data": {
            "text/plain": [
              "15.487343908201147"
            ]
          },
          "metadata": {},
          "execution_count": 563
        }
      ]
    },
    {
      "cell_type": "markdown",
      "metadata": {
        "id": "OJo0sOeDyzQf"
      },
      "source": [
        "Observamos también analíticamente que las opiniones positivas son más largas en media que las opiniones negativas."
      ]
    },
    {
      "cell_type": "markdown",
      "metadata": {
        "id": "ikS_mSsCoiCJ"
      },
      "source": [
        "En este apartado se pide representar un histograma con los 30 token más utilizados o que más se repiten en las opiniones, una vez se ha aplicado el proceso de limpieza. "
      ]
    },
    {
      "cell_type": "markdown",
      "metadata": {
        "id": "ac9TJLdKpYzl"
      },
      "source": [
        "A continuación creamos una función que cuenta el número de veces que se repite cada token. Para ello creamos un diccionario como hicimos en uno de los apartados anteriores, pero esta vez partimos de las reviews que hemos 'limpiado'."
      ]
    },
    {
      "cell_type": "code",
      "metadata": {
        "id": "eiuu6sJ4sCoO"
      },
      "source": [
        "# Creamos el vectorizador de nuevo. Tokenizador nltk.\n",
        "tfidf_vectorizer2 = TfidfVectorizer(norm=None,smooth_idf=False, tokenizer=word_tokenize) \n",
        "\n",
        "# Hacemos fit con las opiniones limpias\n",
        "tweet_fit = tfidf_vectorizer2.fit(dataset['text_limpio'])\n",
        "\n",
        "# Obtenemos el diccionario que mapea la posición en el vector del vocabulario\n",
        "diccionario2 = tweet_fit.vocabulary_\n",
        "\n",
        "# Creamos una lista con \n",
        "vocabulario = list(diccionario2.keys())"
      ],
      "execution_count": 564,
      "outputs": []
    },
    {
      "cell_type": "code",
      "metadata": {
        "colab": {
          "base_uri": "https://localhost:8080/"
        },
        "id": "nVV-3eWGtiQ-",
        "outputId": "86c1950d-5484-4d62-846e-6fd86761d6da"
      },
      "source": [
        "# Comprobamos que se ha creado correctamente\n",
        "vocabulario[0:10]"
      ],
      "execution_count": 565,
      "outputs": [
        {
          "output_type": "execute_result",
          "data": {
            "text/plain": [
              "['hi', 'guy', 'trip', 'week', 'add', 'towards', 'quest', 'so', 'get', 'uber']"
            ]
          },
          "metadata": {},
          "execution_count": 565
        }
      ]
    },
    {
      "cell_type": "code",
      "metadata": {
        "id": "ByK3whFlOjvs"
      },
      "source": [
        "# Creamos una función para obtener las frecuencias de los token\n",
        "\n",
        "def freq(lista):\n",
        "    frecuencia = {} \n",
        "    for item in lista:\n",
        "        if (item in frecuencia):\n",
        "            frecuencia[item] = frecuencia[item] + 1\n",
        "        else:\n",
        "            frecuencia[item] = 1\n",
        "    return frecuencia"
      ],
      "execution_count": 566,
      "outputs": []
    },
    {
      "cell_type": "code",
      "metadata": {
        "id": "PhigOjTOPIYZ"
      },
      "source": [
        "# Extraermos los tokens de todos los textos y los introducimos en una lista común\n",
        "\n",
        "tokens_total = []\n",
        "\n",
        "for tweet in dataset['text_limpio']:\n",
        "  tokens_review = word_tokenize(tweet)\n",
        "  # Añadimos esos tokens como nuevos elementos\n",
        "  tokens_total.extend(tokens_review)"
      ],
      "execution_count": 567,
      "outputs": []
    },
    {
      "cell_type": "code",
      "metadata": {
        "colab": {
          "base_uri": "https://localhost:8080/"
        },
        "id": "ttzM-ZAWPrsN",
        "outputId": "fce2d3ad-637f-4916-e5c0-148689bf65b1"
      },
      "source": [
        "# Comprobamos que se ha creado correctamente la lista\n",
        "tokens_total[0:9]"
      ],
      "execution_count": 568,
      "outputs": [
        {
          "output_type": "execute_result",
          "data": {
            "text/plain": [
              "['hi', 'guy', 'trip', 'week', 'add', 'towards', 'quest', 'so', 'get']"
            ]
          },
          "metadata": {},
          "execution_count": 568
        }
      ]
    },
    {
      "cell_type": "code",
      "metadata": {
        "colab": {
          "base_uri": "https://localhost:8080/"
        },
        "id": "-6IrIevrP2CS",
        "outputId": "040deedc-b2d3-4367-a09e-0aef40eee024"
      },
      "source": [
        "# Aplicamos la función que crea un diccionario con las frecuencias\n",
        "freq_token = freq(tokens_total)\n",
        "\n",
        "# Comprobamos que se ha creado correctamente\n",
        "freq_token['trip']"
      ],
      "execution_count": 569,
      "outputs": [
        {
          "output_type": "execute_result",
          "data": {
            "text/plain": [
              "166"
            ]
          },
          "metadata": {},
          "execution_count": 569
        }
      ]
    },
    {
      "cell_type": "code",
      "metadata": {
        "id": "D9V3Rt-gQRpw"
      },
      "source": [
        "# Ordenamos el diccionario en base a la frecuencia de cada token\n",
        "freq_ord = sorted(freq_token.items(), key=lambda x: x[1], reverse=True)"
      ],
      "execution_count": 570,
      "outputs": []
    },
    {
      "cell_type": "code",
      "metadata": {
        "id": "65Nv31GBR0tz"
      },
      "source": [
        "# Convertimos el objeto anterior en dos listas, de cara a la representación\n",
        "token_nombre = []\n",
        "token_freq = []\n",
        "for token in freq_ord:\n",
        "    token_nombre.append(token[0])\n",
        "    token_freq.append(token[1])"
      ],
      "execution_count": 571,
      "outputs": []
    },
    {
      "cell_type": "code",
      "metadata": {
        "colab": {
          "base_uri": "https://localhost:8080/"
        },
        "id": "uXfsXOlxSyWF",
        "outputId": "68d406a3-af83-4396-fef5-c6e1333533db"
      },
      "source": [
        "# Comprobamos que las listas se han creado correctamente\n",
        "print(token_nombre[0:9],'\\n',token_freq[0:9])"
      ],
      "execution_count": 572,
      "outputs": [
        {
          "output_type": "stream",
          "text": [
            "['Uber', 'i', 'https', 'uber', 'driver', 'get', 'like', 'eat', 'go'] \n",
            " [4918, 3856, 1857, 1780, 1423, 1341, 865, 802, 731]\n"
          ],
          "name": "stdout"
        }
      ]
    },
    {
      "cell_type": "code",
      "metadata": {
        "colab": {
          "base_uri": "https://localhost:8080/",
          "height": 337
        },
        "id": "2n9ybiATCzcL",
        "outputId": "08b98f67-6875-4581-e8cc-4c0c5317769f"
      },
      "source": [
        "# Representamos los 10 mayores con la libreriia seaborn\n",
        "plt.rcParams['figure.figsize'] = [10, 5]\n",
        "sns_g = sns.barplot(x=token_nombre[0:9], y=token_freq[0:9])\n",
        "plt.title('10 token más repetidos y su frecuencia')\n",
        "plt.xticks(rotation=0)\n",
        "plt.show()"
      ],
      "execution_count": 573,
      "outputs": [
        {
          "output_type": "display_data",
          "data": {
            "image/png": "[encoded data removed]",
            "text/plain": [
              "<Figure size 720x360 with 1 Axes>"
            ]
          },
          "metadata": {}
        }
      ]
    },
    {
      "cell_type": "code",
      "metadata": {
        "colab": {
          "base_uri": "https://localhost:8080/"
        },
        "id": "eIb7og4H_fzt",
        "outputId": "194fdd9d-13b8-4500-9337-0ab4463f7e4f"
      },
      "source": [
        "print(token_nombre)"
      ],
      "execution_count": 574,
      "outputs": [
        {
          "output_type": "stream",
          "text": [
            "['Uber', 'i', 'https', 'uber', 'driver', 'get', 'like', 'eat', 'go', 'take', 'please', 'us', 'the', 'use', 'make', 'order', 'time', 'would', 'account', 'help', 'say', 'http', 'one', 'want', 'amp', 'ride', 'car', 'pay', 'know', 'send', 'we', 'number', 'DM', 'think', 'work', 'need', 'look', 'phone', 'call', 'assist', 'back', 'even', 'well', 'see', 'drive', 'taxi', 'people', 'day', 'this', 'app', 'money', 'way', 'Lyft', 'tell', 'my', 'home', 'good', 'you', 'service', 'charge', 'try', 'price', 'come', 'support', 'Eats', 'still', 'ask', 'if', 'thank', 'wait', 'give', 'and', 'year', 'never', 'company', 'let', 'UBER', 'via', 'could', 'really', 'food', '2', 'email', 'also', 'associate', 'be', 'new', 'much', 'thing', 'do', 'trip', 'keep', 'right', 'last', 'start', 'customer', 'guy', 'it', 'delivery', 'no', 'check', 'first', 'shit', 'hi', 'but', 'issue', 'they', 'cancel', 'cab', 'in', '1', 'week', 'bad', 'night', 'every', 'someone', 'hour', 'reach', 'end', 'always', 'leave', 'minute', 'so', 'today', 'message', 'fuck', '3', 'cheap', 'team', 'show', 'understand', 'what', 'man', 'stop', 'concern', 'talk', 'business', '5', 'love', 'follow', 'buy', 'sure', 'find', 'job', 'may', 'many', 'place', 'a', 'live', 'hear', 'something', 'soon', 'lyft', 'he', 'ever', 'long', 'big', 'contact', 'address', 'pick', 'happen', 'reply', 'two', 'put', 'happy', 'lol', 'away', 'deliver', 'feel', 'why', 'just', 'cost', 'friend', 'to', 'play', 'experience', 'free', 'touch', 'not', 'since', 'how', 'league', 'actually', 'card', 'high', 'question', 'allow', 'video', 'close', 'another', 'mean', 'gwisk20', 'lot', 'walk', 'lose', 'provide', 'next', '10', 'link', 'possible', 'already', 'for', 'share', 'change', 'code', 'around', 'point', 'literally', 'city', 'run', 'tip', 'when', '20', 'problem', 'month', 'response', 'great', 'drop', 'instead', '4', 'wrong', 'worker', 'book', 'gt', 'spend', 'bring', 'anything', 'hey', 'expensive', 'without', 'life', 'rich', 'now', 'your', 'appreciate', 'fare', 'hard', 'have', 'me', 'sorry', 'rate', 'employee', 'care', 'ago', 'less', 'information', 'mask', 'refund', 'whole', '50', 'tax', 'airport', 'yes', 'dm', 'that', 'option', 'cool', 'everyone', 'case', 'better', 'min', 'public', 'hate', 'move', 'offer', 'Can', 'market', 'house', 'fee', 'date', 'watch', 'late', 'UberEats', 'almost', 'promo', 'old', 'meal', 'sit', 'hope', 'real', 'turn', 'request', 'door', '30', 'name', 'Ola', 'part', '100', 'pass', 'add', 'receive', 'report', 'cash', 'bus', 'seem', 'though', 'tech', 'woman', 'world', 'anyone', 'become', 'available', 'etc', 'yet', 'pretty', 'area', '15', 'regard', 'drink', 'along', 'local', 'person', 'miss', 'Amazon', 'read', 'definitely', 'passenger', 'yeah', 'reason', 'fucking', 'detail', 'rider', 'morning', 'everything', 'ass', 'able', 'dollar', 'kind', 'save', 'at', 'she', 'wear', 'nothing', 'open', 'amount', 'airbnb', 'fix', 'here', 'must', 'story', 'maybe', 'surveillance', 'restaurant', 'half', 'enough', 'raise', 'believe', 'far', 'location', 'idea', 'outside', 'there', 'deal', 'die', 'drunk', 'credit', 'least', 'black', 'accept', 'oh', 'different', 'uberinsupport', 'cut', 'game', 'payment', 'nice', 'sort', 'tweet', 'fact', 'all', 'ya', 'decide', 'stay', 'n', 'contractor', 'steal', 'bc', 'low', 'thread', 'line', 'UberINSupport', 'safe', 'face', 'respond', 'currently', 'patience', 'refuse', 'train', 'taxis', 'Messi', 'create', 'vehicle', 'mile', 'speak', 'probably', 'joncoopertweet', 'guess', 'travel', 'system', 'remember', 'later', 'page', 'user', 'million', 'Olacabs', 'rn', 'set', 'break', 'kid', '8', 'hello', 'wish', 'mobile', '6', 'of', '40', 'surge', '2021', 'hold', 'Driver', 'kill', 'model', 'true', 'mind', 'Ligue', 'wealthy', 'hit', '7', 'bro', 'sign', 'plan', 'bill', 'bank', 'meet', 'win', 'worth', 'ok', 'as', 'ola', 'either', 'vaccine', 'catch', 'full', 'yesterday', 'hotel', 'second', 'expect', 'with', 'include', 'bedroom', 'ur', 'head', 'resolve', 'else', 'suck', 'eye', 'forget', 'lt', 'gig', 'road', 'an', 'wonder', '23', 'top', 'doctorow', 'especially', 'damn', 'profit', 'listen', 'large', 'discount', 'stuff', 'family', 'pull', 'shoot', 'sound', 'state', 'destination', 'on', 'update', 'answer', 'force', 'connect', 'EATS', 'w', 'arrive', 'side', 'choose', 'hell', 'small', 'word', 'easy', '25', 'post', 'early', 'continue', 'schedule', 'crazy', 'increase', 'economy', 'then', 'lie', 'fan', '9', 'r', 'demand', 'girl', 'Taxi', 'Apple', 'return', 'fun', 'traffic', 'claim', 'cry', 'or', 'short', 'weird', 'lmao', 'honestly', 'Cup', 'record', 'store', 'matter', 'school', 'pizza', 'Drivers', 'some', 'stock', 'super', 'sometimes', 'note', 'dkhos', 'little', 'member', 'transport', 'within', 'anymore', 'kindly', 'enter', 'Deliveroo', 'apply', 'fair', 'review', 'info', 'US', 'ID', 'star', 'complain', 'billion', 'plus', 'due', 'voucher', 'Africa', 'DoorDash', 'tripletsfan19', 'babybondgirl', 'LisaTruthJohns', 'viericrespo', 'ZEYNAZERDA', 'LUISPER25731733', 'atmanifarid', 'heroldbarton', 'kevinandrewtod4', 'BabyGo2014', 'AutismNotEvery1', 'SafetyMentalst', 'CarlosD51140632', 'SteveGjesdal21', 'MaryHea72700273', 'TriciaMorrisADR', 'SathieGounden', 'patgrant7777', 'ThalaBeratung', 'monicaslove', 'CATHERENI', 'LudMarx1', 'TheLadyDyan', 'zapp12347', 'ramikantari', 'dunaisiaka', 'Princess3Rina', 'leebokseong6', 'Mert93D', 'duabusan', 'CarlosD67778059', 'theeddie24ful', 'michaelbathurst', 'spheelmodel', 'Thank', 'finally', 'screenshot', 'twice', 'absolutely', 'direct', 'gas', 'hot', 'act', 'step', 'past', 'Twitter', 'transportation', 'pandemic', 'flight', 'bike', 'hire', 'Bolt', 'exist', 'partner', 'street', 'extra', 'finance', 'base', 'Edward733', 'Jimmysimmonds1', 'sherrig108', 'enriquillo2', 'hughjas18', 'platform', 'level', 'huge', 'explain', 'folk', 'startup', 'online', 'London', 'wage', 'film', 'child', 'country', 'ready', 'behind', 'single', 'pls', 'unless', 'law', 'benefit', 'exactly', 'smell', 'covid', 'chance', 'after', 'August', 'beat', 'agree', 'hand', 'complete', 'Wewillrocku66', 'human', 'space', 'New', 'industry', 'these', 'near', 'build', 'driving', 'movie', 'very', 'partnership', 'dude', 'OFF', 'FIRST', 'per', 'type', 'realize', 'sense', 'worry', 'require', 'journey', 'SherylPrattERA', 'NYC', 'zero', 'protect', 'lady', 'write', 'control', 'learn', 'cause', 'competition', 'stand', 'fast', 'alone', 'nee', 'avoid', 'other', 'cuz', 'technology', 'stick', 'across', 'piss', 'anitamariaan', 'PolishRoyalGoat', 'sell', 'fly', 'fall', 'bitch', 'situation', 'notice', 'usually', 'consider', 'young', 'imagine', 'player', 'scam', 'private', 'form', 'future', 'seriously', 'People', '200', 'office', 'mom', 'license', 'wife', 'fire', 'together', 'gift', 'rest', 'delete', 'example', 'blame', 'boy', 'front', 'lunch', 'rating', 'Princess', 'a.m.', 'inside', 'laugh', '12', 'profitable', 'joke', 'investor', 'waste', 'confirm', 'sir', 'rise', 'dear', 'bolt', 'Car', 'cjnapoet', 'ManiarMuhammad', 'enjoy', 'afford', 'insurance', 'major', 'count', 'window', 'immediately', 'who', 'complaint', 'constantly', 'Will', 'town', 'center', 'safety', 'join', 'cover', 'certain', 'risk', 'financial', 'poor', 'fail', 'tomorrow', 'despite', 'entire', 'hospital', 'mine', 'Google', 'list', 'where', 'multiple', 'finish', 'till', 'fund', 'grocery', 'own', 'social', 'value', 'ridiculous', 'middle', 'vs', 'mistake', 'Nigeria', 'slow', 'okay', 'from', 'lack', 'transit', 'ppl', 'hungry', 'park', 'route', 'term', 'clear', 'Saturday', 'completely', 'rule', 'funny', 'treat', 'trust', 'Netflix', 'sad', 'fine', 'rent', 'carry', 'correct', 'Moove', 'goal', 'bout', 'straight', 'item', 'class', 'actual', 'mess', 'compare', 'doordash', 'shop', 'attention', 'income', 'terrible', 'picture', 'rip', 'total', 'original', 'ORDER', 'tonight', 'infrastructure', 'party', 'whatever', 'spot', 'up', 'murder', 'couple', 'India', 'brand', 'select', 'Partner', 'important', 'promise', 'investigate', 'amazing', 'policy', 'regular', 'seat', 'firm', 'rather', 'fight', 'normal', 'vaccinate', 'dog', 'personal', 'key', 'yo', 'dey', 'grab', 'parent', 'attempt', 'earning', 'anyway', 'UK', 'dream', 'out', 'daily', 'choice', 'background', 'power', 'because', 'dash', 'block', 'interest', 'wow', 'similar', 'conversation', 'light', 'alternative', 'self', 'baby', 'switch', 'our', 'wtf', 'music', 'talented', 'datum', 'group', 'sponsor', 'tryna', 'destroy', 'cancellation', 'double', 'ubereat', 'beyond', 'interesting', 'bag', 'solution', 'apparently', 'project', 'loss', 'sick', 'room', 'legal', 'click', 'article', 'however', 'ownership', 'its', 'station', 'crash', 'bullshit', 'promotion', 'truly', 'vaccination', 'lately', 'additional', 'privacy', 'simply', 'Lol', 'God', 'club', 'ticket', 'forward', 'quite', 'process', 'hu', 'somewhere', 'grow', 'lead', 'piece', 'false', 'excuse', 'by', 'tho', 'League', 'shot', 'news', 'course', 'staff', 'mention', 'solve', 'practice', 'target', 'god', 'dinner', 'wake', 'appointment', 'none', 'rain', 'hang', 'bit', 'decade', 'his', 'fit', 'standard', 'YouTube', 'feature', 'hundred', 'San', 'improve', 'stranger', 'internet', 'same', 'nobody', 'Tesla', 'Delivery', 'statement', 'track', 'm', 'figure', 'health', 'push', 'access', 'investment', 'invest', 'history', 'focus', 'amazonIN', 'song', 'AC', 'weekend', 'encourage', 'death', 'recently', 'white', 'Time', 'any', 'handle', 'version', 'tire', 'rideshare', 'medium', 'rental', 'buck', 'frustrating', 'debt', 'air', 'throw', 'priority', 'revenue', 'three', 'fault', 'bar', 'parking', 'strong', 'serious', 'basically', 'LosPollosTV', 'subscribe', 'while', 'forever', 'fear', 'government', 'cook', 'beautiful', 'everywhere', 'season', 'section', 'jump', 'advance', 'draw', 'attack', 'only', 'event', 'action', 'visit', 'camera', '2019', 'bet', 'pathetic', 'remove', 'potential', '70', 'challenge', 'cute', 'perfect', 'COVID', '1st', 'survive', '14', 'digital', 'Fuck', 'police', 'directly', 'roll', 'test', 'mf', 'hack', 'mad', 'coffee', 'extremely', 'expense', 'difference', 'supply', 'idk', 'file', 'blow', 'tf', 'dead', 'product', 'recent', 'pic', 'moment', 'launch', 'water', 'sleep', 'decision', 'hail', 'impossible', 'Police', 'specific', 'Man', 'assistance', 'foot', 'building', 'owner', 'trouble', 'simple', 'absolute', 'daughter', 'July', 'remind', 'reliable', 'Happy', 'boss', 'Facebook', 'lucky', 'accident', 'Kindly', 'society', 'criminal', 'ban', 'clean', 'flow', 'getsimpl', 'keepitsimpl', 'stream', 'replace', 'bother', 'favourite', 'clearly', 'earn', 'stupid', 'America', 'begin', 'Use', '11', 'deserve', 'tbh', 'suppose', 'age', 'female', 'LYFT', 'dumb', 'size', 'often', 'anywhere', 'amc', 'reduce', 'admit', 'comin', 'community', 'distance', 'Mr', 'their', 'A', 'main', 'her', 'auto', 'corporation', 'security', 'kitchen', 'nigga', 'Team', 'rude', 'fintech', 'World', 'evening', 'except', '500', 'California', 'quote', 'view', 'Miami', 'current', 'lift', 'b', 'Arin', 'Zack', 'decent', 'purchase', '60', 'student', 'Need', 'among', 'Free', 'prefer', 'horrible', 'shortage', 'labor', 'yellow', 'gap', 'cold', 'peak', '45', 'manage', 'Cool', 'sport', 'Chidinma', 'crime', 'episode', 'although', 'luck', 'gain', 'km', 'package', '2020', 'Check', 'round', 'McDonald', 'corporate', 'pickup', 'cross', 'favorite', 'energy', 'p.m.', 'quick', 'massive', 'unable', 'attach', 'burn', 'random', 'bunch', '2nd', 'fuel', 'Don', 'once', 'method', 'easily', 'unique', 'thru', 'notification', 'inconvenience', 'balance', 'regulation', 'arrival', 'reverse', 'ignore', '80', 'feedback', 'minimum', 'glad', 'e', 'whether', 'rice', 'depend', 'somebody', 'everybody', 'style', 'dad', 'Hope', 'Chicago', 'hurt', 'plane', 'lfishgirl67', 'laurenboebert', 'towards', 'Gopuff', 'marry', 'hop', 'trade', 'twitter', 'special', 'earlier', 'rely', 'capital', 'sale', 'map', 'red', 'son', 'spread', 'spending', 'busy', '18', 'App', 'husband', 'plz', 'FabrizioRomano', 'introduce', 'niggas', 'Read', 'contract', 'helpful', 'text', 'totally', 'discuss', 'takeaway', 'involve', 'smh', 'RT', 'Would', 'McDonalds', 'upon', 'cheat', 'Instacart', 'compete', 'best', 'reality', 'source', 'electric', 'trading', 'kick', 'likely', 'dangerous', 'cos', 'thought', 'buddy', 'pretend', 'myntra', 'Ubers', 'union', 'k', 'cabs', 'study', 'doctor', 'mostly', 'fraud', 'BBNaija', 'Toyota', 'con', 'somehow', 'birthday', 'heart', 'automate', 'field', 'vote', 'Airbnb', 'ahead', 'DC', 'fake', 'client', 'suddenly', 'Instagram', 'Sorry', 'illegal', 'accidentally', '90', 'News', 'fb', 'scare', 'awful', 'opportunity', 'trillion', 'damnitjim21', 'brownb1', 'BidensHair', 'victim', 'congestion', 'hustle', 'reward', 'Family', 'handcuff', 'Wait', 'dress', 'fr', 'lane', 'Sudirman', 'Oct', 'bridge', 'serve', 'Airport', 'manager', 'Gig', 'respect', 'Sir', '24', 'Australia', 'breakfast', 'successful', 'error', 'nearly', 'pricing', 'subsidize', 'freak', 'imma', 'left', 'former', 'English', 'ring', 'bed', 'Walmart', 'quit', 'Got', 'suggest', 'Eat', 'smart', 'M', 'wallet', 'Super', 'employer', 'search', 'virus', 'ill', 'shut', 'content', 'limited', 'highway', 'cat', 'Win', 'Flying', 'Dish', 'Kitchen', 'appear', 'ship', 'develop', 'welcome', 'lmfao', 'court', 'tough', 'summer', 'AskLyft', 'proud', 'scamme', 'result', 'otherwise', 'several', 'effect', 'na', 'decline', '3rd', 'resolution', 'chat', 'basis', 'prove', 'college', 'GOP', 'opinion', 'delay', 'Sunday', 'affect', 'pop', 'fully', 'proof', 'character', 'mother', 'lock', 'boom', 'direction', 'insane', 'relate', 'speed', 'Taxis', 'tired', 'struggle', 'final', 'disrupt', 'land', 'rock', 'playing', 'meanwhile', 'doom', 'selling', 'Europe', 'invent', 'proceed', 'box', 'scary', 'frustrate', 'voice', 'Aug', '17', 'professional', 'remote', 'thinking', 'agent', 'design', 'ad', 'Day', 'mobility', 'Canada', 'climate', 'comment', 'innovation', 'PSG', 'inform', 'wing', 'g', 'pool', 'green', 'actorvijay', 'fry', 'body', 'unsig', 'marketing', 'lockdown', 'West', 'suffer', 'WTF', 'discussion', 'immigrant', 'document', 'application', 'effort', 'NetflixIndia', 'shame', 'More', 'language', 'Kolkata', '22', 'shout', 'too', 'aapl', 'Thomas', 'Open', 'gold', 'understanding', 'R5000', 'FlyingDish', 'Yfm', 'FlyingFishSA', 'empty', 'c', 'Massachusetts', 'ceo', 'incident', 'negative', 'bonus', 'shift', 'lil', 'feed', 'both', 'sister', 'guarantee', 'af', 'necessary', 'intend', 'strange', 'rare', 'violent', 'Covid', 'fill', 'dirty', 'everyday', 'relationship', 'deactivate', 'LA', 'carbon', 'premium', 'LOL', 'cheese', 'checkr', 'obviously', 'afternoon', 'announce', 'expert', 'Hey', 'teacher', 'quickly', 'heavy', 'emergency', 'incentive', 'Ars', 'Technica', 'responsibility', 'truth', 'operate', 'barely', 'Good', 'over', 'limit', 'thehill', 'honest', 'position', 'measure', 'pocket', 'ensure', 'amazon', 'feeling', 'pm', 'longer', 'certainly', 'agency', 'bezzle', 'range', 'four', 'which', 'him', 'pack', '99', 'Tag', 'generally', 'hide', 'burger', 'present', 'pair', 'booking', 'associated', 'bicycle', 'assume', 'China', 'split', 'defend', 'modern', 'cent', 'evidence', 'truck', 'escalate', '2018', 'mark', 'whenever', 'legit', 'mid', 'science', 'inquiry', 'Sandy080886', 'race', 'mandatory', 'Disney', 'FUCK', 'singe', 'affordable', 'I', 'crap', 'screen', 'circle', 'AI', 'wild', 'before', 'boost', '1999', 'argue', 'WILL', 'nowhere', 'crypto', 'indian', 'hotstartweet', 'Suspect', 'TV', 'ghost', 'neither', 'Dash', 'global', 'scale', 'Starbucks', 'BBNaijaSeason6', 'owe', 'appeal', 'TSLA', 'ba', 'mental', 'Ts', 'Cs', 'FlowWithIt', 'bottle', 'brother', 'ten', 'download', 'NFT', 'mode', 'ballot', 'tiny', 'emission', 'dish', 'winner', 'EatWithIt', 'tag', 'fuckin', 'maintain', '35', 'anyways', 'board', 'director', 'excellent', 'drivers', 'radio', 'dis', 'ETH', 'Imagine', 'ice', 'threaten', 'WB', 'hero', 'asshole', 'ruin', 'aware', 'pin', 'hood', 'teach', 'Monday', 'are', 'border', 'sum', 'toxic', 'Atlanta', 'Jesus', 'generate', 'outta', 'wave', 'secure', 'Cab', 'Lmao', 'positive', 'Los', 'Today', 'accord', 'warn', 'hopefully', 'perhaps', 'wealth', 'studio', 'eventually', 'BA', 'creepy', 'gun', 'cell', 'research', '79', 'higher', 'lospollostv', 'Multifamily', 'surf', 'York', 'anybody', 'disgusting', 'apartment', 'GlamaWayne', 'consumer', 'Foreigners', 'thecannalyst', 'protest', 'Drizly', 'appropriate', 'network', 'curb', 'description', 'Business', 'recommend', '34', 'jack', 'Dara', 'Manchester', 'thousand', 'faster', 'squad', 'Group', 'Denmark', 'Horan', 'racist', 'remain', 'v', 'Francisco', 'narendramodi', 'quarter', 'asset', 'paper', 'official', 'tank', 'submit', 'pende', 'fleet', 'Should', 'comfort', 'Pizza', 'swear', '16', 'boyfriend', 'shake', 'Wednesday', 'transaction', 'average', 'odd', 'corner', 'awesome', 'Street', 'requirement', 'approve', 'invoice', 'tv', 'ease', 'Boss', 'anxiety', 'stress', 'independent', 'london', 'op', 'exploit', 'UberUKsupport', 'chicken', '2009', 'shoe', 'Tech', 'AMD', 'uberuksupport', 'attitude', 'cap', 'title', 'log', 'behavior', 'idiot', 'off', 'rob', 'commit', 'unfortunately', 'nonsense', 'abuse', '2015', 'Americans', 'capitalism', 'lobby', 'Grab', 'cream', 'lazy', 'Employee', 'mate', 'van', 'EBITDA', 'South', 'those', 'majority', 'House', 'trophy', 'beg', 'vaccinated', 'interested', 'copy', 'pressure', 'disabled', 'logic', 'confuse', 'labour', 'working', '13', 'Friday', 'vibe', 'trend', 'expand', 'alle', 'monitor', 'protection', 'hair', 'male', 'heat', 'x', 'variant', 'efficient', 'useless', 'opposite', 'convince', 'willing', 'whilst', 'regardless', 'Florida', 'trap', 'bloody', 'SQ', 'art', 'crowd', 'Hindi', 'smoke', 'Phone', 'finger', 'wit', 'evil', 'Girl', 'sweet', 'angry', 'prepare', 'Bitcoin', 'exact', 'Vegas', 'starve', 'nah', 'war', 'again', 'normally', 'John', 'harass', 'ConceptualJames', 'incredibly', 'City', 'fresh', 'excited', 'adjust', 'quality', 'apple', 'financing', 'migrant', 'Mexico', 'downtown', 'active', 'recovery', 'humanity', 'RobinhoodApp', 'SteveHubert8', 'casual', 'FTC', 'French', 'reveal', 'Links', 'exciting', 'strand', 'five', '1000', 'highly', 'Ride', 'release', 'accounting', 'IPO', 'omg', 'usual', 'ChrisExcel102', 'army', 'purpose', 'patient', 'invite', 'Most', 'anytime', 'Lagos', 'spam', 'photo', 'image', 'Technologies', 'messi', 'authority', 'trash', 'operator', 'Via', 'score', 'career', 'concerned', 'advice', 'executive', 'Beast', 'Omg', 'judge', 'CBD', 'leg', 'celebrate', 'deep', 'Avenue', 'receipt', 'taste', 'honor', 'Star', 'Doordash', 'May', 'data', 'shower', 'effective', 'CAN', 'Technology', 'de', 'Enjoy', 'medallion', 'condition', 'generation', 'political', 'properly', 'integrate', 'deny', 'bottom', 'table', 'reminder', '2017', 'Samsung', '2004', 'profitability', 'chip', 'psg', 'flag', 'tool', 'menu', 'row', 'english', 'rush', 'period', 'initiative', 'press', 'culture', 'ability', 'loyal', 'caught', 'redeemable', 'discord', 'La', 'Snyder', 'shopping', 'PLEASE', 'LMAO', 'previous', 'secret', 'alcohol', 'essential', 'plate', 'communication', 'Contractor', 'Video', 'Homes', '48', 'campaign', 'Black', 'dick', 'Valley', 'plenty', 'core', 'gate', 'ear', 'resident', 'milk', 'mcd', 'blue', 'wide', 'refer', 'era', 'net', 'Ben', 'coworker', 'consent', 'status', 'instant', 'contain', 'dark', 'organization', 'meeting', 'proper', 'Damn', 'PT', 'Lend', 'bathroom', 'skip', 'Batman', 'damage', 'program', 'accessible', 'portion', 'boat', 'careful', 'bear', 'bruh', 'charger', 'hardly', 'aim', 'reimburse', '75', 'site', 'convenience', 'convenient', 'btw', 'mix', 'illegally', 'sauce', 'guest', 'sex', 'planet', 'theme', 'responsible', 'sotahanaagirl', 'bullish', 'nap', 'adult', 'estimate', 'non', 'Boston', 'ah', 'north', 'loud', 'universe', 'USA', 'ZezeMillz', 'irfansquare', 'animal', 'contribute', 'homeless', 'TfL', 'Shit', 'Texas', 'Crypto', 'disappear', 'scream', 'association', 'flat', 'AR', 'beer', 'violation', 'fantasy', 'waiting', 'metric', 'pussy', 'Charging', 'ROKU', 'Residents', 'debit', 'TheRideshareGuy', 'HammanShares', 'informacionPSG', 'magic', 'coupon', 'ex', 'elite', 'Neymar', 'Mbappe', 'operation', 'saudi', 'urstrulymahesh', 'substitute', 'channel', 'insult', 'farmer', 'dozen', 'concept', 'England', 'badly', 'alternatively', 'sustainable', 'urban', 'analysis', 'Paris', 'loan', '21', 'Road', 'Scotland', 'website', 'offline', 'making', 'property', 'difficult', 'christian', 'rides', 'apps', 'merchant', 'Big', 'prop', 'sober', 'Ireland', 'suggestion', 'tear', 'convo', 'argument', 'wise', 'moove', 'hoe', 'Someone', 'robber', 'Hi', 'management', 'load', 'North', 'wonderful', 'artist', 'flip', 'Joe', 'prior', 'mum', 'Bro', '2016', 'hook', 'Lord', 'NY', 'Jack', 'asleep', 'officially', 'complex', 'regulator', 'found', 'IBM', 'Intel', 'Zoom', 'coz', 'screw', 'Same', 'slave', 'mood', 'Women', 'overall', 'alert', 'prevent', 'install', 'battle', 'Qatar', 'pro', 'Microsoft', '1984', '2011', 'follower', 'exploitation', 'garage', 'meaning', 'nflx', 'wmt', 'popup', 'Wings', 'kota', 'Ram', 'da', 'scooter', 'Chris', 'popular', 'pleasure', 'bf', 'Cardano', 'Pass', 'grateful', 'sentence', 'hijack', 'scandal', 'nytime', 'CEO', '2005', 'about', 'got', 'forth', 'upset', 'bhash', 'fat', 'bubble', 'daddy', 'foreign', 'surprise', 'throughout', 'la', 'leader', 'breakdown', 'disable', 'UberUK', 'cup', 'edit', 'Bedrooms', 'greed', 'yr', 'lesson', 'ADA', 'Na', 'appearance', 'instantly', 'obvious', 'assign', 'Me', 'swing', 'loser', 'economic', 'selfie', 'checkout', 'individual', 'national', 'possibility', 'vision', 'drag', 'flower', 'shareholder', 'smile', 'bid', 'LAX', 'Station', 'republican', 'Cuomo', 'yell', 'central', 'enhance', 'host', 'Series', 'banking', 'taco', 'riyal', 'american', 'strike', 'venture', 'holder', 'Lyfts', 'reject', 'investigation', 'crush', 'worship', 'deploy', 'funding', 'huh', 'Bill', 'knowledge', 'computer', 'commission', 'dispatch', 'spare', 'Justice', 'shitty', 'sue', 'backseat', 'knock', 'behaviour', 'lovely', 'sq', 'drug', 'meter', 'urge', 'Fox', 'confident', 'kidnap', 's', 'pre', 'Zero', 'gym', 'White', 'rocket', 'hunt', 'wheel', '0', 'billionaire', 'everytime', 'FB', '5kaydabratt', 'shocking', 'sunday', 'Hate', 'maintenance', 'March', 'Support', 'dispute', 'trump', 'gay', 'healthy', 'IRS', 'BBC', 'Trump', 'ideal', 'blood', 'CashApp', 'separate', 'FedEx', 'joncoopertweets', 'transfer', 'crib', 'f', 'RCL', 'capture', 'match', 'regulate', 'cop', 'shuttle', 'calorie', 'bendsoundwave', 'pregnant', 'failure', 'losersinuber', 'philly', 'suspend', 'basic', 'Door', 'fvckrender', 'ms', 'cringe', 'DaniRabaiotti', '300k', 'Pro', 'verify', 'Electric', 'pet', 'housing', 'SNAP', 'jpm', 'signal', 'bipartisan', 'nft', 'utilize', 'clue', 'LozzaFox', 'Barlowe500', 'Curb', 'amzn', 'UNSAFEUBER', 'charliemiller87', 'quest', 'confidence', 'handsome', 'Valimai', 'AjithKumar', 'doubt', 'Barcelona', 'King', 'insist', 'grift', 'am', 'AmericanAir', 'Stylish', 'acknowledge', 'Khosrowshahi', 'implement', 'chrisexcel102', 'freefood', 'distraction', 'harder', 'utter', 'freedom', 'healthcare', 'signing', 'NazneenTowhid', 'ram', 'panic', 'Asda', 'hostile', 'aesthetic', 'Ave', 'education', 'guard', 'unit', 'D', 'chinese', 'France', 'Egypt', 'County', 'pitch', 'whoever', 'dominate', 'nigerian', 'oil', 'efficiency', 'achieve', 'debate', 'smash', 'influence', 'toilet', 'rat', 'Finance', 'wreck', '250', 'ac', 'yrs', 'BS', 'profile', 'region', 'hr', 'troll', 'allegedly', 'armed', 'haha', 'alongside', 'sandwich', 'greatly', 'calm', 'collection', 'spirit', 'Washington', 'activate', 'millennial', 'Cory', 'greet', 'Dr', 'Tuesday', 'deprive', 'deliveroo', 'Mum', 'humantransit', 'VC', 'traditional', 'excess', 'shirt', 'hug', 'repeat', 'occur', 'Food', 'eBay', 'SpaceX', 'unlike', 'flash', 'oyoroom', 'capacity', 'pain', 'celebrity', 'COVID19', 'besides', 'band', 'success', 'sadly', 'such', 'viral', 'privilege', 'senior', 'conduct', 'Yellow', 'trick', 'opt', 'pour', 'volume', 'cooking', '2008', 'Professional', 'discover', 'AMZN', 'crm', 'cmg', 'gm', 'bac', 'btc', 'demise', 'eatwithit', 'loop', 'nicely', 'weekly', 'salary', 'frustration', 'Dude', 'performance', 'function', 'careem', 'marketplace', 'James', 'Travis', 'Kalanick', 'sexual', 'harassment', 'twin', 'describe', 'WD', 'WTFF', 'replied', 'whereas', 'norm', 'goat', 'joss', 'pace', 'transition', 'podcast', 'F', 'absurd', 'inna', 'valuation', 'friendly', 'October', 'trailer', 'Silicon', 'whip', 'annoying', 'l', 'letter', 'approach', 'founder', 'ambulance', 'closed', 'groove', 'UnicornWolfLAZR', 'Transportation', 'soo', 'duper', 'domestic', 'Climate', 'Marvel', 'talent', 'surely', 'notify', 'AppFraud', 'Promo', 'spce', 'commute', 'annoy', 'chart', 'al', 'govt', 'No', 'ev', 'til', 'breach', 'unlimited', 'uberdriver', 'Court', 'wid', 'existence', 'broke', 'MayorofLondon', 'weather', 'ethic', 'blind', 'TikTok', 'Cubans', 'havanase', 'nostalgia', 'starbuck', 'reactivate', 'monthly', 'East', 'unemployment', 'incredible', 'TAXI', 'troye', 'robbing', 'SAPoliceService', 'trafficrtmc', 'JoburgMPD', 'ccin', 'timely', 'Appreciate', 'series', 'Home', 'bye', 'gaming', 'def', 'assault', 'Didi', 'Data', 'storm', 'Air', 'rage', 'sensitive', 'intentionally', 'lean', 'et', 'commercial', 'highlight', 'threat', 'outstanding', 'bastard', 'more', 'dem', 'petrol', 'impact', 'Findom', 'stomach', 'elonmusk', 'general', 'writer', 'premise', 'interview', 'politic', '150', 'ridiculously', 'Angeles', 'prank', 'button', 'nose', 'Hell', 'specially', 'significant', 'Mom', 'bowl', 'downstairs', 'clock', 'restrict', 'XL', 'ke', 'pure', 'climb', 'liberal', 'boot', 'availability', 'Seattle', 'strip', 'spray', 'y', 'Daily', 'apart', 'hmm', 'Park', 'estate', 'GE', 'glass', 'giant', 'inflation', 'Life', 'Order', 'clinic', 'express', 'MarshaBlackburn', 'deepakcnw', 'wet', 'surcharge', 'role', 'cabby', 'Airlines', 'degree', 'senator', 'stadium', 'elderly', '911', 'shape', 'casino', 'los', 'rosettastone', 'cashier', 'Hub', 'nurse', 'edge', 'yep', 'tone', 'chill', 'Yeah', 'tacobell', 'vici', 'nerd', 'ball', 'tab', '19', 'starbucks', 'UPS', 'stage', 'cococole', 'menus', 'David', 'growth', 'clutch', 'investing', 'bell', 'hurry', 'Lee1969Ward', 'attractive', 'russian', 'nation', 'unfair', 'Service', 'racial', 'runner', 'tap', 'explanation', 'incompetent', 'pharma', 'Dallas', 'Rockies', 'provision', 'onto', 'helicopter', 'constant', 'Journal', 'garbage', 'offset', 'George', 'Liga', 'Better', 'Stock', 'crimeairnetwork', 'tfltph', 'BAC', 'DeeXrocket', 'USO', 'TLRY', 'saving', 'gang', 'wheelchair', 'instruct', 'Biden', 'Brooklyn', 'SportemonGO', 'amusement', 'tender', 'gambling', 'SGO', 'TICKER', 'AMOUNT', 'ShieldVoC', 'uckema', 'employment', 'election', 'Grubhub', 'nightmare', 'X', 'cs', 'nowadays', 'aal', 'msft', 'eliminate', 'ko', 'BradWaller', 'BABA', 'european', 'Gmail', 'cyberrobort', 'kr', 'bless', 'Orunmumipe', 'qatari', 'Prashan32439454', 'rameshjoshi80', 'Information', 'Hyderabad', 'combine', 'Zomato', 'eliotwb', 'forest', 'vacation', 'exercise', 'apology', 'Box', 'Superstar', 'color', 'temporary', 'crack', 'initiate', 'subway', 'resign', 'wherever', 'south', 'african', 'champion', 'ThalaAjith', 'bug', 'logical', 'CODE', 'Cornwall', 'snap', 'Absolute', 'UCL', 'Tony', 'Ferguson', 'referral', 'brain', 'template', 'rear', 'chant', 'Tax', 'Careem', 'monopoly', 'Stage', 'pray', 'Harry', 'advanced', 'medical', 'query', 'Hindu', 'sight', 'times', 'chocolate', 'Indonesia', 'Malaysia', 'register', 'advantage', 'earth', 'personally', 'ugly', 'unaware', 'discountcode', 'overseas', 'disability', 'pension', 'leverage', 'mummy', 'Company', 'Ronaldo', 'Brest', 'cult', 'alot', 'corrupt', 'Public', 'unacceptable', 'conclusion', 'specifically', 'applicable', 'india', 'alive', 'Bless', 'Johannesburg', 'citizen', 'courier', 'Green', 'sooner', 'ft', 'swervos1', 'development', 'rescue', 'Health', 'Malta', 'hailing', 'Smh', 'ie', 'Lori', 'collapse', 'Follow', 'punch', 'brilliant', 'Scam', 'intentional', 'autonomous', 'None', 'reflect', 'venue', 'centre', 'uh', 'weak', 'six', 'Nah', 'wednesdaythought', 'coal', 'Private', 'deposit', 'WeWork', 'friendship', 'vegan', 'delicious', 'chef', 'dessert', 'moan', 'journalist', 'mistakenly', 'MyNykaa', 'tale', 'lightning', 'enforce', 'divert', 'Labour', 'meetgoogle', 'sharmarekha', 'smritiirani', 'swatijaihind', 'innocent', '4th', 'entrepreneur', 'KPL21', 'poorly', 'Prop', 'girlfriend', 'margin', 'Hubert', 'circumstance', 'provider', '26', 're', 'Alibaba', 'pile', 'stat', 'web', 'entirely', 'disruption', 'scientist', 'Waiter', 'cultural', 'BTC', 'MSFT', 'JPM', 'AMC', 'eth', 'strength', 'Badminton', 'Olympic', 'presentation', 'Avengers', 'accountability', 'NEVER', 'tie', 'Link', 'consequence', 'technical', 'deaf', 'training', 'roof', 'Dad', 'High', 'classy', 'Anna', 'utility', 'C', 'SF', '2010', 'Whedon', 'WSJ', 'fatality', 'lifestyle', 'propaganda', 'narrative', 'machine', 'french', 'Games', 'evade', 'progress', 'bang', 'common', '2007', 'Swiggy', 'mechanic', 'crew', 'replacement', 'saweetie', 'cam', 'Whitemoney', 'international', 'hence', 'rarely', 'lmaooo', 'liga', 'salad', 'suitcase', 'q', 'ferry', 'athletic', 'slash', 'pill', 'scene', 'Dm', 'boycott', 'department', 'bust', 'ground', 'Love', 'Yep', 'cinema', 'POV', 'perfectly', 'recover', 'grown', 'SA', 'licence', 'monster', 'excite', 'United', '65', 'tesla', 'Club', 'horse', 'unprofessional', 'pfe', 'StocksToBuy', 'theory', 'mileage', 'root', 'distract', 'gear', 'sector', 'competitor', 'gon', 'Drive', 'critical', 'Reason', 'ab', 'Karen', 'State', 'itsshabs', 'regional', 'Hahaha', 'escape', 'eats', 'KheloAazadiSe', 'exploitative', 'rid', 'comfortable', 'plug', 'necessarily', 'nftart', 'JL', 'Gunn', 'NEW', 'cuck', 'dry', 'asl', 'PUTS', 'decrease', 'bird', 'Call', 'ditch', 'crisis', 'President', 'FREE', 'nowplaying', 'des3ett', 'Giacomo', 'cristian', 'verde', 'theft', 'nominate', '800', 'minicab', 'recruit', 'Wall', 'enemy', 'dislike', 'contacted', 'skill', 'hai', 'UR', 'motorcycle', 'purposely', 'operating', 'percentage', 'Queens', 'athlete', 'disrespect', 'loveinaction', 'telethon', 'airing', 'Connect', 'cnr', 'engaged', 'thick', 'Samantha', 'haaaaaaaave', 'olacab', '300', 'Patty', 'production', 'aside', 'pattern', 'Lift', 'suicide', '68', 'regret', 'Idk', 'overcharge', 'domino', 'netflix', 'dump', 'mandate', 'ubereats', 'charging', 'Job', '1500', 'Doctorow', 'communicate', 'deactivated', 'initially', 'warm', 'useful', 'continuously', 'retweet', 'playlist', 'paypig', 'mission', 'Harley', 'violate', 'bucket', 'trigger', 'lax', 'duck', 'pump', 'actor', 'east', 'Ppl', 'campus', 'Toronto', 'importantly', 'cart', 'Postmates', 'pharmacy', 'villain', 'vax', 'vaxxe', 'battery', 'Sam', 'SMASH', 'moron', 'devil', 'technically', 'Bob', 'urgent', 'silent', 'officer', 'strongly', 'tutorial', 'educate', 'habit', 'explode', 'automatically', 'naked', 'smelly', 'realise', 'hospitalize', 'interior', 'cigarette', 'mass', 'prime', 'movement', 'fairly', 'snack', 'oppose', 'postmate', 'polite', 'guideline', 'SenTedCruz', 'desperate', 'maccie', 'Innovation', 'pee', 'passive', 'hill', 'polishroyalgoat', 'each', 'Teleperformance', 'engineer', 'calculate', 'sooo', 'fraudulent', 'le', 'investigative', 'speech', 'weight', 'wine', 'survival', 'horrendous', 'tend', 'demonstrate', 'ff', 'mouth', 'Nikki', 'weigh', 'Avis', 'gather', 'retire', 'Reminds', 'Chitty', 'Bang', 'alarm', 'reporter', 'brake', 'amongst', 'nail', 'Mercedes', 'kiss', 'Wtf', 'obsess', 'pedestrian', 'IRSsmallbiz', 'raid', 'thankfully', 'suburban', '50k', 'sun', 'temp', 'Missouri', 'Dems', 'Senate', 'thus', 'dramatically', 'lower', 'addition', 'blockchain', 'Brown', 'Stadium', 'outcome', 'conservative', 'CNN', 'Jersey', 'Head', 'federal', 'phillyd', 'category', 'ionodditie', 'afraid', 'sexually', 'anitamariaAn', 'weed', 'CityofStJohns', 'Rock', 'stone', 'AqueleDuduAli', 'festival', 'LWRPWR', 'Antonio', 'expire', 'engagement', 'identity', 'FC', 'gross', 'airline', '400', 'fridge', 'JFK', 'EV', 'awkward', 'exchange', 'bare', 'Mine', 'vulnerable', '80k', 'AYRO', 'LB', 'GPK', 'YNDX', 'CCL', 'PSTH', 'MAR', 'NNDM', 'OPTT', 'SUNW', 'OEG', 'POLA', 'cryptomarket', 'robot', 'surprised', 'sha', 'unregulated', 'Matt', 'biz', 'shelf', 'shoutout', 'scenario', 'SerenThomasTS', 'represent', 'mall', 'Prius', 'Stocks', 'cloud', 'silence', 'Manhattan', 'il', 'neck', 'disappointed', 'sudden', 'arrest', 'Knightmare', 'av', 'esp', 'spoil', 'dope', 'orange', 'trek', 'pant', 'creative', 'chaz763', 'a.m', '.', 'atm', 'deactivation', 'cashapp', 'cure', 'collect', 'queen', 'troski', 'unvaccinated', 'Vladimir', 'spill', 'bs', 'Security', 'WestchesterMed', 'opening', 'DJ', 'First', 'tow', 'ronfunche', 'bankruptcy', 'ha', 'MichaelDorka', 'KenGardner11', 'Government', 'bribe', 'WAY', 'moon', 'teleperformance', 'publicly', 'donate', 'Independent', 'NIO', 'winter', 'Bundesliga', 'Store', 'Republicans', 'tmpdsafety', 'max', 'reservation', 'spawn', 'MU', 'jnug', 'SPX', 'DJIA', 'BYND', 'NVAX', 'xom', 'paypal', 'pasta', 'TfLTPH', 'Corolla', 'unsafe', 'Cameron', 'feminist', 'Direct', 'Could', 'sharing', 'kfc', 'sports', 'scum', 'fundamental', 'GrubHub', 'scheme', 'magusnikola', 'Holy', 'UberFacts', 'yea', 'TechCrunch', 'messaging', 'Tega', 'accuse', 'DMed', 'falsely', 'wey', 'Sold', 'whose', 'VISA', 'babe', 'scarce', 'cho', 'helpless', 'Must', 'aid', 'expose', 'exempt', 'buying', 'June', 'repair', 'proposition', 'possibly', 'smoothie', 'SPY', 'AAPL', 'avail', 'yusuffa42342473', 'quiet', 'Software', 'permanently', 'phd', 'EWRairport', 'maker', 'most', 'aertemisha', 'Nyoxxik', 'TaliesinEvitel', 'repayment', 'bhc', 'ge', 'brk', 'tst', 'qsr', 'hlf', 'shak', 'gs', 'mrk', 'iep', 'dal', 'ual', 'mnst', 'gme', 'cactus961', '200k', 'chibikimisb', 'tablet', 'missmcdni', 'snifftheraven', 'skate', 'midnight', 'INO', 'OXY', 'Suezar', 'irrelevant', 'probe', 'THALA', 'ajith', 'king', 'bull', 'bitcoin', 'extension', 'Great', 'cc', 'physical', 'cruise', 'intention', 'royal', 'stable', 'regulated', 'Danny', 'Boi', 'Chakrasidh', 'inauguration', 'upside', 'bob', 'opposition', 'faith', 'bold', 'perform', 'broadcasting', 'reimbursement', 'Norfolk', 'Northumberland', 'Nottinghamshire', 'Oxfordshire', 'Rutland', 'Shropshire', 'Somerset', 'Staffordshire', 'Massive', 'celebration', 'Thala', 'bore', 'principle', 'crawl', 'nut', 'kebab', 'gesture', 'turnover', 'Cambridgeshire', 'Cheshire', 'Cumbria', 'Derbyshire', 'Devon', 'Dorset', 'Durham', 'Yorkshire', 'Sussex', 'Essex', 'Gloucestershire', 'bday', 'stylish', 'promote', 'uk', 'BONUS', 'mcdonald', 'incrementalism', 'resilient', 'shiny', 'paste', 'Modi', 'justify', 'Spotify', 'Brexit', 'Sep', 'Aarhus', 'publish', 'Alex', 'Ramos', 'Mall', 'Potter', 'MessiPSG', 'Thx', 'Tesco', 'bbq', 'tactic', 'clash', 'notch', 'Know', 'SeethaRAMaRajuCHARAN', 'few', 'Lemur', 'turtle', 'packing', 'retail', 'them', 'fingerprint', 'Pot', 'Taipei', 'Germany', 'preferred', 'horrific', 'representative', 'worthless', 'ligue', 'monitoring', 'sweat', 'fitting', 'fate', 'enable', 'employ', 'Urban', 'Flipkart', 'basket', 'cus', 'GOAT', 'duress', 'un', 'Safety', 'First7Jobs', 'Senior', 'partly', 'inevitable', 'fraudulently', 'Roaches', 'football', 'KFC', 'curious', 'impend', 'Master', 'veteran', 'goodness', 'Working', 'Fowler', 'bee', 'congrat', 'ocean', 'chaos', 'contemplate', 'Misha', 'pride', 'destruction', 'Morgan', 'Stanley', 'Walt', 'vixen', 'Accident', 'Burger', 'deduct', 'LMAOOO', 'BrentToderian', 'sandy080886', 'Rick', 'baggage', 'Make', 'Customers', 'Tf', 'hub', 'nat', 'sherylprattera', 'prospect', 'zomato', 'meat', 'stab', 'tier', 'OG', 'ultimate', 'Pls', 'Rider', 'MORE', 'WednesdayMotivation', 'Wednesdayvibe', 'gentleman', 'Download', 'Capital', 'morthindia', 'psychological', 'Yahoo', 'T', 'Reddit', 'Slack', 'Stripe', 'selective', 'cricket', 'unjust', 'yummy', 'paymnt', 'londonlunch', 'leadership', 'leap', 'Cramer', 'Report', 'misclassification', 'urgency', 'Ugh', 'Bangalore', 'display', 'robbery', 'pmoindia', 'covid19', 'depress', 'Chicken', 'Pickup', 'evolve', 'molestation', 'ongoing', 'master', 'establish', 'vex', 'mondaythought', 'regulatory', 'thalapathy', 'seo', 'politically', 'uni', 'domain', 'partial', 'sushi', 'FutbolFax', '1865', 'Nokia', '1876', 'Ericsson', '1911', '1928', 'Motorola', '1938', '1946', 'Sony', '1968', '1975', '1976', 'Dell', 'Cisco', '1994', '1997', '1998', 'Salesforce', '2006', '2012', 'coinbase', 'BBNajia', 'pony', 'TechNews', 'footballscominghome', 'nvm', '122', 'starter', 'NFLX', 'tgt', 'intelligence', 'Surrey', 'Warwickshire', 'Wales', 'Cardiff', 'SaturdayMorning', 'Masters', 'assemble', 'Kent', 'deliberately', 'Squad', 'Medal', 'disaster', 'vc', 'Delhi', '15th', 'SaturdayMotivation', 'Tom', 'IG', 'Diego', 'broken', 'Quality', 'pongal', 'gala', 'subscription', 'jam', 'BajrangPunia', 'Men', 'chase', 'alright', 'justice', 'weapon', 'End', 'verification', 'happiness', 'Championships', 'Asian', 'all100senator', 'hardworke', 'crumb', 'relevant', 'JerryMu11944843', 'sweetheart', 'dose', 'BunnyPunia', 'Paytm', 'KeepItSimpl', 'environment', 'coke', 'Liverpool', 'residence', 'cite', 'means', 'correctly', 'subsidise', 'aranganathan72', 'taking', '2014', 'raman', 'Maria', 'loyalty', 'predatory', 'She', 'setting', 'sharp', 'payout', 'Late', 'Lmaooo', '2013', 'wan', 'Wheadon', 'litre', 'transpo', 'Story', 'DASH', '21st', 'Gulf', 'Harbour', 'Recap', 'trigonis30', 'stretch', 'bounce', 'animation', 'solid', 'Update', 'unhelpful', 'cashback', 'wagon', 'buzz', 'division', 'cybersecurity', 'communal', 'Johns', 'Nobody', 'talente', 'undermine', 'until', 'hrs', 'recognize', 'Portland', 'cast', 'Dey', 'utterly', 'Mumbai', 'Coffee', 'sweep', 'nio', 'slip', 'Robinhood', 'jail', 'topic', 'gender', 'religion', 'zion781', 'slightly', 'fish', 'selection', 'Injustice', 'Fraud', 'Commerce', 'khanumarfa', 'bind', 'reserve', 'airtime', 'Joseph', '3x', 'upfront', 'texte', 'slap', 'excessive', 'headphone', 'vomit', 'Music', 'praise', 'aka', 'colleague', 'Khan', 'Geoff', 'latte', 'brag', 'Visa', '2040', 'theclimatepledge', 'ChallengeAccepted', 'patty', 'mining', 'College', 'Hiring', '100daysofcode', 'hung', 'grain', 'wedding', 'UberClone', 'subsidised', 'UberSoc', 'beef', 'soda', 'Java', 'findom', 'CALLS', 'Scale', 'semester', 'Center', 'Walsh', 'Glad', 'K', 'upload', 'Code', '2030', 'clip', 'Minicab', 'AddisonLee', 'Transfers', 'ama', 'Supreme', 'holiday', 'Pool', 'trace', 'deliberate', 'countless', 'soup', 'fav', 'bundle', 'empire', 'organize', 'CS', 'naa', 'Btw', 'permit', 'Mark', 'Union', 'newsletter', 'strategy', 'ethereum', 'blank', 'collab', 'dance', 'eaten', 'Yup', 'congratulation', 'practical', 'civic', 'Governor', 'TheSilverPlague', 'NPR', 'gf', 'Bayern', 'successfully', 'medicine', 'Miss', 'anger', 'honk', 'west', 'Capitalism', 'gov', 'fiscal', 'significantly', 'consistently', 'recap', 'floor', 'LGBT', 'outfit', 'engage', 'scalable', 'DRIVER', 'saves', 'STR', 'JOBURG', 'GP', 'perp', 'SMASHED', 'PERP', 'LEG', 'HAND', 'recipe', 'railway', 'bully', 'vet', 'slide', 'packet', 'cryptocurrency', 'FoxNews', 'SkyNews', '130', 'BLOOMBERG', 'jblefevre60', 'Nicochan33', 'kalydeoo', 'CurieuxExplorer', 'NeiraOsci', 'BetaMoroney', 'ChrisGGarrod', 'nearby', 'scammer', 'desire', 'cake', 'December', 'capitalist', 'spit', 'powerful', 'empower', 'pivot', 'pursue', 'Stan', 'TAM', 'enormous', 'ramp', 'kaitlynyang', 'certificate', 'imply', 'IDEX', 'PMOIndia', 'ArvindKejriwal', 'Shame', 'bias', 'involved', 'nope', 'Buy', 'Old', 'payback', 'punk', 'delta', 'PM', 'ruling', 'rozekris', 'Ice', 'segment', 'leak', 'tyre', 'mirror', 'accomplish', 'Partners', 'suffering', 'sequel', 'holy', 'Save', 'mattress', 'context', 'nugget', 'b4', 'metro', 'rack', 'hat', 'Omm', 'globally', 'designate', 'skyrocket', 'bestie', 'natural', 'equal', 'interaction', 'react', 'pointless', 'flirt', 'learning', 'confusion', 'pub', 'DeFi', 'stressful', 'malpani', 'resource', 'dip', 'RealCandaceO', 'latter', 'lem', 'Alles', 'district', 'hole', 'Hollywood', 'ultimately', 'tutor', 'grind', 'memory', 'Romania', 'gofundme', 'Rachel', 'R50', 'blog', 'countdown', 'drawing', 'LEAGUE', 'watchlist', '29', 'breakthrough', 'defense', 'CB', 'grade', 'digit', 'st', 'smoking', 'whisper', 'badsynthesis', 'horror', 'American', 'Jason', 'gosh', 'trucking', 'sack', 'Meet', 'clarify', 'Social', 'Guys', 'chap', 'oxygen', 'severe', 'Austin', 'acct', 'reasonable', 'Ohio', 'Kentucky', 'burst', 'eh', 'd', 'condemn', 'incentivize', 'co', 'hellomilkbasket', 'Y', 'acceptable', 'bass', 'fam', 'prompt', 'tricky', 'informed', 'S', 'instruction', 'roy', 'tim', '9th', 'AdamLambert', 'KTLA5news', 'exhaust', 'assure', 'Eeeszy', 'consume', 'ton', 'WOW', 'TWEETER', 'FOLLOW', 'ANOTHER', 'SPREAD', 'guzzler', 'clap', 'SenatorHagerty', 'CheckR', 'comprehensive', 'quid', 'MAGA', 'factor', 'logosaeto', 'activity', 'imaginary', 'freeze', 'competitive', 'MJ', 'Football', 'Summer', 'ruler', 'Grand', 'Museum', 'September', 'chain', 'tdechant', 't', 'trader', 'commentary', 'dunno', 'FYI', 'RachelNotley', 'famous', 'bait', 'math', 'favour', 'reorder', 'roommate', 'ala', 'Mail', 'conspiracy', 'bum', 'boob', 'revolution', 'OlaElectric', 'funding4familes', 'ErnstRoets', '2000', 'GPS', 'handy', 'libertarian', 'portfolio', 'Let', 'Total', 'giftcard', 'CEOAdam', 'PayPal', 'audi', 'through', 'beast', 'payor', 'dodge', 'usd', 'Spirit', '2022', 'jpgardner', 'Bears', 'antivaxxer', 'guise', 'cnft', 'CardanoCommunity', '1k', 'recommendation', 'registration', 'Georgia', 'facility', 'Calling', 'RdogEU', 'HukHukFNBR', 'buff', 'guilt', 'Charlie', 'relative', 'Sigh', 'Dean', 'Martin', 'religious', 'JasonIsbell', 'Oh', 'sarcasm', 'shieldvoc', '42', 'Democrats', 'nightclub', '8th', 'shave', 'Remember', 'slot', 'USPS', 'consideration', 'Metal', 'spin', 'gallon', 'intelligent', 'fart', 'DefenderRadio', 'Tower', 'opponent', 'rlly', 'otw', 'undercut', 'CA', 'Area', 'davewhitty', 'Something', 'MetrobusTransit', 'GeorgeStLive', 'joined', 'easier', 'bros', 'loose', 'population', 'DjiTubz', 'hefty', 'missing', 'jspotila', 'transparency', 'gogetit', 'Hawaii', 'ordering', 'Denver', 'arrange', 'cig', 'soooo', 'SadiqKhan', 'metpoliceuk', 'desk', 'bud', 'Joby', 'compliment', 'closing', 'jimmyfallon', 'edition', 'addawordruinabook', 'sing', 'walking', 'Water', 'slowly', 'twitt', 'Maggie', 'saturday', 'harm', 'rep', 'creator', 'Reagan', 'wicked', 'playin', 'indeed', 'Freight', 'AAA', 'carrier', 'Yo', 'AEW', 'killing', 'soft', 'privileged', 'gamer', 'injury', 'Real', 'Law', 'Morning', 'paint', 'IjeomaAdele', 'vegetarian', 'peasant', 'Delta', 'penny', 'hardcore', 'GNev2', 'pedal', 'Konvy', 'ngl', 'nyctaxi', 'wig', 'Ford', 'indoor', 'prep', 'salt', 'fork', 'Moore', 'phase', 'dd', 'petcarebysteve', 'stan', 'hacker', 'login', 'giveaway', 'valid', 'guidance', 'Rich', 'collaboration', 'identify', 'SRGKPL', 'Campaign', 'inappropriate', 'thisisnotdanica', 'steadily', 'smooth', 'vegas', 'embarrassing', 'Checkr', 'sexy', 'third', 'banker', 'generic', 'Taco', 'Bell', 'bagel', 'Putin', 'tweak', 'Gov', 'dodgy', 'nba2kleague', 'gush', 'victory', 'workforce', 'museum', 'spanish', 'pollute', 'foreigner', 'LBP', 'unethical', 'deficit', 'daylight', 'mellogurl', 'urgently', 'ho', 'analogy', '37', 'Mike', 'advise', 'Zxcvbnm36311482', 'AnyoneBearly', 'Csi4Law', 'atrupar', 'Michael', 'Unsigs', 'Mercy', 'compensation', '2x', 'amcearningsday', 'Haven', 'banana', 'scared', 'unnecessary', 'lawsuit', 'regime', 'various', 'clothe', 'Heritage', 'sidewalk', 'lame', 'Colombia', 'alicebell', 'bot', 'Al', 'hella', 'personality', 'Haha', 'rural', 'luxury', 'Gomora', 'wall', 'Josh', 'Suicide', 'NYS', 'espn', 'jus', 'flawed', 'nor', 'doc', 'Jose', 'abusive', 'GOOGL', 'GPRO', 'ACB', 'sbux', 'intc', 'CRON', 'IBOI', 'tvix', 'pypl', 'drys', 'nugt', 'gld', 'driveway', 'kno', 'detailed', 'pal', 'roberthurst157', 'ceiling', 'Houston', 'Wish', 'BrianPMccarthy', 'vendor', 'down', 'refresh', 'elitist', 'Chief', 'Officer', 'sis', 'lint', 'UberX', 'couch', 'MA', 'pakistani', 'jab', 'southern', 'Bitch', 'um', 'Put', 'hilarious', 'Guy', 'stir', 'Workers', 'resort', 'knife', 'Print', 'print', 'Losers', 'Gappers', 'EKykke', 'produce', 'entry', 'arbitration', 'sunglass', 'JLWalden0', 'Platform', 'artificially', 'Superman', 'talkative', 'Mitch', 'capable', 'jyotitiwari05', 'petty', 'summary', 'EU', 'cheek', 'unauthorized', 'deyoungmuseum', 'Buffalo', 'February', 'Beach', 'Nope', 'extend', 'stud', 'can', 'manner', 'terrorism', 'Premium', 'Hill', 'hungover', 'Honey', 'princess', 'mnolangray', 'ahmedwaqar13', 'suppress', 'una', 'Yea', 'GLD', 'SLV', 'bidding', 'Restaurants', 'bbnaijaseason6', 'lizziepeer', 'Lizzie', 'universalhub', 'Market', 'Looking', 'Wing', 'copperchaos', '85', 'approx', 'dam', 'lboy100', 'Swift', 'metropolitan', '60k', 'Andrew', 'Melissa', 'Work', 'wallstreetbet', 'RedditArmy', 'daytrade', 'FOMO', 'combination', 'NVDA', 'DIS', 'QQQ', 'coin', 'junk', 'salvatore2200', 'Henry19202157', 'used', 'ultra', 'surround', 'Shopping', 'ironic', 'INSTAGRAM', 'OS', 'mega', 'Tennessee', 'DelhiPolice', 'mg', 'optional', 'lend', 'mfs', 'GomoraMzansi', 'FBI', 'GomoraMzanzi', 'aspect', 'brainer', 'going', 'interact', 'GH', 'patron', 'prize', 'helbiz', 'adon1718', 'burden', 'prospective', 'ADAS', 'diversity', 'MD', 'micro', 'stuck', 'gettin', 'injection', 'frozen', 'comfy', 'wtff', 'Manager', 'ableg', 'voting', 'financially', 'Well', 'WhatsApp', 'Gift', 'Card', 'cancelling', 'reporting', 'notorious', 'Marketplace', 'Podcast', 'radical', '4shaann', 'liability', 'MacBook', 'CL', 'barrier', 'An', 'rampurple', 'JournalAndy', 'fa', 'achievement', 'OLA', '3q', 'PL', 'Serie', 'Guess', 'SexxxyJessica3D', 'QueenNne', 'stew', 'heaven', 'KieranCFC88', 'sweaty', 'ndlalaG', 'vindollar016', 'Nairobi', 'omgfloofy', 'RebeccaBellan', 'shortpplfedup', 'iwasaki', 'CV', 'Chelsea', 'WWE', 'FSR', 'VERB', 'pt', 'tsla', 'interval', 'trickster', 'shite', 'El', 'PewDiePie', 'activism', 'mirage', 'Network', 'Marketing', 'rail', 'geometry', 'Number', 'Greece', '55', 'SEC', 'between', 'MegastarChiranjeevi', 'practically', 'Usifo', 'Ataga', 'Accuse', 'Treatment', 'Lincolnshire', 'Merseyside', 'Middlesex', 'Northamptonshire', 'Vivegam', 'Fans', 'LOT', 'fanciful', 'StockJabber', 'ratchet', 'depreciation', 'promocode', 'bargain', 'shoulder', 'revoke', 'Bedfordshire', 'Berkshire', 'Bristol', 'Buckinghamshire', 'meme', 'advert', 'cancer', 'newly', 'R200', 'freelunch', 'BookLoversDay', 'shey', 'album', 'doe', 'dedicated', 'empathy', 'Ji', 'allowance', 'tunnel', 'Arligast', 'youth', 'brainwash', 'Midrand', 'notion', 'Vantaa', 'Finland', 'Run', 'billy', 'consult', 'steak', 'Fresh', 'Yah', 'grave', 'cyclist', 'defeat', 'Strasbourg', 'mesmerize', 'breathtake', 'InstaView', 'FrenchDoor', 'Refrigerator', 'Uplift', 'ambiance', 'Exclusive', 'Benefits', 'AlwaysRamCharan', 'ManOfMassesRamCharan', 'Niggas', 'secular', 'ally', 'deceive', 'touchlinefracas', 'shockingly', 'biometric', 'Japan', 'Korea', 'grievance', 'crave', 'asf', 'declaration', 'implication', 'breakinggg', 'thomas', 'OUT', 'JustEatUK', 'Costco', 'pizzahut', 'dammit', 'Ak21451469', '38', 'ridehail', 'riding', 'landlord', 'disgrace', 'independence', '31', 'penalize', 'ATM', 'Dear', '1400', 'luggage', 'reckon', 'Director', 'Taxify', 'murky', 'broadcast', 'Transplace', 'Acquisition', 'Leet', 'father', 'TikToker', 'banner', 'penalty', 'Wallahi', 'moneyoff', 'mcdelivery', 'upcoming', 'visible', 'commot', 'undergo', 'Brother', 'ripoff', 'victimize', 'wholesome', 'Rosetta', 'Stone', 'Language', 'Courses', 'Menulog', 'ohhh', 'retract', 'algorithm', 'shock', 'zhongli', 'Bee', 'underwater', 'exploration', 'Thanks', 'inherently', 'Amit', 'Ray', 'ivy', 'doorbell', 'brief', 'Solution', 'clone', 'Visit', 'uberclone', 'BlackRock', 'Saks', 'Fifth', 'Corporation', 'autumn', 'trippin', 'noise', 'Deepak', 'Boomers', 'courtesy', 'render', 'Pakistan', 'lost', 'flop', 'stank', 'Sushi', 'halfway', 'Grub', 'CareemPAK', 'secondly', 'Artist', 'gladly', 'authorize', 'inspiration', 'initial', 'Gpay', 'further', 'tea', 'sorrow', '51', 'Moving', 'Average', 'View', 'klahrinc', 'spy', 'fairy', 'Dragon', 'rant', 'blasting', 'dreg', 'sanity', 'Reply', 'WATCH', 'alevelresults2021', 'alevels2021', 'bbcbreakfast', 'antonyslumber', 'therefore', 'classification', 'Result', 'messy', 'ss', 'Town', 'authentic', 'Mobilization', 'Jimmy', 'mainly', 'suspicious', 'Oracle', 'EMC', 'VMWare', 'NVIDIA', 'Qualcomm', 'Paypal', 'ADP', '43', 'PresRajapaksa', 'Sri', 'cricketer', 'eeeeeat', 'healthyfood', 'homecooke', 'londonist', 'eaterlondon', 'foodinlondon', 'londonblogger', 'visitlondon', 'instafoodie', 'cheflife', 'londonfoodblogger', 'foodpic', 'gossip', 'Cabo', 'ubereatsuk', 'londontakeaway', 'freeuk', 'Dance', 'Shoot', 'londondelivery', 'Nothing', 'wa', 'batho', 'subsequent', 'whistle', 'lure', 'Jim', 'Vs', 'formalize', 'goto', 'Commission', 'Department', 'kolkata', 'enuf', 'Cabs', 'MynationAm', 'corona', 'Birmingham', 'DEAL', 'Treat', 'pl', 'rope', 'sainsburys', 'asda', 'switching', 'Anthony23Bryant', 'Clone', 'extent', 'McDonaldsCorp', 'MensDayOutIndia', 'scathe', 'Melbourne', 'wedomorewednesday', 'VaccinePassport', 'ToryCovidCatastrophe', 'engvusa', 'countryfile', 'nhsbirthday', 'MondayMotivation', 'Covid19UK', 'englandvdenmark', 'analyst', 'dissect', 'SarkaruVaariPaata', 'locally', 'parasitic', 'embassy', 'predate', 'nonconsensually', 'gridlock', 'binge', 'hahaha', 'inedible', 'Hozier', 'Ok', 'claiming', 'dazzle', 'convincing', 'MUST', 'beneath', 'path', 'alike', 'revive', 'thursdaymorne', 'ThursdayThoughts', 'wildpark', 'Janitor', 'Architect', 'quillette', 'PYPL', 'doge', 'GME', 'googl', 'lash', 'spamme', 'Suffolk', 'CelebrityMasterChef', 'Tournament', 'Nov', 'Tour', 'Dec', 'dock', 'medal', 'sip', 'Poch', 'Hampshire', 'Worcester', 'Hertfordshire', 'IsleofMan', 'IsleofWight', 'Tweets', 'Greet', 'pipeline', 'SmackDown', 'NationalMeadowsDay', 'reel', 'Bowl', 'Click', 'sponsorship', 'minimal', 'presumably', 'articulate', 'beneficial', 'Lionel', 'worst', 'sfbike', 'Edition', 'Apply', 'Announce', 'SuperSportTV', 'menace', 'See', 'Mixed', '2yrs', '49', '52', '92', 'Deathstroke', 'Olympics', 'sustain', 'subsidy', 'author', 'wokeness', 'regurgitate', 'banter', 'bloke', 'arsenal', 'routine', 'sustainability', 'remarkable', 'rapey', 'crimey', 'crook', 'acc', 'dishonesty', 'san', 'appealing', 'myriad', 'foundational', 'Propaganda', 'Rolling', 'suburb', 'Holo', 'SEA', 'AJC', 'BIO', 'rancher', 'faction', 'Digital', 'Corona', 'ETA', 'AnthCondon', 'micahsb', 'testing', 'lad', 'whatif', 'amcsqueeze', 'fk', 'spoken', 'Foreign', 'Camry', 'onion', 'politician', 'wood', 'disgusted', 'Trip', 'rupee', 'BlazedCats', 'navigate', 'explore', 'Viswaka16407501', 'symbol', 'St', 'helmet', 'AbbaKyari', 'Turkey', 'EOkala', 'gogyfan53', 'saga', 'corruption', 'permission', 'maxi', 'BadMessiTakes', 'keem116', 'serie', 'Ur', 'ep', 'joshinielesh', 'Forget', 'unhappy', 'ecachucho', 'Southeast', 'abt', 'awz2142', 'Joss', 'Cloud', 'lmaoooo', 'aww', 'noodle', 'pudde', 'furious', 'Stalin', 'Hitler', 'surpasse', 'Teller', 'intact', 'Auckland', 'thefantastic40', 'WallaceSelect', 'Pull', 'fcppangos', 'lanky', 'LMAOOOO', 'Arnold', 'Epstein', 'ftc', 'bin', 'Pollux2789', 'filling', 'bail', 'Asia', 'honey', 'ReneMalika2', 'convinient', 'ji', 'failed', 'Spanish', 'mrjamesob', 'IEA', '100s', 'percent', 'pit', 'leaveonleft', 'jools123456', 'Look', 'hype', 'Expands', 'Footprint', 'MiamiCentral', 'Commercial', 'Observer', 'WilmingtonDiver', 'valley', 'fever', 'chew', 'recognise', 'Mbappé', 'sagaftra', 'Stewart', 'confusing', 'confirmation', 'declare', 'EMPLOYEES', 'MacJuanma', 'lucrative', 'Yum', 'ValaAfshar', 'MuseumModernArt', 'CardanoMonad', 'comparable', 'GF', 'dispite', 'rug', 'detour', 'endanger', 'colony', 'democracy', 'StocksToWatch', 'ETHEREUM', 'succeed', 'uberindia', 'trucker', 'Almond', 'vanilla', 'unsustainable', 'socially', 'dedicate', 'passport', 'shre', 'whoop', 'joshtpm', 'AndrewYang', 'dig', 'drinking', 'bnb', 'ComplaintVTC', 'Abuse', 'cabify', 'Ilegal', 'Corruption', 'Politicians', 'Insecurity', 'Costeffectiveness', 'Avarice', 'Customerserice', 'Manipulation', 'DStv', 'fence', 'anmolpritamND', 'Hindus', 'exodus', 'adjusted', 'Done', 'ronaldo', 'intervene', 'diss', 'tick', 'shxt', 'stun', 'venmo', 'statpad', 'prediction', 'FELLOW', 'SHOW', 'towel', 'sheet', 'refusing', 'legitimate', 'Fashion', 'Items', 'NCT', 'Wore', 'misbehave', 'analyze', 'babblist', 'courage', 'reconsider', 'Wells', 'assigned', 'Agreement', 'Affleck', 'He', 'script', 'ZERO', 'BO', 'Content', 'JobSearch', 'WomenWhoCode', 'DataScience', 'bartender', 'ip', 'sleeping', 'intrusive', 'fetch', 'vele', 'Thread', 'hiring', 'marked', 'Step', 'Vision', 'attend', 'Contact', 'Centre', '84', 'branch', '22nd', 'Glovo', 'Little', 'Search', 'beta', 'urvishp45225754', 'headline', 'Economics', 'airpod', 'OPTIONS', 'excel', 'pilot', 'exceptional', 'relatable', 'Self', 'Privacy', 'ArtificialIntelligence', 'innovator', 'Jordan', 'speaker', 'ser', 'merely', 'registered', 'Mobile', 'N', 'Email', 'lag', 'thesecondalan', 'gunbreakmyheart', 'Asmongold', 'cautious', 'el', 'swvl', 'tuition', 'entitle', 'deepsealioness', 'Travel', 'Holiday', 'cstross', 'systematic', 'JulianSuri1', 'BerryHenson', 'EuropeanTour', 'Lil', 'cafe', 'filing', 'secretive', 'monetary', 'ATVI', 'tight', 'distribution', 'defcon', 'Li', 'swag', 'Doc', 'payer', 'NBCSGiants', 'duty', 'soirées', 'attire', 'preparation', 'socialise', 'Gathering', 'nehi', 'ne', 'plastic', 'abandon', 'notifying', 'baseball', 'Hay', 'ACTUALLY', 'CASE', 'nursing', 'disappoint', 'services', 'admire', 'worse', 'spell', 'EVER', 'BoN3Zz6923', 'fcbaaron29', 'circa', 'mande', 'por', 'taunt', 'TiyaTitus', 'dawn', 'vanity', 'clown', 'Hence', 'hassanrahim', 'stockholder', 'Stars', 'defender', 'LGBTQ', 'handbag', 'gp', 'fasho', 'Chinmayi', 'comedy', 'Fed', 'marinebharat', 'escalator', 'Episode', 'Chat', 'uniform', 'Rate', 'Cut', 'youtube', 'severely', 'avenger', 'pumped', 'Mousa', 'Hussein', 'Kraish', 'Showtime', 'Deadline', 'crunchy', 'lay', 'PrParameswaran', 'sudhirchaudhary', 'awake', 'metaphor', 'Buffy', 'gps', 'SAME', 'drastic', 'Mombasa', 'Noida', 'Railway', 'Young', 'particular', 'ahh', 'Liftago', 'FWIW', 'troubling', 'ration', 'bi', 'zone', 'stationary', 'stumble', 'weaken', 'unrecognized', 'stint', 'catfish', 'mexican', 'sentimental', 'connection', 'Wikipedia', 'Eminem', 'tequila', 'Lennon', 'embarrassment', 'butt', 'olivia', 'GameStop', 'InstaCart', 'Navy', 'Subway', 'tournament', 'Major', 'Event', 'weirdo', 'acquisition', 'enforcement', 'Pacific', 'NASDAL', 'Ms', 'insure', 'User', 'Films', 'Bags', 'Crawling', 'coincidence', 'Kids', 'LISTEN', 'EpsilonTheory', 'exposure', 'adverse', 'Bank', 'reasonably', 'triple', 'CPMumbaiPolice', 'Fabriziobustama', 'vacancy', 'jobsInSriLanka', 'sriLanka', 'sriLankan', 'coming', 'educational', 'waist', 'Passenger', 'Gold', 'HYDTP', 'hydcitypolice', 'CYBTRAFFIC', 'Boomerang', 'Brah', 'await', 'criterion', 'Ayer', 'arc', 'Flag', 'swallow', 'AIRPORT', 'GONE', 'Lmaoo', 'bone', 'nitinksedha25', 'Zone', 'Rent', 'counter', 'tha', 'ewallet', 'esteem', 'ongoe', 'MarietjeSchaake', 'usher', 'lit', 'cashcow', 'humanatm', 'tongue', 'Name', 'Deadshot', 'closer', 'bullet', 'Phoenix', 'individually', 'ap', 'terror', 'mob', 'coma', 'Jacklynnbj', 'docs', 'Trans', 'disgustingly', 'Start', 'inaccurate', 'Christ', 'cf', 'HARD', 'asian', 'viewer', 'Bc', 'farce', 'recall', 'starring', 'Terrio', 'Sammy', 'software', 'lobbyist', 'minister', 'poster', 'processing', 'singing', 'INSANE', 'hunger', 'flier', 'yah', 'axe', 'atl', 'Welcome', 'Whetstone', 'EricNewcomer', 'producer', 'inbox', 'Waiting', 'FarEast70569605', 'Stephen', 'DCEU', 'Hylo', 'en', 'friday', 'reversal', 'Cruise', 'sleeper', 'advertising', 'General', 'Pewds', 'pax', 'Gino', 'iffy', 'inner', 'motivation', 'despise', 'weirdly', 'Express', 'iamthatroby', 'Cyborg', 'negotiate', 'GokanEkinci', 'endless', 'varied', 'Donald', 'Cuz', 'teammate', 'arse', 'nonconformist', 'BEEN', 'Smith', 'Olu', 'RBLX', 'Omfg', 'Cold', 'jerk', 'Netherlands', 'mend', 'eyelash', 'Education', 'Media', 'Koi', 'thankful', 'Everyday', 'canon', 'BEDROOMS', 'disruptive', 'abroad', 'therapy', 'homework', 'Fail', 'Ignore', 'belt', 'RAF', 'interface', 'recieve', 'über', 'fascinating', 'Deal', 'immigration', 'skilled', 'transform', 'Steve', 'fighter', 'Jones', 'TRY', 'regularly', 'Rev', 'tailgate', 'Cheaper', 'fantastic', 'caramel', 'theater', 'nervous', 'maid', 'Rideshare', 'pessenger', 'se', 'aur', 'stringently', 'canyon', 'Full', 'CRAZY', 'talking', 'restriction', 'Murder', 'legislation', 'sus', 'dat', 'LMFAOOO', 'cookie', 'BEAST', 'century', 'Michel', 'LMAOO', 'LbodeAqui1', 'comprehension', 'warming', 'cherry', 'handgun', 'benz', 'Pluralistic', 'Hotels', 'bookstore', 'Cinemas', 'island', 'pissed', 'ROCKIN', 'Get', 'lalgbtcent', 'EXCELLENT', 'izuku', 'Katsuki', 'exit', 'oldest', 'elevated', 'compile', 'andydrewXP', 'dupe', 'Us', 'Cc', 'manipulate', 'mini', 'Dream', 'Lovely', 'removeallltns', 'epic', 'Jan', 'provocative', 'disclaimer', 'offshore', 'heck', 'DrParker2u', 'liquor', '1970', 'Powell', 'River', 'Ahhh', 'Goddess', 'Info', 'blessing', 'Scott', 'Congratulations', 'trynna', 'breathalyzer', 'VitalVegas', 'handed', 'SenRonJohnson', 'January', 'Fund', 'streaming', 'village', '58', 'NBA', 'Strip', 'utaite', 'conscious', 'ValGal1212', 'ancient', 'afterlife', 'Pharaoh', 'Khufu', 'cedarwood', 'Amount', 'SenatorBraun', 'DCAlumni', 's2', 'zip', '438829', 'skipthedishe', 'proactive', 'Walgreens', 'HYRE', 'reopen', 'inventory', 'Blue', 'Roll', 'wonky', 'mollaur', 'nevermind', 'mta', 'DunningsBooger', 'pc', 'NW', 'Care', 'Niki', 'softgrasswalker', 'eight', 'VS', 'Robot', 'ED', 'knee', 'Queen', 'Anti', 'Spencer', 'afterwards', 'STUFF', 'vZeen', 'catcher', 'august', 'grandma', 'rave', 'homie', 'locate', 'makeup', 'enterprise', 'Oakland', 'chipfranklin', 'Awesome', 'decentralize', 'flee', 'governor', 'downplay', 'dust', 'perspective', 'manifest', 'appropriately', 'BETTER', 'finesse', 'oxtail', 'unavailable', 'Judes2103', 'maximum', 'arsehole', 'preference', 'MollyJongFast', 'inherent', 'FarOutAkhtar', 'excelmovie', 'romppicture', 'thrill', 'Bobby', 'puppy', 'ashtray', 'PrivShass', 'emotion', 'addon', 'poison', 'blast', 'TheRealDesastr', 'scorch', 'PK', 'shade', 'defraud', '125', 'Taiwan', 'TFL', 'reclassify', 'preach', 'volunteer', 'REAL', 'coat', 'instacart', 'reliant', 'grubhub', 'flex', 'bryanrbeal', 'SomiaGrooves', 'boil', 'novogratz', 'Rolodex', 'bread', 'normalize', 'BSQR', 'embarrass', 'dial', 'interpret', 'HUGE', 'paraphrase', 'WGRZ', 'plain', 'perception', 'customerservice', 'wifi', 'walrus', 'predator', 'beach', 'tooth', 'terrorize', 'shooter', 'Text', 'upward', 'rough', 'coalition', 'conf', 'vanish', 'offload', '3am', 'Allegiant', 'Russell', 'Hacienda', 'ddnt', 'GNOG', 'STEM', 'Fake', 'unvaxxed', 'Imma', 'county', 'Rosa', 'Spider', 'WOULD', 'zapurahartistry', 'remotely', 'Legends', 'AB5', 'Tim', 'Ah', 'courthouse', 'Panera', 'lounge', 'promos', 'BULLSHIT', 'ASS', 'COMPANY', 'hometown', 'Ownership', 'Shore', 'teenager', 'Eastern', 'wks', 'nerve', 'economical', 'typical', 'eager', 'farm', 'Banned', 'System', 'Error', 'Magnus', 'getting', 'Canceled', 'apologize', 'accountant', 'Hospital', 'Rack', 'Teamsters', 'legislative', 'carljreyes', 'Share', 'Wynn', 'lyric', 'hip', 'WSJopinion', 'sea', 'HELP', 'Jewlzbruh', 'calling', 'Surat', 'magical', '7Kliq', 'universal', 'Prices', 'Records', 'Return', 'unreliable', 'Project', 'stole', 'homophobic', 'Sacramento', 'vive', 'renew', 'KristinFDalton', 'Problem', 'KiritoInAincrad', 'juicy', 'dj', 'incel', '24th', 'ubertaxi', 'Der', 'obligation', 'maniac', 'RonFunches', 'NIH', 'accountable', 'Earth', 'amazed', 'Dropbox', 'Soon', 'consist', 'pastry', 'Belmar', 'unfortunate', 'CarryDaInterest', 'plant', 'comp', 'crab', 'soul', 'ItsOnSite', 'Contributor', 'SarahfromFlorida', 'criticism', 'mentor', 'clerk', 'bent', 'nauseous', 'Ghanaian', 'Kill', 'breed', 'lovedmoviesb', 'fic', 'prayer', 'tent', 'sunrise', 'brianbarou', 'Iromg', 'Amsterdam', 'glitch', 'yank', 'Lawd', 'hrrypearly', 'sweatshop', 'Reinvent', 'Aviation', 'RTP', 'TM', 'Bet', 'stare', 'slavery', 'Troy', 'Mi', 'Jeep', 'organic', 'membership', '400k', '100k', 'RTD', 'banger', '000', 'gorgeous', 'palace', 'sky', 'TOP', 'Add', 'CTV', 'UCP', 'devastating', 'trial', 'patreon', 'Parking', 'SenRickScott', 'jonmichaelnash', 'kudo', 'talkin', 're3', 'L', 'Others', 'belong', 'ed', 'planning', 'march', 'STORY', 'Kansas', 'steam', 'revert', 'dfs', 'Bust', 'Transport', 'PS', 'Rogan', 'pig', 'restore', 'budget', 'jacket', 'media', 'skateboard', 'AD', 'sacrifice', 'whiner', 'johnog5', 'ClaudetteGGibs1', 'stem', 'boring', 'imteafy', 'WEAK', 'Lot', 'ESG', 'sextraffice', 'childsaftey', 'Hotel', 'Bruh', 'Bout', 'outlook', 'mph', 'frat', 'Orlando', 'timetable', 'detective', 'productive', 'wetin', 'openly', 'loudly', 'embarrassed', 'exorbitant', 'thephildonnelly', 'mixed', 'breath', 'yungwitchy', 'AkwariCharles', 'running', 'rotten', 't727209c', 'Madison', 'Community', 'Board', '05', 'manhattancb5', 'NYPD13', 'VisionZero', '180', 'marriage', 'slam', 'sanitygraveyard', 'med', 'pe', 'RestoreTheSnyderVerse', 'PR', 'chale', 'randomly', 'dehydrate', 'ThalapathyVijay', 'bcs', 'Week', 'bbnaija', 'taxation', 'culpability', 'reckless', 'junior', 'clinical', 'responsibly', 'swayze201', 'bendsoundwaves', 'BLM', 'industrial', 'rectify', 'apt', 'Hilton', 'Darkseid', 'MONDAY', 'writing', 'fume', 'Banks', 'Infrastructure', 'beloved', 'Kevin', 'ghetto', 'bath', 'novel', 'Economy', 'humor', 'rpg', 'layaaaannnn', 'analytic', 'EWR', '𝙩𝙝𝙖𝙩', 'moot', 'collide', 'silly', 'Having', 'Demo', 'straw', 'pos', 'Tiffany41970685', 'isolation', 'fade', 'amycohe43268840', 'lover', 'W', 'Venmo', 'purge', 'goddess', 'selfless', 'nonstop', 'ai', 'DiDi', 'LOOOL', 'string', 'scroll', 'Aaron', 'trim', 'realization', 'allege', 'mcdonalds', 'fkn', 'omw', 'Rabbit', 'Virgin', 'nasty', 'creep', 'CityofSeattle', 'cuddle', 'uncomfortable', 'gut', 'epidemic', 'Rand', 'Paul', 'Senator', 'McCain', 'conservmillen', 'dining', 'unbelievable', 'massage', 'xl', 'IL', 'lowkey', 'SquawkStreet', 'dbcxpture', 'liar', 'Skip', 'GFGCompete', 'Supposed', 'photoshoot', 'Taking', 'Sec', 'Garcha2k', 'KatieMagnet', '46', 'pioneer', 'Rides', 'drum', 'phrase', 'killer', 'supposedly', 'danfo', 'wildfire', 'unusable', 'uberscam', 'Galactic', 'fck', 'soar', 'incremental', 'Ponzi', 'LisaMarieBoothe', 'advocate', 'grue', 'instal', 'guys', 'scrub', 'living', 'Ha', 'Catch', 'Dover', 'greedy', 'lucky5micah', 'Ugly2PointO', 'lakini', 'kengardner11', 'glimpse', 'Baby', 'capito', 'jamming', 'ka', 'cannabi', 'futuremanagemnt', 'EXACTLY', 'drain', 'rockie', 'Greenlight', 'Lucky5Micah', 'kit', 'minor', 'reader', 'reportedly', 'BosBizJournal', 'spoiled', 'katy', 'Cat', 'worried', 'cock', 'agreement', 'deviation', 'hopeless', 'poke', 'guardian', 'prosecco', 'Pick', 'Nigga', 'lookin', 'ugly2pointo', 'Refund', 'extreme', 'thx', 'dun', 'rub', 'exclusive', 'chick', 'Rose', 'Reading', 'LoveIsland', 'pepper', 'underestimate', 'joking', 'soonerboyou', 'robotic', '101', 'chair', 'mint', 'ETSY', '13th', 'DAT', 'Carolinerathabe', 'SalLetoFF', 'MattJonesTFR', 'therealNFLguru', 'RewindCEO', 'theffballer', 'NFLDraftTalker', 'Matthodical1', 'Citizen', 'cybercrook', 'Jobs', '120', 'Farewell', 'Osborne', 'Nike', 'oliviasolon', 'Month', 'Gore', 'Kerry', 'Reef', 'supervise', 'disguise', 'loophole', 'democratic', 'bankrupt', 'mnstatefair', 'curd', 'longs', 'pronto', 'pup', 'fried', 'RC', 'Cola', 'pot', 'winer', 'Succession', 'suspect', 'agenda', 'thefizdabizz', 'rodfarvaMD', 'TorontoStar', 'slice', 'fruit', 'PS4', 'outcall', 'JerryMoran', 'float', 'Nissan', 'gomoramzansi', 'researcher', 'bleed', 'Passengers', 'BeautyChickee', 'overrate', 'Half', 'gal', 'essentially', 'Assembly', 'psgtalk', 'ESPNPR', 'ESPNFC', 'abcnetwork', 'espndeporte', 'LaLiga', 'laligaen', 'gtf', 'Global', 'Spent', 'senrobportman', 'transparent', 'massively', 'welfare', 'fighting', 'MutualAidRequest', 'MutualAidMonday', 'motel', '44', 'cashappblesse', 'venmome', 'contribution', 'Blake', 'pollution', 'spite', 'nicer', 'JeniRock42', 'jog', 'ty', 'Woke', 'DrFraserKing', 'barne', 'equip', 'IDK', 'JUSTICE', 'UBERTRUTH2', 'ewrairport', 'wax', 'pen', 'alexwithak', 'Council', 'uga', 'deliveries', 'Pepper', 'immune', 'BTP', 'LondonAssembly', 'Bath', 'Drove', 'minority', 'incorrect', 'Jay', 'smuggler', 'purse', 'eatsing', 'itbethatway123', 'ChrisW10045424', 'bk', 'secs', 'Scottsdale', 'newark', 'honeymoon', 'during', 'o', 'Josephson', 'cluster', 'Observability', 'ubereng', 'legend', 'ape', 'synthetic', 'LLC', 'fuckery', 'Luxury', 'exception', 'AutoDispose', 'improvement', 'DeepikaBhardwaj', 'TicklemeeElmoo', 'rashonleabey', 'flagship', 'Subscribe', 'BigData', 'owaiskhan005', 'ridership', 'HabsChronicle', 'Shop', 'TheLaurenChen', 'grace', 'passion', 'curlygurl420', 'Jackson', 'refused', 'Utter', 'thamingwane5', 'square', 'roxynikobrad', 'dms', 'ducciolvp', 'bb23', 'peace', 'goodbye', 'household', 'ugh', 'fascist', 'nationalism', 'Mustafa', 'Seamless', 'worthy', 'civilian', 'Dave', 'staggering', 'Options', 'permanent', 'lottery', 'neon', 'servant', 'Hulu', 'atp', 'Fiery', 'mark10492233', 'britboy4412', 'bouquet', 'Price', 'overprice', 'Stop', 'MEGA', 'offi', 'fme', 'lyftand', 'Amundsen', 'lesbian', 'safely', 'Tanzania', 'handful', 'mi', 'Tiguan', 'dumbass', 'church', 'Engineering', 'approximately', 'strategic', 'Saskay', 'Ubër', 'monger', 'Rob', 'Bridge', 'broad', 'crank', 'traction', 'neighborhood', 'gravy', 'Bye', 'disappointing', 'wind', 'Auto', 'Driverless', 'visibility', 'propose', '5k', 'Abeg', 'rstanzel', 'cspan', 'LeaderMcConnell', 'acceptance', 'widescale', 'Turns', '1month', 'Wendy', 'authoritarian', 'plague', 'Agree', 'Coke', 'tracking', 'ecclescakes94', 'sigh', 'freeway', 'cache', 'reinstall', 'Tap', 'Select', 'persist', 'Abuja', 'NYSE', 'goldenroadfan87', 'Hall', 'ThatIronTube', 'poc', 'GOVUK', 'Poor', 'EL', 'twlo', 'fsly', 'MRO', 'AYX', 'zenaniradebe', 'complexity', 'MattHaneySF', 'calacademy', 'accompany', 'AMCEARNINGSDAY', 'Adam', 'demolition', 'STRUCTURE', 'encounter', 'tolerate', 'jeffreytumlin', 'limebike', 'Weed', 'neighbor', 'abide', 'hybrid', 'piggy', 'bugger', 'Brighton', 'defensive', '3horses4dogs', 'storage', 'Saga', 'cater', 'fundamentally', 'shery', 'JessicaPathman', 'sub', 'Take', 'Lawn', 'Dumbo', 'BorisJohnson', 'Jonathan', 'Bay', 'mislead', 'concert', 'grand', 'bond', 'Victoria', 'fancy', 'vid', 'Cairns', 'ashamed', 'thief', 'UPDATE', 'abugintheground', 'JamesDo15297697', 'metecoban92', 'walkbar', 'saket71', 'comeback', 'freshman', 'decorrea2', 'coach', 'jlmpov', 'TidefallCapital', 'depth', 'x3', 'RepMeijer', 'Wonder', 'metal', 'fabric', 'Pet', 'floki', 'STARL', 'TT', 'EMAX', 'CMERGE', 'carpet', 'kidnapper', 'rjwile', 'Hold', 'driverless', 'Snyderverse', 'redact', 'Hello', 'Edward', 'rove', 'J', 'Hit', 'shortly', 'wk', 'BBNaijia', 'particularly', 'CIA', 'boof', 'priyavshan', 'NASCAR', 'Jackboy', 'Ruger', 'Nicola', 'spokesperson', 'Attorney', 'Southern', 'District', 'Fee', 'Ti', 'CCP', '6th', '160', 'mike09875', 'Symbo1ics', 'scenic', 'Hungry', 'wash', 'washing', 'biebersada', 'confession', 'Ban', 'Circuit', 'roomba', 'Longtime', 'Task', 'Guilting', 'cheaper', 'Android', 'pricy', 'Samuel', 'commerce', 'dawg', 'AdboxHQ', 'CTtheDisrupter', 'nuance', 'entrepreneurship', 'hum', 'caleatoxic', 'Gottin', 'chest', 'heyadamrobert', 'BNTX', 'vetifly', 'democratize', 'aviation', 'Communications', 'Matthew', 'familiar', 'accent', 'Profits', 'Double', 'Metrics', 'janitor', 'horrid', 'underage', 'Grocery', 'Baker', 'Body', 'Lena', 'Luthor', 'arm', 'Kara', 'ToTheMoon', 'bottomfishe', 'YOLO', '95', 'MRamosIV', 'survey', 'schmangee', 'minivan', 'carpoole', 'ligament', 'hearst', 'DAL', 'ugaz', 'TWTR', 'river', '18th', 'Fun', 'du', 'fahrer', 'stockstowatch', 'chin', 'enthusiastically', 'Voyager', 'FoxBusiness', 'Pandemic', 'MS', 'CarolinePidgeon', 'davidkurten', 'ValShawcross', 'wesstreete', 'treatment', 'tropical', 'specify', 'Build', 'interiorstyle', 'coward', 'Mgt', 'CRM', 'Inbox', 'WishboneUlysses', 'leftover', 'variety', 'spencermorgan93', 'Drop', 'UberCloneScript', 'sarkaruvaaripaata', 'HBDSuperstarMaheshBabu', 'jealous', 'lugg', 'IKEAUSA', 'Peter', '33', 'android', 'palette', 'yacht', 'nickel', 'dime', 'disrespectful', 'Everything', 'clarification', 'SharjeelUsmani', 'bubblegumbooob', 'Split', 'crideshare', 'sometime', 'quarantine', 'distancing', 'errand', 'mmm', 'Valerie', 'wil', 'idgaf', 'kicking', 'beggar', 'thanks', 'ChicagoScanner', 'designer', 'premier', 'ajrana04526361', 'roam', 'Independence', 'delight', 'woodmontroad', 'granular', 'insight', 'structure', 'withstand', 'og', 'genuinely', 'FDA', 'instagram', 'holochain', 'tremendously', 'Launch', 'flavour', 'R', 'Discord', 'Access', 'greg0r9', '9yearsofjulayi', 'Julayi', 'LanieWelch202', 'asse', 'Gabbidre', 'Elnajjjar', 'soap', 'fugly', 'YR', 'distribute', 'solely', 'Diggs', 'Westminster', 'showing', 'kids', 'lanneabrook', 'janedoe35266157', 'rejection', 'Euro', 'Gatlinburg', 'tune', 'ewr', 'port', 'layer', 'sooooo', 'Anand', 'elaborate', '20k', 'TURO', 'cont', 'ole', 'supporter', 'Place', 'unpleasant', 'Bird', 'lwazyh', 'mcgavfc', 'spaghetti', 'jet', 'ShudufhadzoRSA', 'Gun', 'vacuum', 'AOC', 'Dodge', 'Angela', 'austintexasgov', 'library', 'Juan', 'lengthy', 'catekitchen', 'gif', '5five0oh4four', 'runaround', 'folder', 'humble', 'FEMALE', 'teen', 'resale', 'foreseeable', 'Baseball', 'yup', 'camp', 'eidotea1', 'Pete', 'childcare', 'Premier', 'Mears', 'input', 'united', 'conflict', 'annoyed', 'cancelation', 'vicious', 'robotaxis', 'FL', 'borrower', 'nationwide', 'vipond', 'president', 'SlavicAgent', 'elsewhere', 'Channel', 'borrow', 'inspire', 'exclusively', 'JackPosobiec', 'redistribution', 'redistribute', 'seokjin', 'er', 'FreeNow', 'KWTKPOD', 'jeez', 'Swan', 'rw', 'libs', 'oversight', 'toward', 'kidney', 'disease', '1justame', 'walker', 'Bloodsport', 'Peacemaker', 'perfection', 'mentality', 'Kwithy2', 'VibhuGroverr', 'mightbeanaa', 'EXCLUSIVE', 'smear', 'businessinsider', 'ETHE', 'naaacker', 'John27454952', 'illigal', 'Beirut', 'streak', 'impressive', 'seek', 'JasonTavano', 'TheTallJoseph', 'hankgreen', 'camel', 'imho', 'alpha', 'whalesub', 'lawyer', 'Camera', '0xkrm', 'hike', 'skeptical', 'PLUG', 'BBCNews', 'scrap', 'voicemail', 'eater', 'under', 'CRN', '5479323936', 'Cancellation', 'Charges', 'Debited', 'Worst', 'PP', 'WIRED', 'Bronco', 'donut', 'Panda', 'warehouse', 'widadtaleb1', 'disruptor', 'prob', 'token', 'Pacer', 'zoom', 'Bookstores', 'careless', 'Softbank', 'whistleblower', 'Journey', 'Fight', 'Susan', 'Zamasu', 'po', 'PO', 'fidjissimo', 'clothing', 'WEF', 'wound', 'dalkimmel', 'symbo1ics', 'buyout', 'SamoBurja', 'onwards', 'Naming', 'spat', 'socialmedia', 'branding', 'dysfunctional', 'Ex', 'joshcollin', 'windshield', 'hangover', 'yvesstlaurel', 'christo36997206', 'Salad', 'mrna', 'mon', 'Kay', 'yooyoomaryjane', 'subscriber', 'informacionpsg', 'belief', 'PedroHmaumau', 'fatih53064122', 'MadridXtra', 'jfelixdiaz', 'laliga', 'dbd', 'quitting', 'SPG', 'ig', 'Insurance', 'SeedMelanin', 'expansion', 'audacity', 'Citizens', 'Sephora', 'Fiziev', 'RealJeffreyHam1', 'TheJackNeedham', 'charliemac1912', 'StephenKing', 'evtol', 'avg', 'Hinshaw', 'acfp', 'commitment', 'LegitColeTrain', 'WiFi', 'proving', 'MtnMack', 'SeayTomiTweet', 'McDonaldsUK', 'willreyner', 'Byron', 'facebook', 'EDM', 'promoter', 'tor', 'captain', 'SlayOnNetflix', '30k', 'amen', 'bomb', 'shall', 'perk', 'FBF', 'LOOK', 'INNOCENT', 'ripped', 'THIEF', '666', 'pleasant', 'puncture', 'deval', 'Patrick', 'Long', 'nicki', 'sajidjavid', 'pound', 'Hicksville', 'Ronk', 'discriminate', 'tanjirhoe', 'NHL', 'slammer68', 'Hawks', 'Tigers', 'Puerto', 'tard', 'ajthemogul', 'giga', 'Derosa', 'Member', 'Diaz', 'MESO', 'AppleSupport', '23rd', 'toll', 'lecture', 'lap', 'itw', 'AJTheMOGUL', 'Taniel', 'wreckmyplanss', 'bright', 'Nick', 'COIN', 'UnIronicAnCap', 'lifesaver', 'eligible', 'livery', 'chidaobasraunda', 'barboza', 'durex', 'philosophy', 'thisiskashmir', 'DJT', 'anti', 'NYT', 'islamic', 'HCSJuicey', 'skirt', 'scanning', 'Downtown', 'Cryptocurrency', 'RomanNavy', 'cruelty', 'LIV', 'FlaPol', 'BMW', 'Crazy', 'LENGUAS13', 'Wembley', 'johnnysoe87', 'kunalb11', 'Criteria', 'Unicorn', 'Copy', 'Ups', 'modification', 'Phonepe', 'Wide', 'Zamato', 'Udemey', 'Unacademy', 'topper', 'plush', 'etf', 'logo', 'supersporttv', 'footballdaily', 'feeder', 'dinners', 'wirh', 'Laundry', 'buber', 'decentralise', 'nostr', 'schnorr', 'signature', 'lnbit', 'Salvador', 'neymarjr', 'uniquely', 'mistaken', 'Slovenia', 'Juliana', 'Trail', 'laundering', 'occupation', 'hardscrabble', 'impoverished', 'enrich', 'legos', 'underserved', 'thenjoroge', 'Nyali', 'Past', 'rover', 'mercymurugi', 'Sliiiide', 'chukua', 'supabara', 'WanderBooi', 'kxhyeyoon', 'Trad', 'simoncrane1624', 'reaping', 'Alfrednewwake', 'Congolese', 'shortfall', 'occupy', 'infinity', 'singletary', 'Switserland', 'Funny', 'ston3mason', 'susritas', 'Redtaxi', 'GOODBYE', 'hubby', 'FOUGHT', 'CHOOSE', 'TWITTER', 'OFFLINE', 'FEW', 'MIN', 'bags', 'YTSmexy1', 'kchirutweet', 'robertmarawa', 'departure', 'cookingwiththestar', 'cooker', 'UsmaniMadiha', 'Avatar', 'pristine', 'Celebrations', 'Naanga', 'Varromm', 'eschew', 'GAAP', 'mathematic', 'gamechanger', 'Lmaaoooo', 'disgust', 'unfamiliarity', 'calculation', 'dull', 'hotukdeal', 'ukhotdeal', 'treatyourself', 'Fortnite', 'FansDemandSAAKKS2', 'onlinesale', 'summersale', 'eatfreshrefresh', 'eatclean', 'indianfood', 'boyf', 'wanderin', 'toyota', 'carolo', 'honda', 'camry', 'format', 'MichuEmenalo', 'MamaKaSharonAn1', 'magogo', 'msolzaa', 'Buying', 'BellBottom', 'vaaniofficial', 'akshaykumar', 'ahahhahahhahhhahhha', 'rwamit', 'booze', 'costing', 'rand', 'R400', 'CBCNS', 'Bruce', 'Buffer', 'mlanetrain', 'instagood', 'londonfoodspot', 'londonbrunch', 'feedfee', 'FirstTime', 'freebreakfast', 'freedinner', 'helpturkey', 'barcelona', 'Anda', 'Archived', 'pluralistic', 'iamAbiodunAA', 'abi', 'stranded', 'kpop', 'girlalmightyhry', 'jahssj', 'concerna', 'kidnapping', 'glance', 'Olla', 'Payers', 'GOI', 'gwb', 'lincoln', 'phislash', 'complicate', 'amman', 'bacdadhuuqso', 'touchlinefraca', 'leftist', 'ideology', 'sugeezy', 'Maboneng', 'stuartconnor5', 'vaguest', 'amnaukhan', 'Italy', 'Yesterday', '26th', 'Stevie', 'Nicks', 'bts', 'Southwest', 'Halsey', 'Marriage', 'Sergio', 'Menteri', 'Lockdown', 'Yoshi', 'Whatif', 'SHINee', 'Airdrops', 'Doctors', 'Appointment', 'Doctor', 'securely', 'SidityDes', 'notary', 'Kharghar', 'Vashi', 'thephukdi', 'GaurangBhardwa1', 'Jai', 'shree', 'Muslim', 'referralcode', 'invitecode', 'promocodeuk', 'moneysave', 'Morrison', 'Cheeseburger', 'megadeal', 'megasale', 'superdeal', 'supersave', 'topdeal', 'whofartlekd', 'interrec', 'rustynails2222', 'lindseygrahamsc', 'plummet', 'watery', 'rusty', 'Competitive', 'INCREASED', 'Register', 'Mango', 'Grove', 'tarred', 'BBMP', 'Bengaluru', 'Edit', 'rrrmovie', 'Coz', 'RituRathaur', 'SudarshanNewsTV', 'Mohd', 'intricate', 'irresponsibility', 'liikenne', 'Ping', 'contourgeek', 'jackstilgoe', 'emmajpalermo', 'Sadly', 'tran', 'Somerville', 'automatic', 'reported', 'supplier', 'foolish', 'symptomatic', 'capitalocene', 'bosss', 'mo', '7044777444', 'Ferrero', 'Rocher', '849', 'Thailand', 'randomize', 'Spain', 'Kalpan101423', 'jagograhakjago', 'FraudUber', '14404', 'patriottake', 'Turts', 'DumisaniXhakaza', 'News24', 'BISouthAfrica', 'leisure', 'alwaysramcharan', 'louthegenius', '笑', 'Crimsix', 'oligarchs', 'enslave', 'Mister', 'Fck', 'fckn', 'UTAG', 'utag17', 'CUP', 'seeding', 'ENTRIES', 'Komentar', 'kalian', 'couponcode', 'Voucher', 'dinnertime', 'Lunchtime', 'buyonegetonefree', 'buffet', 'BuffetDeWeyes', 'slotonline', 'freedelivery', 'rahulroushan', 'UPGovt', 'Uppolice', 'dgpup', 'CMOfficeUP', 'myogiadityanath', 'IgRangeVaranasi', 'AwasthiAwanishK', 'DMjaunpur', 'jaunpurpolice', 'bjp4up', 'whatsapp', 'indiapost', 'uppolice', 'unofficial', 'unverified', 'pumpkin', 'joshhodge81', 'Philippines', 'leading', 'workspace', 'productivity', 'LOST', '4b', 'unlicensed', 'fucker', 'boiler', 'heatable', 'patrickgormanmp', 'vanbadham', 'wasteful', 'lord', 'endure', 'outspoken', 'satanist', 'psgcorvo', 'Idgas', 'readily', 'satchet', 'rethink', 'restrategize', 'cargo', 'LivingWageUK', 'Naiyoopumpey', 'IamExquisitechi', 'Funbss', 'KidMarleymusic', 'MsNemah', 'rbi', 'CASHE', 'Myntra', 'Apollo', 'Pharmacy', 'Bazaar', 'cashebyyourside', 'loanapproval', 'quickdisbursal', 'digitalmoney', 'buynowpaylater', 'GiannisStan4', 'rpsagainsttrump', 'potu', 'facist', 'misspelled', 'misuse', 'cigar', 'cement', 'Coupe', 'De', 'Le', 'ahahaha', 'desert', 'cπutiya', '8aug', 'bandra', 'bits', 'rubbish', 'weatherspoon', 'aystickz', 'chidinma', 'cuffed', 'paulduanefilm', 'grifter', 'pbcgov', 'Stephanie', 'Sejnoha', 'rt', 'helper', 'tl', 'recruitment', 'Amanuel60530075', 'Amanuel', 'Herbert', 'opaque', 'object', 'Ofcom', 'effrontery', 'Institutional', 'Note', 'earnest', 'gravity', 'relieve', 'robs', 'statpadde', 'samba', '73', 'Bale', 'Hazard', 'Salah', 'fishandchip', 'DomesticViolence', 'DomesticAbuse', 'dariuscrook', 'sainsbury', 'morrison', 'spencer', 'pork', 'lamb', 'crispykreme', 'kfcwingday', 'kfcfeelgood', 'mealdeal', 'Jeeny', 'multiplier', 'ein', 'arrived', 'dentist', 'procedure', 'anesthesia', 'withMH02FG2091', 'sakinaka', 'borivali', 'Boo', 'Ryu', 'Omw', 'credulous', 'midway', 'waterlogge', 'stringent', 'diatribe', 'R340', 'Fin24', 'calms', 'bagsnotfirst', '1yrofvijaygreenindiatweet', 'teamthalapathyblood', 'fuckkkkkk', 'urgirloliviax3', 'mcordova29', 'handicap', 'Atm', 'Walter', 'Reed', 'fwd', 'philanthropy', 'DefiantAndi', 'Awwwwww', 'Dio', 'nocti', 'burgie', 'TechsAfrica', 'Pinky', 'Warrnambool', 'probs', 'tracker', 'FACT', 'appetite', 'garageloungeuk', 'lashings', 'bacon', 'huggies7th', 'w1mav', 'Chanel', 'Algorithm', 'Millions', 'darakerr', 'emilygee', 'veenadubal', 'WillySolis357', 'Connie', 'marrow', 'coy', 'resell', 'whopper', 'GodKnowsRF', 'Careerspan', 'Tune', '8radioireland', 'fab', 'irish', 'try8radio', 'Shields', 'HungryPanda', 'Launches', 'APP', 'Theme', 'cellphone', 'occasionally', 'doze', 'finanzas', 'finanza', 'Rappi', 'AstroDocScott', 'summit', 'Everest', 'dive', '3800', '12500', 'Titanic', 'oceangate', 'oceangateexped', 'klumsykyrsty', 'KT', 'redpillrescue', 'JoriPLevy', 'AlexAmarandei1', 'EduardoPava6', 'GrecianGoldsmi1', 'adriangarciaeth', 'peaceful', 'surface', 'secondary', 'Kottonyna', 'manically', 'Fact', 'hazy', 'Infotech', 'demo', 'appdevelopment', 'mobileappdevelopment', 'appdesign', 'goeth', 'haughty', 'Proverbs', 'Post', 'Ascension', 'realmrumadrive', 'Righteous', 'Vegan', 'Dervery', 'Roppongi', 'RighteousBurger', '105', 'Just', 'TheLTDA', 'ltdaforum', 'Picanto', 'Wow', 'Manon', 'phenomenal', 'AfterPay', 'PATHETIC', 'unionize', 'Chauffeur', 'Braaaaaah', 'phine', 'Regent', 'autorickshaw', 'somuch', 'brutal', 'deconstruct', 'flavor', 'vi', 'Ventriloquists', 'Magicians', 'ComradeRobot', 'Shut', 'Shard', 'Samba', 'Sexy', 'Fish', 'rla323', 'SafemoonJoe', 'noe', 'uberguytony', 'hellobestfriends', 'こんにちは', 'ありがとう', 'blender', 'blender2D', 'blender3D', 'blender3Duser', 'History', 'Pattern', 'Art', 'Artwork', 'Comfortable', 'angle', 'R300', 'SquirrelLxrd', 'CostaCoffee', 'Drayton', 'costa', 'sumanthraman', 'aggregator', 'monetize', 'suing', 'discrimination', 'expunge', 'infraction', 'NoLifeShaq', 'drown', 'DOES', 'Heri', 'Jozi', 'harasment', 'danjryan', 'braaid', 'indicator', 'UberTechnologies', 'stockmarket', 'technicalanalysis', 'daytrading', 'rianmvp', 'gnna', 'playboy', 'partying', 'lunatic', 'oy', '41', 'cumulative', '25bn', 'sepsisuk', 'gentle', 'persuasion', 'pasty', 'province', 'ro', 'leafs', 'Mid', 'GibbeniganSD', 'lino492', 'Shiftystuff', 'dragon', 'Palkia', 'Kyogre', 'STAB', 'neutrally', 'worthwhile', 'flake', 'Brandy', 'Feels', 'Jknighty20', 'Mallard', 'thin', 'rudeness', 'sephirothtit', 'WEEKEND', 'OKEASE', 'lego', 'BUILD', 'ALCOHOL', 'uncertainty', 'Whenyou', 'thataccording', 'governmentguideline', '2personcan', 'carthen', 'showing4person', 'bookingbecause', 'thisrider', 'timethey', 'tofight', 'usyou', 'becauseof', 'thesething', 'Uberis', 'spoilingit', 'goodmorningbritain', 'goodmorne', 'EarlyBiz', 'bbcghost', 'bbccricket', 'bbcpapers', 'WWENXT', 'tortoise', 'Hanna', 'daught', 'willingness', 'canary', 'ThelaYourBoy', 'grief', 'roldanods03', 'akatinablow', 'Kentish', 'Greek', 'KentishTown', 'hosted', 'Excellent', 'irapsavinglive', 'MapmyIndia', 'HellaIndiaIAM', 'savelifeindia', 'Hugs', 'infinitely', 'cleanly', 'iamshyamd', 'mayazi', 'disintermediating', 'cartel', 'lending', 'Cognizant', 'Intuit', 'Fortune', 'slander', 'SLRedCross', 'utmost', 'warmth', 'spew', 'venom', 'hatred', 'daniel86cricket', 'sezzystardust', 'difficulty', 'RaymondMuzembe', 'Pune', 'showng', 'bt', 'PFA', 'hlp', 'cheer', 'hometoroost', 'prejudice', 'Nicolas01831875', 'Nicolas', 'NeerajChopra', 'bigshot', 'primetime', 'anchor', 'AlakeTope', 'alternatives', 'ubereatspromocode', 'ubereatspromo', 'freefoodlondon', 'ubercodes', 'ubereatscode', 'londonfoodie', 'mealprep', 'Recipe', 'Roshni', 'Ac', 'winrina', 'au', 'wherein', 'Karina', 'Winter', 'CamaradeCharles', 'BogossDeter', 'Macho', 'YoursGopichand', 'Choreographers', 'Song', 'PakkaCommercial', 'Gopichand', 'machostargopichand', 'Gopichand29', 'DirectorMaruthi', 'GA2Official', 'SKNonline', 'IamEluruSreenu', 'mcdonaldsuk', 'ubercodeuk', 'londonfreestuff', 'londonfood', 'ukdelivery', 'uktakeaway', 'indiantakeaway', 'ukfood', 'RequestLindani', 'stlanky', 'kamoso', 'motho', 'quantum', 'sorcerous', 'defy', 'AKA', 'sucker', 'innocently', 'patter', 'Lightning', 'Round', 'Prop22', 'rehire', '9newssyd', 'pathologist', 'Walgett', 'IGA', 'ridge', 'McDelivery', 'JustEat', 'takeout', 'hellofresh', 'Fiveaday', 'Diet', 'championship', 'Portsmouth', 'Sunderland', 'Pablo', 'shitpostmemz', 'Reona', 'insert', 'OP', 'ShentonStage', 'moniter', 'convience', 'frustrated', 'Audit', 'deficiency', 'adrianayalin', 'AdvanceDexter', 'DeePakao', 'tantrum', 'inadequate', 'Daylight', 'jrcrjdcr', 'ApuMynation', 'WomenCard', 'themselves', 'Victim', 'SaravjitDelhiCase', 'ZomatoBoy', 'LucknowCabDriver', 'MaleVictim', 'matrimonial', 'mygovt', 'indsupremecourt', 'Judiciary', 'SILENT', 'mcds', 'weekendvibes', 'westmidland', 'wales', 'coronavirus', 'CWC', 'Ashwin', 'debut', 'Ashwinkumar', 'cookuwithcomali', 'Trending', 'gigsinscotland', 'Architectsuk', 'TheSSEHydro', 'Hydro', 'Srishti49760240', 'mynationam', 'ablanari', 'torturing', 'upgrade', 'MEN', 'STAY', 'CriminalWomen', 'CCTV', 'rape', 'morrisonvaccinecrisis', 'MorrisonFail', 'MorrisonGovernment', 'morrisonoutbreak', 'morrisonsecondwave', 'LidlPlusFeeling', 'BurgerKing', 'icloud', 'watfordfc', 'qt', 'FIFA22', 'FreeGuy', 'ECFC', 'Eddie', 'Bravo', 'annual', 'FreshDirect', 'Blog', 'XI', 'RHvBS', 'MeinBaghiHoon', 'genderbiasedlaw', 'BreakingNews', 'LegalTerrorism', '498A', 'FeminismIsCancer', 'MyNationManish', 'shriramyadav88', 'ArrestLucknowGirl', 'dllnana', 'omm', 'thearcticpuppy', 'Exact', 'BetterCity', 'lucycrossie', 'THFC', 'VMAs', 'Destiny2', 'novaccinepassport', 'COVIDIOTS', 'XFactor', 'UniversityChallenge', 'exams2021', 'LUFC', 'Enta', 'merisipotunav', 'Enti', 'ManOfMassesRamcharan', 'MondayMorning', 'HappyBirthdayNHS', 'nhspayrise', 'Morrisons', 'ENGDEN', 'insights', '300x', 'tunisian', 'bureaucracy', 'mZbharatt', 'AjithKumarArmy', 'Recent', 'Pic', 'ruthless1984', 'piersmorgan', 'coercion', 'apologise', 'tuppencesellman', 'debc03417614', 'helenelambetsos', '2gb873', 'TED', 'LASSO', 'pranavmjan', 'regards', 'Pranav', 'abysmal', 'mj06shorty', 'crunchifie', 'Tempta', 'Burgers', 'gailvazoxlade', 'StockTrust', 'cisr7ii', 'BBNaija6', 'Garret', 'Camp', 'bookmarking', 'StumbleUpon', 'Mix', 'ContentMarketing', 'adorekem', 'Try', 'KweebecCorner', 'Erm', 'radleftie', 'raganwald', 'covidisover', 'Comeonengland', 'Cmonengland', 'Loki', 'ItsComingHome', 'Stormzy', 'thursdayvibe', 'itscominghome', 'miserly', 'dublinhub', 'jjaybrown98', 'sikhosanasa', 'SparkIyn4tune', 'Lem', 'Cop', 'poet', 'Fireman', 'Barista', 'Trapper', 'Athlete', 'tuber', 'Macy', 'Photographer', 'Author', 'genocide', 'LONG', 'MJNA', 'WST', 'COO', 'adsk', 'INTU', 'INTC', 'elcr', 'HPMM', 'HCMC', 'orcl', 'redhead19711', 'Waller', 'imminent', 'ruthless', 'Window', 'alostembrace', 'Final', 'Championship', 'georgehepworth3', 'lfchelp', 'Hahahaha', 'scouser', 'Whisker', 'gymnastic', 'Marx', 'iPhones', 'appalling', 'AlexKLMan', 'Walker', 'shredded', 'being', 'disposable', 'Bhaichara', 'Muzlims', 'Country', 'Outrage', 'Winner', 'Outraged', 'B00', 'Themselves', 'Shouting', 'Tahoe', 'homemade', 'swiggy', 'dunzo', 'haemorrhage', 'Sonepat', 'Haryana', 'IGI', 'Intercity', 'wyd', 'marvel', 'MatchDay', 'GameDay', 'DavidJames', 'MorningJulie', 'Rugby', 'MorningPhil', 'Stuck', 'Indianapolis', 'bwwing', 'epicfail', 'therashamidesai', 'deeppanchal', 'fùcking', 'Eater', 'Browse', 'Singapore', 'Popular', 'FoodOrder', 'japan', 'RaisingParents', 'RevRichardColes', 'Patron', 'Unter', 'amateursuman', 'FuryJoshua', 'Jimvic1', 'abundant', 'authenticcommunication', 'wizard', 'colonisers', 'kohinoor', 'wapis', 'lavde', 'rofl', 'contradict', 'rodent', 'Wild', '4x', 'WHOLESOME', 'JReneex', 'TheMiggs09', 'legitimately', 'overtime', 'Thoughts', 'Yilmaz', 'liushen', 'liushenweek', 'CardanoKombat', 'Limited', 'Collectible', 'allied', 'billing', 'rigbythedog', 'trashboat', 'gettestkeep', 'freebie', 'Account', 'toggle', 'restaurateur', 'quietly', 'di', 'teng', 'mondsilver', 'toyinomotoso', 'whoreintheroom', 'parasite', 'Imran', 'Niazi', 'Nadeem', 'Inshallah', 'smfh', 'ICYDK', '67', 'QF', 'Keen', 'Inferis', 'ALOT', 'NorfolkDay', 'TeamGB', 'tuesdaymotivation', 'tuesdayvibe', 'Tuesdaymorning', 'foodshortage', 'Burgerking', 'Costacoffee', 'fiveguy', 'Sainsburys', 'MCU', 'unionization', 'bailout', 'Joining', 'stack', 'loool', 'mud', 'mafia', 'careempak', 'dest', 'z', 'hosp', 'proven', 'meritocracy', 'polarised', 'Lives', 'laughable', 'methodology', 'reduction', 'DFKM', 'FT', 'GroguHimbo', 'glow', 'dubious', 'academic', 'veneer', 'overstating', 'gullible', 'SkeemSaam', 'Piet', 'lizzy', 'johnandkenshow', 'OTHER', '33percentsamoan', 'fratty', 'criminality', 'peta', 'macs', 'feat', 'francisco', 'camilla', 'gardener', 'ludicrous', 'scarlett', 'johansson', 'emma', 'watson', 'shrewdly', 'SARS', 'sarsaparilla', 'deflect', 'maureendowd', 'fawn', 'Staggering', 'Losses', 'Ooooooh', 'Dettol', 'jake2themac', 'PETR0LBLISS', 'JohnWMacPherson', 'NeilDance', 'EmmaKennedy', 'DailyMailUK', 'flimflam', 'Bronze', 'BATC', 'wd', 'WJC', 'Suhandinata', 'HBD', 'Kak', 'Gel', 'SenJohnHoeven', 'Hoeven', 'TaxiApp', 'AppDupe', 'taxiappdevelopment', 'uberliketaxiapp', 'themiggs09', 'waive', 'matched', 'Lancashire', 'Leicestershire', 'bwfc', 'hawtywywyw', 'wadaaa', 'hahahahah', 'Halo', 'BiermanSasha', 'ios', 'dev', 'ON', 'GCSEresults2021', 'GCSEs2021', 'Everton', 'teamsapnap', 'YolandaKarabo', 'hatwywywuwu', 'scathing', 'ravage', 'SE', 'KeepitOn', 'TwitterBanNigeria', 'KeepItUp', 'Chioma', 'Haaland', 'jega', 'rccg', 'NoVPN', 'June12Protest', 'ikorodu', 'hamg0ddess', 'Dunzo', 'sizable', 'onus', 'klippie', '1991', 'Royal', 'Albert', 'Dock', 'MainStandULTRAS', 'takaratataa', 'UberIndia', 'innovate', '18july', 'inspect', 'mqke', 'watching', '0xhead', 'wagmi', 'Emuziek', 'typically', 'communial', 'terriorist', 'AT', 'revrichardcole', 'Fiacre', 'Dominique', 'vespa', '𝐴𝑐𝑐𝑜𝑟𝑑𝑖𝑛𝑔', '𝑡𝑜', '𝑡𝘩𝑒', '𝑎𝑝𝑝𝑙𝑖𝑐𝑎𝑡𝑖𝑜𝑛', '𝑚𝑖𝑠𝑡𝑒𝑟', 'Sienna', 'LE', 'Reverse', 'ARIN', 'HappyNewMonth', 'happynationalgirlfriendday', 'Ebuka', 'pere', 'MondayMotivaton', 'Beatrice', 'NurseLade', 'cutest', 'Venza', 'Pano', 'Push', 'FANLOVE', 'boma', 'adegoke', 'ManSoClean', 'MoneyHeist', 'Efcc', 'AAI', 'Harshini', 'operatie', 'shameful', 'Njuma98896253', 'perennial', 'anthonana', 'phenomenon', 'untrammeled', 'DCEUSnyderverse', 'scheduled', 'RAMEN', 'cumbersome', 'lf', 'watcher', 'narrate', 'narration', 'cushion', 'harshly', 'Eduardo', 'aud', 'Silver', 'XD', 'Junior', 'ThreeLions', 'LukeShaw', 'Itscominghome', 'sundayvibe', 'IndependenceDay', 'ThankYouDay', 'SocialistSunday', 'SundayMorning', 'SundayBrunch', 'WearAMask', 'RangersFC', 'popularity', 'pesin', 'ZachCollier311', 'UberEng', 'fulfilment', 'completion', 'SoftwareArchitecture', 'NewSQL', 'InfoQ', 'dababy', 'cousin', 'scotch', 'fillet', 'citrus', 'sesame', 'offend', 'jelly', 'toabeans', '20min', 'inconvenient', 'emstwittytweet', 'YEAH', 'takedown', 'ohhhh', 'Seeing', 'lmfaooo', 'brotha', 'Craigsshepp', 'skysportsnew', 'SkyKaveh', 'TacAirlifter', 'MelanieMusey', 'cAn', 'DrIvE', 'UbEr', 'BaldeepSinha', 'Truly', 'BESTSERVICE', 'fatbabyfund', 'finalise', 'Century', 'waronweakness', 'OrwellNGoode', 'fuller', '0800', 'FULLERS', 'lur3on', 'cg', 'k2shifty1', 'facilitate', 'willielightfoo5', 'lefty', 'PG', 'crafty', 'poboigh2', 'SG', 'jakelpowell11', 'GW', 'versatile', 'FCPPangos', 'filming', 'backstreet', 'midland', 'dang', 'underwhelme', 'pacing', 'condense', 'enjoyed', '2d', 'hookup', 'reinstate', 'AKPriyadarshi02', 'Indian', 'VocalForLocal', 'anjiyatheysay', 'PWNeha', 'BooM', 'AsdaServiceTeam', 'micky', 'dishwasher', 'farfoony', 'NBATV', 'MGMResortsIntl', 'Segnun', 'balling', 'ArnoldOsena', 'Jeffery', 'Hint', 'hourly', 'alexklman', 'nickmurftweet', 'lecanardnoir', 'liyah4y', 'Alliyah', 'rectified', 'upto', 'KingGamn1', 'JessicaELaymon', 'bmjcyn', 'imitate', 'geek', 'Nice', 'crushingit', 'Henley', 'suezUK', 'JulieSchollick', 'xxx', 'lastma', 'policeman', 'GIG', 'eternal', 'axis', 'Gbagada', 'lilcelosa', 'Imy', 'Russia', 'farcical', 'FastCompany', 'drizzle', 'unresolved', 'meaningful', 'Moloko', 'toy', 'threatintel', 'secularism', 'Reach', 'Vanillacoral', 'Papa', 'Whack', 'shalaye', 'Portugal', 'Might', 'mindset', 'submission', 'AGT', 'UniCircleFlow', 'unicycle', 'vanillacoral', 'cuddly', 'GB', 'iealondon', 'DK', 'habits', 'badminton', 'AM', 'KenSimonSays', 'anylaurie16', 'HD2onPBdotcom', 'HGV', 'monsterhunter', 'NetflixGeeked', 'hunter', 'dialogue', 'Lowering', 'liable', 'LOTS', 'vehemently', 'vaxi', 'geddit', 'gaeilge', 'temptation', 'chamdorpapi', 'Rashford', 'Ole', 'Psg', 'Akintun28184988', 'AndiOnrubia', 'diarioas', 'Interessant', 'kijkje', 'financiële', 'keuken', 'GeorgeTakei', 'chud', 'Skate', 'dispensary', 'welcometoportland', 'keepportlandweird', 'BalancingAct21', 'invalid', 'MatthewModine', 'outsmart', 'gautrain', 'SteveMerkle9', 'subi201220', 'Suhani', 'whitney', 'poorservice', 'roguedrivers', 'uberdrivers', 'ebitda', 'amortization', 'Adjusted', '2b', 'Credit', 'candy', 'Lion', 'Mints', 'ThaboOTHABILE', 'mna', 'LEAVING', 'BLACK', 'PICKUP', 'C19th', 'C21st', 'dickensian', 'marcmorehouse', 'twelve', 'lizdenn', 'tomideabdul', 'T2', 'terminal', 'Vasant', 'Kunj', '10th', 'Monocotyledon', 'carriage', 'CNFT', 'Burbank', 'parity', 'balcony', 'NSFW', 'Version', 'rr34', 'rr63', 'Lewisbrown91', 'Sahara', 'Reporters', 'Struggling', 'RWA', 'arbitrarily', 'barricade', 'TESLA', 'CHARITY', 'charity', 'stockguru', 'Palantir', 'dogecoin', 'nasdaq', 'mtch', 'BITCOIN', 'ADDS', 'ikoichi', 'landing', 'redesign', 'PE37300459', 'Potonjere', 'Ndakai', 'verenga', 'kare', 'JasonThalken', 'purely', 'temporarily', 'delhi', 'nameandshame', 'Admin', 'Eibar', 'Colleagues', 'itira', 'Vellutaskila', 'Korvaa', 'sana', 'sanalla', 'Foodora', 'tai', 'Wolt', 'CyGradCyDad', 'UrbanMichael13', 'CR', 'corrosive', 'looting', 'polluter', 'funder', 'medlar', 'isosteph', 'sacrament', 'Khanyeeza', 'asking', 'Lexus', 'Mehn', 'headquarte', '30ct', 'Notice', 'reasoning', 'foretold', 'surprisingly', 'durable', 'Colby', 'unsigmosh', 'unsigmoshe', '5th', 'Davidthagnome', 'amarkinthailand', '𝗖𝗛𝗢𝗢𝗦𝗘', '𝗪𝗜𝗡', 'oo', 'mac', 'Goenkas', 'Kittu', 'yrkkh', 'Chuslam', 'Kashmiri', '937', 'bila', 'paybill', '555443', 'Joho', 'Nyamu', 'Kinyua', 'Rashy', 'Swahili', 'offsite', 'Convenience', 'staying', 'onsite', 'Being', 'coolabadev', 'juventus', 'juve', 'AdoraNwodo', 'safaricom', 'Ricky', 'Composure', 'Maskandi', 'Ali', 'Mgube', 'Igcokama', 'Elisha', 'IDC', 'Keeps', 'uselessly', 'REGRETFULLY', 'LEGITIMATE', 'CLEANING', 'FEE', 'hobby', 'recreate', 'cum', 'inflated', 'mountain', 'Looks', 'DidiGlobal', 'threatened', 'Naked', 'synopsis', 'vash', 'Khudiram', 'bose', 'dallawood', 'invader', 'disneyhotstar', 'volleyball', 'logistical', 'reliably', 'innovative', 'teddlyf', 'Subsidies', 'softforyuto', 'Proud', 'E', 'posting', 'risking', 'theinvisibleman', 'Updated', 'vastly', 'retold', 'HG', 'classic', 'Elisabeth', 'Moss', 'Cecilia', 'coercive', 'adrian', 'uniformity', 'Boy07John', 'messi4vr', 'Soheli8', 'Zariya', 'Talks', 'organiser', 'KashmirPremierLeague', 'SandeepParekh', 'BeingPractical', 'authorbenson', 'Chrmdpoet', 'Oooh', 'ballantine70', 'Rant', 'chai', 'Mac', 'tote', 'HainingMax', 'johnarthurbush', 'BradLeeOnBass', 'hitchhiker', 'HitchPort', 'whedon', 'cule', 'IRL', 'shed', 'jl', 'belalu132', 'Belal', 'Caz', '0xNosedrop', 'unfollowalex', 'Aw', 'lithium', 'nuh', 'Specialist', 'Blockchain', 'JoburgMayor', 'ClimateCrisis', 'ContentWriting', 'GotG', 'SS', 'downstair', 'fakelatinx', 'underinveste', 'scapegoat', 'decongestion', 'Winning', 'flattered', 'horde', 'UNACCEPTABLE', 'Control', 'wherent', 'Unlock', 'TaxiBookingApp', 'taxibookingscript', 'TaxiBookingSoftware', 'Startups', 'StartupBusiness', 'abs', 'Abservetech', 'National', '1300', '74', 'Do', '350ml', 'Jumia', 'JavaLove', 'kya', 'waah', 'VIA', 'enga', 'Tells', 'vandhurren', 'guacamole', 'salsa', 'Paypig', 'simp', 'brat', 'Feyi', 'kini', 'gbogbo', 'eleyi', 'F1', 'throwback', 'Feb', 'Lounge', 'Edmonton', 'yegmusic', 'albertamusic', 'thakkermaharshi', 'realBJP', 'stagger', 'Money', 'Timeframe', 'Unlocked', '2D', 'Chart', 'Profit', 'Paramedics', 'taint', 'rebootdude', 'ErumSKhan', 'GPA', 'FAST', 'Using', 'Cardiffbus', 'Going', 'humbug', 'birdwatch', 'birdphotography', 'Cameras', 'Surveil', '𝒟𝒾𝑒𝒷𝒪1', '𝒟𝒾𝑒𝒷𝒪37', 'copypasta', 'frens', 'Centrebus', 'incur', 'inability', 'decarbonise', 'energytransition', 'electricvehicle', 'Managing', 'REA', 'reinsw', 'Proptech', '16th', 'thankyoubabie', 'HELL', 'YEEEEAH', 'pricey', 'genesis', 'defi', 'oncoming', 'fool', 'headlight', 'verb', 'Meh', 'ALLES', 'CarrionLegal', 'destiny', '8088587464', 'Mithun', 'Scoop', 'MarkDiStef', 'inspection', 'directive', 'Codes', 'Enter', 'Generate', 'yooo', 'bap', 'potus', 'stormrdr21', 'Ngl', 'breathe', 'illusion', 'Ibrahim', 'fuckwit', 'AdityaMedhe', 'sceptical', 'bye3mel', '7araka', 'zeftttttt', 'eno', 'bey2arrab', 'yela2y', 're7la', 'byemshy', 'wa2ty', 'WhatIf', 'realworldemperor', 'dispenser', 'warriorskpl', 'warrior', 'tradie', 'EMPLOYED', 'selfemploye', 'minimumwage', 'Find', 'euphemistic', 'TCDisrupt', 'hk', 'Kaha', 'jaun', 'bata', 'gigworker', 'racket', 'Mufuckas', 'satisfied', 'minimise', 'behave', 'hv', 'CNG', 'any1', 'rapper', 'tape', 'discontinue', 'Domination', 'TravelDeals', 'TravelNews', 'TripsGuides', 'Touring', 'CityBreak', 'Photo', 'Vacation', 'TravelGuide', 'puffmcmarkerson', 'Festival', '10x', 'Mcdonalds', 'queue', 'devaluation', 'allergy', 'Mayo', 'allergic', 'Techdupes', 'evasion', 'Millionaire', 'golfer', 'Vallheim', 'Shane', 'MF', 'Sentinels', 'SCOOP', 'analyse', 'controversial', 'passanger', 'Worse', 'ps5', 'shipping', 'Matcha', 'Priceless', 'Adorable', 'floof', 'sharjeelkhansb', 'Istanbul', 'seedy', 'stefandmndz', 'Waaa', 'Smirnoff', 'vent', 'spazzrella', 'Ace247365', 'sydienr', 'Wowhead', 'advisory', 'Citi', 'JPMorgan', 'EA', 'narrow', 'cedis', 'gutter', 'isabellebadham', 'CompositorThe', 'rank', 'involvment', 'tfl', 'koronkowy', 'CarHackVillage', 'labacdotdev', 'Sheep', 'shepherd', 'Cheng', 'Germans', 'ARanganathan72', 'slogans', 'humiliating', 'SFGiants4Life', 'eddylight95', 'thepumper5', 'alvey5', 'Bec', 'Bucky', 'Shano', 'alternate', 'Bazz', 'DTLA', 'flyaway', 'nudity', 'appellatetwitter', 'lawtwitter', 'IndianaUniv', 'accordance', 'senjohnthune', 'Reduce', 'Biggesr', 'Killu59', 'DIMITRISYNWA', 'MessiIizer', 'TheHandmaidsTale', 'Serena', 'amazingly', 'unite', 'payforit', 'cantremov', 'bing36022594', '8bitdrumstick', 'photography', 'BoitumeloC3', 'Saliba', 'masterclass', 'stunt', 'Mboop', 'Nayimari', 'Arteta', 'KilaniAreYouOk', 'karta', 'mujhe', 'kharid', 'liya', 'conservation', 'Juarez', 'zachcrate', 'DUI', 'numerous', 'Unfamiliar', 'newbeepersmell', 'bx', 'arligast', 'obamaGaySex', 'multipli', 'diehard', 'Giants', 'turner', 'michael', 'jackson', 'posey', 'choreography', 'BING36022594', 'Oxaliens', 'leiane1', 'animetas1', 'aliensgoose', 'ArnoldPoernomo', 'jpeg', 'davidfolkenflik', 'JaniceDean', 'MEDICARE', 'PROVIDER', 'ombudsman', 'primary', 'rehabilitation', 'carolineplz', 'Ordon', 'heroic', 'PrufrokAlfredJ', 'batista', 'noun', 'Shanaya', 'Shania', 'keeper', 'SLOWEST', 'GRACIOUS', 'ALLOWED', 'medieval', 'programmer', 'photosbymina', 'quien', 'fingire', 'su', 'dia', 'bombard', 'terrify', 'nonchalant', 'Mugappair', 'deadass', 'oddly', 'adorable', 'fredandposysno1', 'AUS', 'ebojnansky', 'joewern', 'mamas', 'sydney', 'Retweet', 'MovesLikeDragan', 'KirstyBisset', 'AnitainKelowna', 'HouseOfEvoEnt', 'fahimho91000676', 'kris4ord', 'JackieHillPerry', 'bible', 'depressed', 'Repost', 'turnmeupchaser', 'zulu', 'xenophobic', 'madafacka', 'possess', 'yerr', 'Kairofthedark', 'Makno20', 'GulliverNeedham', 'Jacaranda', 'FM', 'Expat', 'uhbroncofan', 'benmaller', 'Eddieonfox', 'woulndt', 'stanger', 'merrick', 'Fix', 'maroyasha', 'KimCommie', 'fulltimebitcoin', 'DoggeBTC', 'andreattafabio', 'damiendonnelly', 'italivar', 'andriusmaneiki', '3DNuts', 'stimulus', 'extended', 'unraveaero', 'EPF', 'appease', 'fantanstic40', 'TheCircuit', 'emmanuelhansel', 'sg', 'slasher', 'gracefully', 'chimapaaa', 'bruise', 'motor', 'chop', 'adamlambert', 'KTLA', 'INFO', 'glam', 'Lavie', 'whop', 'AJIOMANIA', 'Sale', 'Hurry', 'AjioLove', 'Sign', 'sniff', 'sneak', 'TMPDSafety', 'Juventus', 'cr7', 'Seria', 'Rights', 'Jools', 'closely', 'instance', 'lmZubayer', 'inshallah', 'Copa', 'attacker', 'shirishag75', 'Technocratic', 'solutione', 'flush', 'printing', 'disregard', 'apalle', 'kanishksingh27', 'lucknow', 'faced', 'nodia', 'gzb', 'hindi', 'Russ', 'Braun', 'dare2draw', 'Comix', 'Dare2DrawStudio', 'simonfraser', 'RussBraun2', 'creatorCODE', 'personnel', 'billboard', 'teamcoworker', 'kanyejackson5', 'painful', 'seananner', 'twitch', 'tomatom', 'MelbourneBitter', 'Genuine', 'cape', 'positively', 'spidey', 'churn', 'honour', 'Joins', 'Excited', 'prama', 'Cashing', 'pernicious', 'opportunistic', 'amoral', 'rediscover', 'zoning', 'Phil', 'KellyMotif', 'Megan', 'shelled', 'manipulative', 'shady', 'scame', 'officeofng', 'BoycottUber', 'TeamMessi', 'TheEconomist', 'cnn', 'SamanthaaSmartt', 'TurtSoCal', 'danger', 'radishhorse1', 'HeadlessBassist', 'GeorgeCochrane1', 'Somebody', 'CMOMaharashtra', 'cooked', 'ShinyRedUkulele', 'BuffyBoys', 's7', 'Rape', 'E15', 'empowerment', 'Finale', 'montage', 'Vamps', 'MadiKGoldddd', 'variation', 'ISSUE', 'itadrop', 'bamburi', 'places', 'mwengine', 'bombolulu', 'bado', 'iko', 'ndo', 'ntasettle', 'amolakh', 'Ghaziabad', 'Barola', 'frequently', 'farts', 'ballad', 'SenToddYoung', 'disinform', 'JOKE', 'jolaurenx', 'Federal', 'Trade', 'scrutinize', 'beforehand', 'jessoehmyy', 'worked', 'emirich', 'TL', 'dr', 'Mhannnn', 'dropping', 'summon', 'wiser', 'iambeave', 'huku', 'pesa', 'pombe', 'fffff', 'Xandrick64', 'UnwovenRabbit', 'barefoot', 'litter', 'unusual', 'tylerthecreator', 'respind', 'samethe', '62', 'speeding', 'daversa', 'recruiting', 'Snap', 'allegation', 'TiberiusChrist', 'bimbocommunist', 'comply', 'ianwalker', 'Innisfail', 'b2', 'G', 'daniidabanii', 'Operational', 'Excellence', 'Experience', 'measle', 'vernacular', 'Ann', 'Arbor', 'ExSecular', '5stzrFN', 'tiktok', 'Innocentsatoo', 'munchie', 'overnight', '930pn', 'sfc', 'converge', 'OFB', 'PHX', 'conditionally', 'unstable', 'mod', 'azwx', 'wilding', 'kf4yfa', 'weep', 'hughezo', 'Bizzare', 'stefanymonica3', 'CHN', 'FukuHiro', 'TakaMatsu', 'retirement', 'JPN', 'Gigantes', 'drlovegrove', 'shrek', 'donkae', 'reading', 'NWSNashville', 'JoeManganiello', 'Kylian', 'improper', 'uploading', 'twt', 'clout', 'tttt', 'AllOnDental', 'Nolan', 'Sum', 'resignation', 'hemanegi16', 'admin', 'bd', 'PresThief', 'Oho', 'dharmic', 'KCR', 'Snoke', 'JK', 'Kylo', 'compassion', 'terminology', 'familial', 'Rey', 'Shanghai', 'Cos', 'molue', 'oshodi', 'Zooming', 'ZOOM', 'Husnain', 'mumma', 'noddles', 'kristajadexox', 'kyaukhaadlega', 'ravinhood26', 'Dafruity', 'nikestore', 'VodafoneIN', 'ashutosh83b', 'ajaydevgn', 'OritKopel', 'WikiTribune', 'RaviShastriOfc', 'incindia', 'RealHughJackman', 'UN', 'antonioguterre', 'queennaija', 'omeruo22', 'shakira', 'deepikapadukone', 'RanveerOfficial', 'rogerfederer', 'RafaelNadal', 'DjokerNole', 'IsraelinIndia', 'indemtel', 'netanyahu', 'IsraeliPM', 'danielocarmon', 'NetflixFilm', 'hulu', 'KagutaMuseveni', 's8n', 'TheTweetOfGod', 'pamfoundation', 'priyankac19', '567', 'Protest', 'Lama', 'Hm', 'oldfaysal', 'satisfy', 'BellaPoarchSlut', 'Bella', 'Poarch', 'Rodrigo', 'redeem', 'TheHomeDepot', 'Ulta', 'CJMPadres23', 'Connor', 'Sept', 'S1000', 'S750', 'helloiamstove', 'donnasharple', 'Donna', 'Midget', 'Alan', 'Nyom', 'DOGE', 'MichaelWestBiz', 'CallumDRFoote', 'emilchangtv', 'Drizzly', 'antitrust', 'Kuhl', 'ubertanz', 'OpenVault', 'Collection', 'Associates', 'phiuhhh', 'yeahh', 'unappealing', 'minion', 'ginte', 'overconfidence', 'unproved', 'GEICO', 'Allstate', 'MV', 'ranchwilder86', 'herein', 'KRogersdotter', 'chisherman', 'suebee0619', 'freddie', 'prinze', 'jr', 'Manny', 'Elle', 'McPherson', 'Chandler', 'manly', 'Joey', 'imdanielleegray', 'FINALLEVEL', 'profound', 'Rappers', 'DaveNadig', 'Useful', 'toothpaste', 'tix', 'determinable', 'insuraonce', 'maint', 'SidPlace', 'cbm', 'Taika', 'Watiti', 'Daredevil', 'bio', 'fooddelivery', 'australianew', 'ubernew', 'taa', 'transportallianceaustralia', 'cvaus', 'fooddeliverydriver', 'deliverydriver', 'cour', 'DGPMaharashtra', 'PuneCityPolice', 'AUThackeray', 'Awhadspeaks', 'advanilparab', 'mumbai', 'pune', 'commercialization', 'Wireless', 'Shi4Tech', 'finmktg', 'drericde', '349', 'Eiii', 'PAN', 'aadhar', 'qualification', 'biglilrichard', 'geofence', 'unoriginal', 'challah', 'passage', 'Cpt', 'boomerangsalwayscomeback', 'itsoraida', 'texting', 'md', 'FF', 'Bernie', 'SenSanders', 'cuomo', 'narc', 'extortion', 'bookie', 'WW', 'visual', 'chrisscarg', 'Christopher', 'Cleveland', 'hemorrhaging', 'Crystal', 'programmable', 'Thru', 'shaunrein', 'ccp', 'MAYBE', 'MINUTE', 'ORLANDO', 'NEAR', 'CHEAPER', 'PARK', 'HULK', 'SERVICE', 'RIP', 'OFFS', 'SPOILERS', 'dissent', 'HT', 'Vedant84012', 'Alphabond1018', 'Moved', 'Prepaid', 'Services', 'economics', 'camdendavis98', 'R310', 'R65', 'mandaobserver', 'occular', 'sufficient', 'goggles', 'Nitin', 'enrage', 'Ward', 'nevertweety', 'thoughtful', 'Tessy', 'bihh', 'eyeinject', 'Alternative', 'feign', 'GigEconomy', 'Onlyfans', 'rtgame', 'subswante', 'finD', 'finslave', 'retweetgame', 'feetpic', 'cashslave', 'recency', 'balancingact21', 'claw', 'Vehicle', 'KA03AD4811', 'Sendil', 'MadisonCarly26', 'Wise', 'objective', 'caitlinllol', 'growl', 'styling', 'semi', 'Wave', 'emmalangevin', 'agraybee', 'Coast', 'progression', 'ribs', 'PhoenixMassacre', 'microfrontend', 'React', 'Microservices', 'Quillette', 'purposefully', 'opps', 'yk', 'Saying', 'Gtfoh', 'boner', 'ChuckGrassley', 'therealnaomib', 'illahi', 'illahlah', 'Extremism', 'RanaAyyub', 'colour', 'Highlights', 'fakeLatinx', 'sec', 'credible', 'vicstormchaser', 'techcrunch', 'remoteworktip', 'Ewww', 'honked', 'JRLthewriter', 'folly', 'mediator', 'iiINCONTROL', 'Betjeman', 'Wadebridge', 'firve', 'visually', 'impair', 'amd', 'UberShare', 'byproduct', 'resultant', 'institutional', 'dhanushkraja', 'iz', 'reactive', 'cnbctv18news', 'cnbcprimetv', 'CNBC', 'artbrock', 'marycamacho', 'helioscomm', 'WazirXIndia', 'abey', 'saale', 'Reservation', 'BuckFradley', 'authtrkelly', 'slacking', 'BuzzedBears', 'DAO', 'gravel', 'lmfaooooooo', 'Mirror', 'external', 'guild', 'jello', 'biafra', 'melvin', 'california', 'centuryhttp', 'kathbarbadoro', 'kept', 'craft', 'Trill', 'jdub', 'Chapel', 'clueless', 'uberize', 'slovenian', 'bluelivesmurder', 'bonker', 'RepMattGaetz', 'trumpy', 'GadangRakkamma', 'VikrantRona', 'KicchaSudeep', 'DevKobby', 'shattawalegh', 'SHAXI', 'treating', 'rodrigo', 'runin', 'slp', 'tn', '2021we', 'Sane', 'Nagpur', 'Maharashtra', '8975728083', 'deepaksane0', 'sohinichat', 'handing', 'infuriate', 'hollywood', 'tutoring', 'byzoo', 'usagiminho', 'Graciouszs', 'counterpoint', '57', 'rapid', 'Samaritan', 'centralized', 'understandably', 'porch', 'Threw', 'LaurensJulien', 'qatar', 'Citroen', 'zzz', 'paragraph', 'refute', 'RudyGiuliani', 'Linda', 'witch', 'RobertShivambu', 'hungary', 'genuine', 'inevitably', 'hideous', 'hyrollin81', 'award', 'chebutterfield', 'unnoticed', 'WW84', 'REQUEST', 'ShawnMendes', 'MTV', 'FridayLivestream', 'Noted', 'eChallan', 'brazyyr6', 'olivermiller30', 'JarronR6', 'Awh', 'mannnnn', 'utensils', 'ioNToasty', 'preciate', 'BWF', 'Calendar', 'Syed', 'Int', 'brfootball', 'strengthen', 'Lick', 'tommiesunshine', 'tinydaniela', 'itsjt619', 'hurgh', 'rp6991', 'pupusa', 'compañera', 'las', 'pedas', 'liquid', '280', 'rblx', '588', '1411', 'undefined', 'payable', 'buss', 'PanickedFoodie', 'bummer', 'fortnite', 'Israel', 'vaxxed', 'PROMO', 'ENGITA', 'FridayFeeling', 'vibepayfriday', 'EuroFinal', 'fridaymorne', 'FridayMotivation', 'FridayThoughts', 'Caturday', 'UKGiftAM', 'ukgifthour', 'shopindie', 'JohnsonVariant', 'Projection', 'Wake', 'Forest', 'Deacs', 'ACC', 'Hartman', 'Jaquarii', 'Roberson', 'Huskies', 'stout', 'Trent', 'McDuffie', 'elenalindq', 'Never', 'lone', 'arena', 'tigertoy17', 'Blockbuster', 'Polaroid', 'Kodak', 'Motors', 'redundant', 'lindymonov', 'conspiratorial', 'GIVE', 'Changes00000', 'slogan', 'bulshit', 'dudes', 'gday', 'insulted', 'CurbivoreNews', 'postal', 'DHL', 'drunkard', 'crossfade', 'GeckosNightly', 'thoughtfully', 'pipe', 'Grains', 'chimney', 'spills', 'fireplace', 'submerge', 'tack', 'mapoli', 'obey', 'sandi82853158', 'Sandi', 'Villain', 'spice', 'unopened', 'gimmick', 'setback', 'decay', 'moreover', 'pave', 'helpto', 'alreday', 'badcostumerservive', 'drmcthr1stwin', 'kiddo', 'vocal', 'Flash', 'JL2', 'zsjl', 'curtusdfetters', 'Sue', 'HyVee', 'Unsafe', 'JilllDavis', 'Mc', 'mx', 'Cafe', 'preordere', 'estrogen', 'nightdrive82', 'HelenQintero', 'Bromassss', 'zuzuqueenofmars', 'thou', 'Iv', 'shud', 'Norm', 'soff', 'kissing', 'lip', 'Fast', 'duh', 'Jejus', 'Vlad', '1002', 'MarianaHeke', 'GeordieStory', 'ianbin', 'conformist', 'conform', 'prevail', 'nonconformity', 'LyndaBaquero4NY', 'referralbonus', 'heidi029', 'WKS', '434', 'rmstorie', 'stephsmithio', 'Steph', 'womenintech', 'pranavrometra', '1angg1', 'AMAZING', 'Poke', '45c', '42P', 'SOFI', '18C', '16P', '285C', '270P', '86C', '83P', '202', 'YT', 'EST', 'microwave', 'goodShap', 'HoratioHufnage4', 'SammyBlackPDX', 'dnathe4th', 'iphone', 'contradiction', 'SO', 'GreedIsGood', 'callous', 'ReadiBay', 'licensed', 'irresponsible', 'Quarantine', '6b', 'Harpers', 'Sean', 'adadotart', 'lytle', 'LukeJohnEmmett', 'Luke', 'inv', 'tu', 'khud', 'salwar', 'utha', 'bhaag', 'padegi', 'DMd', 'ShehnaazGill', 'Janice', 'Sequeira', 'Season', 'Feeling', 'Nahi', 'Hai', 'fame', 'Yashraj', 'Mukhate', 'saarlorlux', 'Babak', 'Tafti', 'Join', 'paintmenake', 'millionth', 'chrysanthemum', 'ZHNR', 'Coimbatore', 'Prabhjeet', 'Singh', 'freshener', 'lid', 'ferment', 'chemical', 'shoehorn', 'blatantly', '9820851944', 'Afain', 'aroun', 'drama', 'Josstice', 'Regarding', 'ponder', 'curriculum', 'Chad', 'Diel', 'gastritis', 'Fever', 'whiny', 'mwwee', 'mild', 'austinfood', 'atxfoodblog', 'unanswered', 'TrafficDroid', 'pancakesmacker', 'JamesGunn', 'compensating', 'compromise', 'limousine', 'Mind', 'leather', 'infuse', 'despair', 'LucieeeeeBee', 'keyboard', 'spicy', 'Move', 'Spotlight', 'Chaos', 'cvkrishnan', 'altho', 'unknown', 'abound', 'ozzy', 'fastfood', 'drastically', 'Automobile', 'Smart', 'Dayton', 'Cincinnati', 'vandinhuber413', 'monkey', '47', 'gin', 'martini', 'Meraxes9', 'snboxe', 'BWard7234231980', 'Fascinating', 'editor', 'Farhood', 'Eubank', 'durability', 'sake', 'RATHER', 'jhené', 'bhopal', '750', 'Looong', 'cancun', 'Estrogen', 'ByFoxattix', 'Ekiti', 'pamper', 'superstar', 'chic', 'Evans', 'Kstatehypesquad', 'addiction', 'arrogantly', 'dismantle', 'quantity', 'doubling', '64', 'GIANT', 'chedar', 'popcorn', 'mischacrosse', 'TERRIFIED', 'crooked', 'BadmintonTalk', 'addisonleecab', 'glorify', '456rs', 'sowetanlive', 'joburg', 'bcoz', 'minibus', 'despicable', 'hisab', 'liye', 'karte', 'hain', 'hamen', 'aapko', 'galiyan', 'dete', 'Hain', 'Ramesh', 'GENDER', 'blantaly', 'Virginia', 'teddiese', 'debbiez49', 'sweet21991', 'repthomasmassie', 'TwitterSupport', 'unvaccinate', 'Democracy', 'seattle', 'bachelor', 'necesito', 'vb', 'unemployed', 'kalifxrniaa', 'Shirt', 'Dress', 'Deep55618085', 'scumbag', 'unparallele', 'VeganRachel', 'thephysicsgirl', 'UFO', 'Fucking', 'Organization', 'ignition', 'brendonqueue', 'healing', 'acapella', 'jakkaluz', 'jilevin', 'sexygayperson', 'LgBTSsafespace', 'licker', 'Ethan', 'Bearman', 'espouse', 'Shannon', 'Bream', 'deductible', 'physcho', 'DrAmirKhanGP', 'crrbaseball', 'bebe', 'GIST', 'BarronWheelbar1', '2years', 'Nielesh', '9newsperth', '10NewsFirstPER', 'GWN7News', 'Govt', 'WA', 'detriment', 'fienixtaranova', 'nun', 'hula', 'hopping', 'Sit', 'jar', 'TheGriffinBurns', 'dzulyen', 'slamup', 'Aussie', 'Switzerland', 'swiss', 'douche', 'Cities', 'Transit', 'GM', 'streetcar', 'HughJas18', '039s', 'emotional', 'MichelC36100035', 'Cardozo', 'mchicken', 'tartar', 'gailrule1', 'ClayTravis', 'bux', 'mmmmurf', 'marketwatch', 'classical', 'moneybag', 'Tweetyp50939577', 'goan', 'Katampe', 'missyc77', 'Cnezzylady', 'r3', 'druski', 'Mario', 'kart', 'wii', 'Precap', 'frm', 'Gfly', 'balloon', 'Kairat', 'geneticAli', 'Taser', 'depraved', 'chilli', 'distrust', 'anaethema', 'ofr', 'amazonin', 'pops', 'torchbearer91', 'saIemsgay', 'drunkenly', 'piling', 'pla', 'ClimateEmergency', 'WL', 'TTD', 'FUBO', 'scaring', 'jason', 'unfaze', 'smeagol', 'LaurenHopkins96', 'Husband', 'HmFireball', 'FletchHerCox', 'ravioli', 'AdyBarkan', 'repave', 'lesion', 'theOtherAmy11', 'Amaliajaja', 'salva', 'BEST', 'NASTRO', 'IndiaSportsHub', 'abk6580', 'AnshPihu0007', 'GayWeHo', 'SWEETHEART', 'CONNIE', 'BEE', 'Mmemberville', 'StonerFam', 'CannabisCommunity', 'monday', 'sam', 'Eijirou', 'Izuku', 'Mina', 'carefully', 'stroke', 'ubourban', '1901', '113', 'esesem31', 'satire', 'greener', 'speculative', 'sensationalism', 'SGronek', 'jgatbcdvideo', 'kchirutweets', 'Chiru153', 'Acharya', 'backroad', 'futureproofe', 'tinder', 'BeastTamiIFilm', 'FanMade', 'Yashva221091', 'twperritos', 'paintings', 'militaristic', 'porn', 'WOLVERIIIIIIINES', 'DriversAmerican', 'kurtisnelson', 'sensational', 'fluctuation', 'commodity', 'OKC', 'Reggie', 'SIKE', 'S2', 'Wallander', 'dickhead', 'Kurt', 'sympathy', 'whatnottodo', 'rio', 'UTScott', 'PeakSamu18', 'diarrhoea', 'GovtofPakistan', '45min', 'gorge', 'resist', 'uhXena', 'richer', 'ThePremiere', 'projector', 'jtheaps9', 'Unfortunately', 'Błachowicz', 'amaze', 'Hun', 'unauthorize', 'alwayswayneke', 'cactus', 'bellini', 'melted', 'jeffreybozos', 'PONY', 'FPcheapskate', 'Hack', 'arson', 'sabotage', 'journalism', 'Diegan', 'Washingtion', 'Hockley', 'typing', 'Bruddah', 'Pfizer', 'maskless', 'gulag', 'jwhandley17', '1945', 'Enoch', 'Blood', 'hearing', 'Wgrp', 'weightgainrp', 'Lewdwgrp', 'lewdweightgainrp', 'pansexual', 'Fem', 'Semi', 'Detailed', 'Dominant', 'Obesity', 'underaged', 'kink', 'Darkfireballz', 'fuckkkk', 'anya20012007', 'n4rky', 'Disgruntled', 'variable', 'abv', 'Oz', 'Remix', 'jamesfarrar', 'DRINK', 'DRIVE', 'Matter', 'disassociate', 'USAmbUN', 'globalgoalsun', 'sdg', 'ChefWaites', 'technextdotng', 'pickmeupng', 'revolutionize', 'smartcities', 'JoshuaLebron', 'geta', 'BixJacks', 'Alabackwards', 'kucoolkid', 'atajilipia', 'GoldenNuggetLV', '111', 'leemorris58', 'frozensiclegirl', 'Thing', 'Charlotte', 'Hornets', 'relinquish', 'delegation', 'Repeal', 'WEALTHYJAN', 'january', 'JustinDRosario', 'Trucker', 'ptag', 'Disgraceful', 'BusinessWrap', 'MakweMasilela', 'CIO', 'Makwe', 'Managers', 'Eskom', 'explosion', 'Medupi', 'troop', 'eject', 'rebel', 'besiege', 'Mozambique', 'MetroFMTalk', 'aycawe', 'MewGulf', 'Short', 'AU', '𝙗𝙚𝙝𝙞𝙣𝙙', '𝙩𝙝𝙚', '𝙨𝙘𝙚𝙣𝙚𝙨', 'Conference', 'fidi', 'Tb', 'okctracker', 'Las', 'naruse', 'SHEEEESH', 'Peetz', 'hawk', 'tragedy', 'Ghc30', 'crisp', 'ediblese', 'valgal1212', 'cryingbarrista', 'rib', 'Holochain', 'aliinicc', 'therory', 'bruv', 'Grinch', 'DurhamCollege', 'DCProud', 'PEOPLE', 'grandfathere', 'hawaii', 'AdelaideYid', '5deuce4tre7', 'hwspav', 'noteworthy', 'outsource', 'SOMETIMES', 'freely', 'gotgold', 'fintwit', 'silver', 'gotsilver', 'ipacglobal', 'MPIainDS', 'yasminqureshimp', 'timloughton', 'didi', 'gcs', 'jaidaehall', 'jablamsky', '1y', 'tailwind', 'headwind', 'surplus', 'schmiddtter', 'Ocean', 'Macleod', 'Lotus', 'Spring', 'Chalet', 'evolution', 'Vinncent', 'limbo', 'insecure', 'conversion', 'arrestashwiniupadhyay', 'cuban', 'coo', 'sassshhhhhhhhh', 'MetroCard', 'SelectBusService', 'Q44', 'AlCalderon2', 'caller', 'pbwedz', 'Out', 'Abyss', 'hoboe', 'Jesse', 'Everett', 'jrosejunior1975', 'loft', 'lalgbtcenter', 'potentially', 'ez', 'pregamme', 'Chineke', 'Nna', 'ga', 'serenade', 'shitti', 'ska', 'DUEL', 'soldier', 'Soldier', 'unlikely', 'itsNatashaF', 'remembrance', 'infant', 'BackTheBlue', 'LGBTrumpUSA', 'azibuck', 'thebestestpie', 'considerably', 'Elijah', 'suicidal', 'ideation', 'exhaustion', 'depose', 'fiery', 'JustRenderin', 'fuckn', 'minted', 'LadyMissRay', 'Pratt', 'Waste', 'jarridvtingle', 'lingo', 'soldierboy43001', 'insecurity', 'interrupt', 'Interrupter', 'Wayne', 'BongSpock', 'stalker', 'ikenamiller78', 'kickstarter', 'mickaker', 'carjack', 'Kerr', 'AP', 'Senne', 'biggie', 'Talked', 'cryptocurrencie', 'idolo', 'feast', 'weakly', 'Clemont', 'Lens', 'misha', 'collins', 'neutral', 'Headline', 'theorist', 'blogger', 'CookedGroose', 'EorzeanElder', 'grandpa', 'Goes', 'RukhsanaSukhan', 'femmehonnete1', 'beauty', 'curvaceous', 'tan', 'skin', 'facial', 'contour', 'glossy', 'acrylic', 'thano', 'galaxy', 'Coolguy5512', 'SantaSuspirant', 'seed', 'sown', 'outer', 'gyro', 'Aka', 'livemint', 'bsindia', 'vodka', 'BOYCOTT', 'JakeLobin', 'Pretty', 'jamaican', 'HOW', 'mathematician', 'C55', 'AMG', 'v8', 'expend', 'bearded', 'separation', 'ambrasketts', 'Shartrell', 'SoCalBMac', '29th', 'ArtyLunch', 'Days', 'Cin', 'MeetAnnaE', 'longtime', 'Rubio', 'matrix', 'primevideoin', 'olaelectric', 'acetonedeaf2', 'lied', 'Mcdoanlds', 'Nothere07', 'reeeeeek', 'unfiltere', 'harsh', 'filter', 'overpower', 'duration', 'mavenmike', 'Horrible', 'cutter', 'rohxxnn', 'Customer', 'BRUH', 'SHORTS', 'toast', 'fruition', 'taker', 'jimcarry480', 'JohnBB40921542', '43a6f0ce5dac4ea', 'raffstar66', 'hostility', 'profanity', 'loosely', 'CBrando89', 'atrocious', 'softiexqueen', 'sharrabyourmout', '3RD', 'PARTY', 'ALGORITHMS', 'EARLIER', 'organising', 'platforms', 'CRYPTO', 'choke', 'BrownChocCookie', 'teejayviruz', 'steady', 'izolo', 'Andazi', 'noba', 'ndim', 'ofunny', 'Ndim', 'ndisensitive', 'okanye', 'powda', 'exsistant', 'Starsky', 'Hutch', 'slutty', 'convertible', 'oskanamo', 'deepolice12', 'Trainers', 'AmyDentata', 'paranormal', 'romance', 'werewolve', 'doggy', 'unhinged', 'vampire', 'Startwithhello', 'FCS', 'principalSDE', 'Hannathorix', 'Hannah', 'vitamin', 'allmotherfuckingnight', 'madmadvike', 'seattlepd', 'lawless', '7258', '0x631b2b', 'cryptopunks', 'nighttime', 'DeathTraps', 'Escooters', 'sleepy', 'btxj', 'WR', 'dynasty', 'toile', 'Lumpy', '110', 'kellyinvegas', 'unload', '401k', 'campaigner', 'DefundTheBBC', 'denier', 'badvaccinetake', 'JayVanDaley2', 'leifbroganoff', 'richieonfm', 'feasible', 'rsclarke', 'Prob', 'SpiffyRiffy', 'reread', 'likeable', 'Shizuma', 'michael06610271', 'savage', 'recur', 'AA', 'relation', 'regretting', 'hypocritical', 'so0o', 'righteously', 'HarrisonJynelle', 'Disco', 'lumpy', 'Kanye', 'DiscoTits', 'caviar', 'roadie', '40k', 'Buddy', 'Tacoma', 'tayoungin', 'seafood', 'Suspicious', 'ᵘᵖ', 'ᵗᵒ', '⁶', 'ᵒᶠᶠ', 'DL07759033', 'GenghisSperm', 'consultant', 'obscenely', 'fixer', 'Louisiana', 'gumbo', 'consistency', 'diggy1984', 'pullin', 'creowya', 'literal', 'PA', 'ROBBED', 'Forgot', 'lighting', 'XBIO', 'HX', 'ATOM', 'MYMD', 'JZXN', 'thinksocreative', 'conservatism', 'testudo1111', 'OsirisMetaverse', 'Versuhtyle', 'FantasyGuruDrew', 'FUD', 'Pudys', 'TheProducerBen', 'craigkellymp', 'KDBetter7', 'flounder', 'McCullers', 'booth', 'florida', 'mimi', 'raven', 'idontnknke', 'nevet', 'veme', 'ovoo', 'ajvet', 'NourAlmozain', 'kreutermd', 'ashmooklermd', 'AABB', 'NHSBT', 'AsawariBapat', 'nhsdanny', 'OlaYahaya', 'omarsuhaibani', 'mahabadawi', 'ISBTCO', 'mechanism', 'transfusion', 'influx', 'fm21mobile', 'WaukeshaAlerts', 'NateSilver538', 'timing', 'cyressreyy', 'VitalikButerin', 'credential', 'pllzrr', 'OctogonOfficial', 'Wxlkr1', 'fernseason', 'goku', 'teleport', 'command', 'patch', 'fbutry', 'Eastside', 'punishable', '8hrs', 'Toadcialism', 'Everywhere', 'Andy', 'Milonakis', 'ems', 'archaic', 'HodariNundu', 'Terror', 'cracky', 'Jaws', 'Knew', 'Ffs', 'ikea', 'colocou', 'Hiding', 'closet', 'murderous', 'dispatcher', 'phoneocation', 'yagurrlbri', 'Vu', 'tammyingram', 'MartyOlliff', 'jesse', 'thang', 'tipping', 'amagickeagle999', 'SenatorSurfer', 'DrCraigEmerson', 'mediawatcher83', 'ChristineMilne', 'Greens', 'trounce', 'cmdhaxx', 'reqs', 'JPayneDigital', 'RachelBrown49', 'unlawful', 'robinwannabefly', 'Shahshshs', 'childhood', 'unhinge', 'Shahshs', 'Cus', 'inParadiseBITCH', 'Mick', 'Akers', 'Bakjaco', 'mourn', 'cramer', 'DKNG', 'GPN', 'marceloas1803', 'luizyoung18', '2diccs', 'josh', 'Beatr', 'Gcastillo509', 'OhNoSheTwitnt', 'geez', 'wurzelofoz', 'SantiagoAuFund', 'Disagree', 'leaky', 'unvaxxe', 'akin', 'Jews', '1930', 'Reimburse', 'Tocando', 'dei', 'estrelas', 'nateisarudo', 'BUY', 'ARRIVE', 'DESTINATION', 'Waffle', 'ppm1214', 'timezone', '6PM', 'Centeral', 'captin', 'claming', 'Parks', 'BANK', 'IMMEDIATELY', 'DwayneWillis2', 'NokooTV', 'trad', 'chonglebongle', 'GreekPete3', 'panicked', 'KizzityKaito', 'Kaito', 'shitpost', 'Believe', 'nonprotection', 'nonprofit', 'Robbins', 'sugar', 'poblem', 'omfg', 'Tommy42385784', 'toneloc72', 'applied', 'iamneomic', 'modus', 'operandi', 'TheDemocrats', 'idiotic', 'gop', 'necessity', 'thisisnotrocketscience', 'recording', 'RetireMarco', 'washin', 'gg', 'Olympians', 'Tokyo2020', 'Cooperative', 'thedriverscoop', 'RandomArchivist', 'ubere', '21llc', 'oneplanetmikey', 'Helps', 'NewsBreak', '90sfootball', 'Colorado', 'Coach', 'Newark', 'CentralBlue2017', 'Central', 'HS', 'Lashawn', 'Williams', 'immensely', 'NoBoyzAllowedBB', 'CoachJKreie', 'brolymedia', 'SheGotGame7', 'kjbasketball', 'CoachAhmad3', 'Dlolo99', 'AaronGratch', 'GthingBBall', 'bradgillespie', 'iaventure', 'unfoldedinc', 'Local', 'traumatize', 'stomachache', 'dylz2lito', 'European', 'tash', 'fluff', 'deluvery', 'madam', 'guide', 'forum', 'nog', 'jamesoliphant', 'gleeful', 'swampy', 'Gridiron', 'BAKKOOONN', 'server', 'insufferable', 'neighbourhood', 'Sky', 'presenter', 'allegiance', 'danwootton', 'gbnewsisfab', 'Mazda', 'bustin', 'dpu', 'corpse', 'Caulder', 'inferior', 'americanair', 'Jelanah', 'RiCh', 'OfF', 'cosmetics', 'transfujo', 'het', 'Izzy43351221', 'Merryb2184', 'pesky', 'impin', 'puke', 'bodily', 'fluid', 'limb', 'NorthsideHosp', 'Nesquik', 'protein', 'organizer', 'shopper', 'counselor', 'assistant', 'morganlefae17', 'LTC', '124', 'manufacturing', 'lockout', 'Fenner', 'Dunlop', 'Rexplas', 'NRI', 'Wine', 'CUPW', 'Unifor', 'Housemates', 'debunk', 'CatchKristen', '96', 'below', 'millions', 'workers', 'ta', 'Bosca61', 'Egads', 'ElanaMcdougall', 'VegasIntrovert', 'Frozen', 'Custard', 'macchiato', 'Suites', 'twinkletar', 'bryce', 'trendy', 'Beeb', 'Mzmuradi', 'Tip', 'scalp', 'tisleedeeya', 'Biggie', 'tiingss', '10min', 'reneingoglia', 'Rene', 'zaddyvince', 'cackle', 'hahahahahahah', 'unreleased', 'snippet', 'malfunctioning', 'HATE', 'MOFO', 'SEND', 'regress', 'monaeatsLA', 'midwest', 'weeknight', 'Gujarat', 'themikeserrano', 'mmh', 'pushing', 'sollzyx', 'KubiakGretchen', 'nan', 'fox11reno', 'telegraph', 'Eden', 'stollen', 'lmfaoooooo', 'anarchysister', 'oomfs', 'lyftdesignteam', 'sooooooooooo', 'happily', 'Bring', 'Based', 'Bonuses', 'RIDESHARE', 'contestaste', 'dónde', 'coochie', 'themodernnmom', 'Teets', 'doitfornell', 'traderstewie', 'quiver', 'aloud', 'shiver', 'Nashville', 'retaliation', 'Kudos', 'wrestle', 'SortaSawyer', 'Cools', 'wpufoodseeker', 'Osu', 'Kwashieman', 'paz', 'corny', 'rts', 'nohoedin', 'camspinney', 'Rocksteady', 'GMFS1314', 'untoward', 'muslim', 'unsettling', 'seethe', 'nje', 'Metro', 'Buses', 'houseless', 'circulation', 'PATROL', 'Jeremy', 'Carver', 'Collins', 'Patient', 'HEADLOCK', 'deliontherun', 'Correction', 'Next', 'Film', 'homicide', '24hr', 'said8438', 'Braithwaite', 'Bounedjah', 'SridharNitya', 'facetious', 'Yorker', '4am', 'Thankfully', 'bucko', 'livin', 'TSIMIKAS', 'probable', 'Nat', 'Potential', 'Expiring', 'StephanieGrach', 'advocacy', 'realm', 'desperately', 'ME', 'FaceTime', 'stale', 'broccoli', 'gadget', 'NewDiscourses', 'Folx', 'perceive', 'GoAnywhere', 'MBA', 'reqd', 'Nvidia', 'Shopify', 'sxc', 'Announcement', 'lilypriceskell1', 'Skulduggery', 'HILARIOUS', 'adamant', 'physically', 'reschedule', 'neo', 'twewy', 'spoiler', 'deck', 'pierce', 'pillar', 'ghaanv', 'danish', 'pasting', 'Kearny', 'theblaze', 'stiffe', 'SankofaNYC', 'Coatman1', 'ryanhyattmedia', 'POTUS', 'Ya', 'Barca', 'DZ', 'wack', 'WannaRathbone', 'thediaryofg', 'town50303', 'AnCap', 'Insane', 'bewilder', 'stalemate', 'frll', 'Lmfaooo', 'Myberns1', 'DeathMetalV', 'DanielsTennille', 'acetomatoco', 'RapSheet', 'Alpha', 'pitbull', 'skypeople63135', 'Bullington', 'usmagakid', 'nearsidejohn', 'lennythepen', 'kojak4utag2021', 'codswallop', 'BillcabbyCutts', 'DawnCartwright', 'Dawn', 'connected', 'sticker', 'projectile', 'expel', 'gpose', 'laza', 'NAllison89', 'manhandle', 'befor', 'ellmemore', 'Safeway', 'safeway', 'rangler', 'tangent', 'gathering', 'MessPhillips', 'Britain', 'brow', 'fishwife', 'screech', 'G7', 'Davos', 'trickle', 'YLKATDelta', 'trackhawkaitx', 'causal', 'anticoagulant', 'hacky586', 'NYPD', 'homopohsiba', 'grantshapps', 'CarolineRussell', 'willnorman', 'Councillorsuzie', 'KeithPrinceAM', 'MaajidNawaz', 'ClarkeMicah', 'HowardCCox', 'metcyclecop', 'Bloody', 'taelor', 'frugal', 'behold', 'STARVING', 'MorganRuble', 'LyleMasaki', 'therealsnick', 'rlyee', 'thequeermonkey', 'deet', 'maddd', 'DogeGirl420', 'Flynnjamm', 'HER', 't0rterra', 'sweatshirt', 'Danm', 'Congo', 'dandelion', 'breakup', 'hypocrisy', 'Castle', 'davidntracy', 'google', 'junkyard', 'superb', 'vocalist', 'Cornell', 'framework', 'GirlGopher', 'RandBallsStu', 'AstroJordy', 'MattWallace888', 'Cute', 'bosphorus', 'trotro', 'Lapaz', 'gamal65153286', 'Gamal', 'whosduhboss', 'Oye', 'khloekardashian', 'RICH', 'Theresaroets911', 'snaponqueenn', 'drivesober', 'smashedcar', 'langley', 'Gym', 'filtration', 'supplement', 'Pilgrims', 'Liquor', 'Depot', '450k', 'Wigs', '70k', 'dna', 'Lamb', 'RideRTD', 'Maintenance', 'dub', 'Swear', 'gandblawyer', 'hoed', 'tiene', 'Beyonce', 'adopt', 'orphans', 'kingdom', 'minecraft', 'TIER', 'remotework', 'MichaelPoopsToo', 'AMA', 'pediatric', 'hugely', 'deflection', 'ttfn', 'Tronicssystem', 'vzrsportsbelle', 'circulate', 'narcissist', 'miserably', 'Technews', 'unpopular', 'amcnotleave', 'TradesTrey', 'TaraBull808', 'TheBigSpoonz', 'goinf', 'thingy', 'nervoud', 'gify', 'horrifying', 'BigBlizz', 'HIGH', 'ShroomsHealedMe', 'Escape', 'asbruckman', 'jvitak', 'michaelzimmer', 'orderin', 'obligated', 'teh', 'mepolitic', 'nprpolitics', 'arishapiro', 'flaw', 'DarioMouse', 'rarityband', 'Amped', 'coder', '22k', 'CardanoCreators', 'NICE', 'Bored', 'wock', 'unlucky', 'mblehrhoff', 'bonchieredstate', 'NL', 'blgtylr', 'Dulles', 'Saladworks', 'yerinsabraham', 'hibachi', 'norodude', 'theresagavarone', 'Show', 'impressed', 'jvipondmd', 'donation', 'subsequently', 'ssh', 'prosecute', 'Rds9355', '4rchiveme', 'kittykuopoker', 'forgot', 'sheeran', 'AeroSociety', 'irreversibly', 'Mars', 'FailSepta', 'Hollowman501', 'GCTweets3', 'MarkFusetti', 'LibertyVigilant', 'tonybrunoshow', 'KeeleyFox29', 'EddieCaiazzo', 'kenlawrencejr', 'DomShow1210', 'heroin', 'cuff', 'TIME', 'VLOG', 'HORRIBLE', 'caroledwine', '2kdvs', 'DEJAD3VU', 'wfteamjordan', 'Sucks', 'Ryan', 'knack', 'rusher', '24hrs', 'fib', 'retrace', 'Fibonacci', 'cosmetic', 'OLD', 'rs3', 'meh', 'GUYS', 'incompetence', 'soggy', '25k', 'poker', 'AIPChristina', 'TiangPaul', 'occasionalRae', 'overlook', 'Cooper', 'Werner', 'ECM', 'Logistics', 'XPO', 'TForce', 'amidst', 'freight', 'DevinViock', 'MTVteenwolf', 'plaque', 'Grandson', 'Marines', 'testicle', 'twilight', 'meatpacke', 'unmanned', 'errore', 'nytimes', 'puffer', 'japanese', 'wrestling', 'velvetcrowbar9', 'justin', 'Skateparks', 'TheMayorPete', 'Alexander', 'convolute', 'hshirokoff', 'villainous', 'plot', 'appp', 'CoiLede', 'EHSIGranite', 'memorable', 'verse', 'fucc', 'rogertansey', 'prick', '3rdcoastcharlie', 'chavofromtheH', 'compassionate', 'exemption', 'celeb', 'pollie', 'MikeyBoss', 'Bag', 'ProudGayPatriot', 'Dangit', 'spine', 'jeep', 'Alumni', 'Battle', 'Minute', 'CLOSE', 'armor', 'NYAFF', 'FantasiaFest', 'RefusedPassword', 'cabo', 'burrito', 'Picture', 'Baldwin', 'relapse', 'ovokapes', 'Trust', 'smashburger', 'inflict', 'bookmarke', 'enrichir', 'nayaisoverparty', 'wehyat', 'allah', 'catcall', 'halt', 'trudeau', 'enriching', 'leech', 'Godot', 'AssowehAyanleh', 'mmcgoldrick2', 'Adele', 'knowingly', 'involvement', 'aswell', 'danielbowen', 'muster', 'temperate', 'Fit', 'energetic', 'thalaivaa', 'rajinikanth', 'soundaryaarajni', 'OfficialLathaRK', 'Thalaivar', 'Rajinikanth', 'Annaatthe', 'Kathleen', 'Captains', 'IGTBACC', 'grin', 'codykf', 'koTenSixtySix', 'Dijon', 'dreck', 'farther', 'overpass', 'Fell', 'scrabble', 'gram', 'Shawngi13301200', 'aunt', 'kon', 'CityofReno', 'CarolineHusky', 'butts', 'theellenshow', 'loooooove', 'conveniently', 'gouging', 'godddd', 'Konvys', 'V', 'Leik0w0', 'Minnesota', 'thecribrightnow', 'Boy', 'bananas', 'blunt', 'kos', 'okht', 'shaghleh', 'saree3', 'RomaniPsychic', 'whore', 'collecting', 'hyu', 'Moses', 'Personal', 'consistent', 'Bhiwandi', 'Mulund', 'Estimate', '132', 'platinum', 'cramp', 'Alias', 'Grace', 'm2', 'Lmk', 'squirlkit', 'Omegaverse', 'Bakugou', 'Omega', 'delectable', 'freckle', 'SHE', 'seasoning', 'Lindasbookbag', 'Greater', 'shear', 'brunch', 'hubcap', 'FredBro52387064', 'spitting', 'coughed', 'GuardianAus', 'wowza', 'Mavs', 'mist', 'washroom', 'mln', 'Nahh', 'rod65452650', 'mik35mith', 'lapdcommission', 'OIGLABOPC', 'Turbulent', 'Twist', 'Lawsuit', 'Ahh', 'eya', 'Cobb', 'ArranOnAir', 'Mannn', 'vestigialdev', 'LMSacasas', 'afterward', 'reg', 'criticise', 'CMON', 'had2', 'PERSONAL', 'Q', 'evolving2', 'suckage', 'ENDING', 'flick', 'INEVITABLE', 'MYSELF', 'ecb1414', 'txsalth2o', 'Mount', 'Pleasant', 'Charleston', 'endracism', 'cava', 'benhopkinsaus', 'gripe', 'palatial', 'lapping', 'MsnAtif', 'OlaShoksy', 'RogueCatt', 'incorrectly', 'inboxe', 'spots', 'naijabuyandsell', 'neglect', 'itch', 'ChewingGumPunk', 'STANS', '31st', 'elevator', 'EFFORT', 'tew', 'BusSlut', 'TootlestheTaxi', 'satnav', 'ZxckSnyder', 'stocktalkweekly', 'WSB', 'changing', 'wuh', 'IPCC', 'horseman', 'heading', 'adaptation', 'hunnitbandbria', 'Ls', 'UberAbdul', 'DrakeBentleyMJS', 'simplylissy', 'reassure', 'unfollowe', 'Reavaya', 'safest', 'Hayi', 'demmet', 'nna', 'mbhorile', 'problme', 'BaringOnline', 'repost', 'Thicko', 'icygurrrl', 'leadlagreport', 'Tampa', 'inflate', 'terribly', 'boycottUber', 'disgraceful', 'Cryptoforlife', 'Glendale', 'Galleria', '94', 'axio', 'SteveScalise', 'overdue', 'overwhelmingly', 'Reid', 'pronounce', 'Samhain', 'Criminal', 'Minds', 'alliance', 'Derek', 'KevinMCollings', 'Cherry', 'Creek', 'WORST', 'CUSTOMER', 'CONTACT', 'BUFOON', 'implicitly', 'pacingthefloor', 'tmpurate', 'iHunt', 'Killing', 'Monsters', 'Irreverent', 'companion', 'tabletop', 'CoronaBeer', 'CapitalOne', 'eBook', 'NewsMedia', 'PRcrisis', 'Coufi5', 'telephone', 'interference', 'Hillary', 'Clinton', 'suhrudee', 'drank', 'GMT', 'LIFE', 'bow', 'gunpoint', 'Brunswick', 'Googles', 'glennboy1960', 'Cba', 'Yousef', 'bbnaijashineyaeye', 'CeruleanGates', 'goodpoliticguy', 'Sort', 'Elysium', 'Damon', 'rainedalyn', 'theowlenby', 'Clorox', 'wipe', 'apumynation', 'chinachatic', 'thejimu', 'wlgairport', 'untill', 'MrMattLomax', '50shadesofkellz', '25welcome', 'incorporate', 'T20', 'schtick', 'ImStevenMoney', 'fax', 'blxm', 'BloXmove', 'Referral', 'Giveaway', 'opentv', 'travalacom', 'SKILL', 'Solidarity', 'Bossa', 'Nova', 'lung', 'drunke', 'mikegove12', 'Sponsored', 'Comprehension', 'Tiffany', 'savorythot', 'unaccountable', 'marshmallows', 'strict', 'upbringing', 'buzzing', 'cope', 'GODDAMN', 'DIME', 'kite', 'trishyooo', 'rap', 'justforfan', 'Tribute', 'Message', 'GARAGE', 'jhb', 'cbd', 'uyajola99', 'kabza', 'ngizwemchunu', 'dementia', 'kamala', 'socialism', 'Cjaydrizzy', 'Optifyyy', 'joramorr', 'stonksrus7', 'cryptic', 'WASTED', 'Wallah', 'scoop', 'Aruba', 'TheCatAptil', 'fomo', 'lying', 'd3athlete', 'Ubereats', 'rainy', 'dramatic', 'blurry', 'longingly', 'skskskk', 'longhorndave', '3000', 'johnscarpitta1', 'FoxMagenta', 'recipient', 'Apoorv13951495', 'shoreditch', 'hadleyogarro', 'McFlurry', 'jwballard75', 'DavidNix24', 'StefanWoods14', 'Memphis', 'gem', 'vibing', 'Voice', 'protective', 'Mambo', 'Lou', 'Bega', 'IAmNeomic', 'qveenasiah', 'Aight', 'boo', 'middleagelondon', 'Ombudsman', 'WhichMoney', 'CitizensAdvice', 'backbone', 'monstrous', 'sexualize', 'horny', 'jacobin', 'misread', 'noble', 'trapping', 'devotee', 'invisible', 'baitandswitch', 'Defund', 'Fiends', 'Voices', 'analog', 'naughtiness', 'JordanRowes', 'Barclays', 'ConorCoen', 'fluent', 'deduction', 'makemoney', 'WomenPostingLs', 'tumblr', 'loveisland', 'spanky', 'NJ', 'jhuntermav', 'Twitch', 'kare11', 'stark', 'jokingly', 'topline', 'tedious', 'kjhess60', 'hose', 'Erith', 'Lakeside', 'paulyyyyyage', 'JolyonMaugham', 'precisely', 'guzzle', 'cyberbully6669', 'wolfe6131', 'frankyology', 'CarolinaConect', 'garden', 'Tigger', 'unbounce', 'ALL', 'jesus', 'activist', 'populate', 'privelledged', 'dim', 'sayed29992987', 'Sayed', '28', 'mrstrangefact', 'ubird', 'ew', 'jolly', 'sucking', 'Crumps2', 'Crumps', 'JUNIPERJANIE', 'sofa', 'june', 'settle', 'trolley', 'katburnsdogs', 'Washa', 'stold', 'salon', 'reyawonka', 'alyssaromaguera', 'JasonMaza', 'MailOnline', 'bollocks', 'cre', 'currency', 'exude', 'amazingness', 'Scarface', 'Kosov', 'optimism', 'wtpBLUE', 'onev1', 'refunded', 'biological', 'JtLOL', 'SmartNews', 'kameesh1', '01manasa', 'alyssaerenee', 'UncleDadum', 'manasa', 'wym', 'mushy', 'Il', 'almightybigl', 'LinkSemper', 'Charles02411212', 'chainlnk', 'ASleepingLlama', 'Llama', 'mjmoser711', 'premnsikka', 'lodinsxnl', 'adambarnhardt', 'Stark', 'prominent', 'Uncle', 'recife', 'giving', 'Mans', 'Mussolini', 'DeathSantis', 'Duce', 'govrondesantis', 'disobedience', 'lowly', 'Ronnie', 'classify', 'fulfil', 'forlaw', 'preserve', 'Unionist', 'Libbit', 'populist', '94dfnclss', 'PREMIUM', 'negativity', 'godd', 'badddddd', 'whyyyyy', 'Gosh', 'nipple', 'itchy', 'Enlarge', 'Images', 'LoveJhart', 'AF', 'jimcramer', 'punish', 'maiwega', 'massless', 'CarTrackerSA', 'Bidvest', 'standing', 'twistedmic', 'shane', 'Cordero', 'blonde', 'LEAVE', 'Frank', 'boxer', 'CEOs', 'CookiesByGeorge', 'Pure', 'Leaf', 'Iced', 'BrainDrainJane', 'Finsbury', 'refit', 'Karla13689085', 'fulfill', 'upkeep', 'aggravate', 'MajorShankEm', 'Best', 'mintpass', 'Proof', 'ParallelNFT', 'JenniferWinget', 'glamorous', 'diva', 'Hot', 'Pics', 'adampowley', 'Denis', 'Skinner', 'DLTR', 'dri', 'CruiseNorwegian', 'CourtReagan', 'MichaelSantoli', 'GinaVSanchez', 'EamonJavers', 'rs', 'boys', 'uuuuubbbbeeeerr', 'MarieAllOverAg1', 'timeline', 'squawk', 'pod', 'Labor', 'Raimondo', 'Listen', 'squawkcnbc', 'xjet', 'ProfiCNC', 'drone', 'pinch', 'Mfs', 'bluesbreaker196', 'momjeandream', 'Grindr', 'librarie', 'overdrafte', 'NEED', 'Saloua', 'Raouda', 'Choucair', 'lebanese', 'funnily', 'visionary', '42dwg', 'bbt', 'KCS', 'korean', 'Guneet', 'Kaur', '888', 'iamNEHAAM', 'mera', 'choota', 'bhai', 'maein', 'flasher', 'WexitN', 'robfoot', 'conspire', 'xo', 'homewrecker', 'wifehate', 'fuk', 'prabinjoel', 'systemic', 'keke', 'tanker', 'tipper', 'Wo', 'NURTW', 'nycsouthpaw', 'Contracted', 'BernardAzar', 'presume', '20mins', 'ruviexo', 'Geography', 'geography', 'mcdo', 'prison', 'RealTSteelz', 'QuinnMcKay', 'Quinn', 'collapsible', 'toddler', 'toronto', '416', 'MPH', 'canvass', 'biohazard', 'Elections', 'ceoadam', 'politely', '1000s', 'obsession', 'AllisonMPecorin', 'senronjohnson', 'coporation', 'reap', 'windfall', 'TacoTrail', 'fcdalla', 'austinfc', 'losverdesatx', 'selectivity', 'ADCUnion', 'rubbery', 'Shout', 'amusing', '2B', 'underwriting', 'displace', 'Fedex', '80B', 'primetym21', 'feasibility', 'fixture', 'uninstalled', 'uberrate', 'BobbleShmurda', 'frosty', 'glitche', 'jayliquori', 'devynkohl', 'Dev', 'hmmm', 'westland', 'akanishow', 'nimpelekee', 'Traffic', 'nilikuwa', 'ndani', 'Nikachelewa', 'kufika', 'threw', 'Sikuwai', 'lipwa', 'vikramsandhu007', 'Orochi', 'sneaky', 'kiosk', 'puchase', 'somewhat', 'HolidaywithH', 'Dammit', 'Silly', 'backup', 'kennytheraikage', 'juthe', 'Braintree', 'den', 'pradeeban', 'nyam', 'skew', 'algo', 'smallest', 'Rongai', 'nyinyi', 'wanaume', 'hutaka', 'nini', 'palauanr', 'advertise', 'msmicaluv', 'Soooooo', 'WASSUP', 'lexmakesthing', 'oust', 'dvdknx', 'Thought', 'trauma', 'counselling', 'gaslighting', 'smzrz', 'prettypaki', 'Wese', 'humne', 'kharcha', 'isse', 'nikalwa', 'lya', 'kolachi', 'mere', 'ghar', 'tak', 'Wooo', 'timer', 'tooo', 'Rachelmoor29', 'eegplantt', 'begining', 'apesnotleaving', 'CocranKathy', '40hrs', 'mustbefee', 'order2eat', 'pjstar', 'cholsaen', 'ALRIGHT', 'backyard', 'Mexicana', 'ridic', 'conventional', 'fastest', 'Fvckrender', 'succe', 'Hour', 'usecase', 'outlawed', 'CBCNews', 'Dishes', 'teleworke', 'babysitting', '૮', 'aircraft', 'Allergy', 'Allergens', 'AllergyReactions', 'AllergyTriggers', 'uber580', 'biology', 'accurate', 'DrRebeccaTidy', 'label', 'slashdot', 'anonymous', 'Offset', 'HIM', 'ifbnw', 'LauraTobler', 'NBA2KLeague', 'xtopher888', 'facetime', 'biking', 'SOMEWHERE', 'Saylor', 'Apologies', 'kgleeb', 'hahah', 'TickleTexts', 'MakaylaNicolexO', 'fresyas', 'Sweetest', 'Venture', 'governance', 'TechTips', 'headache', 'bedannnnnn', 'thoughts', 'perry', 'slappin', 'litigation', 'uberuk', 'Nearly', 'BULit21', 'RGL', 'SirCatBond1', 'Melody30570617', 'Mar80123451', 'LucaVillarrea12', 'm7d3ajibne', 'asplus246', 'IreneVarMex', 'henkvanderzwaan', 'Eles26', 'h6z8s', 'isabela28235856', 'SalvatoreSSasha', 'LUEC7777', 'RalphGRoeske', 'Lk6Ha', 'nmc820206', 'Yesus3000hotma1', 'deportesguru30', 'Scavo402', 'MONDONG0N1', 'Deaquitemiro', 'carlosr84276915', 'diegonarriaga', 'Alondra04461139', 'patytadeperro', 'ElviraGA', 'IlixIleana', 'BCortez72', 'Myrus85', 'telperformance', 'Weird', 'dong', 'Danielle', 'pierre', 'ticonderoga', 'pencil', 'shaving', 'deodorant', 'brutally', 'mchappell51', 'Buckner', 'jawshonthebeat', 'disingenuous', 'gofundmes', 'altruism', 'kitty', 'thesis', 'notapenny', 'batter', 'tjaybelt', 'Nkevinnn', 'azzymuahh', 'Beaver', 'Hills', 'pesos', 'DISAPPEARED', 'sagebeatlove', 'Costumer', 'Republican', 'Party', 'Toyotas', 'parasitical', 'globalist', 'diabolical', 'checker', 'sarkodie', 'kwadwo', 'Sheldon', 'Duku', 'saa', 'Sark', 'Deny', 'proposal', 'Ydm', 'voke', 'smoothly', 'realestate', 'ping', 'pong', 'comic', 'horribly', 'SMTuffy', 'ZK', 'battleground', 'FCKINLOGAN', 'mr', 'Glam', 'fil', 'combo', 'Regulator', 'adaptiveleadership', 'Barbecue', 'tofu', 'muffin', 'Crimson', 'seventh', 'writerslife', 'WritingCommunity', 'disturb', 'vile', 'witness', 'casually', 'VW', 'villa', 'Benzinga', 'pleaseeee', 'crippling', 'adhd', 'TESLAcharts', 'plea', 'cale', 'unearning', 'Wework', 'sufficiently', 'drdave1999', 'encouraged', '35k', 'Scarce', 'GaryLineker', 'Clarkson', 'Brooks', 'Classen', 'pond', 'gothamist', 'Kantrowitz', 'Fairbanks', '24x7', 'darkness', 'helplessness', 'fairbank', 'polymath', 'lick', 'Tequila', 'comparison', 'Asuelu', 'vzio', 'MGNI', 'LOTZ', '2023', 'medic', 'appt', 'subtotal', 'CRANK', 'MUSIC', 'amacoin', 'fantasycoachjb', 'fftheathomedad', 'grandstand', 'Sovereign', 'constituent', 'stary', 'trumplican', 'Congress', 'reform', 'weho', 'unsolicited', 'napkin', 'theydontreallycareaboutus', 'theyjustwantmoney', 'BeauwithaBang', 'Robotaxis', '78', 'Doraville', 'Suntrust', 'AirYanny', 'ING2Firebrand', 'Dinger', 'ShieldsBrianC', 'PoliticsForAlI', 'bbcnews', 'gigeconomy', 'ubered', '𝙢𝙖𝙣𝙮', 'NBC', 'cx', 'cctr', 'Darlingstephhh', 'UCHRA', 'Cookeville', 'tassosstevens', 'Ecologic', 'joint', 'accomplice', 'upstairs', 'oookkkaay', 'flyinnggg', 'eta', 'groom', 'fouet', 'Teaneck', 'ericeidelstein', 'mailbox', 'DONE', 'Chandlitt', 'rogbennett', 'Gingers', 'Alis', 'Lalas', 'Espn', 'rog', 'welikerog', 'heckstuholdencallsabettergamethanalexi', 'bearish', 'niceing', 'AllezParis', 'senschumer', 'Kholofelokim', 'utya', 'isqarice', 'sonke', 'sixakekile', 'RealMattCouch', 'ywonniee', 'm8', 'dbinkowski', 'spelling', 'secession', 'crackpot', 'HBO', 'ironically', 'constitutionally', 'fiction', 'BlueLineNorCal', 'TeamBeardVet', 'Sniper983241337', 'BrotherhoodIGY6', 'BayouRatRod', 'andyoaklee', 'kelleyjspark', 'Des1820', 'WB6DYN', 'SusanMThom', 'fishesgivekisse', 'Jumpmasterpsg', 'USArmyVeteranMP', 'Principals', 'DontMindMeFamm', 'proportionate', 'gogangjo', 'isaiahthomas', 'AnnaJonesSky', 'kvittozzi', 'ustwogame', 'Skilled', 'picker', 'aussie', 'ITattum', 'funeral', 'undone', 'nikkimcaste', 'nftsfilmtv', 'NFTS', 'LoonyShark', 'itsEdgebb', 'Mphoza26633019', 'disciplined', 'mfing', 'gna', 'Cheers', 'customerexperience', 'nostalgiasenpai', 'Book', 'Lakewood', '2001', 'RSR', '10c', '2025', 'bluntly', 'Camden', 'KITCHEN', 'oven', 'yanno', 'yooooo', 'KCMikeMahoney', 'kmbc', 'wealthiest', 'broadband', 'KS', 'kegel', 'clench', 'SUMN', 'punching', 'BAG', 'gomora', 'FutureTech', 'ICYMI', 'UCBerkeley', 'Editorial', 'scrumptiousness', 'trudge', 'kg', 'wingless', 'ShukuruKante', 'spoonfe', 'Hubs', 'halve', 'ctfu', 'spark', 'lmk', 'defrost', 'yuusaki', 'speciesamuse', 'atlanta', 'HavEyeC', 'FinPlanKaluAja1', 'hobbitcrosse', 'Choice', 'eFootball2021', 'eFootball2022', 'PES2021', 'hitch', 'hiking', 'hav', 'jessicaapadron', 'haul', 'groceries', 'BuckSexton', 'Age', 'babble', 'ahit', 'Act', 'andyanddita', '07484', '042334', 'vaport', 'foreshadow', 'caster', 'tunasal64155302', 'pink', 'NeilElizondo', 'RookeJason', 'Peer', 'mighty', 'persuader', 'beingallymoore', 'entitlement', 'phobia', 'guaranteed', 'originality', '1990', 'Lesson', 'phan', 'phish', 'connector', 'sham', 'ubereatsfail', 'SMH', 'ColinBambury', 'AndSeparate', 'underwriter', 'Nd', 'GoinsCollin', 'Simone', 'nekkid', 'antic', 'poxy', 'kip', 'UberDriver', 'LyftDriver', 'RideshareDriver', 'superbreauna', 'BILLS', 'SICK', 'TechUpdate', 'TechTrends', 'SkolGriswold', 'keetot', 'GOOD', 'NEWS', 'MT', 'Jajajaja', 'krizwalsh', 'bite', 'refunding', 'abet', 'Shocker', 'reduced', 'worldview', 'illegitimate', 'OneFuss', 'asuelo', 'MBabak911', 'littlewhitty', 'obscure', 'martinakearney', 'therecount', 'Orwell', 'uwulution', 'Actually', 'Kyle', 'Bicycle', 'Coalition', 'muni', 'jeaniusmktg', 'MichaelSacal', 'MMViverito', 'nycmayor', 'FHVs', 'forgive', 'NYGovCuomo', 'discouragement', 'heal', 'disavowal', 'heylindarey', 'SBAgov', 'sbaisabel', 'Gett', 'mummified', 'Froedtert', 'NarroVictor', 'ankle', '82', 'Upfront', 'pice', 'rubber', 'BBCLondonNews', 'itvlondon', 'missed', 'Nicolafaddy', 'newspaper', '1919', 'FantasyCoachJB', 'theffrealist', 'BTW', 'notional', 'Imbalances', 'HUBS', 'WFC', 'JNJ', 'MCD', 'LMT', 'subtweete', 'fundraiser', 'scientific', 'material', 'distributer', 'Nobles', 'Valet', 'Esl', 'Jenise', 'insurmountable', 'cory', 'Arise', 'coletteanni', 'TheWalid', 'tic', 'toe', 'internally', '0603266718', 'NYCMayor', 'courtenlow', 'skater', 'opp', 'SPANISH', 'theatre', 'DUNE', 'Momoa', 'SnyderCut', 'Dune', 'SweetGirl', 'ckk9694', 'CDB', 'unanimous', 'AmericanVB', 'POTY', 'Academic', 'Medalist', 'jtomm19', 'GoBearcatsVB', 'usavolleyball', 'DougDeFelice', 'ubertruth2', 'Mayor', '85th', 'belltown', 'technew', 'teknock', 'Un', 'BrianDunseth', 'AdamBronkhorst', 'visitcamberwell', 'usage', 'tesco', 'anthony23bryant', 'sonic', 'Sonic', 'grape', 'angel', 'irony', 'ablaze', 'BWW', 'affordability', 'HOME', 'demicolleen', 'dossier', 'goalpost', 'bagtalkdeja', 'Deja', 'Foster', 'ayer', 'Bright', 'deceiver', 'tarmstrong98', 'celebs', 'genxgmom', 'davidgokhshtein', 'DFI', 'defichain', 'Utopiantechh', 'Hydraulic', 'Mini', 'Van', 'Mattblacktaxi', 'dubhimself', 'cobra', 'newb', 'Mikey', 'dwaggg', 'tutufamilyoffi1', 'BLKMDL3', 'klwtts', 'Crappy', 'Model', '210k', 'suspension', 'creak', 'pirate', 'CO2', 'MY', 'quieter', 'itsgold13', 'JonnyOlson13', 'SimonCowell', 'TheWiggles', 'Makoko', 'naira', '30mins', 'made', 'hangs', 'Fina', 'Gainesville', 'Autonomy', 'CatalystGo', 'EnoUAS', 'Hear', 'UAS', 'Boeing', 'ALPA', 'University', 'Dakota', 'pymts', 'brave', 'Braves', 'trustispark', 'Tweetermeyer', 'Waabi', 'Aurora', 'springygamer87x', 'heartbreaking', 'Sumption', 'justification', 'JuliaHB1', 'Thoussnds', 'password', 'fourth', 'assistive', 'device', 'BrittneyS253', 'CherylPahaham', 'ArtsAndWubz', 'workplace', 'governmental', 'disclosure', 'andyholloway', 'Houshmandzadeh', 'chatty', 'Gallardo', 'mfckas', 'CBJMAD', 'operaofthelc', 'TheBradOwen', 'thebradowen', 'KarenVaccinated', 'rightwingwatch', 'evangelical', 'SIL', 'mammogram', 'colonoscopy', 'anime', '90s', 'fodder', 'Hokuto', 'Ken', 'Grappler', 'Baki', 'Sakigake', 'Otokojuku', 'Hajime', 'Ippo', 'seeing', 'MISSED', 'BeisbolKrish', 'Mohamme41349647', '77percocets', 'funna', '14yr', 'donny', 'corsa', 'WDWentHost', 'bumfuck', 'eu', 'amo', 'dois', 'lanche', 'aka60643', 'ramy', 'shorten', 'Rodrigocazare16', 'rulosinglenr', 'wifeshothd', 'DianaDeLaFranja', 'CulazosVip', 'CuckoldMor', 'exhibiendome', 'reynamorbosags', 'ChaturbateOnAir', 'ParejaE21771075', 'CDMX', 'AWARE', 'PD', 'unwarrante', 'patrolling', 'intl', 'aisle', 'onnnnnnn', 'Kari', 'experimental', 'teddy', 'yurikuma', 'fruita', 'btbt', 'bmbl', 'gojek', 'brace', 'Gideon', 'chancellor', 'yer', 'M21Xdl', 'Sissoko', 'Daryl', 'Dike', 'wba', 'Nicole', 'Byer', 'denial', 'MarketWatch', 'iamannsha', 'iloveustepbro', 'Pittsburgh', 'Spin', 'tablespoon', 'Nathaniel', 'Rowland', '230', 'kaladin', 'ay', 'nagiosinc', 'Graphite', 'threshold', 'scalability', 'm3', 'robust', 'detect', 'mitigate', 'DJDexMKE', 'shahid', 'hussain', 'shah', 'shahidhussainshah98', '920583736', 'opend', 'MeetCute', 'yu', 'steampunk', 'shadow', 'BarLouie', 'palme', 'PeerPressurDoIt', 'Shoulda', 'unsig00261', 'moral', 'SMB', 'Professorbroman', 'investvoyager', 'STEPHEN', 'EHRLICH', 'cofounder', 'Lightspeed', 'Financial', 'Oscar', 'Salazar', 'miniminination', 'Hybe', 'Marcos', 'Marsha', 'MarshaBlackburnLies', 'nullability', 'AGP', 'deprecation', 'bondage', 'claranovae', 'Drax', 'Thanos', 'LyftScam', 'DodgersTailgate', 'pitchfork', 'torch', 'Allergic2Hourly', 'dailydust7', 'rodgerrke', 'opensea', 'Beautiful', 'golden', 'exhibitionist', 'shutin', 'MemWoo', 'Champions', 'bg', 'CeeeeeJaayy', 'JoshDenny', 'itskedalove', 'UberBlack', 'UberPool', 'achiever', 'coaching', 'unveil', 'BLKCF', 'ARGS', 'BOTY', 'DB', 'ma', 'FirestoneMike', 'noprop22ma', 'Office', 'Political', 'MachineLearning', '100daysofmlcode', 'ImperialMello7', 'skeezi', 'jonande12200457', 'segregation', 'Slim', 'Shady', 'CatsSurname', 'eviction', '2700', 'listing', 'reluctant', 'ramalsay', 'pissy', 'Kasoa', 'RobertHurst157', 'xcrystalthayerx', 'davidbenizri25', 'lockwoodx3', 'kholwanil', 'tot', 'figa', 'unapologetically', 'misconception', 'mike0111011', 'forcing', 'bombardment', 'dependant', 'thediaryofpaige', 'hallleyscomet', 'AlexanderNL', 'DMS', 'Issues', 'deliverer', 'Lady', 'icl', 'NONE', 'hannyboy24', 'wildest', 'Kamala', 'sirDukeDevin', 'Heights', 'IVOL', 'rotate', 'Flop', 'KOLA', 'SUCH', 'BITCH', 'BW', 'viciously', 'NEEDED', 'oncome', 'madeverymistake', 'motherfucke', 'Dominican', 'funniest', 'katsukiforovs', 'imagery', 'HYUJUYH', 'ou', 'ifood', 'FesserMajid', 'willhgoff', 'unpaid', 'cheater', 'Blackburn', 'DVries1970', 'jarokkcog89', 'Frontier', 'Addison', 'Lee', 'Burson', 'Cohn', 'Wolfe', 'PHONE', 'Twit', 'garyvee', 'dare', 'Wandsworth', 'gilbert', 'Colour', 'reflection', 'repetition', 'Softy', 'yearssss', 'malumzskhulu', 'NotYourPlayTing', 'comedic', 'relief', 'kbethanysawyer', 'veto', 'tennygirl79', 'doll', 'chiraq', 'adventure', 'brianpmccarthy', 'ginarmous', 'theagedp', 'Gaia', 'Fawkes', 'Barrier', 'bleach', 'JennaHarner11', 'Horton', 'Jenna', 'StephStephens', 'Cinema', 'midshift', 'BesuraTaansane', 'carrrr', 'SeanMcCarthyCom', 'element', 'fascism', 'whitehairsmus', 'Steer', 'owing', 'sylmobile', 'henryn0692', 'SparkCharge', 'Triple', 'sugarcubenoelle', 'tjat', 'rebound', 'mouths', 'ualett', 'sternzac', 'AmericanExpress', 'torstenkunert68', 'IC', 'delicine', 'Spiritualincel', 'EWErickson', 'Hilarious', 'Christian', 'nglllllll', 'meantime', 'SnowLincoln1', 'binance', 'MunchToken', 'p', 'hint', 'pad', 'launchpad', 'Pluto', 'pterodactyl', 'Anyhow', 'Munch', 'chilllll', 'tokyo', 'drift', 'TheAmitLakhani', 'amitdeshmra', 'swarup1972', 'flyingbeast320', 'suhaibilyasi', 'Lucknowcabdriver', 'correspond', 'rsadhu531', 'olasquare992', 'kinbalinlamidey', 'Corp', '175', 'isthatscully', 'lube', 'unhealthy', 'Christmas', 'cuartocore', 'Refresh', 'realUnSafeSpace', 'FordNation', 'Justice4Workers', 'ONPoli', 'CanLab', 'banish', 'jim73194352', 'WHAT', 'spooky', 'psychic', 'Unsig', 'johnvmoore', 'cordoned', 'masse', 'oc', 'Comfort', 'injustice', 'shaming', 'disproportionately', 'krystalball', 'SALT', 'whining', 'dancer', 'fitness', 'combat', 'LateefSaka', 'hurl', 'misinform', 'distinction', 'FrancesFrei', 'harvardhb', 'annemorriss', 'Candy', 'Cornershop', 'getwellsoon', 'feelbetter', 'andimaccandyshack', 'steakandiron', 'Abbot', 'Tsartoshi', 'Dieter75', 'Limburg3rt', 'DecouvreBitcoin', 'SecYellen', 'LN', 'iou', 'Rube', 'Golberg', 'machinery', 'legacy', '200000', '1546', 'Featured', 'Majestic', 'TWICE', 'distasteful', 'professionalism', 'cable', 'Reuters', 'grasp', 'olovekill', 'indy', 'nutters', 'streets', 'alll', 'consciousness', 'winning', '18kaylz', 'Right', 'zeynepmyenisey', 'DYK', 'thisisourshot', 'shrimp', 'glory', 'LES', '10minutes', '3times', 'Glenlyon17', 'Eton', 'Popeyes', 'ObeyAlliance', 'VOUCH', 'BIG', 'MOMMA', 'himself', 'ennaezaa', 'analogous', 'Tecton', 'Michelangelo', 'catalog', 'versus', 'michelangelo', 'LondonCabbie78', 'benjaminpdixon', 'Splitgate', 'Somewhere', 'Main', 'Lmaoooo', 'NOTHING', 'perpetuate', 'preponderance', 'obstruct', 'Baltimore', 'Ajala', 'pleased', 'RoyalMail', 'refuge', 'BmoreHeartless', 'GoodSoupyo', 'itscaptnmorgan', 'Toure', 'DRESSED', 'eating', 'SPEEDRUN', 'jrichlive', 'lorakolodny', 'akant', 'hoped', 'Kapten', 'GoVT83', 'ariif', '2liters', 'TSH', 'ritual', 'Smft', 'interrogation', 'PotterWorldUK', 'restart', 'waaaay', 'MASSIVELY', 'dunk', 'throat', 'Wah', 'Kia', 'Soul', 'nypost', 'Dominos', 'TWEETARRAZZI', 'concierge', 'lenient', 'icmedia', 'SUPPOSED', 'Grandma', 'chudson', 'ReginaClewlow', 'SoftwareEngineer', 'NewYork', 'JobAlert', 'ClimateReport', 'MotivationMonday', 'adoptme', 'womensday2021', 'SirajAHashmi', 'stereotypical', 'Qarx', 'unlock', 'wield', 'kvnstrttn', 'mattturck', 'JackoRugby', 'Hypocrisy', 'boast', 'omit', 'RowanVanTonder', 'cuss', 'brink', 'impactful', 'RealityAmuck', 'juste', 'ahhhh', 'Blimey', 'Wife', 'Nigerian', 'Champion', 'grosven', 'mukund', 'Telehealth', 'moat', 'frontdoor', 'physician', 'JodyMit63758965', 'expiration', 'Vermin', 'Warboys', 'Peckham', 'gad', 'thi', 'Coombs', 'entrance', 'bottlerock', 'Sac', 'Fairfield', 'Sonoma', 'Mill', 'Palo', 'Alto', 'Santa', 'sheep', 'waffle', 'voer', 'genital', 'devon', 'okehampton', 'exeter', 'ANYWHERE', 'SBADZMD', 'anecdotally', 'Cavill', 'shy', 'Keaton', 'Bobos', 'punchable', 'resentment', 'KillaCham', 'needa', 'errthe', 'bruuh', 'neixndj', 'ayjayalt', 'heafty', 'toaster', 'bitter', 'costly', 'Mass', 'epicenter', 'carpool', 'Strava', 'Wwillie995', 'repetitive', 'IndoPilot', 'upshifte', 'curve', 'WitchyThelma', 'bznote', 'ColonelTimmy', 'SportsCastTz', 'Ikumbukwe', 'wanacover', 'mpka', 'ligi', 'kuu', 'bara', 'kutakuwa', 'announcement', 'NTKraken', 'scaling', 'expertise', 'JoVLande', 'siphewilliam', 'grimm1128', 'p4patl', 'paytonaveryxxx', 'dealership', 'unfriendly', 'Notes', 'Offering', 'Wire', 'ment', 'vikeologist', 'murray', 'ShappiKhorsandi', 'butter', 'MondayFortunato', 'MicMillz', 'tasty', 'Sydney', 'hotspot', 'GWB', 'unfunde', 'Iraq', 'downgrade', 'motorbike', 'baxbooksdeux', 'Prime', 'muscle', 'comics', 'rickshaw', 'anonymously', 'Kind', 'thatAvocadhoe', 'boda', 'Asante', 'phineasb', 'TheAimercat', 'ᶦⁿ', 'ᵗʰᵉ', 'ᵇᵒˣ', 'ＩＮ', 'ＴＨＥ', 'ｂｏｘ', 'stair', 'Arc', 'Triomphe', 'avraliste', 'satisfactory', 'foster', 'reassurance', 'reinforce', 'sorted', 'android17simp', 'tvanegood', 'woodlandbuckle', 'PatrickMahomes', 'tpolamalu', 'malo', 'Yessss', 'Authoritarian', 'Dominators', 'conformity', 'oligarchic', 'donor', 'corridor', 'degrade', 'insulate', 'nine', 'Panarama', 'DodgyDave', 'ThatArabBoy93', 'Saweetie', 'icygang', 'prettybitch', 'thesaweetiemeal', 'swaycopy', 'Cats', 'jargon', 'AnneJanzer', 'Researchers', 'EricAnicich', 'AdamGalinsky', 'Zach', 'Katia', 'tendency', 'unannouced', 'weekley', 'OnAirCoop', 'Peacock', 'viewership', 'excitement', 'guarantor', 'abujatwittercommunity', 'Easts', 'Boujee', 'boujee', 'InexorableGuy', 'lagos', 'rebeccaradfor15', 'solidarity', 'flatten', 'Cancel', 'Required', 'Vaccine', 'Employers', 'patronize', 'TysonFoods', 'Bach', 'Zoox', 'gamerslife', 'gamersunite', 'SAGEBAYNEWS', 'PLS', '1621neverforget', 'cwebbonline', 'dot', 'nu', 'vapa4u', 'earplug', 'ventilation', 'ellesmil3s', 'therealslipetz', 'lawkill', 'verbally', 'SomilBansal', 'Somil', 'Settings', 'Cache', 'prkrwayne', 'dijadiabla', 'FootballFunnnys', 'jobyaviation', 'dominant', 'Partnership', 'bourgeoisie', 'Line', 'arab', 'cheetah', 'Justia', 'Anoush', 'Uder', 'fe', 'schlaf', 'zoox', 'hispanic', 'cinematic', 'wistful', 'tour', 'tube', 'saulyb83', 'bobclendenin', 'passionate', 'newsom', 'blaise', 'blush', 'LCPL', 'LCLP', 'Clips', 'Inc', 'tenassociate', 'LifeClipsInc', 'SKLZ', 'VIAC', 'PENN', 'EPD', 'atvi', 'tmus', 'vsto', 'spwr', 'FVRR', 'rod', 'heckyessica', 'DodgersYaya', 'biased', 'fellow', 'POC', 'suburbs', 'covid19ab', 'abhealth', 'SINGLE', 'recirculation', 'racecourse', 'Rebecca84523123', 'Rebecca', 'redirect', 'ransom', 'scheduling', 'acvidental', 'VillaYouth', 'LionessInJuly', 'sginevan', 'GreatWalkway', 'KidSafeSF', 'Muni', 'Concourse', 'onyem', 'biko', 'haibo', 'boomboomcandle', 'inimitable', 'NastazjaDom', 'boisterous', 'rousing', 'Eve', 'Mickiewicz', 'HiConnieDear', 'SavaCalifornia', 'ARISEEEE', 'arindin', 'Bailey', 'selftaughtstph', 'swifteve', 'silvr', 'Teekachu1', 'vivianphung', 'Dang', 'privately', 'textbook', 'historic', '763', 'ST', 'Permit', '910557', 'Assessment', 'attached', 'AirBnbs', 'cycling', 'rout', 'seductive', 'expat', 'wonton', 'metre', 'leed', 'Bradford', 'TristanLombard2', 'Tristan', 'dramamine', 'Rumour', 'Engine', 'dastardly', 'dannywells142', 'Seaofchangefilm', 'SupStefani', 'ridespin', 'benwbear', 'DeanPreston', 'philmatier', 'sfmta', 'sfgiant', 'OracleParkSF', 'SFPort', 'ByRicardoCano', 'MLNow', 'savetheamazon', 'SaveCalifornia', 'saveourplanet', 'Nini', 'becuase', 'entertain', 'SimplyDiaaaaa', 'YerrrFrankie', 'blanket', 'utensil', 'champagne', 'juice', 'Ranges', '350', 'lilmissdaisyr', 'ljin18', 'dumplicious', 'cellar', 'default', 'barometer', 'yourefeelingbot', 'KinggRomeee', 'Markyveli94', 'nomore', 'ikas', 'lam', 'koloi', 'vryheid', 'rockin', 'elliotrades', 'hellomumpy1', 'seemingly', 'certainty', 'AiassMartin', 'DaveSwentnickas', 'mount', 'carmel', 'Mira', 'wrkng', 'raiders', 'VinylOffers', 'pity', 'crate', 'warped', 'disc', 'sloppiness', 'usbigrigtrucker', 'thelonelyaliens', 'SatoshiBrown', 'SoldierNft', 'FxckingZozo2', 'pepsi', 'Julie', 'Chinese', 'WhenYouHaveRiceAtHome', 'BitboyNews', 'hedgfund', 'military', 'distal', 'towntraveler', 'countingbills69', 'blowjobs', 'mariknackere', 'nffctom', 'FA', 'Hughton', 'attacking', 'Kardasians', 'Peach', 'RandomThoughts', 'Humans', 'historical', 'memorabilia', 'Hoo', 'SenatorLankford', 'alien', 'JRedbone690', 'utilization', 'preview', 'dukembb', 'roster', 'AJ', 'Griffin', 'Plains', 'Urgent', '5kayDaBratt', 'clientele', 'bracket', 'frequent', 'pinkladyck', 'willingly', 'Crocs', 'mitchellreport', 'peterbakernyt', 'Afghanistan', 'taliban', 'rosethechemist', 'ETHBTC', 'EOY', 'madforjav', 'SWEET', 'SWEEP', '4650', 'Spot', 'oi', 'IV', 'mikemundy15', 'ooooo', 'SJSKSJSK', 'bryan1012000', 'stramsfan81', 'PFF', 'Ebukam', 'rotational', 'Brock', 'SJD', 'situational', 'Samson', 'Boris', 'Johnson', 'Panorama', 'kiraalex', 'IamHaxx', '075693755', 'mie', 'Ricardo', 'Rodriguez', 'intoxication', 'manslaughter', 'Daniela', 'mrscmgrove', 'sant', 'Ambroeus', 'Yura', 'Met', 'melon', 'IDs', 'Mezzaluna', 'Serafina', 'Sweetgreen', 'Lux', 'ba3dun', 'Gove', 'Calais', 'cassie', '50p', 'puking', 'bush', 'Mrmojo0403', 'Isbell', 'penlopeAine', 'CharltonHills', 'tower', 'fgs', 'persecute', 'dressing', 'sportswoman', 'sexuality', 'Thee', 'proposing', 'PAYABLE', 'UberFreight', 'Asking', 'needy', 'Plz', 'streamer', 'Samoa', 'dint', 'crutch', 'sunglasse', 'OnlyConnect', 'overhyped', 'Noel', 'FUCKING', 'Asheville', 'avl', 'avlnew', 'TavistockJulie', 'wcountrybyline', 'DanielLambert29', 'c90k', 'intake', 'forehead', 'gOD', 'chickfila', 'simotrfc', 'troupytrfc', 'Bargain', 'BBNaijaShineYaEyes', 'Bbnaijia', 'BBNaijaseason6', 'Mpls', 'ethiopian', 'bong', 'Kuranda', 'plaujr88', 'Ki', 'olorun', 'pelu', 'yin', 'PANTY', 'KILLER', 'RUSSELL', 'WILLIAMS', 'SAMANTHA', 'JOSEPHSON', 'PLAYBOY', 'BUNNY', 'SUGARDADDY', 'Rihanna', 'lolz', 'josephkazUK', 'compartmentalise', 'malcontent', 'doorstep', 'CabvisionTaxi', 'jour', 'mais', 'leighmcmanus1', 'Leigh', 'baecation', 'Cable', 'irrespective', 'WhitefriarsG', '1329', 'vase', 'goblet', 'leaf', '1900', 'scarequotes', 'miniver', 'letterboxd', 'marsnoire', 'bravery', 'muz', 'treck', 'eminem', 'HankBonstedt', 'SteveKrak', 'HAIR', 'amandahenry01', 'theweek', 'citywinerynsh', 'Cadillac', 'LordGraydon', 'WaldoOlliver', 'tomoro', 'oscar', 'PoojaMedia', 'Heavymcfly1', 'DerekCashat', 'bigtastey22', 'Inugamiz', 'AdrianM41392793', 'DigiBug', 'Bitibeach', 'PfMV1cDJdfGZHJA', 'jvangent1001', 'Joe5871', 'roboticshoe72', 'bobblecott1', 'BLifter99', 'ChiarelloRob', 'Nadja72638243', 'MrGeorgeGrey', 'princesspbbaby', 'socialdemo69', 'areacode346', 'Ramyrambo15', 'BenBanklin2021', 'Atticus58113746', 'realearthzebra', 'jmdelga82664720', 'FighterTh', 'newrx3', 'CarolynCMartin', 'thomasj04904869', 'amundston', 'Intellibach', 'AntifaRioter', 'ObiWanJBSmith', 'CollinsConscie1', 'Sparky08153437', 'StanBianco', 'Douglas48707356', 'timinator08', 'votewarren', 'taya', 'RoxyNikoBrad', 'CarterRubin', 'documentary', 'mayan', 'sowetrightnow', 'revise', 'subliminalglory', 'mitsubishi', 'proudly', 'StocK', 'Acciones', 'Pfzer', 'Roku', 'Roblox', 'workhorse', 'mercado', 'Bolsa', 'TRadingRoom', 'CursoBolsa', 'TradingRoom', 'Shhhh', 'audible', 'soundbite', 'shandershow', 'fole', 'DEFUND', 'COMPLEX', 'freeshkreli6', 'jm50299', 'Fur1ousApollo', 'kaydo1000', 'majorityrules2', 'gbnews', 'gammon', 'Blacks', 'MickeyFisher73', 'alybartulio', 'UX', 'collective', 'LbudisaLila', 'Kieron', 'ladydebidebz1', 'hoax', 'Vanguard', 'Goldman', 'Sachs', 'Tyson', 'Times', 'WashingtonPost', '333', 'HorusHourPod', 'JamesThePagan', 'Neurodiversity', 'Neurodiverse', 'thedisabilitycollab', 'dmd', 'Ops4All', 'MONTH', 'cmon', 'cams322mike', 'gone', 'Hombre', 'someplace', 'mikeycab2', 'Alfiebubbles', 'stephenhdg', 'X3', 'stinky', '14yo', 'nephew', 'dyan', 'DerekMiller36', 'Grid', 'OptionsTrading', 'Shares', 'OptionsFlow', 'optiontrade', 'StockMarket', 'Investment', 'punbx511', 'ChickfilA', 'doga69', 'horrorvillain', 'tik', 'tok', 'fw', 'kingkyIee', 'Rubbish', 'Tracyco31231677', 'paulsmithto', 'hollandrach91', 'RamieDecoteau', 'Pretend', 'holudaray', 'voteblue2022', 'victoria', 'quickkk', 'pun', 'wokeistas', 'livelihood', 'PRO', 'Diamond', 'wrongly', 'Schiff', 'Liar', 'NeptuneWusky', 'buckethead', 'gh3', 'averagely', 'nicolledwallace', 'MASK', 'MANDATES', 'therapist', 'Hard', 'lolrolfe', 'BenjiNaesen', 'constellation', 'ChiefOnyedika', 'Everybody', 'saitama', 'KIRBYINU', 'DAWGS', 'MM', 'tenshi', 'SHIBMERICAN', 'SBRT', 'SAITAMA', 'GODL', 'iwm', 'spx', 'slv', 'vix', 'busd', 'sheltgarner', 'RDR2', 'Lmfao', 'aikellyxo', 'mala', 'williamwoz1', 'uberfraud', 'uberassault', 'thereclaimparty', 'Deboinars', 'Truck', 'Motor', 'Hair', 'DomsticHlp', 'bop', 'Marco', 'Polo', 'Jake', 'orlando', 'samparkermetal', 'Joker', '9326605161', 'LoudSlam', 'Tentoads4truth', 'gabbiesyesman', 'milledeville', 'tayjoeak', 'Brainiac', 'MoS', 'NYTWA', 'bargaining', 'Impossible', 'correction', 'overlap', 'inputs', 'cervus', 'REFUSE', 'CyprienDidace', '77', 'drove', 'sambutanalt', 'bigstronggeek', 'mrddmia', 'brikeilarcnn', 'density', 'DEM', 'Howrah', 'problematic', 'msmyers17', 'Heidy', 'Tavern', 'housemate', 'reunite', 'tompfoster', 'feck', 'muppet', 'jumpsuits', 'JamesWalkerUni1', 'messithought', 'AmericanIdol', 'taylorswift13', 'katyperry', 'IAMTOMMACDONALD', 'elliegoulde', 'ArianaGrande', 'selenagomez', 'theestallion', 'DUALIPA', 'AvaMax', 'thatsdax', 'nerdoutmusic', 'Daddyphatsnaps', 'KadeshFlow', 'nfrealmusic', 'DeezyEight', 'FabvLMusic', 'danielrustage', 'GameboyJones', 'shwabadi', 'billieeilish', 'mefreece', 'kennychesney', 'NICKIMINAJ', 'halsey', 'ladygaga', 'justinbieber', 'lorde', 'NoneLikeJoshua', 'DojaCat', 'edsheeran', 'iammarcoux', 'FrivolousShara', 'vindiesel', 'Sailorurlove', 'copious', 'NwoyiMB', 'assurity', 'theyungcatholic', 'kmmimprint', 'rebuke', 'CentaurBrody', 'Niggaaaaaa', 'Greenfield', 'MSM', 'amcnotleaving', 'ApesRemember2008', 'Lutyens', 'a4', 'casamigo', 'ReformedBroker', 'thecompoundandfriends', 'undersell', 'externalize', 'camsvdrugs', 'xdemijonas', 'Demi', 'max8126', 'sacredutd', 'Ironic', 'ye', 'kiya', 'grantrindner', 'kool', 'MaxBoot', 'Nazi', 'Candace', 'Owens', 'reactivation', 'VLUTHERR', 'germans', 'ryanmic60624798', 'michel3131', 'nevertrumptexan', 'bennyjohnson', 'nigt', 'chancer', 'ProtectPatient1', 'andydrewxper', 'Kai', 'bash', 'XYZ', 'corpos', 'stfu', '129', 'NaughtyBottom1', 'wolve', 'RhinoShowTV', 'newfiemunky', 'vigilant', 'telephonically', 'onlyinbos', 'Eastie', 'Vancouver', 'vancouverfarmersmarket', 'HamHarder', 'TheHadou', 'Tyler', 'Disneyland', 'AjithNetwork', 'Handsome', 'Eya', 'awards', 'fearlessbizboss', 'chalke64', 'mcchris85', 'nedboulting', 'Audio', '160518', 'derosa', 'Mathew', 'Watch', 'Small', 'itsGoddessTi', 'Drama', 'nqobile', 'storyline', 'mayhem', 'Ntuzuma', 'Durban', 'ChandlerTheBoss', 'Rhuuu', 'Fauci', 'Daszak', 'Creepy', 'propagandize', 'Request', 'Dumbest', 'shortstopclo', 'Compass', 'autumnthearie', 'm1dzommer', 'leisurely', 'optimise', 'sentiment', 'NBCSEdgeFB', 'rookie', 'Jefferson', 'Mohale', 'Somizi', 'kuyanyiwa', 'speculate', 'FL84CCGP', 'recharge', 'SouthwestChickenSalad', 'realzaxby', 'Zaxbys', 'Zaxby', 'licensure', 'legally', 'dismiss', 'monopolistic', 'pishe', 'NicoleAshexoxo', 'wasp', 'michaelsantoli', 'kaitlynm0048', 'goodie', 'funding4Familes', 'Leona', 'Helmsley', 'VictoriaAfrica9', 'Shamiellah', 'vali89204261', 'Vali', 'priest', 'Critical', 'firework', 'Hand', 'counting', 'Surtax', 'mug', 'bbUS', 'hg', 'blindside', 'realKunalAShah', 'BNB', 'Years', 'Zheng', 'Shao', 'Mohammad', 'Islam', 'lewdgordo', 'Er', 'Brave', 'expl0de', 'aldi', 'afoul', 'statute', 'suit', 'brabo', 'com', 'essa', 'AnarchoAsahism', 'elect', 'Northeast', 'Larry', 'Elder', 'mlsmlys', 'comfortably', 'Ordering', 'ChronicBabak', 'RaeOrTree', 'IEdoyer', 'mascot', 'Leftist', 'Hypocrites', 'Operator', 'Association', 'Otunba', 'Omolekan', 'Taiwo', 'dbzx100', 'Gus', 'cctv', 'footage', 'diablo', 'farming', 'rinse', 'Bredda', 'molyne', 'tpc', 'Force', 'Lois', 'birria', 'honored', 'AdequateEmily', 'OOOHH', 'SWANS', 'kilter', 'PFFTT', 'sheepgone', 'assurance', 'femophantom', 'Scuffles', 'protestor', 'television', 'newsflare', 'unreasonable', 'hottip', 'realtionshipadvice', 'Want', 'Help', 'Fogo', 'Chao', 'shutupzac96', 'EliLewisXXX', 'cleaning', 'vminggukx', 'bethanyelysee', 'DAD', 'VENEZUELAN', 'beaner', 'Mkvokwana', 'Mkhululi', 'boutta', 'drivin', 'Cir', 'clause', 'interstate', 'gabrielmalor', 'hoist', 'petard', 'Prospect', 'Expressway', 'pole', 'rampant', '3pc', 'bmw', 'luxurythatinspires', 'Fridge', 'SmartFridge', 'LGRefrigerator', 'RayWils62227048', 'SenatorRomney', 'drought', 'teeny', 'GovAbbott', 'DallasFed', 'Companies', 'WorstGovernorEver', 'AbbottVariant', 'CBS', 'sexualharassment', 'trafficking', 'rishigandha', 'homeministr2024', 'abpanandatv', 'aajtak', 'BraxtonKai', 'KyoAlexiel', 'belive', 'Wheras', 'establishment', 'Ancai17', 'Anca', 'tonite', 'sm1', 'ranty', 'capability', 'bandwidth', 'Analytics', 'Insights', 'Internship', 'International', 'Opportunities', 'conference', 'scholarship', 'fullyfunde', 'internship', 'fellowship', 'academicconference', 'cereal', 'repralphnorman', 'lust', 'Iray', 'PBRskin', 'extremity', 'Cthulhu', '3dcg', 'DAZ3D', 'dazstudio', 'Lovecraft', 'Taylor', 'addictedtoct', 'leash', 'Opinion', 'YungMushmouth', 'jawn', 'rupalisakharkar', 'Rupali', 'SteveIsGreater', 'iamnehaam', 'starcat671', 'tryguilde', 'Guilde', 'renovation', 'remodel', 'database', 'construction', 'homeowner', 'MoonlightUmbry', 'DoorBash', 'personalize', 'MyUsernamesThis', 'Harassment', 'Offensive', 'utilise', 'ebay', 'Paid', 'Priority', 'thetokenhipster', 'matthewmarks42', 'taas', 'UGA', 'tuck', 'blaring', 'ringing', 'startled', 'Jinnie', 'definition', 'YkayOnu09', 'NeilSGrainger', 'Neil', 'STUD', 'studly', 'Dkng', 'pltr', 'chwy', 'abeg', 'Secretary', 'DeRosa', 'Staff', 'AG', 'Eric', 'Schneiderman', 'amid', 'RESIGNS', 'daycare', 'mos', 'plexiglasse', 'instill', 'sparklingmeb', 'billiegoldchain', 'Tjo', 'ngyayisaba', 'ukuthi', 'senmurat123', 'DudespostingWs', 'dirt', 'wendishen99', 'ElonardoM', 'PJWheeler83', 'slush', 'melt', 'downfall', 'Ian', 'Pentagon', 'bean', 'Cava', 'Ruchhita', 'CPKolkata', 'FirhadHakim', 'unsafeuber', 'TESSATHEGR8', 'retainer', 'participation', '500k', 'Tl', 'observer', 'Volkswagen', 'Farm', 'labourer', 'Guard', 'Donut', 'hut', 'Panago', 'gocurb', 'Adams', 'automotive', 'collision', 'specialist', 'adamsbodyshop', 'Supergirl', 'beingankush05', 'Ankush', 'GO', 'suuuuch', 'rambling', 'insignificant', 'cabbie', 'TNC', 'progessive', 'entitled', 'Taxes', 'shocker', 'Wear', 'SCUBA', 'DeliveryBhoy', 'SwiggyDEHyd', 'Smoothie', 'mane', 'basketball', 'bucky', 'lomls', 'Scan', 'graft', 'YNWA', 'hourround', 'FORCED', 'tedcruz', 'RepAOC', 'TVIX', 'RagabKarim', 'itwasonaccident', 'nau', 'divyashah30', 'BlrCityPolice', 'AmitShah', 'HomeMinistr2024', 'camping', 'Esla', 'kiwi', 'onacasella', 'tonightatomic', 'bergeronprocess', 'unvax', 'Maaaaaan', 'hoppin', 'sеnd', 'chauffeur', 'fur', 'jеwelry', 'jury', 'jewelry', 'ben', 'seismic', 'padierfind', 'LiniDeLucia', 'adcu', 'shoddy', 'GeorgeBudd99', 'bibekaho', 'msulzbacher', 'meinst', 'mit', 'ehemalige', 'ueber', 'sind', 'tothemoon', 'yolo', 'usability', '100x', 'offering', 'gum', 'Suggested', 'bonjour', 'madness', 'instrumental', 'destabilising', 'usdc', 'VYGVF', 'Coin', 'stablecoin', 'STE463', 'inconveniently', 'ponzi', 'bubbly', 'ZofeDana', 'myth', 'marcus51090', 'Marcus', 'guyz', 'Background', 'Dababy', 'blip', 'KilanBishop', 'FELT', 'presently', 'lmaoo', 'bengali', 'bat', 'vest', 'precarious', 'ADCU', 'Word', 'Rockscratcher', 'Answer', 'multinational', 'pat', 'figuring', 'unfounded', '1trillion', 'eerk55', 'imkeshav', 'zig', 'zag', 'impulse', '59k', 'consolidation', 'AtH', '82k', 'Back', 'Shits', 'litty', 'schwarzenegger', 'OddGoanOut', 'fhvs', 'Speaker', 'Viverito', 'invention', 'SunderlandLolly', 'conclude', 'gutte', 'funkytown', 'startrekviscomp', 'artwork', 'mock', 'SNIPER050885400', 'bringing', 'Judges', 'frenzied', 'impress', 'microsoftuk', 'PHV', 'DarronCarroll5', 'norman', 'MPSRTPC', 'unkind', 'claytonmock', 'visibly', 'queer', 'FilmyKeedaa', 'chuckle', 'Watcher', 'Woods', '1980', 'peanut', 'TCU', 'stepdad', 'chellsbells40', 'pollo', 'guava', 'Future', 'Dapp', 'australian', 'Rudd', 'briefly', 'Queensland', 'tipsy', 'diner', 'Guilty', 'MrKRudd', 'Gloria', 'Skaftini', 'theflightofmars', 'humid', 'GoWBTransport', 'amicable', 'TimVoorhees', 'accepted', 'Rail', 'Limmattal', 'adithimanasa', 'customersupport', 'stately', 'elegance', 'Marble', 'Top', 'Table', 'uberinterior', 'elegant', 'timeless', 'homeinspo', 'interiorsandlive', 'luxuryhome', 'dreamhome', 'modernhome', 'coffeetable', 'morningcoffee', 'blicky', 'YDanasmithdutra', 'Golly', 'undo', 'generous', 'McConnell', 'MNDY', 'os', 'Empowers', 'Teams', 'Sales', 'Devo', 'Construction', 'Remote', 'Adobe', 'ENTRY', 'stannacct1', 'sluggish', 'catastrophic', 'Internal', 'changed', 'undisputable', 'collectively', 'atx', 'timhorton', 'clairelizzie', 'OkayGreatThanks', 'clinicalkai', 'SkySport', 'MarcoBovicelli', 'ChelseaFC', 'yilmaz', 'domination', 'summerchauffer', 'rahulkar88', 'KakaAtta', 'Kaka', 'biggrovebrewery', 'b1gcat15', 'Pound', 'Hawkeye', '40min', 'atensnut', 'sacred', 'ofc', 'bvujanov', 'LiamKircher', 'flood', 'stanste', 'osborne', 'shrug', 'Ibiixo', 'Details', 'NotTheMentalist', 'stpb6925', 'yokurb', 'grub', 'BrentRichter', 'upper', 'LV', 'moderate', 'Evo', 'RiazGilani', 'henry19202157', 'Guide', 'Galaxy', 'rejectedbooksequel', 'Amex', 'Platinum', 'ubernewsapple', 'ubernewstech', 'UnsafeUber', 'AndrewBoff', 'NEXT', 'carsonomara', 'Lakesman5', 'DIZKO4', 'TheTwatRises', 'YORK', 'LGA', 'manhattan', 'filmmaker', 'meant', 'diamond', 'hater', 'spar', 'ticketmaster22', 'jrfuisz', 'Reduced', 'timeshare', 'propertie', 'jpy', 'fractionalise', 'CrashedMyBroom', 'Independant', 'polish', 'Gdansk', 'hesitancy', 'roadblock', 'Forbes', 'nonsensical', 'Blaster', 'ExileArms', 'Yasmin', 'jackiehillperry', 'TrumpTwentyTwe3', 'PeteRam75094959', 'reichoii', 'Donate', 'ArbitraryReign', 'TrevDon', 'Guten', 'Pups', 'adorb', 'PETERMA65934663', '3mi', 'Indy', 'Lost', 'jithblade', 'jonathanmayer', 'Snowden', 'RealNatashaChe', 'dent', 'balanced', 'botanical', 'furnishing', 'prepper', 'bezos', 'Zealand', 'Thiel', 'Sainsbury', 'Fuckssake', 'ajillgrave', 'enthusiastic', 'Karma', 'FPratty', 'Siftedeu', 'saunbyl', 'Lauren', 'NurseBryony', 'Nurse', 'Grimshaw', 'Fiancée', 'ghostlycola', 'gameifyouare', 'Rosegoldchrome', 'kensf1234', 'pantry', 'TexansAtx', 'StephStradley', 'Deshaun', 'Britney', 'dancefloor', 'uptake', 'bbcnew', 'cosign', 'CellDelhi', 'AshrafFem', '007QaQaAli', 'AdityaMenon22', 'kolsepatilbg', 'puddle', 'splash', 'carer', 'foofighter', 'Radkey', 'zombieyeti', 'ACTigerLili', 'cnnbrk', 'apocalypse', 'bunkers', 'prescription', 'zeinacola', 'Cervantes', 'Cap', 'Colfax', 'Borg1259', 'cheesy', 'ShannonSharpe', 'unc', 'AngelOfCannabis', 'Korova', 'rufie', 'pizzeria', 'therideshareguy', 'vcs', 'Oddsolostrike', 'impose', 'precaution', 'annekenordstrum', 'Checks', 'JESUS', 'CHRIST', 'crumbling', 'marina', 'lavista', 'bay', 'k444tiebby', 'Shopee', 'Carrefour', 'habla', 'españold', 'es', 'gratis', 'vaxtoprotect', 'thecat98598918', 'china', 'bookmark', 'According2Tucas', 'LJAkaar67', 'GigWC', 'R100', 'WomensDay', 'DriveDryPledge', 'yoke', 'entropie', 'vajrayudha11', 'BRTS', 'inspite', 'Halloween', 'Ikeja', 'berger', 'tstory27', 'Ongweso', 'WFLADaisy', 'taxin', 'georgiaxbaum', 'laadidaa', 'BART', 'affluent', 'niseynash', 'Reuben', 'Altima', 'commie', 'funnnyyyyyy', 'lrobinson382', 'ATTN', 'hygiene', 'protocol', '747YAZZY', 'throwin', 'SwampWitchLeigh', 'unsettled', 'defence', 'warranty', 'expressway', 'anyday', 'lightne', 'themasterdasher', 'WEBDuRag', 'Finding', 'ui', 'redundancy', 'hurting', 'rha', 'cone', 'DOJ', 'GAL', 'PLSE', 'PRISON', 'moto', 'MixahFanimo', 'subject', 'AAP', 'Patriotic', 'Indians', 'lrnrose', 'zozo', 'skhaftin', 'GrizzlyPepe', 'fidoesstuff', 'marniecalladine', 'thetoastedgoat', 'averyjeanttv', 'BenorChef', 'Scubba243', 'Tank', 'ze', 'schoutout', 'Guyzin', 'Zodwa', 'Scaftin', 'desirula', 'alsoalistair', 'Skaftin', 'emeraldmaybabe', 'Hahahaiyeeeeee', 'yessss', 'Ai', 'yebo', 'drs', 'congressional', 'mrkts', 'Lunch', 'Reserve', 'Joburg', 'Exchange', 'Cupcake', 'guessse', 'mspilotjone', 'Flame', 'Drake', 'remixe', 'pdx', 'ftwrtoheaven', 'KopparbergUK', 'LI', 'Petition', 'hingry', 'RamahlatjiTumi', 'fraudulentaccount', 'kaks', 'xaarvertz', 'shaahitukda', 'Lower', 'Bodyweight', 'AJKinOHIO', 'diverse', 'IMHO', 'charlottedobre', 'FTR', 'MoatsLikeKodak', 'humidity', 'charming', 'technog88176286', 'amitrmfc', 'droolin', 'Harlem4Dais', 'Wisdomking007', 'johswayy', 'Reselling', 'Product', 'curation', 'Copywriter', 'Ad', 'creation', 'Turo', 'backstory', 'Finn', 'BoldandBeautiful', 'ImSpeaking13', 'toxicity', 'cannibalize', 'import', 'gendervoidallie', 'unisex', '00', 'hyper', 'masc', 'Esp', 'GNC', 'bookingcom', 'Shazam', 'Skype', 'AlibabaGroup', 'Pinterest', 'telegram', 'Serverless', 'sorcery', 'Nuclear', 'nosy', 'judgy', 'frown', 'BollyBolaWood', 'dtptraffic', 'abpnews', 'IndiaToday', 'IT', 'Hoping', 'Nigerianscamsss', 'thefyfie', 'Rum', 'Raisin', 'rum', 'reinvigorate', 'techy', 'distraught', 'urlocalnerdd', 'niche', 'Sheets', 'eg', 'OKRs', 'KPIs', 'commenting', 'supporttaxis', 'muhh', 'fuggas', 'uglasss', 'xdycp', 'humbling', 'theCKBuchanan', 'PhilMphela', 'kdevpls', 'UnsigShop', 'UnsignedTeddys', 'NeonSigs', 'BEV', 'Fills', 'squish', 'Uk', 'Thankyou', 'Pushpa', 'AlluArjun', 'Baddiel', 'Maha13832059', 'bedheadforever', 'bathtub', 'FolkToe', 'separately', 'exhausting', 'beyoncé', 'strategically', 'adida', 'undisclosed', 'disney', 'etcetera', 'authentication', 'louisawbu', 'JoeyCarrionDFS', 'QB', 'tatertario', 'bulking', 'laura', 'ShannaB39332017', 'Henry', 'lacklustre', 'Motto', 'Riddim', 'steup', 'marvinsjacob3', 'immaculate', 'Uncanny', 'tygerwulfe', 'flurryyify', 'AvivaCanada', 'mth', 'arpund', 'afloat', 'justintrimble', 'stake', 'masked', 'thorough', 'amuse', 'royalty', 'heel', 'skechersindia', 'sneaker', 'SkecherStreet', 'Ought', 'wardrobe', 'FaizanSaif21', 'nocontextfooty', 'Mexican', 'Stripper', 'Bartender', 'womwn', 'Shey', 'Weyrey', 'Mo', 'Gbe', 'Igbaju', 'ni', 'Zip', 'kyogre', 'uu', 'Lanturn', 'intimidated', 'Celso', 'tension', 'mor', 'andar', 'lelein', 'guinea', 'MurdocBastien', 'counterproductive', 'unaccompanied', 'CrashChildress', 'Ihearahadji', 'WarPath2pt0', 'classroom', 'courtroom', 'OT', 'TYFYS', 'Piggly', 'wiggly', 'Dolly', 'Parton', 'investfirst1', 'ki', 'baat', 'thodhi', 'alaag', 'statung', 'sour', 'PeoplesHistory', 'noampomsky', 'doggie', 'physicist', 'GeoffLewisOrg', 'ginormous', 'Carly', 'Ashland', 'reedobrown', 'JamieARiley', 'euros', 'Yandex', 'Go', 's7hc5po8', 'tallinn', 'riga', 'vilnius', 'estonia', 'latvia', 'lithuania', 'eesti', 'latvija', 'Nut', 'Stay', 'wordddd', 'ArabelleRaphael', 'LuciaDLite', 'Carmel', 'mercifully', 'offseason', 'draft', 'dire', 'franchise', 'Duke', 'Tobin', 'gfuckingq', 'Outlets', 'Nordstrom', 'Gamer1Grown', 'KSI', 'manz', 'gunna', 'wearin', 'Smurk', 'merch', 'actin', 'Perc', 'hurttttt', 'firstttt', 'Chyle', 'uberhealth', 'IoT', 'smartphone', 'anand14327', 'HELOC', 'lien', 'SamDavez', 'actively', '8xs', '2months', 'Schoolofspirit2', 'cornwall', 'darling', 'MfanuyedwaS', 'Mark10049312', 'alphavile2018', 'inquest', 'Zuma', 'MarioH92', 'Golden', 'DD', 'spac', 'Geokypan', 'Havenwood', 'Waterford', '88', 'softwarnet', 'JohnRossomando', 'doctorspin4', 'winger', 'Low', 'Carbon', 'Heating', 'noahpinion', 'NothingLessAll', 'waltermasterson', 'MitScientifica', 'BreitbartNews', 'looser', 'Quit', 'superimposing', 'ABANGAR', 'ET', 'breakout', 'meltdown', 'OMMFIE', 'ING', 'SOME', 'PVD', 'mvax8', 'maiyro', 'blogging', 'bloggingcommunity', 'writerscommunity', 'Scooter', 'Mabhengu', 'sap', 'Vaxx', 'pertinent', 'POLICY', 'sltrib', 'elmmoves2', 'bamz273', 'BlackKnight10k', 'botox', 'migraine', 'wrinkle', 'Islington', 'Pre', 'Frankie', 'WizardWhistle', 'Ill', 'icecream', 'bestfriend', 'neighbour', 'carlitoxt', 'SeaaaaMannnn', 'sanghi', 'Allahu', 'akbar', 'Law360', 'Defeats', 'Antitrust', 'Suit', 'Circ', 'Strike', 'Silent', 'Killer', 'Kills', 'manual', 'Sentry', 'reload', 'comically', 'Marksmen', 'washed', 'unsupportive', 'Christi46847375', 'NEG', 'jennalp', 'timjgraham', 'rumor', 'sedative', 'fangirle', 'slobber', 'DeannaRonson', 'panick', 'unfirmilier', 'Sarah11427', 'reputable', 'pulte', 'RatboyCEOalt', 'unheard', 'freespeak3', 'Elders', 'modest', 'inheritance', 'deem', 'critisize', 'technologies', '8nc3', 'NOTES', 'shopify', 'NA', 'larryelder', 'candidate', 'guilty', 'GavinNewsom', 'recallgavinnewsom', 'ElectLarryElder', 'Pelosi', 'Newsom', 'clan', 'pisstake', 'Phew', 'greatuberdriver', '44c', 'accelerated', 'roadmap', 'hillrat', 'contest', 'GOS', 'gta', '8830321810', 'facelift', '90dayfiance', 'HappilyEverAfter', 'TLC', 'ubhim', 'Immediate', 'revenge', 'offender', 'sexist', 'misogynistic', 'hatemonger', 'unapologetic', 'mobilize', 'lainazanael', 'lanemunz', 'abigailmunz', 'CNewhampshire', 'dafuq', 'shepard', 'slight', 'Chem', 'immediate', 'Casey', 'apdpjpsp', 'vilmakins23', 'helbizofficial', 'peteilc', 'Stressed', 'Anxiety', 'lichelet', 'Trumpster', 'Fire', 'KeepGrasping', 'CancelTrumpism', 'CoglianeseRalph', 'Willimas', 'ULTRA', 'Racheal', 'Maddow', 'SUPER', 'BIGGLY', 'yzaiahjordan', 'DCPNewDelhi', 'sanjayazadsln', 'AmbarMra', 'cskkanu', 'NCMIndiaa', 'GetKeef', 'ummmmmmmmmmm', 'contraint', 'mentalhealthmatter', 'spreading', 'sussexsquadpod1', '79wagonator', 'MamaRoseFlowers', 'tirtharupsaha', 'NianticHelp', 'Count', 'nest', 'RNG', 'redo', 'slightest', 'fengwan20895450', 'cate', 'Been', 'shenanigan', 'jztkddng', 'krisispiss', 'Kris', 'TheFantasySton1', 'WrestleKrouxVII', 'Punk', 'Bryan', 'champ', 'Page', 'Malakai', 'stardom', 'pastlalibra', 'snatch', 'DrBpatel', 'sent', 'EmptyNest', 'yourlovefrp', 'testimony', 'ECUADOR', 'HarmoniaAtLast', 'GrillinRod', 'electricity', 'nnoyeka', 'dodo', 'hd', 'kitten', 'schlep', 'yogurt', 'rishabhkashy', 'wrongfully', 'ripe', 'yardage', 'predict', 'calculated', 'sandyrulesss', 'hassle', 'firstly', 'betwwen', 'cxl', 'charg', 'publictransport', 'UberGo', 'FioreValentini', 'RBReich', 'reference', 'MADD', 'knicksyanks1991', 'ghaff', 'uphill', 'gravitate', 'quinncy', 'commuter', 'arrestlucknowgirl', 'ammawhatt', 'bolster', 'FALSE', 'virtue', 'orientalhermit', 'dangerously', 'scold', 'MTA', 'sunnyteea', 'Wario64', 'babyyy', 'CBARR89', 'Liu', 'fluke', 'monopolization', 'vgorecha', 'bestcarsforuberbizinnigeria', 'undisputed', 'engine', 'Fiber', 'Computing', 'artificalintelligence', 'mlops', 'kingblehme', 'jhmorseiv', 'rightlegpegge', 'DenCityCouncil', 'MayorHancock', 'DenverPerfect10', 'micromobility', 'misrepresent', 'Nowhere', 'Cry', 'RNKFshirts', 'abdullahsuck', 'asifihadwing', 'Seagull', 'Meeting', 'jaymcIain', 'HOLD', 'TheRealHoarse', 'Q39', 'BBQ', 'MO', 'Negro', 'Leagues', 'Outstanding', 'knockoutxo', 'Lisbon', 'bump', 'standstill', 'sweetest', 'milfgod28', 'DwyaneWade2020', 'sphiweabslom', 'competitively', 'beverage', 'refreshment', 'lotion', 'roller', 'papi', 'DAYSSS', 'orrr', 'smiley197240', 'flexibility', 'Leslie', 'Lawrenson', 'brainwashed', 'NickChilds', 'jasonwhite', 'eliistender10', 'LaurelLu', 'DianaVilic', 'katgordon', 'JoeWelstead', 'IanSohn', 'suebchild', 'EITorero', 'Cannes', 'rizontool', 'strongforecheck', 'eloquent', 'Terminal', 'oof', 'restaraunt', 'Allocate', 'kmt', 'emschu18', 'joceamari', 'Jinya', 'agricultural', 'easmontrickz', 'StearsBusiness', 'TimeyinPI', 'sensor', 'dashcam', 'MattTrocchi', 'Trueeeeee', 'retrospectively', 'Mustache', 'SHALL', 'BURN', 'ivynsambo', 'R25', '3h30', 'ADHD', 'medication', 'daydream', 'lghtsknbstrd', 'ushit', 'homeeeee', 'GergelyOrosz', 'AppDev', 'johnmasonrtid', 'Leo', 'uberstorie', 'Nekima', 'lore', 'neat', 'Starscream', 'Malifaux', 'TraderKarthik', 'captainmorganus', 'NYCFC', 'RedBullArena', 'intermiamicf', 'lenshermanCBS', 'ProtagorasTO', 'Len', 'intrigue', 'engineering', 'dcf', 'determine', 'yungjollyboy', 'counsellor', 'Cashier', 'Technician', 'Members', 'Events', 'Investor', 'Relations', 'ltuhura2017', 'noooo', 'akip', 'chris', 'Oklahoma', 'repeatedly', 'renowned', 'DCPS', 'sites', 'ltsJustMir', 'JinnqsOnTiming', 'deadlyDLO', 'casualsmh', 'atlvanilla', 'amadoukaloga7', 'sellboytre', 'Farmer2', 'Kxngzaya', 'JazirReardon1', 'gungaloid', 'AlexBra33640860', 'wageryn', 'managernxtdoor', 'ampexclusive', 'johnbuilds', 'Ohhhh', 'thunderstorm', 'Gil', 'Kensington', 'Ja', 'calbucci', 'GIGCarShare', 'trancefem', 'skid', 'shack', 'tecate', 'PLUR', 'stansportsman', 'mfg', 'owen11621171', '4frontventures', 'FFNT', 'overan', '323', 'INR', 'revolutionized', 'rcoppa', 'advisor', 'TIL', 'trumpet', 'Hindutva', 'pretender', 'Savanna', 'faultline', 'USHV', 'spectrum', 'authorise', 'PayPalUK', 'JudeEdoga', 'iSlimfit', 'iyanaworo', 'planetgrio', 'grocerie', 'LauraVi16553936', 'cannalyst', 'RichieYemie', 'Took', 'tract', 'pastor', 'barley', 'Draft', 'Discussion', 'emulate', 'Iwobi', 'Atalanta', 'torture', 'browse', 'execute', 'WalshFreedom', 'Voter', 'Election', 'Expand', 'absentee', 'HananyaNaftali', 'awkwardly', 'uhhh', 'ALLLLLLMOST', 'dominoe', 'splitting', 'parky3998', 'PantsNeil', 'FastOrFar', 'jonnyccolli', 'montie', 'cycle', 'ronniek21323359', 'picking', 'LinkedIn', 'becuz', 'kobo360', 'ObiKobo', 'sht', 'sooooooo', 'irritate', 'voidref', 'insider', 'publication', 'years', 'sweetbitts', 'iron', 'into', 'retweete', 'handmade', '8k', '08103341630', 'Abba', 'Kyari', 'Boma', 'Hushpuppi', 'Fill', 'amareward', 'Lauderdale', 'perpetrator', 'headquarters', 'component', 'TechCars', 'Waymo', 'Parylene', 'ConformalCoating', 'protectyourcomponent', 'hdz712', 'xhinatown', 'Pfield1961', 'November', 'intro', 'coordinated', 'ctvnew', 'legitimacy', 'serenthomasts', 'PlayApex', 'theresavn', 'newmusicupdate', 'Tulsi67967956', 'thisissanjalig', 'CharuPragya', 'oyevivekk', 'snehasneha173', 'davidfrawleyve', 'VertigoWarrior', 'hoor', 'whoor', 'Telegram', 'resume', 'Play', 'ht', 'JlaxIng1', 'mambo', 'dyyo', '1950', 'MyCh3micalSwift', 'participant', 'meager', 'unsuccessful', 'sixth', 'weekday', 'economist', 'frictionless', 'dominikbrendan', 'Dominik', 'Oldglorycries', 'Supersize', 'Idiocracy', 'tamara111011', 'TomBoston5', 'Thursday', 'Daddy', 'GoddessAvianaEm', 'skypesession', 'skypedrain', 'cei', 'joi', 'cbt', 'ballbuste', 'bobbybalmoral', 'posh', 'joanna', 'undercuts', 'Glasgow', 'x5', 'shoulda', 'underfunding', 'varying', 'AmberSkai', 'DALGORANG', '2k', 'sef', 'naughty', 'Yoooo', 'WooCommerce', 'Third', 'flexible', 'uncomfortably', 'Chandan', 'FinalTrades', 'committee', 'Jenny', 'Harrington', 'IRM', 'Najarian', 'Weiss', 'MNRA', 'JarretandOlli', 'Rare', 'Evol', 'transman', 'detransitione', 'gofundmeplease', 'SUPERMAN', 'SnyderVerse', 'Zod', 'MOS', 'Lex', 'BvS', 'Steppenwolf', 'Mother', 'Boxes', 'ZSJL', 'EmilyHybl', 'AllenSliwa', 'clintonyate', 'espnlosangele', 'Allen', 'AskSli', 'damm', 'JOBS', 'Neponset', 'unrelated', 'nyc', 'milesSI', 'WatfordFC', 'LFC', 'reequests', 'pmsl', 'ninjamac', 'brought', 'btsportfootball', 'thobile', 'racism', 'taxicabs', 'conservadouche', 'spirituellemuse', 'Poppleton', 'Formation', 'Factory', 'binaryoption', 'Norebo', 'PrintFarming', 'Bulgarian', 'Coal', 'Baron', 'ksambat', 'ChampionsLeague', 'blowing', 'tlouyabalepye', 'dendiggler', 'Den', 'nappy', 'likeee', 'dairy', 'Mcdonald', 'kikgameloud', 'Honestly', 'Playerinthgame', 'harrasse', 'Hajduk', 'Croatian', '110Above', 'stove', 'SamG42178528', 'NotAmGam', 'MASSIVE', 'AndrewFmOregon', 'Betsy', 'Woodruff', 'Axios', 'Politico', 'Mam', 'ultraa', 'feminism', 'tribalism', 'wht', 'auntie', 'Bengal', 'govern', 'licensing', 'mydogisincharge', 'placate', 'bangluru', 'kormangla', 'aug', 'prepaid', '1138', 'uninspiring', 'Nuno', 'antagonize', 'fakeaccount13b', 'jacobwt98', 'org', 'predetermine', 'Gone', 'indie', 'darle', 'progressive', 'sadpap3r', 'chileeeee', 'B52Malmet', 'approval', 'andreif7', 'diff', 'katyabohdan', 'Katya', 'NifXadi', 'waitress', 'hostess', 'cannabis', 'LT', 'si', 'MerjudioLaurice', 'laumer09', 'additionally', 'MFF', 'AnthroCon', '6am', 'dealer', 'OfficialDonCito', 'parallel', 'DesignatFuturIT', 'True', 'Crime', 'taxicab', 'broadbent', 'FoodShareTO', 'GreenpeaceCA', 'DavidSuzukiFDN', 'Change', 'AbdSaeedxD', 'Cernovich', 'impunity', 'chronic', 'DeniedARide', 'wildwood', 'forreal', 'WirierAaron', 'joanna73', 'Joanna', 'layered', 'underneath', 'morality', 'Cena', 'CynthiaUCharles', 'KayAyDrew', 'toad', 'ubersupport13', 'EXISTING', 'Tio', 'EZogalis', 'BofA', 'alexrayx', 'Pussio', 'binging', 'conceptually', 'Mahesh14803628', 'effectively', 'Kwithy', 'Promotions', 'coronaKiMKB', 'Understand', 'months', 'gotten', 'carbontax', 'motorist', 'TaaS', 'DrivinginAmerica', 'cammakid', 'Flex', 'Zombie', 'Eliminator', 'Haul', 'zeth', 'Shipt', 'cancelando', 'SiliconValley', 'Disruption', 'CharityHolley4', 'lastnight', 'hopped', 'drunkkkkkk', 'magnamimous', 'cud', 'kylegriffin1', 'ply4hire', 'ChefDomonique', 'dutch', 'DPA', 'shove', 'oppo', 'what3word', 'keen', 'rolling', 'backing', 'robmcd85', 'dmckatana', 'Scotcatherine', 'BBCRadioScot', 'InclusionScot', 'tressaburke', 'SalWitcher', 'mccafferty2', 'GlasgowPam', 'tommyntour', 'JenCarer', 'breeding', 'foolproof', 'prioritise', 'Unbelievable', 'rewatche', 'CoryxKenshin', 'Lorinaarchitect', 'DanielBleakley', 'meld', 'photolabs', 'printer', 'vcr', 'dvd', 'finder', 'keepers', 'mineral', 'resources', 'AngrySnowMexic1', 'cheeseburger', 'milkshake', 'Justin', 'broomstick', 'Screw', 'FreeMarketRealm', 'soil', 'swathe', 'infamous', 'vermin', 'satnavs', 'Exposed', 'rathoreb79', 'TheJennVegas', 'DRCT', 'soooon', 'Soo', 'Cardi', 'snickysnicker', 'escedae', 'seven', 'injure', 'TeaAudit', 'activation', 'acquire', 'Example', 'shapkoveliko', 'Sasha', 'Verizon', 'OfficialNcoc', 'imrankhanpti', 'API', 'CNIC', 'portal', 'freelance', 'recruiter', 'BIPOC', 'Alabamakid7', 'Europhile507', 'afewpoint', 'BlamesJinds', 'BrunoTheBridge', 'Hobbehod1', 'boredvicki', 'David19531501', 'thegrimbarian', 'ClaremontGiddy', 'condimentset', 'Ciolfilicious1', 'Ztx294', 'Roblev0', 'Mindedmusically', 'BeowulfSchaefer', 'Shegor97', 'FrankEd1967', 'giles7452', 'MattAdkin', 'CheeseNBranston', 'Davidmetroland', 'Geor97', 'SamanthaFoxy1', 'BonnieBlackmor7', 'ianjon407', 'BlackCa03082065', 'mosquetenbwales', 'andrewlbyrne', 'CarlsbadCharlie', 'tobedecided22', 'IanIanchisnall', 'LeftBehindPoet', 'markwh2001', 'brianbloop2', 'NielsOckelmann', 'ProfessorsDAD', 'susan04071', 'retrain', 'Fort', 'Worth', 'Stockyards', 'dro', 'sucrosetea', 'usable', '1hr', '5000', '16000', 'Punctuality', 'Asana', 'Accel', 'mistressmiajane', 'ariellec', 'Planet', 'smokeydogg777', 'parejadelaño', 'CNCO', 'Humbe', 'KarolSevilla', 'kcamexico', 'anne', 'CUTE', 'TheEuropeanLad', 'coachboyerlhs', 'IainSankey', 'nobagbutler', 'Suns', 'Tj', 'Warren', 'Mitchell', 'Murray', 'FthePump1', 'RandyPobst', 'Sofiaan', 'rose', 'bitrefill', 'sat', 'BrendanChadd', 'MrGervaisWrites', 'aio', 'proofreading', 'Bolas', 'Dro', 'Rode', 'Felt', 'awry', 'Cmon', 'Record', '96503', '07884', 'Maruti', 'Suzuki', 'Dzire', 'occasion', 'chaotic', 'yay', 'wilmington', 'grope', 'buyer', 'singular', 'uproar', 'emerge', 'Blame', 'KenCarman', 'itsjustdanielfr', 'karnsies817', 'scram', 'Platforms', 'LfgaBOOM', 'seldom', 'fraction', 'iWDWchristopher', 'xman2y3d', 'dontmesswmurphy', '4matic', 'SuperStar', 'svpfirstnotice', 'KeerthyOfficial', 'ParasuramPetla', 'MusicThaman', 'madhie1', 'MythriOfficial', 'GMBents', '14reelsplus', 'constructive', 'KF3Gaming', 'Di', 'Gueye', 'Marquinhos', 'Kimpembe', 'steamroll', 'Zevlag', 'badge', 'themkfactor', 'bottomfishing', 'Ypay', 'ypay', 'ypaycard', 'smartcard', 'bharatkasmartcard', 'agoda', 'HolkhamEstate', 'seaside', 'haunt', 'Southwold', 'Visited', 'Hull', 'Lincoln', 'Louth', 'Harlemglobetrotting', 'VivaLaNneoma', 'Sometimes', 'wayyyy', 'alotttttt', 'Dodgy', 'esiege', 'assumption', 'overtone', 'documentation', 'inaccuracy', 'UTC', 'Reasons', 'glimesh', 'MamaCyborg', 'inaccessible', 'amyathatcher', 'YshtolaRhul2', 'chocoswing27', 'AguilaPica', 'LuichySanchez', 'Ayantano', 'dork', 'invitation', 'lifting', 'trans', 'comic_strip', 'fucked', 'violence', 'Gugulethu', 'jonfortt', 'carlquintanilla', 'Interesting', 'underdogs', 'reportage', 'dependent', 'Cucks', 'humiliation', 'promoslave', 'PayPigRetweet', 'ihyjuju', 'GerchikOlga', 'chess', 'outmaneuver', 'AsaHutchinson', 'patlovenhart', 'Analysis', 'Preetika', 'updayUK', 'choppy', 'glitchy', 'Darksiders', 'doe59793983', 'momentum', 'rampage', 'svpblaster', 'HappyBirthdayMaheshBabu', 'anna', 'urstrulyMahesh', 'SSMB27', 'ganeumann', 'elitism', 'shoeshine', 'carjacking', 'kdkfjf', 'Television', 'factory', 'Philadelphia', 'Region', 'sqlmal', 'sqlgator', 'safari', 'MyPepperPlant', 'monument', 'avi', 'EZ', 'Curri', 'ElectricCar', 'BellaMcCann11', 'DDDaughters', 'hridayeshjoshi', 'pelting', 'civilization', 'playsafter4', 'Clinics', 'jayden77966573', 'Yeh', 'yeh', 'Arsenal', 'pish', 'ccbx22', 'MikeythePoet', 'celaestis', 'whomstbitch', 'livid', 'ggreenwald', 'credibility', 'disdain', 'hackingbutlegal', 'cord', 'spitfire762', 'JasCol29', 'portland', 'piecemeal', 'fractional', 'Gbewiri', 'SportsTalkDrew', 'MikedUpSports1', 'pan', 'Olivia', 'bonercalz', 'MartiniGuyYT', 'AIWORK', 'AiworkBC', 'artificial', 'Enhanced', 'spike', 'crowdsource', 'hotline', 'eulogy', '86', 'Kate', 'crazyyy', 'picky', 'bandcamp', 'april', 'JadoreSiwoh', 'pap', 'ale', 'alfredo', 'HaRD', 'grabbing', 'EXPLANATION', 'consecutive', 'finalize', 'SubwayUK', 'Yiewsley', 'SkateArtGuy', 'AMEX', 'Ready', 'Buyer', 'Tel', 'Cell', 'startuptip', 'carride', 'Rambo', 'wannabe', 'unarmed', 'camofatass', 'smokin', 'stankin', 'cheapee', 'searchlight', 'straps', 'MichelleRFair', 'luckymomT', 'AliJo2020', 'Moneymac101', 'EditsByMare', 'thegiftofgabby4', 'OhSoFrieda', 'Patrici95843482', 'anthonykbdavis2', 'proudnanakathy', 'northerngal15', 'TwizzlerP', 'Tootie3341', 'keylime200211', 'agapipoli', 'Doinglifeeasily', 'purpleisdabest', 'marybl62', 'JoseIsBae81', 'bettebo2', 'wakeprayslay72', 'Freckles246', 'JasamMagic', 'chbrugge', 'rexe35', 'StormXMunroe', 'NayaBLorde', 'EnkJett', 'JasamAlways', 'mariejo45528473', 'louisemullin', 'mayzo51184', 'PunkinGotPeace', 'Ayla78880172', 'clacenshelle', 'CarrieNauseda', 'dawn3003', 'whoknowstv', 'aferri48', '3xoscarwinner', 'LadyTi88', 'KRedefined', 'naifar27', 'jbernardjones', 'Scherlis', 'dtm609', 'doctorjonp', 'telecom', '123456789blaaa', 'trample', 'Ends', 'renege', 'goate', 'ramification', 'swimming', 'reclaim', 'clarity', 'Dory', 'jdsfreedelivery', 'ubereatsfreedelivery', 'Friend', '600k', 'allo', 'Ghazir', 'jogging', 'euro', 'croesy11', 'Robert', 'Dunkin', 'unloader', 'guitar', 'Hoffee', 'Cases', 'SAFETY', 'lastly', 'NeshBagni', 'Renesh', 'fucken', 'heavenly', 'piggie', 'finsub', 'walletslave', 'domme', 'findomslave', 'walletdrain', 'cryptosub', 'avnstar', 'avnsub', 'canadiandomme', 'fullfrontalsamb', 'exhilarate', 'IREWolfman', 'trying', 'Learnt', 'DXB', 'ecosystem', 'native', 'dxb', 'smartcontract', 'Mar', 'mikhael', 'Liban', '57k', 'Cambridge', 'forwards', 'SUPREME', 'COURT', 'aslam', 'SCRUTINY', 'mannnnns', 'monopolize', 'conveniency', 'itskanzokay', 'dunkindonut', 'dunkin', 'proceeding', 'seal', 'Kgalaletso21', 'Fr', 'supervisor', 'seansailor', 'CarmineSabia', 'GregRgreg32', 'Detroit', 'robbed', 'derange', 'arouse', 'violently', 'bignuts31', 'Glenn', 'RobbieL73135193', 'Robbie', 'AirBnb', 'upandan', 'waka', 'placard', 'instablog', 'mohammed', 'confuddle', 'almawadee3', 'bitjoo6', 'entertaining', 'walahi', 'hiya', 'roughly', 'shrank', 'shareholde', 'TomEaston', 'war1tran', 'zeke1085388436', 'zehalz', 'Bojack', 'rr', 'bojack', 'prvmelly', 'logangreen', 'johnzimmer', 'tonyxu', 'DRIVERS', 'freelancersbillofrights', 'PASS', 'pasture', 'biodiversity', 'squeeze', 'visakanv', 'sided', 'abundance', 'constrain', 'vijay27anand', 'diper', 'infection', '427', 'EricTheCactus', 'Pearland', 'stuarthelmer', 'Oldghm', 'theJeremyVine', 'supermarket', 'settele', 'Multiple', 'GrumpyOldVaper', 'thegoonerafc', 'afcbeef', 'unreality', 'Reich', 'cupcakekin', 'seasons', 'Cleaned', 'Flipped', 'Dylan', 'Male', '07', 'reliability', 'yaaaa', 'WUEEYYY', 'PORFAVORR', 'slug', 'DUST', 'sew', 'BillStewart415', 'ROB', 'Coop3', 'k8em0', 'joy', 'Waited', 'adamhoov', 'sebastian', 'DeSaad', 'k02826984', 'Bureu', 'dubsroger', 'Sydusm', 'Scream', 'islamophobic', 'RICHARDMIXINN', 'daytime', 'cameras', 'homes', 'halo', 'cappin', 'EliSeeney', 'MSUCEGiveaway', 'McSU', 'NewsForAllUK', 'Newsflare', 'smileythefather', 'Hmike0', '15teejay', 'Kum', 'kushota', 'overhead', 'allocate', 'ratably', '389', '385', 'BodyShop', 'quarterly', '1B', 'realkayladeep', 'travisk', 'operete', 'c76558575', 'serbian', 'Ass', 'Monopoly', 'winnin', 'havw', 'mh', 'Lawyer', 'essence', 'turtlebeegirl', 'differently', 'avenue', 'unintentional', 'donnyutton', 'Donny', 'reboot', 'superhero', 'icon', 'Ratcatcher', 'underperforming', 'Say', 'RB', 'envision', 'Monty', 'CEH', 'Nkosikh98754094', 'noticed', 'saner', 'planned', 'ABQ', 'NXM322', 'Srinivasa', 'RGX336', 'DannyPowers82', 'poopikinz', 'sonyliv', 'zee5', 'Pharmeasy', 'accuried', 'tata', 'reliance', '0510kels', 'ong', 'Mylezzy23', 'kloichudi', 'pneumonia', 'blono', 'dignity', 'Kenya', 'cautionary', 'hysperbole', 'feliciaxblack', 'tlecaque', 'MinorityM1ndset', 'Choose', 'taxable', 'uninstalle', 'Carolina', 'naw', 'Instasoy', 'soyflix', 'faceberg', 'Mooveafrica', 'simplifie', 'Tuna', 'Over', 'Aldi', 'FINE', 'fray', 'myste', 'emi', 'hodpital', 'fingerprint83', '3770', 'babylonian', 'clay', 'akkadian', 'vegetable', 'Ejonesj', 'mscharwie', 'tweaak', 'NIGERIA', 'sweating', 'sponge', 'Yagyaseni78', 'nam', 'zi', 'Kaafirs', 'h', 'supreme', 'asmani', 'kitaab', 'believer', 'pissful', 'mjw0220', 'FOOD', 'PARTNER', 'ANNOUNCEMENT', 'Thrilled', 'warriorsarewinner', 'KPLT20', 'pote', 'seanpaulmahoney', 'Sorta', '32', 'TGT', 'nicyeboah', 'Moist', 'Talkers', 'CFCDUBois', 'HeathrowAirport', 'Dubois', 'Carl', 'Sup', 'chrishanretty', 'scholarly', 'foo', 'cxrxnvacca', 'blemish', 'wearn', 'adokodon', 'akashaa', 'fixed', '1408', 'Abid', 'Barki', 'Lahore', 'Islamabad', 'daewoo', 'challenging', 'EddyElfenbein', 'talicrue', 'Outfit', '3dxchat', 'htsfhickey', 'Fred', 'omnipotence', 'alt', 'BorgesAntonius', 'JustandSinner', 'drjordanbcooper', 'lalalisacooper', 'thoroughly', 'faithful', 'MCFCrayon', 'prem', 'Bcox7x77', 'LouInPain', 'receiver', 'yard', 'doak', 'rb', 'chandler', 'Danwhite1972', 'Mistywoman1', 'TomLondon6', 'MarieAnnUK', 'rigidity', 'brexiteer', 'deutchland', 'SarahMahamoud', 'musician', 'Traveling', 'salesman', 'Caregiver', 'Sandwich', 'flipper', 'Homeless', 'developer', 'Shoutout', 'OllieGlanvill', 'appetize', 'wiper', 'coloradotravis', 'GDXJ', 'tracing', 'GDX', 'retest', 'EvertonPitz', 'promised', 'glaydsonp', 'fulltime', 'Hungary', 'professionally', 'Yelp', 'trai88', 'curvygirlwrestl', 'Clearwater', 'punctual', 'JB', 'rmczach', 'stl', '0657259651', 'ianwoodley6', 'PromisesRust', 'oflynnsocial', 'SDPSouthEast', 'realginnyrobin', 'workin', 'politicians', 'iPhone', 'WTH', 'psychopathic', 'morally', 'vysnevic', 'simundo1110', 'FutbolFanatic08', 'Kuwait', 'rubenac90684840', 'SportsFanCasey', 'DeadByBHVR', 'Killers', 'slowdown', 'survivor', 'latnightsnaksanyone', 'Belgium', 'DePaulJOUR', 'Naperville', 'Cost', 'granola', 'disloyalty', 'uncaring', 'WORKED', 'EVERYDAY', 'BlockBuster', 'alluarjun', 'thisisdsp', 'Trivikram', 'haarikahassine', 'boidheachx', 'Commande', 'chicago', 'jedijohnsonWoW', 'WeSavageFew', 'prageru', 'Coop', 'BOINC', 'SETI', 'Mimiproma', 'Monica', 'chicagoalleykat', 'terrifying', 'tohickontpain', 'ctilley79', 'angelndevil2', 'djsnm', 'recreat', 'oldie', 'SSS', 'Lara', 'ronnocwynn', 'Chalie', 'kraaa', 'BB', 'KSS', 'RY', 'KO', 'STORE', 'CSCO', 'TXN', 'iff', 'xog', 'pacd', 'apa', 'dnr', 'cdev', 'inpx', 'ENOB', 'rcl', 'ENSV', 'AXAS', 'FET', 'Troski', 'frugaljoanne', 'Goleta', 'Works', 'Riyadh', 'cozomel74', 'AdamMcKola', 'Wahlburger', 'raccoon', 'forage', 'RoseScholar', 'deviousjourney', 'roomy', 'SUV', 'WEEK', 'ACCOUNTABLE', 'Anfield', 'Ask', 'Recruiter', 'dealt', 'unqualified', 'scandalous', 'InsideEVs', 'GoogleNews', 'forktown385', 'Patriots', 'safiaabji', 'Safia', 'capsshdbdb', 'Awon', '4k', 'rot', 'Fran', 'intimacy', 'Ecosystems', 'Variable', 'uberthieve', 'ubercustomerservice', 'darakhosrowshahi', 'ubereatsstolemymoney', 'falahs1', 'Trips', 'EDIT', 'CANCEL', 'Jennife66179495', 'cosplay', 'CGI', 'nostaticatalll', 'rarerafs', 'inefficiently', 'mendacious', 'Massage', 'Therapist', 'originally', 'CBI', 'goddamn', 'shitstorm', '2019suv', '4years', 'mam', 'unitarian', 'establishe', 'billie', 'eilish', 'verge', 'packed', 'SOL', 'StarCitizen', 'Squadron42', 'downright', 'conspicuous', 'toanother', 'unreasonably', 'extraordinary', 'abduct', 'ancestor', 'rhevanth95', 'ramk8060', 'reputation', 'mistreat', 'usneedslove', 'mattwalshblog', 'Yeti', 'NFL', 'MLB', 'Cheerios', 'Keurig', 'Target', 'Jane', 'Fonda', 'Gillette', 'Lorax', 'Dixie', 'Beyoncé', 'Campbell', 'Laura', 'Dern', 'Hallmark', 'Guinness', 'Ritz', 'Doritos', 'eHarmony', 'garyblack00', '10k', 'Ashley', 'exterior', 'Class', 'outweigh', 'talkSPORT', 'kingsofpoorservice', 'refusalchampion', 'themontonwhite', 'craigsimpson9', 'DrAvisanAmbuj', 'degraded', 'minus', 'kaha', 'javoge', 'ReinaaNatasha', 'ThatGuyVine', 'canc', 'Mary', 'Norwax', 'OngEuph', 'concur', 'Refreshing', 'vertiport', 'tradingplays', 'RedTheOne', 'genej101', 'r8dr4lfe75', '104', '390k', 'Berkeley', 'whackadoodle', 'NDP', 'beeborders', 'Butternut', 'fussy', 'eatin', 'Butchers', 'Grain', 'guessworkinv', 'jctiew', 'Garbage', 'stink', 'lostshruu', 'sherlock', 'holmes', 'icarus', 'kurtconstable', 'imagination', 'derpxwx', 'Cat222Duck', 'astounding', 'fiver', 'Resham', 'Patel', 'CSM', 'VP', 'Development', 'SNAPx', 'dashboard', 'footprint', 'Gary', 'muchcost', 'peasants', 'lrt', 'Madame', 'hii', 'anthropological', 'specie', 'anxious', 'Genshin', 'sketchy', 'Bhavesh', 'Agarwal', 'prefille', 'Tafuta', 'za', 'sasa', 'matatu', 'PreOrder', 'Prepayment', 'mcspicy', 'bluemoonraven31', 'buddie', 'stevehubert8', 'Moron', 'SafetyApp', 'undrivable', 'DineshDSouza', 'mainstream', 'chicagopd', 'optimize', 'SKU', 'Management', 'gorilla', 'ddsh', 'halal', 'NIGGA', 'TrujistaSancho', 'soundgasm', 'passionately', 'grant', 'heritage', 'latch', 'blindly', 'luxurious', 'Ayurvedic', 'travesty', 'Acceptance', 'fanouillerek', 'mkraju', 'increasingthe', 'airbnbs', 'outright', 'ridehaile', 'Shaquillejt', 'MANNNN', 'YO', 'anthem', 'missy', 'snow', 'against', '737', 'MAX', 'Approval', 'sarahmc100', 'Sarah', 'salarie', 'administrative', 'payroll', 'vonrummer', 'constitutional', 'instrument', 'resemble', 'cryptos', 'trustworthiness', 'flaky', 'borderline', 'StevenTDennis', 'waterslide', 'MustLuvImran', 'impuni', 'ndtv', 'Coworker', 'wok', 'FoorDash', 'benefiting', 'poionte', 'techgaint', 'ion', 'Suresh', 'BlackLabBeer', 'blacklabbeer', 'Pork', 'Matchday', 'lequipe', 'Metz', 'Fabien', 'Centonze', 'Matthieu', 'Udol', 'Lille', 'Clermont', 'Foot', 'Bordeaux', 'soak', 'Nas', 'theerinnaffect', '8188693786', 'EPK', 'CHH', 'Church', 'MARCH', 'Jericho', 'offensive', 'Knicks', 'perimeter', 'tor2017', 'ALF', 'ALFIW', 'Airports', 'APPL', 'BITF', 'WORX', 'GEVO', 'BTBT', 'SPRT', 'addicted', 'destructive', 'camychristmas', 'ksa', 'RandPaul', 'happynewweek', 'HappyMonday', 'PolishRoyaltyandtheGoat', 'StaySafe', 'Friends', 'GetVaccinated', 'Quartz', 'turntable', 'evet', 'neutron', 'Schumer', 'hagerty', 'CrystalZhengMD', 'tmprowell', 'Architectural', 'Intern', 'handler', 'Refill', 'princessmorena9', 'infect', 'marvolowinston', 'Marvolo', 'geeke', 'GEEKING', 'dietetic', 'technician', 'flu', 'ICU', 'Duuuude', 'partake', 'lake', 'Learn', 'joeyd3393', 'terminological', 'boutique', 'techbros', 'subsidized', 'substantive', '6yr', 'internalize', 'CelebrityBarMan', 'nathanfletcher', 'hormone', 'breast', 'diagnose', 'Harvard', 'Beat', 'Disease', 'Wm', 'Lorena', 'Sidewalk', 'unconstrained', 'Gilead', 'Utopian', 'Assist', 'Acquire', 'Cars', 'justsmilessss', 'HORRIFIC', 'HORROR', 'mandy12011991', 'maskup', 'Expensive', 'Af', '2yrsofrespectednkp', 'iddyhussein', 'zacdisalvo', 'Ghifari', 'married', 'Myrza', 'BostonFed', 'Chipotle', 'dividend', 'bih', 'cesspit', 'tittle', 'Fabrizio', 'heathrow', 'Oookayyy', 'oldmantea', 'Gebraheel', 'compilation', 'charliemunicorn', 'LLSteph3DX', 'zomatoin', 'modify', 'according', 'implicate', 'lest', 'Latam', 'Merida', 'Figured', 'MIA', 'gc', 'McDs', 'wkend', 'morn', 'identitytheft', 'minaj', 'LMFAOOOO', 'Ibishblog', 'Venezuela', 'Lebanon', 'avaniafterdark', 'avanisoulqueen', 'scottsanten', 'johnmcdonnellMP', 'philiphammonduk', 'frankfieldteam', 'dwppressoffice', 'number10gov', 'UnpaidBritain', 'FrancesOGrady', 'BobBlackman', 'nigelmackay', 'networkrail', 'NetworkRailEUS', 'StMungos', 'streetkitchen', 'jeremycorbyn', 'itvnew', 'SignatureLiving', 'AndyBurnhamGM', 'MarvinJRees', 'chakrabortty', 'pussmilligan', 'TrussellTrust', 'NicolaSturgeon', 'GlasgowCC', 'damienegan', 'TauseefAnwar07', 'Yaseenaslam381', 'JimHarraHMRC', 'johnloganjr', 'Kasy', 'Chambers', 'TroyCHenderson', 'timeforubi', 'kochavim', 'avodah', 'BrosWolfpack', 'hesitant', 'dc', 'affiliate', 'sparkcharge', 'BoostEV', 'Kuroda', 'brush', 'superchill8', 'Robots', 'Mercenaries', 'Yh', 'motive', 'ps', 'motion', 'MikeWellsNFL', 'Sheriff', 'bokyaaaaa', 'Tushar', 'british', 'votolatino', 'GoGoGrandparent', 'vacc', 'Ronkonkoma', '240', 'borough', 'Watergate', 'Coufal', 'WHUFCSC', 'COYI', 'WestHam', 'Teamsters533', 'rtcwashoe', 'KeolisNA', 'Ample', 'swapping', 'TracyBrabin', 'differ', 'NOW', 'Gas', 'likkle', 'tatter', 'Billions', 'deregulate', 'BenChinapen', 'pg13', 'Birds', 'Prey', 'vihar', '258000', '1040', 'donttakemyheat', 'AlexVickeryHowe', 'goingglocal', 'lynch', 'stain', 'RepBrianMast', 'HouseGOP', 'Gvt', 'mangy', 'infest', 'dfkm', 'murderfloof', 'shitt', 'cunt', 'MitPatel1977', 'WIONews', 'TheAthletic', 'louisan', 'Incident', 'Pat', 'Maroon', 'Cups', 'Prince', 'kenjiipod', 'exon', 'BP', 'allathem', 'terrysynch', 'mangifika', 'ofcourse', 'noob', 'mbappe', 'marqhinhos', 'covet', 'europe', 'nonexistent', 'fresno', 'belle', 'needle', 'continent', 'TheOnlyKyy', 'Neelam', 'fleece', 'Rawalakot', 'Muzaffarabad', 'roar', 'Mirpur', 'notvanveen', 'inactive', 'sitch', 'ProspectVictor', 'Margiela', 'bodhitreecio', 'HayekAndKeynes', 'Followed', 'vast', 'Medallion', 'ambition', '225', 'chelsea', 'PithyPai', 'games', 'astro', 'turf', 'misanharriman', 'iAnnetonly', 'ArtAddict69', 'sliceofart4', 'youneshh', 'tonyhawk', 'BDUTT', 'themojostory', 'Spina13Colada', 'ThatsAdamBooth', 'induce', 'matcha', 'decaff', 'audio', 'rideshareuber2', 'Quan', 'ian', 'houston', 'homies', 'becasuse', 'Question', 'Alisa', 'unstoppable', 'merge', 'meee', 'oe', 'doctors', 'KENNEY', 'SHANDY', 'destroying', 'collector', 'Mintz', 'corp', 'TestTraceIsolate', 'Vipond', 'expropriate', 'expropriator', 'closure', 'mansion', 'battymamzelle', 'BnB', 'surveil', 'Columbia', 'Rico', 'icbc', 'Ayazuddin', 'sye', 'Far', 'Faber', 'Toni', 'Investors', 'superior', 'Battery', 'lease', 'Sacconaghi', '3570', 'jeremynewberger', 'Wittier', 'nav', 'AnkitAr31973318', 'ROSGO21', '166', 'meebit', 'underrepresented', 'audience', 'BiPOC', 'mold', 'strap', 'Heard', 'Pongal', 'Requiring', 'ZhongliSimp4Evr', 'venti', 'KCLaflare', 'Dam', '523', 'boarding', '61', 'surging', 'Biz', 'automated', 'partially', 'vitaliyk', 'Clownbuck', 'Orange', 'SNA', 'underground', 'strictly', 'patiently', 'motorsport', 'ptsd', 'TomMillen4', 'megbasham', 'estherofreilly', 'jtLOL', 'kvngsucre', 'eda', 'nod', 'Accra', 'Girls', 'Duces', 'DOOKIE', 'dhayanandh221b', 'Juve', 'Kovac', 'trickey', 'mnsemnse', 'OJ', 'Juiceman', 'Gucci', 'FarmerBrownDeFi', 'insanely', 'seltzersage', 'itsraja92', 'MaybeonMarsx', 'YOOOOUUUUU', 'CUTIE', 'mover', 'Comms', 'DeBlasio', 'Audrey', 'Strauss', 'comms', 'Ridhi', 'Darolia', 'FICCI', 'Lead', 'webinar', 'RoadSafety', 'SaferRoads', 'indiaroadsafety', 'unsigned', '00725', 'vv', 'Nasdaq', 'badcustomerservice', 'platinumreward', 'norepsonse', 'gothalion', 'Airbender', 'graphic', 'seamless', 'loading', 'screens', 'realistic', 'npcs', 'ummm', 'charlatan', 'dishonest', 'profiteer', 'gambler', 'savetaxidriver', 'loot', 'ministers', 'OfficeOfNG', 'kgahlot', 'CMODelhi', 'defundbbc', 'PSGalu', 'abhijitgohad', 'baavlat', 'SoFire', 'airdrop', 'squarooticus', 'Teresa', 'Heinz', 'KvngLele18', 'gorondo67', 'CMPunk', 'fightful', 'MarkOrderPod', 'KateOnDeckIC', 'Studio', 'NXT', 'NWA', 'jhartjett', 'celefrooty', 'rajasthani', 'Fenta', 'kamiz', 'dhoti', 'Churma', 'Bati', 'Daal', 'Catholicism', 'Bullshit', 'Rojelio', 'bra', 'NBY', 'chfs', 'ipo', 'RIOT', 'MARA', 'PDT', 'BPS', 'ITM', 'EOD', 'SPCE', 'gunjakapoor', 'hotels', 'UPI', '174', '1099', 'QZ', 'presence', 'Ugly', 'ati', 'utakufa', 'bure', 'Tottenham', 'Roma', 'Monaco', 'PostgreSQL', 'MySQL', 'postgresql', 'buildinpublic', 'mismanagement', 'allocation', 'taxpayer', 'condon', 'SpeedRich77', 'imanagestar', 'numb3rth30ry', 'Musk', 'winkelvoss', 'overlord', 'gaytravelersmag', 'stoke', 'Williamsburg', 'Village', 'interfere', 'gloreos', 'JoshLehr4', 'wef', 'imfnews', 'bougie', 'techno', 'feudalism', 'NotVanVeen', 'Purchase', 'supppssd', 'laptop', 'eastern', 'astronomical', 'challnge', 'LOW', 'Dilution', 'ESTABLISHED', 'PKG', 'INC', 'BINP', 'asfx', 'ADMT', 'LXGTF', 'SHOM', 'cttc', 'VASO', 'gsgg', 'CYCA', 'sndyd', 'BNKL', 'NUMD', 'imexf', 'POSC', 'IGAP', 'hcyt', 'cmpd', 'GNID', 'BICB', 'CGNH', 'ARYC', 'SNDD', 'OwO', 'Gordo92416867', 'pennsylvanian', 'PAHouseGOP', 'daring', 'movin', 'toretto', 'nwiMurderLog', 'overcapitalisation', 'indict', 'plucky', 'unicorn', 'Startup', 'badstartup', 'lettering', 'ANNA', 'Birthday', 'Mahesh', 'Babu', 'Behalf', 'Thalapathy', 'MaheshFanTrends', 'MaheshBabuUniv', 'thusly', 'impacting', 'pleaaase', 'overdraft', 'Leecampbelluk', 'ughhhh', 'looooll', 'N3', 'talkless', 'southeastgame', 'schwarz', 'DeanBaker13', 'ChomskyDigital', 'Toledo', 'pr', 'kbalightart', 'MissLyssxoxoxo', 'salute', 'scummy', 'abominable', 'Darren', 'Breakdown', 'loganismyself', 'fronto', 'Farmers', 'Johhanne', 'Exec', 'UberXL', 'orunmumipe', 'themontclairgirl', 'Northern', 'noon', 'NewJersey', 'furry', '511sugarfree', 'icymi', 'fusion', 'jclarkreel', 'bing4buyer', 'disagree', 'Anyone', 'boAtSupport1', 'ZOMATO', 'LG', 'SONY', 'Blacklane', 'Ericmem', 'freefalldenver', 'nigeria', 'tricycle', 'Innosson', 'thrive', 'immidieatly', 'msg', '2020greg', 'TheOneNotChosen', 'accordingly', 'StephenShutters', 'vary', 'Space', 'VSS365', 'AmWritingSciFi', 'SciFi', 'iStock', 'AmericaIsGhetto', 'Workingnick', 'StCollinson', 'Progressive', 'relaxed', 'whacky', 'defunde', 'pondlick', 'SianandRob', 'sian', 'ScottWamplerBMD', 'laraaaanguyen', 'similarly', 'Legit', 'wrap', 'Created', 'ecommerce', 'MRNA', 'TLT', 'goog', 'ZM', 'BYSI', 'BKNG', 'LucasMcNair', 'wendyrogersaz', 'oka7200', 'depending', 'HeadwaysMatter', 'jersey', 'harmonica', 'dandantransient', 'principal', 'majinforever420', 'mediocre', 'absent', 'externality', 'dukemusic915', 'mystery', 'Live', 'LochlinCross', 'jamesdifiore', 'Darrin99', 'destabilised', 'Interior', 'Style', 'cozy', 'interiordecor', 'FamilyMan009', 'atleast', 'Jaadon', 'Sancho', 'leonnoirsr', 'heavily', 'flock', 'UBEr', 'nathan', 'blueprint', 'ShihabSJoi', 'tomlondon6', 'trialle', 'WhiteHairsMus', 'bev', 'hills', 'Petterwass', 'skyfullofbacon', 'unabashedly', 'miserable', 'deign', 'states', 'usa', 'Iirc', 'constraint', 'cyrusmmcqueen', 'freezer', 'growing0up0girl', 'spreadsheet', 'Track', 'Technext', 'forgor', 'Actor', 'Paimon', 'Brutal', 'Wolfenstein', 'salvage', 'jaw', '91projects', 'Louis', 'Tomlinson', 'ArtistoftheSummer', '965tdy', 'lowkeyasparx', 'OFC', 'LITERALLY', 'TheTennisstorm', 'harbor', 'currentiyke', 'Stigma', 'Sunjiv', 'Shah', 'technologically', 'kurteichenwald', 'patriot', 'DanPatrick', 'prevalent', 'LawblogBob', 'zachdespart', 'HoustonFire', 'Hian', 'siddon', 'snob', 'inexplicably', 'grader', 'Karr', 'jocin', 'DarkMachination', 'jnthnwwlsn', 'earlymodjustice', 'Hmmmm', 'Adjunct', 'mariagarridos', 'Clubs', 'reconsideration', 'Ukraine', 'calf', 'Denys', 'Popov', 'cruciate', 'surgery', 'Maryland', 'berniesanders', 'Tweet', 'mascarade', 'Associate', 'DanDanTransient', 'EmmaVigeland', 'socialist', 'Emma', 'Vigeland', 'velibozan11', 'AlternativeTara', 'LeahLibresco', 'jwmangrum', 'translator', 'Johnnie', 'IronPigs', 'amdulin', 'autostereoscopic', 'rmv', 'MassAGO', 'MassRMV', 'amazonflex', 'dickie', 'bae', 'baoigheallain', 'council', 'hq', 'councillor', 'teeete', 'negatively', 'Cam', 'iiwey', 'HD', '1080p', 'Front', 'Rear', 'IR', 'Night', 'Inch', '24H', 'Motion', 'detection', 'GlotmanSimpson', 'juat', 'filthy', '230am', 'Straight', 'arrear', 'define', 'etman510', 'BackpackerFI', 'LamboJohnny', 'PBX', 'CVNA', 'pwwbf', 'carg', 'lotz', 'vrm', 'sdubey04', 'assuring', 'supportive', 'whine', '72', 'j', 'vous', 'playthecardgam1', 't0nimarshall', 'Glorias', 'Quesadilla', 'prospector', 'Wright', 'Lifeguard', 'Hawaiian', 'setup', 'sumo', 'Hays', 'Shim2214', 'bardman233', 'Yesssss', '0801sh12', 'Heineken', 'loathe', 'predictable', 'bretheren', 'Shakeel', 'Yupp', 'Luddites', 'equivalent', 'Jeff', 'Bezos', 'ADE', 'hannahhhhh15', 'ballsy', 'gerryinorbit', 'GoldenBoyRB', 'Kasiagabrielle1', 'gothforensic', 'badphroggy', 'ud', 'iceis69', 'dicipline', '49th', 'BEYONDBasura', 'mantra', 'staysafe', 'durexindia', 'reckittbenckiser', 'DurexIndia', 'ThisIsReckitt', 'PhillyD', 'mattramage', 'KwikTrip', '1standsassiest', 'heckle', 'KochNetwork', 'bollywood', 'LMFAOOOOO', 'adjunct', 'lecturer', 'Hang', 'racially', 'KBULTRA0', 'TTVItzStealthii', 'iambushTV', 'asuelu', 'girxdolly', 'Gir', 'Shark', 'Trinity', 'Strategy', 'Watchlists', 'upst', 'MPC', 'HL', 'pbr', 'BILI', 'lcid', 'TulseHillLTN', 'dannyadilypour', 'diesel', 'idle', 'deezle82', 'DudesTakingLs', 'Pair', 'Yeezy', 'DillyDilly963', 'WORD', 'Compensation', 'Thigh', 'zappahawk', 'pclovinU', 'debisgone', 'davetherave1947', 'greenfields47', 'martinharris15', 'pgjackson1', 'jpcookie50', 'JodyJFoss', 'vikingbutcher', 'ryanjmac77', 'CitroenCX', 'SarahHorvat', 'stavrossky', 'Chels1611', 'csade1', 'Jaysus', 'musical', 'chameleon', 'conversant', 'elprem1', 'donaldjtrumpjr', 'mRNA', 'cutie', 'melancholy', 'NiaMuse23', 'disabledandstruggle', 'Cashappblessing', 'CarFreeJFK', 'pavement', 'crossing', 'musea', 'tourist', 'maccas', 'seunesq', 'N3k', 'espinsegall', 'johnastoehr', 'prototype', 'Iran', 'Contral', 'Bush', 'Roberts', 'SCOTUS', 'Rehnquist', 'Scalia', 'dylanviner', 'Feature', 'Guardian', 'ceremony', 'stigma', 'teenage', 'marquessasofia', 'Ncr', 'Invest', 'selenvacarter', 'Charles', 'Howard', 'memoir', 'Paradise', 'SpongeBob', 'ubermensch', 'strawmaning', 'reddit', 'ContraPoints', 'AnnaVolodova', '2002', 'RECafe6', 'platformwork', 'rapidobikeapp', 'designation', 'SIR', 'CustomerExperience', 'duo', 'EASA', 'europeans', 'Mobility', 'EH', 'ehang', 'QELL', 'LILIUM', 'rtp', 'ARCHER', 'XPEV', 'JOBY', 'rv2305', 'negligence', 'surpass', 'sasadhlamini', 'Nkosi', 'ntwana', 'Ka', 'suite', 'MichaelBucwa', 'piano', 'highschooler', 'SpiritAirlines', 'overbooke', 'Nayyyr', 'showbiz', 'fashion', 'Islamists', 'Somehow', 'eileendove910', 'Presse', 'ofirap', 'petexnasty', 'chibikimisbest', 'Mad', 'kashifsddq', 'IKChahal', 'iamsrk', 'heirarchy', 'Hinduism', 'SithLordDominus', 'shank', 'Frosted', 'Flakes', 'marshmallow', 'reroute', 'marathon', 'oder', 'TCEHY', 'RKT', 'DDOG', 'BNGO', 'SPAQ', 'KZIA', 'GRPN', 'RLFTF', 'ZSAN', 'CNDT', 'ADTX', 'ilmn', 'upwk', 'EHTH', 'ABUS', 'DNLI', 'TMUS', 'JOIN', 'roku', 'cron', 'srne', 'XOM', 'amrn', 'BRKB', 'JWN', 'snooze', 'derail', 'macropsychology', 'hmeisler', 'reinforcement', 'Peoria', 'SpartanSteve', 'qualify', 'paulafr68963440', 'tamisawyer', 'jennycohn1', 'kms', 'rename', 'refactoring', 'Yet', 'bakubottomg', 'jogger', 'Phulkas', 'delicacy', 'Available', 'MaharajaBhog', 'theroyalthali', 'HoustonRestaurant', 'VegetarianFood', 'IndianDelicacies', 'Thali', 'IndianCusine', 'WILD', 'H2Omaker71', 'Parent', 'BinanceGas', 'HemiStudio', 'vegalustclub', 'Disruptive', 'Disrupted', 'Industry', 'Markets', 'OnlineLearning', 'Glossary', 'Uberx', '민혁', '셔누', '몬스타엑스', 'OfficialMonstaX', 'fearful', 'brew', 'Headed', 'prolly', 'mill', 'Tiagogreis', 'acabou', 'Brava', 'Chloe', 'Gap', 'polarize', 'PTSD', 'Reads', 'keys', 'organise', 'Mirage', 'Allief0rnia', 'Ohioans', 'TourismNanaimo', 'Nanaimo', 'Parksville', 'parksville', 'stakeholder', 'aggressive', 'psych', 'eval', 'XX', 'LucyGarton', 'Petrified', 'CUZ', 'Kalani', 'Ansuli', '24h', 'Rod', 'Brutus', 'Albion', 'Corineus', 'benohanlon', 'djuwadidjuwadi', 'FrogeWorld', 'WIRAWANCARDANO', 'CardanoMonsters', 'CryptoKraft', 'doggosNFT', 'cryptoversecnft', 'rahung', 'tts1710', 'CardanoGuru', 'EyeOfTheKing1', 'gaiastakepool', 'ThankCoin', 'Portable', 'IOHK', 'Ubuntu', 'Core', 'Raspberry', 'pi', 'Jaypo', 'Boom', 'EYEN', 'ccl', 'spg', 'wkhs', 'STNG', 'nkla', 'MGM', 'MCRB', 'WYNN', 'LCA', 'cgc', 'OMER', 'MELI', 'HCAC', 'KODK', 'uberpop', 'dynamically', 'legallyp', 'sox', 'ballpark', 'thephightins33', 'container', 'Saudi', 'Arabia', 'MMA', 'TJ', 'ProfessorGay', 'Stayon78', 'cosmicbearboi', 'Splitting', 'gummy', 'chi', 'chis', 'Fargo', 'staple', 'invincible', 'Colwick', 'determination', 'sunk', 'fross2', 'Prison', 'Student', 'Mistaken', 'Case', '156675', '930', '530AM', 'atmosphere', 'reds', 'idgiecode', 'DeanObeidallah', 'vaxxer', 'thinning', 'herd', 'mete', 'dondo71', 'eradicate', 'Arinze67279077', 'institute', 'Udemy', 'Telecom', 'technological', 'advancement', 'zerohedge', 'Westside', 'median', 'UWorker', 'unleashed', 'superman', 'GeneralMotors', 'Glencore', 'netprofit', 'MarriottInternational', 'Ryanair', 'EVERYWHERE', 'FOH', 'loosingclient', 'notthe1sttime', 'Jonatha08596807', 'yungnleverage', 'ingredient', 'Bronx', '679', 'MARIO', 'BRO', 'inject', 'vein', 'screeching', 'latenadia', 'fuckk', 'mei', 'westham', 'PerthWhuMuseum', 'coufi5', 'wthhh', 'aaaaaaah', 'poisonous', 'UtdSFX', 'trophie', 'omniai', 'substantially', 'Greed', 'terrific', 'herkied', 'UberCloneApp', 'ubercloneandroidapp', 'UberCloneIOSApp', 'turnkeytown', 'withy', 'PandaComet', 'Hayley', 'AMG133', 'AirPod', 'Ant', 'Declan', 'antanddec', 'richardj6942', 'LewMarkham', 'montehasspoken', 'Cultaholic', 'PWTees', 'macro', 'contractually', 'AddisonLeeCabs', 'ndiko', 'Odegaard', 'underperformed', 'crucially', 'showcase', 'turnaround', 'Ham', 'Coutinho', 'gamble', 'summerstrand', 'baywest', 'akhonto', 'endisa', 'ebayw', 'dmc', 'MusicUnite1', 'johnnywjdwfm', 'TOLLIVER64', 'andreag243', 'neosouldude', 'lorrainemke', 'QueenHa87049226', 'mkf257', 'QueenMalarcher', 'wallyfunk2', 'KimeeBe', 'ItsFlowers2', 'Soulracmusic', 'hahahahhahaha', 'Disgusting', 'dbnevill', 'ks65716', 'finished', 'SPEEDING', 'fbombopera', 'LordMoney96', 'jn', 'Anytime', 'olympic', 'Way', 'Kingdom', 'HA9', '0jt', '020', '8124', '3939', 'Mondays', 'Sundays', 'katebevan', 'grip', 'Maps', 'etcio', 'iot', 'KempsPascal', 'Mayank9744', 'arminswhor3', 'dickless', 'equilibrium', 'marwilliamson', 'Location', 'Ibadan', 'locked', 'overit', 'devastate', 'horribletime', 'yosemifrey', '306rs', '367rs', '60rs', 'grill', 'Cabcharge', 'TheFigen', 'upped', 'canceling', 'spiral', 'luckyluna98', 'darinb22', 'SnowtoriousCSL', 'Falls', 'Soooo', 'ahah', 'costs', 'nyseuber', 'Protip', 'itsonikapoppin', 'zooming', 'Quebec', 'myfirst7jobs', 'ShiraOvide', 'bemoan', 'hucksterism', 'Khowrowshahi', 'devilishly', 'practitioner', 'accommodate', 'Sunland', 'NM', 'PullUpNMentionz', 'JohnScarpitta1', 'theorywife', 'thalixcx', 'Plush', 'mattresse', 'phat', 'divine', 'rig', 'Humm', 'omo', 'bureau', 'synchronisation', 'choi', 'uberoffice1', 'diet', 'Barack', 'Arrived', 'Carlos', 'buisness', 'fkcing', 'FinFreeWizard', 'GumroadGuru', 'sentientbidet', 'jeweinga78', 'BEYOND', 'sup', 'SusannaDW', 'apbblue', 'crystal', 'ergo', 'mufuckin', 'donc', 'agresse', 'directement', 'unexpected', 'buyback', 'mstr', 'Wilcer', 'Starvin', 'Marvin', 'taquito', 'Lupe', 'firedup79', 'sicken', 'overly', 'khokanDATTA', 'Variant', 'curtail', 'Alabama', 'Weasel', 'TSS', 'lessin', 'sarthakgh', 'Counter', 'extrovert', 'grinder', 'WFH', 'Glazers', '2bn', 'DOF', 'megastore', 'hahahahdhdjsjxhshah', 'TEN', 'universally', 'Proposes', '2029', 'skool', 'suedetokyyo', 'ttt', 'pulloff', 'solved', 'sensitivity', 'seminar', 'chrisvt', 'dependability', 'ittttt', 'hedge', 'jugg', 'foradayortwo', 'SamanthaBaron18', 'viable', 'edson', 'duff', 'Inbuilt', 'obsolete', 'Furniture', 'spivs', 'unsuccessfully', 'hurdle', 'counsel', 'focused', 'realnas223', 'Kim', 'ChrissyIley', 'Chrissy', 'assuming', '9to5mac', 'joseadorno', 'cantbandagoat', 'Benz', 'jayacancook', 'Charlicharlz1', 'transmission', 'CoolABADev', 'wat', 'sashajol', 'mashable']\n"
          ],
          "name": "stdout"
        }
      ]
    },
    {
      "cell_type": "markdown",
      "metadata": {
        "id": "UrGpX63zM_Lg"
      },
      "source": [
        "### Variable objetivo Afinn"
      ]
    },
    {
      "cell_type": "markdown",
      "metadata": {
        "id": "8nboqL_SNCkQ"
      },
      "source": [
        "Escala de -5 a 5 en positividad para cada token"
      ]
    },
    {
      "cell_type": "code",
      "metadata": {
        "colab": {
          "base_uri": "https://localhost:8080/"
        },
        "id": "lXXgLuA8BpNE",
        "outputId": "e6d54eee-e663-46b4-dcdf-3bec7806b966"
      },
      "source": [
        "!pip install afinn"
      ],
      "execution_count": 575,
      "outputs": [
        {
          "output_type": "stream",
          "text": [
            "Requirement already satisfied: afinn in /usr/local/lib/python3.7/dist-packages (0.1)\n"
          ],
          "name": "stdout"
        }
      ]
    },
    {
      "cell_type": "code",
      "metadata": {
        "id": "6-ukH-A7_stz"
      },
      "source": [
        "from afinn import Afinn"
      ],
      "execution_count": 576,
      "outputs": []
    },
    {
      "cell_type": "code",
      "metadata": {
        "id": "llYn3BRbBvEQ"
      },
      "source": [
        "afinn = Afinn(language='en')"
      ],
      "execution_count": 577,
      "outputs": []
    },
    {
      "cell_type": "code",
      "metadata": {
        "id": "f25cvcNxBxhS"
      },
      "source": [
        "score = []\n",
        "\n",
        "for palabra in token_nombre:\n",
        "  punt = afinn.score(palabra)\n",
        "  score.append(punt)"
      ],
      "execution_count": 578,
      "outputs": []
    },
    {
      "cell_type": "code",
      "metadata": {
        "colab": {
          "base_uri": "https://localhost:8080/"
        },
        "id": "vqqSNk6FB9Zg",
        "outputId": "b7b0326e-3c17-4720-bf84-2e649a1841ba"
      },
      "source": [
        "print(token_nombre[0:9])\n",
        "print(score[0:9])"
      ],
      "execution_count": 579,
      "outputs": [
        {
          "output_type": "stream",
          "text": [
            "['Uber', 'i', 'https', 'uber', 'driver', 'get', 'like', 'eat', 'go']\n",
            "[0.0, 0.0, 0.0, 0.0, 0.0, 0.0, 2.0, 0.0, 0.0]\n"
          ],
          "name": "stdout"
        }
      ]
    },
    {
      "cell_type": "code",
      "metadata": {
        "id": "Slzrv3MIB-Sh"
      },
      "source": [
        "def sentimiento_tweet(text, palabras, scores):\n",
        "\n",
        "  sents = []\n",
        "  tokens = word_tokenize(text)\n",
        "\n",
        "  for token in tokens:\n",
        "    ind = palabras.index(token)\n",
        "    sents.append(scores[ind])\n",
        "  \n",
        "  return sents"
      ],
      "execution_count": 580,
      "outputs": []
    },
    {
      "cell_type": "code",
      "metadata": {
        "colab": {
          "base_uri": "https://localhost:8080/"
        },
        "id": "RKzogaGUDks7",
        "outputId": "2a607fe0-71a6-4c70-8551-54afb94bf0f5"
      },
      "source": [
        "np.mean(sentimiento_tweet(dataset['text_limpio'][5],token_nombre,score))"
      ],
      "execution_count": 581,
      "outputs": [
        {
          "output_type": "execute_result",
          "data": {
            "text/plain": [
              "0.05263157894736842"
            ]
          },
          "metadata": {},
          "execution_count": 581
        }
      ]
    },
    {
      "cell_type": "code",
      "metadata": {
        "colab": {
          "base_uri": "https://localhost:8080/"
        },
        "id": "Z880X0CLDt4z",
        "outputId": "6afd48b4-c5de-4a48-a956-11ff40e92c4f"
      },
      "source": [
        "max(score)"
      ],
      "execution_count": 582,
      "outputs": [
        {
          "output_type": "execute_result",
          "data": {
            "text/plain": [
              "5.0"
            ]
          },
          "metadata": {},
          "execution_count": 582
        }
      ]
    },
    {
      "cell_type": "code",
      "metadata": {
        "colab": {
          "base_uri": "https://localhost:8080/"
        },
        "id": "zDG5bHQHEZt4",
        "outputId": "c7d7dcb2-c124-4132-c42d-bac5380ad1f6"
      },
      "source": [
        "min(score)"
      ],
      "execution_count": 583,
      "outputs": [
        {
          "output_type": "execute_result",
          "data": {
            "text/plain": [
              "-5.0"
            ]
          },
          "metadata": {},
          "execution_count": 583
        }
      ]
    },
    {
      "cell_type": "code",
      "metadata": {
        "colab": {
          "base_uri": "https://localhost:8080/",
          "height": 49,
          "referenced_widgets": [
            "67a51f173a3d430fbe2049f045dc27c5",
            "fe36a4fc7f884fddb06df9b753822c69",
            "b3df322f0e8141539200897f84b1f6e6",
            "8aa11efd5c964a2d99e360cc765f9e9b",
            "a97785ff2b1a497581526ddccb90cc85",
            "17ccca6e2ffe4a0eb34a826b2221787f",
            "cc73486e334d48ac8733cb533a48048b",
            "81fc96d206f648e188c1df639fce55d0",
            "27ab90b9ab3a4921a424f60f5ce5d712",
            "92bf7ed8b4714e1cbae34281dda6b668",
            "d3349a8751954ed5b423e931532bd167"
          ]
        },
        "id": "52WFKbiNEa-u",
        "outputId": "fc4addaf-dca5-4c3f-a16c-344eb30918f2"
      },
      "source": [
        "dataset['sent_nuevo_media'] = dataset['text_limpio'].progress_apply(lambda x: np.mean(sentimiento_tweet(x,token_nombre,score)))"
      ],
      "execution_count": 584,
      "outputs": [
        {
          "output_type": "display_data",
          "data": {
            "application/vnd.jupyter.widget-view+json": {
              "model_id": "67a51f173a3d430fbe2049f045dc27c5",
              "version_minor": 0,
              "version_major": 2
            },
            "text/plain": [
              "  0%|          | 0/7809 [00:00<?, ?it/s]"
            ]
          },
          "metadata": {}
        }
      ]
    },
    {
      "cell_type": "code",
      "metadata": {
        "colab": {
          "base_uri": "https://localhost:8080/",
          "height": 49,
          "referenced_widgets": [
            "22332122aa7a48fd92336aa9cd41f303",
            "12f3e298cbbd4cc2822b76e6d9d5e762",
            "455993822cf24406812b3c66393ad911",
            "18b78504d90e40de9a77188eea927902",
            "7a4e97301460424bb86e96b9da7710b7",
            "cdd2b47547894780bf89b62da98bfe1c",
            "07915e83184d40189b142e6a325c7ead",
            "f722645310184154bb366d0355513038",
            "ba79e3770e8246b096d396aaf2594409",
            "884eedc62abe4054a66dc2c5db1fd62e",
            "c8df4c81c6b2410090507ed169f48425"
          ]
        },
        "id": "nGlAfU3xEvXo",
        "outputId": "01c4b8b8-339b-4d94-8b5e-070c4635d0b6"
      },
      "source": [
        "dataset['sent_nuevo_suma'] = dataset['text_limpio'].progress_apply(lambda x: sum(sentimiento_tweet(x,token_nombre,score)))"
      ],
      "execution_count": 585,
      "outputs": [
        {
          "output_type": "display_data",
          "data": {
            "application/vnd.jupyter.widget-view+json": {
              "model_id": "22332122aa7a48fd92336aa9cd41f303",
              "version_minor": 0,
              "version_major": 2
            },
            "text/plain": [
              "  0%|          | 0/7809 [00:00<?, ?it/s]"
            ]
          },
          "metadata": {}
        }
      ]
    },
    {
      "cell_type": "code",
      "metadata": {
        "colab": {
          "base_uri": "https://localhost:8080/",
          "height": 411
        },
        "id": "B4ZBur04E7nf",
        "outputId": "c91a5b26-f086-4e71-aff6-2c3dfa81fb8d"
      },
      "source": [
        "dataset.head()"
      ],
      "execution_count": 586,
      "outputs": [
        {
          "output_type": "execute_result",
          "data": {
            "text/html": [
              "<div>\n",
              "<style scoped>\n",
              "    .dataframe tbody tr th:only-of-type {\n",
              "        vertical-align: middle;\n",
              "    }\n",
              "\n",
              "    .dataframe tbody tr th {\n",
              "        vertical-align: top;\n",
              "    }\n",
              "\n",
              "    .dataframe thead th {\n",
              "        text-align: right;\n",
              "    }\n",
              "</style>\n",
              "<table border=\"1\" class=\"dataframe\">\n",
              "  <thead>\n",
              "    <tr style=\"text-align: right;\">\n",
              "      <th></th>\n",
              "      <th>Unnamed: 0</th>\n",
              "      <th>text</th>\n",
              "      <th>created_at</th>\n",
              "      <th>created_at_time</th>\n",
              "      <th>created_at_hour</th>\n",
              "      <th>retweeted</th>\n",
              "      <th>retweet_count</th>\n",
              "      <th>favorite_count</th>\n",
              "      <th>user_ verified</th>\n",
              "      <th>user_id</th>\n",
              "      <th>user_name</th>\n",
              "      <th>user_location</th>\n",
              "      <th>user_notificacion</th>\n",
              "      <th>user_followers</th>\n",
              "      <th>user_friends</th>\n",
              "      <th>user_withheld_in_countries</th>\n",
              "      <th>mentions_in_tweet</th>\n",
              "      <th>is_reply</th>\n",
              "      <th>source_device</th>\n",
              "      <th>finished_tweet</th>\n",
              "      <th>status_count</th>\n",
              "      <th>hashtags_text</th>\n",
              "      <th>hastags_indices</th>\n",
              "      <th>hastags_in_tweet</th>\n",
              "      <th>possitivity_textblob</th>\n",
              "      <th>possitivity_vader</th>\n",
              "      <th>possitivity_ibm</th>\n",
              "      <th>sentiment_mean</th>\n",
              "      <th>sentiment_norm</th>\n",
              "      <th>sentiment</th>\n",
              "      <th>categories</th>\n",
              "      <th>topic_1</th>\n",
              "      <th>topic_2</th>\n",
              "      <th>topic_3</th>\n",
              "      <th>text_limpio</th>\n",
              "      <th>caracteres</th>\n",
              "      <th>tokens</th>\n",
              "      <th>sent_nuevo_media</th>\n",
              "      <th>sent_nuevo_suma</th>\n",
              "    </tr>\n",
              "  </thead>\n",
              "  <tbody>\n",
              "    <tr>\n",
              "      <th>0</th>\n",
              "      <td>0</td>\n",
              "      <td>@Uber_Support hi guys why all my trips this we...</td>\n",
              "      <td>Wed Aug 11</td>\n",
              "      <td>09:43:42</td>\n",
              "      <td>9</td>\n",
              "      <td>Si</td>\n",
              "      <td>1</td>\n",
              "      <td>0</td>\n",
              "      <td>NaN</td>\n",
              "      <td>1137383922843771008</td>\n",
              "      <td>ShieldVoC</td>\n",
              "      <td>Stockholm, Sweden</td>\n",
              "      <td>False</td>\n",
              "      <td>20504</td>\n",
              "      <td>98</td>\n",
              "      <td>[]</td>\n",
              "      <td>2</td>\n",
              "      <td>No</td>\n",
              "      <td>test-shield-bot</td>\n",
              "      <td>False</td>\n",
              "      <td>695888</td>\n",
              "      <td>[]</td>\n",
              "      <td>[]</td>\n",
              "      <td>0</td>\n",
              "      <td>0.000000</td>\n",
              "      <td>0.0000</td>\n",
              "      <td>-0.912398</td>\n",
              "      <td>-0.304133</td>\n",
              "      <td>0.347934</td>\n",
              "      <td>Negativo</td>\n",
              "      <td>[{'score': 0.693098, 'label': '/travel/special...</td>\n",
              "      <td>travel</td>\n",
              "      <td>specialty travel</td>\n",
              "      <td>adventure travel</td>\n",
              "      <td>hi guy trip week add towards quest</td>\n",
              "      <td>34</td>\n",
              "      <td>7</td>\n",
              "      <td>0.000000</td>\n",
              "      <td>0.0</td>\n",
              "    </tr>\n",
              "    <tr>\n",
              "      <th>1</th>\n",
              "      <td>1</td>\n",
              "      <td>So are we getting Uber eats league 1 or not @S...</td>\n",
              "      <td>Wed Aug 11</td>\n",
              "      <td>09:43:39</td>\n",
              "      <td>9</td>\n",
              "      <td>No</td>\n",
              "      <td>0</td>\n",
              "      <td>0</td>\n",
              "      <td>NaN</td>\n",
              "      <td>528288653</td>\n",
              "      <td>__Soini</td>\n",
              "      <td>Otros</td>\n",
              "      <td>False</td>\n",
              "      <td>2733</td>\n",
              "      <td>970</td>\n",
              "      <td>[]</td>\n",
              "      <td>1</td>\n",
              "      <td>No</td>\n",
              "      <td>Twitter Web App</td>\n",
              "      <td>False</td>\n",
              "      <td>58398</td>\n",
              "      <td>[]</td>\n",
              "      <td>[]</td>\n",
              "      <td>0</td>\n",
              "      <td>0.000000</td>\n",
              "      <td>0.0000</td>\n",
              "      <td>0.000000</td>\n",
              "      <td>0.000000</td>\n",
              "      <td>0.500000</td>\n",
              "      <td>Neutro</td>\n",
              "      <td>[{'score': 0.59693, 'label': '/sports/baseball...</td>\n",
              "      <td>sports</td>\n",
              "      <td>baseball</td>\n",
              "      <td>NaN</td>\n",
              "      <td>so get Uber eat league 1 supersporttv</td>\n",
              "      <td>37</td>\n",
              "      <td>7</td>\n",
              "      <td>0.000000</td>\n",
              "      <td>0.0</td>\n",
              "    </tr>\n",
              "    <tr>\n",
              "      <th>2</th>\n",
              "      <td>2</td>\n",
              "      <td>@footballdaily 2-3 years of Messi, a bit of ca...</td>\n",
              "      <td>Wed Aug 11</td>\n",
              "      <td>09:43:36</td>\n",
              "      <td>9</td>\n",
              "      <td>No</td>\n",
              "      <td>0</td>\n",
              "      <td>0</td>\n",
              "      <td>NaN</td>\n",
              "      <td>826917817</td>\n",
              "      <td>ASHJY97</td>\n",
              "      <td>Otros</td>\n",
              "      <td>False</td>\n",
              "      <td>353</td>\n",
              "      <td>943</td>\n",
              "      <td>[]</td>\n",
              "      <td>1</td>\n",
              "      <td>footballdaily</td>\n",
              "      <td>Twitter for iPhone</td>\n",
              "      <td>False</td>\n",
              "      <td>5974</td>\n",
              "      <td>[]</td>\n",
              "      <td>[]</td>\n",
              "      <td>0</td>\n",
              "      <td>-0.333333</td>\n",
              "      <td>0.5859</td>\n",
              "      <td>-0.807459</td>\n",
              "      <td>-0.184964</td>\n",
              "      <td>0.407518</td>\n",
              "      <td>Neutro</td>\n",
              "      <td>[{'score': 0.785107, 'label': '/sports/soccer'}]</td>\n",
              "      <td>sports</td>\n",
              "      <td>soccer</td>\n",
              "      <td>NaN</td>\n",
              "      <td>footballdaily year Messi bit casual interest U...</td>\n",
              "      <td>83</td>\n",
              "      <td>12</td>\n",
              "      <td>0.083333</td>\n",
              "      <td>1.0</td>\n",
              "    </tr>\n",
              "    <tr>\n",
              "      <th>3</th>\n",
              "      <td>3</td>\n",
              "      <td>@Prashan32439454 @Uber_Support @rameshjoshi80 ...</td>\n",
              "      <td>Wed Aug 11</td>\n",
              "      <td>09:43:36</td>\n",
              "      <td>9</td>\n",
              "      <td>No</td>\n",
              "      <td>0</td>\n",
              "      <td>0</td>\n",
              "      <td>NaN</td>\n",
              "      <td>1382729072837479936</td>\n",
              "      <td>GurmeetSinghSh6</td>\n",
              "      <td>Vacio</td>\n",
              "      <td>False</td>\n",
              "      <td>6</td>\n",
              "      <td>1</td>\n",
              "      <td>[]</td>\n",
              "      <td>3</td>\n",
              "      <td>Prashan32439454</td>\n",
              "      <td>Twitter for Android</td>\n",
              "      <td>False</td>\n",
              "      <td>169</td>\n",
              "      <td>[]</td>\n",
              "      <td>[]</td>\n",
              "      <td>0</td>\n",
              "      <td>0.455000</td>\n",
              "      <td>0.4754</td>\n",
              "      <td>0.863584</td>\n",
              "      <td>0.597995</td>\n",
              "      <td>0.798997</td>\n",
              "      <td>Positivo</td>\n",
              "      <td>[{'score': 0.685688, 'label': '/science/mathem...</td>\n",
              "      <td>science</td>\n",
              "      <td>mathematics</td>\n",
              "      <td>arithmetic</td>\n",
              "      <td>Prashan32439454 rameshjoshi80 very true</td>\n",
              "      <td>39</td>\n",
              "      <td>4</td>\n",
              "      <td>0.500000</td>\n",
              "      <td>2.0</td>\n",
              "    </tr>\n",
              "    <tr>\n",
              "      <th>4</th>\n",
              "      <td>4</td>\n",
              "      <td>Uber's Gopuff partnership, Drizly deal being p...</td>\n",
              "      <td>Wed Aug 11</td>\n",
              "      <td>09:43:33</td>\n",
              "      <td>9</td>\n",
              "      <td>No</td>\n",
              "      <td>0</td>\n",
              "      <td>0</td>\n",
              "      <td>NaN</td>\n",
              "      <td>3646985662</td>\n",
              "      <td>sbwcws</td>\n",
              "      <td>Vacio</td>\n",
              "      <td>False</td>\n",
              "      <td>5562</td>\n",
              "      <td>3</td>\n",
              "      <td>[]</td>\n",
              "      <td>0</td>\n",
              "      <td>No</td>\n",
              "      <td>News Bot Algo</td>\n",
              "      <td>False</td>\n",
              "      <td>113083</td>\n",
              "      <td>[]</td>\n",
              "      <td>[]</td>\n",
              "      <td>0</td>\n",
              "      <td>0.000000</td>\n",
              "      <td>0.0000</td>\n",
              "      <td>-0.788377</td>\n",
              "      <td>-0.262792</td>\n",
              "      <td>0.368604</td>\n",
              "      <td>Negativo</td>\n",
              "      <td>[{'score': 0.778195, 'label': '/news'}, {'scor...</td>\n",
              "      <td>news</td>\n",
              "      <td>NaN</td>\n",
              "      <td>NaN</td>\n",
              "      <td>Uber Gopuff partnership Drizly deal probe FTC ...</td>\n",
              "      <td>69</td>\n",
              "      <td>10</td>\n",
              "      <td>0.000000</td>\n",
              "      <td>0.0</td>\n",
              "    </tr>\n",
              "  </tbody>\n",
              "</table>\n",
              "</div>"
            ],
            "text/plain": [
              "   Unnamed: 0  ... sent_nuevo_suma\n",
              "0           0  ...             0.0\n",
              "1           1  ...             0.0\n",
              "2           2  ...             1.0\n",
              "3           3  ...             2.0\n",
              "4           4  ...             0.0\n",
              "\n",
              "[5 rows x 39 columns]"
            ]
          },
          "metadata": {},
          "execution_count": 586
        }
      ]
    },
    {
      "cell_type": "code",
      "metadata": {
        "colab": {
          "base_uri": "https://localhost:8080/"
        },
        "id": "Q9OLcSX0E-3X",
        "outputId": "38755dae-3615-48e9-9e91-b0df6ccaf2ab"
      },
      "source": [
        "np.sum(dataset.isnull())"
      ],
      "execution_count": 587,
      "outputs": [
        {
          "output_type": "execute_result",
          "data": {
            "text/plain": [
              "Unnamed: 0                       0\n",
              "text                             0\n",
              "created_at                       0\n",
              "created_at_time                  0\n",
              "created_at_hour                  0\n",
              "retweeted                        0\n",
              "retweet_count                    0\n",
              "favorite_count                   0\n",
              "user_ verified                7809\n",
              "user_id                          0\n",
              "user_name                        0\n",
              "user_location                    0\n",
              "user_notificacion                0\n",
              "user_followers                   0\n",
              "user_friends                     0\n",
              "user_withheld_in_countries       0\n",
              "mentions_in_tweet                0\n",
              "is_reply                         0\n",
              "source_device                    0\n",
              "finished_tweet                   0\n",
              "status_count                     0\n",
              "hashtags_text                    0\n",
              "hastags_indices                  0\n",
              "hastags_in_tweet                 0\n",
              "possitivity_textblob             0\n",
              "possitivity_vader                0\n",
              "possitivity_ibm                  0\n",
              "sentiment_mean                   0\n",
              "sentiment_norm                   0\n",
              "sentiment                        0\n",
              "categories                       0\n",
              "topic_1                          0\n",
              "topic_2                        831\n",
              "topic_3                       4465\n",
              "text_limpio                      0\n",
              "caracteres                       0\n",
              "tokens                           0\n",
              "sent_nuevo_media                 2\n",
              "sent_nuevo_suma                  0\n",
              "dtype: int64"
            ]
          },
          "metadata": {},
          "execution_count": 587
        }
      ]
    },
    {
      "cell_type": "code",
      "metadata": {
        "colab": {
          "base_uri": "https://localhost:8080/",
          "height": 233
        },
        "id": "xKS4x_byFMlg",
        "outputId": "d9416cca-ede7-4d55-c249-bbac111e2711"
      },
      "source": [
        "dataset.loc[dataset['sent_nuevo_media'].isnull()]"
      ],
      "execution_count": 588,
      "outputs": [
        {
          "output_type": "execute_result",
          "data": {
            "text/html": [
              "<div>\n",
              "<style scoped>\n",
              "    .dataframe tbody tr th:only-of-type {\n",
              "        vertical-align: middle;\n",
              "    }\n",
              "\n",
              "    .dataframe tbody tr th {\n",
              "        vertical-align: top;\n",
              "    }\n",
              "\n",
              "    .dataframe thead th {\n",
              "        text-align: right;\n",
              "    }\n",
              "</style>\n",
              "<table border=\"1\" class=\"dataframe\">\n",
              "  <thead>\n",
              "    <tr style=\"text-align: right;\">\n",
              "      <th></th>\n",
              "      <th>Unnamed: 0</th>\n",
              "      <th>text</th>\n",
              "      <th>created_at</th>\n",
              "      <th>created_at_time</th>\n",
              "      <th>created_at_hour</th>\n",
              "      <th>retweeted</th>\n",
              "      <th>retweet_count</th>\n",
              "      <th>favorite_count</th>\n",
              "      <th>user_ verified</th>\n",
              "      <th>user_id</th>\n",
              "      <th>user_name</th>\n",
              "      <th>user_location</th>\n",
              "      <th>user_notificacion</th>\n",
              "      <th>user_followers</th>\n",
              "      <th>user_friends</th>\n",
              "      <th>user_withheld_in_countries</th>\n",
              "      <th>mentions_in_tweet</th>\n",
              "      <th>is_reply</th>\n",
              "      <th>source_device</th>\n",
              "      <th>finished_tweet</th>\n",
              "      <th>status_count</th>\n",
              "      <th>hashtags_text</th>\n",
              "      <th>hastags_indices</th>\n",
              "      <th>hastags_in_tweet</th>\n",
              "      <th>possitivity_textblob</th>\n",
              "      <th>possitivity_vader</th>\n",
              "      <th>possitivity_ibm</th>\n",
              "      <th>sentiment_mean</th>\n",
              "      <th>sentiment_norm</th>\n",
              "      <th>sentiment</th>\n",
              "      <th>categories</th>\n",
              "      <th>topic_1</th>\n",
              "      <th>topic_2</th>\n",
              "      <th>topic_3</th>\n",
              "      <th>text_limpio</th>\n",
              "      <th>caracteres</th>\n",
              "      <th>tokens</th>\n",
              "      <th>sent_nuevo_media</th>\n",
              "      <th>sent_nuevo_suma</th>\n",
              "    </tr>\n",
              "  </thead>\n",
              "  <tbody>\n",
              "    <tr>\n",
              "      <th>494</th>\n",
              "      <td>494</td>\n",
              "      <td>@Uber_Kryptonian *Waller</td>\n",
              "      <td>Wed Aug 11</td>\n",
              "      <td>08:23:39</td>\n",
              "      <td>8</td>\n",
              "      <td>No</td>\n",
              "      <td>0</td>\n",
              "      <td>1</td>\n",
              "      <td>NaN</td>\n",
              "      <td>451707362</td>\n",
              "      <td>NicholasMoore16</td>\n",
              "      <td>Vacio</td>\n",
              "      <td>False</td>\n",
              "      <td>333</td>\n",
              "      <td>502</td>\n",
              "      <td>[]</td>\n",
              "      <td>1</td>\n",
              "      <td>NicholasMoore16</td>\n",
              "      <td>Twitter for iPhone</td>\n",
              "      <td>False</td>\n",
              "      <td>73334</td>\n",
              "      <td>[]</td>\n",
              "      <td>[]</td>\n",
              "      <td>0</td>\n",
              "      <td>0.0</td>\n",
              "      <td>0.0</td>\n",
              "      <td>0.0</td>\n",
              "      <td>0.0</td>\n",
              "      <td>0.5</td>\n",
              "      <td>Neutro</td>\n",
              "      <td>[{'score': 0.592882, 'label': '/art and entert...</td>\n",
              "      <td>art and entertainment</td>\n",
              "      <td>comics and animation</td>\n",
              "      <td>comics</td>\n",
              "      <td></td>\n",
              "      <td>0</td>\n",
              "      <td>0</td>\n",
              "      <td>NaN</td>\n",
              "      <td>0.0</td>\n",
              "    </tr>\n",
              "    <tr>\n",
              "      <th>2864</th>\n",
              "      <td>2864</td>\n",
              "      <td>@Uber_Anne *scritches your nipnips*</td>\n",
              "      <td>Mon Aug 09</td>\n",
              "      <td>22:12:30</td>\n",
              "      <td>22</td>\n",
              "      <td>No</td>\n",
              "      <td>0</td>\n",
              "      <td>0</td>\n",
              "      <td>NaN</td>\n",
              "      <td>1167549210734080000</td>\n",
              "      <td>Demodeview</td>\n",
              "      <td>Vacio</td>\n",
              "      <td>False</td>\n",
              "      <td>142</td>\n",
              "      <td>210</td>\n",
              "      <td>[]</td>\n",
              "      <td>1</td>\n",
              "      <td>Uber_Anne</td>\n",
              "      <td>Twitter Web App</td>\n",
              "      <td>False</td>\n",
              "      <td>37029</td>\n",
              "      <td>[]</td>\n",
              "      <td>[]</td>\n",
              "      <td>0</td>\n",
              "      <td>0.0</td>\n",
              "      <td>0.0</td>\n",
              "      <td>0.0</td>\n",
              "      <td>0.0</td>\n",
              "      <td>0.5</td>\n",
              "      <td>Neutro</td>\n",
              "      <td>[]</td>\n",
              "      <td>N</td>\n",
              "      <td>o</td>\n",
              "      <td>t</td>\n",
              "      <td></td>\n",
              "      <td>0</td>\n",
              "      <td>0</td>\n",
              "      <td>NaN</td>\n",
              "      <td>0.0</td>\n",
              "    </tr>\n",
              "  </tbody>\n",
              "</table>\n",
              "</div>"
            ],
            "text/plain": [
              "      Unnamed: 0  ... sent_nuevo_suma\n",
              "494          494  ...             0.0\n",
              "2864        2864  ...             0.0\n",
              "\n",
              "[2 rows x 39 columns]"
            ]
          },
          "metadata": {},
          "execution_count": 588
        }
      ]
    },
    {
      "cell_type": "code",
      "metadata": {
        "colab": {
          "base_uri": "https://localhost:8080/",
          "height": 507,
          "referenced_widgets": [
            "e295c56b69b74e8fb82fd0f31625c525",
            "9dc319fda36145cca50706a04f3f902b",
            "391a46b0091d4950b5623aef721044ca",
            "363b2f18365f41e294fee3f869398668",
            "ff55a61570a6463eae3fbe9643c9dae3",
            "180607f0cd574460913145676b739cd2",
            "ddaa479abb2143d19a8818cf41cf61be",
            "36c3caaf3b9a4a8a948f2129c6448799",
            "c053c2b64b0e43bc91ba1c3044ace775",
            "2290ef6131ab4931b73aa5249afdbe37",
            "be8d01d2f2f44fe5a75cdad31f7f9223",
            "6f641a0508c74f2cbd8f88afd60e737f",
            "c3a466dee4274470af8e53fd7fd1bcf3",
            "45fe92b9bf1c436cbf38935c0cb24f65",
            "3bb2c04f62a249208b129266e1961a28",
            "3546329d91ef41e5b2e5838c2aecce8d",
            "240a4bde04474f24ba202febf5238b9b",
            "3c2ffe38dda747e4ab01ad845904342f",
            "9fe4487893014075a70b8c310bb87e06",
            "1bbe5b4517b547e8b0d08cc1602050fc",
            "3d84ecd8cf704e11a79ea112921187e1",
            "85ba2122792b4e4baa5ff6043a9ba161",
            "46cea8425d144124a0ca66c61c47c7d6",
            "dbcf900f83bd453d9c64d66a4da44901",
            "39fae90f9e1b47baaea34cd64a4e24a7",
            "29a474b704dd4bd09892dbd8f01b862e",
            "c43f5656b5bc4aec9ce2f541f161c0ee",
            "1ce840308e77459cbbdc80c32acb9d50",
            "5dfdcf7359a747a99f95d05d799dea03",
            "47ba93523a68472e94487dce96d7a8c2",
            "89998db031ef4e56a7622b8f4eb2f8e7",
            "5a45df438ec844d99cc5b829ac3b5f5d",
            "e9df0104f317407996f9cfa19615624c"
          ]
        },
        "id": "evJ_y2jUP3mD",
        "outputId": "19398f06-b1f0-4e0f-871d-710764b5cb40"
      },
      "source": [
        "# Creo una variable que cuenta el número de palabras positivas\n",
        "# Una variable que cuenta el número de palabras neutras\n",
        "# una variable que cuenta el número de palabras negativas\n",
        "\n",
        "# Rango (-5, -1, 0, 1, 5)\n",
        "\n",
        "dataset['num_pos'] = dataset['text_limpio'].progress_apply(lambda x: sum(e > 1 for e in sentimiento_tweet(x,token_nombre,score)))\n",
        "dataset['num_neg'] = dataset['text_limpio'].progress_apply(lambda x: sum(e < -1 for e in sentimiento_tweet(x,token_nombre,score)))\n",
        "dataset['num_neutro'] = dataset['text_limpio'].progress_apply(lambda x: sum((e >= -1) and (e <= 1) for e in sentimiento_tweet(x,token_nombre,score)))\n",
        "\n",
        "dataset.head()"
      ],
      "execution_count": 589,
      "outputs": [
        {
          "output_type": "display_data",
          "data": {
            "application/vnd.jupyter.widget-view+json": {
              "model_id": "e295c56b69b74e8fb82fd0f31625c525",
              "version_minor": 0,
              "version_major": 2
            },
            "text/plain": [
              "  0%|          | 0/7809 [00:00<?, ?it/s]"
            ]
          },
          "metadata": {}
        },
        {
          "output_type": "display_data",
          "data": {
            "application/vnd.jupyter.widget-view+json": {
              "model_id": "6f641a0508c74f2cbd8f88afd60e737f",
              "version_minor": 0,
              "version_major": 2
            },
            "text/plain": [
              "  0%|          | 0/7809 [00:00<?, ?it/s]"
            ]
          },
          "metadata": {}
        },
        {
          "output_type": "display_data",
          "data": {
            "application/vnd.jupyter.widget-view+json": {
              "model_id": "46cea8425d144124a0ca66c61c47c7d6",
              "version_minor": 0,
              "version_major": 2
            },
            "text/plain": [
              "  0%|          | 0/7809 [00:00<?, ?it/s]"
            ]
          },
          "metadata": {}
        },
        {
          "output_type": "execute_result",
          "data": {
            "text/html": [
              "<div>\n",
              "<style scoped>\n",
              "    .dataframe tbody tr th:only-of-type {\n",
              "        vertical-align: middle;\n",
              "    }\n",
              "\n",
              "    .dataframe tbody tr th {\n",
              "        vertical-align: top;\n",
              "    }\n",
              "\n",
              "    .dataframe thead th {\n",
              "        text-align: right;\n",
              "    }\n",
              "</style>\n",
              "<table border=\"1\" class=\"dataframe\">\n",
              "  <thead>\n",
              "    <tr style=\"text-align: right;\">\n",
              "      <th></th>\n",
              "      <th>Unnamed: 0</th>\n",
              "      <th>text</th>\n",
              "      <th>created_at</th>\n",
              "      <th>created_at_time</th>\n",
              "      <th>created_at_hour</th>\n",
              "      <th>retweeted</th>\n",
              "      <th>retweet_count</th>\n",
              "      <th>favorite_count</th>\n",
              "      <th>user_ verified</th>\n",
              "      <th>user_id</th>\n",
              "      <th>user_name</th>\n",
              "      <th>user_location</th>\n",
              "      <th>user_notificacion</th>\n",
              "      <th>user_followers</th>\n",
              "      <th>user_friends</th>\n",
              "      <th>user_withheld_in_countries</th>\n",
              "      <th>mentions_in_tweet</th>\n",
              "      <th>is_reply</th>\n",
              "      <th>source_device</th>\n",
              "      <th>finished_tweet</th>\n",
              "      <th>status_count</th>\n",
              "      <th>hashtags_text</th>\n",
              "      <th>hastags_indices</th>\n",
              "      <th>hastags_in_tweet</th>\n",
              "      <th>possitivity_textblob</th>\n",
              "      <th>possitivity_vader</th>\n",
              "      <th>possitivity_ibm</th>\n",
              "      <th>sentiment_mean</th>\n",
              "      <th>sentiment_norm</th>\n",
              "      <th>sentiment</th>\n",
              "      <th>categories</th>\n",
              "      <th>topic_1</th>\n",
              "      <th>topic_2</th>\n",
              "      <th>topic_3</th>\n",
              "      <th>text_limpio</th>\n",
              "      <th>caracteres</th>\n",
              "      <th>tokens</th>\n",
              "      <th>sent_nuevo_media</th>\n",
              "      <th>sent_nuevo_suma</th>\n",
              "      <th>num_pos</th>\n",
              "      <th>num_neg</th>\n",
              "      <th>num_neutro</th>\n",
              "    </tr>\n",
              "  </thead>\n",
              "  <tbody>\n",
              "    <tr>\n",
              "      <th>0</th>\n",
              "      <td>0</td>\n",
              "      <td>@Uber_Support hi guys why all my trips this we...</td>\n",
              "      <td>Wed Aug 11</td>\n",
              "      <td>09:43:42</td>\n",
              "      <td>9</td>\n",
              "      <td>Si</td>\n",
              "      <td>1</td>\n",
              "      <td>0</td>\n",
              "      <td>NaN</td>\n",
              "      <td>1137383922843771008</td>\n",
              "      <td>ShieldVoC</td>\n",
              "      <td>Stockholm, Sweden</td>\n",
              "      <td>False</td>\n",
              "      <td>20504</td>\n",
              "      <td>98</td>\n",
              "      <td>[]</td>\n",
              "      <td>2</td>\n",
              "      <td>No</td>\n",
              "      <td>test-shield-bot</td>\n",
              "      <td>False</td>\n",
              "      <td>695888</td>\n",
              "      <td>[]</td>\n",
              "      <td>[]</td>\n",
              "      <td>0</td>\n",
              "      <td>0.000000</td>\n",
              "      <td>0.0000</td>\n",
              "      <td>-0.912398</td>\n",
              "      <td>-0.304133</td>\n",
              "      <td>0.347934</td>\n",
              "      <td>Negativo</td>\n",
              "      <td>[{'score': 0.693098, 'label': '/travel/special...</td>\n",
              "      <td>travel</td>\n",
              "      <td>specialty travel</td>\n",
              "      <td>adventure travel</td>\n",
              "      <td>hi guy trip week add towards quest</td>\n",
              "      <td>34</td>\n",
              "      <td>7</td>\n",
              "      <td>0.000000</td>\n",
              "      <td>0.0</td>\n",
              "      <td>0</td>\n",
              "      <td>0</td>\n",
              "      <td>7</td>\n",
              "    </tr>\n",
              "    <tr>\n",
              "      <th>1</th>\n",
              "      <td>1</td>\n",
              "      <td>So are we getting Uber eats league 1 or not @S...</td>\n",
              "      <td>Wed Aug 11</td>\n",
              "      <td>09:43:39</td>\n",
              "      <td>9</td>\n",
              "      <td>No</td>\n",
              "      <td>0</td>\n",
              "      <td>0</td>\n",
              "      <td>NaN</td>\n",
              "      <td>528288653</td>\n",
              "      <td>__Soini</td>\n",
              "      <td>Otros</td>\n",
              "      <td>False</td>\n",
              "      <td>2733</td>\n",
              "      <td>970</td>\n",
              "      <td>[]</td>\n",
              "      <td>1</td>\n",
              "      <td>No</td>\n",
              "      <td>Twitter Web App</td>\n",
              "      <td>False</td>\n",
              "      <td>58398</td>\n",
              "      <td>[]</td>\n",
              "      <td>[]</td>\n",
              "      <td>0</td>\n",
              "      <td>0.000000</td>\n",
              "      <td>0.0000</td>\n",
              "      <td>0.000000</td>\n",
              "      <td>0.000000</td>\n",
              "      <td>0.500000</td>\n",
              "      <td>Neutro</td>\n",
              "      <td>[{'score': 0.59693, 'label': '/sports/baseball...</td>\n",
              "      <td>sports</td>\n",
              "      <td>baseball</td>\n",
              "      <td>NaN</td>\n",
              "      <td>so get Uber eat league 1 supersporttv</td>\n",
              "      <td>37</td>\n",
              "      <td>7</td>\n",
              "      <td>0.000000</td>\n",
              "      <td>0.0</td>\n",
              "      <td>0</td>\n",
              "      <td>0</td>\n",
              "      <td>7</td>\n",
              "    </tr>\n",
              "    <tr>\n",
              "      <th>2</th>\n",
              "      <td>2</td>\n",
              "      <td>@footballdaily 2-3 years of Messi, a bit of ca...</td>\n",
              "      <td>Wed Aug 11</td>\n",
              "      <td>09:43:36</td>\n",
              "      <td>9</td>\n",
              "      <td>No</td>\n",
              "      <td>0</td>\n",
              "      <td>0</td>\n",
              "      <td>NaN</td>\n",
              "      <td>826917817</td>\n",
              "      <td>ASHJY97</td>\n",
              "      <td>Otros</td>\n",
              "      <td>False</td>\n",
              "      <td>353</td>\n",
              "      <td>943</td>\n",
              "      <td>[]</td>\n",
              "      <td>1</td>\n",
              "      <td>footballdaily</td>\n",
              "      <td>Twitter for iPhone</td>\n",
              "      <td>False</td>\n",
              "      <td>5974</td>\n",
              "      <td>[]</td>\n",
              "      <td>[]</td>\n",
              "      <td>0</td>\n",
              "      <td>-0.333333</td>\n",
              "      <td>0.5859</td>\n",
              "      <td>-0.807459</td>\n",
              "      <td>-0.184964</td>\n",
              "      <td>0.407518</td>\n",
              "      <td>Neutro</td>\n",
              "      <td>[{'score': 0.785107, 'label': '/sports/soccer'}]</td>\n",
              "      <td>sports</td>\n",
              "      <td>soccer</td>\n",
              "      <td>NaN</td>\n",
              "      <td>footballdaily year Messi bit casual interest U...</td>\n",
              "      <td>83</td>\n",
              "      <td>12</td>\n",
              "      <td>0.083333</td>\n",
              "      <td>1.0</td>\n",
              "      <td>0</td>\n",
              "      <td>0</td>\n",
              "      <td>12</td>\n",
              "    </tr>\n",
              "    <tr>\n",
              "      <th>3</th>\n",
              "      <td>3</td>\n",
              "      <td>@Prashan32439454 @Uber_Support @rameshjoshi80 ...</td>\n",
              "      <td>Wed Aug 11</td>\n",
              "      <td>09:43:36</td>\n",
              "      <td>9</td>\n",
              "      <td>No</td>\n",
              "      <td>0</td>\n",
              "      <td>0</td>\n",
              "      <td>NaN</td>\n",
              "      <td>1382729072837479936</td>\n",
              "      <td>GurmeetSinghSh6</td>\n",
              "      <td>Vacio</td>\n",
              "      <td>False</td>\n",
              "      <td>6</td>\n",
              "      <td>1</td>\n",
              "      <td>[]</td>\n",
              "      <td>3</td>\n",
              "      <td>Prashan32439454</td>\n",
              "      <td>Twitter for Android</td>\n",
              "      <td>False</td>\n",
              "      <td>169</td>\n",
              "      <td>[]</td>\n",
              "      <td>[]</td>\n",
              "      <td>0</td>\n",
              "      <td>0.455000</td>\n",
              "      <td>0.4754</td>\n",
              "      <td>0.863584</td>\n",
              "      <td>0.597995</td>\n",
              "      <td>0.798997</td>\n",
              "      <td>Positivo</td>\n",
              "      <td>[{'score': 0.685688, 'label': '/science/mathem...</td>\n",
              "      <td>science</td>\n",
              "      <td>mathematics</td>\n",
              "      <td>arithmetic</td>\n",
              "      <td>Prashan32439454 rameshjoshi80 very true</td>\n",
              "      <td>39</td>\n",
              "      <td>4</td>\n",
              "      <td>0.500000</td>\n",
              "      <td>2.0</td>\n",
              "      <td>1</td>\n",
              "      <td>0</td>\n",
              "      <td>3</td>\n",
              "    </tr>\n",
              "    <tr>\n",
              "      <th>4</th>\n",
              "      <td>4</td>\n",
              "      <td>Uber's Gopuff partnership, Drizly deal being p...</td>\n",
              "      <td>Wed Aug 11</td>\n",
              "      <td>09:43:33</td>\n",
              "      <td>9</td>\n",
              "      <td>No</td>\n",
              "      <td>0</td>\n",
              "      <td>0</td>\n",
              "      <td>NaN</td>\n",
              "      <td>3646985662</td>\n",
              "      <td>sbwcws</td>\n",
              "      <td>Vacio</td>\n",
              "      <td>False</td>\n",
              "      <td>5562</td>\n",
              "      <td>3</td>\n",
              "      <td>[]</td>\n",
              "      <td>0</td>\n",
              "      <td>No</td>\n",
              "      <td>News Bot Algo</td>\n",
              "      <td>False</td>\n",
              "      <td>113083</td>\n",
              "      <td>[]</td>\n",
              "      <td>[]</td>\n",
              "      <td>0</td>\n",
              "      <td>0.000000</td>\n",
              "      <td>0.0000</td>\n",
              "      <td>-0.788377</td>\n",
              "      <td>-0.262792</td>\n",
              "      <td>0.368604</td>\n",
              "      <td>Negativo</td>\n",
              "      <td>[{'score': 0.778195, 'label': '/news'}, {'scor...</td>\n",
              "      <td>news</td>\n",
              "      <td>NaN</td>\n",
              "      <td>NaN</td>\n",
              "      <td>Uber Gopuff partnership Drizly deal probe FTC ...</td>\n",
              "      <td>69</td>\n",
              "      <td>10</td>\n",
              "      <td>0.000000</td>\n",
              "      <td>0.0</td>\n",
              "      <td>0</td>\n",
              "      <td>0</td>\n",
              "      <td>10</td>\n",
              "    </tr>\n",
              "  </tbody>\n",
              "</table>\n",
              "</div>"
            ],
            "text/plain": [
              "   Unnamed: 0  ... num_neutro\n",
              "0           0  ...          7\n",
              "1           1  ...          7\n",
              "2           2  ...         12\n",
              "3           3  ...          3\n",
              "4           4  ...         10\n",
              "\n",
              "[5 rows x 42 columns]"
            ]
          },
          "metadata": {},
          "execution_count": 589
        }
      ]
    },
    {
      "cell_type": "code",
      "metadata": {
        "colab": {
          "base_uri": "https://localhost:8080/"
        },
        "id": "R8aDpVFUTo7n",
        "outputId": "4ef7c8a5-8494-46b6-9609-38368a4f9f60"
      },
      "source": [
        "dataset['num_pos'].value_counts()"
      ],
      "execution_count": 590,
      "outputs": [
        {
          "output_type": "execute_result",
          "data": {
            "text/plain": [
              "0    4565\n",
              "1    2119\n",
              "2     723\n",
              "3     258\n",
              "4     109\n",
              "5      17\n",
              "6      12\n",
              "7       6\n",
              "Name: num_pos, dtype: int64"
            ]
          },
          "metadata": {},
          "execution_count": 590
        }
      ]
    },
    {
      "cell_type": "code",
      "metadata": {
        "colab": {
          "base_uri": "https://localhost:8080/"
        },
        "id": "utIJZnBqTvPS",
        "outputId": "466f6723-cee6-41b1-f4e3-843de60cdc1d"
      },
      "source": [
        "dataset['num_neg'].value_counts()"
      ],
      "execution_count": 591,
      "outputs": [
        {
          "output_type": "execute_result",
          "data": {
            "text/plain": [
              "0    5281\n",
              "1    1707\n",
              "2     556\n",
              "3     169\n",
              "4      66\n",
              "5      23\n",
              "6       7\n",
              "Name: num_neg, dtype: int64"
            ]
          },
          "metadata": {},
          "execution_count": 591
        }
      ]
    },
    {
      "cell_type": "markdown",
      "metadata": {
        "id": "HFvztUNeRCkH"
      },
      "source": [
        "### Cluster"
      ]
    },
    {
      "cell_type": "code",
      "metadata": {
        "colab": {
          "base_uri": "https://localhost:8080/"
        },
        "id": "q2L-ZkXjNMuQ",
        "outputId": "b21708db-f9d6-455e-9be4-3396a5943e2a"
      },
      "source": [
        "# Limpiamos el fichero y cogemos solo las variables que utilizaremos para el cluster\n",
        "dataset.keys()"
      ],
      "execution_count": 592,
      "outputs": [
        {
          "output_type": "execute_result",
          "data": {
            "text/plain": [
              "Index(['Unnamed: 0', 'text', 'created_at', 'created_at_time',\n",
              "       'created_at_hour', 'retweeted', 'retweet_count', 'favorite_count',\n",
              "       'user_ verified', 'user_id', 'user_name', 'user_location',\n",
              "       'user_notificacion', 'user_followers', 'user_friends',\n",
              "       'user_withheld_in_countries', 'mentions_in_tweet', 'is_reply',\n",
              "       'source_device', 'finished_tweet', 'status_count', 'hashtags_text',\n",
              "       'hastags_indices', 'hastags_in_tweet', 'possitivity_textblob',\n",
              "       'possitivity_vader', 'possitivity_ibm', 'sentiment_mean',\n",
              "       'sentiment_norm', 'sentiment', 'categories', 'topic_1', 'topic_2',\n",
              "       'topic_3', 'text_limpio', 'caracteres', 'tokens', 'sent_nuevo_media',\n",
              "       'sent_nuevo_suma', 'num_pos', 'num_neg', 'num_neutro'],\n",
              "      dtype='object')"
            ]
          },
          "metadata": {},
          "execution_count": 592
        }
      ]
    },
    {
      "cell_type": "code",
      "metadata": {
        "id": "dy316J3JNU1Z"
      },
      "source": [
        "df = dataset.drop(['Unnamed: 0','text', 'created_at_time','user_ verified',\n",
        "                   'user_name','user_withheld_in_countries', 'hashtags_text',\n",
        "                   'hastags_indices', 'possitivity_textblob',\n",
        "                   'possitivity_vader', 'possitivity_ibm', 'sentiment_mean',\n",
        "                   'sentiment_norm', 'sentiment', 'categories', 'topic_2',\n",
        "                   'topic_3', 'text_limpio', 'sent_nuevo_media',\n",
        "                   'sent_nuevo_suma','num_neutro'],\n",
        "                  axis=1)"
      ],
      "execution_count": 593,
      "outputs": []
    },
    {
      "cell_type": "code",
      "metadata": {
        "colab": {
          "base_uri": "https://localhost:8080/"
        },
        "id": "VTKayp5ROarx",
        "outputId": "e9f96004-ee74-49a7-edb6-fbe8e37dd25e"
      },
      "source": [
        "df.shape"
      ],
      "execution_count": 594,
      "outputs": [
        {
          "output_type": "execute_result",
          "data": {
            "text/plain": [
              "(7809, 21)"
            ]
          },
          "metadata": {},
          "execution_count": 594
        }
      ]
    },
    {
      "cell_type": "code",
      "metadata": {
        "colab": {
          "base_uri": "https://localhost:8080/",
          "height": 292
        },
        "id": "HQAmgDPoObyY",
        "outputId": "cbcecb64-923b-4dbe-c5c0-177047237df6"
      },
      "source": [
        "df.head()"
      ],
      "execution_count": 595,
      "outputs": [
        {
          "output_type": "execute_result",
          "data": {
            "text/html": [
              "<div>\n",
              "<style scoped>\n",
              "    .dataframe tbody tr th:only-of-type {\n",
              "        vertical-align: middle;\n",
              "    }\n",
              "\n",
              "    .dataframe tbody tr th {\n",
              "        vertical-align: top;\n",
              "    }\n",
              "\n",
              "    .dataframe thead th {\n",
              "        text-align: right;\n",
              "    }\n",
              "</style>\n",
              "<table border=\"1\" class=\"dataframe\">\n",
              "  <thead>\n",
              "    <tr style=\"text-align: right;\">\n",
              "      <th></th>\n",
              "      <th>created_at</th>\n",
              "      <th>created_at_hour</th>\n",
              "      <th>retweeted</th>\n",
              "      <th>retweet_count</th>\n",
              "      <th>favorite_count</th>\n",
              "      <th>user_id</th>\n",
              "      <th>user_location</th>\n",
              "      <th>user_notificacion</th>\n",
              "      <th>user_followers</th>\n",
              "      <th>user_friends</th>\n",
              "      <th>mentions_in_tweet</th>\n",
              "      <th>is_reply</th>\n",
              "      <th>source_device</th>\n",
              "      <th>finished_tweet</th>\n",
              "      <th>status_count</th>\n",
              "      <th>hastags_in_tweet</th>\n",
              "      <th>topic_1</th>\n",
              "      <th>caracteres</th>\n",
              "      <th>tokens</th>\n",
              "      <th>num_pos</th>\n",
              "      <th>num_neg</th>\n",
              "    </tr>\n",
              "  </thead>\n",
              "  <tbody>\n",
              "    <tr>\n",
              "      <th>0</th>\n",
              "      <td>Wed Aug 11</td>\n",
              "      <td>9</td>\n",
              "      <td>Si</td>\n",
              "      <td>1</td>\n",
              "      <td>0</td>\n",
              "      <td>1137383922843771008</td>\n",
              "      <td>Stockholm, Sweden</td>\n",
              "      <td>False</td>\n",
              "      <td>20504</td>\n",
              "      <td>98</td>\n",
              "      <td>2</td>\n",
              "      <td>No</td>\n",
              "      <td>test-shield-bot</td>\n",
              "      <td>False</td>\n",
              "      <td>695888</td>\n",
              "      <td>0</td>\n",
              "      <td>travel</td>\n",
              "      <td>34</td>\n",
              "      <td>7</td>\n",
              "      <td>0</td>\n",
              "      <td>0</td>\n",
              "    </tr>\n",
              "    <tr>\n",
              "      <th>1</th>\n",
              "      <td>Wed Aug 11</td>\n",
              "      <td>9</td>\n",
              "      <td>No</td>\n",
              "      <td>0</td>\n",
              "      <td>0</td>\n",
              "      <td>528288653</td>\n",
              "      <td>Otros</td>\n",
              "      <td>False</td>\n",
              "      <td>2733</td>\n",
              "      <td>970</td>\n",
              "      <td>1</td>\n",
              "      <td>No</td>\n",
              "      <td>Twitter Web App</td>\n",
              "      <td>False</td>\n",
              "      <td>58398</td>\n",
              "      <td>0</td>\n",
              "      <td>sports</td>\n",
              "      <td>37</td>\n",
              "      <td>7</td>\n",
              "      <td>0</td>\n",
              "      <td>0</td>\n",
              "    </tr>\n",
              "    <tr>\n",
              "      <th>2</th>\n",
              "      <td>Wed Aug 11</td>\n",
              "      <td>9</td>\n",
              "      <td>No</td>\n",
              "      <td>0</td>\n",
              "      <td>0</td>\n",
              "      <td>826917817</td>\n",
              "      <td>Otros</td>\n",
              "      <td>False</td>\n",
              "      <td>353</td>\n",
              "      <td>943</td>\n",
              "      <td>1</td>\n",
              "      <td>footballdaily</td>\n",
              "      <td>Twitter for iPhone</td>\n",
              "      <td>False</td>\n",
              "      <td>5974</td>\n",
              "      <td>0</td>\n",
              "      <td>sports</td>\n",
              "      <td>83</td>\n",
              "      <td>12</td>\n",
              "      <td>0</td>\n",
              "      <td>0</td>\n",
              "    </tr>\n",
              "    <tr>\n",
              "      <th>3</th>\n",
              "      <td>Wed Aug 11</td>\n",
              "      <td>9</td>\n",
              "      <td>No</td>\n",
              "      <td>0</td>\n",
              "      <td>0</td>\n",
              "      <td>1382729072837479936</td>\n",
              "      <td>Vacio</td>\n",
              "      <td>False</td>\n",
              "      <td>6</td>\n",
              "      <td>1</td>\n",
              "      <td>3</td>\n",
              "      <td>Prashan32439454</td>\n",
              "      <td>Twitter for Android</td>\n",
              "      <td>False</td>\n",
              "      <td>169</td>\n",
              "      <td>0</td>\n",
              "      <td>science</td>\n",
              "      <td>39</td>\n",
              "      <td>4</td>\n",
              "      <td>1</td>\n",
              "      <td>0</td>\n",
              "    </tr>\n",
              "    <tr>\n",
              "      <th>4</th>\n",
              "      <td>Wed Aug 11</td>\n",
              "      <td>9</td>\n",
              "      <td>No</td>\n",
              "      <td>0</td>\n",
              "      <td>0</td>\n",
              "      <td>3646985662</td>\n",
              "      <td>Vacio</td>\n",
              "      <td>False</td>\n",
              "      <td>5562</td>\n",
              "      <td>3</td>\n",
              "      <td>0</td>\n",
              "      <td>No</td>\n",
              "      <td>News Bot Algo</td>\n",
              "      <td>False</td>\n",
              "      <td>113083</td>\n",
              "      <td>0</td>\n",
              "      <td>news</td>\n",
              "      <td>69</td>\n",
              "      <td>10</td>\n",
              "      <td>0</td>\n",
              "      <td>0</td>\n",
              "    </tr>\n",
              "  </tbody>\n",
              "</table>\n",
              "</div>"
            ],
            "text/plain": [
              "   created_at  created_at_hour retweeted  ...  tokens  num_pos  num_neg\n",
              "0  Wed Aug 11                9        Si  ...       7        0        0\n",
              "1  Wed Aug 11                9        No  ...       7        0        0\n",
              "2  Wed Aug 11                9        No  ...      12        0        0\n",
              "3  Wed Aug 11                9        No  ...       4        1        0\n",
              "4  Wed Aug 11                9        No  ...      10        0        0\n",
              "\n",
              "[5 rows x 21 columns]"
            ]
          },
          "metadata": {},
          "execution_count": 595
        }
      ]
    },
    {
      "cell_type": "code",
      "metadata": {
        "colab": {
          "base_uri": "https://localhost:8080/"
        },
        "id": "fOoBfEuNOdBw",
        "outputId": "51e45f92-c7b1-446b-e630-a1c4d29e8cd3"
      },
      "source": [
        "# Aplico algunos cambios a las variables categóricas para hacerlas más simples\n",
        "# de cara al modelado\n",
        "df.dtypes"
      ],
      "execution_count": 596,
      "outputs": [
        {
          "output_type": "execute_result",
          "data": {
            "text/plain": [
              "created_at           object\n",
              "created_at_hour       int64\n",
              "retweeted            object\n",
              "retweet_count         int64\n",
              "favorite_count        int64\n",
              "user_id               int64\n",
              "user_location        object\n",
              "user_notificacion      bool\n",
              "user_followers        int64\n",
              "user_friends          int64\n",
              "mentions_in_tweet     int64\n",
              "is_reply             object\n",
              "source_device        object\n",
              "finished_tweet         bool\n",
              "status_count          int64\n",
              "hastags_in_tweet      int64\n",
              "topic_1              object\n",
              "caracteres            int64\n",
              "tokens                int64\n",
              "num_pos               int64\n",
              "num_neg               int64\n",
              "dtype: object"
            ]
          },
          "metadata": {},
          "execution_count": 596
        }
      ]
    },
    {
      "cell_type": "code",
      "metadata": {
        "id": "MoNhKAziO2Oo"
      },
      "source": [
        "# Elimino retweeted y las dos booleanas por no aportar informacion adicional\n",
        "# Elimino user id por ser un ID\n",
        "df = df.drop(['retweeted', 'user_id',\n",
        "              'user_notificacion','finished_tweet'],axis = 1)"
      ],
      "execution_count": 597,
      "outputs": []
    },
    {
      "cell_type": "code",
      "metadata": {
        "colab": {
          "base_uri": "https://localhost:8080/",
          "height": 292
        },
        "id": "n62aUMEkUhOU",
        "outputId": "fb061cef-9897-4940-912c-37ac0669cf32"
      },
      "source": [
        "df.head()"
      ],
      "execution_count": 598,
      "outputs": [
        {
          "output_type": "execute_result",
          "data": {
            "text/html": [
              "<div>\n",
              "<style scoped>\n",
              "    .dataframe tbody tr th:only-of-type {\n",
              "        vertical-align: middle;\n",
              "    }\n",
              "\n",
              "    .dataframe tbody tr th {\n",
              "        vertical-align: top;\n",
              "    }\n",
              "\n",
              "    .dataframe thead th {\n",
              "        text-align: right;\n",
              "    }\n",
              "</style>\n",
              "<table border=\"1\" class=\"dataframe\">\n",
              "  <thead>\n",
              "    <tr style=\"text-align: right;\">\n",
              "      <th></th>\n",
              "      <th>created_at</th>\n",
              "      <th>created_at_hour</th>\n",
              "      <th>retweet_count</th>\n",
              "      <th>favorite_count</th>\n",
              "      <th>user_location</th>\n",
              "      <th>user_followers</th>\n",
              "      <th>user_friends</th>\n",
              "      <th>mentions_in_tweet</th>\n",
              "      <th>is_reply</th>\n",
              "      <th>source_device</th>\n",
              "      <th>status_count</th>\n",
              "      <th>hastags_in_tweet</th>\n",
              "      <th>topic_1</th>\n",
              "      <th>caracteres</th>\n",
              "      <th>tokens</th>\n",
              "      <th>num_pos</th>\n",
              "      <th>num_neg</th>\n",
              "    </tr>\n",
              "  </thead>\n",
              "  <tbody>\n",
              "    <tr>\n",
              "      <th>0</th>\n",
              "      <td>Wed Aug 11</td>\n",
              "      <td>9</td>\n",
              "      <td>1</td>\n",
              "      <td>0</td>\n",
              "      <td>Stockholm, Sweden</td>\n",
              "      <td>20504</td>\n",
              "      <td>98</td>\n",
              "      <td>2</td>\n",
              "      <td>No</td>\n",
              "      <td>test-shield-bot</td>\n",
              "      <td>695888</td>\n",
              "      <td>0</td>\n",
              "      <td>travel</td>\n",
              "      <td>34</td>\n",
              "      <td>7</td>\n",
              "      <td>0</td>\n",
              "      <td>0</td>\n",
              "    </tr>\n",
              "    <tr>\n",
              "      <th>1</th>\n",
              "      <td>Wed Aug 11</td>\n",
              "      <td>9</td>\n",
              "      <td>0</td>\n",
              "      <td>0</td>\n",
              "      <td>Otros</td>\n",
              "      <td>2733</td>\n",
              "      <td>970</td>\n",
              "      <td>1</td>\n",
              "      <td>No</td>\n",
              "      <td>Twitter Web App</td>\n",
              "      <td>58398</td>\n",
              "      <td>0</td>\n",
              "      <td>sports</td>\n",
              "      <td>37</td>\n",
              "      <td>7</td>\n",
              "      <td>0</td>\n",
              "      <td>0</td>\n",
              "    </tr>\n",
              "    <tr>\n",
              "      <th>2</th>\n",
              "      <td>Wed Aug 11</td>\n",
              "      <td>9</td>\n",
              "      <td>0</td>\n",
              "      <td>0</td>\n",
              "      <td>Otros</td>\n",
              "      <td>353</td>\n",
              "      <td>943</td>\n",
              "      <td>1</td>\n",
              "      <td>footballdaily</td>\n",
              "      <td>Twitter for iPhone</td>\n",
              "      <td>5974</td>\n",
              "      <td>0</td>\n",
              "      <td>sports</td>\n",
              "      <td>83</td>\n",
              "      <td>12</td>\n",
              "      <td>0</td>\n",
              "      <td>0</td>\n",
              "    </tr>\n",
              "    <tr>\n",
              "      <th>3</th>\n",
              "      <td>Wed Aug 11</td>\n",
              "      <td>9</td>\n",
              "      <td>0</td>\n",
              "      <td>0</td>\n",
              "      <td>Vacio</td>\n",
              "      <td>6</td>\n",
              "      <td>1</td>\n",
              "      <td>3</td>\n",
              "      <td>Prashan32439454</td>\n",
              "      <td>Twitter for Android</td>\n",
              "      <td>169</td>\n",
              "      <td>0</td>\n",
              "      <td>science</td>\n",
              "      <td>39</td>\n",
              "      <td>4</td>\n",
              "      <td>1</td>\n",
              "      <td>0</td>\n",
              "    </tr>\n",
              "    <tr>\n",
              "      <th>4</th>\n",
              "      <td>Wed Aug 11</td>\n",
              "      <td>9</td>\n",
              "      <td>0</td>\n",
              "      <td>0</td>\n",
              "      <td>Vacio</td>\n",
              "      <td>5562</td>\n",
              "      <td>3</td>\n",
              "      <td>0</td>\n",
              "      <td>No</td>\n",
              "      <td>News Bot Algo</td>\n",
              "      <td>113083</td>\n",
              "      <td>0</td>\n",
              "      <td>news</td>\n",
              "      <td>69</td>\n",
              "      <td>10</td>\n",
              "      <td>0</td>\n",
              "      <td>0</td>\n",
              "    </tr>\n",
              "  </tbody>\n",
              "</table>\n",
              "</div>"
            ],
            "text/plain": [
              "   created_at  created_at_hour  retweet_count  ...  tokens num_pos  num_neg\n",
              "0  Wed Aug 11                9              1  ...       7       0        0\n",
              "1  Wed Aug 11                9              0  ...       7       0        0\n",
              "2  Wed Aug 11                9              0  ...      12       0        0\n",
              "3  Wed Aug 11                9              0  ...       4       1        0\n",
              "4  Wed Aug 11                9              0  ...      10       0        0\n",
              "\n",
              "[5 rows x 17 columns]"
            ]
          },
          "metadata": {},
          "execution_count": 598
        }
      ]
    },
    {
      "cell_type": "code",
      "metadata": {
        "colab": {
          "base_uri": "https://localhost:8080/"
        },
        "id": "WUHXkB-PUtxk",
        "outputId": "20361980-70d5-41d0-f452-f60ce691c92d"
      },
      "source": [
        "df.dtypes"
      ],
      "execution_count": 599,
      "outputs": [
        {
          "output_type": "execute_result",
          "data": {
            "text/plain": [
              "created_at           object\n",
              "created_at_hour       int64\n",
              "retweet_count         int64\n",
              "favorite_count        int64\n",
              "user_location        object\n",
              "user_followers        int64\n",
              "user_friends          int64\n",
              "mentions_in_tweet     int64\n",
              "is_reply             object\n",
              "source_device        object\n",
              "status_count          int64\n",
              "hastags_in_tweet      int64\n",
              "topic_1              object\n",
              "caracteres            int64\n",
              "tokens                int64\n",
              "num_pos               int64\n",
              "num_neg               int64\n",
              "dtype: object"
            ]
          },
          "metadata": {},
          "execution_count": 599
        }
      ]
    },
    {
      "cell_type": "code",
      "metadata": {
        "id": "EyGDAtNYV6Ej"
      },
      "source": [
        "# Modifico source_device y is_reply de forma simple\n",
        "\n",
        "cond1 = df['is_reply'].isin(['No','Uber_Support','Uber'])\n",
        "df['is_reply'] = df['is_reply'].where(cond1,'Si')\n",
        "cond2 = df['is_reply'].isin(['Si','No','Uber'])\n",
        "df['is_reply'] = df['is_reply'].where(cond2,'Uber')\n",
        "\n",
        "cond3 = df['source_device'].isin(['Twitter for iPhone','Twitter for Android',\n",
        "                                         'Twitter Web App','Sprinklr'])\n",
        "df['source_device'] = df['source_device'].where(cond3,'Otro')"
      ],
      "execution_count": 600,
      "outputs": []
    },
    {
      "cell_type": "code",
      "metadata": {
        "colab": {
          "base_uri": "https://localhost:8080/"
        },
        "id": "VENBK2k4WrST",
        "outputId": "1b8c55f7-8394-4062-b0d9-eb5d5dedb651"
      },
      "source": [
        "df.is_reply.value_counts()"
      ],
      "execution_count": 601,
      "outputs": [
        {
          "output_type": "execute_result",
          "data": {
            "text/plain": [
              "No      4181\n",
              "Si      3290\n",
              "Uber     338\n",
              "Name: is_reply, dtype: int64"
            ]
          },
          "metadata": {},
          "execution_count": 601
        }
      ]
    },
    {
      "cell_type": "code",
      "metadata": {
        "colab": {
          "base_uri": "https://localhost:8080/"
        },
        "id": "72bd5ApkWw6q",
        "outputId": "65b9d4e5-bc2c-41eb-a530-c4efacb3656b"
      },
      "source": [
        "df.source_device.value_counts()"
      ],
      "execution_count": 602,
      "outputs": [
        {
          "output_type": "execute_result",
          "data": {
            "text/plain": [
              "Twitter for iPhone     3408\n",
              "Twitter for Android    1843\n",
              "Twitter Web App        1254\n",
              "Otro                    781\n",
              "Sprinklr                523\n",
              "Name: source_device, dtype: int64"
            ]
          },
          "metadata": {},
          "execution_count": 602
        }
      ]
    },
    {
      "cell_type": "code",
      "metadata": {
        "colab": {
          "base_uri": "https://localhost:8080/"
        },
        "id": "cBcEGS2FW1G6",
        "outputId": "d275854b-f184-421b-935b-eacd5dc63b2b"
      },
      "source": [
        "df.keys()"
      ],
      "execution_count": 603,
      "outputs": [
        {
          "output_type": "execute_result",
          "data": {
            "text/plain": [
              "Index(['created_at', 'created_at_hour', 'retweet_count', 'favorite_count',\n",
              "       'user_location', 'user_followers', 'user_friends', 'mentions_in_tweet',\n",
              "       'is_reply', 'source_device', 'status_count', 'hastags_in_tweet',\n",
              "       'topic_1', 'caracteres', 'tokens', 'num_pos', 'num_neg'],\n",
              "      dtype='object')"
            ]
          },
          "metadata": {},
          "execution_count": 603
        }
      ]
    },
    {
      "cell_type": "code",
      "metadata": {
        "colab": {
          "base_uri": "https://localhost:8080/"
        },
        "id": "YJZuRiNYdg49",
        "outputId": "6b40a331-6c4b-425a-9e52-f0856dfb885b"
      },
      "source": [
        "# Seleccionamos las variables categoricas\n",
        "\n",
        "categories = df.select_dtypes(['object']).keys()\n",
        "categories"
      ],
      "execution_count": 604,
      "outputs": [
        {
          "output_type": "execute_result",
          "data": {
            "text/plain": [
              "Index(['created_at', 'user_location', 'is_reply', 'source_device', 'topic_1'], dtype='object')"
            ]
          },
          "metadata": {},
          "execution_count": 604
        }
      ]
    },
    {
      "cell_type": "code",
      "metadata": {
        "id": "MjPvFWqrj8nI"
      },
      "source": [
        "cat = df['created_at'].drop_duplicates()\n",
        "cat = list(cat)\n",
        "\n",
        "df['created_at'] = df['created_at'].apply(lambda x: x.replace(x, str(cat.index(x))))"
      ],
      "execution_count": 620,
      "outputs": []
    },
    {
      "cell_type": "code",
      "metadata": {
        "id": "se_xP1iWmZoV"
      },
      "source": [
        "cat = df['user_location'].drop_duplicates()\n",
        "cat = list(cat)\n",
        "\n",
        "df['user_location'] = df['user_location'].apply(lambda x: x.replace(x, str(cat.index(x))))"
      ],
      "execution_count": 625,
      "outputs": []
    },
    {
      "cell_type": "code",
      "metadata": {
        "id": "TJpOq3WcmbzY"
      },
      "source": [
        "cat = df['is_reply'].drop_duplicates()\n",
        "cat = list(cat)\n",
        "\n",
        "df['is_reply'] = df['is_reply'].apply(lambda x: x.replace(x, str(cat.index(x))))"
      ],
      "execution_count": 626,
      "outputs": []
    },
    {
      "cell_type": "code",
      "metadata": {
        "id": "-hHc_y1Mmb9y"
      },
      "source": [
        "cat = df['source_device'].drop_duplicates()\n",
        "cat = list(cat)\n",
        "\n",
        "df['source_device'] = df['source_device'].apply(lambda x: x.replace(x, str(cat.index(x))))"
      ],
      "execution_count": 627,
      "outputs": []
    },
    {
      "cell_type": "code",
      "metadata": {
        "id": "nE9O7Yq8mcGW"
      },
      "source": [
        "cat = df['topic_1'].drop_duplicates()\n",
        "cat = list(cat)\n",
        "\n",
        "df['topic_1'] = df['topic_1'].apply(lambda x: x.replace(x, str(cat.index(x))))"
      ],
      "execution_count": 628,
      "outputs": []
    },
    {
      "cell_type": "code",
      "metadata": {
        "id": "LVxG64GmmdtN"
      },
      "source": [
        "df[categories] = df[categories].astype('int')"
      ],
      "execution_count": 631,
      "outputs": []
    },
    {
      "cell_type": "code",
      "metadata": {
        "colab": {
          "base_uri": "https://localhost:8080/"
        },
        "id": "1Bj6_JSWnJes",
        "outputId": "8c73f5fa-bc6b-4b13-9641-a1332bebf9bd"
      },
      "source": [
        "df.dtypes"
      ],
      "execution_count": 632,
      "outputs": [
        {
          "output_type": "execute_result",
          "data": {
            "text/plain": [
              "created_at           int64\n",
              "created_at_hour      int64\n",
              "retweet_count        int64\n",
              "favorite_count       int64\n",
              "user_location        int64\n",
              "user_followers       int64\n",
              "user_friends         int64\n",
              "mentions_in_tweet    int64\n",
              "is_reply             int64\n",
              "source_device        int64\n",
              "status_count         int64\n",
              "hastags_in_tweet     int64\n",
              "topic_1              int64\n",
              "caracteres           int64\n",
              "tokens               int64\n",
              "num_pos              int64\n",
              "num_neg              int64\n",
              "dtype: object"
            ]
          },
          "metadata": {},
          "execution_count": 632
        }
      ]
    },
    {
      "cell_type": "code",
      "metadata": {
        "id": "5lW-ogNnfgDX"
      },
      "source": [
        "# KMeans está en el paquete sklearn.cluster\n",
        "from sklearn.cluster import KMeans"
      ],
      "execution_count": 633,
      "outputs": []
    },
    {
      "cell_type": "code",
      "metadata": {
        "colab": {
          "base_uri": "https://localhost:8080/"
        },
        "id": "s0FLq7StgyNq",
        "outputId": "04a7c538-d0f4-42ea-c411-b32b963b4f95"
      },
      "source": [
        "df.shape"
      ],
      "execution_count": 634,
      "outputs": [
        {
          "output_type": "execute_result",
          "data": {
            "text/plain": [
              "(7809, 17)"
            ]
          },
          "metadata": {},
          "execution_count": 634
        }
      ]
    },
    {
      "cell_type": "code",
      "metadata": {
        "id": "npUOboBNg045"
      },
      "source": [
        "# Elimino los na para que funcione el cluster\n",
        "df = df.dropna()"
      ],
      "execution_count": 635,
      "outputs": []
    },
    {
      "cell_type": "code",
      "metadata": {
        "colab": {
          "base_uri": "https://localhost:8080/"
        },
        "id": "PmjG9rExg5hy",
        "outputId": "2251ee90-a300-490d-cc3b-75300a1b5121"
      },
      "source": [
        "df.shape"
      ],
      "execution_count": 636,
      "outputs": [
        {
          "output_type": "execute_result",
          "data": {
            "text/plain": [
              "(7809, 17)"
            ]
          },
          "metadata": {},
          "execution_count": 636
        }
      ]
    },
    {
      "cell_type": "code",
      "metadata": {
        "colab": {
          "base_uri": "https://localhost:8080/",
          "height": 365
        },
        "id": "7qqVISm8gZyj",
        "outputId": "f6f0c179-13f6-438c-8d52-bc8206bc097f"
      },
      "source": [
        "#%% Curva elbow para determinar valor óptimo de k.\n",
        "nc = range(1, 10) # El número de iteraciones que queremos hacer.\n",
        "kmeans = [KMeans(n_clusters=i) for i in nc]\n",
        "score = [kmeans[i].fit(df).score(df) for i in range(len(kmeans))]\n",
        "score\n",
        "plt.xlabel('Número de clústeres (k)')\n",
        "plt.ylabel('Suma de los errores cuadráticos')\n",
        "plt.plot(nc,score)"
      ],
      "execution_count": 637,
      "outputs": [
        {
          "output_type": "execute_result",
          "data": {
            "text/plain": [
              "[<matplotlib.lines.Line2D at 0x7f5b4b186590>]"
            ]
          },
          "metadata": {},
          "execution_count": 637
        },
        {
          "output_type": "display_data",
          "data": {
            "image/png": "[encoded data removed]",
            "text/plain": [
              "<Figure size 720x360 with 1 Axes>"
            ]
          },
          "metadata": {}
        }
      ]
    },
    {
      "cell_type": "code",
      "metadata": {
        "colab": {
          "base_uri": "https://localhost:8080/"
        },
        "id": "cNrWUgIEhsij",
        "outputId": "7ca9998b-898f-446e-9ae2-fedb8fc75366"
      },
      "source": [
        "#%% Aplicación de k-means con k = 3.\n",
        "kmeans = KMeans(n_clusters=3).fit(df)\n",
        "centroids = kmeans.cluster_centers_\n",
        "print(centroids)"
      ],
      "execution_count": 638,
      "outputs": [
        {
          "output_type": "stream",
          "text": [
            "[[ 7.47202296e-01  1.51284075e+01  6.34043042e+01  1.75236729e+00\n",
            "   1.36840746e+01  2.20776542e+03  1.03752009e+03  1.18895265e+00\n",
            "   4.94117647e-01  1.94131994e+00  2.80426218e+04  2.32568149e-01\n",
            "   7.76671449e+00  9.11144907e+01  1.49849354e+01  5.95408895e-01\n",
            "   5.02725968e-01]\n",
            " [ 8.10000000e-01  1.55540000e+01  4.60000000e-02  7.40000000e-02\n",
            "   1.99400000e+00  6.28829930e+05  4.33214600e+03  1.00200000e+00\n",
            "   9.94000000e-01  3.98000000e+00  2.04303151e+06 -4.71844785e-16\n",
            "   7.77800000e+00  1.00498000e+02  1.56300000e+01  1.17200000e+00\n",
            "   8.00000000e-02]\n",
            " [ 6.31268437e-01  1.36637168e+01  3.11209440e+00  7.96460177e-02\n",
            "   5.09734513e+00  2.32583186e+04  4.56263717e+03  2.25958702e+00\n",
            "   7.37463127e-02  5.01474926e-01  6.43105003e+05  1.32743363e-01\n",
            "   7.50737463e+00  1.26604720e+02  1.94100295e+01  7.02064897e-01\n",
            "   5.98820059e-01]]\n"
          ],
          "name": "stdout"
        }
      ]
    },
    {
      "cell_type": "code",
      "metadata": {
        "id": "thltX4tuh6rK"
      },
      "source": [
        "#%% Etiquetamos nuestro dataframe.\n",
        "labels = kmeans.predict(df)\n",
        "df['label'] = labels"
      ],
      "execution_count": 639,
      "outputs": []
    },
    {
      "cell_type": "code",
      "metadata": {
        "colab": {
          "base_uri": "https://localhost:8080/",
          "height": 224
        },
        "id": "jmAISsnliCGK",
        "outputId": "dd3cc125-c774-43d4-d922-95edc0e48af6"
      },
      "source": [
        "df.head()"
      ],
      "execution_count": 640,
      "outputs": [
        {
          "output_type": "execute_result",
          "data": {
            "text/html": [
              "<div>\n",
              "<style scoped>\n",
              "    .dataframe tbody tr th:only-of-type {\n",
              "        vertical-align: middle;\n",
              "    }\n",
              "\n",
              "    .dataframe tbody tr th {\n",
              "        vertical-align: top;\n",
              "    }\n",
              "\n",
              "    .dataframe thead th {\n",
              "        text-align: right;\n",
              "    }\n",
              "</style>\n",
              "<table border=\"1\" class=\"dataframe\">\n",
              "  <thead>\n",
              "    <tr style=\"text-align: right;\">\n",
              "      <th></th>\n",
              "      <th>created_at</th>\n",
              "      <th>created_at_hour</th>\n",
              "      <th>retweet_count</th>\n",
              "      <th>favorite_count</th>\n",
              "      <th>user_location</th>\n",
              "      <th>user_followers</th>\n",
              "      <th>user_friends</th>\n",
              "      <th>mentions_in_tweet</th>\n",
              "      <th>is_reply</th>\n",
              "      <th>source_device</th>\n",
              "      <th>status_count</th>\n",
              "      <th>hastags_in_tweet</th>\n",
              "      <th>topic_1</th>\n",
              "      <th>caracteres</th>\n",
              "      <th>tokens</th>\n",
              "      <th>num_pos</th>\n",
              "      <th>num_neg</th>\n",
              "      <th>label</th>\n",
              "    </tr>\n",
              "  </thead>\n",
              "  <tbody>\n",
              "    <tr>\n",
              "      <th>0</th>\n",
              "      <td>0</td>\n",
              "      <td>9</td>\n",
              "      <td>1</td>\n",
              "      <td>0</td>\n",
              "      <td>0</td>\n",
              "      <td>20504</td>\n",
              "      <td>98</td>\n",
              "      <td>2</td>\n",
              "      <td>0</td>\n",
              "      <td>0</td>\n",
              "      <td>695888</td>\n",
              "      <td>0</td>\n",
              "      <td>0</td>\n",
              "      <td>34</td>\n",
              "      <td>7</td>\n",
              "      <td>0</td>\n",
              "      <td>0</td>\n",
              "      <td>2</td>\n",
              "    </tr>\n",
              "    <tr>\n",
              "      <th>1</th>\n",
              "      <td>0</td>\n",
              "      <td>9</td>\n",
              "      <td>0</td>\n",
              "      <td>0</td>\n",
              "      <td>1</td>\n",
              "      <td>2733</td>\n",
              "      <td>970</td>\n",
              "      <td>1</td>\n",
              "      <td>0</td>\n",
              "      <td>1</td>\n",
              "      <td>58398</td>\n",
              "      <td>0</td>\n",
              "      <td>1</td>\n",
              "      <td>37</td>\n",
              "      <td>7</td>\n",
              "      <td>0</td>\n",
              "      <td>0</td>\n",
              "      <td>0</td>\n",
              "    </tr>\n",
              "    <tr>\n",
              "      <th>2</th>\n",
              "      <td>0</td>\n",
              "      <td>9</td>\n",
              "      <td>0</td>\n",
              "      <td>0</td>\n",
              "      <td>1</td>\n",
              "      <td>353</td>\n",
              "      <td>943</td>\n",
              "      <td>1</td>\n",
              "      <td>1</td>\n",
              "      <td>2</td>\n",
              "      <td>5974</td>\n",
              "      <td>0</td>\n",
              "      <td>1</td>\n",
              "      <td>83</td>\n",
              "      <td>12</td>\n",
              "      <td>0</td>\n",
              "      <td>0</td>\n",
              "      <td>0</td>\n",
              "    </tr>\n",
              "    <tr>\n",
              "      <th>3</th>\n",
              "      <td>0</td>\n",
              "      <td>9</td>\n",
              "      <td>0</td>\n",
              "      <td>0</td>\n",
              "      <td>2</td>\n",
              "      <td>6</td>\n",
              "      <td>1</td>\n",
              "      <td>3</td>\n",
              "      <td>1</td>\n",
              "      <td>3</td>\n",
              "      <td>169</td>\n",
              "      <td>0</td>\n",
              "      <td>2</td>\n",
              "      <td>39</td>\n",
              "      <td>4</td>\n",
              "      <td>1</td>\n",
              "      <td>0</td>\n",
              "      <td>0</td>\n",
              "    </tr>\n",
              "    <tr>\n",
              "      <th>4</th>\n",
              "      <td>0</td>\n",
              "      <td>9</td>\n",
              "      <td>0</td>\n",
              "      <td>0</td>\n",
              "      <td>2</td>\n",
              "      <td>5562</td>\n",
              "      <td>3</td>\n",
              "      <td>0</td>\n",
              "      <td>0</td>\n",
              "      <td>0</td>\n",
              "      <td>113083</td>\n",
              "      <td>0</td>\n",
              "      <td>3</td>\n",
              "      <td>69</td>\n",
              "      <td>10</td>\n",
              "      <td>0</td>\n",
              "      <td>0</td>\n",
              "      <td>0</td>\n",
              "    </tr>\n",
              "  </tbody>\n",
              "</table>\n",
              "</div>"
            ],
            "text/plain": [
              "   created_at  created_at_hour  retweet_count  ...  num_pos  num_neg  label\n",
              "0           0                9              1  ...        0        0      2\n",
              "1           0                9              0  ...        0        0      0\n",
              "2           0                9              0  ...        0        0      0\n",
              "3           0                9              0  ...        1        0      0\n",
              "4           0                9              0  ...        0        0      0\n",
              "\n",
              "[5 rows x 18 columns]"
            ]
          },
          "metadata": {},
          "execution_count": 640
        }
      ]
    },
    {
      "cell_type": "code",
      "metadata": {
        "colab": {
          "base_uri": "https://localhost:8080/"
        },
        "id": "nFVspUIAskv8",
        "outputId": "8191b3c7-cde1-4829-e56a-ffa18a5a6227"
      },
      "source": [
        "df['label'].value_counts()"
      ],
      "execution_count": 646,
      "outputs": [
        {
          "output_type": "execute_result",
          "data": {
            "text/plain": [
              "0    6970\n",
              "1     500\n",
              "2     339\n",
              "Name: label, dtype: int64"
            ]
          },
          "metadata": {},
          "execution_count": 646
        }
      ]
    },
    {
      "cell_type": "code",
      "metadata": {
        "id": "g0xgI2udisey"
      },
      "source": [
        "# Añado la vo para comparar los resultados\n",
        "df['vo'] = dataset['sent_nuevo_media']"
      ],
      "execution_count": 650,
      "outputs": []
    },
    {
      "cell_type": "code",
      "metadata": {
        "id": "lAWBpuMjtihJ"
      },
      "source": [
        "df['sentiment'] = dataset['sentiment']"
      ],
      "execution_count": 651,
      "outputs": []
    },
    {
      "cell_type": "code",
      "metadata": {
        "colab": {
          "base_uri": "https://localhost:8080/"
        },
        "id": "9G4CtT5vt_Vp",
        "outputId": "2203eea7-ef61-41d6-bb97-6bf201b22f6a"
      },
      "source": [
        "df[['tokens','num_pos','num_neg']].loc[df['label']==0].apply(lambda x: sum(x)*100/sum(df['tokens']),axis=0)"
      ],
      "execution_count": 675,
      "outputs": [
        {
          "output_type": "execute_result",
          "data": {
            "text/plain": [
              "tokens     87.887075\n",
              "num_pos     3.492090\n",
              "num_neg     2.948502\n",
              "dtype: float64"
            ]
          },
          "metadata": {},
          "execution_count": 675
        }
      ]
    },
    {
      "cell_type": "code",
      "metadata": {
        "colab": {
          "base_uri": "https://localhost:8080/"
        },
        "id": "2319T_j0ucBC",
        "outputId": "fc9caf73-4d81-47d0-f772-a6adab2e4c8a"
      },
      "source": [
        "df[['tokens','num_pos','num_neg']].loc[df['label']==1].apply(lambda x: sum(x)*100/sum(df['tokens']),axis=0)"
      ],
      "execution_count": 676,
      "outputs": [
        {
          "output_type": "execute_result",
          "data": {
            "text/plain": [
              "tokens     6.576069\n",
              "num_pos    0.493100\n",
              "num_neg    0.033659\n",
              "dtype: float64"
            ]
          },
          "metadata": {},
          "execution_count": 676
        }
      ]
    },
    {
      "cell_type": "code",
      "metadata": {
        "colab": {
          "base_uri": "https://localhost:8080/"
        },
        "id": "jDQyGE0VuzMw",
        "outputId": "b7692087-0177-4038-adcc-045ed158f5ca"
      },
      "source": [
        "df[['tokens','num_pos','num_neg']].loc[df['label']==2].apply(lambda x: sum(x)*100/sum(df['tokens']),axis=0)"
      ],
      "execution_count": 677,
      "outputs": [
        {
          "output_type": "execute_result",
          "data": {
            "text/plain": [
              "tokens     5.536856\n",
              "num_pos    0.200269\n",
              "num_neg    0.170818\n",
              "dtype: float64"
            ]
          },
          "metadata": {},
          "execution_count": 677
        }
      ]
    },
    {
      "cell_type": "markdown",
      "metadata": {
        "id": "HRbaH_Tlxcvn"
      },
      "source": [
        "Con estos resultados, no sabría cómo etiquetar a cada cluster. "
      ]
    },
    {
      "cell_type": "code",
      "metadata": {
        "id": "QrVrWJYtx7wH"
      },
      "source": [
        ""
      ],
      "execution_count": null,
      "outputs": []
    }
  ]
}