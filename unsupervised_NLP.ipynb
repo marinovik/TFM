{
 "cells": [
  {
   "cell_type": "code",
   "execution_count": 9,
   "source": [
    "import pandas as pd\n",
    "import nltk\n",
    "from nltk.corpus import stopwords\n",
    "from nltk.stem import WordNetLemmatizer\n",
    "import string"
   ],
   "outputs": [],
   "metadata": {}
  },
  {
   "cell_type": "code",
   "execution_count": null,
   "source": [],
   "outputs": [],
   "metadata": {}
  },
  {
   "cell_type": "markdown",
   "source": [
    "## Import tweets"
   ],
   "metadata": {}
  },
  {
   "cell_type": "code",
   "execution_count": 3,
   "source": [
    "data = pd.read_excel('extraccion_uber_completa_SIN_DUPLICADOS.xlsx')"
   ],
   "outputs": [],
   "metadata": {}
  },
  {
   "cell_type": "markdown",
   "source": [
    "Nos quedamos solamente con el texto de los tweets y eliminamos duplicados:"
   ],
   "metadata": {}
  },
  {
   "cell_type": "code",
   "execution_count": 19,
   "source": [
    "data.drop(['Unnamed: 0', 'retweeted', 'not_enterprise'], inplace=True, axis=1)\n",
    "data = data['text'].drop_duplicates()"
   ],
   "outputs": [],
   "metadata": {}
  },
  {
   "cell_type": "markdown",
   "source": [
    "## Text Preprocessing"
   ],
   "metadata": {}
  },
  {
   "cell_type": "code",
   "execution_count": 73,
   "source": [
    "def text_cleaning(tweet):\n",
    "\n",
    "    # Eliminar puntuacion\n",
    "    tweet_clean = [char for char in tweet if char not in string.punctuation]\n",
    "    tweet_clean = ''.join([i for i in tweet_clean if not i.isdigit()])\n",
    "\n",
    "    # Convertir a minusculas\n",
    "    tweet_clean = tweet_clean.lower()\n",
    "\n",
    "    # Eliminar Stopwords\n",
    "    tweet_clean_words = tweet_clean.split()\n",
    "    #tweet_clean = \" \".join([word for word in tweet_clean_words if word not in stopwords.words()])\n",
    "    tweet_clean = [word for word in tweet_clean_words if word not in stopwords.words()]\n",
    "\n",
    "    # Lematizar\n",
    "    lemmatizer = WordNetLemmatizer()\n",
    "    tweet_clean = [lemmatizer.lemmatize(word, 'v') for word in tweet_clean]\n",
    "    tweet_clean = [lemmatizer.lemmatize(word, 'n') for word in tweet_clean]\n",
    "\n",
    "    return tweet_clean\n",
    "    "
   ],
   "outputs": [],
   "metadata": {}
  },
  {
   "cell_type": "code",
   "execution_count": 71,
   "source": [
    "tweet = 'Uber apps is very slow. Is anyone fixing it? cars'"
   ],
   "outputs": [],
   "metadata": {}
  },
  {
   "cell_type": "code",
   "execution_count": 74,
   "source": [
    "text_cleaning(tweet)"
   ],
   "outputs": [
    {
     "output_type": "execute_result",
     "data": {
      "text/plain": [
       "['uber', 'apps', 'slow', 'anyone', 'fix', 'car']"
      ]
     },
     "metadata": {},
     "execution_count": 74
    }
   ],
   "metadata": {}
  },
  {
   "cell_type": "markdown",
   "source": [
    "Lematizacion:"
   ],
   "metadata": {}
  },
  {
   "cell_type": "code",
   "execution_count": 41,
   "source": [
    "'is' in stopwords.words()"
   ],
   "outputs": [
    {
     "output_type": "execute_result",
     "data": {
      "text/plain": [
       "True"
      ]
     },
     "metadata": {},
     "execution_count": 41
    }
   ],
   "metadata": {}
  },
  {
   "cell_type": "markdown",
   "source": [
    "## Vectorización"
   ],
   "metadata": {}
  },
  {
   "cell_type": "code",
   "execution_count": null,
   "source": [],
   "outputs": [],
   "metadata": {}
  },
  {
   "cell_type": "code",
   "execution_count": null,
   "source": [],
   "outputs": [],
   "metadata": {}
  },
  {
   "cell_type": "markdown",
   "source": [
    "## K-means Clustering"
   ],
   "metadata": {}
  },
  {
   "cell_type": "code",
   "execution_count": null,
   "source": [],
   "outputs": [],
   "metadata": {}
  },
  {
   "cell_type": "code",
   "execution_count": null,
   "source": [],
   "outputs": [],
   "metadata": {}
  }
 ],
 "metadata": {
  "orig_nbformat": 4,
  "language_info": {
   "name": "python",
   "version": "3.9.0",
   "mimetype": "text/x-python",
   "codemirror_mode": {
    "name": "ipython",
    "version": 3
   },
   "pygments_lexer": "ipython3",
   "nbconvert_exporter": "python",
   "file_extension": ".py"
  },
  "kernelspec": {
   "name": "python3",
   "display_name": "Python 3.9.0 64-bit"
  },
  "interpreter": {
   "hash": "aee8b7b246df8f9039afb4144a1f6fd8d2ca17a180786b69acc140d282b71a49"
  }
 },
 "nbformat": 4,
 "nbformat_minor": 2
}