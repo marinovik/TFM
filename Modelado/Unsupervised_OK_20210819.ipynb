{
  "nbformat": 4,
  "nbformat_minor": 2,
  "metadata": {
    "colab": {
      "name": "Unsupervised OK 20210819.ipynb",
      "provenance": [],
      "collapsed_sections": []
    },
    "kernelspec": {
      "name": "python3",
      "display_name": "Python 3.9.0 64-bit"
    },
    "language_info": {
      "name": "python",
      "version": "3.9.0",
      "mimetype": "text/x-python",
      "codemirror_mode": {
        "name": "ipython",
        "version": 3
      },
      "pygments_lexer": "ipython3",
      "nbconvert_exporter": "python",
      "file_extension": ".py"
    },
    "interpreter": {
      "hash": "aee8b7b246df8f9039afb4144a1f6fd8d2ca17a180786b69acc140d282b71a49"
    }
  },
  "cells": [
    {
      "cell_type": "code",
      "execution_count": 1,
      "source": [
        "!pip install textblob\n",
        "!pip install vaderSentiment\n",
        "!pip install watson_developer_cloud\n",
        "!pip install ibm_watson"
      ],
      "outputs": [
        {
          "output_type": "stream",
          "name": "stdout",
          "text": [
            "Requirement already satisfied: textblob in /usr/local/lib/python3.7/dist-packages (0.15.3)\n",
            "Requirement already satisfied: nltk>=3.1 in /usr/local/lib/python3.7/dist-packages (from textblob) (3.2.5)\n",
            "Requirement already satisfied: six in /usr/local/lib/python3.7/dist-packages (from nltk>=3.1->textblob) (1.15.0)\n",
            "Collecting vaderSentiment\n",
            "  Downloading vaderSentiment-3.3.2-py2.py3-none-any.whl (125 kB)\n",
            "\u001b[K     |████████████████████████████████| 125 kB 8.8 MB/s \n",
            "\u001b[?25hRequirement already satisfied: requests in /usr/local/lib/python3.7/dist-packages (from vaderSentiment) (2.23.0)\n",
            "Requirement already satisfied: urllib3!=1.25.0,!=1.25.1,<1.26,>=1.21.1 in /usr/local/lib/python3.7/dist-packages (from requests->vaderSentiment) (1.24.3)\n",
            "Requirement already satisfied: chardet<4,>=3.0.2 in /usr/local/lib/python3.7/dist-packages (from requests->vaderSentiment) (3.0.4)\n",
            "Requirement already satisfied: certifi>=2017.4.17 in /usr/local/lib/python3.7/dist-packages (from requests->vaderSentiment) (2021.5.30)\n",
            "Requirement already satisfied: idna<3,>=2.5 in /usr/local/lib/python3.7/dist-packages (from requests->vaderSentiment) (2.10)\n",
            "Installing collected packages: vaderSentiment\n",
            "Successfully installed vaderSentiment-3.3.2\n",
            "Collecting watson_developer_cloud\n",
            "  Downloading watson-developer-cloud-2.10.1.tar.gz (248 kB)\n",
            "\u001b[K     |████████████████████████████████| 248 kB 6.9 MB/s \n",
            "\u001b[?25hRequirement already satisfied: requests<3.0,>=2.0 in /usr/local/lib/python3.7/dist-packages (from watson_developer_cloud) (2.23.0)\n",
            "Requirement already satisfied: python_dateutil>=2.5.3 in /usr/local/lib/python3.7/dist-packages (from watson_developer_cloud) (2.8.2)\n",
            "Collecting websocket-client==0.48.0\n",
            "  Downloading websocket_client-0.48.0-py2.py3-none-any.whl (198 kB)\n",
            "\u001b[K     |████████████████████████████████| 198 kB 63.6 MB/s \n",
            "\u001b[?25hRequirement already satisfied: six in /usr/local/lib/python3.7/dist-packages (from websocket-client==0.48.0->watson_developer_cloud) (1.15.0)\n",
            "Requirement already satisfied: urllib3!=1.25.0,!=1.25.1,<1.26,>=1.21.1 in /usr/local/lib/python3.7/dist-packages (from requests<3.0,>=2.0->watson_developer_cloud) (1.24.3)\n",
            "Requirement already satisfied: idna<3,>=2.5 in /usr/local/lib/python3.7/dist-packages (from requests<3.0,>=2.0->watson_developer_cloud) (2.10)\n",
            "Requirement already satisfied: chardet<4,>=3.0.2 in /usr/local/lib/python3.7/dist-packages (from requests<3.0,>=2.0->watson_developer_cloud) (3.0.4)\n",
            "Requirement already satisfied: certifi>=2017.4.17 in /usr/local/lib/python3.7/dist-packages (from requests<3.0,>=2.0->watson_developer_cloud) (2021.5.30)\n",
            "Building wheels for collected packages: watson-developer-cloud\n",
            "  Building wheel for watson-developer-cloud (setup.py) ... \u001b[?25l\u001b[?25hdone\n",
            "  Created wheel for watson-developer-cloud: filename=watson_developer_cloud-2.10.1-py3-none-any.whl size=252821 sha256=27570ecf1cd3a07bb9ed8b1de0a0aa9ab737ece46218606ae852d383fd29d99f\n",
            "  Stored in directory: /root/.cache/pip/wheels/45/68/30/690e59503415433f536c00ef66656a1aa045e927a2ad6ab7fc\n",
            "Successfully built watson-developer-cloud\n",
            "Installing collected packages: websocket-client, watson-developer-cloud\n",
            "Successfully installed watson-developer-cloud-2.10.1 websocket-client-0.48.0\n",
            "Collecting ibm_watson\n",
            "  Downloading ibm-watson-5.2.2.tar.gz (407 kB)\n",
            "\u001b[K     |████████████████████████████████| 407 kB 6.8 MB/s \n",
            "\u001b[?25h  Installing build dependencies ... \u001b[?25l\u001b[?25hdone\n",
            "  Getting requirements to build wheel ... \u001b[?25l\u001b[?25hdone\n",
            "    Preparing wheel metadata ... \u001b[?25l\u001b[?25hdone\n",
            "Requirement already satisfied: requests<3.0,>=2.0 in /usr/local/lib/python3.7/dist-packages (from ibm_watson) (2.23.0)\n",
            "Collecting ibm-cloud-sdk-core==3.*,>=3.3.6\n",
            "  Downloading ibm-cloud-sdk-core-3.11.1.tar.gz (44 kB)\n",
            "\u001b[K     |████████████████████████████████| 44 kB 3.0 MB/s \n",
            "\u001b[?25hRequirement already satisfied: python-dateutil>=2.5.3 in /usr/local/lib/python3.7/dist-packages (from ibm_watson) (2.8.2)\n",
            "Collecting websocket-client==1.1.0\n",
            "  Downloading websocket_client-1.1.0-py2.py3-none-any.whl (68 kB)\n",
            "\u001b[K     |████████████████████████████████| 68 kB 6.9 MB/s \n",
            "\u001b[?25hCollecting PyJWT<3.0.0,>=2.0.1\n",
            "  Downloading PyJWT-2.1.0-py3-none-any.whl (16 kB)\n",
            "Requirement already satisfied: six>=1.5 in /usr/local/lib/python3.7/dist-packages (from python-dateutil>=2.5.3->ibm_watson) (1.15.0)\n",
            "Requirement already satisfied: chardet<4,>=3.0.2 in /usr/local/lib/python3.7/dist-packages (from requests<3.0,>=2.0->ibm_watson) (3.0.4)\n",
            "Requirement already satisfied: idna<3,>=2.5 in /usr/local/lib/python3.7/dist-packages (from requests<3.0,>=2.0->ibm_watson) (2.10)\n",
            "Requirement already satisfied: urllib3!=1.25.0,!=1.25.1,<1.26,>=1.21.1 in /usr/local/lib/python3.7/dist-packages (from requests<3.0,>=2.0->ibm_watson) (1.24.3)\n",
            "Requirement already satisfied: certifi>=2017.4.17 in /usr/local/lib/python3.7/dist-packages (from requests<3.0,>=2.0->ibm_watson) (2021.5.30)\n",
            "Building wheels for collected packages: ibm-watson, ibm-cloud-sdk-core\n",
            "  Building wheel for ibm-watson (PEP 517) ... \u001b[?25l\u001b[?25hdone\n",
            "  Created wheel for ibm-watson: filename=ibm_watson-5.2.2-py3-none-any.whl size=403388 sha256=3700e06f49ff5460401489b9bceefa0866562d111154494977d9f32ef1232775\n",
            "  Stored in directory: /root/.cache/pip/wheels/64/af/0b/1f0f7f72a47e98ebbd1119568cca47e480969ef9dd688c70d6\n",
            "  Building wheel for ibm-cloud-sdk-core (setup.py) ... \u001b[?25l\u001b[?25hdone\n",
            "  Created wheel for ibm-cloud-sdk-core: filename=ibm_cloud_sdk_core-3.11.1-py3-none-any.whl size=74365 sha256=52f42e832b05ef876d02f2d807635bba69d1e102451c03de45a27163753a1091\n",
            "  Stored in directory: /root/.cache/pip/wheels/3c/3d/34/730b17e7f5bc6d6fe88814410d2740c3461470d47fe49149b3\n",
            "Successfully built ibm-watson ibm-cloud-sdk-core\n",
            "Installing collected packages: PyJWT, websocket-client, ibm-cloud-sdk-core, ibm-watson\n",
            "  Attempting uninstall: websocket-client\n",
            "    Found existing installation: websocket-client 0.48.0\n",
            "    Uninstalling websocket-client-0.48.0:\n",
            "      Successfully uninstalled websocket-client-0.48.0\n",
            "\u001b[31mERROR: pip's dependency resolver does not currently take into account all the packages that are installed. This behaviour is the source of the following dependency conflicts.\n",
            "watson-developer-cloud 2.10.1 requires websocket-client==0.48.0, but you have websocket-client 1.1.0 which is incompatible.\u001b[0m\n",
            "Successfully installed PyJWT-2.1.0 ibm-cloud-sdk-core-3.11.1 ibm-watson-5.2.2 websocket-client-1.1.0\n"
          ]
        }
      ],
      "metadata": {
        "colab": {
          "base_uri": "https://localhost:8080/"
        },
        "id": "8TR2uvbR2wfV",
        "outputId": "c04a4149-9687-4017-dd7c-c75176f3ae45"
      }
    },
    {
      "cell_type": "markdown",
      "source": [
        "### A. TEXTLOB\n",
        "\n",
        "Prueba con la librería TextLob y varios tweets o textos inventados. Esta librería admite str y nos devuelve un valor entre -1 y 1 indicando el grado de positividad del tweet."
      ],
      "metadata": {
        "id": "IJApPwhyqT3F"
      }
    },
    {
      "cell_type": "code",
      "execution_count": 3,
      "source": [
        "from textblob import TextBlob\n",
        "\n",
        "\n",
        "def get_textBlob_score(sent):\n",
        "    # This polarity score is between -1 to 1\n",
        "    polarity = TextBlob(sent).sentiment.polarity\n",
        "    return polarity\n",
        "\n",
        "\n",
        "print(get_textBlob_score(\"This thing is super cool!\"))\n",
        "print(get_textBlob_score(\"This thing is super cool!!\"))\n",
        "print(get_textBlob_score(\"This thing is super cool!!!\"))"
      ],
      "outputs": [
        {
          "output_type": "stream",
          "name": "stdout",
          "text": [
            "0.38541666666666663\n",
            "0.44010416666666663\n",
            "0.5084635416666666\n"
          ]
        }
      ],
      "metadata": {
        "colab": {
          "base_uri": "https://localhost:8080/"
        },
        "id": "y2h8afIN2dM1",
        "outputId": "90b446db-9fe5-47e7-dc03-f4a79cf6d5c8"
      }
    },
    {
      "cell_type": "markdown",
      "source": [
        "### B. VADER\n",
        "\n",
        "Prueba con la librería Vader y varios tweets o textos inventados. Esta librería admite str y nos devuelve cuadro valores todos entre 0 y 1 salvo el compuesto, que indica el grado final de posivitividad del tweet en la escala de -1 a 1: \n",
        "- Porcentaje de negatividad en el tweet.\n",
        "- Porcentaje de neutralidad.\n",
        "- Porcentaje de positividad.\n",
        "- Compound: Mezclando los tres valores anteriores, da un grado de positividad del tweet en la escala de -1 a 1.\n",
        "\n",
        "Una de las ventajas de esta librería es que también analiza el sentimiento de los emoji."
      ],
      "metadata": {
        "id": "cMekRz063s-8"
      }
    },
    {
      "cell_type": "code",
      "execution_count": null,
      "source": [
        "import numpy as np\n",
        "import pandas as pd\n",
        "from vaderSentiment.vaderSentiment import SentimentIntensityAnalyzer\n",
        "\n",
        "analyser = SentimentIntensityAnalyzer()\n",
        "\n",
        "\n",
        "def sentiment_analyzer_scores(sentence):\n",
        "    score = analyser.polarity_scores(sentence)\n",
        "    print(\"{:-<40} {}\".format(sentence, str(score)))\n",
        "\n",
        "\n",
        "sentiment_analyzer_scores(\"This thing is not that bad\")\n",
        "\n",
        "# El tema de las exclamaciones influye:\n",
        "sentiment_analyzer_scores(\"This thing is super cool!\")\n",
        "sentiment_analyzer_scores(\"This thing is super cool!!\")\n",
        "sentiment_analyzer_scores(\"This thing is super cool!!!\")\n",
        "\n",
        "# Más pruebas\n",
        "sentiment_analyzer_scores(\"Food here is good.\")\n",
        "sentiment_analyzer_scores(\"Food here is horrible.\")\n",
        "sentiment_analyzer_scores(\"Food here is extremely good.\")\n",
        "\n",
        "# Frases compuestas\n",
        "sentiment_analyzer_scores(\"Food here is extremely good but service is horrible.\")\n",
        "\n",
        "# Emotis\n",
        "print(sentiment_analyzer_scores('I was 😄 yesterday, but today is a horrible day'))\n",
        "print(sentiment_analyzer_scores('😊'))\n",
        "print(sentiment_analyzer_scores('😥'))\n",
        "print(sentiment_analyzer_scores('☹️'))\n",
        "print(sentiment_analyzer_scores(\"Make sure you :) or :D today!\"))\n",
        "\n",
        "# Slangs\n",
        "print(sentiment_analyzer_scores(\"Today SUX!\"))\n",
        "print(sentiment_analyzer_scores(\"Today only kinda sux! But I'll get by, lol\"))"
      ],
      "outputs": [
        {
          "output_type": "stream",
          "name": "stdout",
          "text": [
            "This thing is not that bad-------------- {'neg': 0.0, 'neu': 0.637, 'pos': 0.363, 'compound': 0.431}\n",
            "This thing is super cool!--------------- {'neg': 0.0, 'neu': 0.316, 'pos': 0.684, 'compound': 0.7574}\n",
            "This thing is super cool!!-------------- {'neg': 0.0, 'neu': 0.307, 'pos': 0.693, 'compound': 0.7772}\n",
            "This thing is super cool!!!------------- {'neg': 0.0, 'neu': 0.298, 'pos': 0.702, 'compound': 0.795}\n",
            "Food here is good.---------------------- {'neg': 0.0, 'neu': 0.508, 'pos': 0.492, 'compound': 0.4404}\n",
            "Food here is horrible.------------------ {'neg': 0.538, 'neu': 0.462, 'pos': 0.0, 'compound': -0.5423}\n",
            "Food here is extremely good.------------ {'neg': 0.0, 'neu': 0.556, 'pos': 0.444, 'compound': 0.4927}\n",
            "Food here is extremely good but service is horrible. {'neg': 0.343, 'neu': 0.506, 'pos': 0.151, 'compound': -0.5652}\n",
            "I was 😄 yesterday, but today is a horrible day {'neg': 0.244, 'neu': 0.564, 'pos': 0.192, 'compound': -0.4588}\n",
            "None\n",
            "😊--------------------------------------- {'neg': 0.0, 'neu': 0.333, 'pos': 0.667, 'compound': 0.7184}\n",
            "None\n",
            "😥--------------------------------------- {'neg': 0.275, 'neu': 0.268, 'pos': 0.456, 'compound': 0.3291}\n",
            "None\n",
            "☹️-------------------------------------- {'neg': 0.706, 'neu': 0.294, 'pos': 0.0, 'compound': -0.34}\n",
            "None\n",
            "Make sure you :) or :D today!----------- {'neg': 0.0, 'neu': 0.294, 'pos': 0.706, 'compound': 0.8633}\n",
            "None\n",
            "Today SUX!------------------------------ {'neg': 0.779, 'neu': 0.221, 'pos': 0.0, 'compound': -0.5461}\n",
            "None\n",
            "Today only kinda sux! But I'll get by, lol {'neg': 0.127, 'neu': 0.556, 'pos': 0.317, 'compound': 0.5249}\n",
            "None\n"
          ]
        }
      ],
      "metadata": {
        "id": "62SorONb26kw",
        "colab": {
          "base_uri": "https://localhost:8080/"
        },
        "outputId": "bb9c9246-9389-459e-b945-9d33020c6b26"
      }
    },
    {
      "cell_type": "markdown",
      "source": [
        "### 3. IBM WATSON\n",
        "\n",
        "Prueba con la librería IBM y varios tweets o textos inventados. Esta librería admite str y nos devuelve un valor entre -1 y 1 indicando el grado de positividad del tweet.\n",
        "\n",
        "Con esta librería hay que tener cuidado porque si el texto no está en el lenguaje indicado (Inglés en este cas) no funciona y lanza un ApiException.\n",
        "\n",
        "Lo bueno de esta librería es que también nos facilita una variable que sirve para el topic modelling."
      ],
      "metadata": {
        "id": "FUE1ln2J6OQE"
      }
    },
    {
      "cell_type": "code",
      "execution_count": 31,
      "source": [
        "pip install --upgrade \"ibm-watson>=5.1.0\""
      ],
      "outputs": [
        {
          "output_type": "stream",
          "name": "stdout",
          "text": [
            "Requirement already satisfied: ibm-watson>=5.1.0 in /usr/local/lib/python3.7/dist-packages (5.2.2)\n",
            "Requirement already satisfied: python-dateutil>=2.5.3 in /usr/local/lib/python3.7/dist-packages (from ibm-watson>=5.1.0) (2.8.2)\n",
            "Requirement already satisfied: websocket-client==1.1.0 in /usr/local/lib/python3.7/dist-packages (from ibm-watson>=5.1.0) (1.1.0)\n",
            "Requirement already satisfied: requests<3.0,>=2.0 in /usr/local/lib/python3.7/dist-packages (from ibm-watson>=5.1.0) (2.23.0)\n",
            "Requirement already satisfied: ibm-cloud-sdk-core==3.*,>=3.3.6 in /usr/local/lib/python3.7/dist-packages (from ibm-watson>=5.1.0) (3.11.1)\n",
            "Requirement already satisfied: PyJWT<3.0.0,>=2.0.1 in /usr/local/lib/python3.7/dist-packages (from ibm-cloud-sdk-core==3.*,>=3.3.6->ibm-watson>=5.1.0) (2.1.0)\n",
            "Requirement already satisfied: six>=1.5 in /usr/local/lib/python3.7/dist-packages (from python-dateutil>=2.5.3->ibm-watson>=5.1.0) (1.15.0)\n",
            "Requirement already satisfied: certifi>=2017.4.17 in /usr/local/lib/python3.7/dist-packages (from requests<3.0,>=2.0->ibm-watson>=5.1.0) (2021.5.30)\n",
            "Requirement already satisfied: chardet<4,>=3.0.2 in /usr/local/lib/python3.7/dist-packages (from requests<3.0,>=2.0->ibm-watson>=5.1.0) (3.0.4)\n",
            "Requirement already satisfied: urllib3!=1.25.0,!=1.25.1,<1.26,>=1.21.1 in /usr/local/lib/python3.7/dist-packages (from requests<3.0,>=2.0->ibm-watson>=5.1.0) (1.24.3)\n",
            "Requirement already satisfied: idna<3,>=2.5 in /usr/local/lib/python3.7/dist-packages (from requests<3.0,>=2.0->ibm-watson>=5.1.0) (2.10)\n"
          ]
        }
      ],
      "metadata": {
        "id": "uF6sb0ZJZBXU",
        "colab": {
          "base_uri": "https://localhost:8080/"
        },
        "outputId": "49e5dbe5-e1d1-46d6-bbf2-461602e536ec"
      }
    },
    {
      "cell_type": "code",
      "execution_count": 16,
      "source": [
        "nlu_apikey = \"-AqVH2-6FPhc1fTcVHf9WHQXok1CCHul044GKRgQMi_a\"\n",
        "nlu_url = \"https://api.au-syd.natural-language-understanding.watson.cloud.ibm.com/instances/07732151-0ad7-45f7-af60-85562116af50\""
      ],
      "outputs": [],
      "metadata": {
        "id": "dqSP3wArY_WW"
      }
    },
    {
      "cell_type": "code",
      "execution_count": 17,
      "source": [
        "import json\n",
        "from ibm_watson import NaturalLanguageUnderstandingV1\n",
        "from ibm_cloud_sdk_core.authenticators import IAMAuthenticator\n",
        "from ibm_watson.natural_language_understanding_v1 import Features, CategoriesOptions, ConceptsOptions, EmotionOptions, EntitiesOptions, KeywordsOptions, RelationsOptions, SentimentOptions\n",
        "\n",
        "authenticator = IAMAuthenticator(nlu_apikey)\n",
        "natural_language_undestanding = NaturalLanguageUnderstandingV1(\n",
        "    version = '2020-08-01', \n",
        "    authenticator = authenticator\n",
        ")\n",
        "natural_language_undestanding.set_service_url(nlu_url)"
      ],
      "outputs": [],
      "metadata": {
        "id": "k_sju9YkY9dg"
      }
    },
    {
      "cell_type": "code",
      "execution_count": 22,
      "source": [
        "# No me funciona\n",
        "texto = \"I am very happy\"\n",
        "response = natural_language_undestanding.analyze(text=texto, features=Features(keywords=KeywordsOptions(), \n",
        "                                                              entities=EntitiesOptions(), \n",
        "                                                              categories=CategoriesOptions(),\n",
        "                                                              emotion=EmotionOptions(),\n",
        "                                                              sentiment=SentimentOptions())).get_result()\n",
        "\n",
        "\n",
        "# print(json.dumps(response, indent=2))\n",
        "# print(response)\n",
        "# print(\"- Compound:\", response['sentiment']['document']['score']) # compound\n",
        "# print(\"- Label:\",response['sentiment']['document']['label']) # label\n",
        "# # print(\"- keywords: \", response['keywords'][0]['text'],\",\",response['keywords'][1]['text'])\n",
        "# print(\"- entities: \", response['entities'] )\n",
        "# print(\"- emotion:\", response['emotion'])\n",
        "# print(\"- Categories: \", response['categories']) # TOPIC MODELLING"
      ],
      "outputs": [
        {
          "output_type": "error",
          "ename": "ApiException",
          "evalue": "ignored",
          "traceback": [
            "\u001b[0;31m---------------------------------------------------------------------------\u001b[0m",
            "\u001b[0;31mApiException\u001b[0m                              Traceback (most recent call last)",
            "\u001b[0;32m<ipython-input-22-ab49a40c794f>\u001b[0m in \u001b[0;36m<module>\u001b[0;34m()\u001b[0m\n\u001b[1;32m      4\u001b[0m                                                               \u001b[0mcategories\u001b[0m\u001b[0;34m=\u001b[0m\u001b[0mCategoriesOptions\u001b[0m\u001b[0;34m(\u001b[0m\u001b[0;34m)\u001b[0m\u001b[0;34m,\u001b[0m\u001b[0;34m\u001b[0m\u001b[0;34m\u001b[0m\u001b[0m\n\u001b[1;32m      5\u001b[0m                                                               \u001b[0memotion\u001b[0m\u001b[0;34m=\u001b[0m\u001b[0mEmotionOptions\u001b[0m\u001b[0;34m(\u001b[0m\u001b[0;34m)\u001b[0m\u001b[0;34m,\u001b[0m\u001b[0;34m\u001b[0m\u001b[0;34m\u001b[0m\u001b[0m\n\u001b[0;32m----> 6\u001b[0;31m                                                               sentiment=SentimentOptions())).get_result()['sentiment']['document']['score']\n\u001b[0m\u001b[1;32m      7\u001b[0m \u001b[0;34m\u001b[0m\u001b[0m\n\u001b[1;32m      8\u001b[0m \u001b[0;34m\u001b[0m\u001b[0m\n",
            "\u001b[0;32m/usr/local/lib/python3.7/dist-packages/ibm_watson/natural_language_understanding_v1.py\u001b[0m in \u001b[0;36manalyze\u001b[0;34m(self, features, text, html, url, clean, xpath, fallback_to_raw, return_analyzed_text, language, limit_text_characters, **kwargs)\u001b[0m\n\u001b[1;32m    183\u001b[0m                                        data=data)\n\u001b[1;32m    184\u001b[0m \u001b[0;34m\u001b[0m\u001b[0m\n\u001b[0;32m--> 185\u001b[0;31m         \u001b[0mresponse\u001b[0m \u001b[0;34m=\u001b[0m \u001b[0mself\u001b[0m\u001b[0;34m.\u001b[0m\u001b[0msend\u001b[0m\u001b[0;34m(\u001b[0m\u001b[0mrequest\u001b[0m\u001b[0;34m)\u001b[0m\u001b[0;34m\u001b[0m\u001b[0;34m\u001b[0m\u001b[0m\n\u001b[0m\u001b[1;32m    186\u001b[0m         \u001b[0;32mreturn\u001b[0m \u001b[0mresponse\u001b[0m\u001b[0;34m\u001b[0m\u001b[0;34m\u001b[0m\u001b[0m\n\u001b[1;32m    187\u001b[0m \u001b[0;34m\u001b[0m\u001b[0m\n",
            "\u001b[0;32m/usr/local/lib/python3.7/dist-packages/ibm_cloud_sdk_core/base_service.py\u001b[0m in \u001b[0;36msend\u001b[0;34m(self, request, **kwargs)\u001b[0m\n\u001b[1;32m    306\u001b[0m                                         status_code=response.status_code)\n\u001b[1;32m    307\u001b[0m \u001b[0;34m\u001b[0m\u001b[0m\n\u001b[0;32m--> 308\u001b[0;31m             \u001b[0;32mraise\u001b[0m \u001b[0mApiException\u001b[0m\u001b[0;34m(\u001b[0m\u001b[0mresponse\u001b[0m\u001b[0;34m.\u001b[0m\u001b[0mstatus_code\u001b[0m\u001b[0;34m,\u001b[0m \u001b[0mhttp_response\u001b[0m\u001b[0;34m=\u001b[0m\u001b[0mresponse\u001b[0m\u001b[0;34m)\u001b[0m\u001b[0;34m\u001b[0m\u001b[0;34m\u001b[0m\u001b[0m\n\u001b[0m\u001b[1;32m    309\u001b[0m         \u001b[0;32mexcept\u001b[0m \u001b[0mrequests\u001b[0m\u001b[0;34m.\u001b[0m\u001b[0mexceptions\u001b[0m\u001b[0;34m.\u001b[0m\u001b[0mSSLError\u001b[0m\u001b[0;34m:\u001b[0m\u001b[0;34m\u001b[0m\u001b[0;34m\u001b[0m\u001b[0m\n\u001b[1;32m    310\u001b[0m             \u001b[0mlogging\u001b[0m\u001b[0;34m.\u001b[0m\u001b[0mexception\u001b[0m\u001b[0;34m(\u001b[0m\u001b[0mself\u001b[0m\u001b[0;34m.\u001b[0m\u001b[0mERROR_MSG_DISABLE_SSL\u001b[0m\u001b[0;34m)\u001b[0m\u001b[0;34m\u001b[0m\u001b[0;34m\u001b[0m\u001b[0m\n",
            "\u001b[0;31mApiException\u001b[0m: Error: Forbidden, Code: 403 , X-global-transaction-id: b039064b-57ea-46a1-bec2-e33bde79c643"
          ]
        }
      ],
      "metadata": {
        "id": "ADBOft5QY6ob",
        "colab": {
          "base_uri": "https://localhost:8080/",
          "height": 392
        },
        "outputId": "e041fe46-8e0e-4c38-ea54-4151dfc3bfc1"
      }
    },
    {
      "cell_type": "markdown",
      "source": [
        "### FINAL\n",
        "\n",
        "Creamos tres funciones que devuelven el sentimiento en base a cada una de las librerías descritas anteriormente. Después creamos una función que calcula la media ponderada de las tres variables (POR HACER) y definimos las nuevas variables que incorporaremos al df. \n",
        "\n",
        "De esta forma, obtendremos un sentimiento del tweet más preciso (a traves de la media)."
      ],
      "metadata": {
        "id": "q60M6KFrs5PU"
      }
    },
    {
      "cell_type": "code",
      "execution_count": 23,
      "source": [
        "# Funcion de IBM WATSON\n",
        "def sentiment_ibm(sentence):\n",
        "  try: \n",
        "    aux = natural_language_undestanding.analyze(text=sentence, features=Features(keywords=KeywordsOptions(), \n",
        "                                                                entities=EntitiesOptions(), \n",
        "                                                                categories=CategoriesOptions(),\n",
        "                                                                emotion=EmotionOptions(),\n",
        "                                                                sentiment=SentimentOptions())).get_result()['sentiment']['document']['score']\n",
        "    return float(aux)\n",
        "  \n",
        "  except:\n",
        "    return 9999"
      ],
      "outputs": [],
      "metadata": {
        "id": "CyAsUeXsGBBN"
      }
    },
    {
      "cell_type": "code",
      "execution_count": 24,
      "source": [
        "# Función de TEXTBLOB\n",
        "def sentiment_textblob(sentence):\n",
        "  return (get_textBlob_score(sentence))"
      ],
      "outputs": [],
      "metadata": {
        "id": "YsaTm6jA61bs"
      }
    },
    {
      "cell_type": "code",
      "execution_count": 25,
      "source": [
        "# Función de VADER\n",
        "def sentiment_vader(sentence):\n",
        "  return (float(analyser.polarity_scores(sentence)['compound']))"
      ],
      "outputs": [],
      "metadata": {
        "id": "cc2g3elx7H3j"
      }
    },
    {
      "cell_type": "code",
      "execution_count": 26,
      "source": [
        "# Función que hace la media ponderada\n",
        "def media(num1,num2,num3):\n",
        "  \n",
        "  a = 1/3\n",
        "  b = 1/3\n",
        "  c = 1/3\n",
        "\n",
        "  m = a*float(num1) + b*float(num2) + c*float(num3)\n",
        "\n",
        "  return m"
      ],
      "outputs": [],
      "metadata": {
        "id": "MsK8YCartO29"
      }
    },
    {
      "cell_type": "markdown",
      "source": [
        "## Lectura del dataset"
      ],
      "metadata": {
        "id": "-8dmlC1LOG0i"
      }
    },
    {
      "cell_type": "code",
      "execution_count": 29,
      "source": [
        "# Lectura del dataset\n",
        "df = pd.read_excel(\"./extraccion_uber_completa_SIN_DUPLICADOS.xlsx\")"
      ],
      "outputs": [],
      "metadata": {
        "id": "jONPzL1wnZ9p"
      }
    },
    {
      "cell_type": "markdown",
      "source": [
        "## Generación de variable output con librería VADER,  TEXTBLOB e IBM\n"
      ],
      "metadata": {
        "id": "HGuhaYOWKKyf"
      }
    },
    {
      "cell_type": "code",
      "execution_count": null,
      "source": [
        "df['possitivity_textblob'] = df['text'].apply(lambda x: sentiment_textblob(x))\n",
        "df['possitivity_vader'] = df['text'].apply(lambda x: sentiment_vader(x))\n",
        "df['possitivity_ibm'] = df['text'].apply(lambda x: sentiment_ibm(x))"
      ],
      "outputs": [],
      "metadata": {
        "id": "e1MeC137KAxl"
      }
    },
    {
      "cell_type": "code",
      "execution_count": null,
      "source": [
        "# Guardamos el fichero con las variables creadas\n",
        "df.to_csv('data-unsupervised-sentiment-20210819.csv')"
      ],
      "outputs": [],
      "metadata": {
        "id": "uegR7rZEhuXx"
      }
    },
    {
      "cell_type": "code",
      "execution_count": 4,
      "source": [
        "# Abrimos el fichero anterior de la carpeta\n",
        "df = pd.read_csv(\"../Procesamiento_Datos/data-unsupervised-sentiment-20210819.csv\")"
      ],
      "outputs": [],
      "metadata": {
        "id": "6oJcgRL5uX-9"
      }
    },
    {
      "cell_type": "code",
      "execution_count": 75,
      "source": [
        "df[[\"text\",\"possitivity_textblob\", \"possitivity_vader\", 'possitivity_ibm']]"
      ],
      "outputs": [
        {
          "output_type": "execute_result",
          "data": {
            "text/plain": [
              "                                                   text  ...  possitivity_ibm\n",
              "0     @Uber_Support hi guys why all my trips this we...  ...        -0.912398\n",
              "1     So are we getting Uber eats league 1 or not @S...  ...         0.000000\n",
              "2     @footballdaily 2-3 years of Messi, a bit of ca...  ...        -0.807459\n",
              "3     @Prashan32439454 @Uber_Support @rameshjoshi80 ...  ...         0.863584\n",
              "4     Uber's Gopuff partnership, Drizly deal being p...  ...        -0.788377\n",
              "...                                                 ...  ...              ...\n",
              "7922  Over 3,800 rides in over 3.5 years one blown t...  ...        -0.911314\n",
              "7923  @CoolABADev obviously i will want Messi to suc...  ...        -0.759793\n",
              "7924  @catekitchen Shit, that’s absolutely a crap si...  ...        -0.988080\n",
              "7925  Simply don’t take a Uber then dumb ass https:/...  ...        -0.971243\n",
              "7926  Uber, Lyft prices keep climbing to new highs, ...  ...         0.000000\n",
              "\n",
              "[7927 rows x 4 columns]"
            ],
            "text/html": [
              "<div>\n",
              "<style scoped>\n",
              "    .dataframe tbody tr th:only-of-type {\n",
              "        vertical-align: middle;\n",
              "    }\n",
              "\n",
              "    .dataframe tbody tr th {\n",
              "        vertical-align: top;\n",
              "    }\n",
              "\n",
              "    .dataframe thead th {\n",
              "        text-align: right;\n",
              "    }\n",
              "</style>\n",
              "<table border=\"1\" class=\"dataframe\">\n",
              "  <thead>\n",
              "    <tr style=\"text-align: right;\">\n",
              "      <th></th>\n",
              "      <th>text</th>\n",
              "      <th>possitivity_textblob</th>\n",
              "      <th>possitivity_vader</th>\n",
              "      <th>possitivity_ibm</th>\n",
              "    </tr>\n",
              "  </thead>\n",
              "  <tbody>\n",
              "    <tr>\n",
              "      <th>0</th>\n",
              "      <td>@Uber_Support hi guys why all my trips this we...</td>\n",
              "      <td>0.000000</td>\n",
              "      <td>0.0000</td>\n",
              "      <td>-0.912398</td>\n",
              "    </tr>\n",
              "    <tr>\n",
              "      <th>1</th>\n",
              "      <td>So are we getting Uber eats league 1 or not @S...</td>\n",
              "      <td>0.000000</td>\n",
              "      <td>0.0000</td>\n",
              "      <td>0.000000</td>\n",
              "    </tr>\n",
              "    <tr>\n",
              "      <th>2</th>\n",
              "      <td>@footballdaily 2-3 years of Messi, a bit of ca...</td>\n",
              "      <td>-0.333333</td>\n",
              "      <td>0.5859</td>\n",
              "      <td>-0.807459</td>\n",
              "    </tr>\n",
              "    <tr>\n",
              "      <th>3</th>\n",
              "      <td>@Prashan32439454 @Uber_Support @rameshjoshi80 ...</td>\n",
              "      <td>0.455000</td>\n",
              "      <td>0.4754</td>\n",
              "      <td>0.863584</td>\n",
              "    </tr>\n",
              "    <tr>\n",
              "      <th>4</th>\n",
              "      <td>Uber's Gopuff partnership, Drizly deal being p...</td>\n",
              "      <td>0.000000</td>\n",
              "      <td>0.0000</td>\n",
              "      <td>-0.788377</td>\n",
              "    </tr>\n",
              "    <tr>\n",
              "      <th>...</th>\n",
              "      <td>...</td>\n",
              "      <td>...</td>\n",
              "      <td>...</td>\n",
              "      <td>...</td>\n",
              "    </tr>\n",
              "    <tr>\n",
              "      <th>7922</th>\n",
              "      <td>Over 3,800 rides in over 3.5 years one blown t...</td>\n",
              "      <td>0.000000</td>\n",
              "      <td>0.4898</td>\n",
              "      <td>-0.911314</td>\n",
              "    </tr>\n",
              "    <tr>\n",
              "      <th>7923</th>\n",
              "      <td>@CoolABADev obviously i will want Messi to suc...</td>\n",
              "      <td>0.114286</td>\n",
              "      <td>-0.0333</td>\n",
              "      <td>-0.759793</td>\n",
              "    </tr>\n",
              "    <tr>\n",
              "      <th>7924</th>\n",
              "      <td>@catekitchen Shit, that’s absolutely a crap si...</td>\n",
              "      <td>-0.250000</td>\n",
              "      <td>-0.7086</td>\n",
              "      <td>-0.988080</td>\n",
              "    </tr>\n",
              "    <tr>\n",
              "      <th>7925</th>\n",
              "      <td>Simply don’t take a Uber then dumb ass https:/...</td>\n",
              "      <td>-0.187500</td>\n",
              "      <td>-0.8096</td>\n",
              "      <td>-0.971243</td>\n",
              "    </tr>\n",
              "    <tr>\n",
              "      <th>7926</th>\n",
              "      <td>Uber, Lyft prices keep climbing to new highs, ...</td>\n",
              "      <td>0.136364</td>\n",
              "      <td>0.0000</td>\n",
              "      <td>0.000000</td>\n",
              "    </tr>\n",
              "  </tbody>\n",
              "</table>\n",
              "<p>7927 rows × 4 columns</p>\n",
              "</div>"
            ]
          },
          "metadata": {},
          "execution_count": 75
        }
      ],
      "metadata": {
        "id": "hrDvSVRNpmqo",
        "colab": {
          "base_uri": "https://localhost:8080/",
          "height": 419
        },
        "outputId": "1582e201-c854-4d67-f0cd-0cd518a93178"
      }
    },
    {
      "cell_type": "code",
      "execution_count": 76,
      "source": [
        "import numpy as np\n",
        "variables = ['possitivity_textblob','possitivity_vader','possitivity_ibm']\n",
        "df['sentiment_mean'] = df[variables].apply(np.mean, axis=1)\n",
        "df[[\"text\",\"sentiment_mean\", \"possitivity_textblob\", \"possitivity_vader\", 'possitivity_ibm']]"
      ],
      "outputs": [
        {
          "output_type": "execute_result",
          "data": {
            "text/plain": [
              "                                                   text  ...  possitivity_ibm\n",
              "0     @Uber_Support hi guys why all my trips this we...  ...        -0.912398\n",
              "1     So are we getting Uber eats league 1 or not @S...  ...         0.000000\n",
              "2     @footballdaily 2-3 years of Messi, a bit of ca...  ...        -0.807459\n",
              "3     @Prashan32439454 @Uber_Support @rameshjoshi80 ...  ...         0.863584\n",
              "4     Uber's Gopuff partnership, Drizly deal being p...  ...        -0.788377\n",
              "...                                                 ...  ...              ...\n",
              "7922  Over 3,800 rides in over 3.5 years one blown t...  ...        -0.911314\n",
              "7923  @CoolABADev obviously i will want Messi to suc...  ...        -0.759793\n",
              "7924  @catekitchen Shit, that’s absolutely a crap si...  ...        -0.988080\n",
              "7925  Simply don’t take a Uber then dumb ass https:/...  ...        -0.971243\n",
              "7926  Uber, Lyft prices keep climbing to new highs, ...  ...         0.000000\n",
              "\n",
              "[7927 rows x 5 columns]"
            ],
            "text/html": [
              "<div>\n",
              "<style scoped>\n",
              "    .dataframe tbody tr th:only-of-type {\n",
              "        vertical-align: middle;\n",
              "    }\n",
              "\n",
              "    .dataframe tbody tr th {\n",
              "        vertical-align: top;\n",
              "    }\n",
              "\n",
              "    .dataframe thead th {\n",
              "        text-align: right;\n",
              "    }\n",
              "</style>\n",
              "<table border=\"1\" class=\"dataframe\">\n",
              "  <thead>\n",
              "    <tr style=\"text-align: right;\">\n",
              "      <th></th>\n",
              "      <th>text</th>\n",
              "      <th>sentiment_mean</th>\n",
              "      <th>possitivity_textblob</th>\n",
              "      <th>possitivity_vader</th>\n",
              "      <th>possitivity_ibm</th>\n",
              "    </tr>\n",
              "  </thead>\n",
              "  <tbody>\n",
              "    <tr>\n",
              "      <th>0</th>\n",
              "      <td>@Uber_Support hi guys why all my trips this we...</td>\n",
              "      <td>-0.304133</td>\n",
              "      <td>0.000000</td>\n",
              "      <td>0.0000</td>\n",
              "      <td>-0.912398</td>\n",
              "    </tr>\n",
              "    <tr>\n",
              "      <th>1</th>\n",
              "      <td>So are we getting Uber eats league 1 or not @S...</td>\n",
              "      <td>0.000000</td>\n",
              "      <td>0.000000</td>\n",
              "      <td>0.0000</td>\n",
              "      <td>0.000000</td>\n",
              "    </tr>\n",
              "    <tr>\n",
              "      <th>2</th>\n",
              "      <td>@footballdaily 2-3 years of Messi, a bit of ca...</td>\n",
              "      <td>-0.184964</td>\n",
              "      <td>-0.333333</td>\n",
              "      <td>0.5859</td>\n",
              "      <td>-0.807459</td>\n",
              "    </tr>\n",
              "    <tr>\n",
              "      <th>3</th>\n",
              "      <td>@Prashan32439454 @Uber_Support @rameshjoshi80 ...</td>\n",
              "      <td>0.597995</td>\n",
              "      <td>0.455000</td>\n",
              "      <td>0.4754</td>\n",
              "      <td>0.863584</td>\n",
              "    </tr>\n",
              "    <tr>\n",
              "      <th>4</th>\n",
              "      <td>Uber's Gopuff partnership, Drizly deal being p...</td>\n",
              "      <td>-0.262792</td>\n",
              "      <td>0.000000</td>\n",
              "      <td>0.0000</td>\n",
              "      <td>-0.788377</td>\n",
              "    </tr>\n",
              "    <tr>\n",
              "      <th>...</th>\n",
              "      <td>...</td>\n",
              "      <td>...</td>\n",
              "      <td>...</td>\n",
              "      <td>...</td>\n",
              "      <td>...</td>\n",
              "    </tr>\n",
              "    <tr>\n",
              "      <th>7922</th>\n",
              "      <td>Over 3,800 rides in over 3.5 years one blown t...</td>\n",
              "      <td>-0.140505</td>\n",
              "      <td>0.000000</td>\n",
              "      <td>0.4898</td>\n",
              "      <td>-0.911314</td>\n",
              "    </tr>\n",
              "    <tr>\n",
              "      <th>7923</th>\n",
              "      <td>@CoolABADev obviously i will want Messi to suc...</td>\n",
              "      <td>-0.226269</td>\n",
              "      <td>0.114286</td>\n",
              "      <td>-0.0333</td>\n",
              "      <td>-0.759793</td>\n",
              "    </tr>\n",
              "    <tr>\n",
              "      <th>7924</th>\n",
              "      <td>@catekitchen Shit, that’s absolutely a crap si...</td>\n",
              "      <td>-0.648893</td>\n",
              "      <td>-0.250000</td>\n",
              "      <td>-0.7086</td>\n",
              "      <td>-0.988080</td>\n",
              "    </tr>\n",
              "    <tr>\n",
              "      <th>7925</th>\n",
              "      <td>Simply don’t take a Uber then dumb ass https:/...</td>\n",
              "      <td>-0.656114</td>\n",
              "      <td>-0.187500</td>\n",
              "      <td>-0.8096</td>\n",
              "      <td>-0.971243</td>\n",
              "    </tr>\n",
              "    <tr>\n",
              "      <th>7926</th>\n",
              "      <td>Uber, Lyft prices keep climbing to new highs, ...</td>\n",
              "      <td>0.045455</td>\n",
              "      <td>0.136364</td>\n",
              "      <td>0.0000</td>\n",
              "      <td>0.000000</td>\n",
              "    </tr>\n",
              "  </tbody>\n",
              "</table>\n",
              "<p>7927 rows × 5 columns</p>\n",
              "</div>"
            ]
          },
          "metadata": {},
          "execution_count": 76
        }
      ],
      "metadata": {
        "id": "eXV-ZBrbcpt-",
        "colab": {
          "base_uri": "https://localhost:8080/",
          "height": 436
        },
        "outputId": "98498757-d090-4cb7-b36d-ca39f621bafb"
      }
    },
    {
      "cell_type": "markdown",
      "source": [
        "### Definición de la variable objetivo categórica\n",
        "\n",
        "Actualmente ya tenemos definida la variable objetivo.\n",
        "\n",
        "'sentiment_media' es una variable que especifica el grado de positividad de cada tweet en una escala de -1 a 1 pero, para que sea más claro, estandarizaremos la variable a la escala de 0 a 1. De esta forma podemos definir el grado de positividad como un porcentaje, es decir, el tweet es un X% positivo.\n",
        "\n",
        "Como nos interesa que la variable objetivo sea categórica, dividiremos en 5 categorias la estandarización anterior, de forma que el tweet se considere:\n",
        "- Muy negativo: 0 - 0.2\n",
        "- Negativo: 0.2 - 0.4\n",
        "- Neutro: 0.4 - 0.6\n",
        "- Positivo: 0.6 - 0.8\n",
        "- Muy positivo: 0.8 - 1\n",
        "\n",
        "Tomando como intervalo cerrado el mayor valor de cada rango, salvo en la primera categoría, que también se incluirá el 0."
      ],
      "metadata": {
        "id": "y2z70ncxvag0"
      }
    },
    {
      "cell_type": "code",
      "execution_count": 71,
      "source": [
        "min = -1\n",
        "max = 1\n",
        "def scaler(numero):\n",
        "  result = (numero - min) / (max - min)\n",
        "  return result"
      ],
      "outputs": [],
      "metadata": {
        "id": "1TfVtOuYx4am"
      }
    },
    {
      "cell_type": "code",
      "execution_count": 77,
      "source": [
        "df['sentiment_norm'] = df['sentiment_mean'].apply(lambda x: scaler(x))\n",
        "df[[\"text\",'sentiment_norm',\"sentiment_mean\", \"possitivity_textblob\", \"possitivity_vader\", 'possitivity_ibm']]"
      ],
      "outputs": [
        {
          "output_type": "execute_result",
          "data": {
            "text/plain": [
              "                                                   text  ...  possitivity_ibm\n",
              "0     @Uber_Support hi guys why all my trips this we...  ...        -0.912398\n",
              "1     So are we getting Uber eats league 1 or not @S...  ...         0.000000\n",
              "2     @footballdaily 2-3 years of Messi, a bit of ca...  ...        -0.807459\n",
              "3     @Prashan32439454 @Uber_Support @rameshjoshi80 ...  ...         0.863584\n",
              "4     Uber's Gopuff partnership, Drizly deal being p...  ...        -0.788377\n",
              "...                                                 ...  ...              ...\n",
              "7922  Over 3,800 rides in over 3.5 years one blown t...  ...        -0.911314\n",
              "7923  @CoolABADev obviously i will want Messi to suc...  ...        -0.759793\n",
              "7924  @catekitchen Shit, that’s absolutely a crap si...  ...        -0.988080\n",
              "7925  Simply don’t take a Uber then dumb ass https:/...  ...        -0.971243\n",
              "7926  Uber, Lyft prices keep climbing to new highs, ...  ...         0.000000\n",
              "\n",
              "[7927 rows x 6 columns]"
            ],
            "text/html": [
              "<div>\n",
              "<style scoped>\n",
              "    .dataframe tbody tr th:only-of-type {\n",
              "        vertical-align: middle;\n",
              "    }\n",
              "\n",
              "    .dataframe tbody tr th {\n",
              "        vertical-align: top;\n",
              "    }\n",
              "\n",
              "    .dataframe thead th {\n",
              "        text-align: right;\n",
              "    }\n",
              "</style>\n",
              "<table border=\"1\" class=\"dataframe\">\n",
              "  <thead>\n",
              "    <tr style=\"text-align: right;\">\n",
              "      <th></th>\n",
              "      <th>text</th>\n",
              "      <th>sentiment_norm</th>\n",
              "      <th>sentiment_mean</th>\n",
              "      <th>possitivity_textblob</th>\n",
              "      <th>possitivity_vader</th>\n",
              "      <th>possitivity_ibm</th>\n",
              "    </tr>\n",
              "  </thead>\n",
              "  <tbody>\n",
              "    <tr>\n",
              "      <th>0</th>\n",
              "      <td>@Uber_Support hi guys why all my trips this we...</td>\n",
              "      <td>0.347934</td>\n",
              "      <td>-0.304133</td>\n",
              "      <td>0.000000</td>\n",
              "      <td>0.0000</td>\n",
              "      <td>-0.912398</td>\n",
              "    </tr>\n",
              "    <tr>\n",
              "      <th>1</th>\n",
              "      <td>So are we getting Uber eats league 1 or not @S...</td>\n",
              "      <td>0.500000</td>\n",
              "      <td>0.000000</td>\n",
              "      <td>0.000000</td>\n",
              "      <td>0.0000</td>\n",
              "      <td>0.000000</td>\n",
              "    </tr>\n",
              "    <tr>\n",
              "      <th>2</th>\n",
              "      <td>@footballdaily 2-3 years of Messi, a bit of ca...</td>\n",
              "      <td>0.407518</td>\n",
              "      <td>-0.184964</td>\n",
              "      <td>-0.333333</td>\n",
              "      <td>0.5859</td>\n",
              "      <td>-0.807459</td>\n",
              "    </tr>\n",
              "    <tr>\n",
              "      <th>3</th>\n",
              "      <td>@Prashan32439454 @Uber_Support @rameshjoshi80 ...</td>\n",
              "      <td>0.798997</td>\n",
              "      <td>0.597995</td>\n",
              "      <td>0.455000</td>\n",
              "      <td>0.4754</td>\n",
              "      <td>0.863584</td>\n",
              "    </tr>\n",
              "    <tr>\n",
              "      <th>4</th>\n",
              "      <td>Uber's Gopuff partnership, Drizly deal being p...</td>\n",
              "      <td>0.368604</td>\n",
              "      <td>-0.262792</td>\n",
              "      <td>0.000000</td>\n",
              "      <td>0.0000</td>\n",
              "      <td>-0.788377</td>\n",
              "    </tr>\n",
              "    <tr>\n",
              "      <th>...</th>\n",
              "      <td>...</td>\n",
              "      <td>...</td>\n",
              "      <td>...</td>\n",
              "      <td>...</td>\n",
              "      <td>...</td>\n",
              "      <td>...</td>\n",
              "    </tr>\n",
              "    <tr>\n",
              "      <th>7922</th>\n",
              "      <td>Over 3,800 rides in over 3.5 years one blown t...</td>\n",
              "      <td>0.429748</td>\n",
              "      <td>-0.140505</td>\n",
              "      <td>0.000000</td>\n",
              "      <td>0.4898</td>\n",
              "      <td>-0.911314</td>\n",
              "    </tr>\n",
              "    <tr>\n",
              "      <th>7923</th>\n",
              "      <td>@CoolABADev obviously i will want Messi to suc...</td>\n",
              "      <td>0.386865</td>\n",
              "      <td>-0.226269</td>\n",
              "      <td>0.114286</td>\n",
              "      <td>-0.0333</td>\n",
              "      <td>-0.759793</td>\n",
              "    </tr>\n",
              "    <tr>\n",
              "      <th>7924</th>\n",
              "      <td>@catekitchen Shit, that’s absolutely a crap si...</td>\n",
              "      <td>0.175553</td>\n",
              "      <td>-0.648893</td>\n",
              "      <td>-0.250000</td>\n",
              "      <td>-0.7086</td>\n",
              "      <td>-0.988080</td>\n",
              "    </tr>\n",
              "    <tr>\n",
              "      <th>7925</th>\n",
              "      <td>Simply don’t take a Uber then dumb ass https:/...</td>\n",
              "      <td>0.171943</td>\n",
              "      <td>-0.656114</td>\n",
              "      <td>-0.187500</td>\n",
              "      <td>-0.8096</td>\n",
              "      <td>-0.971243</td>\n",
              "    </tr>\n",
              "    <tr>\n",
              "      <th>7926</th>\n",
              "      <td>Uber, Lyft prices keep climbing to new highs, ...</td>\n",
              "      <td>0.522727</td>\n",
              "      <td>0.045455</td>\n",
              "      <td>0.136364</td>\n",
              "      <td>0.0000</td>\n",
              "      <td>0.000000</td>\n",
              "    </tr>\n",
              "  </tbody>\n",
              "</table>\n",
              "<p>7927 rows × 6 columns</p>\n",
              "</div>"
            ]
          },
          "metadata": {},
          "execution_count": 77
        }
      ],
      "metadata": {
        "colab": {
          "base_uri": "https://localhost:8080/",
          "height": 606
        },
        "id": "pIFxuKIE2IAY",
        "outputId": "98d34c96-59af-4181-dfdc-b2de7c1a8681"
      }
    },
    {
      "cell_type": "markdown",
      "source": [
        "### Variable categórica"
      ],
      "metadata": {
        "id": "wJEpCRA93SF7"
      }
    },
    {
      "cell_type": "code",
      "execution_count": 80,
      "source": [
        "# Definimos bins \n",
        "# Primer valor de los rangos -> 0\n",
        "# Valor final de cada rango -> 0.2, 0.4, 0.6, 0.8 y 1\n",
        "bins = [0, .2, .4, .6, .8, 1.]\n",
        "\n",
        "# Definimos los nombres para cada categoría\n",
        "names = [\"Muy negativo\", \"Negativo\", \"Neutro\", \"Positivo\", \"Muy positivo\"]\n",
        "\n",
        "# Creamos la variable objetivo categórica\n",
        "df['sentiment'] = pd.cut(df['sentiment_norm'], bins, labels = names)"
      ],
      "outputs": [],
      "metadata": {
        "id": "8GU1cled2fiB"
      }
    },
    {
      "cell_type": "code",
      "execution_count": 81,
      "source": [
        "# Mostramos los sentimientos obtenidos\n",
        "df[[\"text\",'sentiment','sentiment_norm',\"sentiment_mean\", \"possitivity_textblob\", \"possitivity_vader\", 'possitivity_ibm']]"
      ],
      "outputs": [
        {
          "output_type": "execute_result",
          "data": {
            "text/plain": [
              "                                                   text  ... possitivity_ibm\n",
              "0     @Uber_Support hi guys why all my trips this we...  ...       -0.912398\n",
              "1     So are we getting Uber eats league 1 or not @S...  ...        0.000000\n",
              "2     @footballdaily 2-3 years of Messi, a bit of ca...  ...       -0.807459\n",
              "3     @Prashan32439454 @Uber_Support @rameshjoshi80 ...  ...        0.863584\n",
              "4     Uber's Gopuff partnership, Drizly deal being p...  ...       -0.788377\n",
              "...                                                 ...  ...             ...\n",
              "7922  Over 3,800 rides in over 3.5 years one blown t...  ...       -0.911314\n",
              "7923  @CoolABADev obviously i will want Messi to suc...  ...       -0.759793\n",
              "7924  @catekitchen Shit, that’s absolutely a crap si...  ...       -0.988080\n",
              "7925  Simply don’t take a Uber then dumb ass https:/...  ...       -0.971243\n",
              "7926  Uber, Lyft prices keep climbing to new highs, ...  ...        0.000000\n",
              "\n",
              "[7927 rows x 7 columns]"
            ],
            "text/html": [
              "<div>\n",
              "<style scoped>\n",
              "    .dataframe tbody tr th:only-of-type {\n",
              "        vertical-align: middle;\n",
              "    }\n",
              "\n",
              "    .dataframe tbody tr th {\n",
              "        vertical-align: top;\n",
              "    }\n",
              "\n",
              "    .dataframe thead th {\n",
              "        text-align: right;\n",
              "    }\n",
              "</style>\n",
              "<table border=\"1\" class=\"dataframe\">\n",
              "  <thead>\n",
              "    <tr style=\"text-align: right;\">\n",
              "      <th></th>\n",
              "      <th>text</th>\n",
              "      <th>sentiment</th>\n",
              "      <th>sentiment_norm</th>\n",
              "      <th>sentiment_mean</th>\n",
              "      <th>possitivity_textblob</th>\n",
              "      <th>possitivity_vader</th>\n",
              "      <th>possitivity_ibm</th>\n",
              "    </tr>\n",
              "  </thead>\n",
              "  <tbody>\n",
              "    <tr>\n",
              "      <th>0</th>\n",
              "      <td>@Uber_Support hi guys why all my trips this we...</td>\n",
              "      <td>Negativo</td>\n",
              "      <td>0.347934</td>\n",
              "      <td>-0.304133</td>\n",
              "      <td>0.000000</td>\n",
              "      <td>0.0000</td>\n",
              "      <td>-0.912398</td>\n",
              "    </tr>\n",
              "    <tr>\n",
              "      <th>1</th>\n",
              "      <td>So are we getting Uber eats league 1 or not @S...</td>\n",
              "      <td>Neutro</td>\n",
              "      <td>0.500000</td>\n",
              "      <td>0.000000</td>\n",
              "      <td>0.000000</td>\n",
              "      <td>0.0000</td>\n",
              "      <td>0.000000</td>\n",
              "    </tr>\n",
              "    <tr>\n",
              "      <th>2</th>\n",
              "      <td>@footballdaily 2-3 years of Messi, a bit of ca...</td>\n",
              "      <td>Neutro</td>\n",
              "      <td>0.407518</td>\n",
              "      <td>-0.184964</td>\n",
              "      <td>-0.333333</td>\n",
              "      <td>0.5859</td>\n",
              "      <td>-0.807459</td>\n",
              "    </tr>\n",
              "    <tr>\n",
              "      <th>3</th>\n",
              "      <td>@Prashan32439454 @Uber_Support @rameshjoshi80 ...</td>\n",
              "      <td>Positivo</td>\n",
              "      <td>0.798997</td>\n",
              "      <td>0.597995</td>\n",
              "      <td>0.455000</td>\n",
              "      <td>0.4754</td>\n",
              "      <td>0.863584</td>\n",
              "    </tr>\n",
              "    <tr>\n",
              "      <th>4</th>\n",
              "      <td>Uber's Gopuff partnership, Drizly deal being p...</td>\n",
              "      <td>Negativo</td>\n",
              "      <td>0.368604</td>\n",
              "      <td>-0.262792</td>\n",
              "      <td>0.000000</td>\n",
              "      <td>0.0000</td>\n",
              "      <td>-0.788377</td>\n",
              "    </tr>\n",
              "    <tr>\n",
              "      <th>...</th>\n",
              "      <td>...</td>\n",
              "      <td>...</td>\n",
              "      <td>...</td>\n",
              "      <td>...</td>\n",
              "      <td>...</td>\n",
              "      <td>...</td>\n",
              "      <td>...</td>\n",
              "    </tr>\n",
              "    <tr>\n",
              "      <th>7922</th>\n",
              "      <td>Over 3,800 rides in over 3.5 years one blown t...</td>\n",
              "      <td>Neutro</td>\n",
              "      <td>0.429748</td>\n",
              "      <td>-0.140505</td>\n",
              "      <td>0.000000</td>\n",
              "      <td>0.4898</td>\n",
              "      <td>-0.911314</td>\n",
              "    </tr>\n",
              "    <tr>\n",
              "      <th>7923</th>\n",
              "      <td>@CoolABADev obviously i will want Messi to suc...</td>\n",
              "      <td>Negativo</td>\n",
              "      <td>0.386865</td>\n",
              "      <td>-0.226269</td>\n",
              "      <td>0.114286</td>\n",
              "      <td>-0.0333</td>\n",
              "      <td>-0.759793</td>\n",
              "    </tr>\n",
              "    <tr>\n",
              "      <th>7924</th>\n",
              "      <td>@catekitchen Shit, that’s absolutely a crap si...</td>\n",
              "      <td>Muy negativo</td>\n",
              "      <td>0.175553</td>\n",
              "      <td>-0.648893</td>\n",
              "      <td>-0.250000</td>\n",
              "      <td>-0.7086</td>\n",
              "      <td>-0.988080</td>\n",
              "    </tr>\n",
              "    <tr>\n",
              "      <th>7925</th>\n",
              "      <td>Simply don’t take a Uber then dumb ass https:/...</td>\n",
              "      <td>Muy negativo</td>\n",
              "      <td>0.171943</td>\n",
              "      <td>-0.656114</td>\n",
              "      <td>-0.187500</td>\n",
              "      <td>-0.8096</td>\n",
              "      <td>-0.971243</td>\n",
              "    </tr>\n",
              "    <tr>\n",
              "      <th>7926</th>\n",
              "      <td>Uber, Lyft prices keep climbing to new highs, ...</td>\n",
              "      <td>Neutro</td>\n",
              "      <td>0.522727</td>\n",
              "      <td>0.045455</td>\n",
              "      <td>0.136364</td>\n",
              "      <td>0.0000</td>\n",
              "      <td>0.000000</td>\n",
              "    </tr>\n",
              "  </tbody>\n",
              "</table>\n",
              "<p>7927 rows × 7 columns</p>\n",
              "</div>"
            ]
          },
          "metadata": {},
          "execution_count": 81
        }
      ],
      "metadata": {
        "colab": {
          "base_uri": "https://localhost:8080/",
          "height": 779
        },
        "id": "_PV4WoKs3lXb",
        "outputId": "19439211-0f7b-49e7-ec70-47a9e4459944"
      }
    },
    {
      "cell_type": "code",
      "execution_count": 82,
      "source": [
        "# Representamos con seaborn la variable objetivo para ver las categorías\n",
        "import seaborn as sns\n",
        "\n",
        "categorias = sns.countplot(x=\"sentiment\", data=df)"
      ],
      "outputs": [
        {
          "output_type": "display_data",
          "data": {
            "text/plain": [
              "<Figure size 432x288 with 1 Axes>"
            ],
            "image/png": "[encoded data removed]"
          },
          "metadata": {
            "needs_background": "light"
          }
        }
      ],
      "metadata": {
        "colab": {
          "base_uri": "https://localhost:8080/",
          "height": 279
        },
        "id": "LZtRD1qz4G26",
        "outputId": "8266417d-e598-41e5-9323-6a4100bbe034"
      }
    },
    {
      "cell_type": "code",
      "execution_count": null,
      "source": [],
      "outputs": [],
      "metadata": {
        "id": "n-aH8co_4mZM"
      }
    }
  ]
}