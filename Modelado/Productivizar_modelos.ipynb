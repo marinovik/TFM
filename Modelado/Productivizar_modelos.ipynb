{
  "nbformat": 4,
  "nbformat_minor": 2,
  "metadata": {
    "colab": {
      "name": "Productivizar modelos.ipynb",
      "provenance": [],
      "collapsed_sections": []
    },
    "kernelspec": {
      "name": "python3",
      "display_name": "Python 3.9.0 64-bit"
    },
    "language_info": {
      "name": "python",
      "version": "3.9.0",
      "mimetype": "text/x-python",
      "codemirror_mode": {
        "name": "ipython",
        "version": 3
      },
      "pygments_lexer": "ipython3",
      "nbconvert_exporter": "python",
      "file_extension": ".py"
    },
    "interpreter": {
      "hash": "aee8b7b246df8f9039afb4144a1f6fd8d2ca17a180786b69acc140d282b71a49"
    }
  },
  "cells": [
    {
      "cell_type": "markdown",
      "source": [
        "### A. PREPARAMOS LA BBDD PARA INTRODUCIR EN LOS MODELOS\n",
        "\n",
        "### LIMPIEZA UTILIZADA"
      ],
      "metadata": {
        "id": "05VFtsAfmPE0"
      }
    },
    {
      "cell_type": "code",
      "execution_count": 8,
      "source": [
        "# Abrimos el fichero anterior de la carpeta\n",
        "import pandas as pd\n",
        "df = pd.read_csv(\"../Procesamiento_Datos/full-data.csv\") "
      ],
      "outputs": [],
      "metadata": {
        "id": "qfq3oA45Pl03"
      }
    },
    {
      "cell_type": "code",
      "execution_count": 9,
      "source": [
        "df.keys()"
      ],
      "outputs": [
        {
          "output_type": "execute_result",
          "data": {
            "text/plain": [
              "Index(['Unnamed: 0', 'text', 'created_at', 'created_at_time',\n",
              "       'created_at_hour', 'retweeted', 'retweet_count', 'favorite_count',\n",
              "       'user_ verified', 'user_id', 'user_name', 'user_location',\n",
              "       'user_notificacion', 'user_followers', 'user_friends',\n",
              "       'user_withheld_in_countries', 'mentions_in_tweet', 'is_reply',\n",
              "       'source_device', 'finished_tweet', 'status_count', 'hashtags_text',\n",
              "       'hastags_indices', 'hastags_in_tweet', 'possitivity_textblob',\n",
              "       'possitivity_vader', 'possitivity_ibm', 'sentiment_mean',\n",
              "       'sentiment_norm', 'sentiment', 'categories', 'topic_1', 'topic_2',\n",
              "       'topic_3'],\n",
              "      dtype='object')"
            ]
          },
          "metadata": {},
          "execution_count": 9
        }
      ],
      "metadata": {
        "id": "YWt99ltGg5Zs",
        "colab": {
          "base_uri": "https://localhost:8080/"
        },
        "outputId": "64257ae9-4916-4ec8-eb24-da530e83b7a9"
      }
    },
    {
      "cell_type": "code",
      "execution_count": 11,
      "source": [
        "# Defino las variables dependientes que eliminaremos del df\n",
        "vars = ['Unnamed: 0', 'Unnamed: 0.1', 'Unnamed: 0.1.1', 'Unnamed: 0.1.1.1', 'text', \n",
        "        'user_id', 'created_at_time', 'user_name', 'hashtags_text', 'hastags_indices',\n",
        "        'possitivity_textblob', 'possitivity_vader', 'possitivity_ibm', \n",
        "        'sentiment_mean', 'sentiment_norm', 'user_withheld_in_countries']\n",
        "df_limpio = df.drop(vars,axis=1)"
      ],
      "outputs": [],
      "metadata": {
        "id": "xBsr9cVo1Ejk"
      }
    },
    {
      "cell_type": "code",
      "execution_count": 12,
      "source": [
        "df_limpio.shape"
      ],
      "outputs": [
        {
          "output_type": "execute_result",
          "data": {
            "text/plain": [
              "(7809, 21)"
            ]
          },
          "metadata": {},
          "execution_count": 12
        }
      ],
      "metadata": {
        "colab": {
          "base_uri": "https://localhost:8080/"
        },
        "id": "Yff-0Qpu3nDr",
        "outputId": "976d20c5-fb5d-4564-90cb-763346c3e4c0"
      }
    },
    {
      "cell_type": "code",
      "execution_count": 13,
      "source": [
        "df_limpio.dtypes"
      ],
      "outputs": [
        {
          "output_type": "execute_result",
          "data": {
            "text/plain": [
              "created_at            object\n",
              "created_at_hour        int64\n",
              "retweeted             object\n",
              "retweet_count          int64\n",
              "favorite_count         int64\n",
              "user_ verified       float64\n",
              "user_location         object\n",
              "user_notificacion       bool\n",
              "user_followers         int64\n",
              "user_friends           int64\n",
              "mentions_in_tweet      int64\n",
              "is_reply              object\n",
              "source_device         object\n",
              "finished_tweet          bool\n",
              "status_count           int64\n",
              "hastags_in_tweet       int64\n",
              "sentiment             object\n",
              "categories            object\n",
              "topic_1               object\n",
              "topic_2               object\n",
              "topic_3               object\n",
              "dtype: object"
            ]
          },
          "metadata": {},
          "execution_count": 13
        }
      ],
      "metadata": {
        "colab": {
          "base_uri": "https://localhost:8080/"
        },
        "id": "HDKMax89_Ksd",
        "outputId": "230a5d9d-b834-4148-ba82-ecffd8b07428"
      }
    },
    {
      "cell_type": "code",
      "execution_count": 14,
      "source": [
        "df_limpio.isna().sum()"
      ],
      "outputs": [
        {
          "output_type": "execute_result",
          "data": {
            "text/plain": [
              "created_at              0\n",
              "created_at_hour         0\n",
              "retweeted               0\n",
              "retweet_count           0\n",
              "favorite_count          0\n",
              "user_ verified       7809\n",
              "user_location        2686\n",
              "user_notificacion       0\n",
              "user_followers          0\n",
              "user_friends            0\n",
              "mentions_in_tweet       0\n",
              "is_reply                0\n",
              "source_device           0\n",
              "finished_tweet          0\n",
              "status_count            0\n",
              "hastags_in_tweet        0\n",
              "sentiment               0\n",
              "categories              0\n",
              "topic_1                 0\n",
              "topic_2               831\n",
              "topic_3              4465\n",
              "dtype: int64"
            ]
          },
          "metadata": {},
          "execution_count": 14
        }
      ],
      "metadata": {
        "colab": {
          "base_uri": "https://localhost:8080/"
        },
        "id": "ZD8CgIUH3ov7",
        "outputId": "bd1f2eae-cb71-4c9b-d86c-e4d87745c6b3"
      }
    },
    {
      "cell_type": "markdown",
      "source": [
        "#### Quitamos categóricas y convertimos en dummies (OneHotEncoder)\n",
        "Para que los modelos funcionen, tenemos que tener las categorías como dummies, sino pueden dar fallos, por ello realizamos la siguiente transformación. \n",
        "\n",
        "Para ello es necesario hacer algo de limpieza en las variables categóricas, recategorizar o agrupar categorías. Estudiamos las clases de las variables categóricas. "
      ],
      "metadata": {
        "id": "6k3dfuDqoHrb"
      }
    },
    {
      "cell_type": "code",
      "execution_count": 15,
      "source": [
        "# Vemos el resumen de las categóricas\n",
        "df_limpio.select_dtypes(['object']).keys()"
      ],
      "outputs": [
        {
          "output_type": "execute_result",
          "data": {
            "text/plain": [
              "Index(['created_at', 'retweeted', 'user_location', 'is_reply', 'source_device',\n",
              "       'sentiment', 'categories', 'topic_1', 'topic_2', 'topic_3'],\n",
              "      dtype='object')"
            ]
          },
          "metadata": {},
          "execution_count": 15
        }
      ],
      "metadata": {
        "colab": {
          "base_uri": "https://localhost:8080/"
        },
        "id": "EDNL_OrgrKXw",
        "outputId": "b0eb59f0-c9bd-46e4-e5da-d66ac4359e57"
      }
    },
    {
      "cell_type": "code",
      "execution_count": 16,
      "source": [
        "df_limpio[['created_at']].value_counts() # OK"
      ],
      "outputs": [
        {
          "output_type": "execute_result",
          "data": {
            "text/plain": [
              "created_at\n",
              "Mon Aug 09    5827\n",
              "Wed Aug 11    1982\n",
              "dtype: int64"
            ]
          },
          "metadata": {},
          "execution_count": 16
        }
      ],
      "metadata": {
        "colab": {
          "base_uri": "https://localhost:8080/"
        },
        "id": "nqoisDYNrkE1",
        "outputId": "97536017-b01e-4801-f6be-c8aa981eba23"
      }
    },
    {
      "cell_type": "code",
      "execution_count": 17,
      "source": [
        "df_limpio[['retweeted']].value_counts() # OK"
      ],
      "outputs": [
        {
          "output_type": "execute_result",
          "data": {
            "text/plain": [
              "retweeted\n",
              "No           6325\n",
              "Si           1484\n",
              "dtype: int64"
            ]
          },
          "metadata": {},
          "execution_count": 17
        }
      ],
      "metadata": {
        "colab": {
          "base_uri": "https://localhost:8080/"
        },
        "id": "_hrfMNxMrp7H",
        "outputId": "8deede03-72c1-426c-da48-49e280d3a511"
      }
    },
    {
      "cell_type": "code",
      "execution_count": 18,
      "source": [
        "df_limpio[['is_reply']].value_counts()"
      ],
      "outputs": [
        {
          "output_type": "execute_result",
          "data": {
            "text/plain": [
              "is_reply       \n",
              "No                 4181\n",
              "Uber_Support        237\n",
              "Uber                101\n",
              "Uber_Kryptonian      59\n",
              "joncoopertweets      39\n",
              "                   ... \n",
              "PeakSamu18            1\n",
              "Pearlofwisdommm       1\n",
              "Pedram_Navid          1\n",
              "PedroHmaumau          1\n",
              "UnicornWolfLAZR       1\n",
              "Length: 2548, dtype: int64"
            ]
          },
          "metadata": {},
          "execution_count": 18
        }
      ],
      "metadata": {
        "colab": {
          "base_uri": "https://localhost:8080/"
        },
        "id": "PDZSszPxruvA",
        "outputId": "47882529-d925-4211-a19b-e8e2c8827ef0"
      }
    },
    {
      "cell_type": "code",
      "execution_count": 19,
      "source": [
        "# Cambio is_reply a una variable binaria (Si reply o No o Uber, porque nos interesa)\n",
        "\n",
        "cond1 = df_limpio['is_reply'].isin(['No','Uber_Support','Uber'])\n",
        "df_limpio['is_reply'] = df_limpio['is_reply'].where(cond1,'Si')"
      ],
      "outputs": [],
      "metadata": {
        "id": "X8A9Ms1_rz2C"
      }
    },
    {
      "cell_type": "code",
      "execution_count": 20,
      "source": [
        "df_limpio[['is_reply']].value_counts()"
      ],
      "outputs": [
        {
          "output_type": "execute_result",
          "data": {
            "text/plain": [
              "is_reply    \n",
              "No              4181\n",
              "Si              3290\n",
              "Uber_Support     237\n",
              "Uber             101\n",
              "dtype: int64"
            ]
          },
          "metadata": {},
          "execution_count": 20
        }
      ],
      "metadata": {
        "colab": {
          "base_uri": "https://localhost:8080/"
        },
        "id": "MU2Ywn5ftTY5",
        "outputId": "8fa1b9ee-2e9e-45f0-f80d-2e55dab048e4"
      }
    },
    {
      "cell_type": "code",
      "execution_count": 21,
      "source": [
        "# Uno categorías Uber_support y Uber\n",
        "cond2 = df_limpio['is_reply'].isin(['Si','No','Uber'])\n",
        "df_limpio['is_reply'] = df_limpio['is_reply'].where(cond2,'Uber')"
      ],
      "outputs": [],
      "metadata": {
        "id": "jRLyLV2TtaeP"
      }
    },
    {
      "cell_type": "code",
      "execution_count": 22,
      "source": [
        "df_limpio[['is_reply']].value_counts() # OK"
      ],
      "outputs": [
        {
          "output_type": "execute_result",
          "data": {
            "text/plain": [
              "is_reply\n",
              "No          4181\n",
              "Si          3290\n",
              "Uber         338\n",
              "dtype: int64"
            ]
          },
          "metadata": {},
          "execution_count": 22
        }
      ],
      "metadata": {
        "colab": {
          "base_uri": "https://localhost:8080/"
        },
        "id": "2q72pAOjtoxF",
        "outputId": "eef5e1c7-b521-4167-8c77-12b99f5ec694"
      }
    },
    {
      "cell_type": "code",
      "execution_count": 23,
      "source": [
        "df_limpio[['source_device']].value_counts()"
      ],
      "outputs": [
        {
          "output_type": "execute_result",
          "data": {
            "text/plain": [
              "source_device                 \n",
              "Twitter for iPhone                3408\n",
              "Twitter for Android               1843\n",
              "Twitter Web App                   1254\n",
              "Sprinklr                           523\n",
              "test-shield-bot                    223\n",
              "                                  ... \n",
              "Microsoft Power Platform             1\n",
              "MarketChameleon.com                  1\n",
              "Maiyro - Bloggers Social Media       1\n",
              "Magnifintech                         1\n",
              "はてな / Hatena                         1\n",
              "Length: 152, dtype: int64"
            ]
          },
          "metadata": {},
          "execution_count": 23
        }
      ],
      "metadata": {
        "colab": {
          "base_uri": "https://localhost:8080/"
        },
        "id": "KSp-S5duuEpU",
        "outputId": "97381d5f-6453-4f72-c61b-738432c3cdeb"
      }
    },
    {
      "cell_type": "code",
      "execution_count": 24,
      "source": [
        "# Creamos 5 categorías, las 4 más representadas y 'Otros'\n",
        "# Uno categorías Uber_support y Uber\n",
        "cond3 = df_limpio['source_device'].isin(['Twitter for iPhone','Twitter for Android',\n",
        "                                         'Twitter Web App','Sprinklr'])\n",
        "df_limpio['source_device'] = df_limpio['source_device'].where(cond3,'Otro')"
      ],
      "outputs": [],
      "metadata": {
        "id": "grGKS2hEuPKN"
      }
    },
    {
      "cell_type": "code",
      "execution_count": 25,
      "source": [
        "df_limpio[['source_device']].value_counts()"
      ],
      "outputs": [
        {
          "output_type": "execute_result",
          "data": {
            "text/plain": [
              "source_device      \n",
              "Twitter for iPhone     3408\n",
              "Twitter for Android    1843\n",
              "Twitter Web App        1254\n",
              "Otro                    781\n",
              "Sprinklr                523\n",
              "dtype: int64"
            ]
          },
          "metadata": {},
          "execution_count": 25
        }
      ],
      "metadata": {
        "colab": {
          "base_uri": "https://localhost:8080/"
        },
        "id": "UCv7BxtEupOy",
        "outputId": "65db98ee-832f-41c8-d566-12538713617f"
      }
    },
    {
      "cell_type": "code",
      "execution_count": 26,
      "source": [
        "df_limpio[['user_location']].value_counts()[0:20]"
      ],
      "outputs": [
        {
          "output_type": "execute_result",
          "data": {
            "text/plain": [
              "user_location             \n",
              "Stockholm, Sweden             225\n",
              "London, England               121\n",
              "United States                  77\n",
              "Los Angeles, CA                59\n",
              "India                          54\n",
              "Chicago, IL                    52\n",
              "New York, NY                   51\n",
              "California, USA                50\n",
              "London                         43\n",
              "Atlanta, GA                    37\n",
              "Washington, DC                 35\n",
              "New York, USA                  31\n",
              "Lagos, Nigeria                 31\n",
              "United Kingdom                 27\n",
              "United Kingdom                 25\n",
              "Johannesburg, South Africa     25\n",
              "UK                             24\n",
              "York, England                  23\n",
              "New Delhi, India               23\n",
              "Brooklyn, NY                   22\n",
              "dtype: int64"
            ]
          },
          "metadata": {},
          "execution_count": 26
        }
      ],
      "metadata": {
        "colab": {
          "base_uri": "https://localhost:8080/"
        },
        "id": "vfjQgeaYNnil",
        "outputId": "adacf630-f0a5-4ea9-82c8-98cdfe6caf63"
      }
    },
    {
      "cell_type": "code",
      "execution_count": 27,
      "source": [
        "# Creamos  categorías representadas con más de 50 repeticiones\n",
        "# A esta variable habrá que tratarla un poquito mejor en el futuro. \n",
        "\n",
        "cond3 = df_limpio['user_location'].isin(['Stockholm, Sweden', 'United States', \n",
        "                                         'Los Angeles, CA', 'India', 'Chicago, IL',\n",
        "                                         'New York, NY','California, USA'])\n",
        "df_limpio['user_location'] = df_limpio['user_location'].where(cond3,'Otro')"
      ],
      "outputs": [],
      "metadata": {
        "id": "uAuNAyQSoRj_"
      }
    },
    {
      "cell_type": "code",
      "execution_count": 28,
      "source": [
        "df_limpio[['user_location']].value_counts()"
      ],
      "outputs": [
        {
          "output_type": "execute_result",
          "data": {
            "text/plain": [
              "user_location    \n",
              "Otro                 7241\n",
              "Stockholm, Sweden     225\n",
              "United States          77\n",
              "Los Angeles, CA        59\n",
              "India                  54\n",
              "Chicago, IL            52\n",
              "New York, NY           51\n",
              "California, USA        50\n",
              "dtype: int64"
            ]
          },
          "metadata": {},
          "execution_count": 28
        }
      ],
      "metadata": {
        "id": "WwSZ4vkCvkzV",
        "colab": {
          "base_uri": "https://localhost:8080/"
        },
        "outputId": "2177fe89-2441-400d-ee07-aec56c6ac896"
      }
    },
    {
      "cell_type": "code",
      "execution_count": 29,
      "source": [
        "df_limpio"
      ],
      "outputs": [
        {
          "output_type": "execute_result",
          "data": {
            "text/plain": [
              "      created_at  created_at_hour retweeted  retweet_count  favorite_count  \\\n",
              "0     Wed Aug 11                9        Si              1               0   \n",
              "1     Wed Aug 11                9        No              0               0   \n",
              "2     Wed Aug 11                9        No              0               0   \n",
              "3     Wed Aug 11                9        No              0               0   \n",
              "4     Wed Aug 11                9        No              0               0   \n",
              "...          ...              ...       ...            ...             ...   \n",
              "7804  Mon Aug 09               13        No              0               0   \n",
              "7805  Mon Aug 09               13        No              0               1   \n",
              "7806  Mon Aug 09               13        No              0               2   \n",
              "7807  Mon Aug 09               13        No              0               0   \n",
              "7808  Mon Aug 09               13        No              0               4   \n",
              "\n",
              "      user_ verified      user_location  user_notificacion  user_followers  \\\n",
              "0                NaN  Stockholm, Sweden              False           20504   \n",
              "1                NaN               Otro              False            2733   \n",
              "2                NaN               Otro              False             353   \n",
              "3                NaN               Otro              False               6   \n",
              "4                NaN               Otro              False            5562   \n",
              "...              ...                ...                ...             ...   \n",
              "7804             NaN               Otro              False               0   \n",
              "7805             NaN               Otro              False             477   \n",
              "7806             NaN               Otro              False            3215   \n",
              "7807             NaN               Otro              False             409   \n",
              "7808             NaN               Otro              False            2501   \n",
              "\n",
              "      user_friends  ...  is_reply        source_device finished_tweet  \\\n",
              "0               98  ...        No                 Otro          False   \n",
              "1              970  ...        No      Twitter Web App          False   \n",
              "2              943  ...        Si   Twitter for iPhone          False   \n",
              "3                1  ...        Si  Twitter for Android          False   \n",
              "4                3  ...        No                 Otro          False   \n",
              "...            ...  ...       ...                  ...            ...   \n",
              "7804             4  ...        Si   Twitter for iPhone          False   \n",
              "7805           435  ...        Si   Twitter for iPhone          False   \n",
              "7806          4690  ...        Si                 Otro          False   \n",
              "7807           870  ...        No   Twitter for iPhone          False   \n",
              "7808           874  ...        No                 Otro          False   \n",
              "\n",
              "      status_count  hastags_in_tweet     sentiment  \\\n",
              "0           695888                 0      Negativo   \n",
              "1            58398                 0        Neutro   \n",
              "2             5974                 0        Neutro   \n",
              "3              169                 0      Positivo   \n",
              "4           113083                 0      Negativo   \n",
              "...            ...               ...           ...   \n",
              "7804            21                 0        Neutro   \n",
              "7805          5828                 0      Negativo   \n",
              "7806         29551                 0  Muy Negativo   \n",
              "7807         54109                 0  Muy Negativo   \n",
              "7808         12472                 0        Neutro   \n",
              "\n",
              "                                             categories  \\\n",
              "0     [{'score': 0.693098, 'label': '/travel/special...   \n",
              "1     [{'score': 0.59693, 'label': '/sports/baseball...   \n",
              "2      [{'score': 0.785107, 'label': '/sports/soccer'}]   \n",
              "3     [{'score': 0.685688, 'label': '/science/mathem...   \n",
              "4     [{'score': 0.778195, 'label': '/news'}, {'scor...   \n",
              "...                                                 ...   \n",
              "7804  [{'score': 0.998438, 'label': '/automotive and...   \n",
              "7805   [{'score': 0.780402, 'label': '/sports/soccer'}]   \n",
              "7806  [{'score': 0.841392, 'label': '/automotive and...   \n",
              "7807  [{'score': 0.60174, 'label': '/art and enterta...   \n",
              "7808  [{'score': 0.986334, 'label': '/sports/climbin...   \n",
              "\n",
              "                      topic_1            topic_2           topic_3  \n",
              "0                      travel   specialty travel  adventure travel  \n",
              "1                      sports           baseball               NaN  \n",
              "2                      sports             soccer               NaN  \n",
              "3                     science        mathematics        arithmetic  \n",
              "4                        news                NaN               NaN  \n",
              "...                       ...                ...               ...  \n",
              "7804  automotive and vehicles               cars               NaN  \n",
              "7805                   sports             soccer               NaN  \n",
              "7806  automotive and vehicles  electric vehicles               NaN  \n",
              "7807    art and entertainment   shows and events               NaN  \n",
              "7808                   sports           climbing               NaN  \n",
              "\n",
              "[7809 rows x 21 columns]"
            ],
            "text/html": [
              "<div>\n",
              "<style scoped>\n",
              "    .dataframe tbody tr th:only-of-type {\n",
              "        vertical-align: middle;\n",
              "    }\n",
              "\n",
              "    .dataframe tbody tr th {\n",
              "        vertical-align: top;\n",
              "    }\n",
              "\n",
              "    .dataframe thead th {\n",
              "        text-align: right;\n",
              "    }\n",
              "</style>\n",
              "<table border=\"1\" class=\"dataframe\">\n",
              "  <thead>\n",
              "    <tr style=\"text-align: right;\">\n",
              "      <th></th>\n",
              "      <th>created_at</th>\n",
              "      <th>created_at_hour</th>\n",
              "      <th>retweeted</th>\n",
              "      <th>retweet_count</th>\n",
              "      <th>favorite_count</th>\n",
              "      <th>user_ verified</th>\n",
              "      <th>user_location</th>\n",
              "      <th>user_notificacion</th>\n",
              "      <th>user_followers</th>\n",
              "      <th>user_friends</th>\n",
              "      <th>...</th>\n",
              "      <th>is_reply</th>\n",
              "      <th>source_device</th>\n",
              "      <th>finished_tweet</th>\n",
              "      <th>status_count</th>\n",
              "      <th>hastags_in_tweet</th>\n",
              "      <th>sentiment</th>\n",
              "      <th>categories</th>\n",
              "      <th>topic_1</th>\n",
              "      <th>topic_2</th>\n",
              "      <th>topic_3</th>\n",
              "    </tr>\n",
              "  </thead>\n",
              "  <tbody>\n",
              "    <tr>\n",
              "      <th>0</th>\n",
              "      <td>Wed Aug 11</td>\n",
              "      <td>9</td>\n",
              "      <td>Si</td>\n",
              "      <td>1</td>\n",
              "      <td>0</td>\n",
              "      <td>NaN</td>\n",
              "      <td>Stockholm, Sweden</td>\n",
              "      <td>False</td>\n",
              "      <td>20504</td>\n",
              "      <td>98</td>\n",
              "      <td>...</td>\n",
              "      <td>No</td>\n",
              "      <td>Otro</td>\n",
              "      <td>False</td>\n",
              "      <td>695888</td>\n",
              "      <td>0</td>\n",
              "      <td>Negativo</td>\n",
              "      <td>[{'score': 0.693098, 'label': '/travel/special...</td>\n",
              "      <td>travel</td>\n",
              "      <td>specialty travel</td>\n",
              "      <td>adventure travel</td>\n",
              "    </tr>\n",
              "    <tr>\n",
              "      <th>1</th>\n",
              "      <td>Wed Aug 11</td>\n",
              "      <td>9</td>\n",
              "      <td>No</td>\n",
              "      <td>0</td>\n",
              "      <td>0</td>\n",
              "      <td>NaN</td>\n",
              "      <td>Otro</td>\n",
              "      <td>False</td>\n",
              "      <td>2733</td>\n",
              "      <td>970</td>\n",
              "      <td>...</td>\n",
              "      <td>No</td>\n",
              "      <td>Twitter Web App</td>\n",
              "      <td>False</td>\n",
              "      <td>58398</td>\n",
              "      <td>0</td>\n",
              "      <td>Neutro</td>\n",
              "      <td>[{'score': 0.59693, 'label': '/sports/baseball...</td>\n",
              "      <td>sports</td>\n",
              "      <td>baseball</td>\n",
              "      <td>NaN</td>\n",
              "    </tr>\n",
              "    <tr>\n",
              "      <th>2</th>\n",
              "      <td>Wed Aug 11</td>\n",
              "      <td>9</td>\n",
              "      <td>No</td>\n",
              "      <td>0</td>\n",
              "      <td>0</td>\n",
              "      <td>NaN</td>\n",
              "      <td>Otro</td>\n",
              "      <td>False</td>\n",
              "      <td>353</td>\n",
              "      <td>943</td>\n",
              "      <td>...</td>\n",
              "      <td>Si</td>\n",
              "      <td>Twitter for iPhone</td>\n",
              "      <td>False</td>\n",
              "      <td>5974</td>\n",
              "      <td>0</td>\n",
              "      <td>Neutro</td>\n",
              "      <td>[{'score': 0.785107, 'label': '/sports/soccer'}]</td>\n",
              "      <td>sports</td>\n",
              "      <td>soccer</td>\n",
              "      <td>NaN</td>\n",
              "    </tr>\n",
              "    <tr>\n",
              "      <th>3</th>\n",
              "      <td>Wed Aug 11</td>\n",
              "      <td>9</td>\n",
              "      <td>No</td>\n",
              "      <td>0</td>\n",
              "      <td>0</td>\n",
              "      <td>NaN</td>\n",
              "      <td>Otro</td>\n",
              "      <td>False</td>\n",
              "      <td>6</td>\n",
              "      <td>1</td>\n",
              "      <td>...</td>\n",
              "      <td>Si</td>\n",
              "      <td>Twitter for Android</td>\n",
              "      <td>False</td>\n",
              "      <td>169</td>\n",
              "      <td>0</td>\n",
              "      <td>Positivo</td>\n",
              "      <td>[{'score': 0.685688, 'label': '/science/mathem...</td>\n",
              "      <td>science</td>\n",
              "      <td>mathematics</td>\n",
              "      <td>arithmetic</td>\n",
              "    </tr>\n",
              "    <tr>\n",
              "      <th>4</th>\n",
              "      <td>Wed Aug 11</td>\n",
              "      <td>9</td>\n",
              "      <td>No</td>\n",
              "      <td>0</td>\n",
              "      <td>0</td>\n",
              "      <td>NaN</td>\n",
              "      <td>Otro</td>\n",
              "      <td>False</td>\n",
              "      <td>5562</td>\n",
              "      <td>3</td>\n",
              "      <td>...</td>\n",
              "      <td>No</td>\n",
              "      <td>Otro</td>\n",
              "      <td>False</td>\n",
              "      <td>113083</td>\n",
              "      <td>0</td>\n",
              "      <td>Negativo</td>\n",
              "      <td>[{'score': 0.778195, 'label': '/news'}, {'scor...</td>\n",
              "      <td>news</td>\n",
              "      <td>NaN</td>\n",
              "      <td>NaN</td>\n",
              "    </tr>\n",
              "    <tr>\n",
              "      <th>...</th>\n",
              "      <td>...</td>\n",
              "      <td>...</td>\n",
              "      <td>...</td>\n",
              "      <td>...</td>\n",
              "      <td>...</td>\n",
              "      <td>...</td>\n",
              "      <td>...</td>\n",
              "      <td>...</td>\n",
              "      <td>...</td>\n",
              "      <td>...</td>\n",
              "      <td>...</td>\n",
              "      <td>...</td>\n",
              "      <td>...</td>\n",
              "      <td>...</td>\n",
              "      <td>...</td>\n",
              "      <td>...</td>\n",
              "      <td>...</td>\n",
              "      <td>...</td>\n",
              "      <td>...</td>\n",
              "      <td>...</td>\n",
              "      <td>...</td>\n",
              "    </tr>\n",
              "    <tr>\n",
              "      <th>7804</th>\n",
              "      <td>Mon Aug 09</td>\n",
              "      <td>13</td>\n",
              "      <td>No</td>\n",
              "      <td>0</td>\n",
              "      <td>0</td>\n",
              "      <td>NaN</td>\n",
              "      <td>Otro</td>\n",
              "      <td>False</td>\n",
              "      <td>0</td>\n",
              "      <td>4</td>\n",
              "      <td>...</td>\n",
              "      <td>Si</td>\n",
              "      <td>Twitter for iPhone</td>\n",
              "      <td>False</td>\n",
              "      <td>21</td>\n",
              "      <td>0</td>\n",
              "      <td>Neutro</td>\n",
              "      <td>[{'score': 0.998438, 'label': '/automotive and...</td>\n",
              "      <td>automotive and vehicles</td>\n",
              "      <td>cars</td>\n",
              "      <td>NaN</td>\n",
              "    </tr>\n",
              "    <tr>\n",
              "      <th>7805</th>\n",
              "      <td>Mon Aug 09</td>\n",
              "      <td>13</td>\n",
              "      <td>No</td>\n",
              "      <td>0</td>\n",
              "      <td>1</td>\n",
              "      <td>NaN</td>\n",
              "      <td>Otro</td>\n",
              "      <td>False</td>\n",
              "      <td>477</td>\n",
              "      <td>435</td>\n",
              "      <td>...</td>\n",
              "      <td>Si</td>\n",
              "      <td>Twitter for iPhone</td>\n",
              "      <td>False</td>\n",
              "      <td>5828</td>\n",
              "      <td>0</td>\n",
              "      <td>Negativo</td>\n",
              "      <td>[{'score': 0.780402, 'label': '/sports/soccer'}]</td>\n",
              "      <td>sports</td>\n",
              "      <td>soccer</td>\n",
              "      <td>NaN</td>\n",
              "    </tr>\n",
              "    <tr>\n",
              "      <th>7806</th>\n",
              "      <td>Mon Aug 09</td>\n",
              "      <td>13</td>\n",
              "      <td>No</td>\n",
              "      <td>0</td>\n",
              "      <td>2</td>\n",
              "      <td>NaN</td>\n",
              "      <td>Otro</td>\n",
              "      <td>False</td>\n",
              "      <td>3215</td>\n",
              "      <td>4690</td>\n",
              "      <td>...</td>\n",
              "      <td>Si</td>\n",
              "      <td>Otro</td>\n",
              "      <td>False</td>\n",
              "      <td>29551</td>\n",
              "      <td>0</td>\n",
              "      <td>Muy Negativo</td>\n",
              "      <td>[{'score': 0.841392, 'label': '/automotive and...</td>\n",
              "      <td>automotive and vehicles</td>\n",
              "      <td>electric vehicles</td>\n",
              "      <td>NaN</td>\n",
              "    </tr>\n",
              "    <tr>\n",
              "      <th>7807</th>\n",
              "      <td>Mon Aug 09</td>\n",
              "      <td>13</td>\n",
              "      <td>No</td>\n",
              "      <td>0</td>\n",
              "      <td>0</td>\n",
              "      <td>NaN</td>\n",
              "      <td>Otro</td>\n",
              "      <td>False</td>\n",
              "      <td>409</td>\n",
              "      <td>870</td>\n",
              "      <td>...</td>\n",
              "      <td>No</td>\n",
              "      <td>Twitter for iPhone</td>\n",
              "      <td>False</td>\n",
              "      <td>54109</td>\n",
              "      <td>0</td>\n",
              "      <td>Muy Negativo</td>\n",
              "      <td>[{'score': 0.60174, 'label': '/art and enterta...</td>\n",
              "      <td>art and entertainment</td>\n",
              "      <td>shows and events</td>\n",
              "      <td>NaN</td>\n",
              "    </tr>\n",
              "    <tr>\n",
              "      <th>7808</th>\n",
              "      <td>Mon Aug 09</td>\n",
              "      <td>13</td>\n",
              "      <td>No</td>\n",
              "      <td>0</td>\n",
              "      <td>4</td>\n",
              "      <td>NaN</td>\n",
              "      <td>Otro</td>\n",
              "      <td>False</td>\n",
              "      <td>2501</td>\n",
              "      <td>874</td>\n",
              "      <td>...</td>\n",
              "      <td>No</td>\n",
              "      <td>Otro</td>\n",
              "      <td>False</td>\n",
              "      <td>12472</td>\n",
              "      <td>0</td>\n",
              "      <td>Neutro</td>\n",
              "      <td>[{'score': 0.986334, 'label': '/sports/climbin...</td>\n",
              "      <td>sports</td>\n",
              "      <td>climbing</td>\n",
              "      <td>NaN</td>\n",
              "    </tr>\n",
              "  </tbody>\n",
              "</table>\n",
              "<p>7809 rows × 21 columns</p>\n",
              "</div>"
            ]
          },
          "metadata": {},
          "execution_count": 29
        }
      ],
      "metadata": {
        "colab": {
          "base_uri": "https://localhost:8080/",
          "height": 524
        },
        "id": "FRgjWwzf6K8c",
        "outputId": "eb66a968-89c3-4722-9302-abed604ee087"
      }
    },
    {
      "cell_type": "code",
      "execution_count": 30,
      "source": [
        "from sklearn.compose import ColumnTransformer\n",
        "from sklearn.preprocessing import OneHotEncoder\n",
        "\n",
        "# Creamos un One Hot Encoder que nos ayude a dummificar las nuevas entradas\n",
        "# de las variables categóricas que incluyamos\n",
        "\n",
        "col_transformer = ColumnTransformer([\n",
        "    ('created_at', OneHotEncoder(drop='first'), ['created_at']),\n",
        "    ('retweeted', OneHotEncoder(drop=['No']), ['retweeted']), \n",
        "    ('is_reply', OneHotEncoder(drop=['No']), ['is_reply']), \n",
        "    ('source_device', OneHotEncoder(drop=['Otro']), ['source_device']),\n",
        "    ('user_location', OneHotEncoder(drop=['Otro']), ['user_location'])\n",
        "])"
      ],
      "outputs": [],
      "metadata": {
        "id": "u0NCVqgoycUv"
      }
    },
    {
      "cell_type": "markdown",
      "source": [
        "### B. RESULTADO DE APLICAR PRIMEROS MODELOS\n",
        "\n",
        "- LR: 0.424510 (0.017124)\n",
        "- RFC: 0.414779 (0.018737)\n",
        "- SVM: 0.416700 (0.017998)"
      ],
      "metadata": {
        "id": "7gtRzSrfRgLK"
      }
    }
  ]
}