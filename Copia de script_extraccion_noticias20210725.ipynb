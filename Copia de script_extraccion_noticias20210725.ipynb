{
  "nbformat": 4,
  "nbformat_minor": 0,
  "metadata": {
    "colab": {
      "name": "Noticias_extraccion_a_df.ipynb",
      "provenance": [],
      "collapsed_sections": []
    },
    "kernelspec": {
      "name": "python3",
      "display_name": "Python 3"
    },
    "language_info": {
      "name": "python"
    }
  },
  "cells": [
    {
      "cell_type": "markdown",
      "metadata": {
        "id": "sK-zjYZbSl3y"
      },
      "source": [
        "#### Extracción de datos de las noticias de google"
      ]
    },
    {
      "cell_type": "code",
      "metadata": {
        "colab": {
          "base_uri": "https://localhost:8080/"
        },
        "id": "FDJ3DsWvQjzq",
        "outputId": "bfa4f02e-aab8-42ce-b5c8-e5505f23e712"
      },
      "source": [
        "!pip install pygooglenews --upgrade"
      ],
      "execution_count": 1,
      "outputs": [
        {
          "output_type": "stream",
          "text": [
            "Collecting pygooglenews\n",
            "  Downloading pygooglenews-0.1.2-py3-none-any.whl (10 kB)\n",
            "Collecting feedparser<6.0.0,>=5.2.1\n",
            "  Downloading feedparser-5.2.1.zip (1.2 MB)\n",
            "\u001b[K     |████████████████████████████████| 1.2 MB 7.2 MB/s \n",
            "\u001b[?25hCollecting requests<3.0.0,>=2.24.0\n",
            "  Downloading requests-2.26.0-py2.py3-none-any.whl (62 kB)\n",
            "\u001b[K     |████████████████████████████████| 62 kB 691 kB/s \n",
            "\u001b[?25hCollecting beautifulsoup4<5.0.0,>=4.9.1\n",
            "  Downloading beautifulsoup4-4.9.3-py3-none-any.whl (115 kB)\n",
            "\u001b[K     |████████████████████████████████| 115 kB 38.5 MB/s \n",
            "\u001b[?25hCollecting dateparser<0.8.0,>=0.7.6\n",
            "  Downloading dateparser-0.7.6-py2.py3-none-any.whl (362 kB)\n",
            "\u001b[K     |████████████████████████████████| 362 kB 34.9 MB/s \n",
            "\u001b[?25hCollecting soupsieve>1.2\n",
            "  Downloading soupsieve-2.2.1-py3-none-any.whl (33 kB)\n",
            "Requirement already satisfied: tzlocal in /usr/local/lib/python3.7/dist-packages (from dateparser<0.8.0,>=0.7.6->pygooglenews) (1.5.1)\n",
            "Requirement already satisfied: pytz in /usr/local/lib/python3.7/dist-packages (from dateparser<0.8.0,>=0.7.6->pygooglenews) (2018.9)\n",
            "Requirement already satisfied: regex!=2019.02.19 in /usr/local/lib/python3.7/dist-packages (from dateparser<0.8.0,>=0.7.6->pygooglenews) (2019.12.20)\n",
            "Requirement already satisfied: python-dateutil in /usr/local/lib/python3.7/dist-packages (from dateparser<0.8.0,>=0.7.6->pygooglenews) (2.8.1)\n",
            "Requirement already satisfied: certifi>=2017.4.17 in /usr/local/lib/python3.7/dist-packages (from requests<3.0.0,>=2.24.0->pygooglenews) (2021.5.30)\n",
            "Requirement already satisfied: charset-normalizer~=2.0.0 in /usr/local/lib/python3.7/dist-packages (from requests<3.0.0,>=2.24.0->pygooglenews) (2.0.2)\n",
            "Requirement already satisfied: idna<4,>=2.5 in /usr/local/lib/python3.7/dist-packages (from requests<3.0.0,>=2.24.0->pygooglenews) (2.10)\n",
            "Requirement already satisfied: urllib3<1.27,>=1.21.1 in /usr/local/lib/python3.7/dist-packages (from requests<3.0.0,>=2.24.0->pygooglenews) (1.24.3)\n",
            "Requirement already satisfied: six>=1.5 in /usr/local/lib/python3.7/dist-packages (from python-dateutil->dateparser<0.8.0,>=0.7.6->pygooglenews) (1.15.0)\n",
            "Building wheels for collected packages: feedparser\n",
            "  Building wheel for feedparser (setup.py) ... \u001b[?25l\u001b[?25hdone\n",
            "  Created wheel for feedparser: filename=feedparser-5.2.1-py3-none-any.whl size=44954 sha256=c50fdbb6100d56aa9f62c03d74ac8aebb10287e35ca41e7a44d9b3171688dea2\n",
            "  Stored in directory: /root/.cache/pip/wheels/29/bf/46/b4a597d435d3aee6c2fa583824897336d65abf13ebe3405b70\n",
            "Successfully built feedparser\n",
            "Installing collected packages: soupsieve, requests, feedparser, dateparser, beautifulsoup4, pygooglenews\n",
            "  Attempting uninstall: requests\n",
            "    Found existing installation: requests 2.23.0\n",
            "    Uninstalling requests-2.23.0:\n",
            "      Successfully uninstalled requests-2.23.0\n",
            "  Attempting uninstall: beautifulsoup4\n",
            "    Found existing installation: beautifulsoup4 4.6.3\n",
            "    Uninstalling beautifulsoup4-4.6.3:\n",
            "      Successfully uninstalled beautifulsoup4-4.6.3\n",
            "\u001b[31mERROR: pip's dependency resolver does not currently take into account all the packages that are installed. This behaviour is the source of the following dependency conflicts.\n",
            "google-colab 1.0.0 requires requests~=2.23.0, but you have requests 2.26.0 which is incompatible.\n",
            "datascience 0.10.6 requires folium==0.2.1, but you have folium 0.8.3 which is incompatible.\u001b[0m\n",
            "Successfully installed beautifulsoup4-4.9.3 dateparser-0.7.6 feedparser-5.2.1 pygooglenews-0.1.2 requests-2.26.0 soupsieve-2.2.1\n"
          ],
          "name": "stdout"
        }
      ]
    },
    {
      "cell_type": "markdown",
      "metadata": {
        "id": "FLDyVyGCSsZ-"
      },
      "source": [
        "Documentación `pygooglenews`: https://github.com/kotartemiy/pygooglenews#googlenews-class"
      ]
    },
    {
      "cell_type": "code",
      "metadata": {
        "id": "Ah_oxeP-SISA"
      },
      "source": [
        "from pygooglenews import GoogleNews\n",
        "\n",
        "# Busco en inglés pero podría hacerse en español\n",
        "gn = GoogleNews(lang=\"en\", country=\"US\")\n",
        "\n",
        "# top_news() devuelve las principales noticias según el lenguaje y país que hayamos seleccionado\n",
        "top_news = gn.top_news()"
      ],
      "execution_count": 9,
      "outputs": []
    },
    {
      "cell_type": "code",
      "metadata": {
        "id": "CStVeATqTjyB"
      },
      "source": [
        "# Búsqueda personalizada (ver documentación para más opciones)\n",
        "# Fechas, número de entradas, etc.\n",
        "\n",
        "s = gn.search('Apple OR Iphone')"
      ],
      "execution_count": 10,
      "outputs": []
    },
    {
      "cell_type": "code",
      "metadata": {
        "colab": {
          "base_uri": "https://localhost:8080/"
        },
        "id": "rRSK2TGoUbNr",
        "outputId": "d35af8a8-4558-4329-e817-84df0f6b72f0"
      },
      "source": [
        "s[\"entries\"][0]"
      ],
      "execution_count": 29,
      "outputs": [
        {
          "output_type": "execute_result",
          "data": {
            "text/plain": [
              "{'guidislink': False,\n",
              " 'id': 'CAIiEOiLRUjJnfClNkbJ3H07NC4qFQgEKg0IACoGCAowrqkBMKBFMMGBAg',\n",
              " 'link': 'https://www.forbes.com/sites/gordonkelly/2021/07/24/apple-iphone-13-pro-max-storage-lidar-1tb-upgrade-iphone-12-pro-max/',\n",
              " 'links': [{'href': 'https://www.forbes.com/sites/gordonkelly/2021/07/24/apple-iphone-13-pro-max-storage-lidar-1tb-upgrade-iphone-12-pro-max/',\n",
              "   'rel': 'alternate',\n",
              "   'type': 'text/html'}],\n",
              " 'published': 'Sat, 24 Jul 2021 13:22:52 GMT',\n",
              " 'published_parsed': time.struct_time(tm_year=2021, tm_mon=7, tm_mday=24, tm_hour=13, tm_min=22, tm_sec=52, tm_wday=5, tm_yday=205, tm_isdst=0),\n",
              " 'source': {'href': 'https://www.forbes.com', 'title': 'Forbes'},\n",
              " 'sub_articles': [],\n",
              " 'summary': '<a href=\"https://www.forbes.com/sites/gordonkelly/2021/07/24/apple-iphone-13-pro-max-storage-lidar-1tb-upgrade-iphone-12-pro-max/\" target=\"_blank\">New Apple Exclusive Reveals Massive iPhone 13 Upgrades</a>&nbsp;&nbsp;<font color=\"#6f6f6f\">Forbes</font>',\n",
              " 'summary_detail': {'base': '',\n",
              "  'language': None,\n",
              "  'type': 'text/html',\n",
              "  'value': '<a href=\"https://www.forbes.com/sites/gordonkelly/2021/07/24/apple-iphone-13-pro-max-storage-lidar-1tb-upgrade-iphone-12-pro-max/\" target=\"_blank\">New Apple Exclusive Reveals Massive iPhone 13 Upgrades</a>&nbsp;&nbsp;<font color=\"#6f6f6f\">Forbes</font>'},\n",
              " 'title': 'New Apple Exclusive Reveals Massive iPhone 13 Upgrades - Forbes',\n",
              " 'title_detail': {'base': '',\n",
              "  'language': None,\n",
              "  'type': 'text/plain',\n",
              "  'value': 'New Apple Exclusive Reveals Massive iPhone 13 Upgrades - Forbes'}}"
            ]
          },
          "metadata": {
            "tags": []
          },
          "execution_count": 29
        }
      ]
    },
    {
      "cell_type": "code",
      "metadata": {
        "colab": {
          "base_uri": "https://localhost:8080/"
        },
        "id": "_g7cjsxqVm4c",
        "outputId": "9584f79b-3b4a-459f-97a6-9509d925bf0e"
      },
      "source": [
        "s.keys()"
      ],
      "execution_count": 22,
      "outputs": [
        {
          "output_type": "execute_result",
          "data": {
            "text/plain": [
              "dict_keys(['feed', 'entries'])"
            ]
          },
          "metadata": {
            "tags": []
          },
          "execution_count": 22
        }
      ]
    },
    {
      "cell_type": "code",
      "metadata": {
        "colab": {
          "base_uri": "https://localhost:8080/",
          "height": 764
        },
        "id": "jx4Uq6XaTSgI",
        "outputId": "f5e66b8c-b725-447f-c51b-5b79375d988b"
      },
      "source": [
        "import pandas as pd\n",
        "\n",
        "data_news = pd.DataFrame(s[\"entries\"])\n",
        "data_news.head()"
      ],
      "execution_count": 27,
      "outputs": [
        {
          "output_type": "execute_result",
          "data": {
            "text/html": [
              "<div>\n",
              "<style scoped>\n",
              "    .dataframe tbody tr th:only-of-type {\n",
              "        vertical-align: middle;\n",
              "    }\n",
              "\n",
              "    .dataframe tbody tr th {\n",
              "        vertical-align: top;\n",
              "    }\n",
              "\n",
              "    .dataframe thead th {\n",
              "        text-align: right;\n",
              "    }\n",
              "</style>\n",
              "<table border=\"1\" class=\"dataframe\">\n",
              "  <thead>\n",
              "    <tr style=\"text-align: right;\">\n",
              "      <th></th>\n",
              "      <th>title</th>\n",
              "      <th>title_detail</th>\n",
              "      <th>links</th>\n",
              "      <th>link</th>\n",
              "      <th>id</th>\n",
              "      <th>guidislink</th>\n",
              "      <th>published</th>\n",
              "      <th>published_parsed</th>\n",
              "      <th>summary</th>\n",
              "      <th>summary_detail</th>\n",
              "      <th>source</th>\n",
              "      <th>sub_articles</th>\n",
              "    </tr>\n",
              "  </thead>\n",
              "  <tbody>\n",
              "    <tr>\n",
              "      <th>0</th>\n",
              "      <td>New Apple Exclusive Reveals Massive iPhone 13 ...</td>\n",
              "      <td>{'type': 'text/plain', 'language': None, 'base...</td>\n",
              "      <td>[{'rel': 'alternate', 'type': 'text/html', 'hr...</td>\n",
              "      <td>https://www.forbes.com/sites/gordonkelly/2021/...</td>\n",
              "      <td>CAIiEOiLRUjJnfClNkbJ3H07NC4qFQgEKg0IACoGCAowrq...</td>\n",
              "      <td>False</td>\n",
              "      <td>Sat, 24 Jul 2021 13:22:52 GMT</td>\n",
              "      <td>(2021, 7, 24, 13, 22, 52, 5, 205, 0)</td>\n",
              "      <td>&lt;a href=\"https://www.forbes.com/sites/gordonke...</td>\n",
              "      <td>{'type': 'text/html', 'language': None, 'base'...</td>\n",
              "      <td>{'href': 'https://www.forbes.com', 'title': 'F...</td>\n",
              "      <td>[]</td>\n",
              "    </tr>\n",
              "    <tr>\n",
              "      <th>1</th>\n",
              "      <td>New Apple Leak Reveals iPhone 13 Design Shock ...</td>\n",
              "      <td>{'type': 'text/plain', 'language': None, 'base...</td>\n",
              "      <td>[{'rel': 'alternate', 'type': 'text/html', 'hr...</td>\n",
              "      <td>https://www.forbes.com/sites/gordonkelly/2021/...</td>\n",
              "      <td>CAIiEFtKG760wVV7uccHXBt3vBgqFQgEKg0IACoGCAowrq...</td>\n",
              "      <td>False</td>\n",
              "      <td>Sat, 24 Jul 2021 13:22:46 GMT</td>\n",
              "      <td>(2021, 7, 24, 13, 22, 46, 5, 205, 0)</td>\n",
              "      <td>&lt;a href=\"https://www.forbes.com/sites/gordonke...</td>\n",
              "      <td>{'type': 'text/html', 'language': None, 'base'...</td>\n",
              "      <td>{'href': 'https://www.forbes.com', 'title': 'F...</td>\n",
              "      <td>[]</td>\n",
              "    </tr>\n",
              "    <tr>\n",
              "      <th>2</th>\n",
              "      <td>Buy an iPhone 12 now or wait for the iPhone 13...</td>\n",
              "      <td>{'type': 'text/plain', 'language': None, 'base...</td>\n",
              "      <td>[{'rel': 'alternate', 'type': 'text/html', 'hr...</td>\n",
              "      <td>https://www.cnet.com/tech/mobile/buy-an-iphone...</td>\n",
              "      <td>CAIiEAFlhNEgv31IMFKfG2qyDcIqEwgEKgwIACoFCAow4G...</td>\n",
              "      <td>False</td>\n",
              "      <td>Sun, 25 Jul 2021 08:00:04 GMT</td>\n",
              "      <td>(2021, 7, 25, 8, 0, 4, 6, 206, 0)</td>\n",
              "      <td>&lt;a href=\"https://www.cnet.com/tech/mobile/buy-...</td>\n",
              "      <td>{'type': 'text/html', 'language': None, 'base'...</td>\n",
              "      <td>{'href': 'https://www.cnet.com', 'title': 'CNET'}</td>\n",
              "      <td>[]</td>\n",
              "    </tr>\n",
              "    <tr>\n",
              "      <th>3</th>\n",
              "      <td>Apple AirPods Pro And Beats Studio Buds: Head-...</td>\n",
              "      <td>{'type': 'text/plain', 'language': None, 'base...</td>\n",
              "      <td>[{'rel': 'alternate', 'type': 'text/html', 'hr...</td>\n",
              "      <td>https://www.forbes.com/sites/davidphelan/2021/...</td>\n",
              "      <td>CAIiEPJ4wQy9rZG-QnEJ06IRoF8qFQgEKg0IACoGCAowrq...</td>\n",
              "      <td>False</td>\n",
              "      <td>Sun, 25 Jul 2021 11:00:00 GMT</td>\n",
              "      <td>(2021, 7, 25, 11, 0, 0, 6, 206, 0)</td>\n",
              "      <td>&lt;a href=\"https://www.forbes.com/sites/davidphe...</td>\n",
              "      <td>{'type': 'text/html', 'language': None, 'base'...</td>\n",
              "      <td>{'href': 'https://www.forbes.com', 'title': 'F...</td>\n",
              "      <td>[]</td>\n",
              "    </tr>\n",
              "    <tr>\n",
              "      <th>4</th>\n",
              "      <td>Apple Loop: Massive iPhone Security Warnings, ...</td>\n",
              "      <td>{'type': 'text/plain', 'language': None, 'base...</td>\n",
              "      <td>[{'rel': 'alternate', 'type': 'text/html', 'hr...</td>\n",
              "      <td>https://www.forbes.com/sites/ewanspence/2021/0...</td>\n",
              "      <td>CAIiEKtm6Qg0ql5RTPUg0CeH0SEqFQgEKg0IACoGCAowrq...</td>\n",
              "      <td>False</td>\n",
              "      <td>Fri, 23 Jul 2021 23:32:19 GMT</td>\n",
              "      <td>(2021, 7, 23, 23, 32, 19, 4, 204, 0)</td>\n",
              "      <td>&lt;a href=\"https://www.forbes.com/sites/ewanspen...</td>\n",
              "      <td>{'type': 'text/html', 'language': None, 'base'...</td>\n",
              "      <td>{'href': 'https://www.forbes.com', 'title': 'F...</td>\n",
              "      <td>[]</td>\n",
              "    </tr>\n",
              "  </tbody>\n",
              "</table>\n",
              "</div>"
            ],
            "text/plain": [
              "                                               title  ... sub_articles\n",
              "0  New Apple Exclusive Reveals Massive iPhone 13 ...  ...           []\n",
              "1  New Apple Leak Reveals iPhone 13 Design Shock ...  ...           []\n",
              "2  Buy an iPhone 12 now or wait for the iPhone 13...  ...           []\n",
              "3  Apple AirPods Pro And Beats Studio Buds: Head-...  ...           []\n",
              "4  Apple Loop: Massive iPhone Security Warnings, ...  ...           []\n",
              "\n",
              "[5 rows x 12 columns]"
            ]
          },
          "metadata": {
            "tags": []
          },
          "execution_count": 27
        }
      ]
    }
  ]
}