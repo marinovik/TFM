{
  "nbformat": 4,
  "nbformat_minor": 0,
  "metadata": {
    "colab": {
      "name": "Modelos_v0_20210820.ipynb",
      "provenance": [],
      "collapsed_sections": []
    },
    "kernelspec": {
      "name": "python3",
      "display_name": "Python 3"
    },
    "language_info": {
      "name": "python"
    }
  },
  "cells": [
    {
      "cell_type": "markdown",
      "metadata": {
        "id": "Rk4gYKxNh3F_"
      },
      "source": [
        "### A. CREACIÓN DE VARIABLES OBJETIVO"
      ]
    },
    {
      "cell_type": "code",
      "metadata": {
        "id": "bwSgTybNh1Jz"
      },
      "source": [
        "import pandas as pd\n",
        "\n",
        "# Abrimos el fichero anterior de la carpeta\n",
        "df = pd.read_csv(\"./data-unsupervised-sentiment-20210819.csv\")"
      ],
      "execution_count": 300,
      "outputs": []
    },
    {
      "cell_type": "code",
      "metadata": {
        "colab": {
          "base_uri": "https://localhost:8080/"
        },
        "id": "5Bt3uQHEljb0",
        "outputId": "c397ce8e-2ada-4a37-f5ca-bae8578a9b3f"
      },
      "source": [
        "# Comprobamos las dimensiones del df\n",
        "df.shape"
      ],
      "execution_count": 301,
      "outputs": [
        {
          "output_type": "execute_result",
          "data": {
            "text/plain": [
              "(7927, 29)"
            ]
          },
          "metadata": {},
          "execution_count": 301
        }
      ]
    },
    {
      "cell_type": "code",
      "metadata": {
        "id": "2cO8rghggWtS"
      },
      "source": [
        "# Función que hace la media ponderada\n",
        "\n",
        "def media(num1,num2,num3):\n",
        "  \n",
        "  a = 1/5\n",
        "  b = 1/5\n",
        "  c = 3/5\n",
        "\n",
        "  m = a*float(num1) + b*float(num2) + c*float(num3)\n",
        "\n",
        "  return m"
      ],
      "execution_count": 302,
      "outputs": []
    },
    {
      "cell_type": "code",
      "metadata": {
        "colab": {
          "base_uri": "https://localhost:8080/",
          "height": 436
        },
        "id": "1kzvqfnYgKRf",
        "outputId": "c9b1ad60-7f2f-458e-81a1-750e403c22d1"
      },
      "source": [
        "import numpy as np\n",
        "\n",
        "# Creamos la variable del sentimiento final en base a la media de los anteriores\n",
        "variables = ['possitivity_textblob','possitivity_vader','possitivity_ibm']\n",
        "df['sentiment_mean'] = df[variables].apply(np.mean, axis=1)\n",
        "df[[\"text\",\"sentiment_mean\", \"possitivity_textblob\", \"possitivity_vader\", 'possitivity_ibm']]"
      ],
      "execution_count": 303,
      "outputs": [
        {
          "output_type": "execute_result",
          "data": {
            "text/html": [
              "<div>\n",
              "<style scoped>\n",
              "    .dataframe tbody tr th:only-of-type {\n",
              "        vertical-align: middle;\n",
              "    }\n",
              "\n",
              "    .dataframe tbody tr th {\n",
              "        vertical-align: top;\n",
              "    }\n",
              "\n",
              "    .dataframe thead th {\n",
              "        text-align: right;\n",
              "    }\n",
              "</style>\n",
              "<table border=\"1\" class=\"dataframe\">\n",
              "  <thead>\n",
              "    <tr style=\"text-align: right;\">\n",
              "      <th></th>\n",
              "      <th>text</th>\n",
              "      <th>sentiment_mean</th>\n",
              "      <th>possitivity_textblob</th>\n",
              "      <th>possitivity_vader</th>\n",
              "      <th>possitivity_ibm</th>\n",
              "    </tr>\n",
              "  </thead>\n",
              "  <tbody>\n",
              "    <tr>\n",
              "      <th>0</th>\n",
              "      <td>@Uber_Support hi guys why all my trips this we...</td>\n",
              "      <td>-0.304133</td>\n",
              "      <td>0.000000</td>\n",
              "      <td>0.0000</td>\n",
              "      <td>-0.912398</td>\n",
              "    </tr>\n",
              "    <tr>\n",
              "      <th>1</th>\n",
              "      <td>So are we getting Uber eats league 1 or not @S...</td>\n",
              "      <td>0.000000</td>\n",
              "      <td>0.000000</td>\n",
              "      <td>0.0000</td>\n",
              "      <td>0.000000</td>\n",
              "    </tr>\n",
              "    <tr>\n",
              "      <th>2</th>\n",
              "      <td>@footballdaily 2-3 years of Messi, a bit of ca...</td>\n",
              "      <td>-0.184964</td>\n",
              "      <td>-0.333333</td>\n",
              "      <td>0.5859</td>\n",
              "      <td>-0.807459</td>\n",
              "    </tr>\n",
              "    <tr>\n",
              "      <th>3</th>\n",
              "      <td>@Prashan32439454 @Uber_Support @rameshjoshi80 ...</td>\n",
              "      <td>0.597995</td>\n",
              "      <td>0.455000</td>\n",
              "      <td>0.4754</td>\n",
              "      <td>0.863584</td>\n",
              "    </tr>\n",
              "    <tr>\n",
              "      <th>4</th>\n",
              "      <td>Uber's Gopuff partnership, Drizly deal being p...</td>\n",
              "      <td>-0.262792</td>\n",
              "      <td>0.000000</td>\n",
              "      <td>0.0000</td>\n",
              "      <td>-0.788377</td>\n",
              "    </tr>\n",
              "    <tr>\n",
              "      <th>...</th>\n",
              "      <td>...</td>\n",
              "      <td>...</td>\n",
              "      <td>...</td>\n",
              "      <td>...</td>\n",
              "      <td>...</td>\n",
              "    </tr>\n",
              "    <tr>\n",
              "      <th>7922</th>\n",
              "      <td>Over 3,800 rides in over 3.5 years one blown t...</td>\n",
              "      <td>-0.140505</td>\n",
              "      <td>0.000000</td>\n",
              "      <td>0.4898</td>\n",
              "      <td>-0.911314</td>\n",
              "    </tr>\n",
              "    <tr>\n",
              "      <th>7923</th>\n",
              "      <td>@CoolABADev obviously i will want Messi to suc...</td>\n",
              "      <td>-0.226269</td>\n",
              "      <td>0.114286</td>\n",
              "      <td>-0.0333</td>\n",
              "      <td>-0.759793</td>\n",
              "    </tr>\n",
              "    <tr>\n",
              "      <th>7924</th>\n",
              "      <td>@catekitchen Shit, that’s absolutely a crap si...</td>\n",
              "      <td>-0.648893</td>\n",
              "      <td>-0.250000</td>\n",
              "      <td>-0.7086</td>\n",
              "      <td>-0.988080</td>\n",
              "    </tr>\n",
              "    <tr>\n",
              "      <th>7925</th>\n",
              "      <td>Simply don’t take a Uber then dumb ass https:/...</td>\n",
              "      <td>-0.656114</td>\n",
              "      <td>-0.187500</td>\n",
              "      <td>-0.8096</td>\n",
              "      <td>-0.971243</td>\n",
              "    </tr>\n",
              "    <tr>\n",
              "      <th>7926</th>\n",
              "      <td>Uber, Lyft prices keep climbing to new highs, ...</td>\n",
              "      <td>0.045455</td>\n",
              "      <td>0.136364</td>\n",
              "      <td>0.0000</td>\n",
              "      <td>0.000000</td>\n",
              "    </tr>\n",
              "  </tbody>\n",
              "</table>\n",
              "<p>7927 rows × 5 columns</p>\n",
              "</div>"
            ],
            "text/plain": [
              "                                                   text  ...  possitivity_ibm\n",
              "0     @Uber_Support hi guys why all my trips this we...  ...        -0.912398\n",
              "1     So are we getting Uber eats league 1 or not @S...  ...         0.000000\n",
              "2     @footballdaily 2-3 years of Messi, a bit of ca...  ...        -0.807459\n",
              "3     @Prashan32439454 @Uber_Support @rameshjoshi80 ...  ...         0.863584\n",
              "4     Uber's Gopuff partnership, Drizly deal being p...  ...        -0.788377\n",
              "...                                                 ...  ...              ...\n",
              "7922  Over 3,800 rides in over 3.5 years one blown t...  ...        -0.911314\n",
              "7923  @CoolABADev obviously i will want Messi to suc...  ...        -0.759793\n",
              "7924  @catekitchen Shit, that’s absolutely a crap si...  ...        -0.988080\n",
              "7925  Simply don’t take a Uber then dumb ass https:/...  ...        -0.971243\n",
              "7926  Uber, Lyft prices keep climbing to new highs, ...  ...         0.000000\n",
              "\n",
              "[7927 rows x 5 columns]"
            ]
          },
          "metadata": {},
          "execution_count": 303
        }
      ]
    },
    {
      "cell_type": "code",
      "metadata": {
        "colab": {
          "base_uri": "https://localhost:8080/",
          "height": 677
        },
        "id": "d9c2p04diQ9t",
        "outputId": "fe0cd777-0c61-4d70-f3c3-2ca5e758e680"
      },
      "source": [
        "# Limpio los datos que tienen 9999 en la variable possitivity_ibm\n",
        "# Estos tweets están en idiomas no detectables por la librería \n",
        "\n",
        "df.loc[df['possitivity_ibm'] > 1]"
      ],
      "execution_count": 304,
      "outputs": [
        {
          "output_type": "execute_result",
          "data": {
            "text/html": [
              "<div>\n",
              "<style scoped>\n",
              "    .dataframe tbody tr th:only-of-type {\n",
              "        vertical-align: middle;\n",
              "    }\n",
              "\n",
              "    .dataframe tbody tr th {\n",
              "        vertical-align: top;\n",
              "    }\n",
              "\n",
              "    .dataframe thead th {\n",
              "        text-align: right;\n",
              "    }\n",
              "</style>\n",
              "<table border=\"1\" class=\"dataframe\">\n",
              "  <thead>\n",
              "    <tr style=\"text-align: right;\">\n",
              "      <th></th>\n",
              "      <th>Unnamed: 0</th>\n",
              "      <th>Unnamed: 0.1</th>\n",
              "      <th>Unnamed: 0.1.1</th>\n",
              "      <th>text</th>\n",
              "      <th>created_at</th>\n",
              "      <th>created_at_time</th>\n",
              "      <th>created_at_hour</th>\n",
              "      <th>retweeted</th>\n",
              "      <th>retweet_count</th>\n",
              "      <th>favorite_count</th>\n",
              "      <th>user_ verified</th>\n",
              "      <th>user_id</th>\n",
              "      <th>user_name</th>\n",
              "      <th>user_location</th>\n",
              "      <th>user_notificacion</th>\n",
              "      <th>user_followers</th>\n",
              "      <th>user_friends</th>\n",
              "      <th>user_withheld_in_countries</th>\n",
              "      <th>mentions_in_tweet</th>\n",
              "      <th>is_reply</th>\n",
              "      <th>source_device</th>\n",
              "      <th>finished_tweet</th>\n",
              "      <th>status_count</th>\n",
              "      <th>hashtags_text</th>\n",
              "      <th>hastags_indices</th>\n",
              "      <th>hastags_in_tweet</th>\n",
              "      <th>possitivity_textblob</th>\n",
              "      <th>possitivity_vader</th>\n",
              "      <th>possitivity_ibm</th>\n",
              "      <th>sentiment_mean</th>\n",
              "    </tr>\n",
              "  </thead>\n",
              "  <tbody>\n",
              "    <tr>\n",
              "      <th>190</th>\n",
              "      <td>190</td>\n",
              "      <td>296</td>\n",
              "      <td>296</td>\n",
              "      <td>@__rainy12__ Uber ne theka diya h personal dri...</td>\n",
              "      <td>Wed Aug 11</td>\n",
              "      <td>09:15:00</td>\n",
              "      <td>9</td>\n",
              "      <td>No</td>\n",
              "      <td>0</td>\n",
              "      <td>1</td>\n",
              "      <td>NaN</td>\n",
              "      <td>1197803093196303872</td>\n",
              "      <td>yashi_mk</td>\n",
              "      <td>India</td>\n",
              "      <td>False</td>\n",
              "      <td>23</td>\n",
              "      <td>37</td>\n",
              "      <td>[]</td>\n",
              "      <td>1</td>\n",
              "      <td>__rainy12__</td>\n",
              "      <td>Twitter Web App</td>\n",
              "      <td>False</td>\n",
              "      <td>1250</td>\n",
              "      <td>[]</td>\n",
              "      <td>[]</td>\n",
              "      <td>0</td>\n",
              "      <td>0.2</td>\n",
              "      <td>0.0000</td>\n",
              "      <td>9999.0</td>\n",
              "      <td>3333.066667</td>\n",
              "    </tr>\n",
              "    <tr>\n",
              "      <th>208</th>\n",
              "      <td>208</td>\n",
              "      <td>329</td>\n",
              "      <td>329</td>\n",
              "      <td>i'm in an uber</td>\n",
              "      <td>Wed Aug 11</td>\n",
              "      <td>09:12:27</td>\n",
              "      <td>9</td>\n",
              "      <td>No</td>\n",
              "      <td>0</td>\n",
              "      <td>1</td>\n",
              "      <td>NaN</td>\n",
              "      <td>1396111086852660992</td>\n",
              "      <td>girlalmightyhry</td>\n",
              "      <td>Ot5 | harry's lane | larrie</td>\n",
              "      <td>False</td>\n",
              "      <td>173</td>\n",
              "      <td>330</td>\n",
              "      <td>[]</td>\n",
              "      <td>0</td>\n",
              "      <td>No</td>\n",
              "      <td>Twitter for Android</td>\n",
              "      <td>False</td>\n",
              "      <td>683</td>\n",
              "      <td>[]</td>\n",
              "      <td>[]</td>\n",
              "      <td>0</td>\n",
              "      <td>0.0</td>\n",
              "      <td>0.0000</td>\n",
              "      <td>9999.0</td>\n",
              "      <td>3333.000000</td>\n",
              "    </tr>\n",
              "    <tr>\n",
              "      <th>228</th>\n",
              "      <td>228</td>\n",
              "      <td>382</td>\n",
              "      <td>382</td>\n",
              "      <td>@NazneenTowhid @BajrangPunia Just Shut up, you...</td>\n",
              "      <td>Wed Aug 11</td>\n",
              "      <td>09:07:57</td>\n",
              "      <td>9</td>\n",
              "      <td>No</td>\n",
              "      <td>0</td>\n",
              "      <td>0</td>\n",
              "      <td>NaN</td>\n",
              "      <td>836633428149878784</td>\n",
              "      <td>Kittu9964</td>\n",
              "      <td>Hyderabad, India</td>\n",
              "      <td>False</td>\n",
              "      <td>52</td>\n",
              "      <td>81</td>\n",
              "      <td>[]</td>\n",
              "      <td>2</td>\n",
              "      <td>NazneenTowhid</td>\n",
              "      <td>Twitter for Android</td>\n",
              "      <td>False</td>\n",
              "      <td>4497</td>\n",
              "      <td>[]</td>\n",
              "      <td>[]</td>\n",
              "      <td>0</td>\n",
              "      <td>-0.6</td>\n",
              "      <td>0.5900</td>\n",
              "      <td>9999.0</td>\n",
              "      <td>3332.996667</td>\n",
              "    </tr>\n",
              "    <tr>\n",
              "      <th>284</th>\n",
              "      <td>284</td>\n",
              "      <td>485</td>\n",
              "      <td>485</td>\n",
              "      <td>@Colombo_Ladyy Uber eats 😬</td>\n",
              "      <td>Wed Aug 11</td>\n",
              "      <td>09:00:02</td>\n",
              "      <td>9</td>\n",
              "      <td>No</td>\n",
              "      <td>0</td>\n",
              "      <td>0</td>\n",
              "      <td>NaN</td>\n",
              "      <td>556861783</td>\n",
              "      <td>Wathmina</td>\n",
              "      <td>NaN</td>\n",
              "      <td>False</td>\n",
              "      <td>516</td>\n",
              "      <td>1387</td>\n",
              "      <td>[]</td>\n",
              "      <td>1</td>\n",
              "      <td>Colombo_Ladyy</td>\n",
              "      <td>Twitter for Android</td>\n",
              "      <td>False</td>\n",
              "      <td>5614</td>\n",
              "      <td>[]</td>\n",
              "      <td>[]</td>\n",
              "      <td>0</td>\n",
              "      <td>0.0</td>\n",
              "      <td>-0.3976</td>\n",
              "      <td>9999.0</td>\n",
              "      <td>3332.867467</td>\n",
              "    </tr>\n",
              "    <tr>\n",
              "      <th>292</th>\n",
              "      <td>292</td>\n",
              "      <td>502</td>\n",
              "      <td>502</td>\n",
              "      <td>[DRAW] \\n\\n📍 Thomas &amp;amp; Uber Cup (18 Agustus...</td>\n",
              "      <td>Wed Aug 11</td>\n",
              "      <td>08:58:23</td>\n",
              "      <td>8</td>\n",
              "      <td>Si</td>\n",
              "      <td>15</td>\n",
              "      <td>0</td>\n",
              "      <td>NaN</td>\n",
              "      <td>1376137421218217984</td>\n",
              "      <td>bingungnama</td>\n",
              "      <td>NaN</td>\n",
              "      <td>False</td>\n",
              "      <td>1</td>\n",
              "      <td>187</td>\n",
              "      <td>[]</td>\n",
              "      <td>1</td>\n",
              "      <td>No</td>\n",
              "      <td>Twitter for Android</td>\n",
              "      <td>False</td>\n",
              "      <td>985</td>\n",
              "      <td>[]</td>\n",
              "      <td>[]</td>\n",
              "      <td>0</td>\n",
              "      <td>0.0</td>\n",
              "      <td>0.0000</td>\n",
              "      <td>9999.0</td>\n",
              "      <td>3333.000000</td>\n",
              "    </tr>\n",
              "    <tr>\n",
              "      <th>...</th>\n",
              "      <td>...</td>\n",
              "      <td>...</td>\n",
              "      <td>...</td>\n",
              "      <td>...</td>\n",
              "      <td>...</td>\n",
              "      <td>...</td>\n",
              "      <td>...</td>\n",
              "      <td>...</td>\n",
              "      <td>...</td>\n",
              "      <td>...</td>\n",
              "      <td>...</td>\n",
              "      <td>...</td>\n",
              "      <td>...</td>\n",
              "      <td>...</td>\n",
              "      <td>...</td>\n",
              "      <td>...</td>\n",
              "      <td>...</td>\n",
              "      <td>...</td>\n",
              "      <td>...</td>\n",
              "      <td>...</td>\n",
              "      <td>...</td>\n",
              "      <td>...</td>\n",
              "      <td>...</td>\n",
              "      <td>...</td>\n",
              "      <td>...</td>\n",
              "      <td>...</td>\n",
              "      <td>...</td>\n",
              "      <td>...</td>\n",
              "      <td>...</td>\n",
              "      <td>...</td>\n",
              "    </tr>\n",
              "    <tr>\n",
              "      <th>7437</th>\n",
              "      <td>7437</td>\n",
              "      <td>18428</td>\n",
              "      <td>18428</td>\n",
              "      <td>Uber ta horrivel</td>\n",
              "      <td>Mon Aug 09</td>\n",
              "      <td>13:59:39</td>\n",
              "      <td>13</td>\n",
              "      <td>No</td>\n",
              "      <td>0</td>\n",
              "      <td>3</td>\n",
              "      <td>NaN</td>\n",
              "      <td>1111962760349433984</td>\n",
              "      <td>Bruninh88917151</td>\n",
              "      <td>Campo Grande, Brasil</td>\n",
              "      <td>False</td>\n",
              "      <td>188</td>\n",
              "      <td>251</td>\n",
              "      <td>[]</td>\n",
              "      <td>0</td>\n",
              "      <td>No</td>\n",
              "      <td>Twitter for Android</td>\n",
              "      <td>False</td>\n",
              "      <td>5271</td>\n",
              "      <td>[]</td>\n",
              "      <td>[]</td>\n",
              "      <td>0</td>\n",
              "      <td>0.0</td>\n",
              "      <td>0.0000</td>\n",
              "      <td>9999.0</td>\n",
              "      <td>3333.000000</td>\n",
              "    </tr>\n",
              "    <tr>\n",
              "      <th>7442</th>\n",
              "      <td>7442</td>\n",
              "      <td>18451</td>\n",
              "      <td>18451</td>\n",
              "      <td>@JennaEllisEsq Slow Uber day, jenny?</td>\n",
              "      <td>Mon Aug 09</td>\n",
              "      <td>13:58:42</td>\n",
              "      <td>13</td>\n",
              "      <td>No</td>\n",
              "      <td>0</td>\n",
              "      <td>0</td>\n",
              "      <td>NaN</td>\n",
              "      <td>427916103</td>\n",
              "      <td>BL33DZGR33N</td>\n",
              "      <td>Colorado</td>\n",
              "      <td>False</td>\n",
              "      <td>572</td>\n",
              "      <td>1668</td>\n",
              "      <td>[]</td>\n",
              "      <td>1</td>\n",
              "      <td>JennaEllisEsq</td>\n",
              "      <td>Twitter for Android</td>\n",
              "      <td>False</td>\n",
              "      <td>21539</td>\n",
              "      <td>[]</td>\n",
              "      <td>[]</td>\n",
              "      <td>0</td>\n",
              "      <td>-0.3</td>\n",
              "      <td>0.0000</td>\n",
              "      <td>9999.0</td>\n",
              "      <td>3332.900000</td>\n",
              "    </tr>\n",
              "    <tr>\n",
              "      <th>7535</th>\n",
              "      <td>7535</td>\n",
              "      <td>18721</td>\n",
              "      <td>18721</td>\n",
              "      <td>@FerroTV 👏👏👏 $UBER 🚀🚀</td>\n",
              "      <td>Mon Aug 09</td>\n",
              "      <td>13:49:06</td>\n",
              "      <td>13</td>\n",
              "      <td>No</td>\n",
              "      <td>0</td>\n",
              "      <td>0</td>\n",
              "      <td>NaN</td>\n",
              "      <td>28627177</td>\n",
              "      <td>theoldrepublic</td>\n",
              "      <td>Not financial advice. USA</td>\n",
              "      <td>False</td>\n",
              "      <td>243</td>\n",
              "      <td>1178</td>\n",
              "      <td>[]</td>\n",
              "      <td>1</td>\n",
              "      <td>FerroTV</td>\n",
              "      <td>Twitter Web App</td>\n",
              "      <td>False</td>\n",
              "      <td>12972</td>\n",
              "      <td>[]</td>\n",
              "      <td>[]</td>\n",
              "      <td>0</td>\n",
              "      <td>0.0</td>\n",
              "      <td>0.0000</td>\n",
              "      <td>9999.0</td>\n",
              "      <td>3333.000000</td>\n",
              "    </tr>\n",
              "    <tr>\n",
              "      <th>7583</th>\n",
              "      <td>7583</td>\n",
              "      <td>18879</td>\n",
              "      <td>18879</td>\n",
              "      <td>@Ty27AV Uber her home tf</td>\n",
              "      <td>Mon Aug 09</td>\n",
              "      <td>13:43:14</td>\n",
              "      <td>13</td>\n",
              "      <td>No</td>\n",
              "      <td>0</td>\n",
              "      <td>1</td>\n",
              "      <td>NaN</td>\n",
              "      <td>1413343110231470080</td>\n",
              "      <td>boirambino</td>\n",
              "      <td>NaN</td>\n",
              "      <td>False</td>\n",
              "      <td>19</td>\n",
              "      <td>96</td>\n",
              "      <td>[]</td>\n",
              "      <td>1</td>\n",
              "      <td>Ty27AV</td>\n",
              "      <td>Twitter for iPhone</td>\n",
              "      <td>False</td>\n",
              "      <td>25</td>\n",
              "      <td>[]</td>\n",
              "      <td>[]</td>\n",
              "      <td>0</td>\n",
              "      <td>0.0</td>\n",
              "      <td>0.0000</td>\n",
              "      <td>9999.0</td>\n",
              "      <td>3333.000000</td>\n",
              "    </tr>\n",
              "    <tr>\n",
              "      <th>7633</th>\n",
              "      <td>7633</td>\n",
              "      <td>19047</td>\n",
              "      <td>19047</td>\n",
              "      <td>Below200DaysMa\\n$UAVS $4.01 0.00% 0.00% -13.20...</td>\n",
              "      <td>Mon Aug 09</td>\n",
              "      <td>13:37:07</td>\n",
              "      <td>13</td>\n",
              "      <td>No</td>\n",
              "      <td>0</td>\n",
              "      <td>0</td>\n",
              "      <td>NaN</td>\n",
              "      <td>1259215707817955072</td>\n",
              "      <td>cho_wilfred</td>\n",
              "      <td>United States</td>\n",
              "      <td>False</td>\n",
              "      <td>93</td>\n",
              "      <td>1</td>\n",
              "      <td>[]</td>\n",
              "      <td>0</td>\n",
              "      <td>No</td>\n",
              "      <td>Stocks-Wilfred</td>\n",
              "      <td>False</td>\n",
              "      <td>37789</td>\n",
              "      <td>[]</td>\n",
              "      <td>[]</td>\n",
              "      <td>0</td>\n",
              "      <td>0.0</td>\n",
              "      <td>0.0000</td>\n",
              "      <td>9999.0</td>\n",
              "      <td>3333.000000</td>\n",
              "    </tr>\n",
              "  </tbody>\n",
              "</table>\n",
              "<p>118 rows × 30 columns</p>\n",
              "</div>"
            ],
            "text/plain": [
              "      Unnamed: 0  Unnamed: 0.1  ...  possitivity_ibm sentiment_mean\n",
              "190          190           296  ...           9999.0    3333.066667\n",
              "208          208           329  ...           9999.0    3333.000000\n",
              "228          228           382  ...           9999.0    3332.996667\n",
              "284          284           485  ...           9999.0    3332.867467\n",
              "292          292           502  ...           9999.0    3333.000000\n",
              "...          ...           ...  ...              ...            ...\n",
              "7437        7437         18428  ...           9999.0    3333.000000\n",
              "7442        7442         18451  ...           9999.0    3332.900000\n",
              "7535        7535         18721  ...           9999.0    3333.000000\n",
              "7583        7583         18879  ...           9999.0    3333.000000\n",
              "7633        7633         19047  ...           9999.0    3333.000000\n",
              "\n",
              "[118 rows x 30 columns]"
            ]
          },
          "metadata": {},
          "execution_count": 304
        }
      ]
    },
    {
      "cell_type": "code",
      "metadata": {
        "id": "gxIycTKFk-4x"
      },
      "source": [
        "df = df.drop(df.loc[df['possitivity_ibm'] > 1].index)"
      ],
      "execution_count": 305,
      "outputs": []
    },
    {
      "cell_type": "code",
      "metadata": {
        "colab": {
          "base_uri": "https://localhost:8080/"
        },
        "id": "CJbBeWtElZXP",
        "outputId": "a535acf4-76dd-41c2-eeee-c18c7d8f4c8d"
      },
      "source": [
        "# Comprobamos el nuevo df y las medidas del mismo\n",
        "df.shape"
      ],
      "execution_count": 306,
      "outputs": [
        {
          "output_type": "execute_result",
          "data": {
            "text/plain": [
              "(7809, 30)"
            ]
          },
          "metadata": {},
          "execution_count": 306
        }
      ]
    },
    {
      "cell_type": "markdown",
      "metadata": {
        "id": "2UdyvVy0gkEQ"
      },
      "source": [
        "### Definición de la variable objetivo\n",
        "\n",
        "Actualmente ya tenemos definida la variable objetivo.\n",
        "\n",
        "'sentiment_media' es una variable que especifica el grado de positividad de cada tweet en una escala de -1 a 1 pero, para que sea más claro, estandarizaremos la variable a la escala de 0 a 1. De esta forma podemos definir el grado de positividad como un porcentaje, es decir, el tweet es un X% positivo.\n",
        "\n",
        "Como nos interesa que la variable objetivo sea categórica, dividiremos en 5 categorias la estandarización anterior, de forma que el tweet se considere:\n",
        "- Muy negativo: 0 - 0.2\n",
        "- Negativo: 0.2 - 0.4\n",
        "- Neutro: 0.4 - 0.6\n",
        "- Positivo: 0.6 - 0.8\n",
        "- Muy positivo: 0.8 - 1\n",
        "\n",
        "Tomando como intervalo cerrado el mayor valor de cada rango, salvo en la primera categoría, que también se incluirá el 0."
      ]
    },
    {
      "cell_type": "code",
      "metadata": {
        "id": "rMbSFB1ugcW1"
      },
      "source": [
        "# Creamos la escala \n",
        "\n",
        "min = -1\n",
        "max = 1\n",
        "def scaler(numero):\n",
        "  result = (numero - min) / (max - min)\n",
        "  return result"
      ],
      "execution_count": 307,
      "outputs": []
    },
    {
      "cell_type": "code",
      "metadata": {
        "colab": {
          "base_uri": "https://localhost:8080/",
          "height": 606
        },
        "id": "5k4HRnhCgpbA",
        "outputId": "a094bc63-52e1-4c89-ce0b-34edf91016f6"
      },
      "source": [
        "# Normalizamos la variable 'sentiment_media'\n",
        "\n",
        "df['sentiment_norm'] = df['sentiment_mean'].apply(lambda x: scaler(x))\n",
        "df[[\"text\",'sentiment_norm',\"sentiment_mean\", \"possitivity_textblob\", \"possitivity_vader\", 'possitivity_ibm']]"
      ],
      "execution_count": 308,
      "outputs": [
        {
          "output_type": "execute_result",
          "data": {
            "text/html": [
              "<div>\n",
              "<style scoped>\n",
              "    .dataframe tbody tr th:only-of-type {\n",
              "        vertical-align: middle;\n",
              "    }\n",
              "\n",
              "    .dataframe tbody tr th {\n",
              "        vertical-align: top;\n",
              "    }\n",
              "\n",
              "    .dataframe thead th {\n",
              "        text-align: right;\n",
              "    }\n",
              "</style>\n",
              "<table border=\"1\" class=\"dataframe\">\n",
              "  <thead>\n",
              "    <tr style=\"text-align: right;\">\n",
              "      <th></th>\n",
              "      <th>text</th>\n",
              "      <th>sentiment_norm</th>\n",
              "      <th>sentiment_mean</th>\n",
              "      <th>possitivity_textblob</th>\n",
              "      <th>possitivity_vader</th>\n",
              "      <th>possitivity_ibm</th>\n",
              "    </tr>\n",
              "  </thead>\n",
              "  <tbody>\n",
              "    <tr>\n",
              "      <th>0</th>\n",
              "      <td>@Uber_Support hi guys why all my trips this we...</td>\n",
              "      <td>0.347934</td>\n",
              "      <td>-0.304133</td>\n",
              "      <td>0.000000</td>\n",
              "      <td>0.0000</td>\n",
              "      <td>-0.912398</td>\n",
              "    </tr>\n",
              "    <tr>\n",
              "      <th>1</th>\n",
              "      <td>So are we getting Uber eats league 1 or not @S...</td>\n",
              "      <td>0.500000</td>\n",
              "      <td>0.000000</td>\n",
              "      <td>0.000000</td>\n",
              "      <td>0.0000</td>\n",
              "      <td>0.000000</td>\n",
              "    </tr>\n",
              "    <tr>\n",
              "      <th>2</th>\n",
              "      <td>@footballdaily 2-3 years of Messi, a bit of ca...</td>\n",
              "      <td>0.407518</td>\n",
              "      <td>-0.184964</td>\n",
              "      <td>-0.333333</td>\n",
              "      <td>0.5859</td>\n",
              "      <td>-0.807459</td>\n",
              "    </tr>\n",
              "    <tr>\n",
              "      <th>3</th>\n",
              "      <td>@Prashan32439454 @Uber_Support @rameshjoshi80 ...</td>\n",
              "      <td>0.798997</td>\n",
              "      <td>0.597995</td>\n",
              "      <td>0.455000</td>\n",
              "      <td>0.4754</td>\n",
              "      <td>0.863584</td>\n",
              "    </tr>\n",
              "    <tr>\n",
              "      <th>4</th>\n",
              "      <td>Uber's Gopuff partnership, Drizly deal being p...</td>\n",
              "      <td>0.368604</td>\n",
              "      <td>-0.262792</td>\n",
              "      <td>0.000000</td>\n",
              "      <td>0.0000</td>\n",
              "      <td>-0.788377</td>\n",
              "    </tr>\n",
              "    <tr>\n",
              "      <th>...</th>\n",
              "      <td>...</td>\n",
              "      <td>...</td>\n",
              "      <td>...</td>\n",
              "      <td>...</td>\n",
              "      <td>...</td>\n",
              "      <td>...</td>\n",
              "    </tr>\n",
              "    <tr>\n",
              "      <th>7922</th>\n",
              "      <td>Over 3,800 rides in over 3.5 years one blown t...</td>\n",
              "      <td>0.429748</td>\n",
              "      <td>-0.140505</td>\n",
              "      <td>0.000000</td>\n",
              "      <td>0.4898</td>\n",
              "      <td>-0.911314</td>\n",
              "    </tr>\n",
              "    <tr>\n",
              "      <th>7923</th>\n",
              "      <td>@CoolABADev obviously i will want Messi to suc...</td>\n",
              "      <td>0.386865</td>\n",
              "      <td>-0.226269</td>\n",
              "      <td>0.114286</td>\n",
              "      <td>-0.0333</td>\n",
              "      <td>-0.759793</td>\n",
              "    </tr>\n",
              "    <tr>\n",
              "      <th>7924</th>\n",
              "      <td>@catekitchen Shit, that’s absolutely a crap si...</td>\n",
              "      <td>0.175553</td>\n",
              "      <td>-0.648893</td>\n",
              "      <td>-0.250000</td>\n",
              "      <td>-0.7086</td>\n",
              "      <td>-0.988080</td>\n",
              "    </tr>\n",
              "    <tr>\n",
              "      <th>7925</th>\n",
              "      <td>Simply don’t take a Uber then dumb ass https:/...</td>\n",
              "      <td>0.171943</td>\n",
              "      <td>-0.656114</td>\n",
              "      <td>-0.187500</td>\n",
              "      <td>-0.8096</td>\n",
              "      <td>-0.971243</td>\n",
              "    </tr>\n",
              "    <tr>\n",
              "      <th>7926</th>\n",
              "      <td>Uber, Lyft prices keep climbing to new highs, ...</td>\n",
              "      <td>0.522727</td>\n",
              "      <td>0.045455</td>\n",
              "      <td>0.136364</td>\n",
              "      <td>0.0000</td>\n",
              "      <td>0.000000</td>\n",
              "    </tr>\n",
              "  </tbody>\n",
              "</table>\n",
              "<p>7809 rows × 6 columns</p>\n",
              "</div>"
            ],
            "text/plain": [
              "                                                   text  ...  possitivity_ibm\n",
              "0     @Uber_Support hi guys why all my trips this we...  ...        -0.912398\n",
              "1     So are we getting Uber eats league 1 or not @S...  ...         0.000000\n",
              "2     @footballdaily 2-3 years of Messi, a bit of ca...  ...        -0.807459\n",
              "3     @Prashan32439454 @Uber_Support @rameshjoshi80 ...  ...         0.863584\n",
              "4     Uber's Gopuff partnership, Drizly deal being p...  ...        -0.788377\n",
              "...                                                 ...  ...              ...\n",
              "7922  Over 3,800 rides in over 3.5 years one blown t...  ...        -0.911314\n",
              "7923  @CoolABADev obviously i will want Messi to suc...  ...        -0.759793\n",
              "7924  @catekitchen Shit, that’s absolutely a crap si...  ...        -0.988080\n",
              "7925  Simply don’t take a Uber then dumb ass https:/...  ...        -0.971243\n",
              "7926  Uber, Lyft prices keep climbing to new highs, ...  ...         0.000000\n",
              "\n",
              "[7809 rows x 6 columns]"
            ]
          },
          "metadata": {},
          "execution_count": 308
        }
      ]
    },
    {
      "cell_type": "code",
      "metadata": {
        "id": "h-gmEnadgunw"
      },
      "source": [
        "# Definimos bins \n",
        "# Primer valor de los rangos -> 0\n",
        "# Valor final de cada rango -> 0.2, 0.4, 0.6, 0.8 y 1\n",
        "bins = [0, .4, .6, 1.]\n",
        "\n",
        "# Definimos los nombres para cada categoría\n",
        "names = [\"Negativo\", \"Neutro\", \"Positivo\"]\n",
        "\n",
        "# Creamos la variable objetivo categórica\n",
        "df['sentiment'] = pd.cut(df['sentiment_norm'], bins, labels = names)"
      ],
      "execution_count": 309,
      "outputs": []
    },
    {
      "cell_type": "code",
      "metadata": {
        "colab": {
          "base_uri": "https://localhost:8080/",
          "height": 779
        },
        "id": "VQoRRw4bgzTL",
        "outputId": "e41a9c2e-1bc1-4018-aac6-b2af92760f40"
      },
      "source": [
        "# Mostramos los sentimientos obtenidos\n",
        "df[[\"text\",'sentiment','sentiment_norm',\"sentiment_mean\", \"possitivity_textblob\", \"possitivity_vader\", 'possitivity_ibm']]"
      ],
      "execution_count": 310,
      "outputs": [
        {
          "output_type": "execute_result",
          "data": {
            "text/html": [
              "<div>\n",
              "<style scoped>\n",
              "    .dataframe tbody tr th:only-of-type {\n",
              "        vertical-align: middle;\n",
              "    }\n",
              "\n",
              "    .dataframe tbody tr th {\n",
              "        vertical-align: top;\n",
              "    }\n",
              "\n",
              "    .dataframe thead th {\n",
              "        text-align: right;\n",
              "    }\n",
              "</style>\n",
              "<table border=\"1\" class=\"dataframe\">\n",
              "  <thead>\n",
              "    <tr style=\"text-align: right;\">\n",
              "      <th></th>\n",
              "      <th>text</th>\n",
              "      <th>sentiment</th>\n",
              "      <th>sentiment_norm</th>\n",
              "      <th>sentiment_mean</th>\n",
              "      <th>possitivity_textblob</th>\n",
              "      <th>possitivity_vader</th>\n",
              "      <th>possitivity_ibm</th>\n",
              "    </tr>\n",
              "  </thead>\n",
              "  <tbody>\n",
              "    <tr>\n",
              "      <th>0</th>\n",
              "      <td>@Uber_Support hi guys why all my trips this we...</td>\n",
              "      <td>Negativo</td>\n",
              "      <td>0.347934</td>\n",
              "      <td>-0.304133</td>\n",
              "      <td>0.000000</td>\n",
              "      <td>0.0000</td>\n",
              "      <td>-0.912398</td>\n",
              "    </tr>\n",
              "    <tr>\n",
              "      <th>1</th>\n",
              "      <td>So are we getting Uber eats league 1 or not @S...</td>\n",
              "      <td>Neutro</td>\n",
              "      <td>0.500000</td>\n",
              "      <td>0.000000</td>\n",
              "      <td>0.000000</td>\n",
              "      <td>0.0000</td>\n",
              "      <td>0.000000</td>\n",
              "    </tr>\n",
              "    <tr>\n",
              "      <th>2</th>\n",
              "      <td>@footballdaily 2-3 years of Messi, a bit of ca...</td>\n",
              "      <td>Neutro</td>\n",
              "      <td>0.407518</td>\n",
              "      <td>-0.184964</td>\n",
              "      <td>-0.333333</td>\n",
              "      <td>0.5859</td>\n",
              "      <td>-0.807459</td>\n",
              "    </tr>\n",
              "    <tr>\n",
              "      <th>3</th>\n",
              "      <td>@Prashan32439454 @Uber_Support @rameshjoshi80 ...</td>\n",
              "      <td>Positivo</td>\n",
              "      <td>0.798997</td>\n",
              "      <td>0.597995</td>\n",
              "      <td>0.455000</td>\n",
              "      <td>0.4754</td>\n",
              "      <td>0.863584</td>\n",
              "    </tr>\n",
              "    <tr>\n",
              "      <th>4</th>\n",
              "      <td>Uber's Gopuff partnership, Drizly deal being p...</td>\n",
              "      <td>Negativo</td>\n",
              "      <td>0.368604</td>\n",
              "      <td>-0.262792</td>\n",
              "      <td>0.000000</td>\n",
              "      <td>0.0000</td>\n",
              "      <td>-0.788377</td>\n",
              "    </tr>\n",
              "    <tr>\n",
              "      <th>...</th>\n",
              "      <td>...</td>\n",
              "      <td>...</td>\n",
              "      <td>...</td>\n",
              "      <td>...</td>\n",
              "      <td>...</td>\n",
              "      <td>...</td>\n",
              "      <td>...</td>\n",
              "    </tr>\n",
              "    <tr>\n",
              "      <th>7922</th>\n",
              "      <td>Over 3,800 rides in over 3.5 years one blown t...</td>\n",
              "      <td>Neutro</td>\n",
              "      <td>0.429748</td>\n",
              "      <td>-0.140505</td>\n",
              "      <td>0.000000</td>\n",
              "      <td>0.4898</td>\n",
              "      <td>-0.911314</td>\n",
              "    </tr>\n",
              "    <tr>\n",
              "      <th>7923</th>\n",
              "      <td>@CoolABADev obviously i will want Messi to suc...</td>\n",
              "      <td>Negativo</td>\n",
              "      <td>0.386865</td>\n",
              "      <td>-0.226269</td>\n",
              "      <td>0.114286</td>\n",
              "      <td>-0.0333</td>\n",
              "      <td>-0.759793</td>\n",
              "    </tr>\n",
              "    <tr>\n",
              "      <th>7924</th>\n",
              "      <td>@catekitchen Shit, that’s absolutely a crap si...</td>\n",
              "      <td>Negativo</td>\n",
              "      <td>0.175553</td>\n",
              "      <td>-0.648893</td>\n",
              "      <td>-0.250000</td>\n",
              "      <td>-0.7086</td>\n",
              "      <td>-0.988080</td>\n",
              "    </tr>\n",
              "    <tr>\n",
              "      <th>7925</th>\n",
              "      <td>Simply don’t take a Uber then dumb ass https:/...</td>\n",
              "      <td>Negativo</td>\n",
              "      <td>0.171943</td>\n",
              "      <td>-0.656114</td>\n",
              "      <td>-0.187500</td>\n",
              "      <td>-0.8096</td>\n",
              "      <td>-0.971243</td>\n",
              "    </tr>\n",
              "    <tr>\n",
              "      <th>7926</th>\n",
              "      <td>Uber, Lyft prices keep climbing to new highs, ...</td>\n",
              "      <td>Neutro</td>\n",
              "      <td>0.522727</td>\n",
              "      <td>0.045455</td>\n",
              "      <td>0.136364</td>\n",
              "      <td>0.0000</td>\n",
              "      <td>0.000000</td>\n",
              "    </tr>\n",
              "  </tbody>\n",
              "</table>\n",
              "<p>7809 rows × 7 columns</p>\n",
              "</div>"
            ],
            "text/plain": [
              "                                                   text  ... possitivity_ibm\n",
              "0     @Uber_Support hi guys why all my trips this we...  ...       -0.912398\n",
              "1     So are we getting Uber eats league 1 or not @S...  ...        0.000000\n",
              "2     @footballdaily 2-3 years of Messi, a bit of ca...  ...       -0.807459\n",
              "3     @Prashan32439454 @Uber_Support @rameshjoshi80 ...  ...        0.863584\n",
              "4     Uber's Gopuff partnership, Drizly deal being p...  ...       -0.788377\n",
              "...                                                 ...  ...             ...\n",
              "7922  Over 3,800 rides in over 3.5 years one blown t...  ...       -0.911314\n",
              "7923  @CoolABADev obviously i will want Messi to suc...  ...       -0.759793\n",
              "7924  @catekitchen Shit, that’s absolutely a crap si...  ...       -0.988080\n",
              "7925  Simply don’t take a Uber then dumb ass https:/...  ...       -0.971243\n",
              "7926  Uber, Lyft prices keep climbing to new highs, ...  ...        0.000000\n",
              "\n",
              "[7809 rows x 7 columns]"
            ]
          },
          "metadata": {},
          "execution_count": 310
        }
      ]
    },
    {
      "cell_type": "code",
      "metadata": {
        "colab": {
          "base_uri": "https://localhost:8080/",
          "height": 334
        },
        "id": "BlFF2owFg1UT",
        "outputId": "24765d0b-5abb-4935-80f2-9571bb41ca7c"
      },
      "source": [
        "import seaborn as sns\n",
        "import matplotlib.pyplot as plt\n",
        "\n",
        "# Representamos con seaborn la variable objetivo para ver las diferentes categorias\n",
        "numerica = sns.distplot(df['sentiment_norm'], color = 'orange')"
      ],
      "execution_count": 311,
      "outputs": [
        {
          "output_type": "stream",
          "text": [
            "/usr/local/lib/python3.7/dist-packages/seaborn/distributions.py:2557: FutureWarning: `distplot` is a deprecated function and will be removed in a future version. Please adapt your code to use either `displot` (a figure-level function with similar flexibility) or `histplot` (an axes-level function for histograms).\n",
            "  warnings.warn(msg, FutureWarning)\n"
          ],
          "name": "stderr"
        },
        {
          "output_type": "display_data",
          "data": {
            "image/png": "[encoded data removed]",
            "text/plain": [
              "<Figure size 432x288 with 1 Axes>"
            ]
          },
          "metadata": {
            "needs_background": "light"
          }
        }
      ]
    },
    {
      "cell_type": "code",
      "metadata": {
        "colab": {
          "base_uri": "https://localhost:8080/"
        },
        "id": "VjM73sMHxipI",
        "outputId": "cf6efbb7-5b89-44ee-b7d6-6ccc61185a03"
      },
      "source": [
        "# Comprobamos el número de filas que tienen los 3 sentimientos = 0\n",
        "df.loc[(df['possitivity_textblob']==0.)&(df['possitivity_vader']==0.)&(df['possitivity_ibm']==0.)].shape"
      ],
      "execution_count": 312,
      "outputs": [
        {
          "output_type": "execute_result",
          "data": {
            "text/plain": [
              "(633, 32)"
            ]
          },
          "metadata": {},
          "execution_count": 312
        }
      ]
    },
    {
      "cell_type": "code",
      "metadata": {
        "colab": {
          "base_uri": "https://localhost:8080/"
        },
        "id": "Q392UoEJyV99",
        "outputId": "92181597-76fb-4ad8-9014-1bca7a4d68ad"
      },
      "source": [
        "# Comprobamos el número de filas que tienen media sentiment = 0\n",
        "df.loc[(df['sentiment_mean']==0.)].shape"
      ],
      "execution_count": 313,
      "outputs": [
        {
          "output_type": "execute_result",
          "data": {
            "text/plain": [
              "(633, 32)"
            ]
          },
          "metadata": {},
          "execution_count": 313
        }
      ]
    },
    {
      "cell_type": "code",
      "metadata": {
        "colab": {
          "base_uri": "https://localhost:8080/",
          "height": 279
        },
        "id": "3Lgg0kx3pWeR",
        "outputId": "07da8345-b2c3-4573-85ea-116db4e0f6ec"
      },
      "source": [
        "categorica = sns.countplot(x='sentiment', data=df, palette = 'pastel')"
      ],
      "execution_count": 314,
      "outputs": [
        {
          "output_type": "display_data",
          "data": {
            "image/png": "[encoded data removed]",
            "text/plain": [
              "<Figure size 432x288 with 1 Axes>"
            ]
          },
          "metadata": {
            "needs_background": "light"
          }
        }
      ]
    },
    {
      "cell_type": "code",
      "metadata": {
        "colab": {
          "base_uri": "https://localhost:8080/"
        },
        "id": "xUC6APNf1KQO",
        "outputId": "1ad52797-ecc2-47cc-8e0d-b18d58697f39"
      },
      "source": [
        "df['sentiment'].value_counts()"
      ],
      "execution_count": 315,
      "outputs": [
        {
          "output_type": "execute_result",
          "data": {
            "text/plain": [
              "Neutro      3018\n",
              "Negativo    2963\n",
              "Positivo    1828\n",
              "Name: sentiment, dtype: int64"
            ]
          },
          "metadata": {},
          "execution_count": 315
        }
      ]
    },
    {
      "cell_type": "markdown",
      "metadata": {
        "id": "05VFtsAfmPE0"
      },
      "source": [
        "### B. PRIMEROS MODELOS"
      ]
    },
    {
      "cell_type": "code",
      "metadata": {
        "id": "YWt99ltGg5Zs",
        "colab": {
          "base_uri": "https://localhost:8080/"
        },
        "outputId": "33b60760-be2e-402e-9097-62fb0a9a18a1"
      },
      "source": [
        "df.keys()"
      ],
      "execution_count": 316,
      "outputs": [
        {
          "output_type": "execute_result",
          "data": {
            "text/plain": [
              "Index(['Unnamed: 0', 'Unnamed: 0.1', 'Unnamed: 0.1.1', 'text', 'created_at',\n",
              "       'created_at_time', 'created_at_hour', 'retweeted', 'retweet_count',\n",
              "       'favorite_count', 'user_ verified', 'user_id', 'user_name',\n",
              "       'user_location', 'user_notificacion', 'user_followers', 'user_friends',\n",
              "       'user_withheld_in_countries', 'mentions_in_tweet', 'is_reply',\n",
              "       'source_device', 'finished_tweet', 'status_count', 'hashtags_text',\n",
              "       'hastags_indices', 'hastags_in_tweet', 'possitivity_textblob',\n",
              "       'possitivity_vader', 'possitivity_ibm', 'sentiment_mean',\n",
              "       'sentiment_norm', 'sentiment'],\n",
              "      dtype='object')"
            ]
          },
          "metadata": {},
          "execution_count": 316
        }
      ]
    },
    {
      "cell_type": "code",
      "metadata": {
        "id": "xBsr9cVo1Ejk"
      },
      "source": [
        "# Defino las variables dependientes que eliminaremos del df\n",
        "vars = ['Unnamed: 0', 'Unnamed: 0.1', 'Unnamed: 0.1.1', 'text', \n",
        "        'created_at_time', 'user_name', 'hashtags_text', 'hastags_indices',\n",
        "        'possitivity_textblob', 'possitivity_vader', 'possitivity_ibm', \n",
        "        'sentiment_mean', 'sentiment_norm', 'user_withheld_in_countries']\n",
        "df_limpio = df.drop(vars,axis=1)"
      ],
      "execution_count": 317,
      "outputs": []
    },
    {
      "cell_type": "markdown",
      "metadata": {
        "id": "gUWQi2Hzp-EN"
      },
      "source": [
        "Elimino la variable location hasta que sepamos como limpiarla para que no de tropecientas categorías."
      ]
    },
    {
      "cell_type": "code",
      "metadata": {
        "colab": {
          "base_uri": "https://localhost:8080/"
        },
        "id": "4D_bkAw74Ju_",
        "outputId": "a6550b3f-92ef-45a1-9d2c-cc01a074700e"
      },
      "source": [
        "df_limpio['user_location'].value_counts()"
      ],
      "execution_count": 318,
      "outputs": [
        {
          "output_type": "execute_result",
          "data": {
            "text/plain": [
              "Stockholm, Sweden                 225\n",
              "London, England                   121\n",
              "United States                      77\n",
              "Los Angeles, CA                    59\n",
              "India                              54\n",
              "                                 ... \n",
              "Grounded.                           1\n",
              "The Office                          1\n",
              "Hugo, OK                            1\n",
              "Venezuela of The Middle East.       1\n",
              "pa carajo                           1\n",
              "Name: user_location, Length: 2690, dtype: int64"
            ]
          },
          "metadata": {},
          "execution_count": 318
        }
      ]
    },
    {
      "cell_type": "code",
      "metadata": {
        "id": "LxLDaUnap9TV"
      },
      "source": [
        "df_limpio = df_limpio.drop(['user_location'],axis=1)"
      ],
      "execution_count": 319,
      "outputs": []
    },
    {
      "cell_type": "code",
      "metadata": {
        "colab": {
          "base_uri": "https://localhost:8080/"
        },
        "id": "Yff-0Qpu3nDr",
        "outputId": "37e9fb35-79fb-4f19-ba60-6c38b3ea351e"
      },
      "source": [
        "df_limpio.shape"
      ],
      "execution_count": 320,
      "outputs": [
        {
          "output_type": "execute_result",
          "data": {
            "text/plain": [
              "(7809, 17)"
            ]
          },
          "metadata": {},
          "execution_count": 320
        }
      ]
    },
    {
      "cell_type": "code",
      "metadata": {
        "colab": {
          "base_uri": "https://localhost:8080/"
        },
        "id": "HDKMax89_Ksd",
        "outputId": "ae09bc65-11c6-44af-b878-12246f68dcfa"
      },
      "source": [
        "df_limpio.dtypes"
      ],
      "execution_count": 321,
      "outputs": [
        {
          "output_type": "execute_result",
          "data": {
            "text/plain": [
              "created_at             object\n",
              "created_at_hour         int64\n",
              "retweeted              object\n",
              "retweet_count           int64\n",
              "favorite_count          int64\n",
              "user_ verified        float64\n",
              "user_id                 int64\n",
              "user_notificacion        bool\n",
              "user_followers          int64\n",
              "user_friends            int64\n",
              "mentions_in_tweet       int64\n",
              "is_reply               object\n",
              "source_device          object\n",
              "finished_tweet           bool\n",
              "status_count            int64\n",
              "hastags_in_tweet        int64\n",
              "sentiment            category\n",
              "dtype: object"
            ]
          },
          "metadata": {},
          "execution_count": 321
        }
      ]
    },
    {
      "cell_type": "code",
      "metadata": {
        "id": "wnqmGMKK_nxE"
      },
      "source": [
        "# Cojo las columnas que son object\n",
        "# cols = df_limpio[df_limpio.select_dtypes(['object']).columns] \n",
        "# cols"
      ],
      "execution_count": 322,
      "outputs": []
    },
    {
      "cell_type": "code",
      "metadata": {
        "id": "O5ef9isOBt5H"
      },
      "source": [
        "# Cambio el tipo a categoría\n",
        "# df_limpio[cols.keys()] = df_limpio.select_dtypes(['object']).apply(lambda x: x.astype('category'))"
      ],
      "execution_count": 323,
      "outputs": []
    },
    {
      "cell_type": "code",
      "metadata": {
        "id": "z4q_iUMDACU2"
      },
      "source": [
        "# df_limpio.dtypes"
      ],
      "execution_count": 324,
      "outputs": []
    },
    {
      "cell_type": "code",
      "metadata": {
        "colab": {
          "base_uri": "https://localhost:8080/"
        },
        "id": "ZD8CgIUH3ov7",
        "outputId": "b553415e-20c4-4a40-f2ac-efa6fce36d22"
      },
      "source": [
        "df_limpio.isna().sum()"
      ],
      "execution_count": 325,
      "outputs": [
        {
          "output_type": "execute_result",
          "data": {
            "text/plain": [
              "created_at              0\n",
              "created_at_hour         0\n",
              "retweeted               0\n",
              "retweet_count           0\n",
              "favorite_count          0\n",
              "user_ verified       7809\n",
              "user_id                 0\n",
              "user_notificacion       0\n",
              "user_followers          0\n",
              "user_friends            0\n",
              "mentions_in_tweet       0\n",
              "is_reply                0\n",
              "source_device           0\n",
              "finished_tweet          0\n",
              "status_count            0\n",
              "hastags_in_tweet        0\n",
              "sentiment               0\n",
              "dtype: int64"
            ]
          },
          "metadata": {},
          "execution_count": 325
        }
      ]
    },
    {
      "cell_type": "markdown",
      "metadata": {
        "id": "6k3dfuDqoHrb"
      },
      "source": [
        "#### Quitamos categóricas y convertimos en dummies\n",
        "Para que los modelos funcionen, tenemos que tener las categorías como dummies, sino pueden dar fallos, por ello realizamos la siguiente transformación. \n",
        "\n",
        "Para ello es necesario hacer algo de limpieza en las variables categóricas, recategorizar o agrupar categorías. Estudiamos las clases de las variables categóricas. "
      ]
    },
    {
      "cell_type": "code",
      "metadata": {
        "colab": {
          "base_uri": "https://localhost:8080/"
        },
        "id": "EDNL_OrgrKXw",
        "outputId": "0124b107-c292-418e-f976-55fd027a7acd"
      },
      "source": [
        "# Vemos el resumen de las categóricas\n",
        "df_limpio.select_dtypes(['object']).keys()"
      ],
      "execution_count": 326,
      "outputs": [
        {
          "output_type": "execute_result",
          "data": {
            "text/plain": [
              "Index(['created_at', 'retweeted', 'is_reply', 'source_device'], dtype='object')"
            ]
          },
          "metadata": {},
          "execution_count": 326
        }
      ]
    },
    {
      "cell_type": "code",
      "metadata": {
        "colab": {
          "base_uri": "https://localhost:8080/"
        },
        "id": "nqoisDYNrkE1",
        "outputId": "bb42b0b7-6e96-46e2-f696-308726473504"
      },
      "source": [
        "df_limpio[['created_at']].value_counts()"
      ],
      "execution_count": 327,
      "outputs": [
        {
          "output_type": "execute_result",
          "data": {
            "text/plain": [
              "created_at\n",
              "Mon Aug 09    5827\n",
              "Wed Aug 11    1982\n",
              "dtype: int64"
            ]
          },
          "metadata": {},
          "execution_count": 327
        }
      ]
    },
    {
      "cell_type": "code",
      "metadata": {
        "colab": {
          "base_uri": "https://localhost:8080/"
        },
        "id": "_hrfMNxMrp7H",
        "outputId": "978abdfd-2246-4040-972a-235ffbe83cdc"
      },
      "source": [
        "df_limpio[['retweeted']].value_counts()"
      ],
      "execution_count": 328,
      "outputs": [
        {
          "output_type": "execute_result",
          "data": {
            "text/plain": [
              "retweeted\n",
              "No           6325\n",
              "Si           1484\n",
              "dtype: int64"
            ]
          },
          "metadata": {},
          "execution_count": 328
        }
      ]
    },
    {
      "cell_type": "code",
      "metadata": {
        "colab": {
          "base_uri": "https://localhost:8080/"
        },
        "id": "PDZSszPxruvA",
        "outputId": "36baa3f5-2f72-4c4f-e825-e16fc042b8d8"
      },
      "source": [
        "df_limpio[['is_reply']].value_counts()"
      ],
      "execution_count": 329,
      "outputs": [
        {
          "output_type": "execute_result",
          "data": {
            "text/plain": [
              "is_reply       \n",
              "No                 4181\n",
              "Uber_Support        237\n",
              "Uber                101\n",
              "Uber_Kryptonian      59\n",
              "joncoopertweets      39\n",
              "                   ... \n",
              "caz_000               1\n",
              "cbundy711             1\n",
              "ccbx22                1\n",
              "ccgr8_                1\n",
              "0510Kels              1\n",
              "Length: 2548, dtype: int64"
            ]
          },
          "metadata": {},
          "execution_count": 329
        }
      ]
    },
    {
      "cell_type": "code",
      "metadata": {
        "id": "X8A9Ms1_rz2C"
      },
      "source": [
        "# Cambio is_reply a una variable binaria (Si reply o No o Uber, porque nos interesa)\n",
        "\n",
        "cond1 = df_limpio['is_reply'].isin(['No','Uber_Support','Uber'])\n",
        "df_limpio['is_reply'] = df_limpio['is_reply'].where(cond1,'Si')"
      ],
      "execution_count": 330,
      "outputs": []
    },
    {
      "cell_type": "code",
      "metadata": {
        "colab": {
          "base_uri": "https://localhost:8080/"
        },
        "id": "MU2Ywn5ftTY5",
        "outputId": "dfd3c7de-5546-4887-beeb-cd7e98197db7"
      },
      "source": [
        "df_limpio[['is_reply']].value_counts()"
      ],
      "execution_count": 331,
      "outputs": [
        {
          "output_type": "execute_result",
          "data": {
            "text/plain": [
              "is_reply    \n",
              "No              4181\n",
              "Si              3290\n",
              "Uber_Support     237\n",
              "Uber             101\n",
              "dtype: int64"
            ]
          },
          "metadata": {},
          "execution_count": 331
        }
      ]
    },
    {
      "cell_type": "code",
      "metadata": {
        "id": "jRLyLV2TtaeP"
      },
      "source": [
        "# Uno categorías Uber_support y Uber\n",
        "cond2 = df_limpio['is_reply'].isin(['Si','No','Uber'])\n",
        "df_limpio['is_reply'] = df_limpio['is_reply'].where(cond2,'Uber')"
      ],
      "execution_count": 332,
      "outputs": []
    },
    {
      "cell_type": "code",
      "metadata": {
        "colab": {
          "base_uri": "https://localhost:8080/"
        },
        "id": "2q72pAOjtoxF",
        "outputId": "373c681a-10c9-49eb-83b5-11df60892c44"
      },
      "source": [
        "df_limpio[['is_reply']].value_counts()"
      ],
      "execution_count": 333,
      "outputs": [
        {
          "output_type": "execute_result",
          "data": {
            "text/plain": [
              "is_reply\n",
              "No          4181\n",
              "Si          3290\n",
              "Uber         338\n",
              "dtype: int64"
            ]
          },
          "metadata": {},
          "execution_count": 333
        }
      ]
    },
    {
      "cell_type": "code",
      "metadata": {
        "colab": {
          "base_uri": "https://localhost:8080/"
        },
        "id": "KSp-S5duuEpU",
        "outputId": "e1a0c69a-ceaa-4fff-811e-d18dccce0b66"
      },
      "source": [
        "df_limpio[['source_device']].value_counts()"
      ],
      "execution_count": 334,
      "outputs": [
        {
          "output_type": "execute_result",
          "data": {
            "text/plain": [
              "source_device      \n",
              "Twitter for iPhone     3408\n",
              "Twitter for Android    1843\n",
              "Twitter Web App        1254\n",
              "Sprinklr                523\n",
              "test-shield-bot         223\n",
              "                       ... \n",
              "True Anthem               1\n",
              "Tweepsmap                 1\n",
              "Tweetlogix                1\n",
              "Twitter for  iPhone       1\n",
              "Abbie's Research          1\n",
              "Length: 152, dtype: int64"
            ]
          },
          "metadata": {},
          "execution_count": 334
        }
      ]
    },
    {
      "cell_type": "code",
      "metadata": {
        "id": "grGKS2hEuPKN"
      },
      "source": [
        "# Creamos 5 categorías, las 4 más representadas y 'Otros'\n",
        "# Uno categorías Uber_support y Uber\n",
        "cond3 = df_limpio['source_device'].isin(['Twitter for iPhone','Twitter for Android',\n",
        "                                         'Twitter Web App','Sprinklr'])\n",
        "df_limpio['source_device'] = df_limpio['source_device'].where(cond3,'Otro')"
      ],
      "execution_count": 335,
      "outputs": []
    },
    {
      "cell_type": "code",
      "metadata": {
        "colab": {
          "base_uri": "https://localhost:8080/"
        },
        "id": "UCv7BxtEupOy",
        "outputId": "ee02b431-6b6c-49f4-b108-86ed5b2ab91a"
      },
      "source": [
        "df_limpio[['source_device']].value_counts()"
      ],
      "execution_count": 336,
      "outputs": [
        {
          "output_type": "execute_result",
          "data": {
            "text/plain": [
              "source_device      \n",
              "Twitter for iPhone     3408\n",
              "Twitter for Android    1843\n",
              "Twitter Web App        1254\n",
              "Otro                    781\n",
              "Sprinklr                523\n",
              "dtype: int64"
            ]
          },
          "metadata": {},
          "execution_count": 336
        }
      ]
    },
    {
      "cell_type": "code",
      "metadata": {
        "id": "uAuNAyQSoRj_"
      },
      "source": [
        "# Seleccionamos las variables categoricas\n",
        "\n",
        "# categories = df_limpio.select_dtypes(['object']).keys()\n",
        "# categories"
      ],
      "execution_count": 337,
      "outputs": []
    },
    {
      "cell_type": "code",
      "metadata": {
        "id": "IT1X-DYlo9z3"
      },
      "source": [
        "# Convertimos las categoricas en dummies eliminando una categoría (no linealidad)\n",
        "\n",
        "# dummies = pd.get_dummies(df_limpio[categories],drop_first=True)\n",
        "# dummies"
      ],
      "execution_count": 338,
      "outputs": []
    },
    {
      "cell_type": "code",
      "metadata": {
        "id": "xjDiqFfqu8bh"
      },
      "source": [
        "# Creo el df cambiando las variables object por las dummies\n",
        "\n",
        "# df_dummies = df_limpio.drop(categories,axis=1)\n",
        "# df_dummies.dtypes"
      ],
      "execution_count": 339,
      "outputs": []
    },
    {
      "cell_type": "markdown",
      "metadata": {
        "id": "4Mlq-xHpvluH"
      },
      "source": [
        "Me he dado cuenta de que tenemos dos variables booleanas, así que voy a crear dummies de esas dos antes de añadir todas las dummies de las categóricas, porque seguro que con los bool tbn tenemos fallos en los modelos."
      ]
    },
    {
      "cell_type": "code",
      "metadata": {
        "id": "WwSZ4vkCvkzV"
      },
      "source": [
        "# Seleccionamos las variables bool\n",
        "\n",
        "# booleanas = df_limpio.select_dtypes(['bool']).keys()\n",
        "# booleanas"
      ],
      "execution_count": 340,
      "outputs": []
    },
    {
      "cell_type": "code",
      "metadata": {
        "id": "xQ2VDkqvwaYD"
      },
      "source": [
        "# df_limpio[['user_notificacion']].value_counts()"
      ],
      "execution_count": 341,
      "outputs": []
    },
    {
      "cell_type": "code",
      "metadata": {
        "id": "PjfTaIRGwlb5"
      },
      "source": [
        "# df_limpio[['finished_tweet']].value_counts()"
      ],
      "execution_count": 342,
      "outputs": []
    },
    {
      "cell_type": "code",
      "metadata": {
        "id": "OFuONKdrv-9_"
      },
      "source": [
        "# Convertimos las booleanas en dummies eliminando una categoría (no linealidad)\n",
        "\n",
        "# dummies_bool = pd.get_dummies(df_limpio[booleanas],drop_first=True)\n",
        "# dummies_bool"
      ],
      "execution_count": 343,
      "outputs": []
    },
    {
      "cell_type": "code",
      "metadata": {
        "id": "mXXt-RkZwzMR"
      },
      "source": [
        "# No hace falta añadir las dummies booleanas porque solo hay una categoría en todas\n",
        "# Añado las dummies de las categóricas a df_dummies que tenía solo las num\n",
        "\n",
        "# df_dummies[dummies.keys()] = dummies\n",
        "# df_dummies"
      ],
      "execution_count": 344,
      "outputs": []
    },
    {
      "cell_type": "markdown",
      "metadata": {
        "id": "jdVdvNap4fRd"
      },
      "source": [
        "#### MODELO 1\n",
        "\n",
        "Hemos eliminado las variables que son linealmente dependientes o que tienen relación con otras de la bbdd. Además, hemos comprobado el número de nan que hay en cada variable. Simplemente hemos comprobado los NaN ya que la limpieza de la bbdd será posterior. \n",
        "\n",
        "Observamos que la verificación del usuario es nula en todos los casos, por lo que no creemos que esta info aporte nada al modelo que vamos a realizar. Igualmente, metemos esta variable al primer modelo para comprobar (productivizar un modelo) si el modelo mejora cuando le quitamos los NaN. \n",
        "\n",
        "Además vemos que la variable que especifica la localización tiene un alto número de NaN. Tendremos que estudiar en la limpieza como imputar o como utilizar esta variable. De momento, la metemos al modelo tal y como aparece."
      ]
    },
    {
      "cell_type": "code",
      "metadata": {
        "colab": {
          "base_uri": "https://localhost:8080/",
          "height": 473
        },
        "id": "9ICNn_Ft5sg4",
        "outputId": "965f7fb4-dceb-4964-a3ba-6eee7412a8bb"
      },
      "source": [
        "df_limpio"
      ],
      "execution_count": 345,
      "outputs": [
        {
          "output_type": "execute_result",
          "data": {
            "text/html": [
              "<div>\n",
              "<style scoped>\n",
              "    .dataframe tbody tr th:only-of-type {\n",
              "        vertical-align: middle;\n",
              "    }\n",
              "\n",
              "    .dataframe tbody tr th {\n",
              "        vertical-align: top;\n",
              "    }\n",
              "\n",
              "    .dataframe thead th {\n",
              "        text-align: right;\n",
              "    }\n",
              "</style>\n",
              "<table border=\"1\" class=\"dataframe\">\n",
              "  <thead>\n",
              "    <tr style=\"text-align: right;\">\n",
              "      <th></th>\n",
              "      <th>created_at</th>\n",
              "      <th>created_at_hour</th>\n",
              "      <th>retweeted</th>\n",
              "      <th>retweet_count</th>\n",
              "      <th>favorite_count</th>\n",
              "      <th>user_ verified</th>\n",
              "      <th>user_id</th>\n",
              "      <th>user_notificacion</th>\n",
              "      <th>user_followers</th>\n",
              "      <th>user_friends</th>\n",
              "      <th>mentions_in_tweet</th>\n",
              "      <th>is_reply</th>\n",
              "      <th>source_device</th>\n",
              "      <th>finished_tweet</th>\n",
              "      <th>status_count</th>\n",
              "      <th>hastags_in_tweet</th>\n",
              "      <th>sentiment</th>\n",
              "    </tr>\n",
              "  </thead>\n",
              "  <tbody>\n",
              "    <tr>\n",
              "      <th>0</th>\n",
              "      <td>Wed Aug 11</td>\n",
              "      <td>9</td>\n",
              "      <td>Si</td>\n",
              "      <td>1</td>\n",
              "      <td>0</td>\n",
              "      <td>NaN</td>\n",
              "      <td>1137383922843771008</td>\n",
              "      <td>False</td>\n",
              "      <td>20504</td>\n",
              "      <td>98</td>\n",
              "      <td>2</td>\n",
              "      <td>No</td>\n",
              "      <td>Otro</td>\n",
              "      <td>False</td>\n",
              "      <td>695888</td>\n",
              "      <td>0</td>\n",
              "      <td>Negativo</td>\n",
              "    </tr>\n",
              "    <tr>\n",
              "      <th>1</th>\n",
              "      <td>Wed Aug 11</td>\n",
              "      <td>9</td>\n",
              "      <td>No</td>\n",
              "      <td>0</td>\n",
              "      <td>0</td>\n",
              "      <td>NaN</td>\n",
              "      <td>528288653</td>\n",
              "      <td>False</td>\n",
              "      <td>2733</td>\n",
              "      <td>970</td>\n",
              "      <td>1</td>\n",
              "      <td>No</td>\n",
              "      <td>Twitter Web App</td>\n",
              "      <td>False</td>\n",
              "      <td>58398</td>\n",
              "      <td>0</td>\n",
              "      <td>Neutro</td>\n",
              "    </tr>\n",
              "    <tr>\n",
              "      <th>2</th>\n",
              "      <td>Wed Aug 11</td>\n",
              "      <td>9</td>\n",
              "      <td>No</td>\n",
              "      <td>0</td>\n",
              "      <td>0</td>\n",
              "      <td>NaN</td>\n",
              "      <td>826917817</td>\n",
              "      <td>False</td>\n",
              "      <td>353</td>\n",
              "      <td>943</td>\n",
              "      <td>1</td>\n",
              "      <td>Si</td>\n",
              "      <td>Twitter for iPhone</td>\n",
              "      <td>False</td>\n",
              "      <td>5974</td>\n",
              "      <td>0</td>\n",
              "      <td>Neutro</td>\n",
              "    </tr>\n",
              "    <tr>\n",
              "      <th>3</th>\n",
              "      <td>Wed Aug 11</td>\n",
              "      <td>9</td>\n",
              "      <td>No</td>\n",
              "      <td>0</td>\n",
              "      <td>0</td>\n",
              "      <td>NaN</td>\n",
              "      <td>1382729072837479936</td>\n",
              "      <td>False</td>\n",
              "      <td>6</td>\n",
              "      <td>1</td>\n",
              "      <td>3</td>\n",
              "      <td>Si</td>\n",
              "      <td>Twitter for Android</td>\n",
              "      <td>False</td>\n",
              "      <td>169</td>\n",
              "      <td>0</td>\n",
              "      <td>Positivo</td>\n",
              "    </tr>\n",
              "    <tr>\n",
              "      <th>4</th>\n",
              "      <td>Wed Aug 11</td>\n",
              "      <td>9</td>\n",
              "      <td>No</td>\n",
              "      <td>0</td>\n",
              "      <td>0</td>\n",
              "      <td>NaN</td>\n",
              "      <td>3646985662</td>\n",
              "      <td>False</td>\n",
              "      <td>5562</td>\n",
              "      <td>3</td>\n",
              "      <td>0</td>\n",
              "      <td>No</td>\n",
              "      <td>Otro</td>\n",
              "      <td>False</td>\n",
              "      <td>113083</td>\n",
              "      <td>0</td>\n",
              "      <td>Negativo</td>\n",
              "    </tr>\n",
              "    <tr>\n",
              "      <th>...</th>\n",
              "      <td>...</td>\n",
              "      <td>...</td>\n",
              "      <td>...</td>\n",
              "      <td>...</td>\n",
              "      <td>...</td>\n",
              "      <td>...</td>\n",
              "      <td>...</td>\n",
              "      <td>...</td>\n",
              "      <td>...</td>\n",
              "      <td>...</td>\n",
              "      <td>...</td>\n",
              "      <td>...</td>\n",
              "      <td>...</td>\n",
              "      <td>...</td>\n",
              "      <td>...</td>\n",
              "      <td>...</td>\n",
              "      <td>...</td>\n",
              "    </tr>\n",
              "    <tr>\n",
              "      <th>7922</th>\n",
              "      <td>Mon Aug 09</td>\n",
              "      <td>13</td>\n",
              "      <td>No</td>\n",
              "      <td>0</td>\n",
              "      <td>0</td>\n",
              "      <td>NaN</td>\n",
              "      <td>1246194059477212928</td>\n",
              "      <td>False</td>\n",
              "      <td>0</td>\n",
              "      <td>4</td>\n",
              "      <td>0</td>\n",
              "      <td>Si</td>\n",
              "      <td>Twitter for iPhone</td>\n",
              "      <td>False</td>\n",
              "      <td>21</td>\n",
              "      <td>0</td>\n",
              "      <td>Neutro</td>\n",
              "    </tr>\n",
              "    <tr>\n",
              "      <th>7923</th>\n",
              "      <td>Mon Aug 09</td>\n",
              "      <td>13</td>\n",
              "      <td>No</td>\n",
              "      <td>0</td>\n",
              "      <td>1</td>\n",
              "      <td>NaN</td>\n",
              "      <td>905863719233708032</td>\n",
              "      <td>False</td>\n",
              "      <td>477</td>\n",
              "      <td>435</td>\n",
              "      <td>1</td>\n",
              "      <td>Si</td>\n",
              "      <td>Twitter for iPhone</td>\n",
              "      <td>False</td>\n",
              "      <td>5828</td>\n",
              "      <td>0</td>\n",
              "      <td>Negativo</td>\n",
              "    </tr>\n",
              "    <tr>\n",
              "      <th>7924</th>\n",
              "      <td>Mon Aug 09</td>\n",
              "      <td>13</td>\n",
              "      <td>No</td>\n",
              "      <td>0</td>\n",
              "      <td>2</td>\n",
              "      <td>NaN</td>\n",
              "      <td>46914533</td>\n",
              "      <td>False</td>\n",
              "      <td>3215</td>\n",
              "      <td>4690</td>\n",
              "      <td>1</td>\n",
              "      <td>Si</td>\n",
              "      <td>Otro</td>\n",
              "      <td>False</td>\n",
              "      <td>29551</td>\n",
              "      <td>0</td>\n",
              "      <td>Negativo</td>\n",
              "    </tr>\n",
              "    <tr>\n",
              "      <th>7925</th>\n",
              "      <td>Mon Aug 09</td>\n",
              "      <td>13</td>\n",
              "      <td>No</td>\n",
              "      <td>0</td>\n",
              "      <td>0</td>\n",
              "      <td>NaN</td>\n",
              "      <td>1278897747538726912</td>\n",
              "      <td>False</td>\n",
              "      <td>409</td>\n",
              "      <td>870</td>\n",
              "      <td>0</td>\n",
              "      <td>No</td>\n",
              "      <td>Twitter for iPhone</td>\n",
              "      <td>False</td>\n",
              "      <td>54109</td>\n",
              "      <td>0</td>\n",
              "      <td>Negativo</td>\n",
              "    </tr>\n",
              "    <tr>\n",
              "      <th>7926</th>\n",
              "      <td>Mon Aug 09</td>\n",
              "      <td>13</td>\n",
              "      <td>No</td>\n",
              "      <td>0</td>\n",
              "      <td>4</td>\n",
              "      <td>NaN</td>\n",
              "      <td>837030272608579584</td>\n",
              "      <td>False</td>\n",
              "      <td>2501</td>\n",
              "      <td>874</td>\n",
              "      <td>2</td>\n",
              "      <td>No</td>\n",
              "      <td>Otro</td>\n",
              "      <td>False</td>\n",
              "      <td>12472</td>\n",
              "      <td>0</td>\n",
              "      <td>Neutro</td>\n",
              "    </tr>\n",
              "  </tbody>\n",
              "</table>\n",
              "<p>7809 rows × 17 columns</p>\n",
              "</div>"
            ],
            "text/plain": [
              "      created_at  created_at_hour  ... hastags_in_tweet  sentiment\n",
              "0     Wed Aug 11                9  ...                0   Negativo\n",
              "1     Wed Aug 11                9  ...                0     Neutro\n",
              "2     Wed Aug 11                9  ...                0     Neutro\n",
              "3     Wed Aug 11                9  ...                0   Positivo\n",
              "4     Wed Aug 11                9  ...                0   Negativo\n",
              "...          ...              ...  ...              ...        ...\n",
              "7922  Mon Aug 09               13  ...                0     Neutro\n",
              "7923  Mon Aug 09               13  ...                0   Negativo\n",
              "7924  Mon Aug 09               13  ...                0   Negativo\n",
              "7925  Mon Aug 09               13  ...                0   Negativo\n",
              "7926  Mon Aug 09               13  ...                0     Neutro\n",
              "\n",
              "[7809 rows x 17 columns]"
            ]
          },
          "metadata": {},
          "execution_count": 345
        }
      ]
    },
    {
      "cell_type": "markdown",
      "metadata": {
        "id": "7tdPP8nV56ym"
      },
      "source": [
        "Nos damos cuenta de que no tiene sentido meter id, y la eliminamos del df."
      ]
    },
    {
      "cell_type": "code",
      "metadata": {
        "id": "5hFKLYyL5-vM"
      },
      "source": [
        "df_limpio = df_limpio.drop(['user_id'],axis=1)"
      ],
      "execution_count": 346,
      "outputs": []
    },
    {
      "cell_type": "code",
      "metadata": {
        "colab": {
          "base_uri": "https://localhost:8080/",
          "height": 473
        },
        "id": "FRgjWwzf6K8c",
        "outputId": "c9766c0b-5100-4b1d-9e8a-d365af60567c"
      },
      "source": [
        "df_limpio"
      ],
      "execution_count": 347,
      "outputs": [
        {
          "output_type": "execute_result",
          "data": {
            "text/html": [
              "<div>\n",
              "<style scoped>\n",
              "    .dataframe tbody tr th:only-of-type {\n",
              "        vertical-align: middle;\n",
              "    }\n",
              "\n",
              "    .dataframe tbody tr th {\n",
              "        vertical-align: top;\n",
              "    }\n",
              "\n",
              "    .dataframe thead th {\n",
              "        text-align: right;\n",
              "    }\n",
              "</style>\n",
              "<table border=\"1\" class=\"dataframe\">\n",
              "  <thead>\n",
              "    <tr style=\"text-align: right;\">\n",
              "      <th></th>\n",
              "      <th>created_at</th>\n",
              "      <th>created_at_hour</th>\n",
              "      <th>retweeted</th>\n",
              "      <th>retweet_count</th>\n",
              "      <th>favorite_count</th>\n",
              "      <th>user_ verified</th>\n",
              "      <th>user_notificacion</th>\n",
              "      <th>user_followers</th>\n",
              "      <th>user_friends</th>\n",
              "      <th>mentions_in_tweet</th>\n",
              "      <th>is_reply</th>\n",
              "      <th>source_device</th>\n",
              "      <th>finished_tweet</th>\n",
              "      <th>status_count</th>\n",
              "      <th>hastags_in_tweet</th>\n",
              "      <th>sentiment</th>\n",
              "    </tr>\n",
              "  </thead>\n",
              "  <tbody>\n",
              "    <tr>\n",
              "      <th>0</th>\n",
              "      <td>Wed Aug 11</td>\n",
              "      <td>9</td>\n",
              "      <td>Si</td>\n",
              "      <td>1</td>\n",
              "      <td>0</td>\n",
              "      <td>NaN</td>\n",
              "      <td>False</td>\n",
              "      <td>20504</td>\n",
              "      <td>98</td>\n",
              "      <td>2</td>\n",
              "      <td>No</td>\n",
              "      <td>Otro</td>\n",
              "      <td>False</td>\n",
              "      <td>695888</td>\n",
              "      <td>0</td>\n",
              "      <td>Negativo</td>\n",
              "    </tr>\n",
              "    <tr>\n",
              "      <th>1</th>\n",
              "      <td>Wed Aug 11</td>\n",
              "      <td>9</td>\n",
              "      <td>No</td>\n",
              "      <td>0</td>\n",
              "      <td>0</td>\n",
              "      <td>NaN</td>\n",
              "      <td>False</td>\n",
              "      <td>2733</td>\n",
              "      <td>970</td>\n",
              "      <td>1</td>\n",
              "      <td>No</td>\n",
              "      <td>Twitter Web App</td>\n",
              "      <td>False</td>\n",
              "      <td>58398</td>\n",
              "      <td>0</td>\n",
              "      <td>Neutro</td>\n",
              "    </tr>\n",
              "    <tr>\n",
              "      <th>2</th>\n",
              "      <td>Wed Aug 11</td>\n",
              "      <td>9</td>\n",
              "      <td>No</td>\n",
              "      <td>0</td>\n",
              "      <td>0</td>\n",
              "      <td>NaN</td>\n",
              "      <td>False</td>\n",
              "      <td>353</td>\n",
              "      <td>943</td>\n",
              "      <td>1</td>\n",
              "      <td>Si</td>\n",
              "      <td>Twitter for iPhone</td>\n",
              "      <td>False</td>\n",
              "      <td>5974</td>\n",
              "      <td>0</td>\n",
              "      <td>Neutro</td>\n",
              "    </tr>\n",
              "    <tr>\n",
              "      <th>3</th>\n",
              "      <td>Wed Aug 11</td>\n",
              "      <td>9</td>\n",
              "      <td>No</td>\n",
              "      <td>0</td>\n",
              "      <td>0</td>\n",
              "      <td>NaN</td>\n",
              "      <td>False</td>\n",
              "      <td>6</td>\n",
              "      <td>1</td>\n",
              "      <td>3</td>\n",
              "      <td>Si</td>\n",
              "      <td>Twitter for Android</td>\n",
              "      <td>False</td>\n",
              "      <td>169</td>\n",
              "      <td>0</td>\n",
              "      <td>Positivo</td>\n",
              "    </tr>\n",
              "    <tr>\n",
              "      <th>4</th>\n",
              "      <td>Wed Aug 11</td>\n",
              "      <td>9</td>\n",
              "      <td>No</td>\n",
              "      <td>0</td>\n",
              "      <td>0</td>\n",
              "      <td>NaN</td>\n",
              "      <td>False</td>\n",
              "      <td>5562</td>\n",
              "      <td>3</td>\n",
              "      <td>0</td>\n",
              "      <td>No</td>\n",
              "      <td>Otro</td>\n",
              "      <td>False</td>\n",
              "      <td>113083</td>\n",
              "      <td>0</td>\n",
              "      <td>Negativo</td>\n",
              "    </tr>\n",
              "    <tr>\n",
              "      <th>...</th>\n",
              "      <td>...</td>\n",
              "      <td>...</td>\n",
              "      <td>...</td>\n",
              "      <td>...</td>\n",
              "      <td>...</td>\n",
              "      <td>...</td>\n",
              "      <td>...</td>\n",
              "      <td>...</td>\n",
              "      <td>...</td>\n",
              "      <td>...</td>\n",
              "      <td>...</td>\n",
              "      <td>...</td>\n",
              "      <td>...</td>\n",
              "      <td>...</td>\n",
              "      <td>...</td>\n",
              "      <td>...</td>\n",
              "    </tr>\n",
              "    <tr>\n",
              "      <th>7922</th>\n",
              "      <td>Mon Aug 09</td>\n",
              "      <td>13</td>\n",
              "      <td>No</td>\n",
              "      <td>0</td>\n",
              "      <td>0</td>\n",
              "      <td>NaN</td>\n",
              "      <td>False</td>\n",
              "      <td>0</td>\n",
              "      <td>4</td>\n",
              "      <td>0</td>\n",
              "      <td>Si</td>\n",
              "      <td>Twitter for iPhone</td>\n",
              "      <td>False</td>\n",
              "      <td>21</td>\n",
              "      <td>0</td>\n",
              "      <td>Neutro</td>\n",
              "    </tr>\n",
              "    <tr>\n",
              "      <th>7923</th>\n",
              "      <td>Mon Aug 09</td>\n",
              "      <td>13</td>\n",
              "      <td>No</td>\n",
              "      <td>0</td>\n",
              "      <td>1</td>\n",
              "      <td>NaN</td>\n",
              "      <td>False</td>\n",
              "      <td>477</td>\n",
              "      <td>435</td>\n",
              "      <td>1</td>\n",
              "      <td>Si</td>\n",
              "      <td>Twitter for iPhone</td>\n",
              "      <td>False</td>\n",
              "      <td>5828</td>\n",
              "      <td>0</td>\n",
              "      <td>Negativo</td>\n",
              "    </tr>\n",
              "    <tr>\n",
              "      <th>7924</th>\n",
              "      <td>Mon Aug 09</td>\n",
              "      <td>13</td>\n",
              "      <td>No</td>\n",
              "      <td>0</td>\n",
              "      <td>2</td>\n",
              "      <td>NaN</td>\n",
              "      <td>False</td>\n",
              "      <td>3215</td>\n",
              "      <td>4690</td>\n",
              "      <td>1</td>\n",
              "      <td>Si</td>\n",
              "      <td>Otro</td>\n",
              "      <td>False</td>\n",
              "      <td>29551</td>\n",
              "      <td>0</td>\n",
              "      <td>Negativo</td>\n",
              "    </tr>\n",
              "    <tr>\n",
              "      <th>7925</th>\n",
              "      <td>Mon Aug 09</td>\n",
              "      <td>13</td>\n",
              "      <td>No</td>\n",
              "      <td>0</td>\n",
              "      <td>0</td>\n",
              "      <td>NaN</td>\n",
              "      <td>False</td>\n",
              "      <td>409</td>\n",
              "      <td>870</td>\n",
              "      <td>0</td>\n",
              "      <td>No</td>\n",
              "      <td>Twitter for iPhone</td>\n",
              "      <td>False</td>\n",
              "      <td>54109</td>\n",
              "      <td>0</td>\n",
              "      <td>Negativo</td>\n",
              "    </tr>\n",
              "    <tr>\n",
              "      <th>7926</th>\n",
              "      <td>Mon Aug 09</td>\n",
              "      <td>13</td>\n",
              "      <td>No</td>\n",
              "      <td>0</td>\n",
              "      <td>4</td>\n",
              "      <td>NaN</td>\n",
              "      <td>False</td>\n",
              "      <td>2501</td>\n",
              "      <td>874</td>\n",
              "      <td>2</td>\n",
              "      <td>No</td>\n",
              "      <td>Otro</td>\n",
              "      <td>False</td>\n",
              "      <td>12472</td>\n",
              "      <td>0</td>\n",
              "      <td>Neutro</td>\n",
              "    </tr>\n",
              "  </tbody>\n",
              "</table>\n",
              "<p>7809 rows × 16 columns</p>\n",
              "</div>"
            ],
            "text/plain": [
              "      created_at  created_at_hour  ... hastags_in_tweet  sentiment\n",
              "0     Wed Aug 11                9  ...                0   Negativo\n",
              "1     Wed Aug 11                9  ...                0     Neutro\n",
              "2     Wed Aug 11                9  ...                0     Neutro\n",
              "3     Wed Aug 11                9  ...                0   Positivo\n",
              "4     Wed Aug 11                9  ...                0   Negativo\n",
              "...          ...              ...  ...              ...        ...\n",
              "7922  Mon Aug 09               13  ...                0     Neutro\n",
              "7923  Mon Aug 09               13  ...                0   Negativo\n",
              "7924  Mon Aug 09               13  ...                0   Negativo\n",
              "7925  Mon Aug 09               13  ...                0   Negativo\n",
              "7926  Mon Aug 09               13  ...                0     Neutro\n",
              "\n",
              "[7809 rows x 16 columns]"
            ]
          },
          "metadata": {},
          "execution_count": 347
        }
      ]
    },
    {
      "cell_type": "code",
      "metadata": {
        "id": "OjLL_sgW3u_T"
      },
      "source": [
        "from sklearn.model_selection import train_test_split\n",
        "\n",
        "# Dividimos la muestra en train y test\n",
        "\n",
        "X = df_limpio.drop(['sentiment'],axis=1)\n",
        "y = df_limpio['sentiment']\n",
        "\n",
        "X_train, X_test, y_train, y_test = train_test_split(X, y, test_size=0.3, random_state=12345)"
      ],
      "execution_count": 348,
      "outputs": []
    },
    {
      "cell_type": "code",
      "metadata": {
        "colab": {
          "base_uri": "https://localhost:8080/"
        },
        "id": "GUvwD5gjEeSu",
        "outputId": "aa08fa11-fa5f-4381-90e1-4f49420dbcd2"
      },
      "source": [
        "X_train.dtypes"
      ],
      "execution_count": 349,
      "outputs": [
        {
          "output_type": "execute_result",
          "data": {
            "text/plain": [
              "created_at            object\n",
              "created_at_hour        int64\n",
              "retweeted             object\n",
              "retweet_count          int64\n",
              "favorite_count         int64\n",
              "user_ verified       float64\n",
              "user_notificacion       bool\n",
              "user_followers         int64\n",
              "user_friends           int64\n",
              "mentions_in_tweet      int64\n",
              "is_reply              object\n",
              "source_device         object\n",
              "finished_tweet          bool\n",
              "status_count           int64\n",
              "hastags_in_tweet       int64\n",
              "dtype: object"
            ]
          },
          "metadata": {},
          "execution_count": 349
        }
      ]
    },
    {
      "cell_type": "code",
      "metadata": {
        "colab": {
          "base_uri": "https://localhost:8080/"
        },
        "id": "rhlg7uFAElEq",
        "outputId": "00f3f1c5-03cd-461c-ae07-a17ffa3a7b1b"
      },
      "source": [
        "y_train.dtypes"
      ],
      "execution_count": 350,
      "outputs": [
        {
          "output_type": "execute_result",
          "data": {
            "text/plain": [
              "CategoricalDtype(categories=['Negativo', 'Neutro', 'Positivo'], ordered=True)"
            ]
          },
          "metadata": {},
          "execution_count": 350
        }
      ]
    },
    {
      "cell_type": "code",
      "metadata": {
        "id": "sheuHoam6npq"
      },
      "source": [
        "# Creamos una función para comparar los resultados en boxplot\n",
        "\n",
        "def boxplots_algorithms(results, names):\n",
        "    \n",
        "    plt.figure(figsize=(8,8))\n",
        "    plt.boxplot(results)\n",
        "    plt.xticks(range(1,len(names)+1), names)\n",
        "    plt.show()"
      ],
      "execution_count": 351,
      "outputs": []
    },
    {
      "cell_type": "code",
      "metadata": {
        "id": "DQUtyQZU5MzZ"
      },
      "source": [
        "from sklearn.linear_model import LogisticRegression\n",
        "from sklearn.ensemble import RandomForestClassifier\n",
        "from sklearn.svm import SVC\n",
        "\n",
        "# Modelos que utilizaremos\n",
        "\n",
        "models = []\n",
        "models.append(('LR', LogisticRegression(random_state=12345)))\n",
        "models.append(('RFC', RandomForestClassifier(random_state=12345)))\n",
        "models.append(('SVM', SVC()))"
      ],
      "execution_count": 352,
      "outputs": []
    },
    {
      "cell_type": "code",
      "metadata": {
        "id": "-QKlkDqm7bgS"
      },
      "source": [
        "from sklearn.pipeline import make_pipeline, Pipeline\n",
        "\n",
        "from sklearn.metrics import accuracy_score, balanced_accuracy_score, classification_report\n",
        "\n",
        "from sklearn.preprocessing import MinMaxScaler, StandardScaler, Normalizer, Binarizer, RobustScaler\n",
        "\n",
        "from sklearn.model_selection import KFold, ShuffleSplit, LeaveOneOut, StratifiedKFold\n",
        "from sklearn.model_selection import cross_val_score, cross_val_predict\n",
        "from sklearn.model_selection import GridSearchCV, RandomizedSearchCV"
      ],
      "execution_count": 353,
      "outputs": []
    },
    {
      "cell_type": "code",
      "metadata": {
        "id": "u0NCVqgoycUv"
      },
      "source": [
        "from sklearn.compose import ColumnTransformer\n",
        "from sklearn.preprocessing import OneHotEncoder, LabelEncoder, PowerTransformer\n",
        "\n",
        "# Creamos un One Hot Encoder que nos ayude a dummificar las nuevas entradas\n",
        "# de las variables categóricas que incluyamos\n",
        "\n",
        "col_transformer = ColumnTransformer([\n",
        "    ('created_at', OneHotEncoder(drop='first'), ['created_at']),\n",
        "    ('retweeted', OneHotEncoder(drop='first'), ['retweeted']), \n",
        "    ('is_reply', OneHotEncoder(drop='first'), ['is_reply']), \n",
        "    ('source_device', OneHotEncoder(drop='first'), ['source_device'])\n",
        "])"
      ],
      "execution_count": 354,
      "outputs": []
    },
    {
      "cell_type": "code",
      "metadata": {
        "id": "hk5lfQs9F4XA",
        "colab": {
          "base_uri": "https://localhost:8080/",
          "height": 534
        },
        "outputId": "47ba6f96-3675-4f44-a26e-7ad99baf744f"
      },
      "source": [
        "\"\"\" Realizad un bucle que calcule, para cada modelo,\n",
        "    - OneHotEncoder para nuevos datos\n",
        "    - Evaluación del modelo\n",
        "    - Una validación cruzada:\n",
        "        1. Tipo KFolds, con 10 splits \n",
        "        2. Aleatorio con semilla y,\n",
        "        3. scoring='accuracy'\n",
        "     Usaremos la función boxplots_algorithms para plotear los resultados \"\"\"\n",
        "\n",
        "results = []\n",
        "names = []\n",
        "\n",
        "for name, model in models:\n",
        "\n",
        "    pipeline = make_pipeline(col_transformer, model)\n",
        "    pipeline = pipeline.fit(X_train, y_train) \n",
        "    \n",
        "    cv_technique = KFold(n_splits=10, shuffle=True, random_state=12345)\n",
        "    cv_results = cross_val_score(pipeline, X, y, cv=cv_technique, scoring ='accuracy')\n",
        "    \n",
        "    msg = \"%s: %f (%f)\" % (name, cv_results.mean(), cv_results.std())\n",
        "    print(msg)\n",
        "    \n",
        "    results.append(cv_results)\n",
        "    names.append(name)\n",
        "    \n",
        "boxplots_algorithms(results, names)"
      ],
      "execution_count": 355,
      "outputs": [
        {
          "output_type": "stream",
          "text": [
            "LR: 0.447818 (0.012214)\n",
            "RFC: 0.449868 (0.018418)\n",
            "SVM: 0.449611 (0.019245)\n"
          ],
          "name": "stdout"
        },
        {
          "output_type": "display_data",
          "data": {
            "image/png": "[encoded data removed]",
            "text/plain": [
              "<Figure size 576x576 with 1 Axes>"
            ]
          },
          "metadata": {
            "needs_background": "light"
          }
        }
      ]
    },
    {
      "cell_type": "code",
      "metadata": {
        "colab": {
          "base_uri": "https://localhost:8080/"
        },
        "id": "w7yoglTJ0eWl",
        "outputId": "d9da8511-74f2-4021-b2a6-416ec91fdba6"
      },
      "source": [
        "# import sklearn\n",
        "# sklearn.metrics.SCORERS.keys()"
      ],
      "execution_count": 239,
      "outputs": [
        {
          "output_type": "execute_result",
          "data": {
            "text/plain": [
              "dict_keys(['explained_variance', 'r2', 'max_error', 'neg_median_absolute_error', 'neg_mean_absolute_error', 'neg_mean_squared_error', 'neg_mean_squared_log_error', 'neg_root_mean_squared_error', 'neg_mean_poisson_deviance', 'neg_mean_gamma_deviance', 'accuracy', 'roc_auc', 'roc_auc_ovr', 'roc_auc_ovo', 'roc_auc_ovr_weighted', 'roc_auc_ovo_weighted', 'balanced_accuracy', 'average_precision', 'neg_log_loss', 'neg_brier_score', 'adjusted_rand_score', 'homogeneity_score', 'completeness_score', 'v_measure_score', 'mutual_info_score', 'adjusted_mutual_info_score', 'normalized_mutual_info_score', 'fowlkes_mallows_score', 'precision', 'precision_macro', 'precision_micro', 'precision_samples', 'precision_weighted', 'recall', 'recall_macro', 'recall_micro', 'recall_samples', 'recall_weighted', 'f1', 'f1_macro', 'f1_micro', 'f1_samples', 'f1_weighted', 'jaccard', 'jaccard_macro', 'jaccard_micro', 'jaccard_samples', 'jaccard_weighted'])"
            ]
          },
          "metadata": {},
          "execution_count": 239
        }
      ]
    },
    {
      "cell_type": "markdown",
      "metadata": {
        "id": "A55w0gaC7DTE"
      },
      "source": [
        "### C. Tuneado del mejor modelo y resultados en test\n",
        "\n",
        "Ahora voy a probar con regresión porque me parece el más robusto (MJ). Voy a tunearlo y sacar las predicciones de test, para ver si es un 'buen' modelo para datos no entrenados.\n",
        "\n",
        "Al final hacemos RandomForest porque Regresión no se tunea, luego sacamos predicciones de ambos."
      ]
    },
    {
      "cell_type": "code",
      "metadata": {
        "colab": {
          "base_uri": "https://localhost:8080/"
        },
        "id": "RfHnJ1Oc7Kev",
        "outputId": "09b4605c-1247-409d-ce25-e5e47933e85d"
      },
      "source": [
        "from sklearn.model_selection import cross_val_score, cross_val_predict\n",
        "from sklearn.model_selection import GridSearchCV, RandomizedSearchCV\n",
        "\n",
        "# Tuneado forest\n",
        "\n",
        "param_grid = { \n",
        "    'model__n_estimators': [10, 20], # Número de árboles\n",
        "    'model__max_features': ['auto', 'sqrt', 'log2'], # Máximo de particiones para cada nodo\n",
        "    'model__max_depth' : [4,5,6,7,8], # Número máximo de niveles en cada árbol\n",
        "    'model__criterion' :['gini', 'entropy']\n",
        "}\n",
        "\n",
        "modelo = RandomForestClassifier()\n",
        "\n",
        "pipeline = Pipeline([('transformacion_columna', col_transformer),\n",
        "                     ('model', modelo)])\n",
        "\n",
        "cv_technique = KFold(n_splits=10, shuffle=True, random_state=12345)\n",
        "grid_model = GridSearchCV(estimator=pipeline, param_grid=param_grid, cv=cv_technique)\n",
        "grid_model.fit(X_train, y_train)\n",
        "\n",
        "print(grid_model.best_score_)\n",
        "print(grid_model.best_estimator_)"
      ],
      "execution_count": 356,
      "outputs": [
        {
          "output_type": "stream",
          "text": [
            "0.44877453442352894\n",
            "Pipeline(memory=None,\n",
            "         steps=[('transformacion_columna',\n",
            "                 ColumnTransformer(n_jobs=None, remainder='drop',\n",
            "                                   sparse_threshold=0.3,\n",
            "                                   transformer_weights=None,\n",
            "                                   transformers=[('created_at',\n",
            "                                                  OneHotEncoder(categories='auto',\n",
            "                                                                drop='first',\n",
            "                                                                dtype=<class 'numpy.float64'>,\n",
            "                                                                handle_unknown='error',\n",
            "                                                                sparse=True),\n",
            "                                                  ['created_at']),\n",
            "                                                 ('retweeted',\n",
            "                                                  OneHotEncoder(categories='auto',\n",
            "                                                                drop...\n",
            "                 RandomForestClassifier(bootstrap=True, ccp_alpha=0.0,\n",
            "                                        class_weight=None, criterion='entropy',\n",
            "                                        max_depth=4, max_features='log2',\n",
            "                                        max_leaf_nodes=None, max_samples=None,\n",
            "                                        min_impurity_decrease=0.0,\n",
            "                                        min_impurity_split=None,\n",
            "                                        min_samples_leaf=1, min_samples_split=2,\n",
            "                                        min_weight_fraction_leaf=0.0,\n",
            "                                        n_estimators=20, n_jobs=None,\n",
            "                                        oob_score=False, random_state=None,\n",
            "                                        verbose=0, warm_start=False))],\n",
            "         verbose=False)\n"
          ],
          "name": "stdout"
        }
      ]
    },
    {
      "cell_type": "code",
      "metadata": {
        "id": "T10GXUDK9XbR"
      },
      "source": [
        "ganador_rf = RandomForestClassifier(bootstrap=True, ccp_alpha=0.0,\n",
        "                                        class_weight=None, criterion='entropy',\n",
        "                                        max_depth=4, max_features='log2',\n",
        "                                        max_leaf_nodes=None, max_samples=None,\n",
        "                                        min_impurity_decrease=0.0,\n",
        "                                        min_impurity_split=None,\n",
        "                                        min_samples_leaf=1, min_samples_split=2,\n",
        "                                        min_weight_fraction_leaf=0.0,\n",
        "                                        n_estimators=20, n_jobs=None,\n",
        "                                        oob_score=False, random_state=None,\n",
        "                                        verbose=0, warm_start=False)\n",
        "\n",
        "pipe = Pipeline([('transformacion_columna', col_transformer),\n",
        "                 ('model', ganador_rf)])\n",
        "pipe = pipe.fit(X_train, y_train)"
      ],
      "execution_count": 362,
      "outputs": []
    },
    {
      "cell_type": "code",
      "metadata": {
        "id": "NNZr2quF-XYA"
      },
      "source": [
        "prediccion_rf = pipe.predict(X_test)"
      ],
      "execution_count": 377,
      "outputs": []
    },
    {
      "cell_type": "code",
      "metadata": {
        "id": "Bo8LyAC9_joT"
      },
      "source": [
        "accuracy_rf = (prediccion_rf == y_test).value_counts()/y_test.shape[0]"
      ],
      "execution_count": 385,
      "outputs": []
    },
    {
      "cell_type": "code",
      "metadata": {
        "colab": {
          "base_uri": "https://localhost:8080/"
        },
        "id": "v7JZtht6_8a8",
        "outputId": "2549282e-1a88-416e-8b34-8f7003636206"
      },
      "source": [
        "accuracy_rf[1]"
      ],
      "execution_count": 388,
      "outputs": [
        {
          "output_type": "execute_result",
          "data": {
            "text/plain": [
              "0.4579598804950918"
            ]
          },
          "metadata": {},
          "execution_count": 388
        }
      ]
    },
    {
      "cell_type": "code",
      "metadata": {
        "id": "2k1WTVSnAUpf"
      },
      "source": [
        "ganador_lr = LogisticRegression()\n",
        "\n",
        "pipe2 = Pipeline([('transformacion_columna', col_transformer),\n",
        "                 ('model', ganador_lr)])\n",
        "pipe2 = pipe2.fit(X_train, y_train)"
      ],
      "execution_count": 398,
      "outputs": []
    },
    {
      "cell_type": "code",
      "metadata": {
        "id": "9FtYJC14AvsW"
      },
      "source": [
        "prediccion_lr = pipe2.predict(X_test)"
      ],
      "execution_count": 399,
      "outputs": []
    },
    {
      "cell_type": "code",
      "metadata": {
        "id": "da61HebMAyuH"
      },
      "source": [
        "accuracy_lr = (prediccion_lr == y_test).value_counts()/y_test.shape[0]"
      ],
      "execution_count": 400,
      "outputs": []
    },
    {
      "cell_type": "code",
      "metadata": {
        "colab": {
          "base_uri": "https://localhost:8080/"
        },
        "id": "sSK_o9QgA75y",
        "outputId": "ee139a5e-e6eb-491c-f263-91001a70e6ed"
      },
      "source": [
        "accuracy_lr[1]"
      ],
      "execution_count": 401,
      "outputs": [
        {
          "output_type": "execute_result",
          "data": {
            "text/plain": [
              "0.4579598804950918"
            ]
          },
          "metadata": {},
          "execution_count": 401
        }
      ]
    },
    {
      "cell_type": "code",
      "metadata": {
        "id": "Tm12hy0WA9F9"
      },
      "source": [
        ""
      ],
      "execution_count": null,
      "outputs": []
    }
  ]
}