{
  "nbformat": 4,
  "nbformat_minor": 0,
  "metadata": {
    "colab": {
      "name": "Modelos_v0_20210820.ipynb",
      "provenance": [],
      "collapsed_sections": []
    },
    "kernelspec": {
      "name": "python3",
      "display_name": "Python 3"
    },
    "language_info": {
      "name": "python"
    }
  },
  "cells": [
    {
      "cell_type": "markdown",
      "metadata": {
        "id": "Rk4gYKxNh3F_"
      },
      "source": [
        "### A. CREACIÓN DE VARIABLES OBJETIVO"
      ]
    },
    {
      "cell_type": "code",
      "metadata": {
        "colab": {
          "base_uri": "https://localhost:8080/",
          "height": 423
        },
        "id": "sGy2t8TCuxr2",
        "outputId": "7f88e292-3241-4e05-ea40-0802bfc00842"
      },
      "source": [
        "df[[\"text\", \"possitivity_textblob\", \"possitivity_vader\", 'possitivity_ibm']]"
      ],
      "execution_count": null,
      "outputs": [
        {
          "output_type": "execute_result",
          "data": {
            "text/html": [
              "<div>\n",
              "<style scoped>\n",
              "    .dataframe tbody tr th:only-of-type {\n",
              "        vertical-align: middle;\n",
              "    }\n",
              "\n",
              "    .dataframe tbody tr th {\n",
              "        vertical-align: top;\n",
              "    }\n",
              "\n",
              "    .dataframe thead th {\n",
              "        text-align: right;\n",
              "    }\n",
              "</style>\n",
              "<table border=\"1\" class=\"dataframe\">\n",
              "  <thead>\n",
              "    <tr style=\"text-align: right;\">\n",
              "      <th></th>\n",
              "      <th>text</th>\n",
              "      <th>possitivity_textblob</th>\n",
              "      <th>possitivity_vader</th>\n",
              "      <th>possitivity_ibm</th>\n",
              "    </tr>\n",
              "  </thead>\n",
              "  <tbody>\n",
              "    <tr>\n",
              "      <th>0</th>\n",
              "      <td>@Uber_Support hi guys why all my trips this we...</td>\n",
              "      <td>0.000000</td>\n",
              "      <td>0.0000</td>\n",
              "      <td>-0.912398</td>\n",
              "    </tr>\n",
              "    <tr>\n",
              "      <th>1</th>\n",
              "      <td>So are we getting Uber eats league 1 or not @S...</td>\n",
              "      <td>0.000000</td>\n",
              "      <td>0.0000</td>\n",
              "      <td>0.000000</td>\n",
              "    </tr>\n",
              "    <tr>\n",
              "      <th>2</th>\n",
              "      <td>@footballdaily 2-3 years of Messi, a bit of ca...</td>\n",
              "      <td>-0.333333</td>\n",
              "      <td>0.5859</td>\n",
              "      <td>-0.807459</td>\n",
              "    </tr>\n",
              "    <tr>\n",
              "      <th>3</th>\n",
              "      <td>@Prashan32439454 @Uber_Support @rameshjoshi80 ...</td>\n",
              "      <td>0.455000</td>\n",
              "      <td>0.4754</td>\n",
              "      <td>0.863584</td>\n",
              "    </tr>\n",
              "    <tr>\n",
              "      <th>4</th>\n",
              "      <td>Uber's Gopuff partnership, Drizly deal being p...</td>\n",
              "      <td>0.000000</td>\n",
              "      <td>0.0000</td>\n",
              "      <td>-0.788377</td>\n",
              "    </tr>\n",
              "    <tr>\n",
              "      <th>...</th>\n",
              "      <td>...</td>\n",
              "      <td>...</td>\n",
              "      <td>...</td>\n",
              "      <td>...</td>\n",
              "    </tr>\n",
              "    <tr>\n",
              "      <th>7922</th>\n",
              "      <td>Over 3,800 rides in over 3.5 years one blown t...</td>\n",
              "      <td>0.000000</td>\n",
              "      <td>0.4898</td>\n",
              "      <td>-0.911314</td>\n",
              "    </tr>\n",
              "    <tr>\n",
              "      <th>7923</th>\n",
              "      <td>@CoolABADev obviously i will want Messi to suc...</td>\n",
              "      <td>0.114286</td>\n",
              "      <td>-0.0333</td>\n",
              "      <td>-0.759793</td>\n",
              "    </tr>\n",
              "    <tr>\n",
              "      <th>7924</th>\n",
              "      <td>@catekitchen Shit, that’s absolutely a crap si...</td>\n",
              "      <td>-0.250000</td>\n",
              "      <td>-0.7086</td>\n",
              "      <td>-0.988080</td>\n",
              "    </tr>\n",
              "    <tr>\n",
              "      <th>7925</th>\n",
              "      <td>Simply don’t take a Uber then dumb ass https:/...</td>\n",
              "      <td>-0.187500</td>\n",
              "      <td>-0.8096</td>\n",
              "      <td>-0.971243</td>\n",
              "    </tr>\n",
              "    <tr>\n",
              "      <th>7926</th>\n",
              "      <td>Uber, Lyft prices keep climbing to new highs, ...</td>\n",
              "      <td>0.136364</td>\n",
              "      <td>0.0000</td>\n",
              "      <td>0.000000</td>\n",
              "    </tr>\n",
              "  </tbody>\n",
              "</table>\n",
              "<p>7809 rows × 4 columns</p>\n",
              "</div>"
            ],
            "text/plain": [
              "                                                   text  ...  possitivity_ibm\n",
              "0     @Uber_Support hi guys why all my trips this we...  ...        -0.912398\n",
              "1     So are we getting Uber eats league 1 or not @S...  ...         0.000000\n",
              "2     @footballdaily 2-3 years of Messi, a bit of ca...  ...        -0.807459\n",
              "3     @Prashan32439454 @Uber_Support @rameshjoshi80 ...  ...         0.863584\n",
              "4     Uber's Gopuff partnership, Drizly deal being p...  ...        -0.788377\n",
              "...                                                 ...  ...              ...\n",
              "7922  Over 3,800 rides in over 3.5 years one blown t...  ...        -0.911314\n",
              "7923  @CoolABADev obviously i will want Messi to suc...  ...        -0.759793\n",
              "7924  @catekitchen Shit, that’s absolutely a crap si...  ...        -0.988080\n",
              "7925  Simply don’t take a Uber then dumb ass https:/...  ...        -0.971243\n",
              "7926  Uber, Lyft prices keep climbing to new highs, ...  ...         0.000000\n",
              "\n",
              "[7809 rows x 4 columns]"
            ]
          },
          "metadata": {},
          "execution_count": 219
        }
      ]
    },
    {
      "cell_type": "code",
      "metadata": {
        "id": "bwSgTybNh1Jz"
      },
      "source": [
        "import pandas as pd\n",
        "\n",
        "# Abrimos el fichero anterior de la carpeta\n",
        "df = pd.read_csv(\"./data-unsupervised-sentiment-20210819.csv\")"
      ],
      "execution_count": null,
      "outputs": []
    },
    {
      "cell_type": "code",
      "metadata": {
        "colab": {
          "base_uri": "https://localhost:8080/"
        },
        "id": "5Bt3uQHEljb0",
        "outputId": "36b567ee-71c9-4f8b-9560-5cb487dd6524"
      },
      "source": [
        "# Comprobamos las dimensiones del df\n",
        "df.shape"
      ],
      "execution_count": null,
      "outputs": [
        {
          "output_type": "execute_result",
          "data": {
            "text/plain": [
              "(7927, 29)"
            ]
          },
          "metadata": {},
          "execution_count": 221
        }
      ]
    },
    {
      "cell_type": "code",
      "metadata": {
        "id": "2cO8rghggWtS"
      },
      "source": [
        "# Función que hace la media ponderada\n",
        "\n",
        "def media(num1,num2,num3):\n",
        "  \n",
        "  a = 1/5\n",
        "  b = 1/5\n",
        "  c = 3/5\n",
        "\n",
        "  m = a*float(num1) + b*float(num2) + c*float(num3)\n",
        "\n",
        "  return m"
      ],
      "execution_count": null,
      "outputs": []
    },
    {
      "cell_type": "code",
      "metadata": {
        "colab": {
          "base_uri": "https://localhost:8080/",
          "height": 423
        },
        "id": "1kzvqfnYgKRf",
        "outputId": "46a03be7-ea1b-4a0f-fb10-0d5d2d20fff1"
      },
      "source": [
        "import numpy as np\n",
        "\n",
        "# Creamos la variable del sentimiento final en base a la media de los anteriores\n",
        "variables = ['possitivity_textblob','possitivity_vader','possitivity_ibm']\n",
        "df['sentiment_mean'] = df[variables].apply(np.mean, axis=1)\n",
        "df[[\"text\",\"sentiment_mean\", \"possitivity_textblob\", \"possitivity_vader\", 'possitivity_ibm']]"
      ],
      "execution_count": null,
      "outputs": [
        {
          "output_type": "execute_result",
          "data": {
            "text/html": [
              "<div>\n",
              "<style scoped>\n",
              "    .dataframe tbody tr th:only-of-type {\n",
              "        vertical-align: middle;\n",
              "    }\n",
              "\n",
              "    .dataframe tbody tr th {\n",
              "        vertical-align: top;\n",
              "    }\n",
              "\n",
              "    .dataframe thead th {\n",
              "        text-align: right;\n",
              "    }\n",
              "</style>\n",
              "<table border=\"1\" class=\"dataframe\">\n",
              "  <thead>\n",
              "    <tr style=\"text-align: right;\">\n",
              "      <th></th>\n",
              "      <th>text</th>\n",
              "      <th>sentiment_mean</th>\n",
              "      <th>possitivity_textblob</th>\n",
              "      <th>possitivity_vader</th>\n",
              "      <th>possitivity_ibm</th>\n",
              "    </tr>\n",
              "  </thead>\n",
              "  <tbody>\n",
              "    <tr>\n",
              "      <th>0</th>\n",
              "      <td>@Uber_Support hi guys why all my trips this we...</td>\n",
              "      <td>-0.304133</td>\n",
              "      <td>0.000000</td>\n",
              "      <td>0.0000</td>\n",
              "      <td>-0.912398</td>\n",
              "    </tr>\n",
              "    <tr>\n",
              "      <th>1</th>\n",
              "      <td>So are we getting Uber eats league 1 or not @S...</td>\n",
              "      <td>0.000000</td>\n",
              "      <td>0.000000</td>\n",
              "      <td>0.0000</td>\n",
              "      <td>0.000000</td>\n",
              "    </tr>\n",
              "    <tr>\n",
              "      <th>2</th>\n",
              "      <td>@footballdaily 2-3 years of Messi, a bit of ca...</td>\n",
              "      <td>-0.184964</td>\n",
              "      <td>-0.333333</td>\n",
              "      <td>0.5859</td>\n",
              "      <td>-0.807459</td>\n",
              "    </tr>\n",
              "    <tr>\n",
              "      <th>3</th>\n",
              "      <td>@Prashan32439454 @Uber_Support @rameshjoshi80 ...</td>\n",
              "      <td>0.597995</td>\n",
              "      <td>0.455000</td>\n",
              "      <td>0.4754</td>\n",
              "      <td>0.863584</td>\n",
              "    </tr>\n",
              "    <tr>\n",
              "      <th>4</th>\n",
              "      <td>Uber's Gopuff partnership, Drizly deal being p...</td>\n",
              "      <td>-0.262792</td>\n",
              "      <td>0.000000</td>\n",
              "      <td>0.0000</td>\n",
              "      <td>-0.788377</td>\n",
              "    </tr>\n",
              "    <tr>\n",
              "      <th>...</th>\n",
              "      <td>...</td>\n",
              "      <td>...</td>\n",
              "      <td>...</td>\n",
              "      <td>...</td>\n",
              "      <td>...</td>\n",
              "    </tr>\n",
              "    <tr>\n",
              "      <th>7922</th>\n",
              "      <td>Over 3,800 rides in over 3.5 years one blown t...</td>\n",
              "      <td>-0.140505</td>\n",
              "      <td>0.000000</td>\n",
              "      <td>0.4898</td>\n",
              "      <td>-0.911314</td>\n",
              "    </tr>\n",
              "    <tr>\n",
              "      <th>7923</th>\n",
              "      <td>@CoolABADev obviously i will want Messi to suc...</td>\n",
              "      <td>-0.226269</td>\n",
              "      <td>0.114286</td>\n",
              "      <td>-0.0333</td>\n",
              "      <td>-0.759793</td>\n",
              "    </tr>\n",
              "    <tr>\n",
              "      <th>7924</th>\n",
              "      <td>@catekitchen Shit, that’s absolutely a crap si...</td>\n",
              "      <td>-0.648893</td>\n",
              "      <td>-0.250000</td>\n",
              "      <td>-0.7086</td>\n",
              "      <td>-0.988080</td>\n",
              "    </tr>\n",
              "    <tr>\n",
              "      <th>7925</th>\n",
              "      <td>Simply don’t take a Uber then dumb ass https:/...</td>\n",
              "      <td>-0.656114</td>\n",
              "      <td>-0.187500</td>\n",
              "      <td>-0.8096</td>\n",
              "      <td>-0.971243</td>\n",
              "    </tr>\n",
              "    <tr>\n",
              "      <th>7926</th>\n",
              "      <td>Uber, Lyft prices keep climbing to new highs, ...</td>\n",
              "      <td>0.045455</td>\n",
              "      <td>0.136364</td>\n",
              "      <td>0.0000</td>\n",
              "      <td>0.000000</td>\n",
              "    </tr>\n",
              "  </tbody>\n",
              "</table>\n",
              "<p>7927 rows × 5 columns</p>\n",
              "</div>"
            ],
            "text/plain": [
              "                                                   text  ...  possitivity_ibm\n",
              "0     @Uber_Support hi guys why all my trips this we...  ...        -0.912398\n",
              "1     So are we getting Uber eats league 1 or not @S...  ...         0.000000\n",
              "2     @footballdaily 2-3 years of Messi, a bit of ca...  ...        -0.807459\n",
              "3     @Prashan32439454 @Uber_Support @rameshjoshi80 ...  ...         0.863584\n",
              "4     Uber's Gopuff partnership, Drizly deal being p...  ...        -0.788377\n",
              "...                                                 ...  ...              ...\n",
              "7922  Over 3,800 rides in over 3.5 years one blown t...  ...        -0.911314\n",
              "7923  @CoolABADev obviously i will want Messi to suc...  ...        -0.759793\n",
              "7924  @catekitchen Shit, that’s absolutely a crap si...  ...        -0.988080\n",
              "7925  Simply don’t take a Uber then dumb ass https:/...  ...        -0.971243\n",
              "7926  Uber, Lyft prices keep climbing to new highs, ...  ...         0.000000\n",
              "\n",
              "[7927 rows x 5 columns]"
            ]
          },
          "metadata": {},
          "execution_count": 223
        }
      ]
    },
    {
      "cell_type": "code",
      "metadata": {
        "colab": {
          "base_uri": "https://localhost:8080/",
          "height": 686
        },
        "id": "d9c2p04diQ9t",
        "outputId": "d5e267d1-d31d-4466-fef7-c4e32ad278f3"
      },
      "source": [
        "# Limpio los datos que tienen 9999 en la variable possitivity_ibm\n",
        "# Estos tweets están en idiomas no detectables por la librería \n",
        "\n",
        "df.loc[df['possitivity_ibm'] > 1]"
      ],
      "execution_count": null,
      "outputs": [
        {
          "output_type": "execute_result",
          "data": {
            "text/html": [
              "<div>\n",
              "<style scoped>\n",
              "    .dataframe tbody tr th:only-of-type {\n",
              "        vertical-align: middle;\n",
              "    }\n",
              "\n",
              "    .dataframe tbody tr th {\n",
              "        vertical-align: top;\n",
              "    }\n",
              "\n",
              "    .dataframe thead th {\n",
              "        text-align: right;\n",
              "    }\n",
              "</style>\n",
              "<table border=\"1\" class=\"dataframe\">\n",
              "  <thead>\n",
              "    <tr style=\"text-align: right;\">\n",
              "      <th></th>\n",
              "      <th>Unnamed: 0</th>\n",
              "      <th>Unnamed: 0.1</th>\n",
              "      <th>Unnamed: 0.1.1</th>\n",
              "      <th>text</th>\n",
              "      <th>created_at</th>\n",
              "      <th>created_at_time</th>\n",
              "      <th>created_at_hour</th>\n",
              "      <th>retweeted</th>\n",
              "      <th>retweet_count</th>\n",
              "      <th>favorite_count</th>\n",
              "      <th>user_ verified</th>\n",
              "      <th>user_id</th>\n",
              "      <th>user_name</th>\n",
              "      <th>user_location</th>\n",
              "      <th>user_notificacion</th>\n",
              "      <th>user_followers</th>\n",
              "      <th>user_friends</th>\n",
              "      <th>user_withheld_in_countries</th>\n",
              "      <th>mentions_in_tweet</th>\n",
              "      <th>is_reply</th>\n",
              "      <th>source_device</th>\n",
              "      <th>finished_tweet</th>\n",
              "      <th>status_count</th>\n",
              "      <th>hashtags_text</th>\n",
              "      <th>hastags_indices</th>\n",
              "      <th>hastags_in_tweet</th>\n",
              "      <th>possitivity_textblob</th>\n",
              "      <th>possitivity_vader</th>\n",
              "      <th>possitivity_ibm</th>\n",
              "      <th>sentiment_mean</th>\n",
              "    </tr>\n",
              "  </thead>\n",
              "  <tbody>\n",
              "    <tr>\n",
              "      <th>190</th>\n",
              "      <td>190</td>\n",
              "      <td>296</td>\n",
              "      <td>296</td>\n",
              "      <td>@__rainy12__ Uber ne theka diya h personal dri...</td>\n",
              "      <td>Wed Aug 11</td>\n",
              "      <td>09:15:00</td>\n",
              "      <td>9</td>\n",
              "      <td>No</td>\n",
              "      <td>0</td>\n",
              "      <td>1</td>\n",
              "      <td>NaN</td>\n",
              "      <td>1197803093196303872</td>\n",
              "      <td>yashi_mk</td>\n",
              "      <td>India</td>\n",
              "      <td>False</td>\n",
              "      <td>23</td>\n",
              "      <td>37</td>\n",
              "      <td>[]</td>\n",
              "      <td>1</td>\n",
              "      <td>__rainy12__</td>\n",
              "      <td>Twitter Web App</td>\n",
              "      <td>False</td>\n",
              "      <td>1250</td>\n",
              "      <td>[]</td>\n",
              "      <td>[]</td>\n",
              "      <td>0</td>\n",
              "      <td>0.2</td>\n",
              "      <td>0.0000</td>\n",
              "      <td>9999.0</td>\n",
              "      <td>3333.066667</td>\n",
              "    </tr>\n",
              "    <tr>\n",
              "      <th>208</th>\n",
              "      <td>208</td>\n",
              "      <td>329</td>\n",
              "      <td>329</td>\n",
              "      <td>i'm in an uber</td>\n",
              "      <td>Wed Aug 11</td>\n",
              "      <td>09:12:27</td>\n",
              "      <td>9</td>\n",
              "      <td>No</td>\n",
              "      <td>0</td>\n",
              "      <td>1</td>\n",
              "      <td>NaN</td>\n",
              "      <td>1396111086852660992</td>\n",
              "      <td>girlalmightyhry</td>\n",
              "      <td>Ot5 | harry's lane | larrie</td>\n",
              "      <td>False</td>\n",
              "      <td>173</td>\n",
              "      <td>330</td>\n",
              "      <td>[]</td>\n",
              "      <td>0</td>\n",
              "      <td>No</td>\n",
              "      <td>Twitter for Android</td>\n",
              "      <td>False</td>\n",
              "      <td>683</td>\n",
              "      <td>[]</td>\n",
              "      <td>[]</td>\n",
              "      <td>0</td>\n",
              "      <td>0.0</td>\n",
              "      <td>0.0000</td>\n",
              "      <td>9999.0</td>\n",
              "      <td>3333.000000</td>\n",
              "    </tr>\n",
              "    <tr>\n",
              "      <th>228</th>\n",
              "      <td>228</td>\n",
              "      <td>382</td>\n",
              "      <td>382</td>\n",
              "      <td>@NazneenTowhid @BajrangPunia Just Shut up, you...</td>\n",
              "      <td>Wed Aug 11</td>\n",
              "      <td>09:07:57</td>\n",
              "      <td>9</td>\n",
              "      <td>No</td>\n",
              "      <td>0</td>\n",
              "      <td>0</td>\n",
              "      <td>NaN</td>\n",
              "      <td>836633428149878784</td>\n",
              "      <td>Kittu9964</td>\n",
              "      <td>Hyderabad, India</td>\n",
              "      <td>False</td>\n",
              "      <td>52</td>\n",
              "      <td>81</td>\n",
              "      <td>[]</td>\n",
              "      <td>2</td>\n",
              "      <td>NazneenTowhid</td>\n",
              "      <td>Twitter for Android</td>\n",
              "      <td>False</td>\n",
              "      <td>4497</td>\n",
              "      <td>[]</td>\n",
              "      <td>[]</td>\n",
              "      <td>0</td>\n",
              "      <td>-0.6</td>\n",
              "      <td>0.5900</td>\n",
              "      <td>9999.0</td>\n",
              "      <td>3332.996667</td>\n",
              "    </tr>\n",
              "    <tr>\n",
              "      <th>284</th>\n",
              "      <td>284</td>\n",
              "      <td>485</td>\n",
              "      <td>485</td>\n",
              "      <td>@Colombo_Ladyy Uber eats 😬</td>\n",
              "      <td>Wed Aug 11</td>\n",
              "      <td>09:00:02</td>\n",
              "      <td>9</td>\n",
              "      <td>No</td>\n",
              "      <td>0</td>\n",
              "      <td>0</td>\n",
              "      <td>NaN</td>\n",
              "      <td>556861783</td>\n",
              "      <td>Wathmina</td>\n",
              "      <td>NaN</td>\n",
              "      <td>False</td>\n",
              "      <td>516</td>\n",
              "      <td>1387</td>\n",
              "      <td>[]</td>\n",
              "      <td>1</td>\n",
              "      <td>Colombo_Ladyy</td>\n",
              "      <td>Twitter for Android</td>\n",
              "      <td>False</td>\n",
              "      <td>5614</td>\n",
              "      <td>[]</td>\n",
              "      <td>[]</td>\n",
              "      <td>0</td>\n",
              "      <td>0.0</td>\n",
              "      <td>-0.3976</td>\n",
              "      <td>9999.0</td>\n",
              "      <td>3332.867467</td>\n",
              "    </tr>\n",
              "    <tr>\n",
              "      <th>292</th>\n",
              "      <td>292</td>\n",
              "      <td>502</td>\n",
              "      <td>502</td>\n",
              "      <td>[DRAW] \\n\\n📍 Thomas &amp;amp; Uber Cup (18 Agustus...</td>\n",
              "      <td>Wed Aug 11</td>\n",
              "      <td>08:58:23</td>\n",
              "      <td>8</td>\n",
              "      <td>Si</td>\n",
              "      <td>15</td>\n",
              "      <td>0</td>\n",
              "      <td>NaN</td>\n",
              "      <td>1376137421218217984</td>\n",
              "      <td>bingungnama</td>\n",
              "      <td>NaN</td>\n",
              "      <td>False</td>\n",
              "      <td>1</td>\n",
              "      <td>187</td>\n",
              "      <td>[]</td>\n",
              "      <td>1</td>\n",
              "      <td>No</td>\n",
              "      <td>Twitter for Android</td>\n",
              "      <td>False</td>\n",
              "      <td>985</td>\n",
              "      <td>[]</td>\n",
              "      <td>[]</td>\n",
              "      <td>0</td>\n",
              "      <td>0.0</td>\n",
              "      <td>0.0000</td>\n",
              "      <td>9999.0</td>\n",
              "      <td>3333.000000</td>\n",
              "    </tr>\n",
              "    <tr>\n",
              "      <th>...</th>\n",
              "      <td>...</td>\n",
              "      <td>...</td>\n",
              "      <td>...</td>\n",
              "      <td>...</td>\n",
              "      <td>...</td>\n",
              "      <td>...</td>\n",
              "      <td>...</td>\n",
              "      <td>...</td>\n",
              "      <td>...</td>\n",
              "      <td>...</td>\n",
              "      <td>...</td>\n",
              "      <td>...</td>\n",
              "      <td>...</td>\n",
              "      <td>...</td>\n",
              "      <td>...</td>\n",
              "      <td>...</td>\n",
              "      <td>...</td>\n",
              "      <td>...</td>\n",
              "      <td>...</td>\n",
              "      <td>...</td>\n",
              "      <td>...</td>\n",
              "      <td>...</td>\n",
              "      <td>...</td>\n",
              "      <td>...</td>\n",
              "      <td>...</td>\n",
              "      <td>...</td>\n",
              "      <td>...</td>\n",
              "      <td>...</td>\n",
              "      <td>...</td>\n",
              "      <td>...</td>\n",
              "    </tr>\n",
              "    <tr>\n",
              "      <th>7437</th>\n",
              "      <td>7437</td>\n",
              "      <td>18428</td>\n",
              "      <td>18428</td>\n",
              "      <td>Uber ta horrivel</td>\n",
              "      <td>Mon Aug 09</td>\n",
              "      <td>13:59:39</td>\n",
              "      <td>13</td>\n",
              "      <td>No</td>\n",
              "      <td>0</td>\n",
              "      <td>3</td>\n",
              "      <td>NaN</td>\n",
              "      <td>1111962760349433984</td>\n",
              "      <td>Bruninh88917151</td>\n",
              "      <td>Campo Grande, Brasil</td>\n",
              "      <td>False</td>\n",
              "      <td>188</td>\n",
              "      <td>251</td>\n",
              "      <td>[]</td>\n",
              "      <td>0</td>\n",
              "      <td>No</td>\n",
              "      <td>Twitter for Android</td>\n",
              "      <td>False</td>\n",
              "      <td>5271</td>\n",
              "      <td>[]</td>\n",
              "      <td>[]</td>\n",
              "      <td>0</td>\n",
              "      <td>0.0</td>\n",
              "      <td>0.0000</td>\n",
              "      <td>9999.0</td>\n",
              "      <td>3333.000000</td>\n",
              "    </tr>\n",
              "    <tr>\n",
              "      <th>7442</th>\n",
              "      <td>7442</td>\n",
              "      <td>18451</td>\n",
              "      <td>18451</td>\n",
              "      <td>@JennaEllisEsq Slow Uber day, jenny?</td>\n",
              "      <td>Mon Aug 09</td>\n",
              "      <td>13:58:42</td>\n",
              "      <td>13</td>\n",
              "      <td>No</td>\n",
              "      <td>0</td>\n",
              "      <td>0</td>\n",
              "      <td>NaN</td>\n",
              "      <td>427916103</td>\n",
              "      <td>BL33DZGR33N</td>\n",
              "      <td>Colorado</td>\n",
              "      <td>False</td>\n",
              "      <td>572</td>\n",
              "      <td>1668</td>\n",
              "      <td>[]</td>\n",
              "      <td>1</td>\n",
              "      <td>JennaEllisEsq</td>\n",
              "      <td>Twitter for Android</td>\n",
              "      <td>False</td>\n",
              "      <td>21539</td>\n",
              "      <td>[]</td>\n",
              "      <td>[]</td>\n",
              "      <td>0</td>\n",
              "      <td>-0.3</td>\n",
              "      <td>0.0000</td>\n",
              "      <td>9999.0</td>\n",
              "      <td>3332.900000</td>\n",
              "    </tr>\n",
              "    <tr>\n",
              "      <th>7535</th>\n",
              "      <td>7535</td>\n",
              "      <td>18721</td>\n",
              "      <td>18721</td>\n",
              "      <td>@FerroTV 👏👏👏 $UBER 🚀🚀</td>\n",
              "      <td>Mon Aug 09</td>\n",
              "      <td>13:49:06</td>\n",
              "      <td>13</td>\n",
              "      <td>No</td>\n",
              "      <td>0</td>\n",
              "      <td>0</td>\n",
              "      <td>NaN</td>\n",
              "      <td>28627177</td>\n",
              "      <td>theoldrepublic</td>\n",
              "      <td>Not financial advice. USA</td>\n",
              "      <td>False</td>\n",
              "      <td>243</td>\n",
              "      <td>1178</td>\n",
              "      <td>[]</td>\n",
              "      <td>1</td>\n",
              "      <td>FerroTV</td>\n",
              "      <td>Twitter Web App</td>\n",
              "      <td>False</td>\n",
              "      <td>12972</td>\n",
              "      <td>[]</td>\n",
              "      <td>[]</td>\n",
              "      <td>0</td>\n",
              "      <td>0.0</td>\n",
              "      <td>0.0000</td>\n",
              "      <td>9999.0</td>\n",
              "      <td>3333.000000</td>\n",
              "    </tr>\n",
              "    <tr>\n",
              "      <th>7583</th>\n",
              "      <td>7583</td>\n",
              "      <td>18879</td>\n",
              "      <td>18879</td>\n",
              "      <td>@Ty27AV Uber her home tf</td>\n",
              "      <td>Mon Aug 09</td>\n",
              "      <td>13:43:14</td>\n",
              "      <td>13</td>\n",
              "      <td>No</td>\n",
              "      <td>0</td>\n",
              "      <td>1</td>\n",
              "      <td>NaN</td>\n",
              "      <td>1413343110231470080</td>\n",
              "      <td>boirambino</td>\n",
              "      <td>NaN</td>\n",
              "      <td>False</td>\n",
              "      <td>19</td>\n",
              "      <td>96</td>\n",
              "      <td>[]</td>\n",
              "      <td>1</td>\n",
              "      <td>Ty27AV</td>\n",
              "      <td>Twitter for iPhone</td>\n",
              "      <td>False</td>\n",
              "      <td>25</td>\n",
              "      <td>[]</td>\n",
              "      <td>[]</td>\n",
              "      <td>0</td>\n",
              "      <td>0.0</td>\n",
              "      <td>0.0000</td>\n",
              "      <td>9999.0</td>\n",
              "      <td>3333.000000</td>\n",
              "    </tr>\n",
              "    <tr>\n",
              "      <th>7633</th>\n",
              "      <td>7633</td>\n",
              "      <td>19047</td>\n",
              "      <td>19047</td>\n",
              "      <td>Below200DaysMa\\n$UAVS $4.01 0.00% 0.00% -13.20...</td>\n",
              "      <td>Mon Aug 09</td>\n",
              "      <td>13:37:07</td>\n",
              "      <td>13</td>\n",
              "      <td>No</td>\n",
              "      <td>0</td>\n",
              "      <td>0</td>\n",
              "      <td>NaN</td>\n",
              "      <td>1259215707817955072</td>\n",
              "      <td>cho_wilfred</td>\n",
              "      <td>United States</td>\n",
              "      <td>False</td>\n",
              "      <td>93</td>\n",
              "      <td>1</td>\n",
              "      <td>[]</td>\n",
              "      <td>0</td>\n",
              "      <td>No</td>\n",
              "      <td>Stocks-Wilfred</td>\n",
              "      <td>False</td>\n",
              "      <td>37789</td>\n",
              "      <td>[]</td>\n",
              "      <td>[]</td>\n",
              "      <td>0</td>\n",
              "      <td>0.0</td>\n",
              "      <td>0.0000</td>\n",
              "      <td>9999.0</td>\n",
              "      <td>3333.000000</td>\n",
              "    </tr>\n",
              "  </tbody>\n",
              "</table>\n",
              "<p>118 rows × 30 columns</p>\n",
              "</div>"
            ],
            "text/plain": [
              "      Unnamed: 0  Unnamed: 0.1  ...  possitivity_ibm sentiment_mean\n",
              "190          190           296  ...           9999.0    3333.066667\n",
              "208          208           329  ...           9999.0    3333.000000\n",
              "228          228           382  ...           9999.0    3332.996667\n",
              "284          284           485  ...           9999.0    3332.867467\n",
              "292          292           502  ...           9999.0    3333.000000\n",
              "...          ...           ...  ...              ...            ...\n",
              "7437        7437         18428  ...           9999.0    3333.000000\n",
              "7442        7442         18451  ...           9999.0    3332.900000\n",
              "7535        7535         18721  ...           9999.0    3333.000000\n",
              "7583        7583         18879  ...           9999.0    3333.000000\n",
              "7633        7633         19047  ...           9999.0    3333.000000\n",
              "\n",
              "[118 rows x 30 columns]"
            ]
          },
          "metadata": {},
          "execution_count": 224
        }
      ]
    },
    {
      "cell_type": "code",
      "metadata": {
        "id": "gxIycTKFk-4x"
      },
      "source": [
        "df = df.drop(df.loc[df['possitivity_ibm'] > 1].index)"
      ],
      "execution_count": null,
      "outputs": []
    },
    {
      "cell_type": "code",
      "metadata": {
        "colab": {
          "base_uri": "https://localhost:8080/"
        },
        "id": "CJbBeWtElZXP",
        "outputId": "776a4aaf-30af-4849-aab7-8d3ada9a2138"
      },
      "source": [
        "# Comprobamos el nuevo df y las medidas del mismo\n",
        "df.shape"
      ],
      "execution_count": null,
      "outputs": [
        {
          "output_type": "execute_result",
          "data": {
            "text/plain": [
              "(7809, 30)"
            ]
          },
          "metadata": {},
          "execution_count": 226
        }
      ]
    },
    {
      "cell_type": "markdown",
      "metadata": {
        "id": "2UdyvVy0gkEQ"
      },
      "source": [
        "### Definición de la variable objetivo\n",
        "\n",
        "Actualmente ya tenemos definida la variable objetivo.\n",
        "\n",
        "'sentiment_media' es una variable que especifica el grado de positividad de cada tweet en una escala de -1 a 1 pero, para que sea más claro, estandarizaremos la variable a la escala de 0 a 1. De esta forma podemos definir el grado de positividad como un porcentaje, es decir, el tweet es un X% positivo.\n",
        "\n",
        "Como nos interesa que la variable objetivo sea categórica, dividiremos en 5 categorias la estandarización anterior, de forma que el tweet se considere:\n",
        "- Muy negativo: 0 - 0.2\n",
        "- Negativo: 0.2 - 0.4\n",
        "- Neutro: 0.4 - 0.6\n",
        "- Positivo: 0.6 - 0.8\n",
        "- Muy positivo: 0.8 - 1\n",
        "\n",
        "Tomando como intervalo cerrado el mayor valor de cada rango, salvo en la primera categoría, que también se incluirá el 0."
      ]
    },
    {
      "cell_type": "code",
      "metadata": {
        "id": "rMbSFB1ugcW1"
      },
      "source": [
        "# Creamos la escala \n",
        "\n",
        "min = -1\n",
        "max = 1\n",
        "def scaler(numero):\n",
        "  result = (numero - min) / (max - min)\n",
        "  return result"
      ],
      "execution_count": null,
      "outputs": []
    },
    {
      "cell_type": "code",
      "metadata": {
        "colab": {
          "base_uri": "https://localhost:8080/",
          "height": 423
        },
        "id": "5k4HRnhCgpbA",
        "outputId": "8ca79d11-af85-40fa-a74d-07d7aad109c1"
      },
      "source": [
        "# Normalizamos la variable 'sentiment_media'\n",
        "\n",
        "df['sentiment_norm'] = df['sentiment_mean'].apply(lambda x: scaler(x))\n",
        "df[[\"text\",'sentiment_norm',\"sentiment_mean\", \"possitivity_textblob\", \"possitivity_vader\", 'possitivity_ibm']]"
      ],
      "execution_count": null,
      "outputs": [
        {
          "output_type": "execute_result",
          "data": {
            "text/html": [
              "<div>\n",
              "<style scoped>\n",
              "    .dataframe tbody tr th:only-of-type {\n",
              "        vertical-align: middle;\n",
              "    }\n",
              "\n",
              "    .dataframe tbody tr th {\n",
              "        vertical-align: top;\n",
              "    }\n",
              "\n",
              "    .dataframe thead th {\n",
              "        text-align: right;\n",
              "    }\n",
              "</style>\n",
              "<table border=\"1\" class=\"dataframe\">\n",
              "  <thead>\n",
              "    <tr style=\"text-align: right;\">\n",
              "      <th></th>\n",
              "      <th>text</th>\n",
              "      <th>sentiment_norm</th>\n",
              "      <th>sentiment_mean</th>\n",
              "      <th>possitivity_textblob</th>\n",
              "      <th>possitivity_vader</th>\n",
              "      <th>possitivity_ibm</th>\n",
              "    </tr>\n",
              "  </thead>\n",
              "  <tbody>\n",
              "    <tr>\n",
              "      <th>0</th>\n",
              "      <td>@Uber_Support hi guys why all my trips this we...</td>\n",
              "      <td>0.347934</td>\n",
              "      <td>-0.304133</td>\n",
              "      <td>0.000000</td>\n",
              "      <td>0.0000</td>\n",
              "      <td>-0.912398</td>\n",
              "    </tr>\n",
              "    <tr>\n",
              "      <th>1</th>\n",
              "      <td>So are we getting Uber eats league 1 or not @S...</td>\n",
              "      <td>0.500000</td>\n",
              "      <td>0.000000</td>\n",
              "      <td>0.000000</td>\n",
              "      <td>0.0000</td>\n",
              "      <td>0.000000</td>\n",
              "    </tr>\n",
              "    <tr>\n",
              "      <th>2</th>\n",
              "      <td>@footballdaily 2-3 years of Messi, a bit of ca...</td>\n",
              "      <td>0.407518</td>\n",
              "      <td>-0.184964</td>\n",
              "      <td>-0.333333</td>\n",
              "      <td>0.5859</td>\n",
              "      <td>-0.807459</td>\n",
              "    </tr>\n",
              "    <tr>\n",
              "      <th>3</th>\n",
              "      <td>@Prashan32439454 @Uber_Support @rameshjoshi80 ...</td>\n",
              "      <td>0.798997</td>\n",
              "      <td>0.597995</td>\n",
              "      <td>0.455000</td>\n",
              "      <td>0.4754</td>\n",
              "      <td>0.863584</td>\n",
              "    </tr>\n",
              "    <tr>\n",
              "      <th>4</th>\n",
              "      <td>Uber's Gopuff partnership, Drizly deal being p...</td>\n",
              "      <td>0.368604</td>\n",
              "      <td>-0.262792</td>\n",
              "      <td>0.000000</td>\n",
              "      <td>0.0000</td>\n",
              "      <td>-0.788377</td>\n",
              "    </tr>\n",
              "    <tr>\n",
              "      <th>...</th>\n",
              "      <td>...</td>\n",
              "      <td>...</td>\n",
              "      <td>...</td>\n",
              "      <td>...</td>\n",
              "      <td>...</td>\n",
              "      <td>...</td>\n",
              "    </tr>\n",
              "    <tr>\n",
              "      <th>7922</th>\n",
              "      <td>Over 3,800 rides in over 3.5 years one blown t...</td>\n",
              "      <td>0.429748</td>\n",
              "      <td>-0.140505</td>\n",
              "      <td>0.000000</td>\n",
              "      <td>0.4898</td>\n",
              "      <td>-0.911314</td>\n",
              "    </tr>\n",
              "    <tr>\n",
              "      <th>7923</th>\n",
              "      <td>@CoolABADev obviously i will want Messi to suc...</td>\n",
              "      <td>0.386865</td>\n",
              "      <td>-0.226269</td>\n",
              "      <td>0.114286</td>\n",
              "      <td>-0.0333</td>\n",
              "      <td>-0.759793</td>\n",
              "    </tr>\n",
              "    <tr>\n",
              "      <th>7924</th>\n",
              "      <td>@catekitchen Shit, that’s absolutely a crap si...</td>\n",
              "      <td>0.175553</td>\n",
              "      <td>-0.648893</td>\n",
              "      <td>-0.250000</td>\n",
              "      <td>-0.7086</td>\n",
              "      <td>-0.988080</td>\n",
              "    </tr>\n",
              "    <tr>\n",
              "      <th>7925</th>\n",
              "      <td>Simply don’t take a Uber then dumb ass https:/...</td>\n",
              "      <td>0.171943</td>\n",
              "      <td>-0.656114</td>\n",
              "      <td>-0.187500</td>\n",
              "      <td>-0.8096</td>\n",
              "      <td>-0.971243</td>\n",
              "    </tr>\n",
              "    <tr>\n",
              "      <th>7926</th>\n",
              "      <td>Uber, Lyft prices keep climbing to new highs, ...</td>\n",
              "      <td>0.522727</td>\n",
              "      <td>0.045455</td>\n",
              "      <td>0.136364</td>\n",
              "      <td>0.0000</td>\n",
              "      <td>0.000000</td>\n",
              "    </tr>\n",
              "  </tbody>\n",
              "</table>\n",
              "<p>7809 rows × 6 columns</p>\n",
              "</div>"
            ],
            "text/plain": [
              "                                                   text  ...  possitivity_ibm\n",
              "0     @Uber_Support hi guys why all my trips this we...  ...        -0.912398\n",
              "1     So are we getting Uber eats league 1 or not @S...  ...         0.000000\n",
              "2     @footballdaily 2-3 years of Messi, a bit of ca...  ...        -0.807459\n",
              "3     @Prashan32439454 @Uber_Support @rameshjoshi80 ...  ...         0.863584\n",
              "4     Uber's Gopuff partnership, Drizly deal being p...  ...        -0.788377\n",
              "...                                                 ...  ...              ...\n",
              "7922  Over 3,800 rides in over 3.5 years one blown t...  ...        -0.911314\n",
              "7923  @CoolABADev obviously i will want Messi to suc...  ...        -0.759793\n",
              "7924  @catekitchen Shit, that’s absolutely a crap si...  ...        -0.988080\n",
              "7925  Simply don’t take a Uber then dumb ass https:/...  ...        -0.971243\n",
              "7926  Uber, Lyft prices keep climbing to new highs, ...  ...         0.000000\n",
              "\n",
              "[7809 rows x 6 columns]"
            ]
          },
          "metadata": {},
          "execution_count": 228
        }
      ]
    },
    {
      "cell_type": "code",
      "metadata": {
        "id": "h-gmEnadgunw"
      },
      "source": [
        "# Definimos bins \n",
        "# Primer valor de los rangos -> 0\n",
        "# Valor final de cada rango -> 0.2, 0.4, 0.6, 0.8 y 1\n",
        "bins = [0, .2, .4, .6, .8, 1.]\n",
        "\n",
        "# Definimos los nombres para cada categoría\n",
        "names = [\"Muy negativo\", \"Negativo\", \"Neutro\", \"Positivo\", \"Muy positivo\"]\n",
        "\n",
        "# Creamos la variable objetivo categórica\n",
        "df['sentiment'] = pd.cut(df['sentiment_norm'], bins, labels = names)"
      ],
      "execution_count": null,
      "outputs": []
    },
    {
      "cell_type": "code",
      "metadata": {
        "colab": {
          "base_uri": "https://localhost:8080/",
          "height": 475
        },
        "id": "VQoRRw4bgzTL",
        "outputId": "742dbd07-df3d-43e3-e740-288d9a1a8d75"
      },
      "source": [
        "# Mostramos los sentimientos obtenidos\n",
        "df[[\"text\",'sentiment','sentiment_norm',\"sentiment_mean\", \"possitivity_textblob\", \"possitivity_vader\", 'possitivity_ibm']]"
      ],
      "execution_count": null,
      "outputs": [
        {
          "output_type": "execute_result",
          "data": {
            "text/html": [
              "<div>\n",
              "<style scoped>\n",
              "    .dataframe tbody tr th:only-of-type {\n",
              "        vertical-align: middle;\n",
              "    }\n",
              "\n",
              "    .dataframe tbody tr th {\n",
              "        vertical-align: top;\n",
              "    }\n",
              "\n",
              "    .dataframe thead th {\n",
              "        text-align: right;\n",
              "    }\n",
              "</style>\n",
              "<table border=\"1\" class=\"dataframe\">\n",
              "  <thead>\n",
              "    <tr style=\"text-align: right;\">\n",
              "      <th></th>\n",
              "      <th>text</th>\n",
              "      <th>sentiment</th>\n",
              "      <th>sentiment_norm</th>\n",
              "      <th>sentiment_mean</th>\n",
              "      <th>possitivity_textblob</th>\n",
              "      <th>possitivity_vader</th>\n",
              "      <th>possitivity_ibm</th>\n",
              "    </tr>\n",
              "  </thead>\n",
              "  <tbody>\n",
              "    <tr>\n",
              "      <th>0</th>\n",
              "      <td>@Uber_Support hi guys why all my trips this we...</td>\n",
              "      <td>Negativo</td>\n",
              "      <td>0.347934</td>\n",
              "      <td>-0.304133</td>\n",
              "      <td>0.000000</td>\n",
              "      <td>0.0000</td>\n",
              "      <td>-0.912398</td>\n",
              "    </tr>\n",
              "    <tr>\n",
              "      <th>1</th>\n",
              "      <td>So are we getting Uber eats league 1 or not @S...</td>\n",
              "      <td>Neutro</td>\n",
              "      <td>0.500000</td>\n",
              "      <td>0.000000</td>\n",
              "      <td>0.000000</td>\n",
              "      <td>0.0000</td>\n",
              "      <td>0.000000</td>\n",
              "    </tr>\n",
              "    <tr>\n",
              "      <th>2</th>\n",
              "      <td>@footballdaily 2-3 years of Messi, a bit of ca...</td>\n",
              "      <td>Neutro</td>\n",
              "      <td>0.407518</td>\n",
              "      <td>-0.184964</td>\n",
              "      <td>-0.333333</td>\n",
              "      <td>0.5859</td>\n",
              "      <td>-0.807459</td>\n",
              "    </tr>\n",
              "    <tr>\n",
              "      <th>3</th>\n",
              "      <td>@Prashan32439454 @Uber_Support @rameshjoshi80 ...</td>\n",
              "      <td>Positivo</td>\n",
              "      <td>0.798997</td>\n",
              "      <td>0.597995</td>\n",
              "      <td>0.455000</td>\n",
              "      <td>0.4754</td>\n",
              "      <td>0.863584</td>\n",
              "    </tr>\n",
              "    <tr>\n",
              "      <th>4</th>\n",
              "      <td>Uber's Gopuff partnership, Drizly deal being p...</td>\n",
              "      <td>Negativo</td>\n",
              "      <td>0.368604</td>\n",
              "      <td>-0.262792</td>\n",
              "      <td>0.000000</td>\n",
              "      <td>0.0000</td>\n",
              "      <td>-0.788377</td>\n",
              "    </tr>\n",
              "    <tr>\n",
              "      <th>...</th>\n",
              "      <td>...</td>\n",
              "      <td>...</td>\n",
              "      <td>...</td>\n",
              "      <td>...</td>\n",
              "      <td>...</td>\n",
              "      <td>...</td>\n",
              "      <td>...</td>\n",
              "    </tr>\n",
              "    <tr>\n",
              "      <th>7922</th>\n",
              "      <td>Over 3,800 rides in over 3.5 years one blown t...</td>\n",
              "      <td>Neutro</td>\n",
              "      <td>0.429748</td>\n",
              "      <td>-0.140505</td>\n",
              "      <td>0.000000</td>\n",
              "      <td>0.4898</td>\n",
              "      <td>-0.911314</td>\n",
              "    </tr>\n",
              "    <tr>\n",
              "      <th>7923</th>\n",
              "      <td>@CoolABADev obviously i will want Messi to suc...</td>\n",
              "      <td>Negativo</td>\n",
              "      <td>0.386865</td>\n",
              "      <td>-0.226269</td>\n",
              "      <td>0.114286</td>\n",
              "      <td>-0.0333</td>\n",
              "      <td>-0.759793</td>\n",
              "    </tr>\n",
              "    <tr>\n",
              "      <th>7924</th>\n",
              "      <td>@catekitchen Shit, that’s absolutely a crap si...</td>\n",
              "      <td>Muy negativo</td>\n",
              "      <td>0.175553</td>\n",
              "      <td>-0.648893</td>\n",
              "      <td>-0.250000</td>\n",
              "      <td>-0.7086</td>\n",
              "      <td>-0.988080</td>\n",
              "    </tr>\n",
              "    <tr>\n",
              "      <th>7925</th>\n",
              "      <td>Simply don’t take a Uber then dumb ass https:/...</td>\n",
              "      <td>Muy negativo</td>\n",
              "      <td>0.171943</td>\n",
              "      <td>-0.656114</td>\n",
              "      <td>-0.187500</td>\n",
              "      <td>-0.8096</td>\n",
              "      <td>-0.971243</td>\n",
              "    </tr>\n",
              "    <tr>\n",
              "      <th>7926</th>\n",
              "      <td>Uber, Lyft prices keep climbing to new highs, ...</td>\n",
              "      <td>Neutro</td>\n",
              "      <td>0.522727</td>\n",
              "      <td>0.045455</td>\n",
              "      <td>0.136364</td>\n",
              "      <td>0.0000</td>\n",
              "      <td>0.000000</td>\n",
              "    </tr>\n",
              "  </tbody>\n",
              "</table>\n",
              "<p>7809 rows × 7 columns</p>\n",
              "</div>"
            ],
            "text/plain": [
              "                                                   text  ... possitivity_ibm\n",
              "0     @Uber_Support hi guys why all my trips this we...  ...       -0.912398\n",
              "1     So are we getting Uber eats league 1 or not @S...  ...        0.000000\n",
              "2     @footballdaily 2-3 years of Messi, a bit of ca...  ...       -0.807459\n",
              "3     @Prashan32439454 @Uber_Support @rameshjoshi80 ...  ...        0.863584\n",
              "4     Uber's Gopuff partnership, Drizly deal being p...  ...       -0.788377\n",
              "...                                                 ...  ...             ...\n",
              "7922  Over 3,800 rides in over 3.5 years one blown t...  ...       -0.911314\n",
              "7923  @CoolABADev obviously i will want Messi to suc...  ...       -0.759793\n",
              "7924  @catekitchen Shit, that’s absolutely a crap si...  ...       -0.988080\n",
              "7925  Simply don’t take a Uber then dumb ass https:/...  ...       -0.971243\n",
              "7926  Uber, Lyft prices keep climbing to new highs, ...  ...        0.000000\n",
              "\n",
              "[7809 rows x 7 columns]"
            ]
          },
          "metadata": {},
          "execution_count": 230
        }
      ]
    },
    {
      "cell_type": "code",
      "metadata": {
        "colab": {
          "base_uri": "https://localhost:8080/",
          "height": 335
        },
        "id": "BlFF2owFg1UT",
        "outputId": "7482b508-9576-444b-f7d1-405fb74428d9"
      },
      "source": [
        "import seaborn as sns\n",
        "import matplotlib.pyplot as plt\n",
        "\n",
        "# Representamos con seaborn la variable objetivo para ver las diferentes categorias\n",
        "numerica = sns.distplot(df['sentiment_norm'], color = 'orange')"
      ],
      "execution_count": null,
      "outputs": [
        {
          "output_type": "stream",
          "text": [
            "/usr/local/lib/python3.7/dist-packages/seaborn/distributions.py:2557: FutureWarning: `distplot` is a deprecated function and will be removed in a future version. Please adapt your code to use either `displot` (a figure-level function with similar flexibility) or `histplot` (an axes-level function for histograms).\n",
            "  warnings.warn(msg, FutureWarning)\n"
          ],
          "name": "stderr"
        },
        {
          "output_type": "display_data",
          "data": {
            "image/png": "[encoded data removed]",
            "text/plain": [
              "<Figure size 432x288 with 1 Axes>"
            ]
          },
          "metadata": {
            "needs_background": "light"
          }
        }
      ]
    },
    {
      "cell_type": "code",
      "metadata": {
        "colab": {
          "base_uri": "https://localhost:8080/"
        },
        "id": "VjM73sMHxipI",
        "outputId": "20ec8534-367b-43f0-e840-5345127e316c"
      },
      "source": [
        "# Comprobamos el número de filas que tienen los 3 sentimientos = 0\n",
        "df.loc[(df['possitivity_textblob']==0.)&(df['possitivity_vader']==0.)&(df['possitivity_ibm']==0.)].shape"
      ],
      "execution_count": null,
      "outputs": [
        {
          "output_type": "execute_result",
          "data": {
            "text/plain": [
              "(633, 32)"
            ]
          },
          "metadata": {},
          "execution_count": 232
        }
      ]
    },
    {
      "cell_type": "code",
      "metadata": {
        "colab": {
          "base_uri": "https://localhost:8080/"
        },
        "id": "Q392UoEJyV99",
        "outputId": "93cf03c3-693c-4321-f58c-94515ec7b437"
      },
      "source": [
        "# Comprobamos el número de filas que tienen media sentiment = 0\n",
        "df.loc[(df['sentiment_mean']==0.)].shape"
      ],
      "execution_count": null,
      "outputs": [
        {
          "output_type": "execute_result",
          "data": {
            "text/plain": [
              "(633, 32)"
            ]
          },
          "metadata": {},
          "execution_count": 233
        }
      ]
    },
    {
      "cell_type": "code",
      "metadata": {
        "colab": {
          "base_uri": "https://localhost:8080/",
          "height": 279
        },
        "id": "3Lgg0kx3pWeR",
        "outputId": "7bad8a72-6f36-4d59-d34e-047bb2ef06c7"
      },
      "source": [
        "categorica = sns.countplot(x='sentiment', data=df, palette = 'pastel')"
      ],
      "execution_count": null,
      "outputs": [
        {
          "output_type": "display_data",
          "data": {
            "image/png": "[encoded data removed]",
            "text/plain": [
              "<Figure size 432x288 with 1 Axes>"
            ]
          },
          "metadata": {
            "needs_background": "light"
          }
        }
      ]
    },
    {
      "cell_type": "code",
      "metadata": {
        "colab": {
          "base_uri": "https://localhost:8080/"
        },
        "id": "xUC6APNf1KQO",
        "outputId": "c57a4dd9-f7e6-4e7d-b0f2-3402e007462e"
      },
      "source": [
        "df['sentiment'].value_counts()"
      ],
      "execution_count": null,
      "outputs": [
        {
          "output_type": "execute_result",
          "data": {
            "text/plain": [
              "Neutro          3018\n",
              "Negativo        2458\n",
              "Positivo        1433\n",
              "Muy negativo     505\n",
              "Muy positivo     395\n",
              "Name: sentiment, dtype: int64"
            ]
          },
          "metadata": {},
          "execution_count": 235
        }
      ]
    },
    {
      "cell_type": "markdown",
      "metadata": {
        "id": "05VFtsAfmPE0"
      },
      "source": [
        "### B. PRIMEROS MODELOS"
      ]
    },
    {
      "cell_type": "code",
      "metadata": {
        "id": "YWt99ltGg5Zs",
        "colab": {
          "base_uri": "https://localhost:8080/"
        },
        "outputId": "2bb4ab40-9350-4211-d7d2-994200372517"
      },
      "source": [
        "df.keys()"
      ],
      "execution_count": null,
      "outputs": [
        {
          "output_type": "execute_result",
          "data": {
            "text/plain": [
              "Index(['Unnamed: 0', 'Unnamed: 0.1', 'Unnamed: 0.1.1', 'text', 'created_at',\n",
              "       'created_at_time', 'created_at_hour', 'retweeted', 'retweet_count',\n",
              "       'favorite_count', 'user_ verified', 'user_id', 'user_name',\n",
              "       'user_location', 'user_notificacion', 'user_followers', 'user_friends',\n",
              "       'user_withheld_in_countries', 'mentions_in_tweet', 'is_reply',\n",
              "       'source_device', 'finished_tweet', 'status_count', 'hashtags_text',\n",
              "       'hastags_indices', 'hastags_in_tweet', 'possitivity_textblob',\n",
              "       'possitivity_vader', 'possitivity_ibm', 'sentiment_mean',\n",
              "       'sentiment_norm', 'sentiment'],\n",
              "      dtype='object')"
            ]
          },
          "metadata": {},
          "execution_count": 236
        }
      ]
    },
    {
      "cell_type": "code",
      "metadata": {
        "id": "xBsr9cVo1Ejk"
      },
      "source": [
        "# Defino las variables dependientes que eliminaremos del df\n",
        "vars = ['Unnamed: 0', 'Unnamed: 0.1', 'Unnamed: 0.1.1', 'text', \n",
        "        'created_at_time', 'hashtags_text', 'hastags_indices',\n",
        "        'possitivity_textblob', 'possitivity_vader', 'possitivity_ibm', \n",
        "        'sentiment_mean', 'sentiment_norm']\n",
        "df_limpio = df.drop(vars,axis=1)"
      ],
      "execution_count": null,
      "outputs": []
    },
    {
      "cell_type": "code",
      "metadata": {
        "colab": {
          "base_uri": "https://localhost:8080/"
        },
        "id": "Yff-0Qpu3nDr",
        "outputId": "1ab51f3a-6847-4e31-ccec-6e10324a135d"
      },
      "source": [
        "df_limpio.shape"
      ],
      "execution_count": null,
      "outputs": [
        {
          "output_type": "execute_result",
          "data": {
            "text/plain": [
              "(7809, 20)"
            ]
          },
          "metadata": {},
          "execution_count": 238
        }
      ]
    },
    {
      "cell_type": "code",
      "metadata": {
        "colab": {
          "base_uri": "https://localhost:8080/"
        },
        "id": "HDKMax89_Ksd",
        "outputId": "96a7cebf-bc7d-467b-c8f4-eebc29886fb1"
      },
      "source": [
        "df_limpio.dtypes"
      ],
      "execution_count": null,
      "outputs": [
        {
          "output_type": "execute_result",
          "data": {
            "text/plain": [
              "created_at                      object\n",
              "created_at_hour                  int64\n",
              "retweeted                       object\n",
              "retweet_count                    int64\n",
              "favorite_count                   int64\n",
              "user_ verified                 float64\n",
              "user_id                          int64\n",
              "user_name                       object\n",
              "user_location                   object\n",
              "user_notificacion                 bool\n",
              "user_followers                   int64\n",
              "user_friends                     int64\n",
              "user_withheld_in_countries      object\n",
              "mentions_in_tweet                int64\n",
              "is_reply                        object\n",
              "source_device                   object\n",
              "finished_tweet                    bool\n",
              "status_count                     int64\n",
              "hastags_in_tweet                 int64\n",
              "sentiment                     category\n",
              "dtype: object"
            ]
          },
          "metadata": {},
          "execution_count": 239
        }
      ]
    },
    {
      "cell_type": "code",
      "metadata": {
        "colab": {
          "base_uri": "https://localhost:8080/",
          "height": 423
        },
        "id": "wnqmGMKK_nxE",
        "outputId": "608cad99-62d0-40ac-c1d9-8dcb29eeacc3"
      },
      "source": [
        "# Cojo las columnas que son object\n",
        "cols = df_limpio[df_limpio.select_dtypes(['object']).columns] \n",
        "cols"
      ],
      "execution_count": null,
      "outputs": [
        {
          "output_type": "execute_result",
          "data": {
            "text/html": [
              "<div>\n",
              "<style scoped>\n",
              "    .dataframe tbody tr th:only-of-type {\n",
              "        vertical-align: middle;\n",
              "    }\n",
              "\n",
              "    .dataframe tbody tr th {\n",
              "        vertical-align: top;\n",
              "    }\n",
              "\n",
              "    .dataframe thead th {\n",
              "        text-align: right;\n",
              "    }\n",
              "</style>\n",
              "<table border=\"1\" class=\"dataframe\">\n",
              "  <thead>\n",
              "    <tr style=\"text-align: right;\">\n",
              "      <th></th>\n",
              "      <th>created_at</th>\n",
              "      <th>retweeted</th>\n",
              "      <th>user_name</th>\n",
              "      <th>user_location</th>\n",
              "      <th>user_withheld_in_countries</th>\n",
              "      <th>is_reply</th>\n",
              "      <th>source_device</th>\n",
              "    </tr>\n",
              "  </thead>\n",
              "  <tbody>\n",
              "    <tr>\n",
              "      <th>0</th>\n",
              "      <td>Wed Aug 11</td>\n",
              "      <td>Si</td>\n",
              "      <td>ShieldVoC</td>\n",
              "      <td>Stockholm, Sweden</td>\n",
              "      <td>[]</td>\n",
              "      <td>No</td>\n",
              "      <td>test-shield-bot</td>\n",
              "    </tr>\n",
              "    <tr>\n",
              "      <th>1</th>\n",
              "      <td>Wed Aug 11</td>\n",
              "      <td>No</td>\n",
              "      <td>__Soini</td>\n",
              "      <td>Namibia, Okaanga village</td>\n",
              "      <td>[]</td>\n",
              "      <td>No</td>\n",
              "      <td>Twitter Web App</td>\n",
              "    </tr>\n",
              "    <tr>\n",
              "      <th>2</th>\n",
              "      <td>Wed Aug 11</td>\n",
              "      <td>No</td>\n",
              "      <td>ASHJY97</td>\n",
              "      <td>Leeds, England</td>\n",
              "      <td>[]</td>\n",
              "      <td>footballdaily</td>\n",
              "      <td>Twitter for iPhone</td>\n",
              "    </tr>\n",
              "    <tr>\n",
              "      <th>3</th>\n",
              "      <td>Wed Aug 11</td>\n",
              "      <td>No</td>\n",
              "      <td>GurmeetSinghSh6</td>\n",
              "      <td>NaN</td>\n",
              "      <td>[]</td>\n",
              "      <td>Prashan32439454</td>\n",
              "      <td>Twitter for Android</td>\n",
              "    </tr>\n",
              "    <tr>\n",
              "      <th>4</th>\n",
              "      <td>Wed Aug 11</td>\n",
              "      <td>No</td>\n",
              "      <td>sbwcws</td>\n",
              "      <td>NaN</td>\n",
              "      <td>[]</td>\n",
              "      <td>No</td>\n",
              "      <td>News Bot Algo</td>\n",
              "    </tr>\n",
              "    <tr>\n",
              "      <th>...</th>\n",
              "      <td>...</td>\n",
              "      <td>...</td>\n",
              "      <td>...</td>\n",
              "      <td>...</td>\n",
              "      <td>...</td>\n",
              "      <td>...</td>\n",
              "      <td>...</td>\n",
              "    </tr>\n",
              "    <tr>\n",
              "      <th>7922</th>\n",
              "      <td>Mon Aug 09</td>\n",
              "      <td>No</td>\n",
              "      <td>JohnScarpitta1</td>\n",
              "      <td>NaN</td>\n",
              "      <td>[]</td>\n",
              "      <td>JohnScarpitta1</td>\n",
              "      <td>Twitter for iPhone</td>\n",
              "    </tr>\n",
              "    <tr>\n",
              "      <th>7923</th>\n",
              "      <td>Mon Aug 09</td>\n",
              "      <td>No</td>\n",
              "      <td>pessi_lover</td>\n",
              "      <td>NaN</td>\n",
              "      <td>[]</td>\n",
              "      <td>CoolABADev</td>\n",
              "      <td>Twitter for iPhone</td>\n",
              "    </tr>\n",
              "    <tr>\n",
              "      <th>7924</th>\n",
              "      <td>Mon Aug 09</td>\n",
              "      <td>No</td>\n",
              "      <td>pjshaw192</td>\n",
              "      <td>NaN</td>\n",
              "      <td>[]</td>\n",
              "      <td>catekitchen</td>\n",
              "      <td>Twitter for iPad</td>\n",
              "    </tr>\n",
              "    <tr>\n",
              "      <th>7925</th>\n",
              "      <td>Mon Aug 09</td>\n",
              "      <td>No</td>\n",
              "      <td>CamChapoComedy</td>\n",
              "      <td>NaN</td>\n",
              "      <td>[]</td>\n",
              "      <td>No</td>\n",
              "      <td>Twitter for iPhone</td>\n",
              "    </tr>\n",
              "    <tr>\n",
              "      <th>7926</th>\n",
              "      <td>Mon Aug 09</td>\n",
              "      <td>No</td>\n",
              "      <td>uberlyftdrivers</td>\n",
              "      <td>Colorado, USA</td>\n",
              "      <td>[]</td>\n",
              "      <td>No</td>\n",
              "      <td>WordPress.com</td>\n",
              "    </tr>\n",
              "  </tbody>\n",
              "</table>\n",
              "<p>7809 rows × 7 columns</p>\n",
              "</div>"
            ],
            "text/plain": [
              "      created_at retweeted  ...         is_reply        source_device\n",
              "0     Wed Aug 11        Si  ...               No      test-shield-bot\n",
              "1     Wed Aug 11        No  ...               No      Twitter Web App\n",
              "2     Wed Aug 11        No  ...    footballdaily   Twitter for iPhone\n",
              "3     Wed Aug 11        No  ...  Prashan32439454  Twitter for Android\n",
              "4     Wed Aug 11        No  ...               No        News Bot Algo\n",
              "...          ...       ...  ...              ...                  ...\n",
              "7922  Mon Aug 09        No  ...   JohnScarpitta1   Twitter for iPhone\n",
              "7923  Mon Aug 09        No  ...       CoolABADev   Twitter for iPhone\n",
              "7924  Mon Aug 09        No  ...      catekitchen     Twitter for iPad\n",
              "7925  Mon Aug 09        No  ...               No   Twitter for iPhone\n",
              "7926  Mon Aug 09        No  ...               No        WordPress.com\n",
              "\n",
              "[7809 rows x 7 columns]"
            ]
          },
          "metadata": {},
          "execution_count": 240
        }
      ]
    },
    {
      "cell_type": "code",
      "metadata": {
        "id": "O5ef9isOBt5H"
      },
      "source": [
        "# Cambio el tipo a categoría\n",
        "df_limpio[cols.keys()] = df_limpio.select_dtypes(['object']).apply(lambda x: x.astype('category'))"
      ],
      "execution_count": null,
      "outputs": []
    },
    {
      "cell_type": "code",
      "metadata": {
        "colab": {
          "base_uri": "https://localhost:8080/"
        },
        "id": "z4q_iUMDACU2",
        "outputId": "a1945281-812d-4ed9-9035-2f0ade1b07b6"
      },
      "source": [
        "df_limpio.dtypes"
      ],
      "execution_count": null,
      "outputs": [
        {
          "output_type": "execute_result",
          "data": {
            "text/plain": [
              "created_at                    category\n",
              "created_at_hour                  int64\n",
              "retweeted                     category\n",
              "retweet_count                    int64\n",
              "favorite_count                   int64\n",
              "user_ verified                 float64\n",
              "user_id                          int64\n",
              "user_name                     category\n",
              "user_location                 category\n",
              "user_notificacion                 bool\n",
              "user_followers                   int64\n",
              "user_friends                     int64\n",
              "user_withheld_in_countries    category\n",
              "mentions_in_tweet                int64\n",
              "is_reply                      category\n",
              "source_device                 category\n",
              "finished_tweet                    bool\n",
              "status_count                     int64\n",
              "hastags_in_tweet                 int64\n",
              "sentiment                     category\n",
              "dtype: object"
            ]
          },
          "metadata": {},
          "execution_count": 242
        }
      ]
    },
    {
      "cell_type": "code",
      "metadata": {
        "colab": {
          "base_uri": "https://localhost:8080/"
        },
        "id": "ZD8CgIUH3ov7",
        "outputId": "e6da2d17-8ac2-4afe-d753-256310ccc5c2"
      },
      "source": [
        "df_limpio.isna().sum()"
      ],
      "execution_count": null,
      "outputs": [
        {
          "output_type": "execute_result",
          "data": {
            "text/plain": [
              "created_at                       0\n",
              "created_at_hour                  0\n",
              "retweeted                        0\n",
              "retweet_count                    0\n",
              "favorite_count                   0\n",
              "user_ verified                7809\n",
              "user_id                          0\n",
              "user_name                        0\n",
              "user_location                 2686\n",
              "user_notificacion                0\n",
              "user_followers                   0\n",
              "user_friends                     0\n",
              "user_withheld_in_countries       0\n",
              "mentions_in_tweet                0\n",
              "is_reply                         0\n",
              "source_device                    0\n",
              "finished_tweet                   0\n",
              "status_count                     0\n",
              "hastags_in_tweet                 0\n",
              "sentiment                        0\n",
              "dtype: int64"
            ]
          },
          "metadata": {},
          "execution_count": 243
        }
      ]
    },
    {
      "cell_type": "markdown",
      "metadata": {
        "id": "jdVdvNap4fRd"
      },
      "source": [
        "#### MODELO 1\n",
        "\n",
        "Hemos eliminado las variables que son linealmente dependientes o que tienen relación con otras de la bbdd. Además, hemos comprobado el número de nan que hay en cada variable. Simplemente hemos comprobado los NaN ya que la limpieza de la bbdd será posterior. \n",
        "\n",
        "Observamos que la verificación del usuario es nula en todos los casos, por lo que no creemos que esta info aporte nada al modelo que vamos a realizar. Igualmente, metemos esta variable al primer modelo para comprobar (productivizar un modelo) si el modelo mejora cuando le quitamos los NaN. \n",
        "\n",
        "Además vemos que la variable que especifica la localización tiene un alto número de NaN. Tendremos que estudiar en la limpieza como imputar o como utilizar esta variable. De momento, la metemos al modelo tal y como aparece."
      ]
    },
    {
      "cell_type": "code",
      "metadata": {
        "id": "OjLL_sgW3u_T"
      },
      "source": [
        "from sklearn.model_selection import train_test_split\n",
        "\n",
        "# Dividimos la muestra en train y test\n",
        "\n",
        "X = df_limpio.drop(['sentiment'],axis=1)\n",
        "y = df_limpio['sentiment']\n",
        "\n",
        "X_train, X_test, y_train, y_test = train_test_split(X, y, test_size=0.3, random_state=12345)"
      ],
      "execution_count": null,
      "outputs": []
    },
    {
      "cell_type": "code",
      "metadata": {
        "colab": {
          "base_uri": "https://localhost:8080/"
        },
        "id": "GUvwD5gjEeSu",
        "outputId": "c457f65b-41dd-4b73-95b3-e7789fc72fd8"
      },
      "source": [
        "X_train.dtypes"
      ],
      "execution_count": null,
      "outputs": [
        {
          "output_type": "execute_result",
          "data": {
            "text/plain": [
              "created_at                    category\n",
              "created_at_hour                  int64\n",
              "retweeted                     category\n",
              "retweet_count                    int64\n",
              "favorite_count                   int64\n",
              "user_ verified                 float64\n",
              "user_id                          int64\n",
              "user_name                     category\n",
              "user_location                 category\n",
              "user_notificacion                 bool\n",
              "user_followers                   int64\n",
              "user_friends                     int64\n",
              "user_withheld_in_countries    category\n",
              "mentions_in_tweet                int64\n",
              "is_reply                      category\n",
              "source_device                 category\n",
              "finished_tweet                    bool\n",
              "status_count                     int64\n",
              "hastags_in_tweet                 int64\n",
              "dtype: object"
            ]
          },
          "metadata": {},
          "execution_count": 248
        }
      ]
    },
    {
      "cell_type": "code",
      "metadata": {
        "colab": {
          "base_uri": "https://localhost:8080/"
        },
        "id": "rhlg7uFAElEq",
        "outputId": "b02709ac-df3d-44a4-b282-249da35a45e0"
      },
      "source": [
        "y_train.dtypes"
      ],
      "execution_count": null,
      "outputs": [
        {
          "output_type": "execute_result",
          "data": {
            "text/plain": [
              "CategoricalDtype(categories=['Muy negativo', 'Negativo', 'Neutro', 'Positivo',\n",
              "                  'Muy positivo'],\n",
              "                 ordered=True)"
            ]
          },
          "metadata": {},
          "execution_count": 249
        }
      ]
    },
    {
      "cell_type": "code",
      "metadata": {
        "id": "sheuHoam6npq"
      },
      "source": [
        "# Creamos una función para comparar los resultados en boxplot\n",
        "\n",
        "def boxplots_algorithms(results, names):\n",
        "    \n",
        "    plt.figure(figsize=(8,8))\n",
        "    plt.boxplot(results)\n",
        "    plt.xticks(range(1,len(names)+1), names)\n",
        "    plt.show()"
      ],
      "execution_count": null,
      "outputs": []
    },
    {
      "cell_type": "code",
      "metadata": {
        "id": "DQUtyQZU5MzZ"
      },
      "source": [
        "from sklearn.linear_model import LogisticRegression\n",
        "from sklearn.ensemble import RandomForestClassifier\n",
        "from sklearn.svm import SVC\n",
        "\n",
        "# Modelos que utilizaremos\n",
        "\n",
        "models = []\n",
        "models.append(('LR', LogisticRegression(random_state=12345)))\n",
        "models.append(('RFC', RandomForestClassifier(random_state=12345)))\n",
        "models.append(('SVM', SVC()))"
      ],
      "execution_count": null,
      "outputs": []
    },
    {
      "cell_type": "code",
      "metadata": {
        "id": "-QKlkDqm7bgS"
      },
      "source": [
        "from sklearn.pipeline import make_pipeline, Pipeline\n",
        "\n",
        "from sklearn.metrics import accuracy_score, balanced_accuracy_score, classification_report\n",
        "\n",
        "from sklearn.model_selection import KFold, ShuffleSplit, LeaveOneOut, StratifiedKFold\n",
        "from sklearn.model_selection import cross_val_score, cross_val_predict\n",
        "from sklearn.model_selection import GridSearchCV, RandomizedSearchCV"
      ],
      "execution_count": null,
      "outputs": []
    },
    {
      "cell_type": "markdown",
      "metadata": {
        "id": "3bTaJo0aEBSS"
      },
      "source": [
        "### LOGISTIC REGRESION"
      ]
    },
    {
      "cell_type": "code",
      "metadata": {
        "colab": {
          "base_uri": "https://localhost:8080/",
          "height": 311
        },
        "id": "V_MWpLRr6zng",
        "outputId": "c2548d6e-d9b1-44f3-c227-3a3ad5e27ba4"
      },
      "source": [
        "clf = LogisticRegression(random_state=0).fit(X_train, y_train)"
      ],
      "execution_count": null,
      "outputs": [
        {
          "output_type": "error",
          "ename": "ValueError",
          "evalue": "ignored",
          "traceback": [
            "\u001b[0;31m---------------------------------------------------------------------------\u001b[0m",
            "\u001b[0;31mValueError\u001b[0m                                Traceback (most recent call last)",
            "\u001b[0;32m<ipython-input-261-87e22e32e7b7>\u001b[0m in \u001b[0;36m<module>\u001b[0;34m()\u001b[0m\n\u001b[0;32m----> 1\u001b[0;31m \u001b[0mclf\u001b[0m \u001b[0;34m=\u001b[0m \u001b[0mLogisticRegression\u001b[0m\u001b[0;34m(\u001b[0m\u001b[0mrandom_state\u001b[0m\u001b[0;34m=\u001b[0m\u001b[0;36m0\u001b[0m\u001b[0;34m)\u001b[0m\u001b[0;34m.\u001b[0m\u001b[0mfit\u001b[0m\u001b[0;34m(\u001b[0m\u001b[0mX_train\u001b[0m\u001b[0;34m,\u001b[0m \u001b[0my_train\u001b[0m\u001b[0;34m)\u001b[0m\u001b[0;34m\u001b[0m\u001b[0;34m\u001b[0m\u001b[0m\n\u001b[0m",
            "\u001b[0;32m/usr/local/lib/python3.7/dist-packages/sklearn/linear_model/_logistic.py\u001b[0m in \u001b[0;36mfit\u001b[0;34m(self, X, y, sample_weight)\u001b[0m\n\u001b[1;32m   1525\u001b[0m \u001b[0;34m\u001b[0m\u001b[0m\n\u001b[1;32m   1526\u001b[0m         X, y = check_X_y(X, y, accept_sparse='csr', dtype=_dtype, order=\"C\",\n\u001b[0;32m-> 1527\u001b[0;31m                          accept_large_sparse=solver != 'liblinear')\n\u001b[0m\u001b[1;32m   1528\u001b[0m         \u001b[0mcheck_classification_targets\u001b[0m\u001b[0;34m(\u001b[0m\u001b[0my\u001b[0m\u001b[0;34m)\u001b[0m\u001b[0;34m\u001b[0m\u001b[0;34m\u001b[0m\u001b[0m\n\u001b[1;32m   1529\u001b[0m         \u001b[0mself\u001b[0m\u001b[0;34m.\u001b[0m\u001b[0mclasses_\u001b[0m \u001b[0;34m=\u001b[0m \u001b[0mnp\u001b[0m\u001b[0;34m.\u001b[0m\u001b[0munique\u001b[0m\u001b[0;34m(\u001b[0m\u001b[0my\u001b[0m\u001b[0;34m)\u001b[0m\u001b[0;34m\u001b[0m\u001b[0;34m\u001b[0m\u001b[0m\n",
            "\u001b[0;32m/usr/local/lib/python3.7/dist-packages/sklearn/utils/validation.py\u001b[0m in \u001b[0;36mcheck_X_y\u001b[0;34m(X, y, accept_sparse, accept_large_sparse, dtype, order, copy, force_all_finite, ensure_2d, allow_nd, multi_output, ensure_min_samples, ensure_min_features, y_numeric, warn_on_dtype, estimator)\u001b[0m\n\u001b[1;32m    753\u001b[0m                     \u001b[0mensure_min_features\u001b[0m\u001b[0;34m=\u001b[0m\u001b[0mensure_min_features\u001b[0m\u001b[0;34m,\u001b[0m\u001b[0;34m\u001b[0m\u001b[0;34m\u001b[0m\u001b[0m\n\u001b[1;32m    754\u001b[0m                     \u001b[0mwarn_on_dtype\u001b[0m\u001b[0;34m=\u001b[0m\u001b[0mwarn_on_dtype\u001b[0m\u001b[0;34m,\u001b[0m\u001b[0;34m\u001b[0m\u001b[0;34m\u001b[0m\u001b[0m\n\u001b[0;32m--> 755\u001b[0;31m                     estimator=estimator)\n\u001b[0m\u001b[1;32m    756\u001b[0m     \u001b[0;32mif\u001b[0m \u001b[0mmulti_output\u001b[0m\u001b[0;34m:\u001b[0m\u001b[0;34m\u001b[0m\u001b[0;34m\u001b[0m\u001b[0m\n\u001b[1;32m    757\u001b[0m         y = check_array(y, 'csr', force_all_finite=True, ensure_2d=False,\n",
            "\u001b[0;32m/usr/local/lib/python3.7/dist-packages/sklearn/utils/validation.py\u001b[0m in \u001b[0;36mcheck_array\u001b[0;34m(array, accept_sparse, accept_large_sparse, dtype, order, copy, force_all_finite, ensure_2d, allow_nd, ensure_min_samples, ensure_min_features, warn_on_dtype, estimator)\u001b[0m\n\u001b[1;32m    529\u001b[0m                     \u001b[0marray\u001b[0m \u001b[0;34m=\u001b[0m \u001b[0marray\u001b[0m\u001b[0;34m.\u001b[0m\u001b[0mastype\u001b[0m\u001b[0;34m(\u001b[0m\u001b[0mdtype\u001b[0m\u001b[0;34m,\u001b[0m \u001b[0mcasting\u001b[0m\u001b[0;34m=\u001b[0m\u001b[0;34m\"unsafe\"\u001b[0m\u001b[0;34m,\u001b[0m \u001b[0mcopy\u001b[0m\u001b[0;34m=\u001b[0m\u001b[0;32mFalse\u001b[0m\u001b[0;34m)\u001b[0m\u001b[0;34m\u001b[0m\u001b[0;34m\u001b[0m\u001b[0m\n\u001b[1;32m    530\u001b[0m                 \u001b[0;32melse\u001b[0m\u001b[0;34m:\u001b[0m\u001b[0;34m\u001b[0m\u001b[0;34m\u001b[0m\u001b[0m\n\u001b[0;32m--> 531\u001b[0;31m                     \u001b[0marray\u001b[0m \u001b[0;34m=\u001b[0m \u001b[0mnp\u001b[0m\u001b[0;34m.\u001b[0m\u001b[0masarray\u001b[0m\u001b[0;34m(\u001b[0m\u001b[0marray\u001b[0m\u001b[0;34m,\u001b[0m \u001b[0morder\u001b[0m\u001b[0;34m=\u001b[0m\u001b[0morder\u001b[0m\u001b[0;34m,\u001b[0m \u001b[0mdtype\u001b[0m\u001b[0;34m=\u001b[0m\u001b[0mdtype\u001b[0m\u001b[0;34m)\u001b[0m\u001b[0;34m\u001b[0m\u001b[0;34m\u001b[0m\u001b[0m\n\u001b[0m\u001b[1;32m    532\u001b[0m             \u001b[0;32mexcept\u001b[0m \u001b[0mComplexWarning\u001b[0m\u001b[0;34m:\u001b[0m\u001b[0;34m\u001b[0m\u001b[0;34m\u001b[0m\u001b[0m\n\u001b[1;32m    533\u001b[0m                 raise ValueError(\"Complex data not supported\\n\"\n",
            "\u001b[0;32m/usr/local/lib/python3.7/dist-packages/numpy/core/_asarray.py\u001b[0m in \u001b[0;36masarray\u001b[0;34m(a, dtype, order)\u001b[0m\n\u001b[1;32m     81\u001b[0m \u001b[0;34m\u001b[0m\u001b[0m\n\u001b[1;32m     82\u001b[0m     \"\"\"\n\u001b[0;32m---> 83\u001b[0;31m     \u001b[0;32mreturn\u001b[0m \u001b[0marray\u001b[0m\u001b[0;34m(\u001b[0m\u001b[0ma\u001b[0m\u001b[0;34m,\u001b[0m \u001b[0mdtype\u001b[0m\u001b[0;34m,\u001b[0m \u001b[0mcopy\u001b[0m\u001b[0;34m=\u001b[0m\u001b[0;32mFalse\u001b[0m\u001b[0;34m,\u001b[0m \u001b[0morder\u001b[0m\u001b[0;34m=\u001b[0m\u001b[0morder\u001b[0m\u001b[0;34m)\u001b[0m\u001b[0;34m\u001b[0m\u001b[0;34m\u001b[0m\u001b[0m\n\u001b[0m\u001b[1;32m     84\u001b[0m \u001b[0;34m\u001b[0m\u001b[0m\n\u001b[1;32m     85\u001b[0m \u001b[0;34m\u001b[0m\u001b[0m\n",
            "\u001b[0;32m/usr/local/lib/python3.7/dist-packages/pandas/core/generic.py\u001b[0m in \u001b[0;36m__array__\u001b[0;34m(self, dtype)\u001b[0m\n\u001b[1;32m   1779\u001b[0m \u001b[0;34m\u001b[0m\u001b[0m\n\u001b[1;32m   1780\u001b[0m     \u001b[0;32mdef\u001b[0m \u001b[0m__array__\u001b[0m\u001b[0;34m(\u001b[0m\u001b[0mself\u001b[0m\u001b[0;34m,\u001b[0m \u001b[0mdtype\u001b[0m\u001b[0;34m=\u001b[0m\u001b[0;32mNone\u001b[0m\u001b[0;34m)\u001b[0m \u001b[0;34m->\u001b[0m \u001b[0mnp\u001b[0m\u001b[0;34m.\u001b[0m\u001b[0mndarray\u001b[0m\u001b[0;34m:\u001b[0m\u001b[0;34m\u001b[0m\u001b[0;34m\u001b[0m\u001b[0m\n\u001b[0;32m-> 1781\u001b[0;31m         \u001b[0;32mreturn\u001b[0m \u001b[0mnp\u001b[0m\u001b[0;34m.\u001b[0m\u001b[0masarray\u001b[0m\u001b[0;34m(\u001b[0m\u001b[0mself\u001b[0m\u001b[0;34m.\u001b[0m\u001b[0m_values\u001b[0m\u001b[0;34m,\u001b[0m \u001b[0mdtype\u001b[0m\u001b[0;34m=\u001b[0m\u001b[0mdtype\u001b[0m\u001b[0;34m)\u001b[0m\u001b[0;34m\u001b[0m\u001b[0;34m\u001b[0m\u001b[0m\n\u001b[0m\u001b[1;32m   1782\u001b[0m \u001b[0;34m\u001b[0m\u001b[0m\n\u001b[1;32m   1783\u001b[0m     \u001b[0;32mdef\u001b[0m \u001b[0m__array_wrap__\u001b[0m\u001b[0;34m(\u001b[0m\u001b[0mself\u001b[0m\u001b[0;34m,\u001b[0m \u001b[0mresult\u001b[0m\u001b[0;34m,\u001b[0m \u001b[0mcontext\u001b[0m\u001b[0;34m=\u001b[0m\u001b[0;32mNone\u001b[0m\u001b[0;34m)\u001b[0m\u001b[0;34m:\u001b[0m\u001b[0;34m\u001b[0m\u001b[0;34m\u001b[0m\u001b[0m\n",
            "\u001b[0;32m/usr/local/lib/python3.7/dist-packages/numpy/core/_asarray.py\u001b[0m in \u001b[0;36masarray\u001b[0;34m(a, dtype, order)\u001b[0m\n\u001b[1;32m     81\u001b[0m \u001b[0;34m\u001b[0m\u001b[0m\n\u001b[1;32m     82\u001b[0m     \"\"\"\n\u001b[0;32m---> 83\u001b[0;31m     \u001b[0;32mreturn\u001b[0m \u001b[0marray\u001b[0m\u001b[0;34m(\u001b[0m\u001b[0ma\u001b[0m\u001b[0;34m,\u001b[0m \u001b[0mdtype\u001b[0m\u001b[0;34m,\u001b[0m \u001b[0mcopy\u001b[0m\u001b[0;34m=\u001b[0m\u001b[0;32mFalse\u001b[0m\u001b[0;34m,\u001b[0m \u001b[0morder\u001b[0m\u001b[0;34m=\u001b[0m\u001b[0morder\u001b[0m\u001b[0;34m)\u001b[0m\u001b[0;34m\u001b[0m\u001b[0;34m\u001b[0m\u001b[0m\n\u001b[0m\u001b[1;32m     84\u001b[0m \u001b[0;34m\u001b[0m\u001b[0m\n\u001b[1;32m     85\u001b[0m \u001b[0;34m\u001b[0m\u001b[0m\n",
            "\u001b[0;31mValueError\u001b[0m: could not convert string to float: 'Mon Aug 09'"
          ]
        }
      ]
    },
    {
      "cell_type": "code",
      "metadata": {
        "id": "hk5lfQs9F4XA"
      },
      "source": [
        ""
      ],
      "execution_count": null,
      "outputs": []
    }
  ]
}